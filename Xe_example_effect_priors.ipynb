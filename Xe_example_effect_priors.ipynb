{
 "cells": [
  {
   "cell_type": "code",
   "execution_count": 1,
   "metadata": {},
   "outputs": [
    {
     "name": "stdout",
     "output_type": "stream",
     "text": [
      "calculating effective efficiency for Xe detector done\n",
      "calculating effective efficiency for Ar detector done\n",
      "calculating effective efficiency for Ge detector done\n"
     ]
    }
   ],
   "source": [
    "import DirectDmTargets as dddm"
   ]
  },
  {
   "cell_type": "code",
   "execution_count": 2,
   "metadata": {},
   "outputs": [
    {
     "data": {
      "text/plain": [
       "'0.3.1'"
      ]
     },
     "execution_count": 2,
     "metadata": {},
     "output_type": "execute_result"
    }
   ],
   "source": [
    "import wimprates as wr\n",
    "assert wr.__version__ !='0.2.2'\n",
    "wr.__version__"
   ]
  },
  {
   "cell_type": "code",
   "execution_count": 3,
   "metadata": {},
   "outputs": [],
   "source": [
    "import numpy as np\n",
    "import matplotlib.pyplot as plt"
   ]
  },
  {
   "cell_type": "code",
   "execution_count": 4,
   "metadata": {},
   "outputs": [],
   "source": [
    "import numericalunits as nu"
   ]
  },
  {
   "cell_type": "code",
   "execution_count": 5,
   "metadata": {},
   "outputs": [],
   "source": [
    "from tqdm import tqdm"
   ]
  },
  {
   "cell_type": "code",
   "execution_count": 6,
   "metadata": {},
   "outputs": [],
   "source": [
    "from scipy.integrate import quad as scipy_int"
   ]
  },
  {
   "cell_type": "code",
   "execution_count": 7,
   "metadata": {},
   "outputs": [],
   "source": [
    "import pandas as pd"
   ]
  },
  {
   "cell_type": "code",
   "execution_count": 8,
   "metadata": {},
   "outputs": [],
   "source": [
    "import scipy"
   ]
  },
  {
   "cell_type": "code",
   "execution_count": 9,
   "metadata": {},
   "outputs": [
    {
     "data": {
      "text/plain": [
       "'3.0.0'"
      ]
     },
     "execution_count": 9,
     "metadata": {},
     "output_type": "execute_result"
    }
   ],
   "source": [
    "import emcee\n",
    "emcee.__version__"
   ]
  },
  {
   "cell_type": "code",
   "execution_count": 10,
   "metadata": {},
   "outputs": [],
   "source": [
    "import corner"
   ]
  },
  {
   "cell_type": "code",
   "execution_count": 11,
   "metadata": {},
   "outputs": [],
   "source": [
    "import time"
   ]
  },
  {
   "cell_type": "markdown",
   "metadata": {},
   "source": [
    "# Direct detection of Dark matter using different target materials #\n",
    "\n",
    "Author:\n",
    "\n",
    "Joran Angevaare <j.angevaare@nikef.nl>\n",
    "\n",
    "Date:\n",
    "\n",
    "14 october 2019 \n",
    "\n",
    "## Goal ## \n",
    "\n",
    "- Roughly reproduce <https://journals.aps.org/prd/abstract/10.1103/PhysRevD.83.083505>\n",
    "- Update the results thereof with more recent knowledge of the DM-distribution\n",
    "\n",
    "### Approach ###\n",
    "To achieve these goals, we must first get a decent recoil spectrum, that is flexible enough to have different astrophysical parameters. Further, it must also be flexible enough to be able to allow for different analytic functions to be added to the model. For instance, we must be able to incorporate the $\\rm{SHM}^{++}$ as presented here <https://arxiv.org/abs/1810.11468>.\n",
    "\n",
    "When we have a sufficiently flexible model, we want to add in the detector physics, we should therein incorporate at least the following parameters:\n",
    "- target\n",
    "  - material\n",
    "  - cross-section\n",
    "- threshold\n",
    "- background\n",
    "- cut efficiency  \n",
    "- volume\n",
    "- exposure\n",
    "\n",
    "Finally we should perform the inference"
   ]
  },
  {
   "cell_type": "markdown",
   "metadata": {},
   "source": [
    "# Emcee #\n",
    "<https://emcee.readthedocs.io/en/stable/tutorials/quickstart/>"
   ]
  },
  {
   "cell_type": "markdown",
   "metadata": {},
   "source": [
    "## Distribution of the DM ##\n",
    "First we need to make a DM-rate spectrum"
   ]
  },
  {
   "cell_type": "code",
   "execution_count": 12,
   "metadata": {
    "scrolled": false
   },
   "outputs": [
    {
     "name": "stdout",
     "output_type": "stream",
     "text": [
      "stat_model::initialized for Xe detector. See print(stat_model) for default settings\n"
     ]
    }
   ],
   "source": [
    "stats = dddm.MCMCStatModel(\"Xe\")"
   ]
  },
  {
   "cell_type": "code",
   "execution_count": 13,
   "metadata": {},
   "outputs": [
    {
     "data": {
      "text/html": [
       "<div>\n",
       "<style scoped>\n",
       "    .dataframe tbody tr th:only-of-type {\n",
       "        vertical-align: middle;\n",
       "    }\n",
       "\n",
       "    .dataframe tbody tr th {\n",
       "        vertical-align: top;\n",
       "    }\n",
       "\n",
       "    .dataframe thead th {\n",
       "        text-align: right;\n",
       "    }\n",
       "</style>\n",
       "<table border=\"1\" class=\"dataframe\">\n",
       "  <thead>\n",
       "    <tr style=\"text-align: right;\">\n",
       "      <th></th>\n",
       "      <th>counts</th>\n",
       "      <th>bin_centers</th>\n",
       "      <th>bin_left</th>\n",
       "      <th>bin_right</th>\n",
       "    </tr>\n",
       "  </thead>\n",
       "  <tbody>\n",
       "    <tr>\n",
       "      <th>0</th>\n",
       "      <td>2207.621682</td>\n",
       "      <td>5.0</td>\n",
       "      <td>0.0</td>\n",
       "      <td>10.0</td>\n",
       "    </tr>\n",
       "    <tr>\n",
       "      <th>1</th>\n",
       "      <td>16702.199904</td>\n",
       "      <td>15.0</td>\n",
       "      <td>10.0</td>\n",
       "      <td>20.0</td>\n",
       "    </tr>\n",
       "    <tr>\n",
       "      <th>2</th>\n",
       "      <td>6748.536066</td>\n",
       "      <td>25.0</td>\n",
       "      <td>20.0</td>\n",
       "      <td>30.0</td>\n",
       "    </tr>\n",
       "    <tr>\n",
       "      <th>3</th>\n",
       "      <td>2238.784316</td>\n",
       "      <td>35.0</td>\n",
       "      <td>30.0</td>\n",
       "      <td>40.0</td>\n",
       "    </tr>\n",
       "    <tr>\n",
       "      <th>4</th>\n",
       "      <td>685.145347</td>\n",
       "      <td>45.0</td>\n",
       "      <td>40.0</td>\n",
       "      <td>50.0</td>\n",
       "    </tr>\n",
       "    <tr>\n",
       "      <th>5</th>\n",
       "      <td>190.030946</td>\n",
       "      <td>55.0</td>\n",
       "      <td>50.0</td>\n",
       "      <td>60.0</td>\n",
       "    </tr>\n",
       "    <tr>\n",
       "      <th>6</th>\n",
       "      <td>46.156533</td>\n",
       "      <td>65.0</td>\n",
       "      <td>60.0</td>\n",
       "      <td>70.0</td>\n",
       "    </tr>\n",
       "    <tr>\n",
       "      <th>7</th>\n",
       "      <td>9.171224</td>\n",
       "      <td>75.0</td>\n",
       "      <td>70.0</td>\n",
       "      <td>80.0</td>\n",
       "    </tr>\n",
       "    <tr>\n",
       "      <th>8</th>\n",
       "      <td>1.288080</td>\n",
       "      <td>85.0</td>\n",
       "      <td>80.0</td>\n",
       "      <td>90.0</td>\n",
       "    </tr>\n",
       "    <tr>\n",
       "      <th>9</th>\n",
       "      <td>0.097619</td>\n",
       "      <td>95.0</td>\n",
       "      <td>90.0</td>\n",
       "      <td>100.0</td>\n",
       "    </tr>\n",
       "  </tbody>\n",
       "</table>\n",
       "</div>"
      ],
      "text/plain": [
       "         counts  bin_centers  bin_left  bin_right\n",
       "0   2207.621682          5.0       0.0       10.0\n",
       "1  16702.199904         15.0      10.0       20.0\n",
       "2   6748.536066         25.0      20.0       30.0\n",
       "3   2238.784316         35.0      30.0       40.0\n",
       "4    685.145347         45.0      40.0       50.0\n",
       "5    190.030946         55.0      50.0       60.0\n",
       "6     46.156533         65.0      60.0       70.0\n",
       "7      9.171224         75.0      70.0       80.0\n",
       "8      1.288080         85.0      80.0       90.0\n",
       "9      0.097619         95.0      90.0      100.0"
      ]
     },
     "execution_count": 13,
     "metadata": {},
     "output_type": "execute_result"
    }
   ],
   "source": [
    "stats.check_spectrum()"
   ]
  },
  {
   "cell_type": "code",
   "execution_count": 16,
   "metadata": {},
   "outputs": [
    {
     "data": {
      "text/plain": [
       "{'log_mass': {'range': [0.1, 3],\n",
       "  'prior_type': 'flat',\n",
       "  'param': [0.1, 3],\n",
       "  'dist': <function DirectDmTargets.statistics.get_priors.<locals>.<lambda>(x)>},\n",
       " 'log_cross_section': {'range': [-46, -42],\n",
       "  'prior_type': 'flat',\n",
       "  'param': [-46, -42],\n",
       "  'dist': <function DirectDmTargets.statistics.get_priors.<locals>.<lambda>(x)>},\n",
       " 'density': {'range': [0.001, 0.9],\n",
       "  'prior_type': 'gauss',\n",
       "  'mean': 0.4,\n",
       "  'std': 0.1,\n",
       "  'param': (0.4, 0.1),\n",
       "  'dist': <function DirectDmTargets.statistics.get_priors.<locals>.<lambda>(x)>},\n",
       " 'v_0': {'range': [80, 380],\n",
       "  'prior_type': 'gauss',\n",
       "  'mean': 230,\n",
       "  'std': 30,\n",
       "  'param': (230, 30),\n",
       "  'dist': <function DirectDmTargets.statistics.get_priors.<locals>.<lambda>(x)>},\n",
       " 'v_esc': {'range': [379, 709],\n",
       "  'prior_type': 'gauss',\n",
       "  'mean': 544,\n",
       "  'std': 33,\n",
       "  'param': (544, 33),\n",
       "  'dist': <function DirectDmTargets.statistics.get_priors.<locals>.<lambda>(x)>},\n",
       " 'k': {'range': [0.5, 3.5],\n",
       "  'prior_type': 'flat',\n",
       "  'param': [0.5, 3.5],\n",
       "  'dist': <function DirectDmTargets.statistics.get_priors.<locals>.<lambda>(x)>}}"
      ]
     },
     "execution_count": 16,
     "metadata": {},
     "output_type": "execute_result"
    }
   ],
   "source": [
    "stats.config['prior']"
   ]
  },
  {
   "cell_type": "code",
   "execution_count": 17,
   "metadata": {},
   "outputs": [],
   "source": [
    "def get_SHMpp_priors():\n",
    "    \"\"\"\n",
    "\n",
    "    :return: dictionary of priors, type and values\n",
    "    \"\"\"\n",
    "    priors = \\\n",
    "        {\n",
    "        'log_mass':\n",
    "            {'range': [0.1, 3], 'prior_type': 'flat'},\n",
    "        'log_cross_section':\n",
    "            {'range': [-46, -42], 'prior_type': 'flat'},\n",
    "        'density':\n",
    "            {'range': [0.001, 0.9], 'prior_type': 'gauss', 'mean': 0.55,\n",
    "             'std': 0.17},\n",
    "        'v_0':\n",
    "            {'range': [80, 380], 'prior_type': 'gauss', 'mean': 230,\n",
    "             'std': 3},\n",
    "        'v_esc':\n",
    "            {'range': [379, 709], 'prior_type': 'gauss', 'mean': 528,\n",
    "             'std': 24.5},\n",
    "        'k':\n",
    "            {'range': [0.5, 3.5], 'prior_type': 'flat'}\n",
    "        }\n",
    "    for key in priors.keys():\n",
    "        param = priors[key]\n",
    "        if param['prior_type'] == 'flat':\n",
    "            param['param'] = param['range']\n",
    "            param['dist'] = lambda x: dddm.flat_prior(x)\n",
    "        elif param['prior_type'] == 'gauss':\n",
    "            param['param'] = param['mean'], param['std']\n",
    "            param['dist'] = lambda x: dddm.gaus_prior(x)\n",
    "    return priors"
   ]
  },
  {
   "cell_type": "code",
   "execution_count": 20,
   "metadata": {},
   "outputs": [],
   "source": [
    "stats.config['prior'] = get_SHMpp_priors()"
   ]
  },
  {
   "cell_type": "code",
   "execution_count": 21,
   "metadata": {},
   "outputs": [
    {
     "data": {
      "text/plain": [
       "{'log_mass': {'range': [0.1, 3],\n",
       "  'prior_type': 'flat',\n",
       "  'param': [0.1, 3],\n",
       "  'dist': <function __main__.get_SHMpp_priors.<locals>.<lambda>(x)>},\n",
       " 'log_cross_section': {'range': [-46, -42],\n",
       "  'prior_type': 'flat',\n",
       "  'param': [-46, -42],\n",
       "  'dist': <function __main__.get_SHMpp_priors.<locals>.<lambda>(x)>},\n",
       " 'density': {'range': [0.001, 0.9],\n",
       "  'prior_type': 'gauss',\n",
       "  'mean': 0.55,\n",
       "  'std': 0.17,\n",
       "  'param': (0.55, 0.17),\n",
       "  'dist': <function __main__.get_SHMpp_priors.<locals>.<lambda>(x)>},\n",
       " 'v_0': {'range': [80, 380],\n",
       "  'prior_type': 'gauss',\n",
       "  'mean': 230,\n",
       "  'std': 3,\n",
       "  'param': (230, 3),\n",
       "  'dist': <function __main__.get_SHMpp_priors.<locals>.<lambda>(x)>},\n",
       " 'v_esc': {'range': [379, 709],\n",
       "  'prior_type': 'gauss',\n",
       "  'mean': 528,\n",
       "  'std': 24.5,\n",
       "  'param': (528, 24.5),\n",
       "  'dist': <function __main__.get_SHMpp_priors.<locals>.<lambda>(x)>},\n",
       " 'k': {'range': [0.5, 3.5],\n",
       "  'prior_type': 'flat',\n",
       "  'param': [0.5, 3.5],\n",
       "  'dist': <function __main__.get_SHMpp_priors.<locals>.<lambda>(x)>}}"
      ]
     },
     "execution_count": 21,
     "metadata": {},
     "output_type": "execute_result"
    }
   ],
   "source": [
    "stats.config['prior']"
   ]
  },
  {
   "cell_type": "code",
   "execution_count": 41,
   "metadata": {},
   "outputs": [],
   "source": [
    "for key in ['v_0', 'v_esc', 'rho_0']:\n",
    "    if key == 'rho_0':\n",
    "        key_prior = 'density'\n",
    "    else:\n",
    "        key_prior = key\n",
    "    stats.config[key] = stats.config['prior'][key_prior]['mean']"
   ]
  },
  {
   "cell_type": "code",
   "execution_count": 22,
   "metadata": {},
   "outputs": [
    {
     "data": {
      "text/plain": [
       "{'sampler': False, 'did_run': False, 'pos': False}"
      ]
     },
     "execution_count": 22,
     "metadata": {},
     "output_type": "execute_result"
    }
   ],
   "source": [
    "stats.nwalkers = 250\n",
    "stats.nsteps = 250\n",
    "stats.log"
   ]
  },
  {
   "cell_type": "code",
   "execution_count": 23,
   "metadata": {},
   "outputs": [
    {
     "name": "stderr",
     "output_type": "stream",
     "text": [
      "C:\\Users\\Joran\\programming\\Anaconda3\\envs\\DD_DM\\lib\\site-packages\\emcee\\ensemble.py:258: RuntimeWarning: Initial state is not linearly independent and it will not allow a full exploration of parameter space\n",
      "  category=RuntimeWarning,\n",
      "100%|██████████████████████████████████████████████████████████████████████████████| 250/250 [1:50:33<00:00, 26.53s/it]\n"
     ]
    }
   ],
   "source": [
    "start = time.time()\n",
    "stats.run_emcee()\n",
    "end = time.time()"
   ]
  },
  {
   "cell_type": "code",
   "execution_count": 24,
   "metadata": {},
   "outputs": [
    {
     "data": {
      "text/plain": [
       "6653.521779298782"
      ]
     },
     "execution_count": 24,
     "metadata": {},
     "output_type": "execute_result"
    }
   ],
   "source": [
    "end-start"
   ]
  },
  {
   "cell_type": "code",
   "execution_count": 25,
   "metadata": {},
   "outputs": [],
   "source": [
    "assert stats.log['did_run']"
   ]
  },
  {
   "cell_type": "code",
   "execution_count": 26,
   "metadata": {},
   "outputs": [
    {
     "data": {
      "image/png": "[encoded data removed]",
      "text/plain": [
       "<Figure size 720x504 with 2 Axes>"
      ]
     },
     "metadata": {
      "needs_background": "light"
     },
     "output_type": "display_data"
    }
   ],
   "source": [
    "stats.show_walkers()"
   ]
  },
  {
   "cell_type": "code",
   "execution_count": 27,
   "metadata": {},
   "outputs": [
    {
     "name": "stdout",
     "output_type": "stream",
     "text": [
      "Removing a fraction of 0.2 of the samples\n",
      "(3250, 2)\n"
     ]
    },
    {
     "data": {
      "image/png": "[encoded data removed]",
      "text/plain": [
       "<Figure size 396x396 with 4 Axes>"
      ]
     },
     "metadata": {
      "needs_background": "light"
     },
     "output_type": "display_data"
    }
   ],
   "source": [
    "stats.show_corner()"
   ]
  },
  {
   "cell_type": "code",
   "execution_count": null,
   "metadata": {},
   "outputs": [],
   "source": []
  },
  {
   "cell_type": "markdown",
   "metadata": {},
   "source": [
    "## Full dimensionality ##"
   ]
  },
  {
   "cell_type": "code",
   "execution_count": 42,
   "metadata": {},
   "outputs": [
    {
     "name": "stdout",
     "output_type": "stream",
     "text": [
      "stat_model::initialized for Xe detector. See print(stat_model) for default settings\n"
     ]
    }
   ],
   "source": [
    "stats_full = dddm.MCMCStatModel(\"Xe\")"
   ]
  },
  {
   "cell_type": "code",
   "execution_count": 43,
   "metadata": {},
   "outputs": [
    {
     "data": {
      "text/plain": [
       "{'log_mass': {'range': [0.1, 3],\n",
       "  'prior_type': 'flat',\n",
       "  'param': [0.1, 3],\n",
       "  'dist': <function __main__.get_SHMpp_priors.<locals>.<lambda>(x)>},\n",
       " 'log_cross_section': {'range': [-46, -42],\n",
       "  'prior_type': 'flat',\n",
       "  'param': [-46, -42],\n",
       "  'dist': <function __main__.get_SHMpp_priors.<locals>.<lambda>(x)>},\n",
       " 'density': {'range': [0.001, 0.9],\n",
       "  'prior_type': 'gauss',\n",
       "  'mean': 0.55,\n",
       "  'std': 0.17,\n",
       "  'param': (0.55, 0.17),\n",
       "  'dist': <function __main__.get_SHMpp_priors.<locals>.<lambda>(x)>},\n",
       " 'v_0': {'range': [80, 380],\n",
       "  'prior_type': 'gauss',\n",
       "  'mean': 230,\n",
       "  'std': 3,\n",
       "  'param': (230, 3),\n",
       "  'dist': <function __main__.get_SHMpp_priors.<locals>.<lambda>(x)>},\n",
       " 'v_esc': {'range': [379, 709],\n",
       "  'prior_type': 'gauss',\n",
       "  'mean': 528,\n",
       "  'std': 24.5,\n",
       "  'param': (528, 24.5),\n",
       "  'dist': <function __main__.get_SHMpp_priors.<locals>.<lambda>(x)>},\n",
       " 'k': {'range': [0.5, 3.5],\n",
       "  'prior_type': 'flat',\n",
       "  'param': [0.5, 3.5],\n",
       "  'dist': <function __main__.get_SHMpp_priors.<locals>.<lambda>(x)>}}"
      ]
     },
     "execution_count": 43,
     "metadata": {},
     "output_type": "execute_result"
    }
   ],
   "source": [
    "stats_full.config['prior'] = get_SHMpp_priors()\n",
    "stats_full.config['prior']"
   ]
  },
  {
   "cell_type": "code",
   "execution_count": 44,
   "metadata": {},
   "outputs": [
    {
     "data": {
      "text/plain": [
       "{'sampler': False, 'did_run': False, 'pos': False}"
      ]
     },
     "execution_count": 44,
     "metadata": {},
     "output_type": "execute_result"
    }
   ],
   "source": [
    "stats_full.nwalkers = stats.nwalkers\n",
    "stats_full.nsteps = stats.nsteps * 2\n",
    "stats_full.log"
   ]
  },
  {
   "cell_type": "code",
   "execution_count": 45,
   "metadata": {},
   "outputs": [
    {
     "data": {
      "text/plain": [
       "{'sampler': False, 'did_run': False, 'pos': False}"
      ]
     },
     "execution_count": 45,
     "metadata": {},
     "output_type": "execute_result"
    }
   ],
   "source": [
    "stats_full.log"
   ]
  },
  {
   "cell_type": "code",
   "execution_count": 46,
   "metadata": {},
   "outputs": [],
   "source": [
    "# for key in stats_full.log.keys():\n",
    "#     stats_full.log[key] = False\n"
   ]
  },
  {
   "cell_type": "code",
   "execution_count": 47,
   "metadata": {},
   "outputs": [],
   "source": [
    "stats_full.fit_parameters = stats_full.known_parameters"
   ]
  },
  {
   "cell_type": "code",
   "execution_count": null,
   "metadata": {},
   "outputs": [
    {
     "name": "stderr",
     "output_type": "stream",
     "text": [
      "  4%|███▏                                                                           | 20/500 [13:43<5:37:02, 42.13s/it]"
     ]
    }
   ],
   "source": [
    "start = time.time()\n",
    "stats_full.run_emcee()\n",
    "end = time.time()"
   ]
  },
  {
   "cell_type": "code",
   "execution_count": null,
   "metadata": {},
   "outputs": [],
   "source": [
    "end-start"
   ]
  },
  {
   "cell_type": "code",
   "execution_count": null,
   "metadata": {},
   "outputs": [],
   "source": [
    "assert stats.log['did_run']"
   ]
  },
  {
   "cell_type": "code",
   "execution_count": null,
   "metadata": {},
   "outputs": [],
   "source": [
    "stats_full.show_walkers()"
   ]
  },
  {
   "cell_type": "code",
   "execution_count": null,
   "metadata": {},
   "outputs": [],
   "source": [
    "stats_full.show_corner()"
   ]
  },
  {
   "cell_type": "code",
   "execution_count": null,
   "metadata": {},
   "outputs": [],
   "source": []
  },
  {
   "cell_type": "code",
   "execution_count": null,
   "metadata": {},
   "outputs": [],
   "source": []
  }
 ],
 "metadata": {
  "kernelspec": {
   "display_name": "Python 3",
   "language": "python",
   "name": "python3"
  },
  "language_info": {
   "codemirror_mode": {
    "name": "ipython",
    "version": 3
   },
   "file_extension": ".py",
   "mimetype": "text/x-python",
   "name": "python",
   "nbconvert_exporter": "python",
   "pygments_lexer": "ipython3",
   "version": "3.7.4"
  }
 },
 "nbformat": 4,
 "nbformat_minor": 2
}
