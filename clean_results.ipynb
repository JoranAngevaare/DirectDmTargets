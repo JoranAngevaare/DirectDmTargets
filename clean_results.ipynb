{
 "cells": [
  {
   "cell_type": "code",
   "execution_count": 13,
   "metadata": {},
   "outputs": [
    {
     "name": "stdout",
     "output_type": "stream",
     "text": [
      "rm -r results/2nd_test2\n",
      "rm -r results/2nd_test3\n",
      "rm -r results/2nd_test31\n",
      "rm -r results/2nd_test32\n",
      "rm -r results/2nd_test34\n",
      "rm -r results/2nd_test35\n",
      "rm -r results/2nd_test37\n",
      "rm -r results/2nd_test38\n",
      "rm -r results/2nd_test39\n",
      "rm -r results/2nd_test40\n",
      "rm -r results/2nd_test41\n",
      "rm -r results/2nd_test44\n",
      "rm -r results/2nd_test45\n",
      "rm -r results/2nd_test46\n",
      "rm -r results/2nd_test47\n",
      "rm -r results/2nd_test48\n",
      "rm -r results/2nd_test49\n",
      "rm -r results/2nd_test50\n",
      "rm -r results/2nd_test52\n",
      "rm -r results/2nd_test53\n",
      "rm -r results/2nd_test54\n",
      "rm -r results/2nd_test55\n",
      "rm -r results/2nd_test58\n",
      "rm -r results/2nd_test59\n",
      "rm -r results/2nd_test60\n",
      "rm -r results/2nd_test61\n",
      "rm -r results/2nd_test62\n",
      "rm -r results/2nd_test63\n",
      "rm -r results/2nd_test66\n",
      "rm -r results/2nd_test67\n",
      "rm -r results/2nd_test68\n",
      "rm -r results/2nd_test69\n",
      "rm -r results/2nd_test70\n",
      "rm -r results/2nd_test71\n"
     ]
    }
   ],
   "source": [
    "for index in [2, 3, 31, 32, 34, 35, 37, 38, 39, 40, 41, 44, 45, 46, 47, 48, 49, 50, 52, 53, 54, 55, 58, 59, 60, 61, 62, 63, 66, 67, 68, 69, 70, 71]:\n",
    "# for index in range(143, 146):\n",
    "    cmd = f\"rm -r results/2nd_test{index}\"\n",
    "    print(cmd)\n",
    "    !$cmd"
   ]
  },
  {
   "cell_type": "code",
   "execution_count": null,
   "metadata": {},
   "outputs": [],
   "source": []
  }
 ],
 "metadata": {
  "kernelspec": {
   "display_name": "Python 3",
   "language": "python",
   "name": "python3"
  },
  "language_info": {
   "codemirror_mode": {
    "name": "ipython",
    "version": 3
   },
   "file_extension": ".py",
   "mimetype": "text/x-python",
   "name": "python",
   "nbconvert_exporter": "python",
   "pygments_lexer": "ipython3",
   "version": "3.7.4"
  }
 },
 "nbformat": 4,
 "nbformat_minor": 2
}
