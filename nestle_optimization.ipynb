{
 "cells": [
  {
   "cell_type": "code",
   "execution_count": 14,
   "metadata": {},
   "outputs": [],
   "source": [
    "from DirectDmTargets import *"
   ]
  },
  {
   "cell_type": "code",
   "execution_count": 3,
   "metadata": {},
   "outputs": [
    {
     "data": {
      "text/plain": [
       "'0.3.1'"
      ]
     },
     "execution_count": 3,
     "metadata": {},
     "output_type": "execute_result"
    }
   ],
   "source": [
    "import wimprates as wr\n",
    "assert wr.__version__ !='0.2.2'\n",
    "wr.__version__"
   ]
  },
  {
   "cell_type": "code",
   "execution_count": 4,
   "metadata": {},
   "outputs": [],
   "source": [
    "import numpy as np\n",
    "import matplotlib.pyplot as plt"
   ]
  },
  {
   "cell_type": "code",
   "execution_count": 5,
   "metadata": {},
   "outputs": [],
   "source": [
    "import numericalunits as nu"
   ]
  },
  {
   "cell_type": "code",
   "execution_count": 6,
   "metadata": {},
   "outputs": [],
   "source": [
    "from tqdm import tqdm"
   ]
  },
  {
   "cell_type": "code",
   "execution_count": 7,
   "metadata": {},
   "outputs": [],
   "source": [
    "from scipy.integrate import quad as scipy_int"
   ]
  },
  {
   "cell_type": "code",
   "execution_count": 8,
   "metadata": {},
   "outputs": [],
   "source": [
    "import pandas as pd"
   ]
  },
  {
   "cell_type": "code",
   "execution_count": 9,
   "metadata": {},
   "outputs": [],
   "source": [
    "import scipy"
   ]
  },
  {
   "cell_type": "code",
   "execution_count": 10,
   "metadata": {},
   "outputs": [
    {
     "data": {
      "text/plain": [
       "'3.0.0'"
      ]
     },
     "execution_count": 10,
     "metadata": {},
     "output_type": "execute_result"
    }
   ],
   "source": [
    "import emcee\n",
    "emcee.__version__"
   ]
  },
  {
   "cell_type": "code",
   "execution_count": 11,
   "metadata": {},
   "outputs": [],
   "source": [
    "import corner"
   ]
  },
  {
   "cell_type": "code",
   "execution_count": 12,
   "metadata": {},
   "outputs": [],
   "source": [
    "import time"
   ]
  },
  {
   "cell_type": "code",
   "execution_count": 1,
   "metadata": {},
   "outputs": [],
   "source": [
    "import nestle"
   ]
  },
  {
   "cell_type": "markdown",
   "metadata": {},
   "source": [
    "# Direct detection of Dark matter using different target materials #\n",
    "\n",
    "Author:\n",
    "\n",
    "Joran Angevaare <j.angevaare@nikef.nl>\n",
    "\n",
    "Date:\n",
    "\n",
    "14 october 2019 \n",
    "\n",
    "## Goal ## \n",
    "\n",
    "- Roughly reproduce <https://journals.aps.org/prd/abstract/10.1103/PhysRevD.83.083505>\n",
    "- Update the results thereof with more recent knowledge of the DM-distribution\n",
    "\n",
    "### Approach ###\n",
    "To achieve these goals, we must first get a decent recoil spectrum, that is flexible enough to have different astrophysical parameters. Further, it must also be flexible enough to be able to allow for different analytic functions to be added to the model. For instance, we must be able to incorporate the $\\rm{SHM}^{++}$ as presented here <https://arxiv.org/abs/1810.11468>.\n",
    "\n",
    "When we have a sufficiently flexible model, we want to add in the detector physics, we should therein incorporate at least the following parameters:\n",
    "- target\n",
    "  - material\n",
    "  - cross-section\n",
    "- threshold\n",
    "- background\n",
    "- cut efficiency  \n",
    "- volume\n",
    "- exposure\n",
    "\n",
    "Finally we should perform the inference"
   ]
  },
  {
   "cell_type": "markdown",
   "metadata": {},
   "source": [
    "# Emcee #\n",
    "<https://emcee.readthedocs.io/en/stable/tutorials/quickstart/>"
   ]
  },
  {
   "cell_type": "code",
   "execution_count": 28,
   "metadata": {},
   "outputs": [
    {
     "data": {
      "image/png": "[encoded data removed]",
      "text/plain": [
       "<Figure size 648x432 with 1 Axes>"
      ]
     },
     "metadata": {
      "needs_background": "light"
     },
     "output_type": "display_data"
    }
   ],
   "source": [
    "from scipy.special import ndtri\n",
    "\n",
    "def prior_transform(theta):\n",
    "    \"\"\"\n",
    "    https://mattpitkin.github.io/samplers-demo/pages/samplers-samplers-everywhere/#Nested-Sampling\n",
    "    A function defining the tranform between the parameterisation in the unit hypercube\n",
    "    to the true parameters.\n",
    "\n",
    "    Args:\n",
    "        theta (tuple): a tuple containing the parameters.\n",
    "        \n",
    "    Returns:\n",
    "        tuple: a new tuple or array with the transformed parameters.\n",
    "    \"\"\"\n",
    "\n",
    "    mprime, cprime = theta # unpack the parameters (in their unit hypercube form)\n",
    "\n",
    "    cmin = -10.  # lower bound on uniform prior on c\n",
    "    cmax = 10.   # upper bound on uniform prior on c\n",
    "\n",
    "    mmu = 0.     # mean of Gaussian prior on m\n",
    "    msigma = 10. # standard deviation of Gaussian prior on m\n",
    "\n",
    "    m = mmu + msigma*ndtri(mprime) # convert back to m\n",
    "    c = cprime*(cmax-cmin) + cmin  # convert back to c\n",
    "\n",
    "    return (m, c)\n",
    "\n",
    "# set the natural logarithm of 2pi, so that it doesn't have to be recalculated\n",
    "LN2PI = np.log(2.*np.pi)\n",
    "LNSIGMA = np.log(0.5) # natural log of the data noise standard deviation\n",
    "M = 100\n",
    "\n",
    "# set the true values of the model parameters for creating the data\n",
    "m = 3.5 # gradient of the line\n",
    "c = 1.2 # y-intercept of the line\n",
    "\n",
    "# set the \"predictor variable\"/abscissa\n",
    "M = 100\n",
    "xmin = 0.\n",
    "xmax = 10.\n",
    "stepsize = (xmax-xmin)/M\n",
    "x = np.arange(xmin, xmax, stepsize)\n",
    "\n",
    "# define the model function\n",
    "def straight_line(x, m, c):\n",
    "    \"\"\"\n",
    "    A straight line model: y = m*x + c\n",
    "    \n",
    "    Args:\n",
    "        x (list): a set of abscissa points at which the model is defined\n",
    "        m (float): the gradient of the line\n",
    "        c (float): the y-intercept of the line\n",
    "    \"\"\"\n",
    "\n",
    "    return m*x + c\n",
    "\n",
    "# seed our random number generator, so we have reproducible data\n",
    "np.random.seed(sum([ord(v) for v in 'samplers']))\n",
    "\n",
    "# create the data - the model plus Gaussian noise\n",
    "sigma = 0.5 # standard deviation of the noise\n",
    "data = straight_line(x, m, c) + sigma*np.random.randn(M)\n",
    "\n",
    "# plot the data\n",
    "# mpl.rcParams.update(rcparams) # update plot parameters\n",
    "fig, ax = plt.subplots(figsize=(9,6))\n",
    "ax.plot(x, data, 'bo', alpha=0.5, label='data')\n",
    "ax.plot(x, straight_line(x, m, c), 'r-', lw=2, label='model')\n",
    "ax.legend()\n",
    "ax.set_xlim([xmin, xmax])\n",
    "ax.set_xlabel(r'$x$');\n",
    "\n",
    "def loglikelihood_nestle(theta):\n",
    "    \"\"\"\n",
    "    The log-likelihood function.\n",
    "    \"\"\"\n",
    "\n",
    "    m, c = theta # unpack the parameters\n",
    "\n",
    "    # normalisation\n",
    "    norm = -0.5*M*LN2PI - M*LNSIGMA\n",
    "\n",
    "    # chi-squared (data, sigma and x are global variables defined early on in this notebook)\n",
    "    chisq = np.sum(((data-straight_line(x, m, c))/sigma)**2)\n",
    "\n",
    "    return norm - 0.5*chisq"
   ]
  },
  {
   "cell_type": "code",
   "execution_count": 29,
   "metadata": {},
   "outputs": [
    {
     "name": "stdout",
     "output_type": "stream",
     "text": [
      "Time taken to run 'Nestle' is 5.278634548187256 seconds\n"
     ]
    }
   ],
   "source": [
    "nlive = 1024     # number of live points\n",
    "method = 'multi' # use MutliNest algorithm\n",
    "ndims = 2        # two parameters\n",
    "tol = 0.1        # the stopping criterion\n",
    "\n",
    "t0 = time.time()\n",
    "res = nestle.sample(loglikelihood_nestle, \n",
    "                    prior_transform, ndims, \n",
    "                    method=method, npoints=nlive, dlogz=tol)\n",
    "t1 = time.time()\n",
    "\n",
    "timenestle = (t1-t0)\n",
    "\n",
    "print(\"Time taken to run 'Nestle' is {} seconds\".format(timenestle))"
   ]
  },
  {
   "cell_type": "code",
   "execution_count": 31,
   "metadata": {},
   "outputs": [
    {
     "name": "stdout",
     "output_type": "stream",
     "text": [
      "log(Z) = -87.7909519644676 ± 0.10111246771074903\n"
     ]
    }
   ],
   "source": [
    "logZnestle = res.logz                         # value of logZ\n",
    "infogainnestle = res.h                        # value of the information gain in nats\n",
    "logZerrnestle = np.sqrt(infogainnestle/nlive) # estimate of the statistcal uncertainty on logZ\n",
    "\n",
    "print('log(Z) = {} \\u00B1 {}'.format(logZnestle, logZerrnestle))\n",
    "print(res.summary())\n",
    "\n",
    "# re-scale weights to have a maximum of one\n",
    "nweights = res.weights/np.max(res.weights)\n",
    "\n",
    "# get the probability of keeping a sample from the weights\n",
    "keepidx = np.where(np.random.rand(len(nweights)) < nweights)[0]\n",
    "\n",
    "# get the posterior samples\n",
    "samples_nestle = res.samples[keepidx,:]\n",
    "resdict ={}\n",
    "resdict['mnestle_mu'] = np.mean(samples_nestle[:,0])      # mean of m samples\n",
    "resdict['mnestle_sig'] = np.std(samples_nestle[:,0])      # standard deviation of m samples\n",
    "resdict['cnestle_mu'] = np.mean(samples_nestle[:,1])      # mean of c samples\n",
    "resdict['cnestle_sig'] = np.std(samples_nestle[:,1])      # standard deviation of c samples\n",
    "resdict['ccnestle'] = np.corrcoef(samples_nestle.T)[0,1]  # correlation coefficient between parameters\n",
    "resdict['nestle_npos'] = len(samples_nestle)              # number of posterior samples\n",
    "resdict['nestle_time'] = timenestle                       # run time\n",
    "resdict['nestle_logZ'] = logZnestle                       # log marginalised likelihood\n",
    "resdict['nestle_logZerr'] = logZerrnestle                 # uncertainty on log(Z)\n",
    "\n",
    "print('Number of posterior samples is {}'.format(len(samples_nestle)))"
   ]
  },
  {
   "cell_type": "code",
   "execution_count": 32,
   "metadata": {},
   "outputs": [
    {
     "name": "stdout",
     "output_type": "stream",
     "text": [
      "niter: 14157\n",
      "ncall: 22994\n",
      "nsamples: 15181\n",
      "logz: -87.791 +/-  0.101\n",
      "h: 10.469\n"
     ]
    }
   ],
   "source": [
    "print(res.summary())"
   ]
  },
  {
   "cell_type": "code",
   "execution_count": 34,
   "metadata": {},
   "outputs": [
    {
     "name": "stdout",
     "output_type": "stream",
     "text": [
      "Number of posterior samples is 2811\n"
     ]
    }
   ],
   "source": [
    "# re-scale weights to have a maximum of one\n",
    "nweights = res.weights/np.max(res.weights)\n",
    "\n",
    "# get the probability of keeping a sample from the weights\n",
    "keepidx = np.where(np.random.rand(len(nweights)) < nweights)[0]\n",
    "\n",
    "# get the posterior samples\n",
    "samples_nestle = res.samples[keepidx,:]\n",
    "resdict ={}\n",
    "resdict['mnestle_mu'] = np.mean(samples_nestle[:,0])      # mean of m samples\n",
    "resdict['mnestle_sig'] = np.std(samples_nestle[:,0])      # standard deviation of m samples\n",
    "resdict['cnestle_mu'] = np.mean(samples_nestle[:,1])      # mean of c samples\n",
    "resdict['cnestle_sig'] = np.std(samples_nestle[:,1])      # standard deviation of c samples\n",
    "resdict['ccnestle'] = np.corrcoef(samples_nestle.T)[0,1]  # correlation coefficient between parameters\n",
    "resdict['nestle_npos'] = len(samples_nestle)              # number of posterior samples\n",
    "resdict['nestle_time'] = timenestle                       # run time\n",
    "resdict['nestle_logZ'] = logZnestle                       # log marginalised likelihood\n",
    "resdict['nestle_logZerr'] = logZerrnestle                 # uncertainty on log(Z)\n",
    "\n",
    "print('Number of posterior samples is {}'.format(len(samples_nestle)))"
   ]
  },
  {
   "cell_type": "code",
   "execution_count": 37,
   "metadata": {},
   "outputs": [
    {
     "data": {
      "image/png": "[encoded data removed]",
      "text/plain": [
       "<Figure size 396x396 with 4 Axes>"
      ]
     },
     "metadata": {
      "needs_background": "light"
     },
     "output_type": "display_data"
    }
   ],
   "source": [
    "from scipy.stats import gaussian_kde\n",
    "def plotposts(samples, **kwargs):\n",
    "    \"\"\"\n",
    "    Function to plot posteriors using corner.py and scipy's gaussian KDE function.\n",
    "    \"\"\"\n",
    "    if \"truths\" not in kwargs:\n",
    "        kwargs[\"truths\"] = [m, c]\n",
    "    \n",
    "    fig = corner.corner(samples, labels=[r'$m$', r'$c$'], hist_kwargs={'density': True}, **kwargs)\n",
    "\n",
    "    # plot KDE smoothed version of distributions\n",
    "    for axidx, samps in zip([0, 3], samples.T):\n",
    "        kde = gaussian_kde(samps)\n",
    "        xvals = fig.axes[axidx].get_xlim()\n",
    "        xvals = np.linspace(xvals[0], xvals[1], 100)\n",
    "        fig.axes[axidx].plot(xvals, kde(xvals), color='firebrick')\n",
    "plotposts(samples_nestle)"
   ]
  },
  {
   "cell_type": "code",
   "execution_count": null,
   "metadata": {},
   "outputs": [],
   "source": []
  },
  {
   "cell_type": "code",
   "execution_count": null,
   "metadata": {},
   "outputs": [],
   "source": []
  },
  {
   "cell_type": "markdown",
   "metadata": {},
   "source": [
    "## Distribution of the DM ##\n",
    "First we need to make a DM-rate spectrum"
   ]
  },
  {
   "cell_type": "code",
   "execution_count": 242,
   "metadata": {},
   "outputs": [
    {
     "name": "stdout",
     "output_type": "stream",
     "text": [
      "stat_model::initialized for Xe detector. See print(stat_model) for default settings\n"
     ]
    }
   ],
   "source": [
    "class NestleStatModel(StatModel):\n",
    "    known_parameters = ['log_mass',\n",
    "                        'log_cross_section',\n",
    "                        'v_0',\n",
    "                        'v_esc',\n",
    "                        'density']\n",
    "\n",
    "    def __init__(self, *args):\n",
    "        StatModel.__init__(self, *args)\n",
    "        self.nwalkers = 50\n",
    "        self.nsteps = 100\n",
    "        self.fit_parameters = ['log_mass', 'log_cross_section']\n",
    "        self.sampler = None\n",
    "        self.pos = None\n",
    "        self.log = {'sampler': False, 'did_run': False, 'pos': False}\n",
    "        self.remove_frac = 0.2\n",
    "        self.thin = 15\n",
    "        self.config['start'] = datetime.datetime.now()  # .date().isoformat()\n",
    "        self.config['notes'] = \"default\"\n",
    "\n",
    "    def set_fit_parameters(self, params):\n",
    "        if not type(params) == list:\n",
    "            raise TypeError(\"Set the parameter names in a list of strings\")\n",
    "        for param in params:\n",
    "            if param not in self.known_parameters:\n",
    "                raise NotImplementedError(f\"{param} does not match any of the \"\n",
    "                                          f\"known parameters try any of \"\n",
    "                                          f\"{self.known_parameters}\")\n",
    "        if not params == self.known_parameters[:len(params)]:\n",
    "            raise NameError(f\"The parameters are not input in the correct order\"\n",
    "                            f\". Please insert \"\n",
    "                            f\"{self.known_parameters[:len(params)]} rather than\"\n",
    "                            f\" {params}.\")\n",
    "        self.fit_parameters = params\n",
    "\n",
    "    def _set_pos(self, use_pos=None):\n",
    "        self.log['pos'] = True\n",
    "        if use_pos is not None:\n",
    "            self.pos = use_pos\n",
    "            return\n",
    "        pos = np.hstack([\n",
    "            [[np.clip(self.config['prior'][param]['dist'](\n",
    "                self.config['prior'][param]['param']),\n",
    "                1.25 * self.config['prior'][param]['range'][0],\n",
    "                0.75 * self.config['prior'][param]['range'][-1]\n",
    "            ) for i in range(self.nwalkers)]\n",
    "                for param in self.fit_parameters]\n",
    "        ])\n",
    "        for i, p in enumerate(self.fit_parameters):\n",
    "            if 'log' in p:\n",
    "                pos[i] = 10 ** pos[i]\n",
    "        #     # #TODO workaround\n",
    "        # if 'cross' in p:\n",
    "        #     pos[i] = 1e-45 + 1e-45 * np.random.rand(self.nwalkers)\n",
    "        # if 'mass' in p:\n",
    "        #     pos[i] = 50 + 50 * np.random.rand(self.nwalkers)\n",
    "        # self.pos = pos.T\n",
    "        return pos.T\n",
    "\n",
    "    def set_pos(self, use_pos=None):\n",
    "        self.log['pos'] = True\n",
    "        if use_pos is not None:\n",
    "            print(\"using specified start position\")\n",
    "            self.pos = use_pos\n",
    "            return\n",
    "        nparameters = len(self.fit_parameters)\n",
    "        keys = ['mw', 'sigma', 'v_0', 'v_esc', 'rho_0'][:nparameters]\n",
    "        vals = [self.config.get(key) for key in keys]\n",
    "\n",
    "        ranges = [self.config['prior'][self.fit_parameters[i]]['range']\n",
    "                  for i in range(nparameters)]\n",
    "        for i, param in enumerate(self.fit_parameters):\n",
    "            if 'log' in param:\n",
    "                ranges[i] = [10 ** this_range for this_range in ranges[i]]\n",
    "#         pos = np.hstack([\n",
    "#             np.clip(\n",
    "#                 #                 val + 0.001 * val * np.random.randn(self.nwalkers, 1),\n",
    "#                 val + 0.25 * val * np.random.randn(self.nwalkers, 1),\n",
    "#                 #                 val + 0.5 * val * np.abs(\n",
    "#                 #                     np.random.randn(self.nwalkers, 1)),\n",
    "#                 1. * ranges[i][0],\n",
    "#                 1. * ranges[i][-1])\n",
    "#             for i, val in enumerate(vals)])\n",
    "        # Change\n",
    "        pos = []\n",
    "        for i, key in enumerate(keys):\n",
    "            val = self.config.get(key)\n",
    "            a, b = ranges[i]\n",
    "            if key in ['sigma', 'v_0', 'v_esc', 'rho_0']:\n",
    "                start_at = np.random.uniform(a, b, (self.nwalkers, 1))\n",
    "            else:\n",
    "                start_at = val + 0.25 * val * np.random.randn(self.nwalkers, 1)\n",
    "            start_at = np.clip(start_at, a, b)\n",
    "            pos.append(start_at)\n",
    "        pos = np.hstack(pos)\n",
    "        self.pos = pos\n",
    "    #         self.pos = self._set_pos()\n",
    "\n",
    "    def set_sampler(self, mult=True):\n",
    "        ndim = len(self.fit_parameters)\n",
    "        kwargs = {\"threads\": multiprocessing.cpu_count()} if mult else {}\n",
    "        self.sampler = emcee.EnsembleSampler(self.nwalkers, ndim,\n",
    "                                             self.log_probability,\n",
    "                                             args=([self.fit_parameters]),\n",
    "                                             **kwargs)\n",
    "        self.log['sampler'] = True\n",
    "\n",
    "    def run_emcee(self):\n",
    "        if not self.log['sampler']:\n",
    "            self.set_sampler()\n",
    "        if not self.log['pos']:\n",
    "            self.set_pos()\n",
    "        try:\n",
    "            self.sampler.run_mcmc(self.pos, self.nsteps, progress=True)\n",
    "        except ValueError as e:\n",
    "            print(f\"MCMC did not finish due to a ValueError. Was running with\\n\"\n",
    "                  f\"pos={self.pos.shape} nsteps = {self.nsteps}, walkers = \"\n",
    "                  f\"{self.nwalkers}, ndim = \"\n",
    "                  f\"{len(self.fit_parameters)} for fit parameters \"\n",
    "                  f\"{self.fit_parameters}\")\n",
    "            raise e\n",
    "        self.log['did_run'] = True\n",
    "\n",
    "    def show_walkers(self):\n",
    "        if not self.log['did_run']:\n",
    "            self.run_emcee()\n",
    "        labels = self.fit_parameters\n",
    "        fig, axes = plt.subplots(len(labels), figsize=(10, 7), sharex=True)\n",
    "        samples = self.sampler.get_chain()\n",
    "        for i in range(len(labels)):\n",
    "            ax = axes[i]\n",
    "            ax.plot(samples[:, :, i], \"k\", alpha=0.3)\n",
    "            ax.set_xlim(0, len(samples))\n",
    "            ax.set_ylabel(labels[i])\n",
    "            ax.yaxis.set_label_coords(-0.1, 0.5)\n",
    "        axes[-1].set_xlabel(\"step number\")\n",
    "\n",
    "    def show_corner(self):\n",
    "        if not self.log['did_run']:\n",
    "            self.run_emcee()\n",
    "        print(f\"Removing a fraction of {self.remove_frac} of the samples, total\"\n",
    "              f\"number of removed samples = {self.nsteps * self.remove_frac}\")\n",
    "        flat_samples = self.sampler.get_chain(\n",
    "            discard=int(self.nsteps * self.remove_frac),\n",
    "            thin=self.thin,\n",
    "            flat=True\n",
    "        )\n",
    "        truths = [self.config['mw'],\n",
    "                  self.config['sigma'],\n",
    "                  self.config['v_0'],\n",
    "                  self.config['v_esc'],\n",
    "                  self.config['rho_0']\n",
    "                  ]\n",
    "        corner.corner(flat_samples, labels=self.fit_parameters,\n",
    "                            truths=truths[:len(self.fit_parameters)])\n",
    "\n",
    "    def save_results(self, force_index=False):\n",
    "        if not self.log['did_run']:\n",
    "            self.run_emcee()\n",
    "        base = 'results/'\n",
    "        save = '2nd_test'\n",
    "        files = os.listdir(base)\n",
    "        files = [f for f in files if save in f]\n",
    "        if not save + '0' in files:\n",
    "            os.makedirs(base + save + '0')\n",
    "        if force_index is False:\n",
    "            index = max([int(f.split(save)[-1]) for f in files]) + 1\n",
    "        else:\n",
    "            index = force_index\n",
    "\n",
    "        save_dir = base + save + str(index) + '/'\n",
    "        print('save_results::\\tusing ' + save_dir)\n",
    "        if force_index is False:\n",
    "            os.mkdir(save_dir)\n",
    "        else:\n",
    "            assert os.path.exists(save_dir), \"specify existing directory, exit\"\n",
    "            for file in os.listdir(save_dir):\n",
    "                print('save_results::\\tremoving ' + save_dir + file)\n",
    "                os.remove(save_dir + file)\n",
    "        # save the config, chain and flattened chain\n",
    "        with open(save_dir + 'config.json', 'w') as fp:\n",
    "            json.dump(convert_config_to_savable(self.config), fp)\n",
    "        np.save(save_dir + 'config.npy',\n",
    "                convert_config_to_savable(self.config))\n",
    "        np.save(save_dir + 'full_chain.npy', self.sampler.get_chain())\n",
    "        np.save(save_dir + 'flat_chain.npy', self.sampler.get_chain(\n",
    "            discard=int(self.nsteps * self.remove_frac), thin=self.thin,\n",
    "            flat=True))\n",
    "        print(\"save_results::\\tdone_saving\")\n",
    "        \n",
    "    def log_probability_nestle(self, parameter_vals, parameter_names):\n",
    "        \"\"\"\n",
    "\n",
    "        :param parameter_vals: the values of the model/benchmark considered as\n",
    "        the truth\n",
    "        # :param parameter_values: the values of the parameters that are being\n",
    "        varied\n",
    "        :param parameter_names: the names of the parameter_values\n",
    "        :return:\n",
    "        \"\"\"\n",
    "               \n",
    "        model = self.eval_spectrum(parameter_vals, parameter_names)\n",
    "\n",
    "        ll = log_likelihood(model, self.benchmark_values)\n",
    "        if np.isnan(ll):\n",
    "            raise ValueError(\n",
    "                f\"Returned NaN from likelihood. ll = {ll}\")\n",
    "        return ll\n",
    "    \n",
    "    def log_prior_transform_nestle(self, x, x_name):\n",
    "        if self.config['prior'][x_name]['prior_type'] == 'flat':\n",
    "            a, b = self.config['prior'][x_name]['param']\n",
    "            if 'log' in x_name:\n",
    "#                 x = np.log10(x)\n",
    "                a = 10**a\n",
    "                b = 10**b\n",
    "#             return log_flat(a, b, x)\n",
    "            return x *(b-a) + a \n",
    "        elif self.config['prior'][x_name]['prior_type'] == 'gauss':\n",
    "            a, b = self.config['prior'][x_name]['range']\n",
    "            m, s = self.config['prior'][x_name]['param']\n",
    "            res =  m + s * spsp.ndtri(x)\n",
    "            if  a < res < b:\n",
    "                return res\n",
    "            else:\n",
    "                return -np.inf #(1 / (a + b)) * res * (b - a) + a\n",
    "#             return log_gauss(a, b, m, s, x)\n",
    "        else:\n",
    "            raise TypeError(\n",
    "                f\"unknown prior type '\"\n",
    "                f\"{self.config['prior'][x_name]['prior_type']}', choose either \"\n",
    "                f\"gauss or flat\")\n",
    "            \n",
    "    def _log_probability_nestle(self, theta):\n",
    "        ndim = len(self.fit_parameters)\n",
    "        return self.log_probability_nestle(theta, \n",
    "            self.known_parameters[:ndim])\n",
    "#         result = [self.log_probability_nestle(val, \n",
    "#                   self.known_parameters[i])\n",
    "#                   for i, val in enumerate(theta)]\n",
    "#         return np.array(result)\n",
    "    def _log_prior_transform_nestle(self, theta):\n",
    "        ndim = len(self.fit_parameters)\n",
    "        result = [self.log_prior_transform_nestle(val, \n",
    "            self.known_parameters[i])\n",
    "            for i, val in enumerate(theta)]\n",
    "        \n",
    "        return np.array(result)\n",
    "test = NestleStatModel(\"Xe\")"
   ]
  },
  {
   "cell_type": "code",
   "execution_count": 243,
   "metadata": {},
   "outputs": [],
   "source": [
    "from scipy import special as spsp"
   ]
  },
  {
   "cell_type": "code",
   "execution_count": 244,
   "metadata": {},
   "outputs": [
    {
     "data": {
      "text/plain": [
       "['log_mass', 'log_cross_section']"
      ]
     },
     "execution_count": 244,
     "metadata": {},
     "output_type": "execute_result"
    }
   ],
   "source": [
    "test.fit_parameters"
   ]
  },
  {
   "cell_type": "code",
   "execution_count": 295,
   "metadata": {},
   "outputs": [],
   "source": [
    "spec = GenSpectrum(50, 1e-45, sh, detectors[\"Xe\"])"
   ]
  },
  {
   "cell_type": "code",
   "execution_count": 296,
   "metadata": {},
   "outputs": [],
   "source": [
    "sh = SHM()"
   ]
  },
  {
   "cell_type": "code",
   "execution_count": 298,
   "metadata": {},
   "outputs": [
    {
     "data": {
      "text/html": [
       "<div>\n",
       "<style scoped>\n",
       "    .dataframe tbody tr th:only-of-type {\n",
       "        vertical-align: middle;\n",
       "    }\n",
       "\n",
       "    .dataframe tbody tr th {\n",
       "        vertical-align: top;\n",
       "    }\n",
       "\n",
       "    .dataframe thead th {\n",
       "        text-align: right;\n",
       "    }\n",
       "</style>\n",
       "<table border=\"1\" class=\"dataframe\">\n",
       "  <thead>\n",
       "    <tr style=\"text-align: right;\">\n",
       "      <th></th>\n",
       "      <th>counts</th>\n",
       "      <th>bin_centers</th>\n",
       "      <th>bin_left</th>\n",
       "      <th>bin_right</th>\n",
       "    </tr>\n",
       "  </thead>\n",
       "  <tbody>\n",
       "    <tr>\n",
       "      <th>0</th>\n",
       "      <td>3.293466e+10</td>\n",
       "      <td>5.0</td>\n",
       "      <td>0.0</td>\n",
       "      <td>10.0</td>\n",
       "    </tr>\n",
       "    <tr>\n",
       "      <th>1</th>\n",
       "      <td>1.262890e+10</td>\n",
       "      <td>15.0</td>\n",
       "      <td>10.0</td>\n",
       "      <td>20.0</td>\n",
       "    </tr>\n",
       "    <tr>\n",
       "      <th>2</th>\n",
       "      <td>4.505159e+09</td>\n",
       "      <td>25.0</td>\n",
       "      <td>20.0</td>\n",
       "      <td>30.0</td>\n",
       "    </tr>\n",
       "    <tr>\n",
       "      <th>3</th>\n",
       "      <td>1.491516e+09</td>\n",
       "      <td>35.0</td>\n",
       "      <td>30.0</td>\n",
       "      <td>40.0</td>\n",
       "    </tr>\n",
       "    <tr>\n",
       "      <th>4</th>\n",
       "      <td>4.525903e+08</td>\n",
       "      <td>45.0</td>\n",
       "      <td>40.0</td>\n",
       "      <td>50.0</td>\n",
       "    </tr>\n",
       "    <tr>\n",
       "      <th>5</th>\n",
       "      <td>1.226511e+08</td>\n",
       "      <td>55.0</td>\n",
       "      <td>50.0</td>\n",
       "      <td>60.0</td>\n",
       "    </tr>\n",
       "    <tr>\n",
       "      <th>6</th>\n",
       "      <td>2.817828e+07</td>\n",
       "      <td>65.0</td>\n",
       "      <td>60.0</td>\n",
       "      <td>70.0</td>\n",
       "    </tr>\n",
       "    <tr>\n",
       "      <th>7</th>\n",
       "      <td>4.867736e+06</td>\n",
       "      <td>75.0</td>\n",
       "      <td>70.0</td>\n",
       "      <td>80.0</td>\n",
       "    </tr>\n",
       "    <tr>\n",
       "      <th>8</th>\n",
       "      <td>4.268161e+05</td>\n",
       "      <td>85.0</td>\n",
       "      <td>80.0</td>\n",
       "      <td>90.0</td>\n",
       "    </tr>\n",
       "    <tr>\n",
       "      <th>9</th>\n",
       "      <td>1.116034e+03</td>\n",
       "      <td>95.0</td>\n",
       "      <td>90.0</td>\n",
       "      <td>100.0</td>\n",
       "    </tr>\n",
       "  </tbody>\n",
       "</table>\n",
       "</div>"
      ],
      "text/plain": [
       "         counts  bin_centers  bin_left  bin_right\n",
       "0  3.293466e+10          5.0       0.0       10.0\n",
       "1  1.262890e+10         15.0      10.0       20.0\n",
       "2  4.505159e+09         25.0      20.0       30.0\n",
       "3  1.491516e+09         35.0      30.0       40.0\n",
       "4  4.525903e+08         45.0      40.0       50.0\n",
       "5  1.226511e+08         55.0      50.0       60.0\n",
       "6  2.817828e+07         65.0      60.0       70.0\n",
       "7  4.867736e+06         75.0      70.0       80.0\n",
       "8  4.268161e+05         85.0      80.0       90.0\n",
       "9  1.116034e+03         95.0      90.0      100.0"
      ]
     },
     "execution_count": 298,
     "metadata": {},
     "output_type": "execute_result"
    }
   ],
   "source": [
    "spec.get_data(poisson=False)"
   ]
  },
  {
   "cell_type": "code",
   "execution_count": 273,
   "metadata": {},
   "outputs": [
    {
     "data": {
      "text/html": [
       "<div>\n",
       "<style scoped>\n",
       "    .dataframe tbody tr th:only-of-type {\n",
       "        vertical-align: middle;\n",
       "    }\n",
       "\n",
       "    .dataframe tbody tr th {\n",
       "        vertical-align: top;\n",
       "    }\n",
       "\n",
       "    .dataframe thead th {\n",
       "        text-align: right;\n",
       "    }\n",
       "</style>\n",
       "<table border=\"1\" class=\"dataframe\">\n",
       "  <thead>\n",
       "    <tr style=\"text-align: right;\">\n",
       "      <th></th>\n",
       "      <th>counts</th>\n",
       "      <th>bin_centers</th>\n",
       "      <th>bin_left</th>\n",
       "      <th>bin_right</th>\n",
       "    </tr>\n",
       "  </thead>\n",
       "  <tbody>\n",
       "    <tr>\n",
       "      <th>0</th>\n",
       "      <td>1.520154e+09</td>\n",
       "      <td>5.0</td>\n",
       "      <td>0.0</td>\n",
       "      <td>10.0</td>\n",
       "    </tr>\n",
       "    <tr>\n",
       "      <th>1</th>\n",
       "      <td>1.150103e+10</td>\n",
       "      <td>15.0</td>\n",
       "      <td>10.0</td>\n",
       "      <td>20.0</td>\n",
       "    </tr>\n",
       "    <tr>\n",
       "      <th>2</th>\n",
       "      <td>4.646999e+09</td>\n",
       "      <td>25.0</td>\n",
       "      <td>20.0</td>\n",
       "      <td>30.0</td>\n",
       "    </tr>\n",
       "    <tr>\n",
       "      <th>3</th>\n",
       "      <td>1.541613e+09</td>\n",
       "      <td>35.0</td>\n",
       "      <td>30.0</td>\n",
       "      <td>40.0</td>\n",
       "    </tr>\n",
       "    <tr>\n",
       "      <th>4</th>\n",
       "      <td>4.717867e+08</td>\n",
       "      <td>45.0</td>\n",
       "      <td>40.0</td>\n",
       "      <td>50.0</td>\n",
       "    </tr>\n",
       "    <tr>\n",
       "      <th>5</th>\n",
       "      <td>1.308541e+08</td>\n",
       "      <td>55.0</td>\n",
       "      <td>50.0</td>\n",
       "      <td>60.0</td>\n",
       "    </tr>\n",
       "    <tr>\n",
       "      <th>6</th>\n",
       "      <td>3.178309e+07</td>\n",
       "      <td>65.0</td>\n",
       "      <td>60.0</td>\n",
       "      <td>70.0</td>\n",
       "    </tr>\n",
       "    <tr>\n",
       "      <th>7</th>\n",
       "      <td>6.315246e+06</td>\n",
       "      <td>75.0</td>\n",
       "      <td>70.0</td>\n",
       "      <td>80.0</td>\n",
       "    </tr>\n",
       "    <tr>\n",
       "      <th>8</th>\n",
       "      <td>8.869640e+05</td>\n",
       "      <td>85.0</td>\n",
       "      <td>80.0</td>\n",
       "      <td>90.0</td>\n",
       "    </tr>\n",
       "    <tr>\n",
       "      <th>9</th>\n",
       "      <td>6.721975e+04</td>\n",
       "      <td>95.0</td>\n",
       "      <td>90.0</td>\n",
       "      <td>100.0</td>\n",
       "    </tr>\n",
       "  </tbody>\n",
       "</table>\n",
       "</div>"
      ],
      "text/plain": [
       "         counts  bin_centers  bin_left  bin_right\n",
       "0  1.520154e+09          5.0       0.0       10.0\n",
       "1  1.150103e+10         15.0      10.0       20.0\n",
       "2  4.646999e+09         25.0      20.0       30.0\n",
       "3  1.541613e+09         35.0      30.0       40.0\n",
       "4  4.717867e+08         45.0      40.0       50.0\n",
       "5  1.308541e+08         55.0      50.0       60.0\n",
       "6  3.178309e+07         65.0      60.0       70.0\n",
       "7  6.315246e+06         75.0      70.0       80.0\n",
       "8  8.869640e+05         85.0      80.0       90.0\n",
       "9  6.721975e+04         95.0      90.0      100.0"
      ]
     },
     "execution_count": 273,
     "metadata": {},
     "output_type": "execute_result"
    }
   ],
   "source": [
    "test.check_spectrum()"
   ]
  },
  {
   "cell_type": "code",
   "execution_count": 245,
   "metadata": {},
   "outputs": [
    {
     "data": {
      "text/plain": [
       "<matplotlib.lines.Line2D at 0x164132479c8>"
      ]
     },
     "execution_count": 245,
     "metadata": {},
     "output_type": "execute_result"
    },
    {
     "data": {
      "image/png": "[encoded data removed]",
      "text/plain": [
       "<Figure size 432x288 with 1 Axes>"
      ]
     },
     "metadata": {
      "needs_background": "light"
     },
     "output_type": "display_data"
    }
   ],
   "source": [
    "xs = np.linspace(-0.05,1.05,20)\n",
    "# def prior_transform(x):\n",
    "#     return 10. * x - 5.\n",
    "def prior_transform(x):\n",
    "    return 5 + 1 * ndtri(x)\n",
    "plt.scatter(xs, prior_transform(xs))\n",
    "plt.axvline(0)\n",
    "plt.axvline(1)"
   ]
  },
  {
   "cell_type": "code",
   "execution_count": 251,
   "metadata": {},
   "outputs": [
    {
     "data": {
      "text/plain": [
       "[<matplotlib.lines.Line2D at 0x164145609c8>]"
      ]
     },
     "execution_count": 251,
     "metadata": {},
     "output_type": "execute_result"
    },
    {
     "data": {
      "image/png": "[encoded data removed]",
      "text/plain": [
       "<Figure size 432x288 with 1 Axes>"
      ]
     },
     "metadata": {
      "needs_background": "light"
     },
     "output_type": "display_data"
    }
   ],
   "source": [
    "# xs = np.linspace(.,1,111)\n",
    "xs = np.linspace(-0.05,1.05,200)\n",
    "name = 'log_mass'\n",
    "plt.axvline(0, c= 'orange')\n",
    "plt.axvline(1, c= 'orange')\n",
    "ys = [test.log_prior_transform_nestle(x, name) for x in xs]\n",
    "a,b =  get_priors()[name]['range']\n",
    "plt.axhline(10**a, c= 'b')\n",
    "plt.axhline(10**b, c= 'b')\n",
    "plt.plot(xs,ys)"
   ]
  },
  {
   "cell_type": "code",
   "execution_count": 252,
   "metadata": {},
   "outputs": [
    {
     "name": "stdout",
     "output_type": "stream",
     "text": [
      "230\n"
     ]
    },
    {
     "data": {
      "text/plain": [
       "[<matplotlib.lines.Line2D at 0x164145daec8>]"
      ]
     },
     "execution_count": 252,
     "metadata": {},
     "output_type": "execute_result"
    },
    {
     "data": {
      "image/png": "[encoded data removed]",
      "text/plain": [
       "<Figure size 432x288 with 1 Axes>"
      ]
     },
     "metadata": {
      "needs_background": "light"
     },
     "output_type": "display_data"
    }
   ],
   "source": [
    "# xs = np.linspace(.,1,111)\n",
    "xs = np.linspace(-0.05,1.05,200)\n",
    "name = 'v_0'\n",
    "plt.axvline(0, c= 'orange')\n",
    "plt.axvline(1, c= 'orange')\n",
    "ys = [test.log_prior_transform_nestle(x, name) for x in xs]\n",
    "mean = get_priors()[name]['mean']\n",
    "std = get_priors()[name]['std']\n",
    "print(mean)\n",
    "a,b =  get_priors()[name]['range']\n",
    "plt.axhline(mean)\n",
    "plt.axhline(mean+std, c= 'r')\n",
    "plt.axhline(mean-std, c= 'r')\n",
    "plt.axhline(a, c= 'b')\n",
    "plt.axhline(b, c= 'b')\n",
    "plt.plot(xs,ys)"
   ]
  },
  {
   "cell_type": "code",
   "execution_count": 253,
   "metadata": {},
   "outputs": [
    {
     "data": {
      "text/plain": [
       "-inf"
      ]
     },
     "execution_count": 253,
     "metadata": {},
     "output_type": "execute_result"
    }
   ],
   "source": [
    "test.log_prior_transform_nestle(0.0000001, name)"
   ]
  },
  {
   "cell_type": "code",
   "execution_count": 299,
   "metadata": {},
   "outputs": [
    {
     "name": "stdout",
     "output_type": "stream",
     "text": [
      "Time taken to run 'Nestle' is 11548.673727035522 seconds\n"
     ]
    }
   ],
   "source": [
    "nlive = 1024     # number of live points\n",
    "method = 'multi' # use MutliNest algorithm\n",
    "ndims = 2        # two parameters\n",
    "tol = 0.5        # the stopping criterion\n",
    "\n",
    "t0 = time.time()\n",
    "res2 = nestle.sample(test._log_probability_nestle, \n",
    "                    test._log_prior_transform_nestle, \n",
    "                    ndims, \n",
    "                    method=method, \n",
    "                    npoints=nlive, \n",
    "                    dlogz=tol)\n",
    "t1 = time.time()\n",
    "\n",
    "timenestle = (t1-t0)\n",
    "\n",
    "print(\"Time taken to run 'Nestle' is {} seconds\".format(timenestle))"
   ]
  },
  {
   "cell_type": "code",
   "execution_count": 269,
   "metadata": {},
   "outputs": [
    {
     "name": "stdout",
     "output_type": "stream",
     "text": [
      "Time taken to run 'Nestle' is 29.763876914978027 seconds\n"
     ]
    }
   ],
   "source": [
    "nlive = 10       # number of live points\n",
    "method = 'multi' # use MutliNest algorithm\n",
    "ndims = 2        # two parameters\n",
    "tol = 0.1        # the stopping criterion\n",
    "\n",
    "t0 = time.time()\n",
    "res = nestle.sample(test._log_probability_nestle, \n",
    "                    test._log_prior_transform_nestle, \n",
    "                    ndims, \n",
    "                    method=method, \n",
    "                    npoints=nlive, \n",
    "                    dlogz=tol,\n",
    "                    maxiter =50)\n",
    "t1 = time.time()\n",
    "\n",
    "timenestle = (t1-t0)\n",
    "\n",
    "print(\"Time taken to run 'Nestle' is {} seconds\".format(timenestle))"
   ]
  },
  {
   "cell_type": "code",
   "execution_count": 266,
   "metadata": {},
   "outputs": [
    {
     "name": "stdout",
     "output_type": "stream",
     "text": [
      "log(Z) = -19851486604.49857 ± 0.8545516720366675\n",
      "niter: 51\n",
      "ncall: 79\n",
      "nsamples: 60\n",
      "logz: -19851486604.499 +/-  0.855\n",
      "h:  7.303\n",
      "Number of posterior samples is 1\n"
     ]
    }
   ],
   "source": [
    "logZnestle = res.logz                         # value of logZ\n",
    "infogainnestle = res.h                        # value of the information gain in nats\n",
    "logZerrnestle = np.sqrt(infogainnestle/nlive) # estimate of the statistcal uncertainty on logZ\n",
    "\n",
    "print('log(Z) = {} \\u00B1 {}'.format(logZnestle, logZerrnestle))\n",
    "print(res.summary())\n",
    "\n",
    "# re-scale weights to have a maximum of one\n",
    "nweights = res.weights/np.max(res.weights)\n",
    "\n",
    "# get the probability of keeping a sample from the weights\n",
    "keepidx = np.where(np.random.rand(len(nweights)) < nweights)[0]\n",
    "\n",
    "# get the posterior samples\n",
    "samples_nestle = res.samples[keepidx,:]\n",
    "resdict ={}\n",
    "resdict['mnestle_mu'] = np.mean(samples_nestle[:,0])      # mean of m samples\n",
    "resdict['mnestle_sig'] = np.std(samples_nestle[:,0])      # standard deviation of m samples\n",
    "resdict['cnestle_mu'] = np.mean(samples_nestle[:,1])      # mean of c samples\n",
    "resdict['cnestle_sig'] = np.std(samples_nestle[:,1])      # standard deviation of c samples\n",
    "resdict['ccnestle'] = np.corrcoef(samples_nestle.T)[0,1]  # correlation coefficient between parameters\n",
    "resdict['nestle_npos'] = len(samples_nestle)              # number of posterior samples\n",
    "resdict['nestle_time'] = timenestle                       # run time\n",
    "resdict['nestle_logZ'] = logZnestle                       # log marginalised likelihood\n",
    "resdict['nestle_logZerr'] = logZerrnestle                 # uncertainty on log(Z)\n",
    "\n",
    "print('Number of posterior samples is {}'.format(len(samples_nestle)))"
   ]
  },
  {
   "cell_type": "code",
   "execution_count": 271,
   "metadata": {},
   "outputs": [
    {
     "name": "stdout",
     "output_type": "stream",
     "text": [
      "m = 674.21 +/-   nan\n",
      "b =  0.00 +/-   nan\n"
     ]
    }
   ],
   "source": [
    "p, cov = nestle.mean_and_cov(res.samples, res.weights)\n",
    "print(\"m = {0:5.2f} +/- {1:5.2f}\".format(p[0], np.sqrt(cov[0, 0])))\n",
    "print(\"b = {0:5.2f} +/- {1:5.2f}\".format(p[1], np.sqrt(cov[1, 1])))"
   ]
  },
  {
   "cell_type": "code",
   "execution_count": 268,
   "metadata": {},
   "outputs": [
    {
     "name": "stderr",
     "output_type": "stream",
     "text": [
      "C:\\Users\\Joran\\programming\\Anaconda3\\envs\\DD_DM\\lib\\site-packages\\corner\\corner.py:294: UserWarning: Attempting to set identical bottom == top == 0 results in singular transformations; automatically expanding.\n",
      "  ax.set_ylim(0, 1.1 * np.max(n))\n",
      "C:\\Users\\Joran\\programming\\Anaconda3\\envs\\DD_DM\\lib\\site-packages\\corner\\corner.py:532: RuntimeWarning: invalid value encountered in true_divide\n",
      "  sm /= sm[-1]\n",
      "C:\\Users\\Joran\\programming\\Anaconda3\\envs\\DD_DM\\lib\\site-packages\\corner\\corner.py:536: RuntimeWarning: invalid value encountered in less_equal\n",
      "  V[i] = Hflat[sm <= v0][-1]\n",
      "WARNING:root:Too few points to create valid contours\n"
     ]
    },
    {
     "ename": "KeyboardInterrupt",
     "evalue": "",
     "output_type": "error",
     "traceback": [
      "\u001b[1;31m---------------------------------------------------------------------------\u001b[0m",
      "\u001b[1;31mKeyboardInterrupt\u001b[0m                         Traceback (most recent call last)",
      "\u001b[1;32m<ipython-input-268-9f974f7daf64>\u001b[0m in \u001b[0;36m<module>\u001b[1;34m\u001b[0m\n\u001b[0;32m      1\u001b[0m fig = corner.corner(res.samples, weights=res.weights, labels=['m', 'b'],\n\u001b[1;32m----> 2\u001b[1;33m                     range=[0.99999, 0.99999], truths=[50, 1e-45], bins=30)\n\u001b[0m\u001b[0;32m      3\u001b[0m \u001b[0mplt\u001b[0m\u001b[1;33m.\u001b[0m\u001b[0mshow\u001b[0m\u001b[1;33m(\u001b[0m\u001b[1;33m)\u001b[0m\u001b[1;33m\u001b[0m\u001b[1;33m\u001b[0m\u001b[0m\n",
      "\u001b[1;32m~\\programming\\Anaconda3\\envs\\DD_DM\\lib\\site-packages\\corner\\corner.py\u001b[0m in \u001b[0;36mcorner\u001b[1;34m(xs, bins, range, weights, color, smooth, smooth1d, labels, label_kwargs, show_titles, title_fmt, title_kwargs, truths, truth_color, scale_hist, quantiles, verbose, fig, max_n_ticks, top_ticks, use_math_text, hist_kwargs, **hist2d_kwargs)\u001b[0m\n\u001b[0;32m    331\u001b[0m             hist2d(y, x, ax=ax, range=[range[j], range[i]], weights=weights,\n\u001b[0;32m    332\u001b[0m                    \u001b[0mcolor\u001b[0m\u001b[1;33m=\u001b[0m\u001b[0mcolor\u001b[0m\u001b[1;33m,\u001b[0m \u001b[0msmooth\u001b[0m\u001b[1;33m=\u001b[0m\u001b[0msmooth\u001b[0m\u001b[1;33m,\u001b[0m \u001b[0mbins\u001b[0m\u001b[1;33m=\u001b[0m\u001b[1;33m[\u001b[0m\u001b[0mbins\u001b[0m\u001b[1;33m[\u001b[0m\u001b[0mj\u001b[0m\u001b[1;33m]\u001b[0m\u001b[1;33m,\u001b[0m \u001b[0mbins\u001b[0m\u001b[1;33m[\u001b[0m\u001b[0mi\u001b[0m\u001b[1;33m]\u001b[0m\u001b[1;33m]\u001b[0m\u001b[1;33m,\u001b[0m\u001b[1;33m\u001b[0m\u001b[1;33m\u001b[0m\u001b[0m\n\u001b[1;32m--> 333\u001b[1;33m                    **hist2d_kwargs)\n\u001b[0m\u001b[0;32m    334\u001b[0m \u001b[1;33m\u001b[0m\u001b[0m\n\u001b[0;32m    335\u001b[0m             \u001b[1;32mif\u001b[0m \u001b[0mtruths\u001b[0m \u001b[1;32mis\u001b[0m \u001b[1;32mnot\u001b[0m \u001b[1;32mNone\u001b[0m\u001b[1;33m:\u001b[0m\u001b[1;33m\u001b[0m\u001b[1;33m\u001b[0m\u001b[0m\n",
      "\u001b[1;32m~\\programming\\Anaconda3\\envs\\DD_DM\\lib\\site-packages\\corner\\corner.py\u001b[0m in \u001b[0;36mhist2d\u001b[1;34m(x, y, bins, range, weights, levels, smooth, ax, color, plot_datapoints, plot_density, plot_contours, no_fill_contours, fill_contours, contour_kwargs, contourf_kwargs, data_kwargs, **kwargs)\u001b[0m\n\u001b[0;32m    543\u001b[0m     \u001b[1;32mwhile\u001b[0m \u001b[0mnp\u001b[0m\u001b[1;33m.\u001b[0m\u001b[0many\u001b[0m\u001b[1;33m(\u001b[0m\u001b[0mm\u001b[0m\u001b[1;33m)\u001b[0m\u001b[1;33m:\u001b[0m\u001b[1;33m\u001b[0m\u001b[1;33m\u001b[0m\u001b[0m\n\u001b[0;32m    544\u001b[0m         \u001b[0mV\u001b[0m\u001b[1;33m[\u001b[0m\u001b[0mnp\u001b[0m\u001b[1;33m.\u001b[0m\u001b[0mwhere\u001b[0m\u001b[1;33m(\u001b[0m\u001b[0mm\u001b[0m\u001b[1;33m)\u001b[0m\u001b[1;33m[\u001b[0m\u001b[1;36m0\u001b[0m\u001b[1;33m]\u001b[0m\u001b[1;33m[\u001b[0m\u001b[1;36m0\u001b[0m\u001b[1;33m]\u001b[0m\u001b[1;33m]\u001b[0m \u001b[1;33m*=\u001b[0m \u001b[1;36m1.0\u001b[0m \u001b[1;33m-\u001b[0m \u001b[1;36m1e-4\u001b[0m\u001b[1;33m\u001b[0m\u001b[1;33m\u001b[0m\u001b[0m\n\u001b[1;32m--> 545\u001b[1;33m         \u001b[0mm\u001b[0m \u001b[1;33m=\u001b[0m \u001b[0mnp\u001b[0m\u001b[1;33m.\u001b[0m\u001b[0mdiff\u001b[0m\u001b[1;33m(\u001b[0m\u001b[0mV\u001b[0m\u001b[1;33m)\u001b[0m \u001b[1;33m==\u001b[0m \u001b[1;36m0\u001b[0m\u001b[1;33m\u001b[0m\u001b[1;33m\u001b[0m\u001b[0m\n\u001b[0m\u001b[0;32m    546\u001b[0m     \u001b[0mV\u001b[0m\u001b[1;33m.\u001b[0m\u001b[0msort\u001b[0m\u001b[1;33m(\u001b[0m\u001b[1;33m)\u001b[0m\u001b[1;33m\u001b[0m\u001b[1;33m\u001b[0m\u001b[0m\n\u001b[0;32m    547\u001b[0m \u001b[1;33m\u001b[0m\u001b[0m\n",
      "\u001b[1;32m~\\programming\\Anaconda3\\envs\\DD_DM\\lib\\site-packages\\numpy\\lib\\function_base.py\u001b[0m in \u001b[0;36mdiff\u001b[1;34m(a, n, axis, prepend, append)\u001b[0m\n\u001b[0;32m   1236\u001b[0m             \"order must be non-negative but got \" + repr(n))\n\u001b[0;32m   1237\u001b[0m \u001b[1;33m\u001b[0m\u001b[0m\n\u001b[1;32m-> 1238\u001b[1;33m     \u001b[0ma\u001b[0m \u001b[1;33m=\u001b[0m \u001b[0masanyarray\u001b[0m\u001b[1;33m(\u001b[0m\u001b[0ma\u001b[0m\u001b[1;33m)\u001b[0m\u001b[1;33m\u001b[0m\u001b[1;33m\u001b[0m\u001b[0m\n\u001b[0m\u001b[0;32m   1239\u001b[0m     \u001b[0mnd\u001b[0m \u001b[1;33m=\u001b[0m \u001b[0ma\u001b[0m\u001b[1;33m.\u001b[0m\u001b[0mndim\u001b[0m\u001b[1;33m\u001b[0m\u001b[1;33m\u001b[0m\u001b[0m\n\u001b[0;32m   1240\u001b[0m     \u001b[0maxis\u001b[0m \u001b[1;33m=\u001b[0m \u001b[0mnormalize_axis_index\u001b[0m\u001b[1;33m(\u001b[0m\u001b[0maxis\u001b[0m\u001b[1;33m,\u001b[0m \u001b[0mnd\u001b[0m\u001b[1;33m)\u001b[0m\u001b[1;33m\u001b[0m\u001b[1;33m\u001b[0m\u001b[0m\n",
      "\u001b[1;32m~\\programming\\Anaconda3\\envs\\DD_DM\\lib\\site-packages\\numpy\\core\\numeric.py\u001b[0m in \u001b[0;36masanyarray\u001b[1;34m(a, dtype, order)\u001b[0m\n\u001b[0;32m    539\u001b[0m \u001b[1;33m\u001b[0m\u001b[0m\n\u001b[0;32m    540\u001b[0m \u001b[1;33m\u001b[0m\u001b[0m\n\u001b[1;32m--> 541\u001b[1;33m \u001b[1;33m@\u001b[0m\u001b[0mset_module\u001b[0m\u001b[1;33m(\u001b[0m\u001b[1;34m'numpy'\u001b[0m\u001b[1;33m)\u001b[0m\u001b[1;33m\u001b[0m\u001b[1;33m\u001b[0m\u001b[0m\n\u001b[0m\u001b[0;32m    542\u001b[0m \u001b[1;32mdef\u001b[0m \u001b[0masanyarray\u001b[0m\u001b[1;33m(\u001b[0m\u001b[0ma\u001b[0m\u001b[1;33m,\u001b[0m \u001b[0mdtype\u001b[0m\u001b[1;33m=\u001b[0m\u001b[1;32mNone\u001b[0m\u001b[1;33m,\u001b[0m \u001b[0morder\u001b[0m\u001b[1;33m=\u001b[0m\u001b[1;32mNone\u001b[0m\u001b[1;33m)\u001b[0m\u001b[1;33m:\u001b[0m\u001b[1;33m\u001b[0m\u001b[1;33m\u001b[0m\u001b[0m\n\u001b[0;32m    543\u001b[0m     \"\"\"Convert the input to an ndarray, but pass ndarray subclasses through.\n",
      "\u001b[1;31mKeyboardInterrupt\u001b[0m: "
     ]
    },
    {
     "data": {
      "image/png": "[encoded data removed]",
      "text/plain": [
       "<Figure size 396x396 with 4 Axes>"
      ]
     },
     "metadata": {
      "needs_background": "light"
     },
     "output_type": "display_data"
    }
   ],
   "source": [
    "fig = corner.corner(res.samples, weights=res.weights, labels=['m', 'b'],\n",
    "                    range=[0.99999, 0.99999], truths=[50, 1e-45], bins=30)\n",
    "plt.show()"
   ]
  },
  {
   "cell_type": "code",
   "execution_count": 40,
   "metadata": {},
   "outputs": [
    {
     "data": {
      "text/html": [
       "<div>\n",
       "<style scoped>\n",
       "    .dataframe tbody tr th:only-of-type {\n",
       "        vertical-align: middle;\n",
       "    }\n",
       "\n",
       "    .dataframe tbody tr th {\n",
       "        vertical-align: top;\n",
       "    }\n",
       "\n",
       "    .dataframe thead th {\n",
       "        text-align: right;\n",
       "    }\n",
       "</style>\n",
       "<table border=\"1\" class=\"dataframe\">\n",
       "  <thead>\n",
       "    <tr style=\"text-align: right;\">\n",
       "      <th></th>\n",
       "      <th>counts</th>\n",
       "      <th>bin_centers</th>\n",
       "      <th>bin_left</th>\n",
       "      <th>bin_right</th>\n",
       "    </tr>\n",
       "  </thead>\n",
       "  <tbody>\n",
       "    <tr>\n",
       "      <th>0</th>\n",
       "      <td>1.520154e+09</td>\n",
       "      <td>5.0</td>\n",
       "      <td>0.0</td>\n",
       "      <td>10.0</td>\n",
       "    </tr>\n",
       "    <tr>\n",
       "      <th>1</th>\n",
       "      <td>1.150103e+10</td>\n",
       "      <td>15.0</td>\n",
       "      <td>10.0</td>\n",
       "      <td>20.0</td>\n",
       "    </tr>\n",
       "    <tr>\n",
       "      <th>2</th>\n",
       "      <td>4.646999e+09</td>\n",
       "      <td>25.0</td>\n",
       "      <td>20.0</td>\n",
       "      <td>30.0</td>\n",
       "    </tr>\n",
       "    <tr>\n",
       "      <th>3</th>\n",
       "      <td>1.541613e+09</td>\n",
       "      <td>35.0</td>\n",
       "      <td>30.0</td>\n",
       "      <td>40.0</td>\n",
       "    </tr>\n",
       "    <tr>\n",
       "      <th>4</th>\n",
       "      <td>4.717867e+08</td>\n",
       "      <td>45.0</td>\n",
       "      <td>40.0</td>\n",
       "      <td>50.0</td>\n",
       "    </tr>\n",
       "    <tr>\n",
       "      <th>5</th>\n",
       "      <td>1.308541e+08</td>\n",
       "      <td>55.0</td>\n",
       "      <td>50.0</td>\n",
       "      <td>60.0</td>\n",
       "    </tr>\n",
       "    <tr>\n",
       "      <th>6</th>\n",
       "      <td>3.178309e+07</td>\n",
       "      <td>65.0</td>\n",
       "      <td>60.0</td>\n",
       "      <td>70.0</td>\n",
       "    </tr>\n",
       "    <tr>\n",
       "      <th>7</th>\n",
       "      <td>6.315246e+06</td>\n",
       "      <td>75.0</td>\n",
       "      <td>70.0</td>\n",
       "      <td>80.0</td>\n",
       "    </tr>\n",
       "    <tr>\n",
       "      <th>8</th>\n",
       "      <td>8.869640e+05</td>\n",
       "      <td>85.0</td>\n",
       "      <td>80.0</td>\n",
       "      <td>90.0</td>\n",
       "    </tr>\n",
       "    <tr>\n",
       "      <th>9</th>\n",
       "      <td>6.721975e+04</td>\n",
       "      <td>95.0</td>\n",
       "      <td>90.0</td>\n",
       "      <td>100.0</td>\n",
       "    </tr>\n",
       "  </tbody>\n",
       "</table>\n",
       "</div>"
      ],
      "text/plain": [
       "         counts  bin_centers  bin_left  bin_right\n",
       "0  1.520154e+09          5.0       0.0       10.0\n",
       "1  1.150103e+10         15.0      10.0       20.0\n",
       "2  4.646999e+09         25.0      20.0       30.0\n",
       "3  1.541613e+09         35.0      30.0       40.0\n",
       "4  4.717867e+08         45.0      40.0       50.0\n",
       "5  1.308541e+08         55.0      50.0       60.0\n",
       "6  3.178309e+07         65.0      60.0       70.0\n",
       "7  6.315246e+06         75.0      70.0       80.0\n",
       "8  8.869640e+05         85.0      80.0       90.0\n",
       "9  6.721975e+04         95.0      90.0      100.0"
      ]
     },
     "execution_count": 40,
     "metadata": {},
     "output_type": "execute_result"
    }
   ],
   "source": [
    "stats.check_spectrum()"
   ]
  },
  {
   "cell_type": "code",
   "execution_count": 41,
   "metadata": {},
   "outputs": [
    {
     "data": {
      "text/plain": [
       "{'sampler': False, 'did_run': False, 'pos': False}"
      ]
     },
     "execution_count": 41,
     "metadata": {},
     "output_type": "execute_result"
    }
   ],
   "source": [
    "stats.nwalkers = 50\n",
    "stats.nsteps = 50\n",
    "stats.log"
   ]
  },
  {
   "cell_type": "code",
   "execution_count": null,
   "metadata": {},
   "outputs": [
    {
     "name": "stderr",
     "output_type": "stream",
     "text": [
      "C:\\Users\\Joran\\programming\\Anaconda3\\envs\\DD_DM\\lib\\site-packages\\emcee\\ensemble.py:258: RuntimeWarning: Initial state is not linearly independent and it will not allow a full exploration of parameter space\n",
      "  category=RuntimeWarning,\n",
      "  0%|                                                                                           | 0/50 [00:00<?, ?it/s]C:\\Users\\Joran\\Google Drive\\PhD-master\\ubuntu-storage\\windows-anaconda\\DD_DM_targets\\DirectDmTargets\\statistics.py:142: RuntimeWarning: invalid value encountered in log10\n",
      "  x = np.log10(x)\n",
      " 18%|██████████████▉                                                                    | 9/50 [00:47<02:58,  4.36s/it]C:\\Users\\Joran\\Google Drive\\PhD-master\\ubuntu-storage\\windows-anaconda\\DD_DM_targets\\DirectDmTargets\\statistics.py:142: RuntimeWarning: invalid value encountered in log10\n",
      "  x = np.log10(x)\n",
      " 68%|███████████████████████████████████████████████████████▊                          | 34/50 [02:19<00:54,  3.43s/it]"
     ]
    }
   ],
   "source": [
    "start = time.time()\n",
    "stats.run_emcee()\n",
    "end = time.time()"
   ]
  },
  {
   "cell_type": "code",
   "execution_count": null,
   "metadata": {},
   "outputs": [],
   "source": [
    "end-start"
   ]
  },
  {
   "cell_type": "code",
   "execution_count": null,
   "metadata": {},
   "outputs": [],
   "source": [
    "stats.save_results()"
   ]
  },
  {
   "cell_type": "code",
   "execution_count": null,
   "metadata": {},
   "outputs": [],
   "source": [
    "7028/3600"
   ]
  },
  {
   "cell_type": "code",
   "execution_count": null,
   "metadata": {},
   "outputs": [],
   "source": [
    "assert stats.log['did_run']"
   ]
  },
  {
   "cell_type": "code",
   "execution_count": null,
   "metadata": {},
   "outputs": [],
   "source": [
    "stats.show_walkers()"
   ]
  },
  {
   "cell_type": "code",
   "execution_count": null,
   "metadata": {},
   "outputs": [],
   "source": [
    "stats.show_corner()"
   ]
  },
  {
   "cell_type": "markdown",
   "metadata": {},
   "source": [
    "## Full dimensionality ##"
   ]
  },
  {
   "cell_type": "code",
   "execution_count": null,
   "metadata": {},
   "outputs": [],
   "source": [
    "stats_full = dddm.MCMCStatModel(\"Xe\")"
   ]
  },
  {
   "cell_type": "code",
   "execution_count": null,
   "metadata": {},
   "outputs": [],
   "source": [
    "stats_full.log"
   ]
  },
  {
   "cell_type": "code",
   "execution_count": null,
   "metadata": {},
   "outputs": [],
   "source": [
    "# for key in stats_full.log.keys():\n",
    "#     stats_full.log[key] = False\n"
   ]
  },
  {
   "cell_type": "code",
   "execution_count": null,
   "metadata": {},
   "outputs": [],
   "source": [
    "stats_full.nwalkers = stats.nwalkers\n",
    "stats_full.nsteps = stats.nsteps * 2\n",
    "stats_full.log"
   ]
  },
  {
   "cell_type": "code",
   "execution_count": null,
   "metadata": {},
   "outputs": [],
   "source": [
    "stats_full.fit_parameters = stats_full.known_parameters"
   ]
  },
  {
   "cell_type": "code",
   "execution_count": null,
   "metadata": {},
   "outputs": [],
   "source": [
    "stats_full.check_spectrum()"
   ]
  },
  {
   "cell_type": "code",
   "execution_count": null,
   "metadata": {},
   "outputs": [],
   "source": [
    "start = time.time()\n",
    "stats_full.run_emcee()\n",
    "end = time.time()"
   ]
  },
  {
   "cell_type": "code",
   "execution_count": null,
   "metadata": {},
   "outputs": [],
   "source": [
    "end-start"
   ]
  },
  {
   "cell_type": "code",
   "execution_count": null,
   "metadata": {},
   "outputs": [],
   "source": [
    "stats_full.save_results()"
   ]
  },
  {
   "cell_type": "code",
   "execution_count": null,
   "metadata": {},
   "outputs": [],
   "source": [
    "9170.64813709259/3600"
   ]
  },
  {
   "cell_type": "code",
   "execution_count": null,
   "metadata": {},
   "outputs": [],
   "source": [
    "assert stats_full.log['did_run']"
   ]
  },
  {
   "cell_type": "code",
   "execution_count": null,
   "metadata": {},
   "outputs": [],
   "source": [
    "stats_full.show_walkers()"
   ]
  },
  {
   "cell_type": "code",
   "execution_count": null,
   "metadata": {},
   "outputs": [],
   "source": [
    "stats_full.show_corner()"
   ]
  },
  {
   "cell_type": "code",
   "execution_count": null,
   "metadata": {},
   "outputs": [],
   "source": [
    "corner.corner(\n",
    "    stats_full.sampler.get_chain(\n",
    "        flat=True,\n",
    "        thin = 50,\n",
    "        discard=int(stats_full.nsteps * 0.2)\n",
    "    ),\n",
    "              labels=stats_full.fit_parameters);"
   ]
  }
 ],
 "metadata": {
  "kernelspec": {
   "display_name": "Python 3",
   "language": "python",
   "name": "python3"
  },
  "language_info": {
   "codemirror_mode": {
    "name": "ipython",
    "version": 3
   },
   "file_extension": ".py",
   "mimetype": "text/x-python",
   "name": "python",
   "nbconvert_exporter": "python",
   "pygments_lexer": "ipython3",
   "version": "3.7.4"
  }
 },
 "nbformat": 4,
 "nbformat_minor": 2
}
