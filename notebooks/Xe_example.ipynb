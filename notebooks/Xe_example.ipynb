{
 "cells": [
  {
   "cell_type": "code",
   "execution_count": 1,
   "metadata": {},
   "outputs": [
    {
     "name": "stdout",
     "output_type": "stream",
     "text": [
      "calculating effective efficiency for Xe detector done\n",
      "calculating effective efficiency for Ar detector done\n",
      "calculating effective efficiency for Ge detector done\n"
     ]
    }
   ],
   "source": [
    "import DirectDmTargets as dddm"
   ]
  },
  {
   "cell_type": "code",
   "execution_count": 2,
   "metadata": {},
   "outputs": [
    {
     "data": {
      "text/plain": [
       "'0.3.1'"
      ]
     },
     "execution_count": 2,
     "metadata": {},
     "output_type": "execute_result"
    }
   ],
   "source": [
    "import wimprates as wr\n",
    "assert wr.__version__ !='0.2.2'\n",
    "wr.__version__"
   ]
  },
  {
   "cell_type": "code",
   "execution_count": 3,
   "metadata": {},
   "outputs": [],
   "source": [
    "import numpy as np\n",
    "import matplotlib.pyplot as plt"
   ]
  },
  {
   "cell_type": "code",
   "execution_count": 4,
   "metadata": {},
   "outputs": [],
   "source": [
    "import numericalunits as nu"
   ]
  },
  {
   "cell_type": "code",
   "execution_count": 5,
   "metadata": {},
   "outputs": [],
   "source": [
    "from tqdm import tqdm"
   ]
  },
  {
   "cell_type": "code",
   "execution_count": 6,
   "metadata": {},
   "outputs": [],
   "source": [
    "from scipy.integrate import quad as scipy_int"
   ]
  },
  {
   "cell_type": "code",
   "execution_count": 7,
   "metadata": {},
   "outputs": [],
   "source": [
    "import pandas as pd"
   ]
  },
  {
   "cell_type": "code",
   "execution_count": 8,
   "metadata": {},
   "outputs": [],
   "source": [
    "import scipy"
   ]
  },
  {
   "cell_type": "code",
   "execution_count": 9,
   "metadata": {},
   "outputs": [
    {
     "data": {
      "text/plain": [
       "'3.0.0'"
      ]
     },
     "execution_count": 9,
     "metadata": {},
     "output_type": "execute_result"
    }
   ],
   "source": [
    "import emcee\n",
    "emcee.__version__"
   ]
  },
  {
   "cell_type": "code",
   "execution_count": 10,
   "metadata": {},
   "outputs": [],
   "source": [
    "import corner"
   ]
  },
  {
   "cell_type": "code",
   "execution_count": 11,
   "metadata": {},
   "outputs": [],
   "source": [
    "import time"
   ]
  },
  {
   "cell_type": "markdown",
   "metadata": {},
   "source": [
    "# Direct detection of Dark matter using different target materials #\n",
    "\n",
    "Author:\n",
    "\n",
    "Joran Angevaare <j.angevaare@nikef.nl>\n",
    "\n",
    "Date:\n",
    "\n",
    "14 october 2019 \n",
    "\n",
    "## Goal ## \n",
    "\n",
    "- Roughly reproduce <https://journals.aps.org/prd/abstract/10.1103/PhysRevD.83.083505>\n",
    "- Update the results thereof with more recent knowledge of the DM-distribution\n",
    "\n",
    "### Approach ###\n",
    "To achieve these goals, we must first get a decent recoil spectrum, that is flexible enough to have different astrophysical parameters. Further, it must also be flexible enough to be able to allow for different analytic functions to be added to the model. For instance, we must be able to incorporate the $\\rm{SHM}^{++}$ as presented here <https://arxiv.org/abs/1810.11468>.\n",
    "\n",
    "When we have a sufficiently flexible model, we want to add in the detector physics, we should therein incorporate at least the following parameters:\n",
    "- target\n",
    "  - material\n",
    "  - cross-section\n",
    "- threshold\n",
    "- background\n",
    "- cut efficiency  \n",
    "- volume\n",
    "- exposure\n",
    "\n",
    "Finally we should perform the inference"
   ]
  },
  {
   "cell_type": "markdown",
   "metadata": {},
   "source": [
    "# Emcee #\n",
    "<https://emcee.readthedocs.io/en/stable/tutorials/quickstart/>"
   ]
  },
  {
   "cell_type": "code",
   "execution_count": null,
   "metadata": {},
   "outputs": [],
   "source": []
  },
  {
   "cell_type": "markdown",
   "metadata": {},
   "source": [
    "## Distribution of the DM ##\n",
    "First we need to make a DM-rate spectrum"
   ]
  },
  {
   "cell_type": "code",
   "execution_count": 12,
   "metadata": {
    "scrolled": false
   },
   "outputs": [
    {
     "name": "stdout",
     "output_type": "stream",
     "text": [
      "StatModel::\tinitialized for Xe detector. See print(stat_model) for default settings\n"
     ]
    }
   ],
   "source": [
    "stats = dddm.NestleStatModel(\"Xe\")"
   ]
  },
  {
   "cell_type": "code",
   "execution_count": 13,
   "metadata": {},
   "outputs": [
    {
     "data": {
      "text/html": [
       "<div>\n",
       "<style scoped>\n",
       "    .dataframe tbody tr th:only-of-type {\n",
       "        vertical-align: middle;\n",
       "    }\n",
       "\n",
       "    .dataframe tbody tr th {\n",
       "        vertical-align: top;\n",
       "    }\n",
       "\n",
       "    .dataframe thead th {\n",
       "        text-align: right;\n",
       "    }\n",
       "</style>\n",
       "<table border=\"1\" class=\"dataframe\">\n",
       "  <thead>\n",
       "    <tr style=\"text-align: right;\">\n",
       "      <th></th>\n",
       "      <th>counts</th>\n",
       "      <th>bin_centers</th>\n",
       "      <th>bin_left</th>\n",
       "      <th>bin_right</th>\n",
       "    </tr>\n",
       "  </thead>\n",
       "  <tbody>\n",
       "    <tr>\n",
       "      <th>0</th>\n",
       "      <td>27.391302</td>\n",
       "      <td>5.0</td>\n",
       "      <td>0.0</td>\n",
       "      <td>10.0</td>\n",
       "    </tr>\n",
       "    <tr>\n",
       "      <th>1</th>\n",
       "      <td>208.833173</td>\n",
       "      <td>15.0</td>\n",
       "      <td>10.0</td>\n",
       "      <td>20.0</td>\n",
       "    </tr>\n",
       "    <tr>\n",
       "      <th>2</th>\n",
       "      <td>86.353906</td>\n",
       "      <td>25.0</td>\n",
       "      <td>20.0</td>\n",
       "      <td>30.0</td>\n",
       "    </tr>\n",
       "    <tr>\n",
       "      <th>3</th>\n",
       "      <td>29.497642</td>\n",
       "      <td>35.0</td>\n",
       "      <td>30.0</td>\n",
       "      <td>40.0</td>\n",
       "    </tr>\n",
       "    <tr>\n",
       "      <th>4</th>\n",
       "      <td>9.322992</td>\n",
       "      <td>45.0</td>\n",
       "      <td>40.0</td>\n",
       "      <td>50.0</td>\n",
       "    </tr>\n",
       "    <tr>\n",
       "      <th>5</th>\n",
       "      <td>2.674535</td>\n",
       "      <td>55.0</td>\n",
       "      <td>50.0</td>\n",
       "      <td>60.0</td>\n",
       "    </tr>\n",
       "    <tr>\n",
       "      <th>6</th>\n",
       "      <td>0.672017</td>\n",
       "      <td>65.0</td>\n",
       "      <td>60.0</td>\n",
       "      <td>70.0</td>\n",
       "    </tr>\n",
       "    <tr>\n",
       "      <th>7</th>\n",
       "      <td>0.137943</td>\n",
       "      <td>75.0</td>\n",
       "      <td>70.0</td>\n",
       "      <td>80.0</td>\n",
       "    </tr>\n",
       "    <tr>\n",
       "      <th>8</th>\n",
       "      <td>0.019942</td>\n",
       "      <td>85.0</td>\n",
       "      <td>80.0</td>\n",
       "      <td>90.0</td>\n",
       "    </tr>\n",
       "    <tr>\n",
       "      <th>9</th>\n",
       "      <td>0.001549</td>\n",
       "      <td>95.0</td>\n",
       "      <td>90.0</td>\n",
       "      <td>100.0</td>\n",
       "    </tr>\n",
       "  </tbody>\n",
       "</table>\n",
       "</div>"
      ],
      "text/plain": [
       "       counts  bin_centers  bin_left  bin_right\n",
       "0   27.391302          5.0       0.0       10.0\n",
       "1  208.833173         15.0      10.0       20.0\n",
       "2   86.353906         25.0      20.0       30.0\n",
       "3   29.497642         35.0      30.0       40.0\n",
       "4    9.322992         45.0      40.0       50.0\n",
       "5    2.674535         55.0      50.0       60.0\n",
       "6    0.672017         65.0      60.0       70.0\n",
       "7    0.137943         75.0      70.0       80.0\n",
       "8    0.019942         85.0      80.0       90.0\n",
       "9    0.001549         95.0      90.0      100.0"
      ]
     },
     "execution_count": 13,
     "metadata": {},
     "output_type": "execute_result"
    }
   ],
   "source": [
    "stats.check_spectrum()"
   ]
  },
  {
   "cell_type": "code",
   "execution_count": 14,
   "metadata": {},
   "outputs": [
    {
     "data": {
      "text/plain": [
       "{'did_run': False, 'saved_in': None}"
      ]
     },
     "execution_count": 14,
     "metadata": {},
     "output_type": "execute_result"
    }
   ],
   "source": [
    "stats.nlive = 100\n",
    "stats.tol = 0.9\n",
    "stats.log"
   ]
  },
  {
   "cell_type": "code",
   "execution_count": 15,
   "metadata": {},
   "outputs": [
    {
     "name": "stdout",
     "output_type": "stream",
     "text": [
      "run_nestle::\tstart_fit for 2 parameters\n",
      "run_nestle::\tfit_done in 216 s (0.1 h)\n"
     ]
    }
   ],
   "source": [
    "start = time.time()\n",
    "stats.run_nestle()\n",
    "end = time.time()"
   ]
  },
  {
   "cell_type": "code",
   "execution_count": 16,
   "metadata": {},
   "outputs": [
    {
     "name": "stdout",
     "output_type": "stream",
     "text": [
      "open_save_dir::\tusing results/nestle55/\n",
      "\t log_mass  1.72 +/-  0.04\n",
      "\t mass 52.3 +/- 4.4\n",
      "\t log_cross_section -45.00 +/-  0.02\n",
      "\t cross_section 1e-45 +/- 5.4e-47\n",
      "save_results::\tdone_saving\n"
     ]
    }
   ],
   "source": [
    "stats.save_results()"
   ]
  },
  {
   "cell_type": "code",
   "execution_count": 17,
   "metadata": {},
   "outputs": [],
   "source": [
    "stats.log['saved_in']= \"results/nestle51/\""
   ]
  },
  {
   "cell_type": "code",
   "execution_count": 18,
   "metadata": {},
   "outputs": [
    {
     "name": "stdout",
     "output_type": "stream",
     "text": [
      "load_nestle_samples::\tloading results/nestle51/\n",
      "load_nestle_samples::\tdone loading\n",
      "access result with:\n",
      "['config', 'res_dict', 'h', 'logl', 'logvol', 'logz', 'logzerr', 'ncall', 'niter', 'samples', 'weights']\n"
     ]
    },
    {
     "data": {
      "image/png": "[encoded data removed]",
      "text/plain": [
       "<Figure size 396x396 with 4 Axes>"
      ]
     },
     "metadata": {
      "needs_background": "light"
     },
     "output_type": "display_data"
    }
   ],
   "source": [
    "stats.show_corner()"
   ]
  },
  {
   "cell_type": "code",
   "execution_count": 19,
   "metadata": {},
   "outputs": [
    {
     "data": {
      "text/plain": [
       "False"
      ]
     },
     "execution_count": 19,
     "metadata": {},
     "output_type": "execute_result"
    }
   ],
   "source": [
    "None is not None"
   ]
  },
  {
   "cell_type": "code",
   "execution_count": null,
   "metadata": {},
   "outputs": [],
   "source": [
    "!run_dddm_nestle.py"
   ]
  },
  {
   "cell_type": "code",
   "execution_count": 20,
   "metadata": {
    "scrolled": true
   },
   "outputs": [
    {
     "name": "stdout",
     "output_type": "stream",
     "text": [
      "\t log_mass  1.72 +/-  0.04\n",
      "\t mass 52.3 +/- 4.4\n",
      "\t log_cross_section -45.00 +/-  0.02\n",
      "\t cross_section 1e-45 +/- 5.4e-47\n"
     ]
    },
    {
     "data": {
      "text/plain": [
       "{'nestle_nposterior': 129,\n",
       " 'nestle_time': 216,\n",
       " 'nestle_logZ': -11.79435910627196,\n",
       " 'nestle_logZerr': 0.26831537991117843,\n",
       " 'summary': 'niter: 896\\nncall: 1904\\nnsamples: 996\\nlogz: -11.794 +/-  0.268\\nh:  7.199',\n",
       " 'N_posterior_samples ': 129,\n",
       " 'log_mass_fit_res': ' 1.72 +/-  0.04',\n",
       " 'mass_fit_res': '52.3 +/- 4.4',\n",
       " 'log_cross_section_fit_res': '-45.00 +/-  0.02',\n",
       " 'cross_section_fit_res': '1e-45 +/- 5.4e-47'}"
      ]
     },
     "execution_count": 20,
     "metadata": {},
     "output_type": "execute_result"
    }
   ],
   "source": [
    "first_res = stats.get_summary()\n",
    "first_res"
   ]
  },
  {
   "cell_type": "code",
   "execution_count": null,
   "metadata": {},
   "outputs": [],
   "source": []
  },
  {
   "cell_type": "code",
   "execution_count": 21,
   "metadata": {},
   "outputs": [
    {
     "name": "stdout",
     "output_type": "stream",
     "text": [
      "StatModel::\tinitialized for Xe detector. See print(stat_model) for default settings\n",
      "StatModel::\ttaking log10 of mass of 20\n",
      "StatModel::\tre-evaluate benchmark\n"
     ]
    }
   ],
   "source": [
    "stats_30bins = dddm.NestleStatModel(\"Xe\")\n",
    "stats_30bins.set_benchmark(20,-45)\n",
    "stats_30bins.config['n_energy_bins'] = 30\n",
    "\n",
    "stats_30bins.eval_benchmark()\n"
   ]
  },
  {
   "cell_type": "code",
   "execution_count": 22,
   "metadata": {},
   "outputs": [
    {
     "data": {
      "text/html": [
       "<div>\n",
       "<style scoped>\n",
       "    .dataframe tbody tr th:only-of-type {\n",
       "        vertical-align: middle;\n",
       "    }\n",
       "\n",
       "    .dataframe tbody tr th {\n",
       "        vertical-align: top;\n",
       "    }\n",
       "\n",
       "    .dataframe thead th {\n",
       "        text-align: right;\n",
       "    }\n",
       "</style>\n",
       "<table border=\"1\" class=\"dataframe\">\n",
       "  <thead>\n",
       "    <tr style=\"text-align: right;\">\n",
       "      <th></th>\n",
       "      <th>counts</th>\n",
       "      <th>bin_centers</th>\n",
       "      <th>bin_left</th>\n",
       "      <th>bin_right</th>\n",
       "    </tr>\n",
       "  </thead>\n",
       "  <tbody>\n",
       "    <tr>\n",
       "      <th>0</th>\n",
       "      <td>2.548725e-03</td>\n",
       "      <td>1.666667</td>\n",
       "      <td>0.000000</td>\n",
       "      <td>3.333333</td>\n",
       "    </tr>\n",
       "    <tr>\n",
       "      <th>1</th>\n",
       "      <td>5.790253e-01</td>\n",
       "      <td>5.000000</td>\n",
       "      <td>3.333333</td>\n",
       "      <td>6.666667</td>\n",
       "    </tr>\n",
       "    <tr>\n",
       "      <th>2</th>\n",
       "      <td>1.086965e+01</td>\n",
       "      <td>8.333333</td>\n",
       "      <td>6.666667</td>\n",
       "      <td>10.000000</td>\n",
       "    </tr>\n",
       "    <tr>\n",
       "      <th>3</th>\n",
       "      <td>2.646850e+01</td>\n",
       "      <td>11.666667</td>\n",
       "      <td>10.000000</td>\n",
       "      <td>13.333333</td>\n",
       "    </tr>\n",
       "    <tr>\n",
       "      <th>4</th>\n",
       "      <td>1.652730e+01</td>\n",
       "      <td>15.000000</td>\n",
       "      <td>13.333333</td>\n",
       "      <td>16.666667</td>\n",
       "    </tr>\n",
       "    <tr>\n",
       "      <th>5</th>\n",
       "      <td>6.377083e+00</td>\n",
       "      <td>18.333333</td>\n",
       "      <td>16.666667</td>\n",
       "      <td>20.000000</td>\n",
       "    </tr>\n",
       "    <tr>\n",
       "      <th>6</th>\n",
       "      <td>2.231391e+00</td>\n",
       "      <td>21.666667</td>\n",
       "      <td>20.000000</td>\n",
       "      <td>23.333333</td>\n",
       "    </tr>\n",
       "    <tr>\n",
       "      <th>7</th>\n",
       "      <td>7.061249e-01</td>\n",
       "      <td>25.000000</td>\n",
       "      <td>23.333333</td>\n",
       "      <td>26.666667</td>\n",
       "    </tr>\n",
       "    <tr>\n",
       "      <th>8</th>\n",
       "      <td>1.899223e-01</td>\n",
       "      <td>28.333333</td>\n",
       "      <td>26.666667</td>\n",
       "      <td>30.000000</td>\n",
       "    </tr>\n",
       "    <tr>\n",
       "      <th>9</th>\n",
       "      <td>3.933317e-02</td>\n",
       "      <td>31.666667</td>\n",
       "      <td>30.000000</td>\n",
       "      <td>33.333333</td>\n",
       "    </tr>\n",
       "    <tr>\n",
       "      <th>10</th>\n",
       "      <td>5.523743e-03</td>\n",
       "      <td>35.000000</td>\n",
       "      <td>33.333333</td>\n",
       "      <td>36.666667</td>\n",
       "    </tr>\n",
       "    <tr>\n",
       "      <th>11</th>\n",
       "      <td>4.617783e-04</td>\n",
       "      <td>38.333333</td>\n",
       "      <td>36.666667</td>\n",
       "      <td>40.000000</td>\n",
       "    </tr>\n",
       "    <tr>\n",
       "      <th>12</th>\n",
       "      <td>2.056694e-05</td>\n",
       "      <td>41.666667</td>\n",
       "      <td>40.000000</td>\n",
       "      <td>43.333333</td>\n",
       "    </tr>\n",
       "    <tr>\n",
       "      <th>13</th>\n",
       "      <td>4.485429e-07</td>\n",
       "      <td>45.000000</td>\n",
       "      <td>43.333333</td>\n",
       "      <td>46.666667</td>\n",
       "    </tr>\n",
       "    <tr>\n",
       "      <th>14</th>\n",
       "      <td>4.507252e-09</td>\n",
       "      <td>48.333333</td>\n",
       "      <td>46.666667</td>\n",
       "      <td>50.000000</td>\n",
       "    </tr>\n",
       "    <tr>\n",
       "      <th>15</th>\n",
       "      <td>1.998680e-11</td>\n",
       "      <td>51.666667</td>\n",
       "      <td>50.000000</td>\n",
       "      <td>53.333333</td>\n",
       "    </tr>\n",
       "    <tr>\n",
       "      <th>16</th>\n",
       "      <td>3.792961e-14</td>\n",
       "      <td>55.000000</td>\n",
       "      <td>53.333333</td>\n",
       "      <td>56.666667</td>\n",
       "    </tr>\n",
       "    <tr>\n",
       "      <th>17</th>\n",
       "      <td>3.013508e-17</td>\n",
       "      <td>58.333333</td>\n",
       "      <td>56.666667</td>\n",
       "      <td>60.000000</td>\n",
       "    </tr>\n",
       "    <tr>\n",
       "      <th>18</th>\n",
       "      <td>9.864998e-21</td>\n",
       "      <td>61.666667</td>\n",
       "      <td>60.000000</td>\n",
       "      <td>63.333333</td>\n",
       "    </tr>\n",
       "    <tr>\n",
       "      <th>19</th>\n",
       "      <td>1.315053e-24</td>\n",
       "      <td>65.000000</td>\n",
       "      <td>63.333333</td>\n",
       "      <td>66.666667</td>\n",
       "    </tr>\n",
       "    <tr>\n",
       "      <th>20</th>\n",
       "      <td>7.075680e-29</td>\n",
       "      <td>68.333333</td>\n",
       "      <td>66.666667</td>\n",
       "      <td>70.000000</td>\n",
       "    </tr>\n",
       "    <tr>\n",
       "      <th>21</th>\n",
       "      <td>1.526181e-33</td>\n",
       "      <td>71.666667</td>\n",
       "      <td>70.000000</td>\n",
       "      <td>73.333333</td>\n",
       "    </tr>\n",
       "    <tr>\n",
       "      <th>22</th>\n",
       "      <td>1.312475e-38</td>\n",
       "      <td>75.000000</td>\n",
       "      <td>73.333333</td>\n",
       "      <td>76.666667</td>\n",
       "    </tr>\n",
       "    <tr>\n",
       "      <th>23</th>\n",
       "      <td>4.479778e-44</td>\n",
       "      <td>78.333333</td>\n",
       "      <td>76.666667</td>\n",
       "      <td>80.000000</td>\n",
       "    </tr>\n",
       "    <tr>\n",
       "      <th>24</th>\n",
       "      <td>6.044970e-50</td>\n",
       "      <td>81.666667</td>\n",
       "      <td>80.000000</td>\n",
       "      <td>83.333333</td>\n",
       "    </tr>\n",
       "    <tr>\n",
       "      <th>25</th>\n",
       "      <td>3.213352e-56</td>\n",
       "      <td>85.000000</td>\n",
       "      <td>83.333333</td>\n",
       "      <td>86.666667</td>\n",
       "    </tr>\n",
       "    <tr>\n",
       "      <th>26</th>\n",
       "      <td>6.706702e-63</td>\n",
       "      <td>88.333333</td>\n",
       "      <td>86.666667</td>\n",
       "      <td>90.000000</td>\n",
       "    </tr>\n",
       "    <tr>\n",
       "      <th>27</th>\n",
       "      <td>5.478815e-70</td>\n",
       "      <td>91.666667</td>\n",
       "      <td>90.000000</td>\n",
       "      <td>93.333333</td>\n",
       "    </tr>\n",
       "    <tr>\n",
       "      <th>28</th>\n",
       "      <td>1.746656e-77</td>\n",
       "      <td>95.000000</td>\n",
       "      <td>93.333333</td>\n",
       "      <td>96.666667</td>\n",
       "    </tr>\n",
       "    <tr>\n",
       "      <th>29</th>\n",
       "      <td>2.167067e-85</td>\n",
       "      <td>98.333333</td>\n",
       "      <td>96.666667</td>\n",
       "      <td>100.000000</td>\n",
       "    </tr>\n",
       "  </tbody>\n",
       "</table>\n",
       "</div>"
      ],
      "text/plain": [
       "          counts  bin_centers   bin_left   bin_right\n",
       "0   2.548725e-03     1.666667   0.000000    3.333333\n",
       "1   5.790253e-01     5.000000   3.333333    6.666667\n",
       "2   1.086965e+01     8.333333   6.666667   10.000000\n",
       "3   2.646850e+01    11.666667  10.000000   13.333333\n",
       "4   1.652730e+01    15.000000  13.333333   16.666667\n",
       "5   6.377083e+00    18.333333  16.666667   20.000000\n",
       "6   2.231391e+00    21.666667  20.000000   23.333333\n",
       "7   7.061249e-01    25.000000  23.333333   26.666667\n",
       "8   1.899223e-01    28.333333  26.666667   30.000000\n",
       "9   3.933317e-02    31.666667  30.000000   33.333333\n",
       "10  5.523743e-03    35.000000  33.333333   36.666667\n",
       "11  4.617783e-04    38.333333  36.666667   40.000000\n",
       "12  2.056694e-05    41.666667  40.000000   43.333333\n",
       "13  4.485429e-07    45.000000  43.333333   46.666667\n",
       "14  4.507252e-09    48.333333  46.666667   50.000000\n",
       "15  1.998680e-11    51.666667  50.000000   53.333333\n",
       "16  3.792961e-14    55.000000  53.333333   56.666667\n",
       "17  3.013508e-17    58.333333  56.666667   60.000000\n",
       "18  9.864998e-21    61.666667  60.000000   63.333333\n",
       "19  1.315053e-24    65.000000  63.333333   66.666667\n",
       "20  7.075680e-29    68.333333  66.666667   70.000000\n",
       "21  1.526181e-33    71.666667  70.000000   73.333333\n",
       "22  1.312475e-38    75.000000  73.333333   76.666667\n",
       "23  4.479778e-44    78.333333  76.666667   80.000000\n",
       "24  6.044970e-50    81.666667  80.000000   83.333333\n",
       "25  3.213352e-56    85.000000  83.333333   86.666667\n",
       "26  6.706702e-63    88.333333  86.666667   90.000000\n",
       "27  5.478815e-70    91.666667  90.000000   93.333333\n",
       "28  1.746656e-77    95.000000  93.333333   96.666667\n",
       "29  2.167067e-85    98.333333  96.666667  100.000000"
      ]
     },
     "execution_count": 22,
     "metadata": {},
     "output_type": "execute_result"
    }
   ],
   "source": [
    "stats_30bins.check_spectrum()"
   ]
  },
  {
   "cell_type": "code",
   "execution_count": 22,
   "metadata": {},
   "outputs": [
    {
     "data": {
      "text/plain": [
       "{'did_run': False, 'saved_in': None}"
      ]
     },
     "execution_count": 22,
     "metadata": {},
     "output_type": "execute_result"
    }
   ],
   "source": [
    "stats_30bins.nlive = 100\n",
    "stats_30bins.tol = 0.9\n",
    "stats_30bins.log"
   ]
  },
  {
   "cell_type": "code",
   "execution_count": 24,
   "metadata": {},
   "outputs": [
    {
     "name": "stdout",
     "output_type": "stream",
     "text": [
      "run_nestle::\tstart_fit for 2 parameters\n",
      "run_nestle::\tfit_done in 661 s (0.2 h)\n"
     ]
    }
   ],
   "source": [
    "stats_30bins.run_nestle()"
   ]
  },
  {
   "cell_type": "code",
   "execution_count": 25,
   "metadata": {},
   "outputs": [
    {
     "name": "stdout",
     "output_type": "stream",
     "text": [
      "\t log_mass  1.69 +/-  0.04\n",
      "\t mass 48.8 +/- 4.1\n",
      "\t log_cross_section -44.99 +/-  0.03\n",
      "\t cross_section 1.01e-45 +/- 5.9e-47\n"
     ]
    },
    {
     "data": {
      "text/plain": [
       "{'nestle_nposterior': 119,\n",
       " 'nestle_time': 661,\n",
       " 'nestle_logZ': -21.07605593356324,\n",
       " 'nestle_logZerr': 0.25722109671568694,\n",
       " 'summary': 'niter: 824\\nncall: 1993\\nnsamples: 924\\nlogz: -21.076 +/-  0.257\\nh:  6.616',\n",
       " 'N_posterior_samples ': 119,\n",
       " 'log_mass_fit_res': ' 1.69 +/-  0.04',\n",
       " 'mass_fit_res': '48.8 +/- 4.1',\n",
       " 'log_cross_section_fit_res': '-44.99 +/-  0.03',\n",
       " 'cross_section_fit_res': '1.01e-45 +/- 5.9e-47'}"
      ]
     },
     "execution_count": 25,
     "metadata": {},
     "output_type": "execute_result"
    }
   ],
   "source": [
    "second_res = stats_30bins.get_summary()\n",
    "second_res"
   ]
  },
  {
   "cell_type": "code",
   "execution_count": 26,
   "metadata": {},
   "outputs": [
    {
     "name": "stdout",
     "output_type": "stream",
     "text": [
      "open_save_dir::\tusing results/nestle56/\n",
      "\t log_mass  1.69 +/-  0.04\n",
      "\t mass 48.8 +/- 4.1\n",
      "\t log_cross_section -44.99 +/-  0.03\n",
      "\t cross_section 1.01e-45 +/- 5.9e-47\n",
      "save_results::\tdone_saving\n"
     ]
    }
   ],
   "source": [
    "stats_30bins.save_results()"
   ]
  },
  {
   "cell_type": "code",
   "execution_count": 27,
   "metadata": {},
   "outputs": [],
   "source": [
    "stats_30bins.log['saved_in']= \"results/nestle53/\""
   ]
  },
  {
   "cell_type": "code",
   "execution_count": 28,
   "metadata": {},
   "outputs": [
    {
     "name": "stdout",
     "output_type": "stream",
     "text": [
      "load_nestle_samples::\tloading results/nestle53/\n",
      "load_nestle_samples::\tdone loading\n",
      "access result with:\n",
      "['config', 'res_dict', 'h', 'logl', 'logvol', 'logz', 'logzerr', 'ncall', 'niter', 'samples', 'weights']\n"
     ]
    },
    {
     "data": {
      "image/png": "[encoded data removed]",
      "text/plain": [
       "<Figure size 396x396 with 4 Axes>"
      ]
     },
     "metadata": {
      "needs_background": "light"
     },
     "output_type": "display_data"
    }
   ],
   "source": [
    "stats_30bins.show_corner()"
   ]
  },
  {
   "cell_type": "code",
   "execution_count": 29,
   "metadata": {},
   "outputs": [],
   "source": [
    "# rest = dddm.load_nestle_samples(\"nestle\",0)\n",
    "# dddm.nestle_corner(rest)"
   ]
  },
  {
   "cell_type": "code",
   "execution_count": 30,
   "metadata": {},
   "outputs": [
    {
     "name": "stdout",
     "output_type": "stream",
     "text": [
      "open_save_dir::\tusing results/test_new0/\n"
     ]
    }
   ],
   "source": [
    "fname = dddm.open_save_dir('test_new')"
   ]
  },
  {
   "cell_type": "code",
   "execution_count": 31,
   "metadata": {},
   "outputs": [
    {
     "data": {
      "text/plain": [
       "'results/test_new0/'"
      ]
     },
     "execution_count": 31,
     "metadata": {},
     "output_type": "execute_result"
    }
   ],
   "source": [
    "fname"
   ]
  },
  {
   "cell_type": "markdown",
   "metadata": {},
   "source": [
    "## Full dimensionality ##"
   ]
  },
  {
   "cell_type": "code",
   "execution_count": 32,
   "metadata": {},
   "outputs": [
    {
     "name": "stdout",
     "output_type": "stream",
     "text": [
      "StatModel::\tinitialized for Xe detector. See print(stat_model) for default settings\n"
     ]
    }
   ],
   "source": [
    "stats_full = dddm.NestleStatModel(\"Xe\")"
   ]
  },
  {
   "cell_type": "code",
   "execution_count": 33,
   "metadata": {},
   "outputs": [
    {
     "name": "stdout",
     "output_type": "stream",
     "text": [
      "run_nestle::\tstart_fit for 2 parameters\n",
      "run_nestle::\tfit_done in 3381 s (0.9 h)\n",
      "\t log_mass  1.72 +/-  0.04\n",
      "\t mass 52 +/- 4.4\n",
      "\t log_cross_section -45.00 +/-  0.02\n",
      "\t cross_section 1e-45 +/- 5.6e-47\n"
     ]
    },
    {
     "data": {
      "text/plain": [
       "{'nestle_nposterior': 3418,\n",
       " 'nestle_time': 3381,\n",
       " 'nestle_logZ': -11.884602983668257,\n",
       " 'nestle_logZerr': 0.08399416501478868,\n",
       " 'summary': 'niter: 11529\\nncall: 27302\\nnsamples: 12553\\nlogz: -11.885 +/-  0.084\\nh:  7.224',\n",
       " 'N_posterior_samples ': 3418,\n",
       " 'log_mass_fit_res': ' 1.72 +/-  0.04',\n",
       " 'mass_fit_res': '52 +/- 4.4',\n",
       " 'log_cross_section_fit_res': '-45.00 +/-  0.02',\n",
       " 'cross_section_fit_res': '1e-45 +/- 5.6e-47'}"
      ]
     },
     "execution_count": 33,
     "metadata": {},
     "output_type": "execute_result"
    }
   ],
   "source": [
    "stats_full.get_summary()"
   ]
  },
  {
   "cell_type": "code",
   "execution_count": 34,
   "metadata": {},
   "outputs": [
    {
     "data": {
      "text/plain": [
       "{'did_run': True, 'saved_in': None}"
      ]
     },
     "execution_count": 34,
     "metadata": {},
     "output_type": "execute_result"
    }
   ],
   "source": [
    "stats_full.log"
   ]
  },
  {
   "cell_type": "code",
   "execution_count": 35,
   "metadata": {},
   "outputs": [],
   "source": [
    "# for key in stats_full.log.keys():\n",
    "#     stats_full.log[key] = False\n"
   ]
  },
  {
   "cell_type": "code",
   "execution_count": 36,
   "metadata": {},
   "outputs": [
    {
     "ename": "AttributeError",
     "evalue": "'NestleStatModel' object has no attribute 'nwalkers'",
     "output_type": "error",
     "traceback": [
      "\u001b[1;31m---------------------------------------------------------------------------\u001b[0m",
      "\u001b[1;31mAttributeError\u001b[0m                            Traceback (most recent call last)",
      "\u001b[1;32m<ipython-input-36-ce1d9325bbdd>\u001b[0m in \u001b[0;36m<module>\u001b[1;34m\u001b[0m\n\u001b[1;32m----> 1\u001b[1;33m \u001b[0mstats_full\u001b[0m\u001b[1;33m.\u001b[0m\u001b[0mnwalkers\u001b[0m \u001b[1;33m=\u001b[0m \u001b[0mstats\u001b[0m\u001b[1;33m.\u001b[0m\u001b[0mnwalkers\u001b[0m\u001b[1;33m\u001b[0m\u001b[1;33m\u001b[0m\u001b[0m\n\u001b[0m\u001b[0;32m      2\u001b[0m \u001b[0mstats_full\u001b[0m\u001b[1;33m.\u001b[0m\u001b[0mnsteps\u001b[0m \u001b[1;33m=\u001b[0m \u001b[0mstats\u001b[0m\u001b[1;33m.\u001b[0m\u001b[0mnsteps\u001b[0m \u001b[1;33m*\u001b[0m \u001b[1;36m2\u001b[0m\u001b[1;33m\u001b[0m\u001b[1;33m\u001b[0m\u001b[0m\n\u001b[0;32m      3\u001b[0m \u001b[0mstats_full\u001b[0m\u001b[1;33m.\u001b[0m\u001b[0mlog\u001b[0m\u001b[1;33m\u001b[0m\u001b[1;33m\u001b[0m\u001b[0m\n",
      "\u001b[1;31mAttributeError\u001b[0m: 'NestleStatModel' object has no attribute 'nwalkers'"
     ]
    }
   ],
   "source": [
    "stats_full.nwalkers = stats.nwalkers\n",
    "stats_full.nsteps = stats.nsteps * 2\n",
    "stats_full.log"
   ]
  },
  {
   "cell_type": "code",
   "execution_count": null,
   "metadata": {},
   "outputs": [],
   "source": [
    "stats_full.fit_parameters = stats_full.known_parameters"
   ]
  },
  {
   "cell_type": "code",
   "execution_count": null,
   "metadata": {},
   "outputs": [],
   "source": [
    "stats_full.check_spectrum()"
   ]
  },
  {
   "cell_type": "code",
   "execution_count": null,
   "metadata": {},
   "outputs": [],
   "source": [
    "start = time.time()\n",
    "stats_full.run_emcee()\n",
    "end = time.time()"
   ]
  },
  {
   "cell_type": "code",
   "execution_count": null,
   "metadata": {},
   "outputs": [],
   "source": [
    "end-start"
   ]
  },
  {
   "cell_type": "code",
   "execution_count": null,
   "metadata": {},
   "outputs": [],
   "source": [
    "stats_full.save_results()"
   ]
  },
  {
   "cell_type": "code",
   "execution_count": null,
   "metadata": {},
   "outputs": [],
   "source": [
    "9170.64813709259/3600"
   ]
  },
  {
   "cell_type": "code",
   "execution_count": null,
   "metadata": {},
   "outputs": [],
   "source": [
    "assert stats_full.log['did_run']"
   ]
  },
  {
   "cell_type": "code",
   "execution_count": null,
   "metadata": {},
   "outputs": [],
   "source": [
    "stats_full.show_walkers()"
   ]
  },
  {
   "cell_type": "code",
   "execution_count": null,
   "metadata": {},
   "outputs": [],
   "source": [
    "stats_full.show_corner()"
   ]
  },
  {
   "cell_type": "code",
   "execution_count": null,
   "metadata": {},
   "outputs": [],
   "source": [
    "corner.corner(\n",
    "    stats_full.sampler.get_chain(\n",
    "        flat=True,\n",
    "        thin = 50,\n",
    "        discard=int(stats_full.nsteps * 0.2)\n",
    "    ),\n",
    "              labels=stats_full.fit_parameters);"
   ]
  }
 ],
 "metadata": {
  "kernelspec": {
   "display_name": "Python 3",
   "language": "python",
   "name": "python3"
  },
  "language_info": {
   "codemirror_mode": {
    "name": "ipython",
    "version": 3
   },
   "file_extension": ".py",
   "mimetype": "text/x-python",
   "name": "python",
   "nbconvert_exporter": "python",
   "pygments_lexer": "ipython3",
   "version": "3.7.4"
  }
 },
 "nbformat": 4,
 "nbformat_minor": 2
}
