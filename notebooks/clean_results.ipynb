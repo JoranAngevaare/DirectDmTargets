{
 "cells": [
  {
   "cell_type": "code",
   "execution_count": 3,
   "metadata": {},
   "outputs": [
    {
     "name": "stdout",
     "output_type": "stream",
     "text": [
      "rm -r results/test_nestle26\n",
      "rm -r results/test_nestle27\n",
      "rm -r results/test_nestle28\n"
     ]
    }
   ],
   "source": [
    "for index in [26, 27, 28]:\n",
    "# for index in range(143, 146):\n",
    "    cmd = f\"rm -r results/test_nestle{index}\"\n",
    "    print(cmd)\n",
    "    !$cmd"
   ]
  },
  {
   "cell_type": "code",
   "execution_count": 6,
   "metadata": {},
   "outputs": [
    {
     "name": "stdout",
     "output_type": "stream",
     "text": [
      "rm -r results/test_emcee0\n",
      "rm -r results/test_emcee1\n",
      "rm -r results/test_emcee2\n",
      "rm -r results/test_emcee3\n",
      "rm -r results/test_emcee4\n",
      "rm -r results/test_emcee5\n",
      "rm -r results/test_emcee6\n",
      "rm -r results/test_emcee7\n",
      "rm -r results/test_emcee8\n",
      "rm -r results/test_emcee9\n",
      "rm -r results/test_emcee10\n",
      "rm -r results/test_emcee11\n",
      "rm -r results/test_emcee12\n",
      "rm -r results/test_emcee13\n",
      "rm -r results/test_emcee14\n",
      "rm -r results/test_emcee15\n",
      "rm -r results/test_emcee16\n",
      "rm -r results/test_emcee17\n",
      "rm -r results/test_emcee18\n",
      "rm -r results/test_emcee19\n",
      "rm -r results/test_emcee20\n",
      "rm -r results/test_emcee21\n",
      "rm -r results/test_emcee22\n",
      "rm -r results/test_emcee23\n",
      "rm -r results/test_emcee24\n",
      "rm -r results/test_emcee25\n",
      "rm -r results/test_emcee26\n",
      "rm -r results/test_emcee27\n",
      "rm -r results/test_emcee28\n",
      "rm -r results/test_emcee29\n"
     ]
    }
   ],
   "source": [
    "for index in [0, 1, 2, 3, 4, 5, 6, 7, 8, 9, 10, 11, 12, 13, 14, 15, 16, 17, 18, 19, 20, 21, 22, 23, 24, 25, 26, 27, 28, 29]:\n",
    "# for index in range(143, 146):\n",
    "    cmd = f\"rm -r results/test_emcee{index}\"\n",
    "    print(cmd)\n",
    "    !$cmd\n"
   ]
  },
  {
   "cell_type": "code",
   "execution_count": null,
   "metadata": {},
   "outputs": [],
   "source": []
  }
 ],
 "metadata": {
  "kernelspec": {
   "display_name": "Python 3",
   "language": "python",
   "name": "python3"
  },
  "language_info": {
   "codemirror_mode": {
    "name": "ipython",
    "version": 3
   },
   "file_extension": ".py",
   "mimetype": "text/x-python",
   "name": "python",
   "nbconvert_exporter": "python",
   "pygments_lexer": "ipython3",
   "version": "3.7.4"
  }
 },
 "nbformat": 4,
 "nbformat_minor": 2
}
