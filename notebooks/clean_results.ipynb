{
 "cells": [
  {
   "cell_type": "code",
   "execution_count": null,
   "metadata": {},
   "outputs": [],
   "source": [
    "for index in [0, 1, 6, 9, 14, 17, 18, 19]:\n",
    "# for index in range(143, 146):\n",
    "    cmd = f\"rm -r ../results/emcee_restart{index}\"\n",
    "    print(cmd)\n",
    "    !$cmd"
   ]
  },
  {
   "cell_type": "code",
   "execution_count": null,
   "metadata": {},
   "outputs": [],
   "source": [
    "for index in [0, 4, 7, 8, 13, 16, 17, 18, 23, 26, 27, 33, 35]:\n",
    "# for index in range(143, 146):\n",
    "    cmd = f\"rm -r ../results/nestle_restart{index}\"\n",
    "    print(cmd)\n",
    "    !$cmd\n"
   ]
  },
  {
   "cell_type": "code",
   "execution_count": null,
   "metadata": {},
   "outputs": [],
   "source": [
    "!ls ../results/nestle_17nov11"
   ]
  },
  {
   "cell_type": "code",
   "execution_count": null,
   "metadata": {},
   "outputs": [],
   "source": []
  }
 ],
 "metadata": {
  "kernelspec": {
   "display_name": "Python 3",
   "language": "python",
   "name": "python3"
  },
  "language_info": {
   "codemirror_mode": {
    "name": "ipython",
    "version": 3
   },
   "file_extension": ".py",
   "mimetype": "text/x-python",
   "name": "python",
   "nbconvert_exporter": "python",
   "pygments_lexer": "ipython3",
   "version": "3.7.4"
  }
 },
 "nbformat": 4,
 "nbformat_minor": 2
}
