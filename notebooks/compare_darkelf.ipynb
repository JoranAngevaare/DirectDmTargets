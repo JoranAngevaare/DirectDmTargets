{
 "cells": [
  {
   "cell_type": "code",
   "execution_count": 1,
   "metadata": {
    "ExecuteTime": {
     "end_time": "2022-07-21T12:19:06.271409Z",
     "start_time": "2022-07-21T12:18:59.887278Z"
    }
   },
   "outputs": [
    {
     "name": "stdout",
     "output_type": "stream",
     "text": [
      "Host DESKTOP-F4PI41P.\n",
      "   module version                                                                      path                                   git\n",
      "   python  3.10.4                             /home/joran/miniconda3/envs/py3.10/bin/python                                  None\n",
      "     dddm   3.0.2                                            /home/joran/software/dddm/dddm branch:test_nb_and_drak_elf | 380ec29\n",
      "wimprates   0.3.2 /home/joran/miniconda3/envs/py3.10/lib/python3.10/site-packages/wimprates                                  None\n",
      "    verne   0.0.0                                          /home/joran/software/verne/verne               branch:master | 5121604\n",
      "  darkelf   0.0.0                                      /home/joran/software/darkelf/darkelf            branch:add_setup | d877701\n"
     ]
    },
    {
     "data": {
      "text/html": [
       "<div>\n",
       "<style scoped>\n",
       "    .dataframe tbody tr th:only-of-type {\n",
       "        vertical-align: middle;\n",
       "    }\n",
       "\n",
       "    .dataframe tbody tr th {\n",
       "        vertical-align: top;\n",
       "    }\n",
       "\n",
       "    .dataframe thead th {\n",
       "        text-align: right;\n",
       "    }\n",
       "</style>\n",
       "<table border=\"1\" class=\"dataframe\">\n",
       "  <thead>\n",
       "    <tr style=\"text-align: right;\">\n",
       "      <th></th>\n",
       "      <th>module</th>\n",
       "      <th>version</th>\n",
       "      <th>path</th>\n",
       "      <th>git</th>\n",
       "    </tr>\n",
       "  </thead>\n",
       "  <tbody>\n",
       "    <tr>\n",
       "      <th>0</th>\n",
       "      <td>python</td>\n",
       "      <td>3.10.4</td>\n",
       "      <td>/home/joran/miniconda3/envs/py3.10/bin/python</td>\n",
       "      <td>None</td>\n",
       "    </tr>\n",
       "    <tr>\n",
       "      <th>1</th>\n",
       "      <td>dddm</td>\n",
       "      <td>3.0.2</td>\n",
       "      <td>/home/joran/software/dddm/dddm</td>\n",
       "      <td>branch:test_nb_and_drak_elf | 380ec29</td>\n",
       "    </tr>\n",
       "    <tr>\n",
       "      <th>2</th>\n",
       "      <td>wimprates</td>\n",
       "      <td>0.3.2</td>\n",
       "      <td>/home/joran/miniconda3/envs/py3.10/lib/python3...</td>\n",
       "      <td>None</td>\n",
       "    </tr>\n",
       "    <tr>\n",
       "      <th>3</th>\n",
       "      <td>verne</td>\n",
       "      <td>0.0.0</td>\n",
       "      <td>/home/joran/software/verne/verne</td>\n",
       "      <td>branch:master | 5121604</td>\n",
       "    </tr>\n",
       "    <tr>\n",
       "      <th>4</th>\n",
       "      <td>darkelf</td>\n",
       "      <td>0.0.0</td>\n",
       "      <td>/home/joran/software/darkelf/darkelf</td>\n",
       "      <td>branch:add_setup | d877701</td>\n",
       "    </tr>\n",
       "  </tbody>\n",
       "</table>\n",
       "</div>"
      ],
      "text/plain": [
       "      module version                                               path  \\\n",
       "0     python  3.10.4      /home/joran/miniconda3/envs/py3.10/bin/python   \n",
       "1       dddm   3.0.2                     /home/joran/software/dddm/dddm   \n",
       "2  wimprates   0.3.2  /home/joran/miniconda3/envs/py3.10/lib/python3...   \n",
       "3      verne   0.0.0                   /home/joran/software/verne/verne   \n",
       "4    darkelf   0.0.0               /home/joran/software/darkelf/darkelf   \n",
       "\n",
       "                                     git  \n",
       "0                                   None  \n",
       "1  branch:test_nb_and_drak_elf | 380ec29  \n",
       "2                                   None  \n",
       "3                branch:master | 5121604  \n",
       "4             branch:add_setup | d877701  "
      ]
     },
     "execution_count": 1,
     "metadata": {},
     "output_type": "execute_result"
    }
   ],
   "source": [
    "import scipy.optimize\n",
    "from itertools import cycle\n",
    "import seaborn as sns\n",
    "import multihist as mh\n",
    "import datetime\n",
    "import numba\n",
    "import sys\n",
    "import os\n",
    "import scipy\n",
    "import pandas as pd\n",
    "import wimprates as wr\n",
    "import numericalunits as nu\n",
    "from tqdm import tqdm\n",
    "from matplotlib.colors import LogNorm\n",
    "import matplotlib.pyplot as plt\n",
    "import numpy as np\n",
    "import time\n",
    "import dddm\n",
    "\n",
    "import darkelf\n",
    "from darkelf import targets\n",
    "\n",
    "dddm.print_versions('dddm wimprates verne darkelf'.split())"
   ]
  },
  {
   "cell_type": "code",
   "execution_count": 2,
   "metadata": {
    "ExecuteTime": {
     "end_time": "2022-07-21T12:19:06.290585Z",
     "start_time": "2022-07-21T12:19:06.273487Z"
    }
   },
   "outputs": [
    {
     "name": "stdout",
     "output_type": "stream",
     "text": [
      "Available configuration files: \n",
      "\t Ge.yaml\n",
      " \n",
      "Available data for epsilon: \n",
      "\t Ge_gpaw_withLFE.dat\n",
      "\t Ge_Migdal_FAC.dat\n",
      "\t Ge_epsphonon_data2K.dat\n",
      "\t Ge_gpaw_noLFE.dat\n",
      "\t Ge_epsphonon_theory6K.dat\n",
      "\t Ge_mermin.dat\n",
      " \n",
      "Available data for phonon (partial) density of states: \n",
      "\t Ge_DoS.dat\n",
      " \n",
      "Available data for Fn(omega) functions: \n",
      "\t Ge_Fn.dat\n",
      " \n",
      "Available data for form factors: \n",
      "\t Ge_atomic_Zion.dat\n",
      "\t Ge_Zion.dat\n"
     ]
    }
   ],
   "source": [
    "targets.files('Ge')"
   ]
  },
  {
   "cell_type": "code",
   "execution_count": 3,
   "metadata": {
    "ExecuteTime": {
     "end_time": "2022-07-21T12:19:06.298943Z",
     "start_time": "2022-07-21T12:19:06.294346Z"
    }
   },
   "outputs": [],
   "source": [
    "energies = np.linspace(0, 500) # ev"
   ]
  },
  {
   "cell_type": "code",
   "execution_count": 4,
   "metadata": {
    "ExecuteTime": {
     "end_time": "2022-07-21T12:19:06.314346Z",
     "start_time": "2022-07-21T12:19:06.304627Z"
    }
   },
   "outputs": [],
   "source": [
    "MX = 1 #GeV/c2\n",
    "SIGMA = 1e-38 #cm2\n",
    "VESC=544\n",
    "V0=220\n",
    "RHO_0 = 0.3"
   ]
  },
  {
   "cell_type": "code",
   "execution_count": 5,
   "metadata": {
    "ExecuteTime": {
     "end_time": "2022-07-21T12:19:06.329224Z",
     "start_time": "2022-07-21T12:19:06.318562Z"
    }
   },
   "outputs": [],
   "source": [
    "shm = wr.StandardHaloModel(v_0=V0* nu.km/nu.s, \n",
    "                           v_esc=VESC* nu.km/nu.s,\n",
    "                           rho_dm = RHO_0 * nu.GeV/nu.c0**2 / nu.cm**3 \n",
    "                          )"
   ]
  },
  {
   "cell_type": "code",
   "execution_count": 6,
   "metadata": {
    "ExecuteTime": {
     "end_time": "2022-07-21T12:19:12.247118Z",
     "start_time": "2022-07-21T12:19:06.332927Z"
    }
   },
   "outputs": [],
   "source": [
    "dr = wr.rate_migdal(energies/1e3 * nu.keV, \n",
    "                    mw=MX * nu.GeV / nu.c0 ** 2, \n",
    "                    material='Ge',\n",
    "                    sigma_nucleon=SIGMA * nu.cm ** 2,\n",
    "                    halo_model=shm\n",
    "                   ) * (nu.keV * (1000 * nu.kg) * nu.year)"
   ]
  },
  {
   "cell_type": "code",
   "execution_count": 7,
   "metadata": {
    "ExecuteTime": {
     "end_time": "2022-07-21T12:19:21.096179Z",
     "start_time": "2022-07-21T12:19:12.249520Z"
    }
   },
   "outputs": [
    {
     "name": "stdout",
     "output_type": "stream",
     "text": [
      " .... Loading files for Ge\n",
      "Loaded Ge_gpaw_withLFE.dat for epsilon in electron regime\n",
      "electronic ELF taken or calculated from J. Enkovaara et al.,Electronic structure calculations with GPAW: a real-space implementation of the projector augmented-wave method,Journal of Physics:Condensed Matter22(2010) 253202.\n",
      "phonon ELF taken or calculated from M. Ikezawa and T. Nanba, Two-Phonon Difference Absorption Spectra in Ge Crystals, Journal of  the Physical Society of Japan 45 (1978) 148.\n",
      "Loaded Ge_epsphonon_data2K.dat for epsilon in phonon regime\n",
      "Zion(k) for Migdal calculation taken or calculated from: P. J. Brown, A. G. Fox, E. N. Maslen, M. A. OKeefe,and B. T. M. Willis, “Intensity of diffracted intensities,” in International Tables for Crystallography (American Cancer Society, 2006) Chap. 6.1, pp. 554–595, https://onlinelibrary.wiley.com/doi/pdf/10.1107/97809553602060000\n",
      "Loaded Ge_atomic_Zion.dat for dark photon couplings\n",
      "Loaded Ge_DoS.dat for density of states\n",
      "Loaded Fn(omega) functions corresponding to density of states in:  Ge_DoS.dat\n"
     ]
    }
   ],
   "source": [
    "Ge_gpaw = darkelf.darkelf(target='Ge', \n",
    "                          mX=MX*1e9, \n",
    "                          vesckms=VESC, \n",
    "                          v0kms=V0,\n",
    "                          filename=\"Ge_gpaw_withLFE.dat\")\n",
    "Ge_gpaw.update_params(mediator='massive',)\n",
    "Ge_gpaw.rhoX=0.3e9"
   ]
  },
  {
   "cell_type": "code",
   "execution_count": 8,
   "metadata": {
    "ExecuteTime": {
     "end_time": "2022-07-21T12:19:42.726728Z",
     "start_time": "2022-07-21T12:19:21.098599Z"
    }
   },
   "outputs": [],
   "source": [
    "dr_darkelf = Ge_gpaw.dRdomega_migdal(\n",
    "    energies,\n",
    "    sigma_n=SIGMA,\n",
    "    method='ibe',     \n",
    "    Nshell=6,\n",
    "    approximation='impulse',\n",
    "    Zionkdependence=True,\n",
    "    fast=False,\n",
    ")\n",
    "dr_darkelf *= (\n",
    "    1e3 # kg -> ton\n",
    "    * 1e3 # ev ->keV\n",
    ")"
   ]
  },
  {
   "cell_type": "code",
   "execution_count": 9,
   "metadata": {
    "ExecuteTime": {
     "end_time": "2022-07-21T12:19:43.310884Z",
     "start_time": "2022-07-21T12:19:42.732728Z"
    }
   },
   "outputs": [
    {
     "data": {
      "text/plain": [
       "<matplotlib.legend.Legend at 0x7fbf18e2be50>"
      ]
     },
     "execution_count": 9,
     "metadata": {},
     "output_type": "execute_result"
    },
    {
     "data": {
      "image/png": "[encoded data removed]",
      "text/plain": [
       "<Figure size 432x288 with 1 Axes>"
      ]
     },
     "metadata": {
      "needs_background": "light"
     },
     "output_type": "display_data"
    }
   ],
   "source": [
    "plt.plot(energies, dr, label='wimprates (used in ddm)')\n",
    "plt.plot(energies, dr_darkelf, label='darkelf')\n",
    "plt.plot(energies, dr_darkelf/np.pi, label='darkelf/$\\pi$')\n",
    "\n",
    "plt.xlabel(\"Recoil energy [eV_ee]\")\n",
    "plt.ylabel(\"Rate [events per (keV ton year)]\")\n",
    "plt.title(f\"Migdal recoil rate Ge target\\n$m_\\chi = {MX}$ GeV/c${{}}^2$, $\\sigma_\\chi = {SIGMA}$ cm${{}}^2$\")\n",
    "plt.xlim(0, energies.max())\n",
    "\n",
    "plt.yscale('log')\n",
    "plt.legend()"
   ]
  },
  {
   "cell_type": "code",
   "execution_count": 17,
   "metadata": {
    "ExecuteTime": {
     "end_time": "2022-07-21T12:21:39.366307Z",
     "start_time": "2022-07-21T12:21:39.362500Z"
    }
   },
   "outputs": [
    {
     "name": "stdout",
     "output_type": "stream",
     "text": [
      "Outputs\n",
      "en=[0.0, 10.204081632653061, 20.408163265306122, 30.612244897959183, 40.816326530612244, 51.0204081632653, 61.224489795918366, 71.42857142857143, 81.63265306122449, 91.83673469387755, 102.0408163265306, 112.24489795918367, 122.44897959183673, 132.6530612244898, 142.85714285714286, 153.0612244897959, 163.26530612244898, 173.46938775510205, 183.6734693877551, 193.87755102040816, 204.0816326530612, 214.28571428571428, 224.48979591836735, 234.6938775510204, 244.89795918367346, 255.10204081632654, 265.3061224489796, 275.51020408163265, 285.7142857142857, 295.9183673469388, 306.1224489795918, 316.3265306122449, 326.53061224489795, 336.734693877551, 346.9387755102041, 357.1428571428571, 367.3469387755102, 377.55102040816325, 387.7551020408163, 397.9591836734694, 408.1632653061224, 418.3673469387755, 428.57142857142856, 438.7755102040816, 448.9795918367347, 459.18367346938777, 469.3877551020408, 479.59183673469386, 489.7959183673469, 500.0]\n",
      "\n",
      "wr=[0.0, 0.0, 0.0, 0.0, 15007.170740112839, 22544.714388232518, 28679.206333076418, 30242.41945809384, 28675.45021231704, 25641.349436301673, 22217.13160377636, 18935.19352938681, 17010.051866769107, 14393.939858223235, 12273.504354416971, 10534.046360574843, 9090.061834074271, 8232.37694838956, 7159.411561169435, 6261.546410626288, 5485.908549087519, 4830.143181546542, 4263.054036318497, 3771.4120245278473, 3344.81196628295, 2974.2282753015534, 2651.714582774527, 2369.9733712884727, 2123.400384763884, 1906.9808130539138, 1716.047793690283, 1546.6120575829991, 1395.328523880732, 1260.873505596881, 1143.468231604014, 1038.0389655629717, 942.9049257147333, 859.2340954173769, 783.8710447193836, 714.6859246334303, 653.7559147699116, 598.3540935035461, 547.8750438945311, 503.429685070574, 461.97148835135073, 426.13307912067074, 392.4304304507092, 362.62558623179393, 334.8482052855646, 309.7624489411469]\n",
      "\n",
      "dark_elf=[0.0, 0.0, 0.0, 0.0, 49252.45816145817, 74008.36661374217, 94169.9982813322, 99328.38473516601, 94204.52931188012, 84257.62477623433, 73023.92635454929, 62252.62745450327, 55937.89041547021, 47347.19625302834, 40383.025430733454, 34669.105937820066, 29924.722279897916, 27108.374171540916, 23581.531901645474, 20629.729408954598, 18079.194081674894, 15922.459602824058, 14056.96897788836, 12439.311861405135, 11035.361611243252, 9815.449307220411, 8753.541212108492, 7825.683242103917, 7013.4761356005, 6300.448975379154, 5671.247296404235, 5112.761896217679, 4613.986494544077, 4170.5785358047415, 3783.3294320825926, 3435.496978942062, 3121.5509933376175, 2845.387733136729, 2596.5867590324538, 2368.1121342361257, 2166.861463427525, 1983.8241751789399, 1817.0071852816513, 1670.109572729868, 1533.036785035769, 1414.53854241602, 1303.0619810410094, 1204.466071010982, 1112.5475568501572, 1029.5194245775435]\n"
     ]
    }
   ],
   "source": [
    "print('Outputs')\n",
    "print(f'en={list(energies)}\\n\\nwr={list(dr)}\\n\\ndark_elf={list(dr_darkelf)}')"
   ]
  },
  {
   "cell_type": "code",
   "execution_count": null,
   "metadata": {},
   "outputs": [],
   "source": []
  }
 ],
 "metadata": {
  "kernelspec": {
   "display_name": "Python 3 (ipykernel)",
   "language": "python",
   "name": "python3"
  },
  "language_info": {
   "codemirror_mode": {
    "name": "ipython",
    "version": 3
   },
   "file_extension": ".py",
   "mimetype": "text/x-python",
   "name": "python",
   "nbconvert_exporter": "python",
   "pygments_lexer": "ipython3",
   "version": "3.10.4"
  }
 },
 "nbformat": 4,
 "nbformat_minor": 2
}
