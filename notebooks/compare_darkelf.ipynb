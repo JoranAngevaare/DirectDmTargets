{
 "cells": [
  {
   "cell_type": "code",
   "execution_count": 1,
   "metadata": {
    "ExecuteTime": {
     "end_time": "2022-07-21T11:47:26.304334Z",
     "start_time": "2022-07-21T11:47:18.782812Z"
    }
   },
   "outputs": [
    {
     "name": "stdout",
     "output_type": "stream",
     "text": [
      "Host DESKTOP-F4PI41P.\n",
      "   module version                                                                      path                                   git\n",
      "   python  3.10.4                             /home/joran/miniconda3/envs/py3.10/bin/python                                  None\n",
      "     dddm   3.0.2                                            /home/joran/software/dddm/dddm branch:test_nb_and_drak_elf | 92cd65a\n",
      "wimprates   0.3.2 /home/joran/miniconda3/envs/py3.10/lib/python3.10/site-packages/wimprates                                  None\n",
      "    verne   0.0.0                                          /home/joran/software/verne/verne               branch:master | 5121604\n",
      "  darkelf   0.0.0                                      /home/joran/software/darkelf/darkelf            branch:add_setup | d877701\n"
     ]
    },
    {
     "data": {
      "text/html": [
       "<div>\n",
       "<style scoped>\n",
       "    .dataframe tbody tr th:only-of-type {\n",
       "        vertical-align: middle;\n",
       "    }\n",
       "\n",
       "    .dataframe tbody tr th {\n",
       "        vertical-align: top;\n",
       "    }\n",
       "\n",
       "    .dataframe thead th {\n",
       "        text-align: right;\n",
       "    }\n",
       "</style>\n",
       "<table border=\"1\" class=\"dataframe\">\n",
       "  <thead>\n",
       "    <tr style=\"text-align: right;\">\n",
       "      <th></th>\n",
       "      <th>module</th>\n",
       "      <th>version</th>\n",
       "      <th>path</th>\n",
       "      <th>git</th>\n",
       "    </tr>\n",
       "  </thead>\n",
       "  <tbody>\n",
       "    <tr>\n",
       "      <th>0</th>\n",
       "      <td>python</td>\n",
       "      <td>3.10.4</td>\n",
       "      <td>/home/joran/miniconda3/envs/py3.10/bin/python</td>\n",
       "      <td>None</td>\n",
       "    </tr>\n",
       "    <tr>\n",
       "      <th>1</th>\n",
       "      <td>dddm</td>\n",
       "      <td>3.0.2</td>\n",
       "      <td>/home/joran/software/dddm/dddm</td>\n",
       "      <td>branch:test_nb_and_drak_elf | 92cd65a</td>\n",
       "    </tr>\n",
       "    <tr>\n",
       "      <th>2</th>\n",
       "      <td>wimprates</td>\n",
       "      <td>0.3.2</td>\n",
       "      <td>/home/joran/miniconda3/envs/py3.10/lib/python3...</td>\n",
       "      <td>None</td>\n",
       "    </tr>\n",
       "    <tr>\n",
       "      <th>3</th>\n",
       "      <td>verne</td>\n",
       "      <td>0.0.0</td>\n",
       "      <td>/home/joran/software/verne/verne</td>\n",
       "      <td>branch:master | 5121604</td>\n",
       "    </tr>\n",
       "    <tr>\n",
       "      <th>4</th>\n",
       "      <td>darkelf</td>\n",
       "      <td>0.0.0</td>\n",
       "      <td>/home/joran/software/darkelf/darkelf</td>\n",
       "      <td>branch:add_setup | d877701</td>\n",
       "    </tr>\n",
       "  </tbody>\n",
       "</table>\n",
       "</div>"
      ],
      "text/plain": [
       "      module version                                               path  \\\n",
       "0     python  3.10.4      /home/joran/miniconda3/envs/py3.10/bin/python   \n",
       "1       dddm   3.0.2                     /home/joran/software/dddm/dddm   \n",
       "2  wimprates   0.3.2  /home/joran/miniconda3/envs/py3.10/lib/python3...   \n",
       "3      verne   0.0.0                   /home/joran/software/verne/verne   \n",
       "4    darkelf   0.0.0               /home/joran/software/darkelf/darkelf   \n",
       "\n",
       "                                     git  \n",
       "0                                   None  \n",
       "1  branch:test_nb_and_drak_elf | 92cd65a  \n",
       "2                                   None  \n",
       "3                branch:master | 5121604  \n",
       "4             branch:add_setup | d877701  "
      ]
     },
     "execution_count": 1,
     "metadata": {},
     "output_type": "execute_result"
    }
   ],
   "source": [
    "import scipy.optimize\n",
    "from itertools import cycle\n",
    "import seaborn as sns\n",
    "import multihist as mh\n",
    "import datetime\n",
    "import numba\n",
    "import sys\n",
    "import os\n",
    "import scipy\n",
    "import pandas as pd\n",
    "import wimprates as wr\n",
    "import numericalunits as nu\n",
    "from tqdm import tqdm\n",
    "from matplotlib.colors import LogNorm\n",
    "import matplotlib.pyplot as plt\n",
    "import numpy as np\n",
    "import time\n",
    "import dddm\n",
    "\n",
    "import darkelf\n",
    "from darkelf import targets\n",
    "\n",
    "dddm.print_versions('dddm wimprates verne darkelf'.split())"
   ]
  },
  {
   "cell_type": "code",
   "execution_count": 2,
   "metadata": {
    "ExecuteTime": {
     "end_time": "2022-07-21T11:47:26.335388Z",
     "start_time": "2022-07-21T11:47:26.317110Z"
    }
   },
   "outputs": [
    {
     "name": "stdout",
     "output_type": "stream",
     "text": [
      "Available configuration files: \n",
      "\t Ge.yaml\n",
      " \n",
      "Available data for epsilon: \n",
      "\t Ge_gpaw_withLFE.dat\n",
      "\t Ge_Migdal_FAC.dat\n",
      "\t Ge_epsphonon_data2K.dat\n",
      "\t Ge_gpaw_noLFE.dat\n",
      "\t Ge_epsphonon_theory6K.dat\n",
      "\t Ge_mermin.dat\n",
      " \n",
      "Available data for phonon (partial) density of states: \n",
      "\t Ge_DoS.dat\n",
      " \n",
      "Available data for Fn(omega) functions: \n",
      "\t Ge_Fn.dat\n",
      " \n",
      "Available data for form factors: \n",
      "\t Ge_atomic_Zion.dat\n",
      "\t Ge_Zion.dat\n"
     ]
    }
   ],
   "source": [
    "targets.files('Ge')"
   ]
  },
  {
   "cell_type": "code",
   "execution_count": 3,
   "metadata": {
    "ExecuteTime": {
     "end_time": "2022-07-21T11:47:26.345778Z",
     "start_time": "2022-07-21T11:47:26.339992Z"
    }
   },
   "outputs": [],
   "source": [
    "energies = np.linspace(0, 500) # ev"
   ]
  },
  {
   "cell_type": "code",
   "execution_count": 14,
   "metadata": {
    "ExecuteTime": {
     "end_time": "2022-07-21T11:49:17.680621Z",
     "start_time": "2022-07-21T11:49:17.677184Z"
    }
   },
   "outputs": [],
   "source": [
    "MX = 1 #GeV/c2\n",
    "SIGMA = 1e-38 #cm2\n",
    "VESC=544\n",
    "V0=220\n",
    "RHO_0 = 0.3"
   ]
  },
  {
   "cell_type": "code",
   "execution_count": 15,
   "metadata": {
    "ExecuteTime": {
     "end_time": "2022-07-21T11:49:17.907657Z",
     "start_time": "2022-07-21T11:49:17.903085Z"
    }
   },
   "outputs": [],
   "source": [
    "shm = wr.StandardHaloModel(v_0=V0* nu.km/nu.s, \n",
    "                           v_esc=VESC* nu.km/nu.s,\n",
    "                           rho_dm = RHO_0 * nu.GeV/nu.c0**2 / nu.cm**3 \n",
    "                          )"
   ]
  },
  {
   "cell_type": "code",
   "execution_count": 18,
   "metadata": {
    "ExecuteTime": {
     "end_time": "2022-07-21T11:49:46.764050Z",
     "start_time": "2022-07-21T11:49:35.089353Z"
    }
   },
   "outputs": [],
   "source": [
    "dr = wr.rate_migdal(energies/1e3 * nu.keV, \n",
    "                    mw=MX * nu.GeV / nu.c0 ** 2, \n",
    "                    material='Ge',\n",
    "                    sigma_nucleon=SIGMA * nu.cm ** 2,\n",
    "                    halo_model=shm\n",
    "                   ) * (nu.keV * (1000 * nu.kg) * nu.year)"
   ]
  },
  {
   "cell_type": "code",
   "execution_count": 19,
   "metadata": {
    "ExecuteTime": {
     "end_time": "2022-07-21T11:50:16.919723Z",
     "start_time": "2022-07-21T11:50:08.077564Z"
    }
   },
   "outputs": [
    {
     "name": "stdout",
     "output_type": "stream",
     "text": [
      " .... Loading files for Ge\n",
      "Loaded Ge_gpaw_withLFE.dat for epsilon in electron regime\n",
      "electronic ELF taken or calculated from J. Enkovaara et al.,Electronic structure calculations with GPAW: a real-space implementation of the projector augmented-wave method,Journal of Physics:Condensed Matter22(2010) 253202.\n",
      "phonon ELF taken or calculated from M. Ikezawa and T. Nanba, Two-Phonon Difference Absorption Spectra in Ge Crystals, Journal of  the Physical Society of Japan 45 (1978) 148.\n",
      "Loaded Ge_epsphonon_data2K.dat for epsilon in phonon regime\n",
      "Zion(k) for Migdal calculation taken or calculated from: P. J. Brown, A. G. Fox, E. N. Maslen, M. A. OKeefe,and B. T. M. Willis, “Intensity of diffracted intensities,” in International Tables for Crystallography (American Cancer Society, 2006) Chap. 6.1, pp. 554–595, https://onlinelibrary.wiley.com/doi/pdf/10.1107/97809553602060000\n",
      "Loaded Ge_atomic_Zion.dat for dark photon couplings\n",
      "Loaded Ge_DoS.dat for density of states\n",
      "Loaded Fn(omega) functions corresponding to density of states in:  Ge_DoS.dat\n"
     ]
    }
   ],
   "source": [
    "Ge_gpaw = darkelf.darkelf(target='Ge', \n",
    "                          mX=MX*1e9, \n",
    "                          vesckms=VESC, \n",
    "                          v0kms=V0,\n",
    "                          filename=\"Ge_gpaw_withLFE.dat\")\n",
    "Ge_gpaw.update_params(mediator='massive',)\n",
    "Ge_gpaw.rhoX=0.3e9"
   ]
  },
  {
   "cell_type": "code",
   "execution_count": 20,
   "metadata": {
    "ExecuteTime": {
     "end_time": "2022-07-21T11:51:04.641257Z",
     "start_time": "2022-07-21T11:51:04.591973Z"
    }
   },
   "outputs": [],
   "source": [
    "dr_darkelf = Ge_gpaw.dRdomega_migdal(\n",
    "    energies,\n",
    "    sigma_n=SIGMA,\n",
    "    method='ibe',     \n",
    "    Nshell=6,\n",
    "    approximation='free',\n",
    "    Zionkdependence=True,\n",
    "    fast=False,\n",
    ")\n",
    "dr_darkelf *= (\n",
    "    1e3 # kg -> ton\n",
    "    * 1e3 # ev ->keV\n",
    ")"
   ]
  },
  {
   "cell_type": "code",
   "execution_count": 29,
   "metadata": {
    "ExecuteTime": {
     "end_time": "2022-07-21T11:54:11.299377Z",
     "start_time": "2022-07-21T11:54:10.879791Z"
    }
   },
   "outputs": [
    {
     "data": {
      "text/plain": [
       "<matplotlib.legend.Legend at 0x7f374c7a36d0>"
      ]
     },
     "execution_count": 29,
     "metadata": {},
     "output_type": "execute_result"
    },
    {
     "data": {
      "image/png": "[encoded data removed]",
      "text/plain": [
       "<Figure size 432x288 with 1 Axes>"
      ]
     },
     "metadata": {
      "needs_background": "light"
     },
     "output_type": "display_data"
    }
   ],
   "source": [
    "plt.plot(energies, dr, label='wimprates (used in ddm)')\n",
    "plt.plot(energies, dr_darkelf, label='darkelf')\n",
    "plt.plot(energies, dr_darkelf/np.pi, label='darkelf/$\\pi$')\n",
    "\n",
    "plt.xlabel(\"Recoil energy [eV_ee]\")\n",
    "plt.ylabel(\"Rate [events per (keV ton year)]\")\n",
    "plt.title(f\"Migdal recoil rate Ge target\\n$m_\\chi = {MX}$ GeV/c${{}}^2$, $\\sigma_\\chi = {SIGMA}$ cm${{}}^2$\")\n",
    "plt.xlim(0, energies.max())\n",
    "\n",
    "plt.yscale('log')\n",
    "plt.legend()"
   ]
  },
  {
   "cell_type": "code",
   "execution_count": null,
   "metadata": {},
   "outputs": [],
   "source": []
  }
 ],
 "metadata": {
  "kernelspec": {
   "display_name": "Python 3 (ipykernel)",
   "language": "python",
   "name": "python3"
  },
  "language_info": {
   "codemirror_mode": {
    "name": "ipython",
    "version": 3
   },
   "file_extension": ".py",
   "mimetype": "text/x-python",
   "name": "python",
   "nbconvert_exporter": "python",
   "pygments_lexer": "ipython3",
   "version": "3.10.4"
  }
 },
 "nbformat": 4,
 "nbformat_minor": 2
}
