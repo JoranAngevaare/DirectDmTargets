{
 "cells": [
  {
   "cell_type": "code",
   "execution_count": null,
   "metadata": {},
   "outputs": [],
   "source": [
    "import DirectDmTargets as dddm"
   ]
  },
  {
   "cell_type": "code",
   "execution_count": null,
   "metadata": {},
   "outputs": [],
   "source": [
    "import time"
   ]
  },
  {
   "cell_type": "code",
   "execution_count": null,
   "metadata": {},
   "outputs": [],
   "source": [
    "import numpy as np\n",
    "import matplotlib.pyplot as plt"
   ]
  },
  {
   "cell_type": "code",
   "execution_count": null,
   "metadata": {},
   "outputs": [],
   "source": [
    "from tqdm import tqdm"
   ]
  },
  {
   "cell_type": "code",
   "execution_count": null,
   "metadata": {},
   "outputs": [],
   "source": [
    "import numericalunits as nu"
   ]
  },
  {
   "cell_type": "code",
   "execution_count": null,
   "metadata": {},
   "outputs": [],
   "source": [
    "import wimprates as wr"
   ]
  },
  {
   "cell_type": "markdown",
   "metadata": {},
   "source": [
    "# Finding the correct 'factor' #\n",
    "\n",
    "Author:\n",
    "\n",
    "Joran Angevaare <j.angevaare@nikef.nl>\n",
    "\n",
    "Date:\n",
    "\n",
    "25 october 2019 \n",
    "\n",
    "## Goal ## \n",
    "- in the DetectorSpectrum-class a factor is used to rebin the DM-spectrum. This rebinning should be fine enough to allow the numerical integration to be sufficiently accurate. However we don't want a too fine binning as it does increase computation time drastically. \n",
    "\n",
    "## Result ##\n",
    "A factor (the factor between the the bins used for the numerical integration and the spectrum) is set to **10** as this proved a fair trade off between speed and accuracy."
   ]
  },
  {
   "cell_type": "code",
   "execution_count": null,
   "metadata": {},
   "outputs": [],
   "source": [
    "# NR's\n",
    "energies = np.linspace(0.1, 3.5, 10)\n",
    "\n",
    "# dr/dr\n",
    "dr = ((nu.keV * (1000 * nu.kg) * nu.year) * \n",
    "    wr.rate_migdal(energies * nu.keV, \n",
    "                    mw=1 * nu.GeV/nu.c0**2, \n",
    "                    sigma_nucleon=1e-35 * nu.cm**2))\n",
    "\n",
    "plt.plot(energies, dr, label=\"WIMPrates SHM\")\n",
    "\n",
    "plt.xlabel(\"Recoil energy [keV]\")\n",
    "plt.ylabel(\"Rate [events per (keV ton year)]\")\n",
    "\n",
    "plt.xlim(0, energies.max())\n",
    "plt.yscale(\"log\")\n",
    "\n",
    "plt.ylim(1e-7,1e10)\n",
    "# dr"
   ]
  },
  {
   "cell_type": "markdown",
   "metadata": {},
   "source": [
    "## Distribution of the DM ##\n",
    "First we need to make a DM-rate spectrum (below we first compare the un-smeared and smeared spectrum)"
   ]
  },
  {
   "cell_type": "code",
   "execution_count": null,
   "metadata": {},
   "outputs": [],
   "source": [
    "use_SHM = dddm.SHM()"
   ]
  },
  {
   "cell_type": "code",
   "execution_count": null,
   "metadata": {},
   "outputs": [],
   "source": [
    "# No detector resolution\n",
    "def plot_spectrum(data, yerr = True, color = 'blue', label = 'label', linestyle = 'none'):\n",
    "    plt.errorbar(data['bin_centers'], data['counts'], \n",
    "                xerr=(data['bin_left'] - data['bin_right'])/2,\n",
    "                yerr = np.sqrt(data['counts']) if yerr else np.zeros(len(data['counts'])),\n",
    "                color = color,\n",
    "                linestyle = linestyle,\n",
    "                capsize = 2,\n",
    "                marker = 'o',\n",
    "                label = label\n",
    "                )\n",
    "def plot_spectrum_ax(ax, data, yerr = True, color = 'blue', label = 'label', linestyle = 'none'):\n",
    "    ax.errorbar(data['bin_centers'], data['counts'], \n",
    "                xerr=(data['bin_left'] - data['bin_right'])/2,\n",
    "                yerr = np.sqrt(data['counts']) if yerr else np.zeros(len(data['counts'])),\n",
    "                color = color,\n",
    "                linestyle = linestyle,\n",
    "                capsize = 2,\n",
    "                marker = 'o',\n",
    "                label = label\n",
    "                )\n",
    "def get_gal_spec(det, mw = 1, sigma = 1e-35, nbins = 10):\n",
    "    events = dddm.GenSpectrum(mw, sigma, use_SHM, dddm.experiment[det])\n",
    "    events.n_bins = nbins\n",
    "    return events.get_data(poisson = False)"
   ]
  },
  {
   "cell_type": "code",
   "execution_count": null,
   "metadata": {},
   "outputs": [],
   "source": [
    "def get_det_spec(det, mw = 1, sigma = 1e-35, nbins = 10, background = True,):\n",
    "    events = dddm.DetectorSpectrum(mw, sigma, use_SHM, dddm.experiment[det])\n",
    "    events.n_bins = nbins\n",
    "    events.add_background = background\n",
    "    return events.get_data(poisson = False)"
   ]
  },
  {
   "cell_type": "code",
   "execution_count": null,
   "metadata": {},
   "outputs": [],
   "source": []
  },
  {
   "cell_type": "code",
   "execution_count": null,
   "metadata": {},
   "outputs": [],
   "source": [
    "plt.rcParams['axes.grid'] = True\n",
    "\n",
    "def plot_spectra(det, mw = 1, sigma = 1e-35, nbins = 10):\n",
    "    fig, (ax1,ax2,ax3, ax4) = plt.subplots(4, figsize = (14,14), sharex = True)\n",
    "    \n",
    "    gal_spec = get_gal_spec(det, mw = mw, sigma = sigma, nbins = nbins)\n",
    "    bg_spec = get_det_spec(det, mw = mw, sigma = sigma, nbins = nbins)\n",
    "    no_bg_spec = get_det_spec(det, mw = mw, sigma = sigma, nbins = nbins, background = False)\n",
    "    \n",
    "    plot_spectrum_ax(ax1, gal_spec, color = 'red', \n",
    "                     label = f'{det} without det. parameters (gal_spec)')\n",
    "    \n",
    "    plot_spectrum_ax(ax1,bg_spec,color =  'black', \n",
    "                     label = f'{det} with background (bg_spec)')\n",
    "   \n",
    "    plot_spectrum_ax(ax1,no_bg_spec,color =  'blue', \n",
    "                     label = f'{det} without background (no_bg_spec)')\n",
    "    \n",
    "    ax1.set_ylim(bottom=np.max([plt.ylim()[-1], (1e-10 * 10/nbins)]))\n",
    "#     ax1.legend()\n",
    "    \n",
    "    \n",
    "#     ax1.set_ylim(np.min(no_bg_spec['counts'].values), \n",
    "#                  np.max(bg_spec['counts'].values) * 1.5)\n",
    "    ax1.set_yscale(\"log\")\n",
    "#     ax1.grid(axis=\"both\")\n",
    "    \n",
    "    plot_spectrum_ax(ax2, gal_spec, color = 'red', \n",
    "                     label = f'{det} without det. parameters')\n",
    "    plot_spectrum_ax(ax2,bg_spec,color =  'black', \n",
    "                     label = f'{det} with background')\n",
    "    plot_spectrum_ax(ax2,no_bg_spec,color =  'blue', \n",
    "                     label = f'{det} without background')\n",
    "#     ax2.legend()\n",
    "#     ax2.grid(axis=\"both\")\n",
    "    \n",
    "    diff_bg = bg_spec.copy()\n",
    "    diff_bg['counts'] = bg_spec['counts'] - no_bg_spec['counts']\n",
    "    plot_spectrum_ax(ax3, diff_bg, color = 'orange',yerr = False, \n",
    "                     label = f'{det} background (bg - no_bg)')\n",
    "#     ax3.legend()\n",
    "#     ax3.grid(axis=\"both\")\n",
    "   \n",
    "    diff_gal = gal_spec.copy()\n",
    "    diff_gal['counts'] = gal_spec['counts'] - no_bg_spec['counts']\n",
    "    plot_spectrum_ax(ax4,diff_gal, color = 'green', yerr = False, \n",
    "                     label = f'{det} gal-spec diff (gal. - no_bg)')\n",
    "#     ax4.legend()\n",
    "#     ax4.grid(axis=\"both\")\n",
    "    \n",
    "    for ax in [ax1,ax2,ax3, ax4]:\n",
    "        ax.axvline(dddm.experiment[det]['E_thr'], label = 'energy threshold')\n",
    "        ax.grid(axis=\"both\")\n",
    "        ax.legend()"
   ]
  },
  {
   "cell_type": "code",
   "execution_count": null,
   "metadata": {
    "scrolled": false
   },
   "outputs": [],
   "source": [
    "%%time\n",
    "def temp_res(E):\n",
    "    return 0.006 * np.sqrt(E)\n",
    "dddm.experiment['Xe_migd']['res'] = temp_res\n",
    "plot_spectra('Xe_migd', nbins = 3)"
   ]
  },
  {
   "cell_type": "code",
   "execution_count": null,
   "metadata": {},
   "outputs": [],
   "source": [
    "%%time\n",
    "dddm.experiment['Xe_migd']['res'] = dddm.det_res_XENON1T\n",
    "plot_spectra('Xe_migd', nbins = 20)"
   ]
  },
  {
   "cell_type": "code",
   "execution_count": null,
   "metadata": {},
   "outputs": [],
   "source": [
    "dddm.experiment['Xe_migd']['E_thr']"
   ]
  },
  {
   "cell_type": "code",
   "execution_count": null,
   "metadata": {},
   "outputs": [],
   "source": [
    "%%time\n",
    "plot_spectra('Ar_migd', 10)"
   ]
  },
  {
   "cell_type": "code",
   "execution_count": null,
   "metadata": {},
   "outputs": [],
   "source": [
    "%%time\n",
    "plot_spectra('Ge_migd', 10)"
   ]
  },
  {
   "cell_type": "code",
   "execution_count": null,
   "metadata": {
    "scrolled": false
   },
   "outputs": [],
   "source": [
    "n_bins_dict = {'Ge_migd':[100, 1000], 'Xe_migd':[100], 'Ar_migd':[100]}\n",
    "for mw in [0.1, 1, 5]:\n",
    "    for det in ['Ge_migd', 'Xe_migd', 'Ar_migd']:\n",
    "        for nbins in n_bins_dict[det]:\n",
    "            t0 = time.time()\n",
    "            print(f'-- mw = {mw} for {det} -- ')\n",
    "            plot_spectra(det, mw = mw, nbins = nbins)\n",
    "            for f_type in  ['png', 'pdf']:\n",
    "                plt.savefig(f'figures/spectrum_{det}_mw-{mw}_nbin-{nbins}.{f_type}', dpi = 100)\n",
    "            plt.show()\n",
    "            print(f'done in {time.time() -t0} s = {int((time.time() -t0)/60)} m')\n",
    "            print()"
   ]
  },
  {
   "cell_type": "markdown",
   "metadata": {},
   "source": [
    "## Finding the correct factor ##"
   ]
  },
  {
   "cell_type": "code",
   "execution_count": null,
   "metadata": {},
   "outputs": [],
   "source": [
    "stats_ge = dddm.NestedSamplerStatModel(\"Ge\")\n",
    "stats_ge.get_summary()"
   ]
  },
  {
   "cell_type": "code",
   "execution_count": null,
   "metadata": {},
   "outputs": [],
   "source": [
    "stats_ge.check_spectrum()"
   ]
  },
  {
   "cell_type": "code",
   "execution_count": null,
   "metadata": {},
   "outputs": [],
   "source": [
    "stats_xe = dddm.NestedSamplerStatModel(\"Xe\")\n",
    "stats_xe.sampler = 'multinest'\n",
    "stats_xe.get_summary()"
   ]
  },
  {
   "cell_type": "code",
   "execution_count": null,
   "metadata": {},
   "outputs": [],
   "source": [
    "stats_xe.check_spectrum()"
   ]
  },
  {
   "cell_type": "code",
   "execution_count": null,
   "metadata": {},
   "outputs": [],
   "source": [
    "stats_ar = dddm.NestleStatModel(\"Ar\")\n",
    "stats_ar.get_summary()"
   ]
  },
  {
   "cell_type": "code",
   "execution_count": null,
   "metadata": {},
   "outputs": [],
   "source": [
    "stats_ar.check_spectrum()"
   ]
  },
  {
   "cell_type": "markdown",
   "metadata": {},
   "source": [
    "# Update resolution after  https://arxiv.org/abs/2003.03825"
   ]
  },
  {
   "cell_type": "code",
   "execution_count": null,
   "metadata": {},
   "outputs": [],
   "source": [
    "def fun(E):\n",
    "    a = 31.71\n",
    "    b = 0.15\n",
    "    sigma_over_E = b + a/np.sqrt(E)\n",
    "    return sigma_over_E/100\n",
    "\n",
    "def sigma(E):\n",
    "    return fun(E)*E\n"
   ]
  },
  {
   "cell_type": "code",
   "execution_count": null,
   "metadata": {},
   "outputs": [],
   "source": [
    "ens = np.linspace(0,3000, 100)\n",
    "plt.figure(figsize=(8,4))\n",
    "plt.plot(ens, 100 * \n",
    "         fun(ens))\n",
    "plt.title('REPLICATION figure 6 https://arxiv.org/abs/2003.03825')\n",
    "plt.xlabel('E [keV]')\n",
    "plt.ylabel('$\\sigma/E$ [%]')\n",
    "plt.ylim(0,5)\n",
    "plt.xlim(0,3000)\n",
    "plt.grid()"
   ]
  },
  {
   "cell_type": "code",
   "execution_count": null,
   "metadata": {},
   "outputs": [],
   "source": [
    "ens = np.linspace(0.001,10, 100)\n",
    "plt.figure(figsize=(5,3))\n",
    "plt.plot(ens, sigma(ens)/ens, label = 'XENON1T')\n",
    "plt.plot(ens, dddm.det_res_XENON1T(ens)/ens, label = 'XENONnT')\n",
    "plt.plot(ens, dddm.det_res_superCDMS(ens)/ens, label = 'superCDMS')\n",
    "plt.ylim(0,1)\n",
    "plt.xlim(0,ens[-1])\n",
    "plt.legend()\n",
    "plt.grid()\n",
    "plt.xlabel('')"
   ]
  },
  {
   "cell_type": "code",
   "execution_count": null,
   "metadata": {},
   "outputs": [],
   "source": []
  },
  {
   "cell_type": "code",
   "execution_count": null,
   "metadata": {},
   "outputs": [],
   "source": []
  },
  {
   "cell_type": "code",
   "execution_count": null,
   "metadata": {},
   "outputs": [],
   "source": []
  },
  {
   "cell_type": "code",
   "execution_count": null,
   "metadata": {},
   "outputs": [],
   "source": []
  },
  {
   "cell_type": "code",
   "execution_count": null,
   "metadata": {},
   "outputs": [],
   "source": []
  },
  {
   "cell_type": "code",
   "execution_count": null,
   "metadata": {},
   "outputs": [],
   "source": []
  }
 ],
 "metadata": {
  "kernelspec": {
   "display_name": "Python 3",
   "language": "python",
   "name": "python3"
  },
  "language_info": {
   "codemirror_mode": {
    "name": "ipython",
    "version": 3
   },
   "file_extension": ".py",
   "mimetype": "text/x-python",
   "name": "python",
   "nbconvert_exporter": "python",
   "pygments_lexer": "ipython3",
   "version": "3.8.2"
  }
 },
 "nbformat": 4,
 "nbformat_minor": 2
}
