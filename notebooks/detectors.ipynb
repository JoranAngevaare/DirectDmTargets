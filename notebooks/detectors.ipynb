{
 "cells": [
  {
   "cell_type": "code",
   "execution_count": null,
   "metadata": {},
   "outputs": [],
   "source": [
    "import DirectDmTargets as dddm"
   ]
  },
  {
   "cell_type": "code",
   "execution_count": null,
   "metadata": {},
   "outputs": [],
   "source": [
    "import wimprates as wr\n",
    "wr.__version__"
   ]
  },
  {
   "cell_type": "code",
   "execution_count": null,
   "metadata": {},
   "outputs": [],
   "source": [
    "import numericalunits as nu"
   ]
  },
  {
   "cell_type": "code",
   "execution_count": null,
   "metadata": {},
   "outputs": [],
   "source": [
    "import time"
   ]
  },
  {
   "cell_type": "code",
   "execution_count": null,
   "metadata": {},
   "outputs": [],
   "source": [
    "import numpy as np\n",
    "import matplotlib.pyplot as plt"
   ]
  },
  {
   "cell_type": "code",
   "execution_count": null,
   "metadata": {},
   "outputs": [],
   "source": [
    "from tqdm import tqdm"
   ]
  },
  {
   "cell_type": "markdown",
   "metadata": {},
   "source": [
    "# Finding the correct 'factor' #\n",
    "\n",
    "Author:\n",
    "\n",
    "Joran Angevaare <j.angevaare@nikef.nl>\n",
    "\n",
    "Date:\n",
    "\n",
    "25 october 2019 \n",
    "\n",
    "## Goal ## \n",
    "- in the DetectorSpectrum-class a factor is used to rebin the DM-spectrum. This rebinning should be fine enough to allow the numerical integration to be sufficiently accurate. However we don't want a too fine binning as it does increase computation time drastically. \n",
    "\n",
    "## Result ##\n",
    "A factor (the factor between the the bins used for the numerical integration and the spectrum) is set to **10** as this proved a fair trade off between speed and accuracy."
   ]
  },
  {
   "cell_type": "markdown",
   "metadata": {},
   "source": [
    "## Distribution of the DM ##\n",
    "First we need to make a DM-rate spectrum (below we first compare the un-smeared and smeared spectrum)"
   ]
  },
  {
   "cell_type": "code",
   "execution_count": null,
   "metadata": {},
   "outputs": [],
   "source": [
    "use_SHM = dddm.SHM()"
   ]
  },
  {
   "cell_type": "code",
   "execution_count": null,
   "metadata": {},
   "outputs": [],
   "source": [
    "dddm.detectors['Xe']"
   ]
  },
  {
   "cell_type": "code",
   "execution_count": null,
   "metadata": {},
   "outputs": [],
   "source": [
    "# No detector resolution\n",
    "def plot_spectrum(data, color = 'blue', label = 'label', linestyle = 'none', plot_error = True):\n",
    "    plt.errorbar(data['bin_centers'], data['counts'], \n",
    "                xerr=(data['bin_left'] - data['bin_right'])/2,\n",
    "                yerr = np.sqrt(data['counts']) if plot_error else np.zeros(len(data['counts'])),\n",
    "                color = color,\n",
    "                linestyle = linestyle,\n",
    "                capsize = 2,\n",
    "                marker = 'o',\n",
    "                label = label,\n",
    "                markersize=2\n",
    "                )"
   ]
  },
  {
   "cell_type": "code",
   "execution_count": null,
   "metadata": {},
   "outputs": [],
   "source": [
    "# %%time\n",
    "xe_events = dddm.GenSpectrum(50, 1e-45, use_SHM, dddm.detectors['Xe'])\n",
    "xe_events.n_bins = 10\n",
    "xe_galact = xe_events.get_data(poisson = False)\n",
    "xe_galact"
   ]
  },
  {
   "cell_type": "code",
   "execution_count": null,
   "metadata": {},
   "outputs": [],
   "source": [
    "# ??dddm.SHM"
   ]
  },
  {
   "cell_type": "code",
   "execution_count": null,
   "metadata": {},
   "outputs": [],
   "source": [
    "use_SHM = dddm.SHM(v_0=220 * nu.km / nu.s, rho_dm = 0.3 * nu.GeV / nu.c0 ** 2 / nu.cm ** 3 )"
   ]
  },
  {
   "cell_type": "code",
   "execution_count": null,
   "metadata": {},
   "outputs": [],
   "source": [
    "def get_gal_spec(det):\n",
    "#     det_dic = {'exp': 5,\n",
    "#      'cut_eff': 0.8,\n",
    "#      'nr_eff': 0.5,\n",
    "#      'E_thr': 10,\n",
    "#      'res': dddm.det_res_Xe,\n",
    "#      'exp_eff': 2.0,\n",
    "#      'name':det}\n",
    "#     spec_class = dddm.GenSpectrum(50, 1e-45, use_SHM, det_dic)\n",
    "    spec_class = dddm.GenSpectrum(50, 1e-45, use_SHM, dddm.detectors[det])\n",
    "    spec_class.E_max = 300\n",
    "    spec_class.mw = 100\n",
    "#     spec_class\n",
    "    spec_class.n_bins = 1000\n",
    "#     print(spec_class)\n",
    "    return spec_class.get_data(poisson = False)"
   ]
  },
  {
   "cell_type": "code",
   "execution_count": null,
   "metadata": {},
   "outputs": [],
   "source": [
    "# plot_spectrum(xe_galact, label = 'un-smeared', linestyle = '--')\n",
    "plot_spectrum(get_gal_spec('Xe'), 'red', label = 'Xe det. resolution', plot_error = False)\n",
    "plot_spectrum(get_gal_spec('Ge'), 'green', label = 'Ge det. resolution', plot_error = False)\n",
    "plot_spectrum(get_gal_spec('Ar'), 'orange', label = 'Ar det. resolution', plot_error = False)\n",
    "plt.legend()"
   ]
  },
  {
   "cell_type": "code",
   "execution_count": null,
   "metadata": {},
   "outputs": [],
   "source": [
    "# plot_spectrum(xe_galact, label = 'un-smeared', linestyle = '--')\n",
    "plot_spectrum(get_gal_spec('Xe'), 'red', label = 'Xe det. resolution', plot_error = False)\n",
    "plot_spectrum(get_gal_spec('Ge'), 'green', label = 'Ge det. resolution', plot_error = False)\n",
    "plot_spectrum(get_gal_spec('Ar'), 'orange', label = 'Ar det. resolution', plot_error = False)\n",
    "plt.yscale(\"log\")\n",
    "plt.ylim(1e-7,1e2)\n",
    "plt.legend()"
   ]
  },
  {
   "cell_type": "code",
   "execution_count": null,
   "metadata": {},
   "outputs": [],
   "source": []
  },
  {
   "cell_type": "raw",
   "metadata": {},
   "source": [
    "en = np.linspace(0,100,10)"
   ]
  },
  {
   "cell_type": "code",
   "execution_count": null,
   "metadata": {},
   "outputs": [],
   "source": [
    "# wr.rate_elastic(en, 50, 1e-45)"
   ]
  },
  {
   "cell_type": "code",
   "execution_count": null,
   "metadata": {},
   "outputs": [],
   "source": []
  },
  {
   "cell_type": "code",
   "execution_count": null,
   "metadata": {},
   "outputs": [],
   "source": []
  },
  {
   "cell_type": "code",
   "execution_count": null,
   "metadata": {},
   "outputs": [],
   "source": [
    "\"test %s \" % str(1)"
   ]
  },
  {
   "cell_type": "code",
   "execution_count": null,
   "metadata": {},
   "outputs": [],
   "source": []
  },
  {
   "cell_type": "code",
   "execution_count": null,
   "metadata": {},
   "outputs": [],
   "source": [
    "def get_det_spec(det, mw =50):\n",
    "    spec_class = dddm.DetectorSpectrum(50, 1e-45, use_SHM, dddm.detectors[det])\n",
    "    spec_class.E_max = 300\n",
    "    spec_class.mw = mw\n",
    "    spec_class.n_bins = 100\n",
    "    return spec_class.get_data(poisson = False)"
   ]
  },
  {
   "cell_type": "code",
   "execution_count": null,
   "metadata": {
    "scrolled": true
   },
   "outputs": [],
   "source": [
    "# %%time\n",
    "# get_det_spec('Xe')"
   ]
  },
  {
   "cell_type": "code",
   "execution_count": null,
   "metadata": {},
   "outputs": [],
   "source": [
    "# # plot_spectrum(xe_galact, label = 'un-smeared', linestyle = '--')\n",
    "# plot_spectrum(get_det_spec('Xe'), 'red', label = 'Xe det. resolution')\n",
    "# plot_spectrum(get_det_spec('Ge'), 'green', label = 'Ge det. resolution')\n",
    "# plot_spectrum(get_det_spec('Ar'), 'orange', label = 'Ar det. resolution')\n",
    "# plt.legend()"
   ]
  },
  {
   "cell_type": "code",
   "execution_count": null,
   "metadata": {},
   "outputs": [],
   "source": [
    "# plot_spectrum(xe_galact, label = 'un-smeared', linestyle = '--')\n",
    "plot_spectrum(get_det_spec('Xe'), 'red', label = 'Xe det. resolution', plot_error = False)\n",
    "plot_spectrum(get_det_spec('Ge'), 'green', label = 'Ge det. resolution', plot_error = False)\n",
    "plot_spectrum(get_det_spec('Ar'), 'orange', label = 'Ar det. resolution', plot_error = False)\n",
    "plt.yscale(\"log\")\n",
    "plt.ylim(1e-7,1e3)\n",
    "plt.legend()"
   ]
  },
  {
   "cell_type": "code",
   "execution_count": null,
   "metadata": {},
   "outputs": [],
   "source": [
    "# plot_spectrum(xe_galact, label = 'un-smeared', linestyle = '--')\n",
    "plot_spectrum(get_det_spec('Ar', mw =25), 'red', label = '25 GeV det. resolution', plot_error = False)\n",
    "plot_spectrum(get_det_spec('Ar', mw =50), 'green', label = '50 GeV det. resolution', plot_error = False)\n",
    "plot_spectrum(get_det_spec('Ar', mw =250), 'orange', label = '250 GeV det. resolution', plot_error = False)\n",
    "plt.yscale(\"log\")\n",
    "plt.ylim(1e-10,1e1)\n",
    "plt.legend()"
   ]
  },
  {
   "cell_type": "code",
   "execution_count": null,
   "metadata": {},
   "outputs": [],
   "source": [
    "def get_det_spec(det):\n",
    "    spec_class = dddm.DetectorSpectrum(50, 1e-45, use_SHM, dddm.detectors[det])\n",
    "    spec_class.E_max = 300\n",
    "    spec_class.mw = 50\n",
    "    spec_class.n_bins = 10\n",
    "    return spec_class.get_data(poisson = False)"
   ]
  },
  {
   "cell_type": "code",
   "execution_count": null,
   "metadata": {},
   "outputs": [],
   "source": [
    "# plot_spectrum(xe_galact, label = 'un-smeared', linestyle = '--')\n",
    "plot_spectrum(get_det_spec('Xe'), 'red', label = 'Xe det. resolution', plot_error = False)\n",
    "plot_spectrum(get_det_spec('Ge'), 'green', label = 'Ge det. resolution', plot_error = False)\n",
    "plot_spectrum(get_det_spec('Ar'), 'orange', label = 'Ar det. resolution', plot_error = False)\n"
   ]
  },
  {
   "cell_type": "code",
   "execution_count": null,
   "metadata": {},
   "outputs": [],
   "source": [
    "def get_det_spec(det, mass):\n",
    "    spec_class = dddm.DetectorSpectrum(50, 1e-45, use_SHM, dddm.detectors[det])\n",
    "    spec_class.E_max = 300\n",
    "    spec_class.mw = mass\n",
    "    spec_class.n_bins = 500\n",
    "    return spec_class.get_data(poisson = False)\n",
    "\n",
    "cols = ['red', 'blue', 'black', 'orange', 'cyan']\n",
    "for i, m in enumerate([5,25,50,250, 500]):\n",
    "    plot_spectrum(get_det_spec('Xe', m), cols[i], label = 'Xe det. m=%i'%m, plot_error = False)\n",
    "plt.yscale(\"log\")\n",
    "plt.ylim(1e-9,1e3)\n",
    "plt.legend()"
   ]
  },
  {
   "cell_type": "code",
   "execution_count": null,
   "metadata": {},
   "outputs": [],
   "source": [
    "def get_det_spec(det, mass):\n",
    "    spec_class = dddm.DetectorSpectrum(50, 1e-45, use_SHM, dddm.detectors[det])\n",
    "    spec_class.E_max = 300\n",
    "    spec_class.mw = mass\n",
    "    spec_class.n_bins = 10\n",
    "    return spec_class.get_data(poisson = False)\n",
    "\n",
    "cols = ['red', 'blue', 'black', 'orange', 'cyan']\n",
    "for i, m in enumerate([5,25,50,250, 500]):\n",
    "    plot_spectrum(get_det_spec('Xe', m), cols[i], label = 'Xe det. m=%i'%m, plot_error = False)\n",
    "plt.yscale(\"log\")\n",
    "plt.ylim(1e-9,1e3)\n",
    "plt.legend()"
   ]
  },
  {
   "cell_type": "markdown",
   "metadata": {},
   "source": [
    "## Finding the correct factor ##"
   ]
  },
  {
   "cell_type": "code",
   "execution_count": null,
   "metadata": {},
   "outputs": [],
   "source": [
    "factors = np.array([4,8,10,25,50,100,1000])\n",
    "results = {}\n",
    "for factor in tqdm(factors):\n",
    "    start = time.time()\n",
    "    xe_ev = dddm.DetectorSpectrum(50, 1e-45, use_SHM, dddm.detectors['Xe'])\n",
    "    xe_ev.rebin_factor = factor\n",
    "    xe_ev.n_bins = 100\n",
    "    xe_res = xe_ev.get_data(poisson = False)\n",
    "    end = time.time()\n",
    "    \n",
    "    results[factor] = {'time':end-start, \"data\":xe_res}\n",
    "    "
   ]
  },
  {
   "cell_type": "code",
   "execution_count": null,
   "metadata": {},
   "outputs": [],
   "source": [
    "def plot_results(data, label = 'label'):\n",
    "    plt.errorbar(data['bin_centers'], data['counts'], \n",
    "                xerr=(data['bin_left'] - data['bin_right'])/2,\n",
    "                yerr = np.sqrt(data['counts']),\n",
    "                linestyle = 'none',\n",
    "                capsize = 2,\n",
    "                marker = 'o',\n",
    "                label = label\n",
    "                )\n",
    "for res in results.keys():\n",
    "    plot_results(results[res]['data'], f\"fact={res} t = %.3fs\"%results[res]['time'])\n",
    "plt.legend()"
   ]
  },
  {
   "cell_type": "code",
   "execution_count": null,
   "metadata": {},
   "outputs": [],
   "source": [
    "def plot_results_compare(data, data2, label = 'label'):\n",
    "    off_percent = 100 - 100 * np.mean(np.abs(data['counts']/data2['counts']))\n",
    "    plt.errorbar(data['bin_centers'], data['counts']/data2['counts'], \n",
    "                xerr=(data['bin_left'] - data['bin_right'])/2,\n",
    "#                 yerr = np.sqrt(data['counts'])/data2['counts'],\n",
    "                linestyle = 'none',\n",
    "                capsize = 2,\n",
    "                marker = 'o',\n",
    "                label = label + \"| off (perc) %.1f\"%off_percent\n",
    "                )\n",
    "    \n",
    "for res in results.keys():\n",
    "    plot_results_compare(results[res]['data'], \n",
    "                         results[np.max(factors)]['data'], \n",
    "                         f\"fact={res} | t = %.2fs\"%results[res]['time'])\n",
    "plt.legend()"
   ]
  },
  {
   "cell_type": "code",
   "execution_count": null,
   "metadata": {},
   "outputs": [],
   "source": [
    "for x in results.keys():\n",
    "    plt.scatter(x, results[x]['time'], label = x, \n",
    "                marker = \"x\" if x == 10 else \".\")\n",
    "plt.yscale(\"log\")\n",
    "plt.xscale(\"log\")\n",
    "plt.ylabel(\"time (s)\")\n",
    "plt.xlabel(\"factor\")\n",
    "plt.legend()"
   ]
  },
  {
   "cell_type": "code",
   "execution_count": null,
   "metadata": {},
   "outputs": [],
   "source": []
  },
  {
   "cell_type": "code",
   "execution_count": null,
   "metadata": {},
   "outputs": [],
   "source": []
  }
 ],
 "metadata": {
  "kernelspec": {
   "display_name": "Python 3",
   "language": "python",
   "name": "python3"
  },
  "language_info": {
   "codemirror_mode": {
    "name": "ipython",
    "version": 3
   },
   "file_extension": ".py",
   "mimetype": "text/x-python",
   "name": "python",
   "nbconvert_exporter": "python",
   "pygments_lexer": "ipython3",
   "version": "3.7.6"
  }
 },
 "nbformat": 4,
 "nbformat_minor": 2
}
