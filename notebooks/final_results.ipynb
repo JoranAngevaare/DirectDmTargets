{
 "cells": [
  {
   "cell_type": "markdown",
   "metadata": {},
   "source": [
    "# Summary of the results for Ge and Xe detectors om the migdal effect.\n",
    "\n",
    "Below the following three tests are highlighted:\n",
    "  - Earth shielding versus normal SHM\n",
    "  - Profiling out astrophysical uncertainties as nuisance parameters\n",
    "  - Comparing Ge vs. Xe. detectors.\n",
    "  - Complementarity of Ge and Xe detecotors."
   ]
  },
  {
   "cell_type": "markdown",
   "metadata": {},
   "source": [
    "### TODO:\n",
    " - overlay with alpha <1\n",
    " - remove ommit_check = 'log' as it is bad\n",
    " - only use updated prior-ranges\n",
    " - plot complementarity of Ge/Xe\n",
    " - add method to base xlim, ylim on mean and std returning from _confidence_plot"
   ]
  },
  {
   "cell_type": "code",
   "execution_count": null,
   "metadata": {
    "scrolled": false
   },
   "outputs": [],
   "source": [
    "# Setup packages\n",
    "%run load_results_multinest.py"
   ]
  },
  {
   "cell_type": "code",
   "execution_count": null,
   "metadata": {},
   "outputs": [],
   "source": [
    "# Acces data by using dataframe called 'df'\n",
    "df.head(2)"
   ]
  },
  {
   "cell_type": "code",
   "execution_count": null,
   "metadata": {},
   "outputs": [],
   "source": [
    "len(df)"
   ]
  },
  {
   "cell_type": "code",
   "execution_count": null,
   "metadata": {
    "scrolled": true
   },
   "outputs": [],
   "source": [
    "_mask = df['config_nlive'] == 2000\n",
    "np.sum(_mask)\n",
    "df[_mask]"
   ]
  },
  {
   "cell_type": "code",
   "execution_count": null,
   "metadata": {},
   "outputs": [],
   "source": [
    "# Let's write out a summary for the purpose of filling out missing gaps for sets of simulations that are missing\n",
    "finished = df[['item','mw', 'config_sigma', 'config_detector', 'config_notes', 'n_fit_parameters', 'config_nlive', 'config_save_intermediate', 'config_earth_shielding']].copy()\n",
    "def strip_n(n):\n",
    "    if n.endswith('038'):  n = n[:-1]\n",
    "    elif n.endswith('_n12') or n.endswith('_n16'): n = n[:-4]\n",
    "    return n\n",
    "notes = [strip_n(n) for n in finished.config_notes.values]\n",
    "finished['config_notes'] = notes\n",
    "finished.to_csv('../finished_sims.csv', index=False)\n",
    "finished.head(3)"
   ]
  },
  {
   "cell_type": "code",
   "execution_count": null,
   "metadata": {},
   "outputs": [],
   "source": [
    "# For this moment let's focus on the data from a specific set of simulations\n",
    "# these all have the following note in their configuration file.\n",
    "# why does this syntax not work?\n",
    "# mask = (df['config_notes'] == 'migdal_04_038')  | (df['config_notes'] == 'migdal_04_03') \n",
    "mask = np.array(['migdal_04_03' in _n for _n in df['config_notes']])\n",
    "df_copy = df[~mask].copy()\n",
    "df_copy.head(2)"
   ]
  },
  {
   "cell_type": "code",
   "execution_count": null,
   "metadata": {},
   "outputs": [],
   "source": [
    "np.sum(df['config_notes'] == 'migdal_04_038'), np.sum(df['config_notes'] == 'migdal_04_03')"
   ]
  },
  {
   "cell_type": "code",
   "execution_count": null,
   "metadata": {},
   "outputs": [],
   "source": [
    "len(df_copy)"
   ]
  },
  {
   "cell_type": "code",
   "execution_count": null,
   "metadata": {},
   "outputs": [],
   "source": [
    "df_copy = df.copy()\n",
    "len(df_copy)"
   ]
  },
  {
   "cell_type": "markdown",
   "metadata": {},
   "source": [
    "# Earth shielding\n",
    "Below we compare the earth shielding versus non-earth shielding. To this end we first select a 'normal' dataset with a high cross-section for the given mass. We also list the other opportunities, one could make another selection. For presentation purposes not all scenarios are presented below.\n",
    "\n",
    "Step by step:\n",
    "  - Check for the mass that the SHM and verne results are available\n",
    "  - List all masses -> get for each mass the largest cross-section\n",
    "  - For that set of parameters plot the difference between verne and SHM \n",
    "  - Do the same for a superCDMS-type detector.\n",
    "  "
   ]
  },
  {
   "cell_type": "markdown",
   "metadata": {},
   "source": [
    "## Finding the data"
   ]
  },
  {
   "cell_type": "code",
   "execution_count": null,
   "metadata": {},
   "outputs": [],
   "source": [
    "print('We want to comment out \"tol\" below')"
   ]
  },
  {
   "cell_type": "code",
   "execution_count": null,
   "metadata": {
    "scrolled": true
   },
   "outputs": [],
   "source": [
    "mask = (df_copy['config_detector'] == 'Xe_migd_bg') & (\n",
    "    df_copy['config_earth_shielding'] == False)    & (\n",
    "    df_copy['config_save_intermediate'] == False)\n",
    "sel_df = df_copy[mask]\n",
    "to_check, to_check_biggest = [], []\n",
    "for j, m in enumerate(np.unique(sel_df.mw.values)):\n",
    "    for k, s in enumerate(np.flip(np.sort(np.unique(sel_df[sel_df['mw']==m].config_sigma.values)))):\n",
    "        print('Available for m = %.1f GeV/c2, s = 10^%i cm^2:'%(m,s))\n",
    "        mask = (sel_df.mw == m) & (sel_df.config_sigma == s)\n",
    "        items = sel_df[mask].item.values\n",
    "        print(f'\\t{len(sel_df[mask])} items, see i in {items}')\n",
    "\n",
    "        for it in items:\n",
    "            matched_to = match_other_item(it, verbose = True,\n",
    "                                          ommit_matching=['config_save_intermediate',\n",
    "                                                          'config_halo_model', \n",
    "                                                          'tol'],\n",
    "                                          anti_match_for='config_earth_shielding')\n",
    "            if type(matched_to) == np.int64:\n",
    "                to_check.append([it, matched_to])\n",
    "                if j == len(to_check_biggest): to_check_biggest.append([it, matched_to])\n",
    "            elif np.iterable(matched_to) and np.iterable((matched_to[0])):\n",
    "                print(f'multiple matches for {it} ({matched_to[0]}) taking {matched_to[0][0]}')\n",
    "                to_check.append([it, matched_to[0][0]])\n",
    "                if j == len(to_check_biggest): to_check_biggest.append([it, matched_to])\n",
    "            else:\n",
    "                print(f'\\t{it} is matched to {matched_to} and/but omitted')\n",
    "        if j == len(to_check_biggest):\n",
    "            print('No mathes for m = %.1f GeV/c2, s = 10^%i cm^2\\n'%(m,s))\n",
    "            to_check_biggest.append([])\n",
    "to_check, to_check_biggest"
   ]
  },
  {
   "cell_type": "code",
   "execution_count": null,
   "metadata": {},
   "outputs": [],
   "source": [
    "to_check, to_check_biggest"
   ]
  },
  {
   "cell_type": "markdown",
   "metadata": {},
   "source": [
    "## Plot the matches"
   ]
  },
  {
   "cell_type": "code",
   "execution_count": null,
   "metadata": {
    "scrolled": true
   },
   "outputs": [],
   "source": [
    "opts = dict(\n",
    "    nsigma = 2, smoothing = True, nbins = 200, alpha = 0.5,\n",
    "    cbar_notes = ['\\nno shielding', '\\nshielding']\n",
    ")"
   ]
  },
  {
   "cell_type": "code",
   "execution_count": null,
   "metadata": {
    "scrolled": true
   },
   "outputs": [],
   "source": [
    "plot_check_compare(to_check_biggest, 'shielding', **opts)"
   ]
  },
  {
   "cell_type": "code",
   "execution_count": null,
   "metadata": {},
   "outputs": [],
   "source": [
    "plot_check_compare(to_check, 'shielding_any', show = False, **opts)"
   ]
  },
  {
   "cell_type": "markdown",
   "metadata": {},
   "source": [
    "### Earth shielding for Ge"
   ]
  },
  {
   "cell_type": "code",
   "execution_count": null,
   "metadata": {},
   "outputs": [],
   "source": [
    "mask = (df_copy['config_detector'] == 'Ge_migd_iZIP_bg') & (\n",
    "    df_copy['config_earth_shielding'] == True)\n",
    "\n",
    "sel_df = df_copy[mask]\n",
    "to_check, to_check_biggest = [], []\n",
    "for j, m in enumerate(np.unique(sel_df.mw.values)):\n",
    "    for k, s in enumerate(np.flip(np.sort(np.unique(sel_df[sel_df['mw']==m].config_sigma.values)))):\n",
    "        print('Available for m = %.1f GeV/c2, s = 10^%i cm^2:'%(m,s))\n",
    "        mask = (sel_df.mw == m) & (sel_df.config_sigma == s)\n",
    "        items = sel_df[mask].item.values\n",
    "        print(f'\\t{len(sel_df[mask])} items, see i in {items}')\n",
    "\n",
    "        for it in items:\n",
    "            matched_to = match_other_item(it, verbose = True,\n",
    "                                          ommit_matching=['config_save_intermediate',\n",
    "                                                          'config_halo_model', \n",
    "                                                          'tol'],\n",
    "                                          anti_match_for='config_earth_shielding')\n",
    "            if type(matched_to) == np.int64:\n",
    "                to_check.append([it, matched_to])\n",
    "                if j == len(to_check_biggest): to_check_biggest.append([it, matched_to])\n",
    "            elif np.iterable(matched_to) and np.iterable((matched_to[0])):\n",
    "                print(f'multiple matches for {it} ({matched_to[0]}) taking {matched_to[0][0]}')\n",
    "                to_check.append([it, matched_to[0][0]])\n",
    "                if j == len(to_check_biggest): to_check_biggest.append([it, matched_to])\n",
    "            else:\n",
    "                print(f'\\t{it} is matched to {matched_to} and/but omitted')\n",
    "        if j == len(to_check_biggest):\n",
    "            print('No mathes for m = %.1f GeV/c2, s = 10^%i cm^2\\n'%(m,s))\n",
    "            to_check_biggest.append([])\n",
    "to_check, to_check_biggest"
   ]
  },
  {
   "cell_type": "code",
   "execution_count": null,
   "metadata": {},
   "outputs": [],
   "source": [
    "opts = dict(\n",
    "    nsigma = 2, smoothing = True, nbins = 200, alpha = 0.5,\n",
    "    cbar_notes = ['\\nno shielding', '\\nshielding']\n",
    ")\n",
    "plot_check_compare(to_check, 'Ge_HV_shielding_any', show = False, **opts)"
   ]
  },
  {
   "cell_type": "markdown",
   "metadata": {},
   "source": [
    "# Astrophysical uncertainties\n",
    "\n",
    "Below we load a set of data where we compare fits with the same fits where the astrophysical uncertainties are treated as astrophysical parameters"
   ]
  },
  {
   "cell_type": "code",
   "execution_count": null,
   "metadata": {
    "scrolled": true
   },
   "outputs": [],
   "source": [
    "mask = (df_copy['config_detector'] == 'Xe_migd_bg') & (\n",
    "    df_copy['config_earth_shielding'] == False) & (\n",
    "    df_copy['n_fit_parameters'] == 2)\n",
    "\n",
    "sel_df = df_copy[mask]\n",
    "to_check, to_check_lowest = [], []\n",
    "for j, m in enumerate(np.unique(sel_df.mw.values)):\n",
    "    for k, s in enumerate(np.sort(np.unique(sel_df[sel_df['mw']==m].config_sigma.values))):\n",
    "        print('Available for m = %.1f GeV/c2, s = 10^%i cm^2:'%(m,s))\n",
    "        mask = (sel_df.mw == m) & (sel_df.config_sigma == s)\n",
    "        items = sel_df[mask].item.values\n",
    "        print(f'\\t{len(sel_df[mask])} items, see i in {items}')\n",
    "\n",
    "        for it in items:\n",
    "            matched_to = match_other_item(it, verbose = False,\n",
    "                                          ommit_matching=['config_save_intermediate',\n",
    "                                                         'tol'],\n",
    "                                          anti_match_for='n_fit_parameters')\n",
    "            if type(matched_to) == np.int64:\n",
    "                to_check.append([it, matched_to])\n",
    "                if j == len(to_check_lowest): to_check_lowest.append([it, matched_to])\n",
    "            elif np.iterable(matched_to) and np.iterable((matched_to[0])):\n",
    "                print(f'multiple matches for {it} ({matched_to[0]}) taking {matched_to[0][0]}')\n",
    "                to_check.append([it, matched_to[0][0]])\n",
    "                if j == len(to_check_lowest): to_check_lowest.append([it, matched_to[0][0]])\n",
    "            else:\n",
    "                print(f'\\t{it} is matched to {matched_to} and/but omitted')\n",
    "        if j == len(to_check_lowest):\n",
    "            print('No mathes for m = %.1f GeV/c2, s = 10^%i cm^2\\n'%(m,s))\n",
    "            to_check_lowest.append([])\n",
    "to_check, to_check_lowest"
   ]
  },
  {
   "cell_type": "code",
   "execution_count": null,
   "metadata": {},
   "outputs": [],
   "source": [
    "to_check, to_check_lowest"
   ]
  },
  {
   "cell_type": "code",
   "execution_count": null,
   "metadata": {},
   "outputs": [],
   "source": [
    "opts = dict(\n",
    "    nsigma = 2, smoothing = True, nbins = 200, alpha = 0.5,\n",
    "    cbar_notes = ['\\nfixed astrophysics', '\\nastrophysical uncertainties']\n",
    ")\n"
   ]
  },
  {
   "cell_type": "code",
   "execution_count": null,
   "metadata": {
    "scrolled": true
   },
   "outputs": [],
   "source": [
    "plot_check_compare(to_check_lowest, 'astrph_lowest', **opts)"
   ]
  },
  {
   "cell_type": "code",
   "execution_count": null,
   "metadata": {
    "scrolled": true
   },
   "outputs": [],
   "source": [
    "# plot a random set\n",
    "# random_set = np.random.randint(0,len(to_check))\n",
    "# plot_check_compare(to_check[random_set:random_set+1], 'random_astrph')\n",
    "\n",
    "# or plot all sets\n",
    "plot_check_compare(to_check, 'any_astrph', show = False, **opts)"
   ]
  },
  {
   "cell_type": "markdown",
   "metadata": {},
   "source": [
    "### Astphysical uncertainties for Ge detectors"
   ]
  },
  {
   "cell_type": "code",
   "execution_count": null,
   "metadata": {},
   "outputs": [],
   "source": [
    "mask = (df_copy['config_detector'] == 'Ge_migd_HV_bg') & (\n",
    "    df_copy['config_earth_shielding'] == False) & (\n",
    "    df_copy['n_fit_parameters'] == 2)\n",
    "\n",
    "sel_df = df_copy[mask]\n",
    "to_check, to_check_lowest = [], []\n",
    "for j, m in enumerate(np.unique(sel_df.mw.values)):\n",
    "    for k, s in enumerate(np.sort(np.unique(sel_df[sel_df['mw']==m].config_sigma.values))):\n",
    "        print('Available for m = %.1f GeV/c2, s = 10^%i cm^2:'%(m,s))\n",
    "        mask = (sel_df.mw == m) & (sel_df.config_sigma == s)\n",
    "        items = sel_df[mask].item.values\n",
    "        print(f'\\t{len(sel_df[mask])} items, see i in {items}')\n",
    "\n",
    "        for it in items:\n",
    "            matched_to = match_other_item(it, verbose = False,\n",
    "                                          ommit_matching=['config_save_intermediate',\n",
    "                                                         'tol'],\n",
    "                                          anti_match_for='n_fit_parameters')\n",
    "            if type(matched_to) == np.int64:\n",
    "                to_check.append([it, matched_to])\n",
    "                if j == len(to_check_lowest): to_check_lowest.append([it, matched_to])\n",
    "            elif np.iterable(matched_to) and np.iterable((matched_to[0])):\n",
    "                print(f'multiple matches for {it} ({matched_to[0]}) taking {matched_to[0][0]}')\n",
    "                to_check.append([it, matched_to[0][0]])\n",
    "                if j == len(to_check_lowest): to_check_lowest.append([it, matched_to[0][0]])\n",
    "            else:\n",
    "                print(f'\\t{it} is matched to {matched_to} and/but omitted')\n",
    "        if j == len(to_check_lowest):\n",
    "            print('No mathes for m = %.1f GeV/c2, s = 10^%i cm^2\\n'%(m,s))\n",
    "            to_check_lowest.append([])\n",
    "to_check, to_check_lowest"
   ]
  },
  {
   "cell_type": "code",
   "execution_count": null,
   "metadata": {
    "scrolled": false
   },
   "outputs": [],
   "source": [
    "# plot a random set\n",
    "# random_set = np.random.randint(0,len(to_check))\n",
    "# plot_check_compare(to_check[random_set:random_set+1], 'random_astrph')\n",
    "opts = dict(\n",
    "    nsigma = 2, smoothing = True, nbins = 200, alpha = 0.5,\n",
    "    cbar_notes = ['\\nfixed astrophysics', '\\nastrophysical uncertainties']\n",
    ")\n",
    "# or plot all sets\n",
    "plot_check_compare(to_check, 'Ge_HV_any_astrph', show = False, **opts)"
   ]
  },
  {
   "cell_type": "markdown",
   "metadata": {},
   "source": [
    "# Comparing Ge vs. Xe. detectors."
   ]
  },
  {
   "cell_type": "code",
   "execution_count": null,
   "metadata": {
    "scrolled": true
   },
   "outputs": [],
   "source": [
    "mask = (df_copy['config_detector'] == 'Ge_migd_HV_bg')\n",
    "\n",
    "sel_df = df_copy[mask]\n",
    "to_check = []\n",
    "for j, m in enumerate(np.unique(sel_df.mw.values)):\n",
    "    for k, s in enumerate(np.sort(np.unique(sel_df[sel_df['mw']==m].config_sigma.values))):\n",
    "        print('Available for m = %.1f GeV/c2, s = 10^%i cm^2:'%(m,s))\n",
    "        mask = (sel_df.mw == m) & (sel_df.config_sigma == s)\n",
    "        items = sel_df[mask].item.values\n",
    "        print(f'\\t{len(sel_df[mask])} items, see i in {items}')\n",
    "\n",
    "        for it in items:\n",
    "            print('WARNING OMMITTING prior_log* in compare!!!')\n",
    "            matched_to_Xe = match_other_item(it, verbose = False,\n",
    "                                          diff_det_type=True,\n",
    "                                          ommit_matching=['config_save_intermediate',\n",
    "#                                                           'prior_log*',\n",
    "                                                          'tol'\n",
    "                                                         ],\n",
    "                                          anti_match_for='config_detector')\n",
    "            matched_to_Ge = match_other_item(it, verbose = False,\n",
    "                                          diff_det_type=False,\n",
    "                                          ommit_matching=['config_save_intermediate',\n",
    "                                                          'tol'\n",
    "                                                         ],\n",
    "                                          anti_match_for='config_detector')\n",
    "            if matched_to_Xe and matched_to_Ge:\n",
    "                to_check.append([it])\n",
    "                for _m in [matched_to_Ge, matched_to_Xe]:\n",
    "                    if type(_m) == np.int64:\n",
    "                        to_check[-1].append(_m)\n",
    "                    else:\n",
    "                        try:\n",
    "                            _m2 = _m[0][0]\n",
    "                            print(f'Trying to append 0,0 of m {_m2}')\n",
    "                            if type(_m2) == np.int64:\n",
    "                                to_check[-1].append(_m2)\n",
    "                        except Exception as e:\n",
    "                            raise e\n",
    "                            print(f'{_m}, {e}')\n",
    "                if len(to_check[-1]) != 3:\n",
    "                    print(f'removing stuff for {it} as it does not have three succesfull matches')\n",
    "            else:\n",
    "                print(f'No match for both other detectortypes for {it}. Only found {[m[0] for m in [matched_to_Xe, matched_to_Ge] if np.iterable(m)]}')\n",
    "to_check"
   ]
  },
  {
   "cell_type": "code",
   "execution_count": null,
   "metadata": {},
   "outputs": [],
   "source": [
    "to_check"
   ]
  },
  {
   "cell_type": "code",
   "execution_count": null,
   "metadata": {},
   "outputs": [],
   "source": [
    "opts = dict(\n",
    "    nsigma = 2, smoothing = True, nbins = 200, \n",
    "    cbar_notes = ['\\nGe HV ', '\\nGe iZIP', '\\nGe-tot']\n",
    ")\n",
    "plot_check_combine(to_check, 'ge_vs_xe', show = False, **opts)"
   ]
  },
  {
   "cell_type": "code",
   "execution_count": null,
   "metadata": {
    "scrolled": false
   },
   "outputs": [],
   "source": [
    "# # Or have a look at a random selection of arbitrary cross-sections\n",
    "random_set = np.random.randint(0,len(to_check))\n",
    "plot_check_combine(to_check[random_set:random_set+1], 'random_ge_vs_xe')"
   ]
  },
  {
   "cell_type": "code",
   "execution_count": null,
   "metadata": {},
   "outputs": [],
   "source": []
  },
  {
   "cell_type": "code",
   "execution_count": null,
   "metadata": {},
   "outputs": [],
   "source": []
  },
  {
   "cell_type": "code",
   "execution_count": null,
   "metadata": {},
   "outputs": [],
   "source": []
  },
  {
   "cell_type": "code",
   "execution_count": null,
   "metadata": {},
   "outputs": [],
   "source": []
  },
  {
   "cell_type": "code",
   "execution_count": null,
   "metadata": {},
   "outputs": [],
   "source": []
  },
  {
   "cell_type": "code",
   "execution_count": null,
   "metadata": {},
   "outputs": [],
   "source": []
  },
  {
   "cell_type": "code",
   "execution_count": null,
   "metadata": {},
   "outputs": [],
   "source": []
  },
  {
   "cell_type": "code",
   "execution_count": null,
   "metadata": {},
   "outputs": [],
   "source": []
  },
  {
   "cell_type": "code",
   "execution_count": null,
   "metadata": {},
   "outputs": [],
   "source": []
  },
  {
   "cell_type": "code",
   "execution_count": null,
   "metadata": {},
   "outputs": [],
   "source": []
  },
  {
   "cell_type": "code",
   "execution_count": null,
   "metadata": {},
   "outputs": [],
   "source": []
  }
 ],
 "metadata": {
  "kernelspec": {
   "display_name": "Python 3",
   "language": "python",
   "name": "python3"
  },
  "language_info": {
   "codemirror_mode": {
    "name": "ipython",
    "version": 3
   },
   "file_extension": ".py",
   "mimetype": "text/x-python",
   "name": "python",
   "nbconvert_exporter": "python",
   "pygments_lexer": "ipython3",
   "version": "3.8.2"
  }
 },
 "nbformat": 4,
 "nbformat_minor": 2
}
