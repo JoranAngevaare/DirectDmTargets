{
 "cells": [
  {
   "cell_type": "code",
   "execution_count": 1,
   "metadata": {},
   "outputs": [
    {
     "name": "stdout",
     "output_type": "stream",
     "text": [
      "Start import\n",
      "calculating effective efficiency for Xe detector done\n",
      "calculating effective efficiency for Ge detector done\n",
      "calculating effective efficiency for Ar detector done\n",
      "calculating effective efficiency for Xe_migd detector done\n",
      "calculating effective efficiency for Ge_migd detector done\n",
      "calculating effective efficiency for Ar_migd detector done\n",
      "Done import\n",
      "SYSTEM\n",
      "\tRunning on linux\n",
      "\tPython version 3.7.4 (default, Aug 13 2019, 20:35:49) [GCC 7.3.0]\n",
      "\tPython installation /home/joran/.conda/envs/DD_DM/bin/python\n",
      "MODULES\n",
      "\tDirectDmTargets\n",
      "\t\tver.:\t0.2.0\n",
      "\t\tPath:\t/mnt/c/Users/Joran/Google Drive/PhD-master/ubuntu-storage/windows-anaconda/DD_DM_targets/DirectDmTargets/\n",
      "\n",
      "\twimprates\n",
      "\t\tver.:\t0.3.2\n",
      "\t\tPath:\t/mnt/c/Users/Joran/Google Drive/PhD-master/ubuntu-storage/windows-anaconda/forked_wimprates/wimprates/\n",
      "\n"
     ]
    }
   ],
   "source": [
    "%run common_init.py"
   ]
  },
  {
   "cell_type": "markdown",
   "metadata": {},
   "source": [
    "# Direct detection of Dark matter using different target materials #\n",
    "\n",
    "Author:\n",
    "\n",
    "Joran Angevaare <j.angevaare@nikef.nl>\n",
    "\n",
    "Date:\n",
    "\n",
    "14 october 2019 \n",
    "\n",
    "## Goal ## \n",
    "\n",
    "- Roughly reproduce <https://journals.aps.org/prd/abstract/10.1103/PhysRevD.83.083505>\n",
    "- Update the results thereof with more recent knowledge of the DM-distribution\n",
    "\n",
    "### Approach ###\n",
    "To achieve these goals, we must first get a decent recoil spectrum, that is flexible enough to have different astrophysical parameters. Further, it must also be flexible enough to be able to allow for different analytic functions to be added to the model. For instance, we must be able to incorporate the $\\rm{SHM}^{++}$ as presented here <https://arxiv.org/abs/1810.11468>.\n",
    "\n",
    "When we have a sufficiently flexible model, we want to add in the detector physics, we should therein incorporate at least the following parameters:\n",
    "- target\n",
    "  - material\n",
    "  - cross-section\n",
    "- threshold\n",
    "- background\n",
    "- cut efficiency  \n",
    "- volume\n",
    "- exposure\n",
    "\n",
    "Finally we should perform the inference"
   ]
  },
  {
   "cell_type": "markdown",
   "metadata": {},
   "source": [
    "## HALO model ##\n",
    "\n"
   ]
  },
  {
   "cell_type": "code",
   "execution_count": 2,
   "metadata": {},
   "outputs": [
    {
     "name": "stdout",
     "output_type": "stream",
     "text": [
      "../../verne/results/veldists/f_all_SUF_230_544_0.0_1.00.csv\n",
      "../../verne/results/veldists/f_all_XENON_230_533_0.0_1.00.csv\n",
      "../../verne/results/veldists/f_all_XENON_230_544_-80.6_1.00.csv\n",
      "../../verne/results/veldists/f_all_XENON_230_544_-80.6_100.00.csv\n",
      "../../verne/results/veldists/f_all_XENON_230_544_-92.1_1.00.csv\n",
      "../../verne/results/veldists/f_all_XENON_230_544_0.0_1.00.csv\n",
      "../../verne/results/veldists/f_all_XENON_230_544_0.0_50.00.csv\n",
      "../../verne/results/veldists/f_params_XENON_230_533_-32.0_0.00_avg.csv\n",
      "../../verne/results/veldists/f_params_XENON_230_544_0.30_-35.0_0.00_avg.csv\n",
      "../../verne/results/veldists/f_params_XENON_230_544_0.30_-35.0_2.00_avg.csv\n",
      "../../verne/results/veldists/f_params_XENON_230_544_0.30_-40.0_0.00_avg.csv\n",
      "../../verne/results/veldists/f_params_XENON_230_544_0.40_-45.0_1.70_avg.csv\n"
     ]
    }
   ],
   "source": [
    "verne_dir = '../../verne/results/veldists/'\n",
    "files = []\n",
    "for f in os.listdir(verne_dir):\n",
    "    if 'csv' in f: \n",
    "        print(verne_dir+f)\n",
    "        files.append(verne_dir+f)"
   ]
  },
  {
   "cell_type": "code",
   "execution_count": 3,
   "metadata": {},
   "outputs": [
    {
     "name": "stdout",
     "output_type": "stream",
     "text": [
      "../../verne/results/veldists/f_all_XENON_230_533_0.0_1.00.csv\n"
     ]
    },
    {
     "data": {
      "text/html": [
       "<div>\n",
       "<style scoped>\n",
       "    .dataframe tbody tr th:only-of-type {\n",
       "        vertical-align: middle;\n",
       "    }\n",
       "\n",
       "    .dataframe tbody tr th {\n",
       "        vertical-align: top;\n",
       "    }\n",
       "\n",
       "    .dataframe thead th {\n",
       "        text-align: right;\n",
       "    }\n",
       "</style>\n",
       "<table border=\"1\" class=\"dataframe\">\n",
       "  <thead>\n",
       "    <tr style=\"text-align: right;\">\n",
       "      <th></th>\n",
       "      <th>gamma/pi</th>\n",
       "      <th>v_[km/s]</th>\n",
       "      <th>f(v,gamma)_[s/km]</th>\n",
       "    </tr>\n",
       "  </thead>\n",
       "  <tbody>\n",
       "    <tr>\n",
       "      <th>0</th>\n",
       "      <td>0.0</td>\n",
       "      <td>1.000000</td>\n",
       "      <td>0.824957</td>\n",
       "    </tr>\n",
       "    <tr>\n",
       "      <th>1</th>\n",
       "      <td>0.0</td>\n",
       "      <td>1.337234</td>\n",
       "      <td>0.316603</td>\n",
       "    </tr>\n",
       "    <tr>\n",
       "      <th>2</th>\n",
       "      <td>0.0</td>\n",
       "      <td>1.788194</td>\n",
       "      <td>0.025514</td>\n",
       "    </tr>\n",
       "  </tbody>\n",
       "</table>\n",
       "</div>"
      ],
      "text/plain": [
       "   gamma/pi  v_[km/s]  f(v,gamma)_[s/km]\n",
       "0       0.0  1.000000           0.824957\n",
       "1       0.0  1.337234           0.316603\n",
       "2       0.0  1.788194           0.025514"
      ]
     },
     "execution_count": 3,
     "metadata": {},
     "output_type": "execute_result"
    }
   ],
   "source": [
    "file = files[1]\n",
    "print(file)\n",
    "df = pd.read_csv(file)\n",
    "df.head(3)"
   ]
  },
  {
   "cell_type": "code",
   "execution_count": 4,
   "metadata": {},
   "outputs": [
    {
     "name": "stderr",
     "output_type": "stream",
     "text": [
      "/mnt/c/Users/Joran/Google Drive/PhD-master/ubuntu-storage/windows-anaconda/forked_wimprates/wimprates/halo.py:144: RuntimeWarning: divide by zero encountered in true_divide\n",
      "  / (2 * v_earth_t * v))\n"
     ]
    },
    {
     "data": {
      "text/plain": [
       "<matplotlib.lines.Line2D at 0x7fa45ec12a10>"
      ]
     },
     "execution_count": 4,
     "metadata": {},
     "output_type": "execute_result"
    },
    {
     "data": {
      "image/png": "[encoded data removed]",
      "text/plain": [
       "<Figure size 432x288 with 1 Axes>"
      ]
     },
     "metadata": {
      "needs_background": "light"
     },
     "output_type": "display_data"
    }
   ],
   "source": [
    "_, x,y  = df.keys()\n",
    "headers = np.unique(df['gamma/pi'].values)\n",
    "# for i, header in enumerate(headers):\n",
    "def get_average(df, headers, projection):\n",
    "    masks = np.array([df['gamma/pi'] == header for header in headers])\n",
    "    combined = np.array([df[mask][projection].values for mask in masks])\n",
    "    return np.average(combined,axis = 0)\n",
    "df_average = pd.DataFrame()\n",
    "for projection in [x,y]:\n",
    "    df_average[projection] = get_average(df, headers, projection)\n",
    "df_average.head(5)\n",
    "cm = plt.get_cmap('gist_rainbow')\n",
    "headers = np.unique(df['gamma/pi'].values)\n",
    "n_headers = len(headers)\n",
    "wr_x = np.linspace(0,1000,200) * nu.km / nu.s\n",
    "wr_y2 = wr.observed_speed_dist(wr_x, 0) * nu.km /nu.s \n",
    "plt.plot(wr_x/(nu.km / nu.s),wr_y2, c = 'black', label = \"wimprates\")\n",
    "# plt.axvline(310)\n",
    "plt.xlabel(\"v [km/s]\")\n",
    "# plt.ylabel(\"$f (v)$\")\n",
    "wr_lim = plt.ylim()\n",
    "for i, header in enumerate(headers):\n",
    "    mask = df['gamma/pi'] == header\n",
    "    kwargs = {'color': cm(float(i)/n_headers),\n",
    "        'label': '$\\gamma$ = %.1f $^\\circ$'%np.rad2deg(header*np.pi)}\n",
    "    plt.plot(df[mask][x], df[mask][y], **kwargs)    \n",
    "    plt.ylabel(y.replace(\"_\",\" \"))\n",
    "plt.ylim(*wr_lim)\n",
    "\n",
    "plt.plot(df_average[x],df_average[y], label = 'average', linestyle = '--')\n",
    "plt.legend()\n",
    "plt.axvline(np.sqrt(220**2 + 232**2))\n",
    "\n",
    "# df_avg = pd.read_csv(files[1])\n",
    "# plt.plot(df_avg[x],df_avg[y], label = 'average (from verne)', linestyle = '-.')"
   ]
  },
  {
   "cell_type": "code",
   "execution_count": 5,
   "metadata": {
    "scrolled": true
   },
   "outputs": [
    {
     "data": {
      "text/plain": [
       "(1e-07, 10000000000.0)"
      ]
     },
     "execution_count": 5,
     "metadata": {},
     "output_type": "execute_result"
    },
    {
     "data": {
      "image/png": "[encoded data removed]",
      "text/plain": [
       "<Figure size 432x288 with 1 Axes>"
      ]
     },
     "metadata": {
      "needs_background": "light"
     },
     "output_type": "display_data"
    }
   ],
   "source": [
    "# NR's\n",
    "energies = np.linspace(0.1, 3.5, 1000)\n",
    "\n",
    "# dr/dr\n",
    "dr = ((nu.keV * (1000 * nu.kg) * nu.year) * \n",
    "    wr.rate_migdal(energies * nu.keV, \n",
    "                    mw=1 * nu.GeV/nu.c0**2, \n",
    "                    sigma_nucleon=1e-35 * nu.cm**2))\n",
    "\n",
    "plt.plot(energies, dr, label=\"WIMPrates SHM\")\n",
    "\n",
    "plt.xlabel(\"Recoil energy [keV]\")\n",
    "plt.ylabel(\"Rate [events per (keV ton year)]\")\n",
    "\n",
    "plt.xlim(0, energies.max())\n",
    "plt.yscale(\"log\")\n",
    "\n",
    "plt.ylim(1e-7,1e10)\n",
    "# dr"
   ]
  },
  {
   "cell_type": "markdown",
   "metadata": {},
   "source": [
    "## Detector smearing"
   ]
  },
  {
   "cell_type": "markdown",
   "metadata": {},
   "source": [
    "# Inference #\n",
    "Below we setup the inference"
   ]
  },
  {
   "cell_type": "markdown",
   "metadata": {},
   "source": [
    "## Distribution of the DM ##\n",
    "First we need to make a DM-rate spectrum"
   ]
  },
  {
   "cell_type": "code",
   "execution_count": 6,
   "metadata": {},
   "outputs": [],
   "source": [
    "use_SHM = dddm.SHM()"
   ]
  },
  {
   "cell_type": "code",
   "execution_count": 7,
   "metadata": {},
   "outputs": [],
   "source": [
    "def get_gal_spec(det):\n",
    "\n",
    "    spec_class = dddm.GenSpectrum(1, 1e-35, use_SHM, dddm.experiment[det])\n",
    "#     spec_class.E_max = 1\n",
    "#     spec_class.mw = 50\n",
    "    spec_class.n_bins = 20\n",
    "    return spec_class.get_data(poisson = False)"
   ]
  },
  {
   "cell_type": "code",
   "execution_count": 8,
   "metadata": {},
   "outputs": [
    {
     "data": {
      "text/plain": [
       "<matplotlib.legend.Legend at 0x7fa45e8382d0>"
      ]
     },
     "execution_count": 8,
     "metadata": {},
     "output_type": "execute_result"
    },
    {
     "data": {
      "image/png": "[encoded data removed]",
      "text/plain": [
       "<Figure size 576x432 with 1 Axes>"
      ]
     },
     "metadata": {
      "needs_background": "light"
     },
     "output_type": "display_data"
    }
   ],
   "source": [
    "# plot_spectrum(xe_galact, label = 'un-smeared', linestyle = '--')\n",
    "fig,ax=plt.subplots(figsize = (8,6))\n",
    "dddm.plot_spectrum(get_gal_spec('Xe_migd'), 'red', label = 'Xe target ', plot_error = False)\n",
    "dddm.plot_spectrum(get_gal_spec('Ge_migd'), 'green', label = 'Ge target', plot_error = False)\n",
    "dddm.plot_spectrum(get_gal_spec('Ar_migd'), 'orange', label = 'Ar target', plot_error = False)\n",
    "plt.yscale(\"log\")\n",
    "plt.xlabel(\"Recoil energy [keV]\")\n",
    "plt.ylabel(\"Rate [events per (keV ton year)]\")\n",
    "plt.legend()"
   ]
  },
  {
   "cell_type": "code",
   "execution_count": 9,
   "metadata": {},
   "outputs": [],
   "source": [
    "def get_det_spec(det, mw =50):\n",
    "    spec_class = dddm.DetectorSpectrum(1, 1e-35, use_SHM, dddm.experiment[det])\n",
    "#     spec_class.E_max = 200\n",
    "#     spec_class.mw = mw\n",
    "    spec_class.n_bins = 20\n",
    "    return spec_class.get_data(poisson = False)"
   ]
  },
  {
   "cell_type": "code",
   "execution_count": 10,
   "metadata": {},
   "outputs": [
    {
     "data": {
      "text/plain": [
       "<matplotlib.legend.Legend at 0x7fa45e9e0fd0>"
      ]
     },
     "execution_count": 10,
     "metadata": {},
     "output_type": "execute_result"
    },
    {
     "data": {
      "image/png": "[encoded data removed]",
      "text/plain": [
       "<Figure size 576x432 with 1 Axes>"
      ]
     },
     "metadata": {
      "needs_background": "light"
     },
     "output_type": "display_data"
    }
   ],
   "source": [
    "# plot_spectrum(xe_galact, label = 'un-smeared', linestyle = '--')\n",
    "# %%time\n",
    "fig,ax=plt.subplots(figsize = (8,6))\n",
    "dddm.plot_spectrum(get_det_spec('Xe_migd'), 'red', label = 'Xe det. resolution', plot_error = False)\n",
    "dddm.plot_spectrum(get_det_spec('Ge_migd'), 'green', label = 'Ge det. resolution', plot_error = False)\n",
    "dddm.plot_spectrum(get_det_spec('Ar_migd'), 'orange', label = 'Ar det. resolution', plot_error = False)\n",
    "plt.yscale(\"log\")\n",
    "plt.ylim(1e-7,1e7)\n",
    "plt.xlabel(\"Recoil energy [keV]\")\n",
    "plt.ylabel(\"Rate [events per (keV ton year)]\")\n",
    "plt.legend()"
   ]
  },
  {
   "cell_type": "markdown",
   "metadata": {},
   "source": [
    "# Likelihood profiling"
   ]
  },
  {
   "cell_type": "code",
   "execution_count": 11,
   "metadata": {
    "scrolled": false
   },
   "outputs": [],
   "source": [
    "# dddm.plt_ll_sigma_spec()"
   ]
  },
  {
   "cell_type": "code",
   "execution_count": 12,
   "metadata": {
    "scrolled": true
   },
   "outputs": [],
   "source": [
    "# dddm.plt_ll_sigma_det()"
   ]
  },
  {
   "cell_type": "code",
   "execution_count": 13,
   "metadata": {
    "scrolled": true
   },
   "outputs": [],
   "source": [
    "# dddm.plt_ll_mass_spec()\n",
    "# plt.ylim(-1000,0)"
   ]
  },
  {
   "cell_type": "code",
   "execution_count": 14,
   "metadata": {},
   "outputs": [],
   "source": [
    "# dddm.plt_ll_mass_det()\n",
    "# plt.ylim(-1000,0)"
   ]
  },
  {
   "cell_type": "markdown",
   "metadata": {},
   "source": [
    "# Nested sampling"
   ]
  },
  {
   "cell_type": "code",
   "execution_count": 15,
   "metadata": {},
   "outputs": [
    {
     "name": "stdout",
     "output_type": "stream",
     "text": [
      "StatModel::\tinitialized for Xe_migd detector. See print(stat_model) for default settings\n",
      "StatModel::\ttaking log10 of mass of 1\n",
      "StatModel::\tre-evaluate benchmark\n"
     ]
    },
    {
     "name": "stderr",
     "output_type": "stream",
     "text": [
      "/home/joran/.conda/envs/DD_DM/lib/python3.7/site-packages/scipy/integrate/quadpack.py:860: IntegrationWarning: The maximum number of subdivisions (50) has been achieved.\n",
      "  If increasing the limit yields no improvement it is advised to analyze \n",
      "  the integrand in order to determine the difficulties.  If the position of a \n",
      "  local difficulty can be determined (singularity, discontinuity) one will \n",
      "  probably gain from splitting up the interval and calling the integrator \n",
      "  on the subranges.  Perhaps a special-purpose integrator should be used.\n",
      "  **opt)\n",
      "/home/joran/.conda/envs/DD_DM/lib/python3.7/site-packages/scipy/integrate/quadpack.py:860: IntegrationWarning: The occurrence of roundoff error is detected, which prevents \n",
      "  the requested tolerance from being achieved.  The error may be \n",
      "  underestimated.\n",
      "  **opt)\n"
     ]
    },
    {
     "name": "stdout",
     "output_type": "stream",
     "text": [
      "Fitting for parameters:\n",
      "['log_mass', 'log_cross_section']\n"
     ]
    }
   ],
   "source": [
    "fit_class = dddm.NestleStatModel('Xe_migd')\n",
    "fit_class.tol = 0.99\n",
    "fit_class.nlive = 100\n",
    "fit_class.set_prior('migdal')\n",
    "fit_class.set_benchmark(mw = 1, sigma = -35)\n",
    "print(f\"Fitting for parameters:\\n{fit_class.fit_parameters}\")"
   ]
  },
  {
   "cell_type": "code",
   "execution_count": 16,
   "metadata": {},
   "outputs": [
    {
     "name": "stdout",
     "output_type": "stream",
     "text": [
      "run_nestle::\tstart_fit for 2 parameters\n",
      "Value error for v is 133428466.89231493\n",
      "Nestle did not finish due to a ValueError. Was running with\n",
      "2 for fit parameters ['log_mass', 'log_cross_section']\n"
     ]
    },
    {
     "name": "stderr",
     "output_type": "stream",
     "text": [
      "ERROR:root:Internal Python error in the inspect module.\n",
      "Below is the traceback from this internal error.\n",
      "\n"
     ]
    },
    {
     "name": "stdout",
     "output_type": "stream",
     "text": [
      "Traceback (most recent call last):\n",
      "  File \"/home/joran/.conda/envs/DD_DM/lib/python3.7/site-packages/IPython/core/interactiveshell.py\", line 3326, in run_code\n",
      "    exec(code_obj, self.user_global_ns, self.user_ns)\n",
      "  File \"<ipython-input-16-867d91fe0b96>\", line 1, in <module>\n",
      "    fit_class.run_nestle()\n",
      "  File \"/mnt/c/Users/Joran/Google Drive/PhD-master/ubuntu-storage/windows-anaconda/DD_DM_targets/DirectDmTargets/nestle.py\", line 119, in run_nestle\n",
      "    raise e\n",
      "  File \"/mnt/c/Users/Joran/Google Drive/PhD-master/ubuntu-storage/windows-anaconda/DD_DM_targets/DirectDmTargets/nestle.py\", line 112, in run_nestle\n",
      "    dlogz=tol)\n",
      "  File \"/home/joran/.conda/envs/DD_DM/lib/python3.7/site-packages/nestle-0.2.0-py3.7.egg/nestle.py\", line 865, in sample\n",
      "    active_logl[i] = loglikelihood(active_v[i, :])\n",
      "  File \"/mnt/c/Users/Joran/Google Drive/PhD-master/ubuntu-storage/windows-anaconda/DD_DM_targets/DirectDmTargets/nestle.py\", line 92, in _log_probability_nestle\n",
      "    return self.log_probability_nestle(theta, self.known_parameters[:ndim])\n",
      "  File \"/mnt/c/Users/Joran/Google Drive/PhD-master/ubuntu-storage/windows-anaconda/DD_DM_targets/DirectDmTargets/nestle.py\", line 64, in log_probability_nestle\n",
      "    evaluated_rate = self.eval_spectrum(parameter_vals, parameter_names)[\n",
      "  File \"/mnt/c/Users/Joran/Google Drive/PhD-master/ubuntu-storage/windows-anaconda/DD_DM_targets/DirectDmTargets/statistics.py\", line 281, in eval_spectrum\n",
      "    return spectrum.get_data(poisson=False)\n",
      "  File \"/mnt/c/Users/Joran/Google Drive/PhD-master/ubuntu-storage/windows-anaconda/DD_DM_targets/DirectDmTargets/detector.py\", line 294, in get_data\n",
      "    result['counts'] = self.get_events()\n",
      "  File \"/mnt/c/Users/Joran/Google Drive/PhD-master/ubuntu-storage/windows-anaconda/DD_DM_targets/DirectDmTargets/detector.py\", line 276, in get_events\n",
      "    return self.compute_detected_spectrum()\n",
      "  File \"/mnt/c/Users/Joran/Google Drive/PhD-master/ubuntu-storage/windows-anaconda/DD_DM_targets/DirectDmTargets/detector.py\", line 259, in compute_detected_spectrum\n",
      "    rates = self.spectrum_simple([self.mw, self.sigma_nucleon])\n",
      "  File \"/mnt/c/Users/Joran/Google Drive/PhD-master/ubuntu-storage/windows-anaconda/DD_DM_targets/DirectDmTargets/halo.py\", line 108, in spectrum_simple\n",
      "    material=self.experiment['material'],\n",
      "  File \"<boltons.funcutils.FunctionBuilder-3>\", line 2, in rate_migdal\n",
      "  File \"/mnt/c/Users/Joran/Google Drive/PhD-master/ubuntu-storage/windows-anaconda/forked_wimprates/wimprates/utils.py\", line 60, in newf\n",
      "    for x in itr(xs)])\n",
      "  File \"/mnt/c/Users/Joran/Google Drive/PhD-master/ubuntu-storage/windows-anaconda/forked_wimprates/wimprates/utils.py\", line 60, in <listcomp>\n",
      "    for x in itr(xs)])\n",
      "  File \"/mnt/c/Users/Joran/Google Drive/PhD-master/ubuntu-storage/windows-anaconda/forked_wimprates/wimprates/migdal.py\", line 161, in rate_migdal\n",
      "    **kwargs)[0]\n",
      "  File \"/home/joran/.conda/envs/DD_DM/lib/python3.7/site-packages/scipy/integrate/quadpack.py\", line 581, in dblquad\n",
      "    opts={\"epsabs\": epsabs, \"epsrel\": epsrel})\n",
      "  File \"/home/joran/.conda/envs/DD_DM/lib/python3.7/site-packages/scipy/integrate/quadpack.py\", line 805, in nquad\n",
      "    return _NQuad(func, ranges, opts, full_output).integrate(*args)\n",
      "  File \"/home/joran/.conda/envs/DD_DM/lib/python3.7/site-packages/scipy/integrate/quadpack.py\", line 860, in integrate\n",
      "    **opt)\n",
      "  File \"/home/joran/.conda/envs/DD_DM/lib/python3.7/site-packages/scipy/integrate/quadpack.py\", line 341, in quad\n",
      "    points)\n",
      "  File \"/home/joran/.conda/envs/DD_DM/lib/python3.7/site-packages/scipy/integrate/quadpack.py\", line 448, in _quad\n",
      "    return _quadpack._qagse(func,a,b,args,full_output,epsabs,epsrel,limit)\n",
      "  File \"/home/joran/.conda/envs/DD_DM/lib/python3.7/site-packages/scipy/integrate/quadpack.py\", line 860, in integrate\n",
      "    **opt)\n",
      "  File \"/home/joran/.conda/envs/DD_DM/lib/python3.7/site-packages/scipy/integrate/quadpack.py\", line 341, in quad\n",
      "    points)\n",
      "  File \"/home/joran/.conda/envs/DD_DM/lib/python3.7/site-packages/scipy/integrate/quadpack.py\", line 448, in _quad\n",
      "    return _quadpack._qagse(func,a,b,args,full_output,epsabs,epsrel,limit)\n",
      "  File \"/mnt/c/Users/Joran/Google Drive/PhD-master/ubuntu-storage/windows-anaconda/forked_wimprates/wimprates/migdal.py\", line 151, in diff_rate\n",
      "    * p(eelec))\n",
      "  File \"/mnt/c/Users/Joran/Google Drive/PhD-master/ubuntu-storage/windows-anaconda/DD_DM_targets/DirectDmTargets/halo.py\", line 254, in velocity_dist\n",
      "  File \"/mnt/c/Users/Joran/Google Drive/PhD-master/ubuntu-storage/windows-anaconda/DD_DM_targets/DirectDmTargets/halo.py\", line 243, in velocity_dist\n",
      "  File \"/mnt/c/Users/Joran/Google Drive/PhD-master/ubuntu-storage/windows-anaconda/DD_DM_targets/DirectDmTargets/halo.py\", line 240, in velocity_dist\n",
      "    df.loc[len(df)+1] = [+VBOUND, 0]\n",
      "  File \"/home/joran/.conda/envs/DD_DM/lib/python3.7/site-packages/scipy/interpolate/polyint.py\", line 79, in __call__\n",
      "    y = self._evaluate(x)\n",
      "  File \"/home/joran/.conda/envs/DD_DM/lib/python3.7/site-packages/scipy/interpolate/interpolate.py\", line 663, in _evaluate\n",
      "    below_bounds, above_bounds = self._check_bounds(x_new)\n",
      "  File \"/home/joran/.conda/envs/DD_DM/lib/python3.7/site-packages/scipy/interpolate/interpolate.py\", line 695, in _check_bounds\n",
      "    raise ValueError(\"A value in x_new is above the interpolation \"\n",
      "ValueError: A value in x_new is above the interpolation range.\n",
      "\n",
      "During handling of the above exception, another exception occurred:\n",
      "\n",
      "Traceback (most recent call last):\n",
      "  File \"/home/joran/.conda/envs/DD_DM/lib/python3.7/site-packages/IPython/core/interactiveshell.py\", line 2040, in showtraceback\n",
      "    stb = value._render_traceback_()\n",
      "AttributeError: 'ValueError' object has no attribute '_render_traceback_'\n",
      "\n",
      "During handling of the above exception, another exception occurred:\n",
      "\n",
      "Traceback (most recent call last):\n",
      "  File \"/home/joran/.conda/envs/DD_DM/lib/python3.7/site-packages/IPython/core/ultratb.py\", line 1101, in get_records\n",
      "    return _fixed_getinnerframes(etb, number_of_lines_of_context, tb_offset)\n",
      "  File \"/home/joran/.conda/envs/DD_DM/lib/python3.7/site-packages/IPython/core/ultratb.py\", line 319, in wrapped\n",
      "    return f(*args, **kwargs)\n",
      "  File \"/home/joran/.conda/envs/DD_DM/lib/python3.7/site-packages/IPython/core/ultratb.py\", line 353, in _fixed_getinnerframes\n",
      "    records = fix_frame_records_filenames(inspect.getinnerframes(etb, context))\n",
      "  File \"/home/joran/.conda/envs/DD_DM/lib/python3.7/inspect.py\", line 1502, in getinnerframes\n",
      "    frameinfo = (tb.tb_frame,) + getframeinfo(tb, context)\n",
      "  File \"/home/joran/.conda/envs/DD_DM/lib/python3.7/inspect.py\", line 1460, in getframeinfo\n",
      "    filename = getsourcefile(frame) or getfile(frame)\n",
      "  File \"/home/joran/.conda/envs/DD_DM/lib/python3.7/inspect.py\", line 696, in getsourcefile\n",
      "    if getattr(getmodule(object, filename), '__loader__', None) is not None:\n",
      "  File \"/home/joran/.conda/envs/DD_DM/lib/python3.7/inspect.py\", line 742, in getmodule\n",
      "    os.path.realpath(f)] = module.__name__\n",
      "AttributeError: module has no attribute '__name__'\n"
     ]
    },
    {
     "ename": "ValueError",
     "evalue": "A value in x_new is above the interpolation range.",
     "output_type": "error",
     "traceback": [
      "\u001b[0;31m---------------------------------------------------------------------------\u001b[0m"
     ]
    }
   ],
   "source": [
    "fit_class.run_nestle()\n",
    "fit_class.get_summary()"
   ]
  },
  {
   "cell_type": "code",
   "execution_count": null,
   "metadata": {},
   "outputs": [],
   "source": [
    "fit_class.show_corner()"
   ]
  },
  {
   "cell_type": "code",
   "execution_count": null,
   "metadata": {},
   "outputs": [],
   "source": [
    "assert False"
   ]
  },
  {
   "cell_type": "code",
   "execution_count": null,
   "metadata": {},
   "outputs": [],
   "source": [
    "fit_unconstrained = dddm.NestleStatModel('Xe')\n",
    "fit_unconstrained.tol = 0.8\n",
    "fit_unconstrained.nlive = 2000\n",
    "fit_unconstrained.set_fit_parameters(fit_unconstrained.known_parameters)\n",
    "print(f\"Fitting for parameters:\\n{fit_unconstrained.fit_parameters}\")"
   ]
  },
  {
   "cell_type": "code",
   "execution_count": null,
   "metadata": {},
   "outputs": [],
   "source": [
    "fit_unconstrained.run_nestle()\n",
    "fit_unconstrained.get_summary()"
   ]
  },
  {
   "cell_type": "code",
   "execution_count": null,
   "metadata": {},
   "outputs": [],
   "source": [
    "fit_unconstrained.show_corner()"
   ]
  },
  {
   "cell_type": "code",
   "execution_count": null,
   "metadata": {},
   "outputs": [],
   "source": [
    "print(1)"
   ]
  },
  {
   "cell_type": "code",
   "execution_count": null,
   "metadata": {},
   "outputs": [],
   "source": []
  },
  {
   "cell_type": "code",
   "execution_count": null,
   "metadata": {},
   "outputs": [],
   "source": []
  },
  {
   "cell_type": "code",
   "execution_count": null,
   "metadata": {},
   "outputs": [],
   "source": []
  }
 ],
 "metadata": {
  "kernelspec": {
   "display_name": "Python 3",
   "language": "python",
   "name": "python3"
  },
  "language_info": {
   "codemirror_mode": {
    "name": "ipython",
    "version": 3
   },
   "file_extension": ".py",
   "mimetype": "text/x-python",
   "name": "python",
   "nbconvert_exporter": "python",
   "pygments_lexer": "ipython3",
   "version": "3.7.4"
  }
 },
 "nbformat": 4,
 "nbformat_minor": 2
}
