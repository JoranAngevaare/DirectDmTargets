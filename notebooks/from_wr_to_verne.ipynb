{
 "cells": [
  {
   "cell_type": "code",
   "execution_count": 1,
   "metadata": {},
   "outputs": [
    {
     "name": "stdout",
     "output_type": "stream",
     "text": [
      "calculating effective efficiency for Xe detector done\n",
      "calculating effective efficiency for Ge detector done\n",
      "calculating effective efficiency for Ar detector done\n",
      "calculating effective efficiency for Xe_migd detector done\n",
      "calculating effective efficiency for Ge_migd detector done\n",
      "calculating effective efficiency for Ar_migd detector done\n"
     ]
    }
   ],
   "source": [
    "import DirectDmTargets as dddm"
   ]
  },
  {
   "cell_type": "code",
   "execution_count": 2,
   "metadata": {},
   "outputs": [],
   "source": [
    "import wimprates as wr"
   ]
  },
  {
   "cell_type": "code",
   "execution_count": 3,
   "metadata": {},
   "outputs": [],
   "source": [
    "import numpy as np\n",
    "import matplotlib.pyplot as plt"
   ]
  },
  {
   "cell_type": "code",
   "execution_count": 4,
   "metadata": {},
   "outputs": [],
   "source": [
    "import numericalunits as nu"
   ]
  },
  {
   "cell_type": "code",
   "execution_count": 5,
   "metadata": {},
   "outputs": [],
   "source": [
    "from tqdm import tqdm"
   ]
  },
  {
   "cell_type": "code",
   "execution_count": 6,
   "metadata": {},
   "outputs": [],
   "source": [
    "from scipy.integrate import quad as scipy_int"
   ]
  },
  {
   "cell_type": "code",
   "execution_count": 7,
   "metadata": {},
   "outputs": [],
   "source": [
    "import pandas as pd"
   ]
  },
  {
   "cell_type": "code",
   "execution_count": 8,
   "metadata": {},
   "outputs": [],
   "source": [
    "import scipy"
   ]
  },
  {
   "cell_type": "code",
   "execution_count": 9,
   "metadata": {},
   "outputs": [],
   "source": [
    "import numba"
   ]
  },
  {
   "cell_type": "code",
   "execution_count": 10,
   "metadata": {},
   "outputs": [],
   "source": [
    "import os"
   ]
  },
  {
   "cell_type": "code",
   "execution_count": 11,
   "metadata": {},
   "outputs": [
    {
     "name": "stdout",
     "output_type": "stream",
     "text": [
      "DirectDmTargets\n",
      "Version:\t0.2.0\n",
      "Path:\t\t<module 'DirectDmTargets' from '/mnt/c/Users/Joran/Google Drive/PhD-master/ubuntu-storage/windows-anaconda/DD_DM_targets/DirectDmTargets/__init__.py'>\n",
      "\n",
      "wimprates\n",
      "Version:\t0.3.2\n",
      "Path:\t\t<module 'wimprates' from '/mnt/c/Users/Joran/Google Drive/PhD-master/ubuntu-storage/windows-anaconda/forked_wimprates/wimprates/__init__.py'>\n",
      "\n",
      "numpy\n",
      "Version:\t1.17.2\n",
      "Path:\t\t<module 'numpy' from '/home/joran/.conda/envs/DD_DM/lib/python3.7/site-packages/numpy/__init__.py'>\n",
      "\n",
      "numericalunits\n",
      "Version:\t1.23\n",
      "Path:\t\t<module 'numericalunits' from '/home/joran/.conda/envs/DD_DM/lib/python3.7/site-packages/numericalunits.py'>\n",
      "\n",
      "scipy\n",
      "Version:\t1.3.1\n",
      "Path:\t\t<module 'scipy' from '/home/joran/.conda/envs/DD_DM/lib/python3.7/site-packages/scipy/__init__.py'>\n",
      "\n",
      "pandas\n",
      "Version:\t0.25.2\n",
      "Path:\t\t<module 'pandas' from '/home/joran/.conda/envs/DD_DM/lib/python3.7/site-packages/pandas/__init__.py'>\n",
      "\n"
     ]
    }
   ],
   "source": [
    "for module in [dddm, wr, np, nu, scipy, pd]:\n",
    "    print(f'''{module.__name__}\\nVersion:\\t{module.__version__}\\nPath:\\t\\t{module}\\n''')"
   ]
  },
  {
   "cell_type": "markdown",
   "metadata": {},
   "source": [
    "# Direct detection of Dark matter using different target materials #\n",
    "\n",
    "Author:\n",
    "\n",
    "Joran Angevaare <j.angevaare@nikef.nl>\n",
    "\n",
    "Date:\n",
    "\n",
    "14 october 2019 \n",
    "\n",
    "## Goal ## \n",
    "\n",
    "- Roughly reproduce <https://journals.aps.org/prd/abstract/10.1103/PhysRevD.83.083505>\n",
    "- Update the results thereof with more recent knowledge of the DM-distribution\n",
    "\n",
    "### Approach ###\n",
    "To achieve these goals, we must first get a decent recoil spectrum, that is flexible enough to have different astrophysical parameters. Further, it must also be flexible enough to be able to allow for different analytic functions to be added to the model. For instance, we must be able to incorporate the $\\rm{SHM}^{++}$ as presented here <https://arxiv.org/abs/1810.11468>.\n",
    "\n",
    "When we have a sufficiently flexible model, we want to add in the detector physics, we should therein incorporate at least the following parameters:\n",
    "- target\n",
    "  - material\n",
    "  - cross-section\n",
    "- threshold\n",
    "- background\n",
    "- cut efficiency  \n",
    "- volume\n",
    "- exposure\n",
    "\n",
    "Finally we should perform the inference"
   ]
  },
  {
   "cell_type": "markdown",
   "metadata": {},
   "source": [
    "## HALO model ##\n",
    "\n"
   ]
  },
  {
   "cell_type": "code",
   "execution_count": null,
   "metadata": {},
   "outputs": [],
   "source": [
    "verne_dir = '../../verne/results/veldists/'\n",
    "files = []\n",
    "for f in os.listdir(verne_dir):\n",
    "    if 'csv' in f: \n",
    "        print(verne_dir+f)\n",
    "        files.append(verne_dir+f)"
   ]
  },
  {
   "cell_type": "code",
   "execution_count": 13,
   "metadata": {},
   "outputs": [
    {
     "name": "stdout",
     "output_type": "stream",
     "text": [
      "../../verne/results/veldists/f_all_XENON_230_533_0.0_1.00.csv\n"
     ]
    },
    {
     "data": {
      "text/html": [
       "<div>\n",
       "<style scoped>\n",
       "    .dataframe tbody tr th:only-of-type {\n",
       "        vertical-align: middle;\n",
       "    }\n",
       "\n",
       "    .dataframe tbody tr th {\n",
       "        vertical-align: top;\n",
       "    }\n",
       "\n",
       "    .dataframe thead th {\n",
       "        text-align: right;\n",
       "    }\n",
       "</style>\n",
       "<table border=\"1\" class=\"dataframe\">\n",
       "  <thead>\n",
       "    <tr style=\"text-align: right;\">\n",
       "      <th></th>\n",
       "      <th>gamma/pi</th>\n",
       "      <th>v_[km/s]</th>\n",
       "      <th>f(v,gamma)_[s/km]</th>\n",
       "    </tr>\n",
       "  </thead>\n",
       "  <tbody>\n",
       "    <tr>\n",
       "      <th>0</th>\n",
       "      <td>0.0</td>\n",
       "      <td>1.000000</td>\n",
       "      <td>7.828643e-08</td>\n",
       "    </tr>\n",
       "    <tr>\n",
       "      <th>1</th>\n",
       "      <td>0.0</td>\n",
       "      <td>1.337234</td>\n",
       "      <td>1.400444e-07</td>\n",
       "    </tr>\n",
       "    <tr>\n",
       "      <th>2</th>\n",
       "      <td>0.0</td>\n",
       "      <td>1.788194</td>\n",
       "      <td>2.505532e-07</td>\n",
       "    </tr>\n",
       "  </tbody>\n",
       "</table>\n",
       "</div>"
      ],
      "text/plain": [
       "   gamma/pi  v_[km/s]  f(v,gamma)_[s/km]\n",
       "0       0.0  1.000000       7.828643e-08\n",
       "1       0.0  1.337234       1.400444e-07\n",
       "2       0.0  1.788194       2.505532e-07"
      ]
     },
     "execution_count": 13,
     "metadata": {},
     "output_type": "execute_result"
    }
   ],
   "source": [
    "file = files[1]\n",
    "print(file)\n",
    "df = pd.read_csv(file)\n",
    "df.head(3)"
   ]
  },
  {
   "cell_type": "code",
   "execution_count": 16,
   "metadata": {},
   "outputs": [
    {
     "name": "stderr",
     "output_type": "stream",
     "text": [
      "/mnt/c/Users/Joran/Google Drive/PhD-master/ubuntu-storage/windows-anaconda/forked_wimprates/wimprates/halo.py:144: RuntimeWarning: divide by zero encountered in true_divide\n",
      "  / (2 * v_earth_t * v))\n"
     ]
    },
    {
     "data": {
      "text/plain": [
       "[<matplotlib.lines.Line2D at 0x7f17f4277950>]"
      ]
     },
     "execution_count": 16,
     "metadata": {},
     "output_type": "execute_result"
    },
    {
     "data": {
      "image/png": "[encoded data removed]",
      "text/plain": [
       "<Figure size 432x288 with 1 Axes>"
      ]
     },
     "metadata": {
      "needs_background": "light"
     },
     "output_type": "display_data"
    }
   ],
   "source": [
    "_, x,y  = df.keys()\n",
    "headers = np.unique(df['gamma/pi'].values)\n",
    "# for i, header in enumerate(headers):\n",
    "def get_average(df, headers, projection):\n",
    "    masks = np.array([df['gamma/pi'] == header for header in headers])\n",
    "    combined = np.array([df[mask][projection].values for mask in masks])\n",
    "    return np.average(combined,axis = 0)\n",
    "df_average = pd.DataFrame()\n",
    "for projection in [x,y]:\n",
    "    df_average[projection] = get_average(df, headers, projection)\n",
    "df_average.head(5)\n",
    "cm = plt.get_cmap('gist_rainbow')\n",
    "headers = np.unique(df['gamma/pi'].values)\n",
    "n_headers = len(headers)\n",
    "wr_x = np.linspace(0,1000,200) * nu.km / nu.s\n",
    "wr_y2 = wr.observed_speed_dist(wr_x, 0) * nu.km /nu.s \n",
    "plt.plot(wr_x/(nu.km / nu.s),wr_y2, c = 'black', label = \"wimprates\")\n",
    "# plt.axvline(310)\n",
    "plt.xlabel(\"v [km/s]\")\n",
    "# plt.ylabel(\"$f (v)$\")\n",
    "wr_lim = plt.ylim()\n",
    "for i, header in enumerate(headers):\n",
    "    mask = df['gamma/pi'] == header\n",
    "    kwargs = {'color': cm(float(i)/n_headers),\n",
    "        'label': '$\\gamma$ = %.1f $^\\circ$'%np.rad2deg(header*np.pi)}\n",
    "    plt.plot(df[mask][x], df[mask][y], **kwargs)    \n",
    "    plt.ylabel(y.replace(\"_\",\" \"))\n",
    "plt.ylim(*wr_lim)\n",
    "\n",
    "plt.plot(df_average[x],df_average[y], label = 'average', linestyle = '--')\n",
    "plt.legend()\n",
    "plt.axvline(np.sqrt(220**2 + 232**2))\n",
    "\n",
    "# df_avg = pd.read_csv(files[1])\n",
    "# plt.plot(df_avg[x],df_avg[y], label = 'average (from verne)', linestyle = '-.')"
   ]
  },
  {
   "cell_type": "code",
   "execution_count": 15,
   "metadata": {},
   "outputs": [
    {
     "data": {
      "text/plain": [
       "(1e-07, 10000000000.0)"
      ]
     },
     "execution_count": 15,
     "metadata": {},
     "output_type": "execute_result"
    },
    {
     "data": {
      "image/png": "[encoded data removed]",
      "text/plain": [
       "<Figure size 432x288 with 1 Axes>"
      ]
     },
     "metadata": {
      "needs_background": "light"
     },
     "output_type": "display_data"
    }
   ],
   "source": [
    "# NR's\n",
    "energies = np.linspace(0.1, 3.5, 1000)\n",
    "\n",
    "# dr/dr\n",
    "dr = ((nu.keV * (1000 * nu.kg) * nu.year) * \n",
    "    wr.rate_migdal(energies * nu.keV, \n",
    "                    mw=1 * nu.GeV/nu.c0**2, \n",
    "                    sigma_nucleon=1e-35 * nu.cm**2))\n",
    "\n",
    "plt.plot(energies, dr, label=\"WIMPrates SHM\")\n",
    "\n",
    "plt.xlabel(\"Recoil energy [keV]\")\n",
    "plt.ylabel(\"Rate [events per (keV ton year)]\")\n",
    "\n",
    "plt.xlim(0, energies.max())\n",
    "plt.yscale(\"log\")\n",
    "\n",
    "plt.ylim(1e-7,1e10)\n",
    "# dr"
   ]
  },
  {
   "cell_type": "markdown",
   "metadata": {},
   "source": [
    "## Detector smearing"
   ]
  },
  {
   "cell_type": "markdown",
   "metadata": {},
   "source": [
    "# Inference #\n",
    "Below we setup the inference"
   ]
  },
  {
   "cell_type": "markdown",
   "metadata": {},
   "source": [
    "## Distribution of the DM ##\n",
    "First we need to make a DM-rate spectrum"
   ]
  },
  {
   "cell_type": "code",
   "execution_count": null,
   "metadata": {},
   "outputs": [],
   "source": [
    "use_SHM = dddm.SHM()"
   ]
  },
  {
   "cell_type": "code",
   "execution_count": null,
   "metadata": {},
   "outputs": [],
   "source": [
    "def get_gal_spec(det):\n",
    "\n",
    "    spec_class = dddm.GenSpectrum(1, 1e-35, use_SHM, dddm.experiment[det])\n",
    "#     spec_class.E_max = 1\n",
    "#     spec_class.mw = 50\n",
    "    spec_class.n_bins = 20\n",
    "    return spec_class.get_data(poisson = False)"
   ]
  },
  {
   "cell_type": "code",
   "execution_count": null,
   "metadata": {},
   "outputs": [],
   "source": [
    "# plot_spectrum(xe_galact, label = 'un-smeared', linestyle = '--')\n",
    "fig,ax=plt.subplots(figsize = (8,6))\n",
    "dddm.plot_spectrum(get_gal_spec('Xe_migd'), 'red', label = 'Xe target ', plot_error = False)\n",
    "dddm.plot_spectrum(get_gal_spec('Ge_migd'), 'green', label = 'Ge target', plot_error = False)\n",
    "dddm.plot_spectrum(get_gal_spec('Ar_migd'), 'orange', label = 'Ar target', plot_error = False)\n",
    "plt.yscale(\"log\")\n",
    "plt.xlabel(\"Recoil energy [keV]\")\n",
    "plt.ylabel(\"Rate [events per (keV ton year)]\")\n",
    "plt.legend()"
   ]
  },
  {
   "cell_type": "code",
   "execution_count": null,
   "metadata": {},
   "outputs": [],
   "source": [
    "def get_det_spec(det, mw =50):\n",
    "    spec_class = dddm.DetectorSpectrum(1, 1e-35, use_SHM, dddm.experiment[det])\n",
    "#     spec_class.E_max = 200\n",
    "#     spec_class.mw = mw\n",
    "    spec_class.n_bins = 20\n",
    "    return spec_class.get_data(poisson = False)"
   ]
  },
  {
   "cell_type": "code",
   "execution_count": null,
   "metadata": {},
   "outputs": [],
   "source": [
    "# plot_spectrum(xe_galact, label = 'un-smeared', linestyle = '--')\n",
    "# %%time\n",
    "fig,ax=plt.subplots(figsize = (8,6))\n",
    "dddm.plot_spectrum(get_det_spec('Xe_migd'), 'red', label = 'Xe det. resolution', plot_error = False)\n",
    "dddm.plot_spectrum(get_det_spec('Ge_migd'), 'green', label = 'Ge det. resolution', plot_error = False)\n",
    "dddm.plot_spectrum(get_det_spec('Ar_migd'), 'orange', label = 'Ar det. resolution', plot_error = False)\n",
    "plt.yscale(\"log\")\n",
    "plt.ylim(1e-7,1e7)\n",
    "plt.xlabel(\"Recoil energy [keV]\")\n",
    "plt.ylabel(\"Rate [events per (keV ton year)]\")\n",
    "plt.legend()"
   ]
  },
  {
   "cell_type": "markdown",
   "metadata": {},
   "source": [
    "# Likelihood profiling"
   ]
  },
  {
   "cell_type": "code",
   "execution_count": null,
   "metadata": {
    "scrolled": false
   },
   "outputs": [],
   "source": [
    "# dddm.plt_ll_sigma_spec()"
   ]
  },
  {
   "cell_type": "code",
   "execution_count": null,
   "metadata": {
    "scrolled": true
   },
   "outputs": [],
   "source": [
    "# dddm.plt_ll_sigma_det()"
   ]
  },
  {
   "cell_type": "code",
   "execution_count": null,
   "metadata": {
    "scrolled": true
   },
   "outputs": [],
   "source": [
    "# dddm.plt_ll_mass_spec()\n",
    "# plt.ylim(-1000,0)"
   ]
  },
  {
   "cell_type": "code",
   "execution_count": null,
   "metadata": {},
   "outputs": [],
   "source": [
    "# dddm.plt_ll_mass_det()\n",
    "# plt.ylim(-1000,0)"
   ]
  },
  {
   "cell_type": "markdown",
   "metadata": {},
   "source": [
    "# Nested sampling"
   ]
  },
  {
   "cell_type": "code",
   "execution_count": null,
   "metadata": {},
   "outputs": [],
   "source": [
    "fit_class = dddm.NestleStatModel('Xe_migd')\n",
    "fit_class.tol = 0.99\n",
    "fit_class.nlive = 100\n",
    "fit_class.set_prior('migdal')\n",
    "fit_class.set_benchmark(mw = 1, sigma = -35)\n",
    "print(f\"Fitting for parameters:\\n{fit_class.fit_parameters}\")"
   ]
  },
  {
   "cell_type": "code",
   "execution_count": null,
   "metadata": {},
   "outputs": [],
   "source": [
    "fit_class.run_nestle()\n",
    "fit_class.get_summary()"
   ]
  },
  {
   "cell_type": "code",
   "execution_count": null,
   "metadata": {},
   "outputs": [],
   "source": [
    "fit_class.show_corner()"
   ]
  },
  {
   "cell_type": "code",
   "execution_count": null,
   "metadata": {},
   "outputs": [],
   "source": [
    "assert False"
   ]
  },
  {
   "cell_type": "code",
   "execution_count": null,
   "metadata": {},
   "outputs": [],
   "source": [
    "fit_unconstrained = dddm.NestleStatModel('Xe')\n",
    "fit_unconstrained.tol = 0.8\n",
    "fit_unconstrained.nlive = 2000\n",
    "fit_unconstrained.set_fit_parameters(fit_unconstrained.known_parameters)\n",
    "print(f\"Fitting for parameters:\\n{fit_unconstrained.fit_parameters}\")"
   ]
  },
  {
   "cell_type": "code",
   "execution_count": null,
   "metadata": {},
   "outputs": [],
   "source": [
    "fit_unconstrained.run_nestle()\n",
    "fit_unconstrained.get_summary()"
   ]
  },
  {
   "cell_type": "code",
   "execution_count": null,
   "metadata": {},
   "outputs": [],
   "source": [
    "fit_unconstrained.show_corner()"
   ]
  },
  {
   "cell_type": "code",
   "execution_count": null,
   "metadata": {},
   "outputs": [],
   "source": [
    "print(1)"
   ]
  },
  {
   "cell_type": "code",
   "execution_count": null,
   "metadata": {},
   "outputs": [],
   "source": []
  },
  {
   "cell_type": "code",
   "execution_count": null,
   "metadata": {},
   "outputs": [],
   "source": []
  },
  {
   "cell_type": "code",
   "execution_count": null,
   "metadata": {},
   "outputs": [],
   "source": []
  }
 ],
 "metadata": {
  "kernelspec": {
   "display_name": "Python 3",
   "language": "python",
   "name": "python3"
  },
  "language_info": {
   "codemirror_mode": {
    "name": "ipython",
    "version": 3
   },
   "file_extension": ".py",
   "mimetype": "text/x-python",
   "name": "python",
   "nbconvert_exporter": "python",
   "pygments_lexer": "ipython3",
   "version": "3.7.4"
  }
 },
 "nbformat": 4,
 "nbformat_minor": 2
}
