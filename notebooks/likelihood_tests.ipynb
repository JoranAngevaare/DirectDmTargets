{
 "cells": [
  {
   "cell_type": "code",
   "execution_count": null,
   "metadata": {},
   "outputs": [],
   "source": [
    "%run common_init.py"
   ]
  },
  {
   "cell_type": "markdown",
   "metadata": {},
   "source": [
    "# Direct detection of Dark matter using different target materials #\n",
    "\n",
    "Author:\n",
    "\n",
    "Joran Angevaare <j.angevaare@nikef.nl>\n",
    "\n",
    "Date:\n",
    "\n",
    "14 october 2019 \n",
    "\n",
    "## Goal ## \n",
    "\n",
    "- Roughly reproduce <https://journals.aps.org/prd/abstract/10.1103/PhysRevD.83.083505>\n",
    "- Update the results thereof with more recent knowledge of the DM-distribution\n",
    "\n",
    "### Approach ###\n",
    "To achieve these goals, we must first get a decent recoil spectrum, that is flexible enough to have different astrophysical parameters. Further, it must also be flexible enough to be able to allow for different analytic functions to be added to the model. For instance, we must be able to incorporate the $\\rm{SHM}^{++}$ as presented here <https://arxiv.org/abs/1810.11468>.\n",
    "\n",
    "When we have a sufficiently flexible model, we want to add in the detector physics, we should therein incorporate at least the following parameters:\n",
    "- target\n",
    "  - material\n",
    "  - cross-section\n",
    "- threshold\n",
    "- background\n",
    "- cut efficiency  \n",
    "- volume\n",
    "- exposure\n",
    "\n",
    "Finally we should perform the inference"
   ]
  },
  {
   "cell_type": "markdown",
   "metadata": {},
   "source": [
    "## HALO model ##\n",
    "\n"
   ]
  },
  {
   "cell_type": "code",
   "execution_count": null,
   "metadata": {},
   "outputs": [],
   "source": [
    "x = np.linspace(0,1000,200) * nu.km / nu.s\n",
    "y2 = wr.observed_speed_dist(x, 0)\n",
    "plt.plot(x/(nu.km / nu.s),y2)\n",
    "plt.axvline(310)"
   ]
  },
  {
   "cell_type": "code",
   "execution_count": null,
   "metadata": {},
   "outputs": [],
   "source": [
    "# NR's\n",
    "energies = np.linspace(0.001, 40, 100)\n",
    "\n",
    "# dr/dr\n",
    "dr = wr.rate_wimp_std(energies, mw=50, sigma_nucleon=1e-45)\n",
    "\n",
    "plt.plot(energies, dr)\n",
    "\n",
    "plt.xlabel(\"Recoil energy [keV]\")\n",
    "plt.ylabel(\"Rate [events per (keV ton year)]\")\n",
    "plt.title(\"$m_\\chi = 50$ GeV/c${}^2$, $\\sigma_\\chi = 10^{-45}$ cm${}^2$\")\n",
    "plt.xlim(0, energies.max())\n",
    "plt.ylim(0, None);\n",
    "\n",
    "use_SHM = dddm.SHM()\n",
    "dr_shm = wr.rate_wimp_std(energies, mw=50, sigma_nucleon=1e-45, halo_model = use_SHM)\n",
    "plt.plot(energies, dr_shm, label = \"Modified SHM\")\n"
   ]
  },
  {
   "cell_type": "markdown",
   "metadata": {},
   "source": [
    "## Detector smearing"
   ]
  },
  {
   "cell_type": "code",
   "execution_count": null,
   "metadata": {},
   "outputs": [],
   "source": [
    "import DirectDmTargets as dddm\n",
    "from tqdm import tqdm\n",
    "import matplotlib.pyplot as plt"
   ]
  },
  {
   "cell_type": "code",
   "execution_count": null,
   "metadata": {
    "scrolled": true
   },
   "outputs": [],
   "source": [
    "# _bin_low, _bin_high, _nbin = 0.001, 40, 10\n",
    "# for _bin in tqdm(dddm.get_bins(_bin_low, _bin_high, _nbin)):\n",
    "#     x = _bin.mean()\n",
    "#     y = dddm.N_r(_bin[0], _bin[1], 1, smearing = False)\n",
    "#     plt.scatter(x,y, c = 'r')\n",
    "# for _bin in tqdm(dddm.get_bins(_bin_low, _bin_high, _nbin)):\n",
    "#     x = _bin.mean()\n",
    "#     y = dddm.N_r(_bin[0], _bin[1], 1, smearing = True)\n",
    "#     plt.scatter(x,y, c = 'b', label = 'smeared')\n",
    "    \n",
    "# plt.ylabel(\"N events [keV$^{-1}$]\")\n",
    "# plt.xlabel(\"Recoil energy [keV]\")"
   ]
  },
  {
   "cell_type": "code",
   "execution_count": null,
   "metadata": {},
   "outputs": [],
   "source": [
    "# TO DO"
   ]
  },
  {
   "cell_type": "markdown",
   "metadata": {},
   "source": [
    "# Inference #\n",
    "Below we setup the inference"
   ]
  },
  {
   "cell_type": "markdown",
   "metadata": {},
   "source": [
    "# Emcee #\n",
    "<https://emcee.readthedocs.io/en/stable/tutorials/quickstart/>"
   ]
  },
  {
   "cell_type": "code",
   "execution_count": null,
   "metadata": {},
   "outputs": [],
   "source": [
    "import pandas as pd"
   ]
  },
  {
   "cell_type": "code",
   "execution_count": null,
   "metadata": {},
   "outputs": [],
   "source": [
    "import scipy"
   ]
  },
  {
   "cell_type": "code",
   "execution_count": null,
   "metadata": {},
   "outputs": [],
   "source": [
    "import emcee\n",
    "emcee.__version__"
   ]
  },
  {
   "cell_type": "code",
   "execution_count": null,
   "metadata": {},
   "outputs": [],
   "source": [
    "pd.set_option('display.max_rows', 500)"
   ]
  },
  {
   "cell_type": "markdown",
   "metadata": {},
   "source": [
    "## Distribution of the DM ##\n",
    "First we need to make a DM-rate spectrum"
   ]
  },
  {
   "cell_type": "code",
   "execution_count": null,
   "metadata": {},
   "outputs": [],
   "source": [
    "benchmark = {'mw':50, 'sigma_nucleon':1e-45}"
   ]
  },
  {
   "cell_type": "code",
   "execution_count": null,
   "metadata": {},
   "outputs": [],
   "source": [
    "use_SHM = dddm.SHM()\n",
    "counts = {}\n",
    "for m in [25,50]:\n",
    "    xe_events = dddm.DetectorSpectrum(m, 1e-45, use_SHM, dddm.experiment['Ge'])\n",
    "    xe_events.n_bins = 10\n",
    "    xe_events.E_max = 100\n",
    "    xe_data = xe_events.get_data(poisson = False)\n",
    "    dddm.plot_spectrum(xe_data, plot_error=False, label=m)\n",
    "    plt.legend()\n",
    "    plt.show()\n",
    "# plt.axhline(0)\n",
    "# plt.yscale(\"log\")\n",
    "    counts[m] = xe_data['counts']"
   ]
  },
  {
   "cell_type": "code",
   "execution_count": null,
   "metadata": {},
   "outputs": [],
   "source": [
    "for i in range(len(counts[25])):\n",
    "    i_25, i_50 = counts[25][i], counts[50][i]\n",
    "    print(i_50, i_25, dddm.log_likelihood_function(i_50, i_25))\n",
    "#     print(dddm.log_likelihood_function(counts[50][:i+1], counts[25][:i+1]))\n",
    "print()\n",
    "print(dddm.log_likelihood(counts[25], counts[50]))"
   ]
  },
  {
   "cell_type": "code",
   "execution_count": null,
   "metadata": {
    "scrolled": false
   },
   "outputs": [],
   "source": [
    "for m in [25, 50, 250]:\n",
    "    print(f\"----{m}----\")\n",
    "    for det in ['Ar', 'Xe', 'Ge']:\n",
    "#     for det in ['Ar']:\n",
    "\n",
    "        print(det)\n",
    "        dddm.plt_ll_sigma_spec(det, m=m, bins = 10)\n",
    "        plt.yscale('symlog')\n",
    "        plt.show()\n",
    "        dddm.plt_ll_mass_spec(det,  m=m, bins = 10)\n",
    "    #     plt.xlim(49,55)\n",
    "        plt.yscale('symlog')\n",
    "        plt.show()"
   ]
  },
  {
   "cell_type": "code",
   "execution_count": null,
   "metadata": {},
   "outputs": [],
   "source": [
    "dddm.log_likelihood_function(1e-12,0)"
   ]
  },
  {
   "cell_type": "code",
   "execution_count": null,
   "metadata": {},
   "outputs": [],
   "source": [
    "np.log(0) * 0"
   ]
  },
  {
   "cell_type": "code",
   "execution_count": null,
   "metadata": {
    "scrolled": false
   },
   "outputs": [],
   "source": [
    "# for m in [25, 50, 250]:\n",
    "#     print(f\"----{m}----\")\n",
    "# #     for det in ['Ar', 'Xe', 'Ge']:\n",
    "#     for det in ['Ar']:\n",
    "\n",
    "#         print(det)\n",
    "#         dddm.plt_ll_sigma_det(det, m=m, bins = 10)\n",
    "#         plt.yscale('symlog')\n",
    "#         plt.show()\n",
    "#         dddm.plt_ll_mass_det(det,  m=m, bins = 10)\n",
    "#     #     plt.xlim(49,55)\n",
    "#         plt.yscale('symlog')\n",
    "#         plt.show()"
   ]
  },
  {
   "cell_type": "code",
   "execution_count": null,
   "metadata": {
    "scrolled": false
   },
   "outputs": [],
   "source": [
    "for m in [25, 50, 250]:\n",
    "    print(f\"----{m}----\")\n",
    "    for det in ['Ar', 'Xe', 'Ge']:\n",
    "#     for det in ['Ar']:\n",
    "\n",
    "        print(det)\n",
    "        dddm.plt_ll_sigma_det(det, m=m, bins = 10)\n",
    "        plt.yscale('symlog')\n",
    "        plt.show()\n",
    "        dddm.plt_ll_mass_det(det,  m=m, bins = 10)\n",
    "    #     plt.xlim(49,55)\n",
    "        plt.yscale('symlog')\n",
    "        plt.show()"
   ]
  },
  {
   "cell_type": "code",
   "execution_count": null,
   "metadata": {
    "scrolled": false
   },
   "outputs": [],
   "source": [
    "for m in [25, 50, 250]:\n",
    "    print(f\"----{m}----\")\n",
    "    for det in ['Ar', 'Xe', 'Ge']:\n",
    "#     for det in ['Ar']:\n",
    "\n",
    "        print(det)\n",
    "        dddm.plt_ll_sigma_det(det, m=m, bins = 100)\n",
    "        plt.yscale('symlog')\n",
    "        plt.show()\n",
    "        dddm.plt_ll_mass_det(det,  m=m, bins = 100)\n",
    "    #     plt.xlim(49,55)\n",
    "        plt.yscale('symlog')\n",
    "        plt.show()"
   ]
  },
  {
   "cell_type": "code",
   "execution_count": null,
   "metadata": {},
   "outputs": [],
   "source": [
    "import numpy as np\n",
    "from scipy.special import loggamma\n",
    "\n",
    "def log_likelihood(lamb, S):\n",
    "    return np.log(lamb) * S - loggamma(S + 1) - lamb"
   ]
  },
  {
   "cell_type": "code",
   "execution_count": null,
   "metadata": {},
   "outputs": [],
   "source": [
    "%%time\n",
    "log_likelihood(1e-30,1e-20)"
   ]
  },
  {
   "cell_type": "code",
   "execution_count": null,
   "metadata": {},
   "outputs": [],
   "source": [
    "1e-300"
   ]
  },
  {
   "cell_type": "code",
   "execution_count": null,
   "metadata": {},
   "outputs": [],
   "source": [
    "for i in range(20):\n",
    "    dddm.log_likelihood_function(10**-i,0)"
   ]
  },
  {
   "cell_type": "code",
   "execution_count": null,
   "metadata": {
    "scrolled": false
   },
   "outputs": [],
   "source": [
    "%%time\n",
    "for bins in [10]:\n",
    "    for m in [25, 50, 250]:\n",
    "        print(f\"----{m}----\")\n",
    "        for det in ['Ar', 'Xe', 'Ge']:\n",
    "#         for det in ['Ar']:\n",
    "\n",
    "            print(det)\n",
    "            dddm.plt_ll_sigma_det(det, m=m, bins = bins)\n",
    "#             plt.yscale('symlog')\n",
    "            plt.show()\n",
    "            dddm.plt_ll_mass_det(det,  m=m, bins = bins)\n",
    "#             plt.xlim(49,55)\n",
    "#             plt.yscale('symlog')\n",
    "            plt.show()\n",
    "# plt.xlim(0,200)"
   ]
  },
  {
   "cell_type": "code",
   "execution_count": null,
   "metadata": {},
   "outputs": [],
   "source": [
    "%%time\n",
    "for bins in [10]:\n",
    "    for m in [25, 50, 250]:\n",
    "        print(f\"----{m}----\")\n",
    "        for det in ['Ar', 'Xe', 'Ge']:\n",
    "#         for det in ['Ar']:\n",
    "\n",
    "            print(det)\n",
    "            dddm.plt_ll_sigma_det(det, m=m, bins = bins)\n",
    "#             plt.yscale('symlog')\n",
    "            plt.show()\n",
    "            dddm.plt_ll_mass_det(det,  m=m, bins = bins)\n",
    "#             plt.xlim(49,55)\n",
    "#             plt.yscale('symlog')\n",
    "            plt.show()\n",
    "# plt.xlim(0,200)"
   ]
  },
  {
   "cell_type": "markdown",
   "metadata": {},
   "source": [
    "''\n",
    " CPU times: user 3min 16s, sys: 1.7 s, total: 3min 17s\n",
    " Wall time: 3min 18s\n",
    "''"
   ]
  },
  {
   "cell_type": "code",
   "execution_count": null,
   "metadata": {},
   "outputs": [],
   "source": [
    "%%time\n",
    "use_SHM = dddm.SHM()\n",
    "cols = ['red', 'blue', 'green', 'orange', 'black']\n",
    "for i, m in enumerate([25, 50, 75, 100, 200]):\n",
    "    xe_events = dddm.DetectorSpectrum(m, 1e-45, use_SHM, dddm.experiment['Ar'])\n",
    "    xe_events.n_bins = 200\n",
    "    xe_events.E_max = 200\n",
    "    xe_data = xe_events.get_data(poisson = False)\n",
    "    dddm.plot_spectrum(xe_data, plot_error=False, label=m, color=cols[i])\n",
    "plt.legend()\n",
    "plt.axhline(1)\n",
    "# plt.axhline(5)\n",
    "# plt.yscale(\"log\")\n",
    "# xe_data"
   ]
  },
  {
   "cell_type": "code",
   "execution_count": null,
   "metadata": {},
   "outputs": [],
   "source": []
  },
  {
   "cell_type": "code",
   "execution_count": null,
   "metadata": {},
   "outputs": [],
   "source": [
    "use_SHM = dddm.SHM()\n",
    "spec50 = dddm.DetectorSpectrum(250, 1e-45, use_SHM, dddm.experiment['Ar'])\n",
    "spec50.get_data(poisson = False)"
   ]
  },
  {
   "cell_type": "code",
   "execution_count": null,
   "metadata": {},
   "outputs": [],
   "source": [
    "use_SHM = dddm.SHM()\n",
    "spec47 = dddm.DetectorSpectrum(49.2, 1e-45, use_SHM, dddm.experiment['Ar'])\n",
    "spec47.get_data(poisson = False)"
   ]
  },
  {
   "cell_type": "code",
   "execution_count": null,
   "metadata": {},
   "outputs": [],
   "source": [
    "use_SHM = dddm.SHM()\n",
    "spec52 = dddm.DetectorSpectrum(52, 1e-45, use_SHM, dddm.experiment['Ar'])\n",
    "spec52.get_data(poisson = False)"
   ]
  },
  {
   "cell_type": "code",
   "execution_count": null,
   "metadata": {},
   "outputs": [],
   "source": [
    "def approx_log_fact(n):\n",
    "    \"\"\"take the approximate logarithm of factorial n for large n\n",
    "\n",
    "    :param n: the number n\n",
    "     :return:  ln(n!)\"\"\"\n",
    "    assert n >= 0, f\"Only take the logarithm of n>0. (n={n})\"\n",
    "\n",
    "    # if n is small, there is no need for approximation\n",
    "    if n < 10:\n",
    "#     try:\n",
    "        # gamma equals factorial for x -> x +1 & returns results for non-int\n",
    "        return np.log(np.math.gamma(n + 1))\n",
    "#     except OverflowError:\n",
    "    else:\n",
    "#         print(n)\n",
    "        # Stirling's approx. <https://nl.wikipedia.org/wiki/Formule_van_Stirling>\n",
    "        return (n * np.log(n) \n",
    "                - n \n",
    "                + 0.5 * np.log(2 * np.pi *n) \n",
    "                + 1 / (12 * n) \n",
    "                - 1 / (360 * (n **3))\n",
    "                + 1 / (1260 * (n**5))\n",
    "                - 1/ (1680 * (n**7))\n",
    "                )"
   ]
  },
  {
   "cell_type": "code",
   "execution_count": null,
   "metadata": {},
   "outputs": [],
   "source": [
    "def real_fact(n):\n",
    "    return np.log(np.math.gamma(n + 1))"
   ]
  },
  {
   "cell_type": "code",
   "execution_count": null,
   "metadata": {},
   "outputs": [],
   "source": [
    "n = np.linspace(0.2,110,200)\n",
    "y = [approx_log_fact(ni) for ni in n] \n",
    "yprime = [real_fact(ni) for ni in n] \n",
    "# plt.yscale('log')"
   ]
  },
  {
   "cell_type": "code",
   "execution_count": null,
   "metadata": {},
   "outputs": [],
   "source": [
    "plt.plot(n,y, label = 'approx');\n",
    "plt.plot(n,yprime, label = 'true');\n",
    "plt.legend();"
   ]
  },
  {
   "cell_type": "code",
   "execution_count": null,
   "metadata": {},
   "outputs": [],
   "source": [
    "# plt.plot(n,, label = 'approx');\n",
    "plt.plot(n,np.array(y)/np.array(yprime));"
   ]
  },
  {
   "cell_type": "code",
   "execution_count": null,
   "metadata": {},
   "outputs": [],
   "source": [
    "np.math.gamma(0.1)"
   ]
  },
  {
   "cell_type": "code",
   "execution_count": null,
   "metadata": {},
   "outputs": [],
   "source": [
    "np.log(0)"
   ]
  },
  {
   "cell_type": "code",
   "execution_count": null,
   "metadata": {},
   "outputs": [],
   "source": [
    "dddm.log_likelihood_function(0,0)"
   ]
  },
  {
   "cell_type": "code",
   "execution_count": null,
   "metadata": {},
   "outputs": [],
   "source": [
    "# assert False\n",
    "dddm.show_ll_function()"
   ]
  }
 ],
 "metadata": {
  "kernelspec": {
   "display_name": "Python 3",
   "language": "python",
   "name": "python3"
  },
  "language_info": {
   "codemirror_mode": {
    "name": "ipython",
    "version": 3
   },
   "file_extension": ".py",
   "mimetype": "text/x-python",
   "name": "python",
   "nbconvert_exporter": "python",
   "pygments_lexer": "ipython3",
   "version": "3.8.2"
  }
 },
 "nbformat": 4,
 "nbformat_minor": 2
}
