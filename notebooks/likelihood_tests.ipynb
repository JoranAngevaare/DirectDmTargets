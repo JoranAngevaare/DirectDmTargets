{
 "cells": [
  {
   "cell_type": "code",
   "execution_count": null,
   "metadata": {},
   "outputs": [],
   "source": [
    "%run common_init.py"
   ]
  },
  {
   "cell_type": "markdown",
   "metadata": {},
   "source": [
    "# Direct detection of Dark matter using different target materials #\n",
    "\n",
    "Author:\n",
    "\n",
    "Joran Angevaare <j.angevaare@nikef.nl>\n",
    "\n",
    "Date:\n",
    "\n",
    "14 october 2019 \n",
    "\n",
    "## Goal ## \n",
    "\n",
    "- Roughly reproduce <https://journals.aps.org/prd/abstract/10.1103/PhysRevD.83.083505>\n",
    "- Update the results thereof with more recent knowledge of the DM-distribution\n",
    "\n",
    "### Approach ###\n",
    "To achieve these goals, we must first get a decent recoil spectrum, that is flexible enough to have different astrophysical parameters. Further, it must also be flexible enough to be able to allow for different analytic functions to be added to the model. For instance, we must be able to incorporate the $\\rm{SHM}^{++}$ as presented here <https://arxiv.org/abs/1810.11468>.\n",
    "\n",
    "When we have a sufficiently flexible model, we want to add in the detector physics, we should therein incorporate at least the following parameters:\n",
    "- target\n",
    "  - material\n",
    "  - cross-section\n",
    "- threshold\n",
    "- background\n",
    "- cut efficiency  \n",
    "- volume\n",
    "- exposure\n",
    "\n",
    "Finally we should perform the inference"
   ]
  },
  {
   "cell_type": "markdown",
   "metadata": {},
   "source": [
    "## HALO model ##\n",
    "\n"
   ]
  },
  {
   "cell_type": "code",
   "execution_count": null,
   "metadata": {},
   "outputs": [],
   "source": [
    "x = np.linspace(0,1000,200) * nu.km / nu.s\n",
    "y2 = wr.observed_speed_dist(x, 0)\n",
    "plt.plot(x/(nu.km / nu.s),y2)\n",
    "plt.axvline(310)"
   ]
  },
  {
   "cell_type": "code",
   "execution_count": null,
   "metadata": {},
   "outputs": [],
   "source": [
    "# NR's\n",
    "energies = np.linspace(0.001, 40, 100)\n",
    "\n",
    "# dr/dr\n",
    "dr = wr.rate_wimp_std(energies, mw=50, sigma_nucleon=1e-45)\n",
    "\n",
    "plt.plot(energies, dr)\n",
    "\n",
    "plt.xlabel(\"Recoil energy [keV]\")\n",
    "plt.ylabel(\"Rate [events per (keV ton year)]\")\n",
    "plt.title(\"$m_\\chi = 50$ GeV/c${}^2$, $\\sigma_\\chi = 10^{-45}$ cm${}^2$\")\n",
    "plt.xlim(0, energies.max())\n",
    "plt.ylim(0, None);\n",
    "\n",
    "use_SHM = dddm.SHM()\n",
    "dr_shm = wr.rate_wimp_std(energies, mw=50, sigma_nucleon=1e-45, halo_model = use_SHM)\n",
    "plt.plot(energies, dr_shm, label = \"Modified SHM\")\n"
   ]
  },
  {
   "cell_type": "markdown",
   "metadata": {},
   "source": [
    "## Detector smearing"
   ]
  },
  {
   "cell_type": "code",
   "execution_count": null,
   "metadata": {},
   "outputs": [],
   "source": [
    "import DirectDmTargets as dddm\n",
    "from tqdm import tqdm\n",
    "import matplotlib.pyplot as plt"
   ]
  },
  {
   "cell_type": "code",
   "execution_count": null,
   "metadata": {
    "scrolled": true
   },
   "outputs": [],
   "source": [
    "# _bin_low, _bin_high, _nbin = 0.001, 40, 10\n",
    "# for _bin in tqdm(dddm.get_bins(_bin_low, _bin_high, _nbin)):\n",
    "#     x = _bin.mean()\n",
    "#     y = dddm.N_r(_bin[0], _bin[1], 1, smearing = False)\n",
    "#     plt.scatter(x,y, c = 'r')\n",
    "# for _bin in tqdm(dddm.get_bins(_bin_low, _bin_high, _nbin)):\n",
    "#     x = _bin.mean()\n",
    "#     y = dddm.N_r(_bin[0], _bin[1], 1, smearing = True)\n",
    "#     plt.scatter(x,y, c = 'b', label = 'smeared')\n",
    "    \n",
    "# plt.ylabel(\"N events [keV$^{-1}$]\")\n",
    "# plt.xlabel(\"Recoil energy [keV]\")"
   ]
  },
  {
   "cell_type": "code",
   "execution_count": null,
   "metadata": {},
   "outputs": [],
   "source": [
    "# TO DO"
   ]
  },
  {
   "cell_type": "markdown",
   "metadata": {},
   "source": [
    "# Inference #\n",
    "Below we setup the inference"
   ]
  },
  {
   "cell_type": "markdown",
   "metadata": {},
   "source": [
    "# Emcee #\n",
    "<https://emcee.readthedocs.io/en/stable/tutorials/quickstart/>"
   ]
  },
  {
   "cell_type": "code",
   "execution_count": null,
   "metadata": {},
   "outputs": [],
   "source": [
    "import pandas as pd"
   ]
  },
  {
   "cell_type": "code",
   "execution_count": null,
   "metadata": {},
   "outputs": [],
   "source": [
    "import scipy"
   ]
  },
  {
   "cell_type": "code",
   "execution_count": null,
   "metadata": {},
   "outputs": [],
   "source": [
    "import emcee\n",
    "emcee.__version__"
   ]
  },
  {
   "cell_type": "code",
   "execution_count": null,
   "metadata": {},
   "outputs": [],
   "source": [
    "pd.set_option('display.max_rows', 500)"
   ]
  },
  {
   "cell_type": "markdown",
   "metadata": {},
   "source": [
    "## Distribution of the DM ##\n",
    "First we need to make a DM-rate spectrum"
   ]
  },
  {
   "cell_type": "code",
   "execution_count": null,
   "metadata": {},
   "outputs": [],
   "source": [
    "benchmark = {'mw':50, 'sigma_nucleon':1e-45}"
   ]
  },
  {
   "cell_type": "code",
   "execution_count": null,
   "metadata": {},
   "outputs": [],
   "source": [
    "use_SHM = dddm.SHM()\n",
    "counts = {}\n",
    "for m in [25,50]:\n",
    "    xe_events = dddm.DetectorSpectrum(m, 1e-45, use_SHM, dddm.experiment['Ge'])\n",
    "    xe_events.n_bins = 10\n",
    "    xe_events.E_max = 100\n",
    "    xe_data = xe_events.get_data(poisson = False)\n",
    "    dddm.plot_spectrum(xe_data, plot_error=False, label=m)\n",
    "    plt.legend()\n",
    "    plt.show()\n",
    "# plt.axhline(0)\n",
    "# plt.yscale(\"log\")\n",
    "    counts[m] = xe_data['counts']"
   ]
  },
  {
   "cell_type": "code",
   "execution_count": null,
   "metadata": {},
   "outputs": [],
   "source": [
    "for i in range(len(counts[25])):\n",
    "    i_25, i_50 = counts[25][i], counts[50][i]\n",
    "    print(i_50, i_25, dddm.log_likelihood_function(i_50, i_25))\n",
    "#     print(dddm.log_likelihood_function(counts[50][:i+1], counts[25][:i+1]))\n",
    "print()\n",
    "print(dddm.log_likelihood(counts[25], counts[50]))"
   ]
  },
  {
   "cell_type": "code",
   "execution_count": null,
   "metadata": {
    "scrolled": false
   },
   "outputs": [],
   "source": [
    "for m in [25, 50, 250]:\n",
    "    print(f\"----{m}----\")\n",
    "    for det in ['Ar', 'Xe', 'Ge']:\n",
    "#     for det in ['Ar']:\n",
    "\n",
    "        print(det)\n",
    "        dddm.plt_ll_sigma_spec(det, m=m, bins = 10)\n",
    "        plt.yscale('symlog')\n",
    "        plt.show()\n",
    "        dddm.plt_ll_mass_spec(det,  m=m, bins = 10)\n",
    "    #     plt.xlim(49,55)\n",
    "        plt.yscale('symlog')\n",
    "        plt.show()"
   ]
  },
  {
   "cell_type": "code",
   "execution_count": null,
   "metadata": {},
   "outputs": [],
   "source": [
    "dddm.log_likelihood_function(1e-12,0)"
   ]
  },
  {
   "cell_type": "code",
   "execution_count": null,
   "metadata": {},
   "outputs": [],
   "source": [
    "np.log(0) * 0"
   ]
  },
  {
   "cell_type": "code",
   "execution_count": null,
   "metadata": {
    "scrolled": false
   },
   "outputs": [],
   "source": [
    "# for m in [25, 50, 250]:\n",
    "#     print(f\"----{m}----\")\n",
    "# #     for det in ['Ar', 'Xe', 'Ge']:\n",
    "#     for det in ['Ar']:\n",
    "\n",
    "#         print(det)\n",
    "#         dddm.plt_ll_sigma_det(det, m=m, bins = 10)\n",
    "#         plt.yscale('symlog')\n",
    "#         plt.show()\n",
    "#         dddm.plt_ll_mass_det(det,  m=m, bins = 10)\n",
    "#     #     plt.xlim(49,55)\n",
    "#         plt.yscale('symlog')\n",
    "#         plt.show()"
   ]
  },
  {
   "cell_type": "code",
   "execution_count": null,
   "metadata": {
    "scrolled": false
   },
   "outputs": [],
   "source": [
    "for m in [25, 50, 250]:\n",
    "    print(f\"----{m}----\")\n",
    "    for det in ['Ar', 'Xe', 'Ge']:\n",
    "#     for det in ['Ar']:\n",
    "\n",
    "        print(det)\n",
    "        dddm.plt_ll_sigma_det(det, m=m, bins = 10)\n",
    "        plt.yscale('symlog')\n",
    "        plt.show()\n",
    "        dddm.plt_ll_mass_det(det,  m=m, bins = 10)\n",
    "    #     plt.xlim(49,55)\n",
    "        plt.yscale('symlog')\n",
    "        plt.show()"
   ]
  },
  {
   "cell_type": "code",
   "execution_count": null,
   "metadata": {
    "scrolled": false
   },
   "outputs": [],
   "source": [
    "for m in [25, 50, 250]:\n",
    "    print(f\"----{m}----\")\n",
    "    for det in ['Ar', 'Xe', 'Ge']:\n",
    "#     for det in ['Ar']:\n",
    "\n",
    "        print(det)\n",
    "        dddm.plt_ll_sigma_det(det, m=m, bins = 100)\n",
    "        plt.yscale('symlog')\n",
    "        plt.show()\n",
    "        dddm.plt_ll_mass_det(det,  m=m, bins = 100)\n",
    "    #     plt.xlim(49,55)\n",
    "        plt.yscale('symlog')\n",
    "        plt.show()"
   ]
  },
  {
   "cell_type": "code",
   "execution_count": null,
   "metadata": {},
   "outputs": [],
   "source": [
    "import numpy as np\n",
    "from scipy.special import loggamma\n",
    "\n",
    "def log_likelihood(lamb, S):\n",
    "    return np.log(lamb) * S - loggamma(S + 1) - lamb"
   ]
  },
  {
   "cell_type": "code",
   "execution_count": null,
   "metadata": {},
   "outputs": [],
   "source": [
    "%%time\n",
    "log_likelihood(1e-30,1e-20)"
   ]
  },
  {
   "cell_type": "code",
   "execution_count": null,
   "metadata": {},
   "outputs": [],
   "source": [
    "1e-300"
   ]
  },
  {
   "cell_type": "code",
   "execution_count": null,
   "metadata": {},
   "outputs": [],
   "source": [
    "for i in range(20):\n",
    "    dddm.log_likelihood_function(10**-i,0)"
   ]
  },
  {
   "cell_type": "code",
   "execution_count": null,
   "metadata": {
    "scrolled": false
   },
   "outputs": [],
   "source": [
    "%%time\n",
    "for bins in [10]:\n",
    "    for m in [25, 50, 250]:\n",
    "        print(f\"----{m}----\")\n",
    "        for det in ['Ar', 'Xe', 'Ge']:\n",
    "#         for det in ['Ar']:\n",
    "\n",
    "            print(det)\n",
    "            dddm.plt_ll_sigma_det(det, m=m, bins = bins)\n",
    "#             plt.yscale('symlog')\n",
    "            plt.show()\n",
    "            dddm.plt_ll_mass_det(det,  m=m, bins = bins)\n",
    "#             plt.xlim(49,55)\n",
    "#             plt.yscale('symlog')\n",
    "            plt.show()\n",
    "# plt.xlim(0,200)"
   ]
  },
  {
   "cell_type": "code",
   "execution_count": null,
   "metadata": {},
   "outputs": [],
   "source": [
    "%%time\n",
    "for bins in [10]:\n",
    "    for m in [25, 50, 250]:\n",
    "        print(f\"----{m}----\")\n",
    "        for det in ['Ar', 'Xe', 'Ge']:\n",
    "#         for det in ['Ar']:\n",
    "\n",
    "            print(det)\n",
    "            dddm.plt_ll_sigma_det(det, m=m, bins = bins)\n",
    "#             plt.yscale('symlog')\n",
    "            plt.show()\n",
    "            dddm.plt_ll_mass_det(det,  m=m, bins = bins)\n",
    "#             plt.xlim(49,55)\n",
    "#             plt.yscale('symlog')\n",
    "            plt.show()\n",
    "# plt.xlim(0,200)"
   ]
  },
  {
   "cell_type": "markdown",
   "metadata": {},
   "source": [
    "''\n",
    " CPU times: user 3min 16s, sys: 1.7 s, total: 3min 17s\n",
    " Wall time: 3min 18s\n",
    "''"
   ]
  },
  {
   "cell_type": "code",
   "execution_count": null,
   "metadata": {},
   "outputs": [],
   "source": [
    "%%time\n",
    "use_SHM = dddm.SHM()\n",
    "cols = ['red', 'blue', 'green', 'orange', 'black']\n",
    "for i, m in enumerate([25, 50, 75, 100, 200]):\n",
    "    xe_events = dddm.DetectorSpectrum(m, 1e-45, use_SHM, dddm.detectors['Ar'])\n",
    "    xe_events.n_bins = 200\n",
    "    xe_events.E_max = 200\n",
    "    xe_data = xe_events.get_data(poisson = False)\n",
    "    dddm.plot_spectrum(xe_data, plot_error=False, label=m, color=cols[i])\n",
    "plt.legend()\n",
    "plt.axhline(1)\n",
    "# plt.axhline(5)\n",
    "# plt.yscale(\"log\")\n",
    "# xe_data"
   ]
  },
  {
   "cell_type": "code",
   "execution_count": null,
   "metadata": {},
   "outputs": [],
   "source": []
  },
  {
   "cell_type": "code",
   "execution_count": null,
   "metadata": {},
   "outputs": [],
   "source": [
    "use_SHM = dddm.SHM()\n",
    "spec50 = dddm.DetectorSpectrum(250, 1e-45, use_SHM, dddm.detectors['Ar'])\n",
    "spec50.get_data(poisson = False)"
   ]
  },
  {
   "cell_type": "code",
   "execution_count": null,
   "metadata": {},
   "outputs": [],
   "source": [
    "use_SHM = dddm.SHM()\n",
    "spec47 = dddm.DetectorSpectrum(49.2, 1e-45, use_SHM, dddm.detectors['Ar'])\n",
    "spec47.get_data(poisson = False)"
   ]
  },
  {
   "cell_type": "code",
   "execution_count": null,
   "metadata": {},
   "outputs": [],
   "source": [
    "use_SHM = dddm.SHM()\n",
    "spec52 = dddm.DetectorSpectrum(52, 1e-45, use_SHM, dddm.detectors['Ar'])\n",
    "spec52.get_data(poisson = False)"
   ]
  },
  {
   "cell_type": "code",
   "execution_count": null,
   "metadata": {},
   "outputs": [],
   "source": [
    "def approx_log_fact(n):\n",
    "    \"\"\"take the approximate logarithm of factorial n for large n\n",
    "\n",
    "    :param n: the number n\n",
    "     :return:  ln(n!)\"\"\"\n",
    "    assert n >= 0, f\"Only take the logarithm of n>0. (n={n})\"\n",
    "\n",
    "    # if n is small, there is no need for approximation\n",
    "    if n < 10:\n",
    "#     try:\n",
    "        # gamma equals factorial for x -> x +1 & returns results for non-int\n",
    "        return np.log(np.math.gamma(n + 1))\n",
    "#     except OverflowError:\n",
    "    else:\n",
    "#         print(n)\n",
    "        # Stirling's approx. <https://nl.wikipedia.org/wiki/Formule_van_Stirling>\n",
    "        return (n * np.log(n) \n",
    "                - n \n",
    "                + 0.5 * np.log(2 * np.pi *n) \n",
    "                + 1 / (12 * n) \n",
    "                - 1 / (360 * (n **3))\n",
    "                + 1 / (1260 * (n**5))\n",
    "                - 1/ (1680 * (n**7))\n",
    "                )"
   ]
  },
  {
   "cell_type": "code",
   "execution_count": null,
   "metadata": {},
   "outputs": [],
   "source": [
    "def real_fact(n):\n",
    "    return np.log(np.math.gamma(n + 1))"
   ]
  },
  {
   "cell_type": "code",
   "execution_count": null,
   "metadata": {},
   "outputs": [],
   "source": [
    "n = np.linspace(0.2,110,200)\n",
    "y = [approx_log_fact(ni) for ni in n] \n",
    "yprime = [real_fact(ni) for ni in n] \n",
    "# plt.yscale('log')"
   ]
  },
  {
   "cell_type": "code",
   "execution_count": null,
   "metadata": {},
   "outputs": [],
   "source": [
    "plt.plot(n,y, label = 'approx');\n",
    "plt.plot(n,yprime, label = 'true');\n",
    "plt.legend();"
   ]
  },
  {
   "cell_type": "code",
   "execution_count": null,
   "metadata": {},
   "outputs": [],
   "source": [
    "# plt.plot(n,, label = 'approx');\n",
    "plt.plot(n,np.array(y)/np.array(yprime));"
   ]
  },
  {
   "cell_type": "code",
   "execution_count": null,
   "metadata": {},
   "outputs": [],
   "source": [
    "np.math.gamma(0.1)"
   ]
  },
  {
   "cell_type": "code",
   "execution_count": null,
   "metadata": {},
   "outputs": [],
   "source": [
    "np.log(0)"
   ]
  },
  {
   "cell_type": "code",
   "execution_count": null,
   "metadata": {},
   "outputs": [],
   "source": [
    "dddm.log_likelihood_function(0,0)"
   ]
  },
  {
   "cell_type": "code",
   "execution_count": null,
   "metadata": {},
   "outputs": [],
   "source": [
    "# assert False\n",
    "dddm.show_ll_function()"
   ]
  },
  {
   "cell_type": "markdown",
   "metadata": {},
   "source": [
    "# Combine posteriors\n",
    "1D\n"
   ]
  },
  {
   "cell_type": "code",
   "execution_count": null,
   "metadata": {},
   "outputs": [],
   "source": [
    "import scipy.signal\n",
    "import numpy as np\n",
    "import matplotlib.pyplot as plt"
   ]
  },
  {
   "cell_type": "code",
   "execution_count": null,
   "metadata": {},
   "outputs": [],
   "source": [
    "x = np.arange(0,100,1)\n",
    "shift = 20\n",
    "distributionA = [x, scipy.signal.gaussian(len(x),5)]\n",
    "distributionB = [x, np.append(np.zeros(shift), scipy.signal.gaussian(len(x),10)[:-shift])]\n",
    "\n",
    "for _d in [distributionA, distributionB]:\n",
    "    _d[1] = _d[1]/np.sum(_d[1])\n",
    "    plt.plot(*_d)\n",
    "\n",
    "prod = distributionA[1] * distributionB[1]\n",
    "prod = prod/np.sum(prod)\n",
    "plt.plot(prod, linestyle = '-.')"
   ]
  },
  {
   "cell_type": "code",
   "execution_count": null,
   "metadata": {},
   "outputs": [],
   "source": [
    "samplesA = np.random.choice(len(distributionA[1]),1000, p = distributionA[1])\n",
    "samplesB = np.random.choice(len(distributionB[1]),1000, p = distributionB[1])"
   ]
  },
  {
   "cell_type": "code",
   "execution_count": null,
   "metadata": {},
   "outputs": [],
   "source": [
    "kwargs = dict(\n",
    "    range=[x[0],x[-1]], alpha =0.5,normed = True, bins = len(x))\n",
    "pdf_A, _, _ = plt.hist(samplesA, **kwargs)\n",
    "pdf_B, _, _ = plt.hist(samplesB, **kwargs)\n",
    "for _d in [distributionA, distributionB]:\n",
    "    _d[1] = _d[1]/np.sum(_d[1])\n",
    "    plt.plot(*_d)\n",
    "\n",
    "prod = distributionA[1] * distributionB[1]\n",
    "prod = prod/np.sum(prod)\n",
    "plt.plot(prod, linestyle = '-.')\n",
    "\n",
    "prod_hist = pdf_A*pdf_B\n",
    "prod_hist = prod_hist/np.sum(prod_hist)\n",
    "plt.plot(prod_hist)"
   ]
  },
  {
   "cell_type": "markdown",
   "metadata": {},
   "source": [
    "2D"
   ]
  },
  {
   "cell_type": "code",
   "execution_count": null,
   "metadata": {},
   "outputs": [],
   "source": [
    "import numpy as np\n",
    "x, y = np.meshgrid(np.linspace(-1,1,10), np.linspace(-1,1,10))\n",
    "d = np.sqrt(x*x+y*y)\n",
    "sigma, mu = 1.0, 0.0\n",
    "g = np.exp(-( (d-mu)**2 / ( 2.0 * sigma**2 ) ) )"
   ]
  },
  {
   "cell_type": "code",
   "execution_count": null,
   "metadata": {},
   "outputs": [],
   "source": [
    "H , xedges, yedges = np.histogram2d(x,y)\n",
    "X, Y = np.meshgrid(xedges, yedges)\n",
    "plt.pcolormesh(X, Y, H.T)\n",
    "ax = plt.gca()\n",
    "ax.set_aspect('equal')\n",
    "plt.show()"
   ]
  },
  {
   "cell_type": "code",
   "execution_count": null,
   "metadata": {},
   "outputs": [],
   "source": []
  },
  {
   "cell_type": "code",
   "execution_count": null,
   "metadata": {},
   "outputs": [],
   "source": []
  },
  {
   "cell_type": "code",
   "execution_count": null,
   "metadata": {},
   "outputs": [],
   "source": [
    "def hist2d(samples, **histargs):\n",
    "    x,y = samples[:,0], samples[:,1]\n",
    "    H , xedges, yedges = np.histogram2d(x,y, **histargs)\n",
    "    X, Y = np.meshgrid(xedges, yedges)\n",
    "    plt.pcolormesh(X, Y, H.T)\n",
    "    ax = plt.gca()\n",
    "    ax.set_aspect('equal')\n",
    "    return H, xedges, yedges\n",
    "# plt.show()"
   ]
  },
  {
   "cell_type": "code",
   "execution_count": null,
   "metadata": {},
   "outputs": [],
   "source": [
    "samplesA,samplesB"
   ]
  },
  {
   "cell_type": "code",
   "execution_count": null,
   "metadata": {
    "scrolled": false
   },
   "outputs": [],
   "source": [
    "histargs = dict(\n",
    "    range = [[0,10], [0,10]],bins = [50,50])\n",
    "samplesA = np.random.multivariate_normal([6,6], [[2,1],[6,3]], 500000)\n",
    "HA, xe, ye = hist2d(samplesA, **histargs)\n",
    "plt.show()\n",
    "plt.hist2d(samplesA[:,0], samplesA[:,1], **histargs)\n",
    "ax = plt.gca()\n",
    "ax.set_aspect('equal')\n",
    "\n",
    "# plt.show()\n",
    "# plt.show()\n",
    "# plt.xlim(*bin_range[0]), plt.ylim(*bin_range[1])#, plt.show()\n",
    "\n",
    "# samplesB = np.random.multivariate_normal([3,3], [[1,-1],[-1,2]], 1000000)\n",
    "# HB, xe, ye = hist2d(samplesB, **histargs)\n",
    "# plt.xlim(*bin_range[0]), plt.ylim(*bin_range[1])#, plt.show()\n",
    "\n",
    "# hist2d(np.concatenate([samplesA, samplesB]), **histargs)\n",
    "# plt.show()\n",
    "# X, Y = np.meshgrid(xe, ye)\n",
    "# plt.pcolormesh(X, Y, HA*HB)\n",
    "# ax = plt.gca()\n",
    "# ax.set_aspect('equal')\n",
    "# plt.show()\n",
    "# # plt.imshow(np.multiply(histA, histB).T, extent=[*bin_range[0], *bin_range[1]])\n",
    "# # ax = plt.gca()\n",
    "# # ax.set_aspect('equal')"
   ]
  },
  {
   "cell_type": "code",
   "execution_count": null,
   "metadata": {},
   "outputs": [],
   "source": [
    "X"
   ]
  },
  {
   "cell_type": "code",
   "execution_count": null,
   "metadata": {},
   "outputs": [],
   "source": [
    "def bin_center(xedges, yedges):\n",
    "    return 0.5 * (xedges[0:-1] + xedges[1:]), 0.5 * (yedges[0:-1] + yedges[1:])\n",
    "X, Y = bin_center(xe, ye)"
   ]
  },
  {
   "cell_type": "code",
   "execution_count": null,
   "metadata": {},
   "outputs": [],
   "source": [
    "# X, Y = np.meshgrid(xe, ye)\n",
    "\n",
    "# X, Y, Z = X[:-1,:-1], Y[:-1,:-1], HA*HB\n",
    "# # plt.colorbar()\n",
    "Z = HA*HB\n",
    "Z = Z/np.max(Z)"
   ]
  },
  {
   "cell_type": "code",
   "execution_count": null,
   "metadata": {},
   "outputs": [],
   "source": [
    "np.sum(Z)"
   ]
  },
  {
   "cell_type": "code",
   "execution_count": null,
   "metadata": {},
   "outputs": [],
   "source": [
    "import matplotlib.pyplot as plt\n",
    "import numpy as np\n",
    "from numpy import ma\n",
    "from matplotlib import colors, ticker, cm\n",
    "from matplotlib.mlab import bivariate_normal\n",
    "\n",
    "N = 100\n",
    "x = np.linspace(-3.0, 3.0, N)\n",
    "y = np.linspace(-2.0, 2.0, N)\n",
    "\n",
    "X, Y = np.meshgrid(x, y)\n",
    "\n",
    "z = (bivariate_normal(X, Y, 0.1, 0.2, 1.0, 1.0)\n",
    "     + 0.1 * bivariate_normal(X, Y, 1.0, 1.0, 0.0, 0.0))\n",
    "\n",
    "z = ma.masked_where(z <= 0, z)\n",
    "\n",
    "fig, ax = plt.subplots()\n",
    "\n",
    "from matplotlib.colors import LogNorm"
   ]
  },
  {
   "cell_type": "code",
   "execution_count": null,
   "metadata": {},
   "outputs": [],
   "source": [
    "contours = plt.contour(X, Y, Z, levels=[0.1,0.68], colors=['blue','black'])\n",
    "from matplotlib.colors import LogNorm\n",
    "# plt.clabel(contours, inline=True, fontsize=8)\n",
    "\n",
    "plt.imshow(Z,  extent=[0, 10, 0, 10], origin='lower', norm=LogNorm(), \n",
    "           cmap='viridis', alpha = 1)\n",
    "plt.colorbar();"
   ]
  },
  {
   "cell_type": "code",
   "execution_count": null,
   "metadata": {},
   "outputs": [],
   "source": [
    "prod = histA * histB\n",
    "plt.imshow(prod, extent=[*bin_range[0], *bin_range[1]])"
   ]
  },
  {
   "cell_type": "code",
   "execution_count": null,
   "metadata": {
    "scrolled": true
   },
   "outputs": [],
   "source": [
    "prodx = []\n",
    "for i in range(len(histA)):\n",
    "    print(i)\n",
    "    prodx.append(histA.T[i]*1)\n",
    "    plt.plot(histA[i])#/np.sum(histA[i]))\n",
    "    plt.show()\n",
    "#     plt.plot(histB[i])#/np.sum(histB[i]))\n",
    "#     plt.show()\n",
    "#     plt.plot(prodx[i]/np.sum(prodx[i]))\n",
    "#     plt.show()"
   ]
  },
  {
   "cell_type": "code",
   "execution_count": null,
   "metadata": {},
   "outputs": [],
   "source": [
    "plt.imshow(prodx, extent=[*bin_range[0], *bin_range[1]])"
   ]
  },
  {
   "cell_type": "code",
   "execution_count": null,
   "metadata": {},
   "outputs": [],
   "source": [
    "plt.imshow(histA.T)"
   ]
  },
  {
   "cell_type": "code",
   "execution_count": null,
   "metadata": {},
   "outputs": [],
   "source": [
    "\n",
    "hist"
   ]
  },
  {
   "cell_type": "code",
   "execution_count": null,
   "metadata": {},
   "outputs": [],
   "source": [
    "x,y = samplesA[:,0], samplesA[:,1]\n",
    "hist, _, _ = np.histogram2d(x,y)\n",
    "plt.imshow(hist)"
   ]
  },
  {
   "cell_type": "code",
   "execution_count": null,
   "metadata": {},
   "outputs": [],
   "source": []
  },
  {
   "cell_type": "code",
   "execution_count": null,
   "metadata": {},
   "outputs": [],
   "source": [
    "# import kdestats as kde\n",
    "# import numpy as np\n",
    "# import pylab as py\n",
    "\n",
    "# covmat = [[1., 1.5], [1.5, 4.]]\n",
    "# xy = np.random.multivariate_normal([0, 0], covmat, [1e4])\n",
    "# kdehist = kde.kdehist2(xy[:,0], xy[:,1], [30, 30])\n",
    "# clevels = kde.confmap(kdehist[0], [.6827,.9545,.9973])\n",
    "\n",
    "# py.figure()  # Plot 1-, 2-, and 3-sigma contours\n",
    "# c = py.contour(kdehist[1], kdehist[2], kdehist[0], clevels)"
   ]
  },
  {
   "cell_type": "code",
   "execution_count": null,
   "metadata": {},
   "outputs": [],
   "source": [
    "!pip install kdestats"
   ]
  },
  {
   "cell_type": "code",
   "execution_count": null,
   "metadata": {},
   "outputs": [],
   "source": [
    "hist, x ,y"
   ]
  },
  {
   "cell_type": "code",
   "execution_count": null,
   "metadata": {},
   "outputs": [],
   "source": [
    "def weighted_avg_and_std(values, weights):\n",
    "    \"\"\"\n",
    "    Return the weighted average and standard deviation.\n",
    "\n",
    "    values, weights -- Numpy ndarrays with the same shape.\n",
    "    \"\"\"\n",
    "    average = np.average(values, weights=weights)\n",
    "    # Fast and numerically precise:\n",
    "    variance = np.average((values-average)**2, weights=weights)\n",
    "    return (average, np.sqrt(variance))\n",
    "\n",
    "\n"
   ]
  },
  {
   "cell_type": "code",
   "execution_count": null,
   "metadata": {},
   "outputs": [],
   "source": [
    "hist, x, y = hist, *bin_center(X, Y)"
   ]
  },
  {
   "cell_type": "code",
   "execution_count": null,
   "metadata": {},
   "outputs": [],
   "source": [
    "weighted_avg_and_std(x[0][:-1], np.sum(hist, axis =0))"
   ]
  },
  {
   "cell_type": "code",
   "execution_count": null,
   "metadata": {},
   "outputs": [],
   "source": [
    "len(x[0])"
   ]
  },
  {
   "cell_type": "code",
   "execution_count": null,
   "metadata": {},
   "outputs": [],
   "source": [
    "np.sum(hist, axis =1)"
   ]
  },
  {
   "cell_type": "code",
   "execution_count": null,
   "metadata": {},
   "outputs": [],
   "source": [
    "from scipy.statsmodels.stats.weightstats import DescrStatsW"
   ]
  },
  {
   "cell_type": "code",
   "execution_count": null,
   "metadata": {},
   "outputs": [],
   "source": [
    "sns.distplot(hist)"
   ]
  },
  {
   "cell_type": "code",
   "execution_count": null,
   "metadata": {},
   "outputs": [],
   "source": [
    "import seaborn as sns"
   ]
  },
  {
   "cell_type": "code",
   "execution_count": null,
   "metadata": {},
   "outputs": [],
   "source": [
    "??sns.kdeplot"
   ]
  },
  {
   "cell_type": "code",
   "execution_count": null,
   "metadata": {},
   "outputs": [],
   "source": []
  }
 ],
 "metadata": {
  "kernelspec": {
   "display_name": "Python 3",
   "language": "python",
   "name": "python3"
  },
  "language_info": {
   "codemirror_mode": {
    "name": "ipython",
    "version": 3
   },
   "file_extension": ".py",
   "mimetype": "text/x-python",
   "name": "python",
   "nbconvert_exporter": "python",
   "pygments_lexer": "ipython3",
   "version": "3.8.0"
  }
 },
 "nbformat": 4,
 "nbformat_minor": 2
}
