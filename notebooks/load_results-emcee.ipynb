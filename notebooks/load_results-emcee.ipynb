{
 "cells": [
  {
   "cell_type": "code",
   "execution_count": 1,
   "metadata": {},
   "outputs": [
    {
     "name": "stdout",
     "output_type": "stream",
     "text": [
      "Host: DESKTOP-URE1BBI.localdomain\n",
      "Setting tmp folder to /tmp/\n"
     ]
    }
   ],
   "source": [
    "import DirectDmTargets as dddm"
   ]
  },
  {
   "cell_type": "code",
   "execution_count": 2,
   "metadata": {},
   "outputs": [],
   "source": [
    "import corner"
   ]
  },
  {
   "cell_type": "code",
   "execution_count": 3,
   "metadata": {},
   "outputs": [],
   "source": [
    "import matplotlib.pyplot as plt"
   ]
  },
  {
   "cell_type": "code",
   "execution_count": 4,
   "metadata": {},
   "outputs": [],
   "source": [
    "import numpy as np"
   ]
  },
  {
   "cell_type": "code",
   "execution_count": 5,
   "metadata": {},
   "outputs": [],
   "source": [
    "import os"
   ]
  },
  {
   "cell_type": "code",
   "execution_count": 6,
   "metadata": {
    "scrolled": true
   },
   "outputs": [
    {
     "name": "stdout",
     "output_type": "stream",
     "text": [
      "get_result_folder::\trequested folder is /mnt/c/Users/Joran/dddm_data/results/\n",
      "get_result_folder::\trequested folder is /mnt/c/Users/Joran/dddm_data/results/\n",
      "get_result_folder::\trequested folder is /mnt/c/Users/Joran/dddm_data/results/\n",
      "get_result_folder::\trequested folder is /mnt/c/Users/Joran/dddm_data/results/\n",
      "get_result_folder::\trequested folder is /mnt/c/Users/Joran/dddm_data/results/\n",
      "get_result_folder::\trequested folder is /mnt/c/Users/Joran/dddm_data/results/\n",
      "get_result_folder::\trequested folder is /mnt/c/Users/Joran/dddm_data/results/\n",
      "get_result_folder::\trequested folder is /mnt/c/Users/Joran/dddm_data/results/\n",
      "get_result_folder::\trequested folder is /mnt/c/Users/Joran/dddm_data/results/\n",
      "get_result_folder::\trequested folder is /mnt/c/Users/Joran/dddm_data/results/\n",
      "get_result_folder::\trequested folder is /mnt/c/Users/Joran/dddm_data/results/\n",
      "get_result_folder::\trequested folder is /mnt/c/Users/Joran/dddm_data/results/\n",
      "get_result_folder::\trequested folder is /mnt/c/Users/Joran/dddm_data/results/\n",
      "get_result_folder::\trequested folder is /mnt/c/Users/Joran/dddm_data/results/\n",
      "get_result_folder::\trequested folder is /mnt/c/Users/Joran/dddm_data/results/\n",
      "get_result_folder::\trequested folder is /mnt/c/Users/Joran/dddm_data/results/\n",
      "get_result_folder::\trequested folder is /mnt/c/Users/Joran/dddm_data/results/\n",
      "get_result_folder::\trequested folder is /mnt/c/Users/Joran/dddm_data/results/\n",
      "get_result_folder::\trequested folder is /mnt/c/Users/Joran/dddm_data/results/\n",
      "get_result_folder::\trequested folder is /mnt/c/Users/Joran/dddm_data/results/\n",
      "get_result_folder::\trequested folder is /mnt/c/Users/Joran/dddm_data/results/\n",
      "get_result_folder::\trequested folder is /mnt/c/Users/Joran/dddm_data/results/\n",
      "get_result_folder::\trequested folder is /mnt/c/Users/Joran/dddm_data/results/\n",
      "get_result_folder::\trequested folder is /mnt/c/Users/Joran/dddm_data/results/\n",
      "get_result_folder::\trequested folder is /mnt/c/Users/Joran/dddm_data/results/\n",
      "get_result_folder::\trequested folder is /mnt/c/Users/Joran/dddm_data/results/\n",
      "get_result_folder::\trequested folder is /mnt/c/Users/Joran/dddm_data/results/\n",
      "get_result_folder::\trequested folder is /mnt/c/Users/Joran/dddm_data/results/\n",
      "get_result_folder::\trequested folder is /mnt/c/Users/Joran/dddm_data/results/\n",
      "get_result_folder::\trequested folder is /mnt/c/Users/Joran/dddm_data/results/\n",
      "get_result_folder::\trequested folder is /mnt/c/Users/Joran/dddm_data/results/\n",
      "get_result_folder::\trequested folder is /mnt/c/Users/Joran/dddm_data/results/\n",
      "get_result_folder::\trequested folder is /mnt/c/Users/Joran/dddm_data/results/\n",
      "get_result_folder::\trequested folder is /mnt/c/Users/Joran/dddm_data/results/\n",
      "get_result_folder::\trequested folder is /mnt/c/Users/Joran/dddm_data/results/\n",
      "get_result_folder::\trequested folder is /mnt/c/Users/Joran/dddm_data/results/\n",
      "get_result_folder::\trequested folder is /mnt/c/Users/Joran/dddm_data/results/\n",
      "get_result_folder::\trequested folder is /mnt/c/Users/Joran/dddm_data/results/\n",
      "get_result_folder::\trequested folder is /mnt/c/Users/Joran/dddm_data/results/\n",
      "get_result_folder::\trequested folder is /mnt/c/Users/Joran/dddm_data/results/\n",
      "get_result_folder::\trequested folder is /mnt/c/Users/Joran/dddm_data/results/\n",
      "get_result_folder::\trequested folder is /mnt/c/Users/Joran/dddm_data/results/\n",
      "get_result_folder::\trequested folder is /mnt/c/Users/Joran/dddm_data/results/\n",
      "get_result_folder::\trequested folder is /mnt/c/Users/Joran/dddm_data/results/\n",
      "get_result_folder::\trequested folder is /mnt/c/Users/Joran/dddm_data/results/\n",
      "get_result_folder::\trequested folder is /mnt/c/Users/Joran/dddm_data/results/\n",
      "get_result_folder::\trequested folder is /mnt/c/Users/Joran/dddm_data/results/\n",
      "get_result_folder::\trequested folder is /mnt/c/Users/Joran/dddm_data/results/\n",
      "get_result_folder::\trequested folder is /mnt/c/Users/Joran/dddm_data/results/\n",
      "get_result_folder::\trequested folder is /mnt/c/Users/Joran/dddm_data/results/\n",
      "get_result_folder::\trequested folder is /mnt/c/Users/Joran/dddm_data/results/\n",
      "get_result_folder::\trequested folder is /mnt/c/Users/Joran/dddm_data/results/\n",
      "get_result_folder::\trequested folder is /mnt/c/Users/Joran/dddm_data/results/\n",
      "get_result_folder::\trequested folder is /mnt/c/Users/Joran/dddm_data/results/\n",
      "get_result_folder::\trequested folder is /mnt/c/Users/Joran/dddm_data/results/\n",
      "get_result_folder::\trequested folder is /mnt/c/Users/Joran/dddm_data/results/\n",
      "get_result_folder::\trequested folder is /mnt/c/Users/Joran/dddm_data/results/\n",
      "get_result_folder::\trequested folder is /mnt/c/Users/Joran/dddm_data/results/\n",
      "get_result_folder::\trequested folder is /mnt/c/Users/Joran/dddm_data/results/\n",
      "get_result_folder::\trequested folder is /mnt/c/Users/Joran/dddm_data/results/\n",
      "get_result_folder::\trequested folder is /mnt/c/Users/Joran/dddm_data/results/\n",
      "get_result_folder::\trequested folder is /mnt/c/Users/Joran/dddm_data/results/\n",
      "get_result_folder::\trequested folder is /mnt/c/Users/Joran/dddm_data/results/\n",
      "get_result_folder::\trequested folder is /mnt/c/Users/Joran/dddm_data/results/\n",
      "get_result_folder::\trequested folder is /mnt/c/Users/Joran/dddm_data/results/\n",
      "get_result_folder::\trequested folder is /mnt/c/Users/Joran/dddm_data/results/\n",
      "get_result_folder::\trequested folder is /mnt/c/Users/Joran/dddm_data/results/\n",
      "get_result_folder::\trequested folder is /mnt/c/Users/Joran/dddm_data/results/\n",
      "get_result_folder::\trequested folder is /mnt/c/Users/Joran/dddm_data/results/\n",
      "get_result_folder::\trequested folder is /mnt/c/Users/Joran/dddm_data/results/\n",
      "get_result_folder::\trequested folder is /mnt/c/Users/Joran/dddm_data/results/\n",
      "get_result_folder::\trequested folder is /mnt/c/Users/Joran/dddm_data/results/\n",
      "get_result_folder::\trequested folder is /mnt/c/Users/Joran/dddm_data/results/\n",
      "get_result_folder::\trequested folder is /mnt/c/Users/Joran/dddm_data/results/\n",
      "get_result_folder::\trequested folder is /mnt/c/Users/Joran/dddm_data/results/\n",
      "get_result_folder::\trequested folder is /mnt/c/Users/Joran/dddm_data/results/\n",
      "get_result_folder::\trequested folder is /mnt/c/Users/Joran/dddm_data/results/\n",
      "get_result_folder::\trequested folder is /mnt/c/Users/Joran/dddm_data/results/\n",
      "get_result_folder::\trequested folder is /mnt/c/Users/Joran/dddm_data/results/\n",
      "get_result_folder::\trequested folder is /mnt/c/Users/Joran/dddm_data/results/\n",
      "get_result_folder::\trequested folder is /mnt/c/Users/Joran/dddm_data/results/\n",
      "get_result_folder::\trequested folder is /mnt/c/Users/Joran/dddm_data/results/\n",
      "get_result_folder::\trequested folder is /mnt/c/Users/Joran/dddm_data/results/\n",
      "get_result_folder::\trequested folder is /mnt/c/Users/Joran/dddm_data/results/\n",
      "get_result_folder::\trequested folder is /mnt/c/Users/Joran/dddm_data/results/\n",
      "get_result_folder::\trequested folder is /mnt/c/Users/Joran/dddm_data/results/\n",
      "get_result_folder::\trequested folder is /mnt/c/Users/Joran/dddm_data/results/\n",
      "get_result_folder::\trequested folder is /mnt/c/Users/Joran/dddm_data/results/\n",
      "get_result_folder::\trequested folder is /mnt/c/Users/Joran/dddm_data/results/\n",
      "get_result_folder::\trequested folder is /mnt/c/Users/Joran/dddm_data/results/\n",
      "get_result_folder::\trequested folder is /mnt/c/Users/Joran/dddm_data/results/\n",
      "get_result_folder::\trequested folder is /mnt/c/Users/Joran/dddm_data/results/\n",
      "get_result_folder::\trequested folder is /mnt/c/Users/Joran/dddm_data/results/\n",
      "get_result_folder::\trequested folder is /mnt/c/Users/Joran/dddm_data/results/\n",
      "get_result_folder::\trequested folder is /mnt/c/Users/Joran/dddm_data/results/\n",
      "get_result_folder::\trequested folder is /mnt/c/Users/Joran/dddm_data/results/\n",
      "get_result_folder::\trequested folder is /mnt/c/Users/Joran/dddm_data/results/\n",
      "get_result_folder::\trequested folder is /mnt/c/Users/Joran/dddm_data/results/\n",
      "get_result_folder::\trequested folder is /mnt/c/Users/Joran/dddm_data/results/\n",
      "get_result_folder::\trequested folder is /mnt/c/Users/Joran/dddm_data/results/\n",
      "get_result_folder::\trequested folder is /mnt/c/Users/Joran/dddm_data/results/\n",
      "get_result_folder::\trequested folder is /mnt/c/Users/Joran/dddm_data/results/\n",
      "get_result_folder::\trequested folder is /mnt/c/Users/Joran/dddm_data/results/\n",
      "get_result_folder::\trequested folder is /mnt/c/Users/Joran/dddm_data/results/\n",
      "get_result_folder::\trequested folder is /mnt/c/Users/Joran/dddm_data/results/\n",
      "get_result_folder::\trequested folder is /mnt/c/Users/Joran/dddm_data/results/\n",
      "get_result_folder::\trequested folder is /mnt/c/Users/Joran/dddm_data/results/\n",
      "get_result_folder::\trequested folder is /mnt/c/Users/Joran/dddm_data/results/\n",
      "get_result_folder::\trequested folder is /mnt/c/Users/Joran/dddm_data/results/\n",
      "get_result_folder::\trequested folder is /mnt/c/Users/Joran/dddm_data/results/\n",
      "get_result_folder::\trequested folder is /mnt/c/Users/Joran/dddm_data/results/\n",
      "get_result_folder::\trequested folder is /mnt/c/Users/Joran/dddm_data/results/\n",
      "get_result_folder::\trequested folder is /mnt/c/Users/Joran/dddm_data/results/\n",
      "get_result_folder::\trequested folder is /mnt/c/Users/Joran/dddm_data/results/\n",
      "get_result_folder::\trequested folder is /mnt/c/Users/Joran/dddm_data/results/\n",
      "get_result_folder::\trequested folder is /mnt/c/Users/Joran/dddm_data/results/\n",
      "get_result_folder::\trequested folder is /mnt/c/Users/Joran/dddm_data/results/\n",
      "get_result_folder::\trequested folder is /mnt/c/Users/Joran/dddm_data/results/\n",
      "get_result_folder::\trequested folder is /mnt/c/Users/Joran/dddm_data/results/\n",
      "get_result_folder::\trequested folder is /mnt/c/Users/Joran/dddm_data/results/\n",
      "get_result_folder::\trequested folder is /mnt/c/Users/Joran/dddm_data/results/\n",
      "get_result_folder::\trequested folder is /mnt/c/Users/Joran/dddm_data/results/\n",
      "get_result_folder::\trequested folder is /mnt/c/Users/Joran/dddm_data/results/\n",
      "get_result_folder::\trequested folder is /mnt/c/Users/Joran/dddm_data/results/\n",
      "get_result_folder::\trequested folder is /mnt/c/Users/Joran/dddm_data/results/\n",
      "get_result_folder::\trequested folder is /mnt/c/Users/Joran/dddm_data/results/\n",
      "get_result_folder::\trequested folder is /mnt/c/Users/Joran/dddm_data/results/\n",
      "get_result_folder::\trequested folder is /mnt/c/Users/Joran/dddm_data/results/\n",
      "get_result_folder::\trequested folder is /mnt/c/Users/Joran/dddm_data/results/\n",
      "get_result_folder::\trequested folder is /mnt/c/Users/Joran/dddm_data/results/\n",
      "get_result_folder::\trequested folder is /mnt/c/Users/Joran/dddm_data/results/\n",
      "get_result_folder::\trequested folder is /mnt/c/Users/Joran/dddm_data/results/\n",
      "get_result_folder::\trequested folder is /mnt/c/Users/Joran/dddm_data/results/\n",
      "get_result_folder::\trequested folder is /mnt/c/Users/Joran/dddm_data/results/\n",
      "get_result_folder::\trequested folder is /mnt/c/Users/Joran/dddm_data/results/\n",
      "get_result_folder::\trequested folder is /mnt/c/Users/Joran/dddm_data/results/\n",
      "get_result_folder::\trequested folder is /mnt/c/Users/Joran/dddm_data/results/\n",
      "get_result_folder::\trequested folder is /mnt/c/Users/Joran/dddm_data/results/\n",
      "get_result_folder::\trequested folder is /mnt/c/Users/Joran/dddm_data/results/\n",
      "get_result_folder::\trequested folder is /mnt/c/Users/Joran/dddm_data/results/\n",
      "get_result_folder::\trequested folder is /mnt/c/Users/Joran/dddm_data/results/\n",
      "get_result_folder::\trequested folder is /mnt/c/Users/Joran/dddm_data/results/\n",
      "get_result_folder::\trequested folder is /mnt/c/Users/Joran/dddm_data/results/\n",
      "get_result_folder::\trequested folder is /mnt/c/Users/Joran/dddm_data/results/\n",
      "get_result_folder::\trequested folder is /mnt/c/Users/Joran/dddm_data/results/\n",
      "get_result_folder::\trequested folder is /mnt/c/Users/Joran/dddm_data/results/\n",
      "get_result_folder::\trequested folder is /mnt/c/Users/Joran/dddm_data/results/\n",
      "get_result_folder::\trequested folder is /mnt/c/Users/Joran/dddm_data/results/\n",
      "get_result_folder::\trequested folder is /mnt/c/Users/Joran/dddm_data/results/\n",
      "get_result_folder::\trequested folder is /mnt/c/Users/Joran/dddm_data/results/\n",
      "get_result_folder::\trequested folder is /mnt/c/Users/Joran/dddm_data/results/\n",
      "get_result_folder::\trequested folder is /mnt/c/Users/Joran/dddm_data/results/\n",
      "get_result_folder::\trequested folder is /mnt/c/Users/Joran/dddm_data/results/\n",
      "get_result_folder::\trequested folder is /mnt/c/Users/Joran/dddm_data/results/\n",
      "get_result_folder::\trequested folder is /mnt/c/Users/Joran/dddm_data/results/\n",
      "get_result_folder::\trequested folder is /mnt/c/Users/Joran/dddm_data/results/\n",
      "get_result_folder::\trequested folder is /mnt/c/Users/Joran/dddm_data/results/\n",
      "get_result_folder::\trequested folder is /mnt/c/Users/Joran/dddm_data/results/\n",
      "get_result_folder::\trequested folder is /mnt/c/Users/Joran/dddm_data/results/\n",
      "get_result_folder::\trequested folder is /mnt/c/Users/Joran/dddm_data/results/\n",
      "get_result_folder::\trequested folder is /mnt/c/Users/Joran/dddm_data/results/\n",
      "get_result_folder::\trequested folder is /mnt/c/Users/Joran/dddm_data/results/\n",
      "get_result_folder::\trequested folder is /mnt/c/Users/Joran/dddm_data/results/\n",
      "get_result_folder::\trequested folder is /mnt/c/Users/Joran/dddm_data/results/\n",
      "get_result_folder::\trequested folder is /mnt/c/Users/Joran/dddm_data/results/\n",
      "get_result_folder::\trequested folder is /mnt/c/Users/Joran/dddm_data/results/\n",
      "get_result_folder::\trequested folder is /mnt/c/Users/Joran/dddm_data/results/\n",
      "get_result_folder::\trequested folder is /mnt/c/Users/Joran/dddm_data/results/\n",
      "get_result_folder::\trequested folder is /mnt/c/Users/Joran/dddm_data/results/\n",
      "get_result_folder::\trequested folder is /mnt/c/Users/Joran/dddm_data/results/\n",
      "get_result_folder::\trequested folder is /mnt/c/Users/Joran/dddm_data/results/\n",
      "get_result_folder::\trequested folder is /mnt/c/Users/Joran/dddm_data/results/\n",
      "get_result_folder::\trequested folder is /mnt/c/Users/Joran/dddm_data/results/\n",
      "get_result_folder::\trequested folder is /mnt/c/Users/Joran/dddm_data/results/\n",
      "get_result_folder::\trequested folder is /mnt/c/Users/Joran/dddm_data/results/\n",
      "get_result_folder::\trequested folder is /mnt/c/Users/Joran/dddm_data/results/\n",
      "get_result_folder::\trequested folder is /mnt/c/Users/Joran/dddm_data/results/\n",
      "get_result_folder::\trequested folder is /mnt/c/Users/Joran/dddm_data/results/\n",
      "get_result_folder::\trequested folder is /mnt/c/Users/Joran/dddm_data/results/\n",
      "get_result_folder::\trequested folder is /mnt/c/Users/Joran/dddm_data/results/\n",
      "get_result_folder::\trequested folder is /mnt/c/Users/Joran/dddm_data/results/\n",
      "get_result_folder::\trequested folder is /mnt/c/Users/Joran/dddm_data/results/\n",
      "get_result_folder::\trequested folder is /mnt/c/Users/Joran/dddm_data/results/\n",
      "get_result_folder::\trequested folder is /mnt/c/Users/Joran/dddm_data/results/\n",
      "get_result_folder::\trequested folder is /mnt/c/Users/Joran/dddm_data/results/\n",
      "get_result_folder::\trequested folder is /mnt/c/Users/Joran/dddm_data/results/\n",
      "get_result_folder::\trequested folder is /mnt/c/Users/Joran/dddm_data/results/\n",
      "get_result_folder::\trequested folder is /mnt/c/Users/Joran/dddm_data/results/\n",
      "get_result_folder::\trequested folder is /mnt/c/Users/Joran/dddm_data/results/\n",
      "get_result_folder::\trequested folder is /mnt/c/Users/Joran/dddm_data/results/\n",
      "get_result_folder::\trequested folder is /mnt/c/Users/Joran/dddm_data/results/\n",
      "get_result_folder::\trequested folder is /mnt/c/Users/Joran/dddm_data/results/\n",
      "get_result_folder::\trequested folder is /mnt/c/Users/Joran/dddm_data/results/\n",
      "get_result_folder::\trequested folder is /mnt/c/Users/Joran/dddm_data/results/\n",
      "get_result_folder::\trequested folder is /mnt/c/Users/Joran/dddm_data/results/\n",
      "get_result_folder::\trequested folder is /mnt/c/Users/Joran/dddm_data/results/\n",
      "get_result_folder::\trequested folder is /mnt/c/Users/Joran/dddm_data/results/\n",
      "get_result_folder::\trequested folder is /mnt/c/Users/Joran/dddm_data/results/\n",
      "get_result_folder::\trequested folder is /mnt/c/Users/Joran/dddm_data/results/\n",
      "get_result_folder::\trequested folder is /mnt/c/Users/Joran/dddm_data/results/\n"
     ]
    }
   ],
   "source": [
    "results = {}\n",
    "for i in range(200):\n",
    "    try:\n",
    "        results[i] = dddm.load_chain_emcee(\n",
    "            \"../../results/emcee\",\n",
    "            item = i)\n",
    "        print()\n",
    "    except FileNotFoundError:\n",
    "        pass\n",
    "#         print(f\"No result for {i}\")\n",
    "#     print()"
   ]
  },
  {
   "cell_type": "code",
   "execution_count": 7,
   "metadata": {},
   "outputs": [
    {
     "data": {
      "text/plain": [
       "dict_keys([])"
      ]
     },
     "execution_count": 7,
     "metadata": {},
     "output_type": "execute_result"
    }
   ],
   "source": [
    "results.keys()\n",
    "# ?dddm.load_chain_emcee"
   ]
  },
  {
   "cell_type": "code",
   "execution_count": 8,
   "metadata": {},
   "outputs": [
    {
     "data": {
      "text/plain": [
       "[]"
      ]
     },
     "execution_count": 8,
     "metadata": {},
     "output_type": "execute_result"
    }
   ],
   "source": [
    "selected_keys = []\n",
    "for i in results.keys():\n",
    "#     if results[i]['config']['detector'] == \"Ge\":\n",
    "#         path = \"../results/emcee_restart\" + str(i)\n",
    "#         print(path)\n",
    "#         !rm -r $path\n",
    "        \n",
    "#         print(i, \",\")\n",
    "    if results[i]['config']['notes'] == '14nov_notmerged':\n",
    "        print(i, results[i]['config']['notes'])\n",
    "        selected_keys.append(i)\n",
    "selected_keys"
   ]
  },
  {
   "cell_type": "code",
   "execution_count": 9,
   "metadata": {},
   "outputs": [],
   "source": [
    "# result['config']"
   ]
  },
  {
   "cell_type": "code",
   "execution_count": 10,
   "metadata": {
    "scrolled": false
   },
   "outputs": [],
   "source": [
    "for key in results.keys():\n",
    "# for key in selected_keys:\n",
    "    result = results[key]   \n",
    "    if 'migd' in result['config']['notes']:\n",
    "        print(f\"---{key}---\")\n",
    "        print(result['config']['det_params']['name'])\n",
    "        path = f\"../results/emcee{key}\"\n",
    "#         !rm -r $path\n",
    "        dddm.emcee_plots(result, save = f\"../results/emcee{key}/\")"
   ]
  },
  {
   "cell_type": "code",
   "execution_count": 11,
   "metadata": {},
   "outputs": [
    {
     "ename": "KeyError",
     "evalue": "0",
     "output_type": "error",
     "traceback": [
      "\u001b[0;31m---------------------------------------------------------------------------\u001b[0m",
      "\u001b[0;31mKeyError\u001b[0m                                  Traceback (most recent call last)",
      "\u001b[0;32m<ipython-input-11-017f5713b03a>\u001b[0m in \u001b[0;36m<module>\u001b[0;34m\u001b[0m\n\u001b[0;32m----> 1\u001b[0;31m \u001b[0mnp\u001b[0m\u001b[0;34m.\u001b[0m\u001b[0mshape\u001b[0m\u001b[0;34m(\u001b[0m\u001b[0mresults\u001b[0m\u001b[0;34m[\u001b[0m\u001b[0;36m0\u001b[0m\u001b[0;34m]\u001b[0m\u001b[0;34m[\u001b[0m\u001b[0;34m'flat_chain'\u001b[0m\u001b[0;34m]\u001b[0m\u001b[0;34m)\u001b[0m\u001b[0;34m,\u001b[0m \u001b[0mnp\u001b[0m\u001b[0;34m.\u001b[0m\u001b[0mshape\u001b[0m\u001b[0;34m(\u001b[0m\u001b[0mresults\u001b[0m\u001b[0;34m[\u001b[0m\u001b[0;36m0\u001b[0m\u001b[0;34m]\u001b[0m\u001b[0;34m[\u001b[0m\u001b[0;34m'full_chain'\u001b[0m\u001b[0;34m]\u001b[0m\u001b[0;34m)\u001b[0m\u001b[0;34m\u001b[0m\u001b[0;34m\u001b[0m\u001b[0m\n\u001b[0m",
      "\u001b[0;31mKeyError\u001b[0m: 0"
     ]
    }
   ],
   "source": [
    "np.shape(results[0]['flat_chain']), np.shape(results[0]['full_chain'])\n"
   ]
  },
  {
   "cell_type": "code",
   "execution_count": null,
   "metadata": {},
   "outputs": [],
   "source": [
    "6000*0.2"
   ]
  },
  {
   "cell_type": "code",
   "execution_count": null,
   "metadata": {},
   "outputs": [],
   "source": [
    "import multihist as mh"
   ]
  },
  {
   "cell_type": "code",
   "execution_count": null,
   "metadata": {},
   "outputs": [],
   "source": [
    "# np.shape(np.random.normal(1, 1, 10**6))"
   ]
  },
  {
   "cell_type": "code",
   "execution_count": null,
   "metadata": {},
   "outputs": [],
   "source": [
    "# Create and show a 2d histogram. Axis names are optional.\n",
    "m2 = mh.Histdd(bins=45, range=[[1, 3], [-45.5, -44.3]], axis_names=['x', 'y'])\n",
    "for i in [42,41,43]:\n",
    "    m2.add(*results[i]['flat_chain'].T[:2])\n",
    "counts = m2.histogram\n",
    "xbins, ybins = m2.bin_centers()\n",
    "cont = plt.contour(counts.transpose(),\n",
    "            extent=[xbins[0],xbins[-1],ybins[0],ybins[-1]],\n",
    "    linewidths=1, cmap = plt.cm.rainbow, levels = [10, 50, 99])\n",
    "\n",
    "artists, labels = cont.legend_elements()\n",
    "plt.legend(artists, labels, handleheight=2, loc = \"lower right\")\n",
    "\n",
    "plt.axvline(np.log10(25), c = 'r', alpha = 0.5, linestyle = '--')\n",
    "plt.axvline(np.log10(50), c = 'r', alpha = 0.5, linestyle = '--')\n",
    "plt.axvline(np.log10(250), c = 'r', alpha = 0.5, linestyle = '--')\n",
    "plt.axhline(-45, c = 'r', alpha = 0.5, linestyle = '--')\n",
    "# m2.add(np.random.normal(-2, 1, 10**6), np.random.normal(2, 1, 10**6))\n",
    "\n",
    "m2.plot(log_scale = True)\n",
    "\n",
    "plt.show()"
   ]
  },
  {
   "cell_type": "code",
   "execution_count": null,
   "metadata": {},
   "outputs": [],
   "source": [
    "# Create and show a 2d histogram. Axis names are optional.\n",
    "m2 = mh.Histdd(bins=45, range=[[1, 3], [-45.5, -44.3]], axis_names=['x', 'y'])\n",
    "for i in [54, 56, 55]:\n",
    "    m2.add(*results[i]['flat_chain'].T[:2])\n",
    "counts = m2.histogram\n",
    "xbins, ybins = m2.bin_centers()\n",
    "cont = plt.contour(counts.transpose(),\n",
    "            extent=[xbins[0],xbins[-1],ybins[0],ybins[-1]],\n",
    "    linewidths=1, cmap = plt.cm.rainbow, levels = [10, 50, 99])\n",
    "\n",
    "artists, labels = cont.legend_elements()\n",
    "plt.legend(artists, labels, handleheight=2, loc = \"lower right\")\n",
    "\n",
    "plt.axvline(np.log10(25), c = 'r', alpha = 0.5, linestyle = '--')\n",
    "plt.axvline(np.log10(50), c = 'r', alpha = 0.5, linestyle = '--')\n",
    "plt.axvline(np.log10(250), c = 'r', alpha = 0.5, linestyle = '--')\n",
    "plt.axhline(-45, c = 'r', alpha = 0.5, linestyle = '--')\n",
    "# m2.add(np.random.normal(-2, 1, 10**6), np.random.normal(2, 1, 10**6))\n",
    "m2.plot(log_scale = True)\n",
    "\n",
    "plt.show()"
   ]
  },
  {
   "cell_type": "code",
   "execution_count": null,
   "metadata": {},
   "outputs": [],
   "source": [
    "# Create and show a 2d histogram. Axis names are optional.\n",
    "m2 = mh.Histdd(bins=45, range=[[1, 3], [-45.5, -44.3]], axis_names=['x', 'y'])\n",
    "for i in [63, 56, 55]:\n",
    "    m2.add(*results[i]['flat_chain'].T[:2])\n",
    "counts = m2.histogram\n",
    "xbins, ybins = m2.bin_centers()\n",
    "cont = plt.contour(counts.transpose(),\n",
    "            extent=[xbins[0],xbins[-1],ybins[0],ybins[-1]],\n",
    "    linewidths=1, cmap = plt.cm.rainbow, levels = [10, 50, 99])\n",
    "\n",
    "artists, labels = cont.legend_elements()\n",
    "plt.legend(artists, labels, handleheight=2, loc = \"lower right\")\n",
    "\n",
    "plt.axvline(np.log10(25), c = 'r', alpha = 0.5, linestyle = '--')\n",
    "plt.axvline(np.log10(50), c = 'r', alpha = 0.5, linestyle = '--')\n",
    "plt.axvline(np.log10(250), c = 'r', alpha = 0.5, linestyle = '--')\n",
    "plt.axhline(-45, c = 'r', alpha = 0.5, linestyle = '--')\n",
    "# m2.add(np.random.normal(-2, 1, 10**6), np.random.normal(2, 1, 10**6))\n",
    "m2.plot(log_scale = True)\n",
    "\n",
    "plt.show()"
   ]
  },
  {
   "cell_type": "code",
   "execution_count": null,
   "metadata": {},
   "outputs": [],
   "source": []
  },
  {
   "cell_type": "code",
   "execution_count": null,
   "metadata": {},
   "outputs": [],
   "source": []
  },
  {
   "cell_type": "code",
   "execution_count": null,
   "metadata": {},
   "outputs": [],
   "source": []
  }
 ],
 "metadata": {
  "kernelspec": {
   "display_name": "Python 3",
   "language": "python",
   "name": "python3"
  },
  "language_info": {
   "codemirror_mode": {
    "name": "ipython",
    "version": 3
   },
   "file_extension": ".py",
   "mimetype": "text/x-python",
   "name": "python",
   "nbconvert_exporter": "python",
   "pygments_lexer": "ipython3",
   "version": "3.8.2"
  }
 },
 "nbformat": 4,
 "nbformat_minor": 2
}
