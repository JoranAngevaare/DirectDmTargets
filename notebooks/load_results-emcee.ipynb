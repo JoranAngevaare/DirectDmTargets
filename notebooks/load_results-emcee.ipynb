{
 "cells": [
  {
   "cell_type": "code",
   "execution_count": null,
   "metadata": {},
   "outputs": [],
   "source": [
    "%run common_init.py"
   ]
  },
  {
   "cell_type": "code",
   "execution_count": null,
   "metadata": {
    "scrolled": true
   },
   "outputs": [],
   "source": [
    "results = {}\n",
    "for i in range(200):\n",
    "    try:\n",
    "        results[i] = dddm.load_chain_emcee(\n",
    "            \"../../results/emcee\",\n",
    "            item = i)\n",
    "        print()\n",
    "    except FileNotFoundError:\n",
    "        pass\n",
    "#         print(f\"No result for {i}\")\n",
    "#     print()"
   ]
  },
  {
   "cell_type": "code",
   "execution_count": null,
   "metadata": {},
   "outputs": [],
   "source": [
    "results.keys()\n",
    "# ?dddm.load_chain_emcee"
   ]
  },
  {
   "cell_type": "code",
   "execution_count": null,
   "metadata": {},
   "outputs": [],
   "source": [
    "selected_keys = []\n",
    "for i in results.keys():\n",
    "#     if results[i]['config']['detector'] == \"Ge\":\n",
    "#         path = \"../results/emcee_restart\" + str(i)\n",
    "#         print(path)\n",
    "#         !rm -r $path\n",
    "        \n",
    "#         print(i, \",\")\n",
    "    if results[i]['config']['notes'] == '14nov_notmerged':\n",
    "        print(i, results[i]['config']['notes'])\n",
    "        selected_keys.append(i)\n",
    "selected_keys"
   ]
  },
  {
   "cell_type": "code",
   "execution_count": null,
   "metadata": {
    "scrolled": false
   },
   "outputs": [],
   "source": [
    "for key in results.keys():\n",
    "# for key in selected_keys:\n",
    "    result = results[key]   \n",
    "    if 'migd' in result['config']['notes']:\n",
    "        print(f\"---{key}---\")\n",
    "        print(result['config']['det_params']['name'])\n",
    "        path = f\"../results/emcee{key}\"\n",
    "#         !rm -r $path\n",
    "        dddm.emcee_plots(result, save = f\"../results/emcee{key}/\")"
   ]
  },
  {
   "cell_type": "code",
   "execution_count": null,
   "metadata": {},
   "outputs": [],
   "source": [
    "np.shape(results[0]['flat_chain']), np.shape(results[0]['full_chain'])\n"
   ]
  },
  {
   "cell_type": "code",
   "execution_count": null,
   "metadata": {},
   "outputs": [],
   "source": [
    "6000*0.2"
   ]
  },
  {
   "cell_type": "code",
   "execution_count": null,
   "metadata": {},
   "outputs": [],
   "source": [
    "import multihist as mh"
   ]
  },
  {
   "cell_type": "code",
   "execution_count": null,
   "metadata": {},
   "outputs": [],
   "source": [
    "# np.shape(np.random.normal(1, 1, 10**6))"
   ]
  },
  {
   "cell_type": "code",
   "execution_count": null,
   "metadata": {},
   "outputs": [],
   "source": [
    "# Create and show a 2d histogram. Axis names are optional.\n",
    "m2 = mh.Histdd(bins=45, range=[[1, 3], [-45.5, -44.3]], axis_names=['x', 'y'])\n",
    "for i in [42,41,43]:\n",
    "    m2.add(*results[i]['flat_chain'].T[:2])\n",
    "counts = m2.histogram\n",
    "xbins, ybins = m2.bin_centers()\n",
    "cont = plt.contour(counts.transpose(),\n",
    "            extent=[xbins[0],xbins[-1],ybins[0],ybins[-1]],\n",
    "    linewidths=1, cmap = plt.cm.rainbow, levels = [10, 50, 99])\n",
    "\n",
    "artists, labels = cont.legend_elements()\n",
    "plt.legend(artists, labels, handleheight=2, loc = \"lower right\")\n",
    "\n",
    "plt.axvline(np.log10(25), c = 'r', alpha = 0.5, linestyle = '--')\n",
    "plt.axvline(np.log10(50), c = 'r', alpha = 0.5, linestyle = '--')\n",
    "plt.axvline(np.log10(250), c = 'r', alpha = 0.5, linestyle = '--')\n",
    "plt.axhline(-45, c = 'r', alpha = 0.5, linestyle = '--')\n",
    "# m2.add(np.random.normal(-2, 1, 10**6), np.random.normal(2, 1, 10**6))\n",
    "\n",
    "m2.plot(log_scale = True)\n",
    "\n",
    "plt.show()"
   ]
  },
  {
   "cell_type": "code",
   "execution_count": null,
   "metadata": {},
   "outputs": [],
   "source": [
    "# Create and show a 2d histogram. Axis names are optional.\n",
    "m2 = mh.Histdd(bins=45, range=[[1, 3], [-45.5, -44.3]], axis_names=['x', 'y'])\n",
    "for i in [54, 56, 55]:\n",
    "    m2.add(*results[i]['flat_chain'].T[:2])\n",
    "counts = m2.histogram\n",
    "xbins, ybins = m2.bin_centers()\n",
    "cont = plt.contour(counts.transpose(),\n",
    "            extent=[xbins[0],xbins[-1],ybins[0],ybins[-1]],\n",
    "    linewidths=1, cmap = plt.cm.rainbow, levels = [10, 50, 99])\n",
    "\n",
    "artists, labels = cont.legend_elements()\n",
    "plt.legend(artists, labels, handleheight=2, loc = \"lower right\")\n",
    "\n",
    "plt.axvline(np.log10(25), c = 'r', alpha = 0.5, linestyle = '--')\n",
    "plt.axvline(np.log10(50), c = 'r', alpha = 0.5, linestyle = '--')\n",
    "plt.axvline(np.log10(250), c = 'r', alpha = 0.5, linestyle = '--')\n",
    "plt.axhline(-45, c = 'r', alpha = 0.5, linestyle = '--')\n",
    "# m2.add(np.random.normal(-2, 1, 10**6), np.random.normal(2, 1, 10**6))\n",
    "m2.plot(log_scale = True)\n",
    "\n",
    "plt.show()"
   ]
  },
  {
   "cell_type": "code",
   "execution_count": null,
   "metadata": {},
   "outputs": [],
   "source": [
    "# Create and show a 2d histogram. Axis names are optional.\n",
    "m2 = mh.Histdd(bins=45, range=[[1, 3], [-45.5, -44.3]], axis_names=['x', 'y'])\n",
    "for i in [63, 56, 55]:\n",
    "    m2.add(*results[i]['flat_chain'].T[:2])\n",
    "counts = m2.histogram\n",
    "xbins, ybins = m2.bin_centers()\n",
    "cont = plt.contour(counts.transpose(),\n",
    "            extent=[xbins[0],xbins[-1],ybins[0],ybins[-1]],\n",
    "    linewidths=1, cmap = plt.cm.rainbow, levels = [10, 50, 99])\n",
    "\n",
    "artists, labels = cont.legend_elements()\n",
    "plt.legend(artists, labels, handleheight=2, loc = \"lower right\")\n",
    "\n",
    "plt.axvline(np.log10(25), c = 'r', alpha = 0.5, linestyle = '--')\n",
    "plt.axvline(np.log10(50), c = 'r', alpha = 0.5, linestyle = '--')\n",
    "plt.axvline(np.log10(250), c = 'r', alpha = 0.5, linestyle = '--')\n",
    "plt.axhline(-45, c = 'r', alpha = 0.5, linestyle = '--')\n",
    "# m2.add(np.random.normal(-2, 1, 10**6), np.random.normal(2, 1, 10**6))\n",
    "m2.plot(log_scale = True)\n",
    "\n",
    "plt.show()"
   ]
  },
  {
   "cell_type": "code",
   "execution_count": null,
   "metadata": {},
   "outputs": [],
   "source": []
  },
  {
   "cell_type": "code",
   "execution_count": null,
   "metadata": {},
   "outputs": [],
   "source": []
  },
  {
   "cell_type": "code",
   "execution_count": null,
   "metadata": {},
   "outputs": [],
   "source": []
  }
 ],
 "metadata": {
  "kernelspec": {
   "display_name": "Python 3",
   "language": "python",
   "name": "python3"
  },
  "language_info": {
   "codemirror_mode": {
    "name": "ipython",
    "version": 3
   },
   "file_extension": ".py",
   "mimetype": "text/x-python",
   "name": "python",
   "nbconvert_exporter": "python",
   "pygments_lexer": "ipython3",
   "version": "3.8.2"
  }
 },
 "nbformat": 4,
 "nbformat_minor": 2
}
