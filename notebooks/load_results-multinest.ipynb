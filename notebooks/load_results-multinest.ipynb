{
 "cells": [
  {
   "cell_type": "markdown",
   "metadata": {},
   "source": [
    "# Loading results from multinest"
   ]
  },
  {
   "cell_type": "code",
   "execution_count": null,
   "metadata": {
    "scrolled": false
   },
   "outputs": [],
   "source": [
    "# Setup packages\n",
    "%run load_results_multinest.py"
   ]
  },
  {
   "cell_type": "code",
   "execution_count": null,
   "metadata": {},
   "outputs": [],
   "source": [
    "df.head(5)"
   ]
  },
  {
   "cell_type": "code",
   "execution_count": null,
   "metadata": {},
   "outputs": [],
   "source": [
    "finished = df[['mw', 'config_sigma', 'config_detector', 'n_fit_parameters', 'config_nlive', 'config_save_intermediate', 'config_earth_shielding']].copy()\n",
    "finished.to_csv('../finished_sims.csv', index=False)"
   ]
  },
  {
   "cell_type": "code",
   "execution_count": null,
   "metadata": {},
   "outputs": [],
   "source": [
    "delete_empty(no_result, False)\n"
   ]
  },
  {
   "cell_type": "code",
   "execution_count": null,
   "metadata": {},
   "outputs": [],
   "source": [
    "mask = df['config_nlive'] < 500\n",
    "df[mask]"
   ]
  },
  {
   "cell_type": "code",
   "execution_count": null,
   "metadata": {},
   "outputs": [],
   "source": [
    "delete_with_mask(df, mask)"
   ]
  },
  {
   "cell_type": "code",
   "execution_count": null,
   "metadata": {},
   "outputs": [],
   "source": []
  },
  {
   "cell_type": "code",
   "execution_count": null,
   "metadata": {
    "scrolled": false
   },
   "outputs": [],
   "source": [
    "all_notes = np.unique(df.config_notes.values)\n",
    "for note in all_notes:\n",
    "    print(f'{np.sum(df[\"config_notes\"] == note)}\\t{note}')"
   ]
  },
  {
   "cell_type": "code",
   "execution_count": null,
   "metadata": {},
   "outputs": [],
   "source": [
    "mask = df['config_notes'] == 'migdal_04_038'\n",
    "df_copy = df[~mask].copy()\n",
    "df_copy"
   ]
  },
  {
   "cell_type": "code",
   "execution_count": null,
   "metadata": {
    "scrolled": true
   },
   "outputs": [],
   "source": [
    "dfs = []\n",
    "for mass in np.unique(df_copy['mw']):\n",
    "    mask1 = df_copy['mw'] == mass\n",
    "    for sigma in np.unique(df_copy[mask1]['config_sigma']):\n",
    "        mask2 = df_copy[mask1]['config_sigma'] == sigma\n",
    "        sel3 = df_copy[mask1][mask2]['config_detector']\n",
    "        for det in np.unique(sel3):\n",
    "            mask3 = sel3 == det\n",
    "            sel4 = df_copy[mask1][mask2][mask3]['n_fit_parameters']\n",
    "            print(mass, sigma, det, '\\n\\n\\n')\n",
    "            for n_ in np.unique(sel4):\n",
    "                mask4 = sel4 == n_\n",
    "                sel5 = df_copy[mask1][mask2][mask3][mask3][mask4]['config_earth_shielding']\n",
    "                for shield in np.unique(sel5):                    \n",
    "                    mask5 = sel5 == shield\n",
    "                    sel6 = df_copy[mask1][mask2][mask3][mask3][mask4][mask5]['config_save_intermediate']\n",
    "                    for intm in np.unique(sel6):\n",
    "                        mask6 = sel6 == intm\n",
    "                        this_df = df_copy[mask1][mask2][mask3][mask3][mask4][mask5][mask6]\n",
    "#                         print(mass, sigma, det, n_, shield, intm, len(this_df))\n",
    "                        if len(this_df) > 1:\n",
    "                            del_mask = this_df_copy['config_start'] != np.max(this_df_copy['config_start'])\n",
    "                            delete_with_mask(this_df, del_mask, False)\n",
    "                            dfs.append(this_df)\n",
    "                        for k in this_df.sort_values('config_start')['item'].values:\n",
    "                            overlay_hist_confidence_info(k)"
   ]
  },
  {
   "cell_type": "code",
   "execution_count": null,
   "metadata": {
    "scrolled": false
   },
   "outputs": [],
   "source": [
    "sel_items = [70,223]\n",
    "for k in sel_items:\n",
    "    overlay_hist_confidence_info(k)"
   ]
  },
  {
   "cell_type": "code",
   "execution_count": null,
   "metadata": {},
   "outputs": [],
   "source": [
    "def get_binrange(i):\n",
    "    return results[i]['config']['prior']['log_mass']['range'],\n",
    "                     results[i]['config']['prior']['log_cross_section']['range']\n",
    "    \n",
    "def combine_posteriors(items):\n",
    "    assert len(items) == 2, 'only combine two posteriors'\n",
    "    i = \n",
    "    bin_range = []\n",
    "    two_confidence_plot(sel_items, bin_range = bin_range, text_box=True, nsigma=2, nbins=50)\n",
    "    ax = plt.gca()\n",
    "    plt.text(1.6, 1, 'ing', transform=ax.transAxes, fontsize=12, bbox=dict(facecolor=\"white\", boxstyle=\"round\"), verticalalignment='top')\n",
    "    if bin_range:\n",
    "        plt.xlim(*bin_range[0])\n",
    "        plt.ylim(*bin_range[1])"
   ]
  },
  {
   "cell_type": "code",
   "execution_count": null,
   "metadata": {},
   "outputs": [],
   "source": [
    "bin_range"
   ]
  },
  {
   "cell_type": "code",
   "execution_count": null,
   "metadata": {},
   "outputs": [],
   "source": [
    "def two_confidence_plot(items, text_box=False, bin_range=None, nsigma=2, nbins=50):\n",
    "    fig, ax = plt.subplots(figsize=(8, 6))\n",
    "    if bin_range == None:\n",
    "        bin_range = [results[items[0]]['config']['prior']['log_mass']['range'],\n",
    "                     results[items[0]]['config']['prior']['log_cross_section']['range']\n",
    "                     ]\n",
    "    hists = {}\n",
    "    for k, item in enumerate(items):  # , 78, 110\n",
    "        x, y = get_p_i(item)\n",
    "        # Make a 2d normed histogram\n",
    "        hists[k], xedges, yedges = np.histogram2d(x, y, bins=nbins, range=bin_range, normed=True)\n",
    "    H = hists[0] * hists[1]\n",
    "    if True:\n",
    "        norm = H.sum()  # Find the norm of the sum\n",
    "        # Set contour levels\n",
    "        contour3 = 0.99\n",
    "        contour2 = 0.95\n",
    "        contour1 = 0.68\n",
    "\n",
    "        # Take histogram bin membership as proportional to Likelihood\n",
    "        # This is true when data comes from a Markovian process\n",
    "        def objective(limit, target):\n",
    "            w = np.where(H > limit)\n",
    "            count = H[w]\n",
    "            return count.sum() - target\n",
    "\n",
    "        target1 = norm * contour1\n",
    "        level1 = scipy.optimize.bisect(objective, H.min(), H.max(), args=(target1,))\n",
    "        levels = [level1]\n",
    "        if nsigma > 1:\n",
    "            target2 = norm * contour2\n",
    "            level2 = scipy.optimize.bisect(objective, H.min(), H.max(), args=(target2,))\n",
    "            levels.append(level2)\n",
    "            if nsigma > 2:\n",
    "                target3 = norm * contour3\n",
    "                level3 = scipy.optimize.bisect(objective, H.min(), H.max(), args=(target3,))\n",
    "                levels.append(level3)\n",
    "            if nsigma > 3:\n",
    "                print('Nsigma too big')\n",
    "        levels.reverse()\n",
    "        levels.append(H.max())\n",
    "\n",
    "        # Find levels by summing histogram to objective\n",
    "\n",
    "        # Pass levels to normed kde plot\n",
    "        def av_levels(x):\n",
    "            return [(x[i] + x[i + 1]) / 2 for i in range(len(x) - 1)]\n",
    "\n",
    "        if levels[0] == levels[1]:\n",
    "            print(\"ERRRRRRRRR\\n\\n\")\n",
    "            print(levels)\n",
    "            levels[0] /= 1.01\n",
    "            levels = np.unique(levels)\n",
    "            print(levels)\n",
    "        sns_ax = sns.kdeplot(x, y, shade=True, ax=ax, n_levels=levels, cmap=\"viridis\", normed=True,\n",
    "                             cbar=False, vmin=levels[0], vmax=levels[-1])\n",
    "        kwargs = {}\n",
    "        if k == 0:\n",
    "            kwargs['label'] = 'best fit'\n",
    "        plt.scatter(np.mean(x), np.mean(y), c='black',\n",
    "                    marker='+', **kwargs)\n",
    "        if k == 0:\n",
    "            kwargs['label'] = 'benchmark value'\n",
    "        plt.scatter(results[item]['config']['mw'],\n",
    "                    results[item]['config']['sigma'], c='blue',\n",
    "                    marker='x',\n",
    "                    **kwargs)\n",
    "        if k == 0:\n",
    "            cbar = ax.figure.colorbar(sns_ax.collections[0])\n",
    "            cbar.set_ticks(av_levels(np.linspace(0, 1, nsigma + 1)))\n",
    "            col_labels = ['$3\\sigma$', '$2\\sigma$', '$1\\sigma$'][3 - nsigma:]\n",
    "            cbar.set_ticklabels(col_labels)\n",
    "            cbar.set_label(\"Posterior probability\")\n",
    "    \n",
    "    secax = ax.secondary_xaxis('top', functions=(pow10, np.log10))\n",
    "    \n",
    "    if 'migd' in results[items[0]]['config']['detector']:\n",
    "        x_ticks = [0.01, 0.1, 1, 3, 5]\n",
    "    else:\n",
    "        x_ticks = [15, 25, 50, 100, 250, 500, 1000]\n",
    "    for x_tick in x_ticks:\n",
    "        ax.axvline(np.log10(x_tick), alpha=0.1)\n",
    "    secax.set_ticks(x_ticks)\n",
    "    plt.xlim(np.log10(x_ticks[0]), np.log10(x_ticks[-1]))\n",
    "    plt.xlabel(\"$\\log_{10}(M_{\\chi}$ $[GeV/c^{2}]$)\")\n",
    "    secax.set_xlabel(\"$M_{\\chi}$ $[GeV/c^{2}]$\")\n",
    "    plt.ylabel(\"$\\log_{10}(\\sigma_{S.I.}$ $[cm^{2}]$)\")\n",
    "    plt.legend(loc='upper right')\n",
    "\n",
    "    if text_box:\n",
    "        plt.text(0.05, 0.95, text_box, transform=ax.transAxes, alpha=0.5,\n",
    "                 bbox=dict(facecolor=\"white\", boxstyle=\"round\"))"
   ]
  },
  {
   "cell_type": "code",
   "execution_count": null,
   "metadata": {},
   "outputs": [],
   "source": []
  },
  {
   "cell_type": "code",
   "execution_count": null,
   "metadata": {},
   "outputs": [],
   "source": []
  },
  {
   "cell_type": "code",
   "execution_count": null,
   "metadata": {
    "scrolled": true
   },
   "outputs": [],
   "source": [
    "del_mask = (df.config_detector == 'Xe_migd')\n",
    "df[del_mask]\n",
    "delete_with_mask(df, del_mask, False)"
   ]
  },
  {
   "cell_type": "code",
   "execution_count": null,
   "metadata": {
    "scrolled": true
   },
   "outputs": [],
   "source": [
    "for k in tqdm(np.flip(df_copy.sort_values('config_start')['item'].values)):\n",
    "    overlay_hist_confidence_info(k)\n",
    "    "
   ]
  },
  {
   "cell_type": "code",
   "execution_count": null,
   "metadata": {
    "scrolled": true
   },
   "outputs": [],
   "source": [
    "for k in df_copy['item'].values:\n",
    "    overlay_hist_confidence_info(k)\n",
    "    \n",
    "# assert False"
   ]
  },
  {
   "cell_type": "code",
   "execution_count": null,
   "metadata": {
    "scrolled": false
   },
   "outputs": [],
   "source": [
    "earth_shielding = df[(df['config_earth_shielding'] == True) & (df['config_detector'] == 'Xe_migd_bg')]\n",
    "for i in earth_shielding['item'].values:\n",
    "    overlay_hist_confidence_info(i)"
   ]
  },
  {
   "cell_type": "code",
   "execution_count": null,
   "metadata": {},
   "outputs": [],
   "source": []
  },
  {
   "cell_type": "code",
   "execution_count": null,
   "metadata": {},
   "outputs": [],
   "source": []
  },
  {
   "cell_type": "code",
   "execution_count": null,
   "metadata": {},
   "outputs": [],
   "source": [
    "0\n"
   ]
  },
  {
   "cell_type": "code",
   "execution_count": null,
   "metadata": {},
   "outputs": [],
   "source": []
  },
  {
   "cell_type": "code",
   "execution_count": null,
   "metadata": {},
   "outputs": [],
   "source": []
  },
  {
   "cell_type": "code",
   "execution_count": null,
   "metadata": {},
   "outputs": [],
   "source": []
  },
  {
   "cell_type": "code",
   "execution_count": null,
   "metadata": {},
   "outputs": [],
   "source": []
  },
  {
   "cell_type": "code",
   "execution_count": null,
   "metadata": {},
   "outputs": [],
   "source": []
  },
  {
   "cell_type": "code",
   "execution_count": null,
   "metadata": {},
   "outputs": [],
   "source": []
  },
  {
   "cell_type": "code",
   "execution_count": null,
   "metadata": {},
   "outputs": [],
   "source": []
  },
  {
   "cell_type": "code",
   "execution_count": null,
   "metadata": {},
   "outputs": [],
   "source": []
  },
  {
   "cell_type": "code",
   "execution_count": null,
   "metadata": {},
   "outputs": [],
   "source": []
  },
  {
   "cell_type": "code",
   "execution_count": null,
   "metadata": {},
   "outputs": [],
   "source": []
  },
  {
   "cell_type": "code",
   "execution_count": null,
   "metadata": {},
   "outputs": [],
   "source": []
  },
  {
   "cell_type": "code",
   "execution_count": null,
   "metadata": {},
   "outputs": [],
   "source": []
  },
  {
   "cell_type": "code",
   "execution_count": null,
   "metadata": {},
   "outputs": [],
   "source": []
  },
  {
   "cell_type": "code",
   "execution_count": null,
   "metadata": {},
   "outputs": [],
   "source": []
  },
  {
   "cell_type": "code",
   "execution_count": null,
   "metadata": {},
   "outputs": [],
   "source": []
  },
  {
   "cell_type": "code",
   "execution_count": null,
   "metadata": {},
   "outputs": [],
   "source": []
  },
  {
   "cell_type": "code",
   "execution_count": null,
   "metadata": {},
   "outputs": [],
   "source": []
  },
  {
   "cell_type": "code",
   "execution_count": null,
   "metadata": {},
   "outputs": [],
   "source": []
  },
  {
   "cell_type": "code",
   "execution_count": null,
   "metadata": {},
   "outputs": [],
   "source": []
  },
  {
   "cell_type": "code",
   "execution_count": null,
   "metadata": {},
   "outputs": [],
   "source": [
    "i = 0\n",
    "while True:\n",
    "    i+=1\n",
    "    if i<10:\n",
    "        continue\n",
    "    print(i)\n",
    "    if i > 100:\n",
    "        break\n",
    "    "
   ]
  },
  {
   "cell_type": "code",
   "execution_count": null,
   "metadata": {},
   "outputs": [],
   "source": []
  },
  {
   "cell_type": "code",
   "execution_count": null,
   "metadata": {},
   "outputs": [],
   "source": []
  },
  {
   "cell_type": "code",
   "execution_count": null,
   "metadata": {},
   "outputs": [],
   "source": []
  }
 ],
 "metadata": {
  "kernelspec": {
   "display_name": "Python 3",
   "language": "python",
   "name": "python3"
  },
  "language_info": {
   "codemirror_mode": {
    "name": "ipython",
    "version": 3
   },
   "file_extension": ".py",
   "mimetype": "text/x-python",
   "name": "python",
   "nbconvert_exporter": "python",
   "pygments_lexer": "ipython3",
   "version": "3.8.1"
  }
 },
 "nbformat": 4,
 "nbformat_minor": 2
}
