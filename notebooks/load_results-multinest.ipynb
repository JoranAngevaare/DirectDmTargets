{
 "cells": [
  {
   "cell_type": "markdown",
   "metadata": {},
   "source": [
    "# Loading results from multinest"
   ]
  },
  {
   "cell_type": "code",
   "execution_count": null,
   "metadata": {
    "scrolled": false
   },
   "outputs": [],
   "source": [
    "# Setup packages\n",
    "%run load_results_multinest.py"
   ]
  },
  {
   "cell_type": "code",
   "execution_count": null,
   "metadata": {},
   "outputs": [],
   "source": [
    "df.head(5)"
   ]
  },
  {
   "cell_type": "code",
   "execution_count": null,
   "metadata": {},
   "outputs": [],
   "source": [
    "finished = df[['mw', 'config_sigma', 'config_detector', 'n_fit_parameters', 'config_nlive', 'config_save_intermediate', 'config_earth_shielding']].copy()\n",
    "finished.to_csv('../finished_sims.csv', index=False)"
   ]
  },
  {
   "cell_type": "code",
   "execution_count": null,
   "metadata": {},
   "outputs": [],
   "source": [
    "delete_empty(no_result)"
   ]
  },
  {
   "cell_type": "code",
   "execution_count": null,
   "metadata": {},
   "outputs": [],
   "source": [
    "mask = df['config_nlive'] < 500\n",
    "df[mask]"
   ]
  },
  {
   "cell_type": "code",
   "execution_count": null,
   "metadata": {},
   "outputs": [],
   "source": [
    "delete_with_mask(df, mask)"
   ]
  },
  {
   "cell_type": "code",
   "execution_count": null,
   "metadata": {},
   "outputs": [],
   "source": []
  },
  {
   "cell_type": "code",
   "execution_count": null,
   "metadata": {
    "scrolled": false
   },
   "outputs": [],
   "source": [
    "all_notes = np.unique(df.config_notes.values)\n",
    "for note in all_notes:\n",
    "    print(f'{np.sum(df[\"config_notes\"] == note)}\\t{note}')"
   ]
  },
  {
   "cell_type": "code",
   "execution_count": null,
   "metadata": {},
   "outputs": [],
   "source": [
    "mask = df['config_notes'] == 'migdal_04_038'\n",
    "df_copy = df[~mask].copy()\n",
    "df_copy"
   ]
  },
  {
   "cell_type": "code",
   "execution_count": null,
   "metadata": {
    "scrolled": true
   },
   "outputs": [],
   "source": [
    "dfs = []\n",
    "for mass in np.unique(df_copy['mw']):\n",
    "    mask1 = df_copy['mw'] == mass\n",
    "    for sigma in np.unique(df_copy[mask1]['config_sigma']):\n",
    "        mask2 = df_copy[mask1]['config_sigma'] == sigma\n",
    "        sel3 = df_copy[mask1][mask2]['config_detector']\n",
    "        for det in np.unique(sel3):\n",
    "            mask3 = sel3 == det\n",
    "            sel4 = df_copy[mask1][mask2][mask3]['n_fit_parameters']\n",
    "            print(mass, sigma, det, '\\n\\n\\n')\n",
    "            for n_ in np.unique(sel4):\n",
    "                mask4 = sel4 == n_\n",
    "                sel5 = df_copy[mask1][mask2][mask3][mask3][mask4]['config_earth_shielding']\n",
    "                for shield in np.unique(sel5):                    \n",
    "                    mask5 = sel5 == shield\n",
    "                    sel6 = df_copy[mask1][mask2][mask3][mask3][mask4][mask5]['config_save_intermediate']\n",
    "                    for intm in np.unique(sel6):\n",
    "                        mask6 = sel6 == intm\n",
    "                        this_df = df_copy[mask1][mask2][mask3][mask3][mask4][mask5][mask6]\n",
    "#                         print(mass, sigma, det, n_, shield, intm, len(this_df))\n",
    "                        if len(this_df) > 1:\n",
    "                            del_mask = this_df_copy['config_start'] != np.max(this_df_copy['config_start'])\n",
    "#                             delete_with_mask(this_df, del_mask, True)\n",
    "                            dfs.append(this_df)\n",
    "#                         for k in this_df.sort_values('config_start')['item'].values:\n",
    "#                             overlay_hist_confidence_info(k)"
   ]
  },
  {
   "cell_type": "code",
   "execution_count": null,
   "metadata": {
    "scrolled": false
   },
   "outputs": [],
   "source": [
    "dfs = []\n",
    "for mass in np.unique(df_copy['mw']):\n",
    "    mask1 = df_copy['mw'] == mass\n",
    "    for sigma in np.unique(df_copy[mask1]['config_sigma']):\n",
    "        mask2 = df_copy[mask1]['config_sigma'] == sigma\n",
    "        sel3 = df_copy[mask1][mask2]['config_detector']\n",
    "        for det in np.unique(sel3):\n",
    "            mask3 = sel3 == det\n",
    "            sel4 = df_copy[mask1][mask2][mask3]['n_fit_parameters']\n",
    "            print(mass, sigma, det, '\\n\\n\\n')\n",
    "            for n_ in np.unique(sel4):\n",
    "                mask4 = sel4 == n_\n",
    "                sel5 = df_copy[mask1][mask2][mask3][mask3][mask4]['config_earth_shielding']\n",
    "                for shield in np.unique(sel5):                    \n",
    "                    mask5 = sel5 == shield\n",
    "                    sel6 = df_copy[mask1][mask2][mask3][mask3][mask4][mask5]['config_save_intermediate']\n",
    "                    for intm in np.unique(sel6):\n",
    "                        mask6 = sel6 == intm\n",
    "                        this_df = df_copy[mask1][mask2][mask3][mask3][mask4][mask5][mask6]\n",
    "                        if len(this_df) > 1:\n",
    "                            del_mask = this_df_copy['config_start'] != np.max(this_df_copy['config_start'])\n",
    "                            # delete_with_mask(this_df, del_mask, True)\n",
    "                            dfs.append(this_df)\n",
    "                        df_iZIP = this_df[this_df['config_detector'] == 'Ge_migd_iZIP_bg']\n",
    "                        for item in df_iZIP['item'].values:\n",
    "                            print('Ge')\n",
    "                            other_item = match_other_item(item)\n",
    "                            print(item, other_item)\n",
    "                            if other_item:\n",
    "                                sel_items = [item, match_other_item(item)]\n",
    "                                two_confidence_plot(sel_items, nbins = 200, smoothing = True)\n",
    "                                plt.show()\n",
    "                            else:\n",
    "                                sel_items = [item]\n",
    "                                one_confidence_plot(item)\n",
    "                                plt.show()\n",
    "\n",
    "                            print('Xe')\n",
    "                            diff_det = match_other_item(item, diff_det_type = True)\n",
    "                            if np.isscalar(diff_det):\n",
    "                                print(diff_det)\n",
    "                                bin_range = get_binrange(diff_det)\n",
    "                                print(bin_range)\n",
    "                                one_confidence_plot(diff_det)\n",
    "                                plt.xlim(*bin_range[0]), plt.ylim(*bin_range[1])\n",
    "                                plt.show()\n",
    "                                "
   ]
  },
  {
   "cell_type": "code",
   "execution_count": null,
   "metadata": {
    "scrolled": true
   },
   "outputs": [],
   "source": [
    "# df_iZIP = df_copy[df_copy['config_detector'] == 'Ge_migd_iZIP_bg']\n",
    "\n",
    "# for item in df_iZIP['item'].values:\n",
    "#     print('Ge')\n",
    "#     other_item = match_other_item(item)\n",
    "#     print(item, other_item)\n",
    "#     if other_item:\n",
    "#         sel_items = [item, match_other_item(item)]\n",
    "#     else:\n",
    "#         sel_items = [item]\n",
    "#     print(sel_items)\n",
    "#     bin_range = get_binrange(item)\n",
    "#     two_confidence_plot(sel_items, bin_range=bin_range, nbins = 200, smoothing = True)\n",
    "#     plt.xlim(*bin_range[0]), plt.ylim(*bin_range[1])\n",
    "#     plt.show()\n",
    "    \n",
    "#     print('Xe')\n",
    "#     diff_det = match_other_item(item, diff_det_type = True)\n",
    "#     if diff_det:\n",
    "#         print(diff_det)\n",
    "#         bin_range = get_binrange(diff_det)\n",
    "#         print(bin_range)\n",
    "#         two_confidence_plot([diff_det], bin_range=bin_range, nbins = 200, smoothing = True)\n",
    "#         plt.xlim(*bin_range[0]), plt.ylim(*bin_range[1])\n",
    "#         plt.show()"
   ]
  }
 ],
 "metadata": {
  "kernelspec": {
   "display_name": "Python 3",
   "language": "python",
   "name": "python3"
  },
  "language_info": {
   "codemirror_mode": {
    "name": "ipython",
    "version": 3
   },
   "file_extension": ".py",
   "mimetype": "text/x-python",
   "name": "python",
   "nbconvert_exporter": "python",
   "pygments_lexer": "ipython3",
   "version": "3.8.0"
  }
 },
 "nbformat": 4,
 "nbformat_minor": 2
}
