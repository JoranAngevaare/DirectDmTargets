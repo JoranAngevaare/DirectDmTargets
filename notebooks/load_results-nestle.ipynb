{
 "cells": [
  {
   "cell_type": "markdown",
   "metadata": {},
   "source": [
    "# Loading results"
   ]
  },
  {
   "cell_type": "code",
   "execution_count": 1,
   "metadata": {},
   "outputs": [
    {
     "name": "stdout",
     "output_type": "stream",
     "text": [
      "calculating effective efficiency for Xe detector done\n",
      "calculating effective efficiency for Ar detector done\n",
      "calculating effective efficiency for Ge detector done\n"
     ]
    }
   ],
   "source": [
    "import DirectDmTargets as dddm"
   ]
  },
  {
   "cell_type": "code",
   "execution_count": 2,
   "metadata": {},
   "outputs": [],
   "source": [
    "import corner"
   ]
  },
  {
   "cell_type": "code",
   "execution_count": 3,
   "metadata": {},
   "outputs": [],
   "source": [
    "import matplotlib.pyplot as plt"
   ]
  },
  {
   "cell_type": "code",
   "execution_count": 4,
   "metadata": {},
   "outputs": [],
   "source": [
    "import numpy as np"
   ]
  },
  {
   "cell_type": "code",
   "execution_count": 5,
   "metadata": {},
   "outputs": [],
   "source": [
    "import os"
   ]
  },
  {
   "cell_type": "code",
   "execution_count": 6,
   "metadata": {},
   "outputs": [],
   "source": [
    "import multihist as mh"
   ]
  },
  {
   "cell_type": "code",
   "execution_count": 7,
   "metadata": {},
   "outputs": [],
   "source": [
    "import seaborn as sns\n",
    "import matplotlib.pyplot as plt\n",
    "import pandas as pd\n",
    "from itertools import cycle\n",
    "# import numpy as np\n",
    "import scipy.optimize\n",
    "# import matplotlib.pyplot as plt\n",
    "# import seaborn as sns"
   ]
  },
  {
   "cell_type": "code",
   "execution_count": 8,
   "metadata": {
    "scrolled": true
   },
   "outputs": [
    {
     "name": "stdout",
     "output_type": "stream",
     "text": [
      "load_nestle_samples::\tloading results/../../results/nestle_17nov0/\n",
      "load_nestle_samples::\tdone loading\n",
      "access result with:\n",
      "['config', 'res_dict', 'h', 'logl', 'logvol', 'logz', 'logzerr', 'ncall', 'niter', 'samples', 'weights']\n",
      "\n",
      "load_nestle_samples::\tloading results/../../results/nestle_17nov12/\n",
      "load_nestle_samples::\tdone loading\n",
      "access result with:\n",
      "['config', 'res_dict', 'h', 'logl', 'logvol', 'logz', 'logzerr', 'ncall', 'niter', 'samples', 'weights']\n",
      "\n",
      "load_nestle_samples::\tloading results/../../results/nestle_17nov13/\n",
      "load_nestle_samples::\tdone loading\n",
      "access result with:\n",
      "['config', 'res_dict', 'h', 'logl', 'logvol', 'logz', 'logzerr', 'ncall', 'niter', 'samples', 'weights']\n",
      "\n",
      "load_nestle_samples::\tloading results/../../results/nestle_17nov14/\n",
      "load_nestle_samples::\tdone loading\n",
      "access result with:\n",
      "['config', 'res_dict', 'h', 'logl', 'logvol', 'logz', 'logzerr', 'ncall', 'niter', 'samples', 'weights']\n",
      "\n",
      "load_nestle_samples::\tloading results/../../results/nestle_17nov15/\n",
      "load_nestle_samples::\tdone loading\n",
      "access result with:\n",
      "['config', 'res_dict', 'h', 'logl', 'logvol', 'logz', 'logzerr', 'ncall', 'niter', 'samples', 'weights']\n",
      "\n",
      "load_nestle_samples::\tloading results/../../results/nestle_17nov16/\n",
      "load_nestle_samples::\tdone loading\n",
      "access result with:\n",
      "['config', 'res_dict', 'h', 'logl', 'logvol', 'logz', 'logzerr', 'ncall', 'niter', 'samples', 'weights']\n",
      "\n",
      "load_nestle_samples::\tloading results/../../results/nestle_17nov17/\n",
      "load_nestle_samples::\tdone loading\n",
      "access result with:\n",
      "['config', 'res_dict', 'h', 'logl', 'logvol', 'logz', 'logzerr', 'ncall', 'niter', 'samples', 'weights']\n",
      "\n",
      "load_nestle_samples::\tloading results/../../results/nestle_17nov18/\n",
      "load_nestle_samples::\tdone loading\n",
      "access result with:\n",
      "['config', 'res_dict', 'h', 'logl', 'logvol', 'logz', 'logzerr', 'ncall', 'niter', 'samples', 'weights']\n",
      "\n",
      "load_nestle_samples::\tloading results/../../results/nestle_17nov19/\n",
      "load_nestle_samples::\tdone loading\n",
      "access result with:\n",
      "['config', 'res_dict', 'h', 'logl', 'logvol', 'logz', 'logzerr', 'ncall', 'niter', 'samples', 'weights']\n",
      "\n",
      "load_nestle_samples::\tloading results/../../results/nestle_17nov20/\n",
      "load_nestle_samples::\tdone loading\n",
      "access result with:\n",
      "['config', 'res_dict', 'h', 'logl', 'logvol', 'logz', 'logzerr', 'ncall', 'niter', 'samples', 'weights']\n",
      "\n",
      "load_nestle_samples::\tloading results/../../results/nestle_17nov21/\n",
      "load_nestle_samples::\tdone loading\n",
      "access result with:\n",
      "['config', 'res_dict', 'h', 'logl', 'logvol', 'logz', 'logzerr', 'ncall', 'niter', 'samples', 'weights']\n",
      "\n",
      "load_nestle_samples::\tloading results/../../results/nestle_17nov22/\n",
      "load_nestle_samples::\tdone loading\n",
      "access result with:\n",
      "['config', 'res_dict', 'h', 'logl', 'logvol', 'logz', 'logzerr', 'ncall', 'niter', 'samples', 'weights']\n",
      "\n",
      "load_nestle_samples::\tloading results/../../results/nestle_17nov23/\n",
      "load_nestle_samples::\tdone loading\n",
      "access result with:\n",
      "['config', 'res_dict', 'h', 'logl', 'logvol', 'logz', 'logzerr', 'ncall', 'niter', 'samples', 'weights']\n",
      "\n",
      "load_nestle_samples::\tloading results/../../results/nestle_17nov24/\n",
      "load_nestle_samples::\tdone loading\n",
      "access result with:\n",
      "['config', 'res_dict', 'h', 'logl', 'logvol', 'logz', 'logzerr', 'ncall', 'niter', 'samples', 'weights']\n",
      "\n",
      "load_nestle_samples::\tloading results/../../results/nestle_17nov25/\n",
      "load_nestle_samples::\tdone loading\n",
      "access result with:\n",
      "['config', 'res_dict', 'h', 'logl', 'logvol', 'logz', 'logzerr', 'ncall', 'niter', 'samples', 'weights']\n",
      "\n",
      "load_nestle_samples::\tloading results/../../results/nestle_17nov26/\n",
      "load_nestle_samples::\tdone loading\n",
      "access result with:\n",
      "['config', 'res_dict', 'h', 'logl', 'logvol', 'logz', 'logzerr', 'ncall', 'niter', 'samples', 'weights']\n",
      "\n",
      "load_nestle_samples::\tloading results/../../results/nestle_17nov27/\n",
      "load_nestle_samples::\tdone loading\n",
      "access result with:\n",
      "['config', 'res_dict', 'h', 'logl', 'logvol', 'logz', 'logzerr', 'ncall', 'niter', 'samples', 'weights']\n",
      "\n",
      "load_nestle_samples::\tloading results/../../results/nestle_17nov28/\n",
      "load_nestle_samples::\tdone loading\n",
      "access result with:\n",
      "['config', 'res_dict', 'h', 'logl', 'logvol', 'logz', 'logzerr', 'ncall', 'niter', 'samples', 'weights']\n",
      "\n",
      "load_nestle_samples::\tloading results/../../results/nestle_17nov29/\n",
      "load_nestle_samples::\tdone loading\n",
      "access result with:\n",
      "['config', 'res_dict', 'h', 'logl', 'logvol', 'logz', 'logzerr', 'ncall', 'niter', 'samples', 'weights']\n",
      "\n",
      "load_nestle_samples::\tloading results/../../results/nestle_17nov30/\n",
      "load_nestle_samples::\tdone loading\n",
      "access result with:\n",
      "['config', 'res_dict', 'h', 'logl', 'logvol', 'logz', 'logzerr', 'ncall', 'niter', 'samples', 'weights']\n",
      "\n",
      "load_nestle_samples::\tloading results/../../results/nestle_17nov31/\n",
      "load_nestle_samples::\tdone loading\n",
      "access result with:\n",
      "['config', 'res_dict', 'h', 'logl', 'logvol', 'logz', 'logzerr', 'ncall', 'niter', 'samples', 'weights']\n",
      "\n",
      "load_nestle_samples::\tloading results/../../results/nestle_17nov32/\n",
      "load_nestle_samples::\tdone loading\n",
      "access result with:\n",
      "['config', 'res_dict', 'h', 'logl', 'logvol', 'logz', 'logzerr', 'ncall', 'niter', 'samples', 'weights']\n",
      "\n",
      "load_nestle_samples::\tloading results/../../results/nestle_17nov33/\n",
      "load_nestle_samples::\tdone loading\n",
      "access result with:\n",
      "['config', 'res_dict', 'h', 'logl', 'logvol', 'logz', 'logzerr', 'ncall', 'niter', 'samples', 'weights']\n",
      "\n",
      "load_nestle_samples::\tloading results/../../results/nestle_17nov34/\n",
      "load_nestle_samples::\tdone loading\n",
      "access result with:\n",
      "['config', 'res_dict', 'h', 'logl', 'logvol', 'logz', 'logzerr', 'ncall', 'niter', 'samples', 'weights']\n",
      "\n",
      "load_nestle_samples::\tloading results/../../results/nestle_17nov35/\n",
      "load_nestle_samples::\tdone loading\n",
      "access result with:\n",
      "['config', 'res_dict', 'h', 'logl', 'logvol', 'logz', 'logzerr', 'ncall', 'niter', 'samples', 'weights']\n",
      "\n",
      "load_nestle_samples::\tloading results/../../results/nestle_17nov36/\n",
      "load_nestle_samples::\tdone loading\n",
      "access result with:\n",
      "['config', 'res_dict', 'h', 'logl', 'logvol', 'logz', 'logzerr', 'ncall', 'niter', 'samples', 'weights']\n",
      "\n",
      "load_nestle_samples::\tloading results/../../results/nestle_17nov37/\n",
      "load_nestle_samples::\tdone loading\n",
      "access result with:\n",
      "['config', 'res_dict', 'h', 'logl', 'logvol', 'logz', 'logzerr', 'ncall', 'niter', 'samples', 'weights']\n",
      "\n",
      "load_nestle_samples::\tloading results/../../results/nestle_17nov38/\n",
      "load_nestle_samples::\tdone loading\n",
      "access result with:\n",
      "['config', 'res_dict', 'h', 'logl', 'logvol', 'logz', 'logzerr', 'ncall', 'niter', 'samples', 'weights']\n",
      "\n",
      "load_nestle_samples::\tloading results/../../results/nestle_17nov39/\n",
      "load_nestle_samples::\tdone loading\n",
      "access result with:\n",
      "['config', 'res_dict', 'h', 'logl', 'logvol', 'logz', 'logzerr', 'ncall', 'niter', 'samples', 'weights']\n",
      "\n",
      "load_nestle_samples::\tloading results/../../results/nestle_17nov40/\n",
      "load_nestle_samples::\tdone loading\n",
      "access result with:\n",
      "['config', 'res_dict', 'h', 'logl', 'logvol', 'logz', 'logzerr', 'ncall', 'niter', 'samples', 'weights']\n",
      "\n",
      "load_nestle_samples::\tloading results/../../results/nestle_17nov41/\n",
      "load_nestle_samples::\tdone loading\n",
      "access result with:\n",
      "['config', 'res_dict', 'h', 'logl', 'logvol', 'logz', 'logzerr', 'ncall', 'niter', 'samples', 'weights']\n",
      "\n",
      "load_nestle_samples::\tloading results/../../results/nestle_17nov42/\n",
      "load_nestle_samples::\tdone loading\n",
      "access result with:\n",
      "['config', 'res_dict', 'h', 'logl', 'logvol', 'logz', 'logzerr', 'ncall', 'niter', 'samples', 'weights']\n",
      "\n",
      "load_nestle_samples::\tloading results/../../results/nestle_17nov43/\n",
      "load_nestle_samples::\tdone loading\n",
      "access result with:\n",
      "['config', 'res_dict', 'h', 'logl', 'logvol', 'logz', 'logzerr', 'ncall', 'niter', 'samples', 'weights']\n",
      "\n",
      "load_nestle_samples::\tloading results/../../results/nestle_17nov44/\n",
      "load_nestle_samples::\tdone loading\n",
      "access result with:\n",
      "['config', 'res_dict', 'h', 'logl', 'logvol', 'logz', 'logzerr', 'ncall', 'niter', 'samples', 'weights']\n",
      "\n",
      "load_nestle_samples::\tloading results/../../results/nestle_17nov45/\n",
      "load_nestle_samples::\tdone loading\n",
      "access result with:\n",
      "['config', 'res_dict', 'h', 'logl', 'logvol', 'logz', 'logzerr', 'ncall', 'niter', 'samples', 'weights']\n",
      "\n",
      "load_nestle_samples::\tloading results/../../results/nestle_17nov46/\n",
      "load_nestle_samples::\tdone loading\n",
      "access result with:\n",
      "['config', 'res_dict', 'h', 'logl', 'logvol', 'logz', 'logzerr', 'ncall', 'niter', 'samples', 'weights']\n",
      "\n",
      "load_nestle_samples::\tloading results/../../results/nestle_17nov47/\n",
      "load_nestle_samples::\tdone loading\n",
      "access result with:\n",
      "['config', 'res_dict', 'h', 'logl', 'logvol', 'logz', 'logzerr', 'ncall', 'niter', 'samples', 'weights']\n",
      "\n",
      "load_nestle_samples::\tloading results/../../results/nestle_17nov48/\n",
      "load_nestle_samples::\tdone loading\n",
      "access result with:\n",
      "['config', 'res_dict', 'h', 'logl', 'logvol', 'logz', 'logzerr', 'ncall', 'niter', 'samples', 'weights']\n",
      "\n",
      "load_nestle_samples::\tloading results/../../results/nestle_17nov49/\n",
      "load_nestle_samples::\tdone loading\n",
      "access result with:\n",
      "['config', 'res_dict', 'h', 'logl', 'logvol', 'logz', 'logzerr', 'ncall', 'niter', 'samples', 'weights']\n",
      "\n",
      "load_nestle_samples::\tloading results/../../results/nestle_17nov50/\n"
     ]
    },
    {
     "name": "stdout",
     "output_type": "stream",
     "text": [
      "load_nestle_samples::\tdone loading\n",
      "access result with:\n",
      "['config', 'res_dict', 'h', 'logl', 'logvol', 'logz', 'logzerr', 'ncall', 'niter', 'samples', 'weights']\n",
      "\n",
      "load_nestle_samples::\tloading results/../../results/nestle_17nov51/\n",
      "load_nestle_samples::\tdone loading\n",
      "access result with:\n",
      "['config', 'res_dict', 'h', 'logl', 'logvol', 'logz', 'logzerr', 'ncall', 'niter', 'samples', 'weights']\n",
      "\n",
      "load_nestle_samples::\tloading results/../../results/nestle_17nov52/\n",
      "load_nestle_samples::\tdone loading\n",
      "access result with:\n",
      "['config', 'res_dict', 'h', 'logl', 'logvol', 'logz', 'logzerr', 'ncall', 'niter', 'samples', 'weights']\n",
      "\n",
      "load_nestle_samples::\tloading results/../../results/nestle_17nov53/\n",
      "load_nestle_samples::\tdone loading\n",
      "access result with:\n",
      "['config', 'res_dict', 'h', 'logl', 'logvol', 'logz', 'logzerr', 'ncall', 'niter', 'samples', 'weights']\n",
      "\n",
      "load_nestle_samples::\tloading results/../../results/nestle_17nov54/\n",
      "load_nestle_samples::\tdone loading\n",
      "access result with:\n",
      "['config', 'res_dict', 'h', 'logl', 'logvol', 'logz', 'logzerr', 'ncall', 'niter', 'samples', 'weights']\n",
      "\n",
      "load_nestle_samples::\tloading results/../../results/nestle_17nov55/\n",
      "load_nestle_samples::\tdone loading\n",
      "access result with:\n",
      "['config', 'res_dict', 'h', 'logl', 'logvol', 'logz', 'logzerr', 'ncall', 'niter', 'samples', 'weights']\n",
      "\n",
      "load_nestle_samples::\tloading results/../../results/nestle_17nov56/\n",
      "load_nestle_samples::\tdone loading\n",
      "access result with:\n",
      "['config', 'res_dict', 'h', 'logl', 'logvol', 'logz', 'logzerr', 'ncall', 'niter', 'samples', 'weights']\n",
      "\n",
      "load_nestle_samples::\tloading results/../../results/nestle_17nov57/\n",
      "load_nestle_samples::\tdone loading\n",
      "access result with:\n",
      "['config', 'res_dict', 'h', 'logl', 'logvol', 'logz', 'logzerr', 'ncall', 'niter', 'samples', 'weights']\n",
      "\n",
      "load_nestle_samples::\tloading results/../../results/nestle_17nov58/\n",
      "load_nestle_samples::\tdone loading\n",
      "access result with:\n",
      "['config', 'res_dict', 'h', 'logl', 'logvol', 'logz', 'logzerr', 'ncall', 'niter', 'samples', 'weights']\n",
      "\n",
      "load_nestle_samples::\tloading results/../../results/nestle_17nov59/\n",
      "load_nestle_samples::\tdone loading\n",
      "access result with:\n",
      "['config', 'res_dict', 'h', 'logl', 'logvol', 'logz', 'logzerr', 'ncall', 'niter', 'samples', 'weights']\n",
      "\n",
      "load_nestle_samples::\tloading results/../../results/nestle_17nov60/\n",
      "load_nestle_samples::\tdone loading\n",
      "access result with:\n",
      "['config', 'res_dict', 'h', 'logl', 'logvol', 'logz', 'logzerr', 'ncall', 'niter', 'samples', 'weights']\n",
      "\n",
      "load_nestle_samples::\tloading results/../../results/nestle_17nov61/\n",
      "load_nestle_samples::\tdone loading\n",
      "access result with:\n",
      "['config', 'res_dict', 'h', 'logl', 'logvol', 'logz', 'logzerr', 'ncall', 'niter', 'samples', 'weights']\n",
      "\n",
      "load_nestle_samples::\tloading results/../../results/nestle_17nov62/\n",
      "load_nestle_samples::\tdone loading\n",
      "access result with:\n",
      "['config', 'res_dict', 'h', 'logl', 'logvol', 'logz', 'logzerr', 'ncall', 'niter', 'samples', 'weights']\n",
      "\n",
      "load_nestle_samples::\tloading results/../../results/nestle_17nov63/\n",
      "load_nestle_samples::\tdone loading\n",
      "access result with:\n",
      "['config', 'res_dict', 'h', 'logl', 'logvol', 'logz', 'logzerr', 'ncall', 'niter', 'samples', 'weights']\n",
      "\n",
      "load_nestle_samples::\tloading results/../../results/nestle_17nov64/\n",
      "load_nestle_samples::\tdone loading\n",
      "access result with:\n",
      "['config', 'res_dict', 'h', 'logl', 'logvol', 'logz', 'logzerr', 'ncall', 'niter', 'samples', 'weights']\n",
      "\n",
      "load_nestle_samples::\tloading results/../../results/nestle_17nov65/\n",
      "load_nestle_samples::\tdone loading\n",
      "access result with:\n",
      "['config', 'res_dict', 'h', 'logl', 'logvol', 'logz', 'logzerr', 'ncall', 'niter', 'samples', 'weights']\n",
      "\n",
      "load_nestle_samples::\tloading results/../../results/nestle_17nov66/\n",
      "load_nestle_samples::\tdone loading\n",
      "access result with:\n",
      "['config', 'res_dict', 'h', 'logl', 'logvol', 'logz', 'logzerr', 'ncall', 'niter', 'samples', 'weights']\n",
      "\n",
      "load_nestle_samples::\tloading results/../../results/nestle_17nov67/\n",
      "load_nestle_samples::\tdone loading\n",
      "access result with:\n",
      "['config', 'res_dict', 'h', 'logl', 'logvol', 'logz', 'logzerr', 'ncall', 'niter', 'samples', 'weights']\n",
      "\n",
      "load_nestle_samples::\tloading results/../../results/nestle_17nov68/\n",
      "load_nestle_samples::\tdone loading\n",
      "access result with:\n",
      "['config', 'res_dict', 'h', 'logl', 'logvol', 'logz', 'logzerr', 'ncall', 'niter', 'samples', 'weights']\n",
      "\n",
      "load_nestle_samples::\tloading results/../../results/nestle_17nov69/\n",
      "load_nestle_samples::\tdone loading\n",
      "access result with:\n",
      "['config', 'res_dict', 'h', 'logl', 'logvol', 'logz', 'logzerr', 'ncall', 'niter', 'samples', 'weights']\n",
      "\n",
      "load_nestle_samples::\tloading results/../../results/nestle_17nov70/\n",
      "load_nestle_samples::\tdone loading\n",
      "access result with:\n",
      "['config', 'res_dict', 'h', 'logl', 'logvol', 'logz', 'logzerr', 'ncall', 'niter', 'samples', 'weights']\n",
      "\n",
      "load_nestle_samples::\tloading results/../../results/nestle_17nov71/\n",
      "load_nestle_samples::\tdone loading\n",
      "access result with:\n",
      "['config', 'res_dict', 'h', 'logl', 'logvol', 'logz', 'logzerr', 'ncall', 'niter', 'samples', 'weights']\n",
      "\n",
      "load_nestle_samples::\tloading results/../../results/nestle_17nov72/\n",
      "load_nestle_samples::\tdone loading\n",
      "access result with:\n",
      "['config', 'res_dict', 'h', 'logl', 'logvol', 'logz', 'logzerr', 'ncall', 'niter', 'samples', 'weights']\n",
      "\n",
      "load_nestle_samples::\tloading results/../../results/nestle_17nov73/\n",
      "load_nestle_samples::\tdone loading\n",
      "access result with:\n",
      "['config', 'res_dict', 'h', 'logl', 'logvol', 'logz', 'logzerr', 'ncall', 'niter', 'samples', 'weights']\n",
      "\n",
      "load_nestle_samples::\tloading results/../../results/nestle_17nov74/\n",
      "load_nestle_samples::\tdone loading\n",
      "access result with:\n",
      "['config', 'res_dict', 'h', 'logl', 'logvol', 'logz', 'logzerr', 'ncall', 'niter', 'samples', 'weights']\n",
      "\n",
      "load_nestle_samples::\tloading results/../../results/nestle_17nov75/\n",
      "load_nestle_samples::\tdone loading\n",
      "access result with:\n",
      "['config', 'res_dict', 'h', 'logl', 'logvol', 'logz', 'logzerr', 'ncall', 'niter', 'samples', 'weights']\n",
      "\n",
      "load_nestle_samples::\tloading results/../../results/nestle_17nov76/\n",
      "load_nestle_samples::\tdone loading\n",
      "access result with:\n",
      "['config', 'res_dict', 'h', 'logl', 'logvol', 'logz', 'logzerr', 'ncall', 'niter', 'samples', 'weights']\n",
      "\n",
      "load_nestle_samples::\tloading results/../../results/nestle_17nov77/\n",
      "load_nestle_samples::\tdone loading\n",
      "access result with:\n",
      "['config', 'res_dict', 'h', 'logl', 'logvol', 'logz', 'logzerr', 'ncall', 'niter', 'samples', 'weights']\n",
      "\n",
      "load_nestle_samples::\tloading results/../../results/nestle_17nov78/\n",
      "load_nestle_samples::\tdone loading\n",
      "access result with:\n",
      "['config', 'res_dict', 'h', 'logl', 'logvol', 'logz', 'logzerr', 'ncall', 'niter', 'samples', 'weights']\n",
      "\n",
      "load_nestle_samples::\tloading results/../../results/nestle_17nov79/\n",
      "load_nestle_samples::\tdone loading\n",
      "access result with:\n",
      "['config', 'res_dict', 'h', 'logl', 'logvol', 'logz', 'logzerr', 'ncall', 'niter', 'samples', 'weights']\n",
      "\n",
      "load_nestle_samples::\tloading results/../../results/nestle_17nov80/\n",
      "load_nestle_samples::\tdone loading\n",
      "access result with:\n",
      "['config', 'res_dict', 'h', 'logl', 'logvol', 'logz', 'logzerr', 'ncall', 'niter', 'samples', 'weights']\n",
      "\n",
      "load_nestle_samples::\tloading results/../../results/nestle_17nov81/\n",
      "load_nestle_samples::\tdone loading\n",
      "access result with:\n",
      "['config', 'res_dict', 'h', 'logl', 'logvol', 'logz', 'logzerr', 'ncall', 'niter', 'samples', 'weights']\n",
      "\n",
      "load_nestle_samples::\tloading results/../../results/nestle_17nov82/\n",
      "load_nestle_samples::\tdone loading\n",
      "access result with:\n",
      "['config', 'res_dict', 'h', 'logl', 'logvol', 'logz', 'logzerr', 'ncall', 'niter', 'samples', 'weights']\n",
      "\n",
      "load_nestle_samples::\tloading results/../../results/nestle_17nov83/\n",
      "load_nestle_samples::\tdone loading\n",
      "access result with:\n",
      "['config', 'res_dict', 'h', 'logl', 'logvol', 'logz', 'logzerr', 'ncall', 'niter', 'samples', 'weights']\n",
      "\n",
      "load_nestle_samples::\tloading results/../../results/nestle_17nov84/\n",
      "load_nestle_samples::\tdone loading\n",
      "access result with:\n",
      "['config', 'res_dict', 'h', 'logl', 'logvol', 'logz', 'logzerr', 'ncall', 'niter', 'samples', 'weights']\n",
      "\n",
      "load_nestle_samples::\tloading results/../../results/nestle_17nov85/\n",
      "load_nestle_samples::\tdone loading\n",
      "access result with:\n",
      "['config', 'res_dict', 'h', 'logl', 'logvol', 'logz', 'logzerr', 'ncall', 'niter', 'samples', 'weights']\n",
      "\n",
      "load_nestle_samples::\tloading results/../../results/nestle_17nov86/\n",
      "load_nestle_samples::\tdone loading\n",
      "access result with:\n"
     ]
    },
    {
     "name": "stdout",
     "output_type": "stream",
     "text": [
      "['config', 'res_dict', 'h', 'logl', 'logvol', 'logz', 'logzerr', 'ncall', 'niter', 'samples', 'weights']\n",
      "\n",
      "load_nestle_samples::\tloading results/../../results/nestle_17nov87/\n",
      "load_nestle_samples::\tdone loading\n",
      "access result with:\n",
      "['config', 'res_dict', 'h', 'logl', 'logvol', 'logz', 'logzerr', 'ncall', 'niter', 'samples', 'weights']\n",
      "\n",
      "load_nestle_samples::\tloading results/../../results/nestle_17nov88/\n",
      "load_nestle_samples::\tdone loading\n",
      "access result with:\n",
      "['config', 'res_dict', 'h', 'logl', 'logvol', 'logz', 'logzerr', 'ncall', 'niter', 'samples', 'weights']\n",
      "\n",
      "load_nestle_samples::\tloading results/../../results/nestle_17nov89/\n",
      "load_nestle_samples::\tdone loading\n",
      "access result with:\n",
      "['config', 'res_dict', 'h', 'logl', 'logvol', 'logz', 'logzerr', 'ncall', 'niter', 'samples', 'weights']\n",
      "\n",
      "load_nestle_samples::\tloading results/../../results/nestle_17nov90/\n",
      "load_nestle_samples::\tdone loading\n",
      "access result with:\n",
      "['config', 'res_dict', 'h', 'logl', 'logvol', 'logz', 'logzerr', 'ncall', 'niter', 'samples', 'weights']\n",
      "\n",
      "load_nestle_samples::\tloading results/../../results/nestle_17nov91/\n",
      "load_nestle_samples::\tdone loading\n",
      "access result with:\n",
      "['config', 'res_dict', 'h', 'logl', 'logvol', 'logz', 'logzerr', 'ncall', 'niter', 'samples', 'weights']\n",
      "\n",
      "load_nestle_samples::\tloading results/../../results/nestle_17nov92/\n",
      "load_nestle_samples::\tdone loading\n",
      "access result with:\n",
      "['config', 'res_dict', 'h', 'logl', 'logvol', 'logz', 'logzerr', 'ncall', 'niter', 'samples', 'weights']\n",
      "\n",
      "load_nestle_samples::\tloading results/../../results/nestle_17nov93/\n",
      "load_nestle_samples::\tdone loading\n",
      "access result with:\n",
      "['config', 'res_dict', 'h', 'logl', 'logvol', 'logz', 'logzerr', 'ncall', 'niter', 'samples', 'weights']\n",
      "\n",
      "load_nestle_samples::\tloading results/../../results/nestle_17nov94/\n",
      "load_nestle_samples::\tdone loading\n",
      "access result with:\n",
      "['config', 'res_dict', 'h', 'logl', 'logvol', 'logz', 'logzerr', 'ncall', 'niter', 'samples', 'weights']\n",
      "\n",
      "load_nestle_samples::\tloading results/../../results/nestle_17nov95/\n",
      "load_nestle_samples::\tdone loading\n",
      "access result with:\n",
      "['config', 'res_dict', 'h', 'logl', 'logvol', 'logz', 'logzerr', 'ncall', 'niter', 'samples', 'weights']\n",
      "\n",
      "load_nestle_samples::\tloading results/../../results/nestle_17nov96/\n",
      "load_nestle_samples::\tdone loading\n",
      "access result with:\n",
      "['config', 'res_dict', 'h', 'logl', 'logvol', 'logz', 'logzerr', 'ncall', 'niter', 'samples', 'weights']\n",
      "\n",
      "load_nestle_samples::\tloading results/../../results/nestle_17nov97/\n",
      "load_nestle_samples::\tdone loading\n",
      "access result with:\n",
      "['config', 'res_dict', 'h', 'logl', 'logvol', 'logz', 'logzerr', 'ncall', 'niter', 'samples', 'weights']\n",
      "\n",
      "load_nestle_samples::\tloading results/../../results/nestle_17nov98/\n",
      "load_nestle_samples::\tdone loading\n",
      "access result with:\n",
      "['config', 'res_dict', 'h', 'logl', 'logvol', 'logz', 'logzerr', 'ncall', 'niter', 'samples', 'weights']\n",
      "\n",
      "load_nestle_samples::\tloading results/../../results/nestle_17nov99/\n",
      "load_nestle_samples::\tdone loading\n",
      "access result with:\n",
      "['config', 'res_dict', 'h', 'logl', 'logvol', 'logz', 'logzerr', 'ncall', 'niter', 'samples', 'weights']\n",
      "\n",
      "load_nestle_samples::\tloading results/../../results/nestle_17nov100/\n",
      "load_nestle_samples::\tdone loading\n",
      "access result with:\n",
      "['config', 'res_dict', 'h', 'logl', 'logvol', 'logz', 'logzerr', 'ncall', 'niter', 'samples', 'weights']\n",
      "\n",
      "load_nestle_samples::\tloading results/../../results/nestle_17nov101/\n",
      "load_nestle_samples::\tdone loading\n",
      "access result with:\n",
      "['config', 'res_dict', 'h', 'logl', 'logvol', 'logz', 'logzerr', 'ncall', 'niter', 'samples', 'weights']\n",
      "\n",
      "load_nestle_samples::\tloading results/../../results/nestle_17nov102/\n",
      "load_nestle_samples::\tdone loading\n",
      "access result with:\n",
      "['config', 'res_dict', 'h', 'logl', 'logvol', 'logz', 'logzerr', 'ncall', 'niter', 'samples', 'weights']\n",
      "\n",
      "load_nestle_samples::\tloading results/../../results/nestle_17nov103/\n",
      "load_nestle_samples::\tdone loading\n",
      "access result with:\n",
      "['config', 'res_dict', 'h', 'logl', 'logvol', 'logz', 'logzerr', 'ncall', 'niter', 'samples', 'weights']\n",
      "\n",
      "load_nestle_samples::\tloading results/../../results/nestle_17nov104/\n",
      "load_nestle_samples::\tdone loading\n",
      "access result with:\n",
      "['config', 'res_dict', 'h', 'logl', 'logvol', 'logz', 'logzerr', 'ncall', 'niter', 'samples', 'weights']\n",
      "\n",
      "load_nestle_samples::\tloading results/../../results/nestle_17nov105/\n",
      "load_nestle_samples::\tdone loading\n",
      "access result with:\n",
      "['config', 'res_dict', 'h', 'logl', 'logvol', 'logz', 'logzerr', 'ncall', 'niter', 'samples', 'weights']\n",
      "\n",
      "load_nestle_samples::\tloading results/../../results/nestle_17nov106/\n",
      "load_nestle_samples::\tdone loading\n",
      "access result with:\n",
      "['config', 'res_dict', 'h', 'logl', 'logvol', 'logz', 'logzerr', 'ncall', 'niter', 'samples', 'weights']\n",
      "\n",
      "load_nestle_samples::\tloading results/../../results/nestle_17nov107/\n",
      "load_nestle_samples::\tdone loading\n",
      "access result with:\n",
      "['config', 'res_dict', 'h', 'logl', 'logvol', 'logz', 'logzerr', 'ncall', 'niter', 'samples', 'weights']\n",
      "\n",
      "load_nestle_samples::\tloading results/../../results/nestle_17nov108/\n",
      "load_nestle_samples::\tdone loading\n",
      "access result with:\n",
      "['config', 'res_dict', 'h', 'logl', 'logvol', 'logz', 'logzerr', 'ncall', 'niter', 'samples', 'weights']\n",
      "\n",
      "load_nestle_samples::\tloading results/../../results/nestle_17nov109/\n",
      "load_nestle_samples::\tdone loading\n",
      "access result with:\n",
      "['config', 'res_dict', 'h', 'logl', 'logvol', 'logz', 'logzerr', 'ncall', 'niter', 'samples', 'weights']\n",
      "\n",
      "load_nestle_samples::\tloading results/../../results/nestle_17nov110/\n",
      "load_nestle_samples::\tdone loading\n",
      "access result with:\n",
      "['config', 'res_dict', 'h', 'logl', 'logvol', 'logz', 'logzerr', 'ncall', 'niter', 'samples', 'weights']\n",
      "\n",
      "load_nestle_samples::\tloading results/../../results/nestle_17nov111/\n",
      "load_nestle_samples::\tdone loading\n",
      "access result with:\n",
      "['config', 'res_dict', 'h', 'logl', 'logvol', 'logz', 'logzerr', 'ncall', 'niter', 'samples', 'weights']\n",
      "\n",
      "load_nestle_samples::\tloading results/../../results/nestle_17nov112/\n",
      "load_nestle_samples::\tdone loading\n",
      "access result with:\n",
      "['config', 'res_dict', 'h', 'logl', 'logvol', 'logz', 'logzerr', 'ncall', 'niter', 'samples', 'weights']\n",
      "\n",
      "load_nestle_samples::\tloading results/../../results/nestle_17nov113/\n",
      "load_nestle_samples::\tdone loading\n",
      "access result with:\n",
      "['config', 'res_dict', 'h', 'logl', 'logvol', 'logz', 'logzerr', 'ncall', 'niter', 'samples', 'weights']\n",
      "\n",
      "load_nestle_samples::\tloading results/../../results/nestle_17nov114/\n",
      "load_nestle_samples::\tdone loading\n",
      "access result with:\n",
      "['config', 'res_dict', 'h', 'logl', 'logvol', 'logz', 'logzerr', 'ncall', 'niter', 'samples', 'weights']\n",
      "\n",
      "load_nestle_samples::\tloading results/../../results/nestle_17nov115/\n",
      "load_nestle_samples::\tdone loading\n",
      "access result with:\n",
      "['config', 'res_dict', 'h', 'logl', 'logvol', 'logz', 'logzerr', 'ncall', 'niter', 'samples', 'weights']\n",
      "\n",
      "load_nestle_samples::\tloading results/../../results/nestle_17nov116/\n",
      "load_nestle_samples::\tdone loading\n",
      "access result with:\n",
      "['config', 'res_dict', 'h', 'logl', 'logvol', 'logz', 'logzerr', 'ncall', 'niter', 'samples', 'weights']\n",
      "\n",
      "load_nestle_samples::\tloading results/../../results/nestle_17nov117/\n",
      "load_nestle_samples::\tdone loading\n",
      "access result with:\n",
      "['config', 'res_dict', 'h', 'logl', 'logvol', 'logz', 'logzerr', 'ncall', 'niter', 'samples', 'weights']\n",
      "\n",
      "load_nestle_samples::\tloading results/../../results/nestle_17nov118/\n",
      "load_nestle_samples::\tdone loading\n",
      "access result with:\n",
      "['config', 'res_dict', 'h', 'logl', 'logvol', 'logz', 'logzerr', 'ncall', 'niter', 'samples', 'weights']\n",
      "\n",
      "load_nestle_samples::\tloading results/../../results/nestle_17nov119/\n",
      "load_nestle_samples::\tdone loading\n",
      "access result with:\n",
      "['config', 'res_dict', 'h', 'logl', 'logvol', 'logz', 'logzerr', 'ncall', 'niter', 'samples', 'weights']\n",
      "\n",
      "load_nestle_samples::\tloading results/../../results/nestle_17nov120/\n",
      "load_nestle_samples::\tdone loading\n",
      "access result with:\n",
      "['config', 'res_dict', 'h', 'logl', 'logvol', 'logz', 'logzerr', 'ncall', 'niter', 'samples', 'weights']\n",
      "\n",
      "load_nestle_samples::\tloading results/../../results/nestle_17nov121/\n",
      "load_nestle_samples::\tdone loading\n",
      "access result with:\n",
      "['config', 'res_dict', 'h', 'logl', 'logvol', 'logz', 'logzerr', 'ncall', 'niter', 'samples', 'weights']\n",
      "\n",
      "load_nestle_samples::\tloading results/../../results/nestle_17nov122/\n",
      "load_nestle_samples::\tdone loading\n",
      "access result with:\n",
      "['config', 'res_dict', 'h', 'logl', 'logvol', 'logz', 'logzerr', 'ncall', 'niter', 'samples', 'weights']\n",
      "\n",
      "load_nestle_samples::\tloading results/../../results/nestle_17nov123/\n"
     ]
    },
    {
     "name": "stdout",
     "output_type": "stream",
     "text": [
      "load_nestle_samples::\tdone loading\n",
      "access result with:\n",
      "['config', 'res_dict', 'h', 'logl', 'logvol', 'logz', 'logzerr', 'ncall', 'niter', 'samples', 'weights']\n",
      "\n",
      "load_nestle_samples::\tloading results/../../results/nestle_17nov124/\n",
      "load_nestle_samples::\tdone loading\n",
      "access result with:\n",
      "['config', 'res_dict', 'h', 'logl', 'logvol', 'logz', 'logzerr', 'ncall', 'niter', 'samples', 'weights']\n",
      "\n",
      "load_nestle_samples::\tloading results/../../results/nestle_17nov125/\n",
      "load_nestle_samples::\tdone loading\n",
      "access result with:\n",
      "['config', 'res_dict', 'h', 'logl', 'logvol', 'logz', 'logzerr', 'ncall', 'niter', 'samples', 'weights']\n",
      "\n",
      "load_nestle_samples::\tloading results/../../results/nestle_17nov126/\n",
      "load_nestle_samples::\tdone loading\n",
      "access result with:\n",
      "['config', 'res_dict', 'h', 'logl', 'logvol', 'logz', 'logzerr', 'ncall', 'niter', 'samples', 'weights']\n",
      "\n",
      "load_nestle_samples::\tloading results/../../results/nestle_17nov127/\n",
      "load_nestle_samples::\tdone loading\n",
      "access result with:\n",
      "['config', 'res_dict', 'h', 'logl', 'logvol', 'logz', 'logzerr', 'ncall', 'niter', 'samples', 'weights']\n",
      "\n",
      "load_nestle_samples::\tloading results/../../results/nestle_17nov128/\n",
      "load_nestle_samples::\tdone loading\n",
      "access result with:\n",
      "['config', 'res_dict', 'h', 'logl', 'logvol', 'logz', 'logzerr', 'ncall', 'niter', 'samples', 'weights']\n",
      "\n",
      "load_nestle_samples::\tloading results/../../results/nestle_17nov129/\n",
      "load_nestle_samples::\tdone loading\n",
      "access result with:\n",
      "['config', 'res_dict', 'h', 'logl', 'logvol', 'logz', 'logzerr', 'ncall', 'niter', 'samples', 'weights']\n",
      "\n",
      "load_nestle_samples::\tloading results/../../results/nestle_17nov130/\n",
      "load_nestle_samples::\tdone loading\n",
      "access result with:\n",
      "['config', 'res_dict', 'h', 'logl', 'logvol', 'logz', 'logzerr', 'ncall', 'niter', 'samples', 'weights']\n",
      "\n",
      "load_nestle_samples::\tloading results/../../results/nestle_17nov131/\n",
      "load_nestle_samples::\tdone loading\n",
      "access result with:\n",
      "['config', 'res_dict', 'h', 'logl', 'logvol', 'logz', 'logzerr', 'ncall', 'niter', 'samples', 'weights']\n",
      "\n",
      "load_nestle_samples::\tloading results/../../results/nestle_17nov132/\n",
      "load_nestle_samples::\tdone loading\n",
      "access result with:\n",
      "['config', 'res_dict', 'h', 'logl', 'logvol', 'logz', 'logzerr', 'ncall', 'niter', 'samples', 'weights']\n",
      "\n",
      "load_nestle_samples::\tloading results/../../results/nestle_17nov133/\n",
      "load_nestle_samples::\tdone loading\n",
      "access result with:\n",
      "['config', 'res_dict', 'h', 'logl', 'logvol', 'logz', 'logzerr', 'ncall', 'niter', 'samples', 'weights']\n",
      "\n",
      "load_nestle_samples::\tloading results/../../results/nestle_17nov134/\n",
      "load_nestle_samples::\tdone loading\n",
      "access result with:\n",
      "['config', 'res_dict', 'h', 'logl', 'logvol', 'logz', 'logzerr', 'ncall', 'niter', 'samples', 'weights']\n",
      "\n",
      "load_nestle_samples::\tloading results/../../results/nestle_17nov135/\n",
      "load_nestle_samples::\tdone loading\n",
      "access result with:\n",
      "['config', 'res_dict', 'h', 'logl', 'logvol', 'logz', 'logzerr', 'ncall', 'niter', 'samples', 'weights']\n",
      "\n",
      "load_nestle_samples::\tloading results/../../results/nestle_17nov136/\n",
      "load_nestle_samples::\tdone loading\n",
      "access result with:\n",
      "['config', 'res_dict', 'h', 'logl', 'logvol', 'logz', 'logzerr', 'ncall', 'niter', 'samples', 'weights']\n",
      "\n",
      "load_nestle_samples::\tloading results/../../results/nestle_17nov137/\n",
      "load_nestle_samples::\tdone loading\n",
      "access result with:\n",
      "['config', 'res_dict', 'h', 'logl', 'logvol', 'logz', 'logzerr', 'ncall', 'niter', 'samples', 'weights']\n",
      "\n",
      "load_nestle_samples::\tloading results/../../results/nestle_17nov138/\n",
      "load_nestle_samples::\tdone loading\n",
      "access result with:\n",
      "['config', 'res_dict', 'h', 'logl', 'logvol', 'logz', 'logzerr', 'ncall', 'niter', 'samples', 'weights']\n",
      "\n",
      "load_nestle_samples::\tloading results/../../results/nestle_17nov139/\n",
      "load_nestle_samples::\tdone loading\n",
      "access result with:\n",
      "['config', 'res_dict', 'h', 'logl', 'logvol', 'logz', 'logzerr', 'ncall', 'niter', 'samples', 'weights']\n",
      "\n",
      "load_nestle_samples::\tloading results/../../results/nestle_17nov140/\n",
      "load_nestle_samples::\tdone loading\n",
      "access result with:\n",
      "['config', 'res_dict', 'h', 'logl', 'logvol', 'logz', 'logzerr', 'ncall', 'niter', 'samples', 'weights']\n",
      "\n",
      "load_nestle_samples::\tloading results/../../results/nestle_17nov141/\n",
      "load_nestle_samples::\tdone loading\n",
      "access result with:\n",
      "['config', 'res_dict', 'h', 'logl', 'logvol', 'logz', 'logzerr', 'ncall', 'niter', 'samples', 'weights']\n",
      "\n"
     ]
    }
   ],
   "source": [
    "# loading normal results.\n",
    "results = {}\n",
    "for i in range(200):\n",
    "    try:\n",
    "        results[i] = dddm.load_nestle_samples(\n",
    "            \"../../results/nestle_17nov\", i)\n",
    "        print()\n",
    "    except FileNotFoundError:\n",
    "        pass"
   ]
  },
  {
   "cell_type": "code",
   "execution_count": 9,
   "metadata": {},
   "outputs": [
    {
     "data": {
      "text/plain": [
       "dict_keys([0, 12, 13, 14, 15, 16, 17, 18, 19, 20, 21, 22, 23, 24, 25, 26, 27, 28, 29, 30, 31, 32, 33, 34, 35, 36, 37, 38, 39, 40, 41, 42, 43, 44, 45, 46, 47, 48, 49, 50, 51, 52, 53, 54, 55, 56, 57, 58, 59, 60, 61, 62, 63, 64, 65, 66, 67, 68, 69, 70, 71, 72, 73, 74, 75, 76, 77, 78, 79, 80, 81, 82, 83, 84, 85, 86, 87, 88, 89, 90, 91, 92, 93, 94, 95, 96, 97, 98, 99, 100, 101, 102, 103, 104, 105, 106, 107, 108, 109, 110, 111, 112, 113, 114, 115, 116, 117, 118, 119, 120, 121, 122, 123, 124, 125, 126, 127, 128, 129, 130, 131, 132, 133, 134, 135, 136, 137, 138, 139, 140, 141])"
      ]
     },
     "execution_count": 9,
     "metadata": {},
     "output_type": "execute_result"
    }
   ],
   "source": [
    "results.keys()"
   ]
  },
  {
   "cell_type": "code",
   "execution_count": 10,
   "metadata": {},
   "outputs": [],
   "source": [
    "for i in results.keys():\n",
    "    if results[i]['config']['notes'] =='nestle++priors_23nov':\n",
    "        cmd = f'rm -r ../results/nestle_17nov{i}'\n",
    "        print(cmd)\n",
    "        !$cmd"
   ]
  },
  {
   "cell_type": "code",
   "execution_count": 11,
   "metadata": {
    "scrolled": false
   },
   "outputs": [
    {
     "name": "stdout",
     "output_type": "stream",
     "text": [
      "selecting Xe dataset\n",
      "12 nestle++priors_17nov 25.000000000000007 -45 233 0.55 (221799, 2)\n",
      "16 nestle++priors_17nov 249.99999999999994 -45 233 0.55 (178833, 2)\n",
      "20 nestle++priors_17nov 49.99999999999999 -45 233 0.55 (225101, 2)\n",
      "21 nestle++priors_17nov 25.000000000000007 -45 233 0.55 (220666, 5)\n",
      "26 nestle++priors_17nov 249.99999999999994 -45 233 0.55 (178457, 5)\n",
      "28 nestle++priors_17nov 49.99999999999999 -45 233 0.55 (224774, 5)\n",
      "29 nestle++priors_17nov 25.000000000000007 -45 233 0.55 (886807, 2)\n",
      "33 nestle++priors_17nov 249.99999999999994 -45 233 0.55 (715687, 2)\n",
      "36 nestle++priors_17nov 25.000000000000007 -45 230 0.4 (216093, 2)\n",
      "41 nestle++priors_17nov 249.99999999999994 -45 230 0.4 (175091, 2)\n",
      "44 nestle++priors_17nov 49.99999999999999 -45 230 0.4 (220042, 2)\n",
      "46 nestle++priors_17nov 25.000000000000007 -45 230 0.4 (215696, 5)\n",
      "49 nestle++priors_17nov 249.99999999999994 -45 230 0.4 (175024, 5)\n",
      "53 nestle++priors_17nov 49.99999999999999 -45 230 0.4 (219766, 5)\n",
      "54 nestle++priors_17nov 25.000000000000007 -45 230 0.4 (862572, 2)\n",
      "55 nestle++priors_17nov 25.000000000000007 -45 230 0.4 (864554, 2)\n",
      "63 nestle++priors_17nov 249.99999999999994 -45 230 0.4 (702266, 2)\n",
      "64 nestle++priors_17nov 249.99999999999994 -45 230 0.4 (702036, 2)\n",
      "70 nestle++priors_17nov 49.99999999999999 -45 230 0.4 (879783, 2)\n",
      "71 nestle++priors_17nov 49.99999999999999 -45 230 0.4 (879194, 2)\n",
      "74 nestle++priors_21nov 249.99999999999994 -45 230 0.4 (13441, 2)\n",
      "78 nestle++priors_21nov 25.000000000000007 -45 230 0.4 (18448, 2)\n",
      "82 nestle++priors_21nov 249.99999999999994 -45 230 0.4 (13501, 2)\n",
      "88 nestle++priors_21nov 25.000000000000007 -45 230 0.4 (18381, 2)\n",
      "90 nestle++priors_21nov 249.99999999999994 -45 230 0.4 (13608, 5)\n",
      "93 nestle++priors_21nov 249.99999999999994 -45 230 0.4 (13463, 2)\n",
      "99 nestle++priors_21nov 25.000000000000007 -45 230 0.4 (18372, 5)\n",
      "101 nestle++priors_21nov 25.000000000000007 -45 230 0.4 (18413, 2)\n",
      "102 nestle++priors_21nov 249.99999999999994 -45 230 0.4 (13570, 5)\n",
      "106 nestle++priors_21nov 249.99999999999994 -45 230 0.4 (13500, 5)\n",
      "107 nestle++priors_21nov 25.000000000000007 -45 230 0.4 (18058, 5)\n",
      "110 nestle++priors_21nov 49.99999999999999 -45 230 0.4 (18961, 2)\n",
      "113 nestle++priors_21nov 25.000000000000007 -45 230 0.4 (18381, 5)\n",
      "116 nestle++priors_21nov 49.99999999999999 -45 230 0.4 (18976, 2)\n",
      "118 nestle++priors_21nov 49.99999999999999 -45 230 0.4 (19127, 2)\n",
      "120 nestle++priors_21nov 49.99999999999999 -45 230 0.4 (18682, 5)\n",
      "123 nestle++priors_21nov 49.99999999999999 -45 230 0.4 (18728, 5)\n",
      "125 nestle++priors_21nov 49.99999999999999 -45 230 0.4 (18767, 5)\n",
      "128 nestle++priors_17nov 25.000000000000007 -45 230 0.4 (865559, 5)\n",
      "130 nestle++priors_17nov 25.000000000000007 -45 230 0.4 (863654, 5)\n",
      "133 nestle++priors_17nov 249.99999999999994 -45 230 0.4 (701685, 5)\n",
      "135 nestle++priors_17nov 249.99999999999994 -45 230 0.4 (702165, 5)\n"
     ]
    },
    {
     "data": {
      "text/plain": [
       "array([ 12,  16,  20,  21,  26,  28,  29,  33,  36,  41,  44,  46,  49,\n",
       "        53,  54,  55,  63,  64,  70,  71,  74,  78,  82,  88,  90,  93,\n",
       "        99, 101, 102, 106, 107, 110, 113, 116, 118, 120, 123, 125, 128,\n",
       "       130, 133, 135])"
      ]
     },
     "execution_count": 11,
     "metadata": {},
     "output_type": "execute_result"
    }
   ],
   "source": [
    "det = \"Xe\"\n",
    "print(f\"selecting {det} dataset\")\n",
    "selected_keys = []\n",
    "for i in results.keys():\n",
    "    if results[i]['config']['n_energy_bins'] == 10:\n",
    "        if results[i]['config']['detector'] == det:\n",
    "            print(i,\n",
    "                  results[i]['config']['notes'], \n",
    "                  10**results[i]['config']['mw'],\n",
    "                  results[i]['config']['sigma'],\n",
    "                  results[i]['config']['prior']['v_0']['mean'],\n",
    "                  results[i]['config']['prior']['density']['mean'],\n",
    "                  np.shape(results[i]['samples']))\n",
    "            selected_keys.append(i)    \n",
    "np.array(selected_keys)"
   ]
  },
  {
   "cell_type": "code",
   "execution_count": 12,
   "metadata": {},
   "outputs": [
    {
     "data": {
      "text/plain": [
       "[[36, 41, 44], [46, 49, 53]]"
      ]
     },
     "execution_count": 12,
     "metadata": {},
     "output_type": "execute_result"
    }
   ],
   "source": [
    "selected_keys_sets = [[36,41,44],\n",
    "                      [46, 49, 53],\n",
    "#                       selected_keys[-6:-3],\n",
    "#                       selected_keys[-3:]\n",
    "                     ]\n",
    "selected_keys_names = [\"benchmark SHM constrained fit\",\n",
    "                      \"benchmark SHM astr. unconstraint fit\",\n",
    "#                       \"updated SHM constrained fit\",\n",
    "#                       \"updated SHM astr. unconstraint fit\"\n",
    "                      ]\n",
    "selected_keys_sets"
   ]
  },
  {
   "cell_type": "code",
   "execution_count": 13,
   "metadata": {
    "scrolled": false
   },
   "outputs": [],
   "source": [
    "# for key in results.keys():\n",
    "# # for key in selected_keys:\n",
    "#     print(f\"---{key}---\")\n",
    "#     result = results[key]\n",
    "#     dddm.nestle_corner(result, save = f\"../results/nestle_17nov{key}/\")"
   ]
  },
  {
   "cell_type": "code",
   "execution_count": 14,
   "metadata": {},
   "outputs": [],
   "source": [
    "def get_posterior(samples, weights):\n",
    "    # re-scale weights to have a maximum of one\n",
    "    nweights = weights/np.max(weights)\n",
    "\n",
    "    # get the probability of keeping a sample from the weights\n",
    "    keepidx = np.where(np.random.rand(len(nweights)) < nweights)[0]\n",
    "    # get the posterior samples\n",
    "    return samples[keepidx,:]\n"
   ]
  },
  {
   "cell_type": "code",
   "execution_count": 15,
   "metadata": {},
   "outputs": [],
   "source": [
    "def bin_center(xedges, yedges):\n",
    "    return 0.5 * (xedges[0:-1] + xedges[1:]), 0.5 * (yedges[0:-1] + yedges[1:])\n",
    "    "
   ]
  },
  {
   "cell_type": "code",
   "execution_count": 16,
   "metadata": {},
   "outputs": [],
   "source": [
    "def get_hist(item, nbins = 45):\n",
    "#     nbins = 45\n",
    "    bin_range = [[1, 3], [-46, -44]]\n",
    "    counts, xedges, yedges = np.histogram2d(*get_p_i(item), bins = nbins, range = bin_range)\n",
    "    return counts , xedges, yedges\n",
    "\n",
    "def get_hist_norm(item):\n",
    "    counts , xedges, yedges = get_hist(item)\n",
    "    return counts/np.sum(counts) , xedges, yedges"
   ]
  },
  {
   "cell_type": "code",
   "execution_count": 17,
   "metadata": {},
   "outputs": [],
   "source": [
    "# # fig = plt.figure(figsize=(7, 3))\n",
    "# # ax = fig.add_subplot(131, title='imshow: square bins')\n",
    "# from matplotlib.colors import LogNorm\n",
    "# plt.imshow(test.T/np.sum(test.T), interpolation='nearest', origin='low',\n",
    "#         extent=  [1, 3, -45.7, -44.3], norm=LogNorm())\n",
    "# # plt.legend()\n",
    "# plt.colorbar()"
   ]
  },
  {
   "cell_type": "code",
   "execution_count": 18,
   "metadata": {},
   "outputs": [],
   "source": [
    "def get_p_i(i):\n",
    "    m, sig = get_posterior(results[i]['samples'], results[i]['weights']).T[:2]\n",
    "    return np.array([m, sig])"
   ]
  },
  {
   "cell_type": "code",
   "execution_count": 19,
   "metadata": {},
   "outputs": [],
   "source": [
    "from matplotlib.colors import LogNorm\n",
    "def combine_normalized(items):\n",
    "    X, Y = np.meshgrid(*get_hist_norm(items[0])[1:])\n",
    "    for i in items:\n",
    "        c,_,_ = get_hist_norm(i)\n",
    "        im = plt.pcolor(X,Y,c.T, norm=LogNorm(vmin = 1e-4,vmax = 1))  \n",
    "    plt.colorbar()"
   ]
  },
  {
   "cell_type": "code",
   "execution_count": 20,
   "metadata": {},
   "outputs": [],
   "source": [
    "def pow10(x):\n",
    "    return 10 ** x"
   ]
  },
  {
   "cell_type": "code",
   "execution_count": 21,
   "metadata": {
    "scrolled": false
   },
   "outputs": [],
   "source": [
    "def confidence_plot(items, text_box = False):\n",
    "    fig,ax=plt.subplots(figsize = (8,6))\n",
    "    for k, item in enumerate(items):#, 78, 110 \n",
    "        x,y =get_p_i(item)\n",
    "        # Make a 2d normed histogram\n",
    "        bin_range = [[0.5, 3], [-46, -44]]\n",
    "        H,xedges,yedges=np.histogram2d(x,y,bins=200, range = bin_range, normed=True)\n",
    "\n",
    "        norm=H.sum() # Find the norm of the sum\n",
    "        # Set contour levels\n",
    "        contour1=0.99\n",
    "        contour2=0.95\n",
    "        contour3=0.68\n",
    "        # Take histogram bin membership as proportional to Likelihood\n",
    "        # This is true when data comes from a Markovian process\n",
    "        def objective(limit, target):\n",
    "            w = np.where(H>limit)\n",
    "            count = H[w]\n",
    "            return count.sum() - target\n",
    "        target1 = norm*contour1\n",
    "        target2 = norm*contour2\n",
    "        target3 = norm*contour3\n",
    "\n",
    "        # Find levels by summing histogram to objective\n",
    "        level1= scipy.optimize.bisect(objective, H.min(), H.max(), args=(target1,))\n",
    "        level2= scipy.optimize.bisect(objective, H.min(), H.max(), args=(target2,))\n",
    "        level3= scipy.optimize.bisect(objective, H.min(), H.max(), args=(target3,))\n",
    "\n",
    "        levels=[level1, level2, level3,H.max()]\n",
    "        # Pass levels to normed kde plot\n",
    "        def av_levels(x):\n",
    "            return [(x[i] + x[i+1])/2 for i in range(len(x)-1)]\n",
    "\n",
    "        if levels[0]==levels[1]:\n",
    "            print(\"ERRRRRRRRR\\n\\n\")\n",
    "            levels[0] /= 1.01\n",
    "        sns_ax = sns.kdeplot(x,y, shade=True,ax=ax,n_levels=levels,cmap=\"viridis\",normed=True, \n",
    "                    cbar = False, vmin=levels[0], vmax=levels[-1])\n",
    "        kwargs = {}\n",
    "        if k is 0:\n",
    "            kwargs['label'] = 'best fit'\n",
    "        plt.scatter(np.mean(x),np.mean(y), c='black',\n",
    "                    marker = '+',**kwargs)\n",
    "        if k is 0:\n",
    "            kwargs['label'] = 'benchmark value'\n",
    "        plt.scatter(results[item]['config']['mw'],\n",
    "                    results[item]['config']['sigma'], c='blue',\n",
    "                    marker = 'x',\n",
    "                    **kwargs)\n",
    "        if k is 0:\n",
    "            cbar = ax.figure.colorbar(sns_ax.collections[0])\n",
    "            cbar.set_ticks(av_levels(np.linspace(0,1,4)))\n",
    "            cbar.set_ticklabels(['$3\\sigma$', '$2\\sigma$', '$1\\sigma$'])\n",
    "            cbar.set_label(\"Posterior probability\")\n",
    "    secax = ax.secondary_xaxis('top', functions=(pow10, np.log10))\n",
    "    x_ticks = [15, 25, 50, 100, 250, 500, 1000]\n",
    "    for x_tick in x_ticks:\n",
    "        ax.axvline(np.log10(x_tick), alpha = 0.1)\n",
    "    secax.set_ticks(x_ticks)\n",
    "    plt.xlim(np.log10(x_ticks[0]),np.log10(x_ticks[-1]))\n",
    "    plt.xlabel(\"$\\log_{10}(M_{\\chi}$ $[GeV/c^{2}]$)\")\n",
    "    secax.set_xlabel(\"$M_{\\chi}$ $[GeV/c^{2}]$\")\n",
    "    plt.ylabel(\"$\\log_{10}(\\sigma_{S.I.}$ $[cm^{2}]$)\")\n",
    "    plt.legend()\n",
    "\n",
    "    if text_box:\n",
    "        plt.text(0.05, 0.95, text_box, \n",
    "                 bbox=dict(facecolor=\"white\",\n",
    "                           boxstyle=\"round\"), \n",
    "                 transform=ax.transAxes,\n",
    "                 alpha=0.5)\n",
    "#     plt.show()\n"
   ]
  },
  {
   "cell_type": "code",
   "execution_count": 22,
   "metadata": {
    "scrolled": false
   },
   "outputs": [
    {
     "name": "stderr",
     "output_type": "stream",
     "text": [
      "/data/xenon/joranang/anaconda/envs/dddm/lib/python3.7/site-packages/seaborn/distributions.py:423: UserWarning: The following kwargs were not used by contour: 'normed'\n",
      "  cset = contour_func(xx, yy, z, n_levels, **kwargs)\n",
      "/data/xenon/joranang/anaconda/envs/dddm/lib/python3.7/site-packages/matplotlib/scale.py:144: RuntimeWarning: divide by zero encountered in log10\n",
      "  return self._forward(values)\n",
      "/data/xenon/joranang/anaconda/envs/dddm/lib/python3.7/site-packages/matplotlib/scale.py:144: RuntimeWarning: divide by zero encountered in log10\n",
      "  return self._forward(values)\n",
      "/data/xenon/joranang/anaconda/envs/dddm/lib/python3.7/site-packages/matplotlib/scale.py:144: RuntimeWarning: divide by zero encountered in log10\n",
      "  return self._forward(values)\n"
     ]
    },
    {
     "data": {
      "image/png": "[encoded data removed]",
      "text/plain": [
       "<Figure size 576x432 with 2 Axes>"
      ]
     },
     "metadata": {
      "needs_background": "light"
     },
     "output_type": "display_data"
    },
    {
     "name": "stderr",
     "output_type": "stream",
     "text": [
      "/data/xenon/joranang/anaconda/envs/dddm/lib/python3.7/site-packages/seaborn/distributions.py:423: UserWarning: The following kwargs were not used by contour: 'normed'\n",
      "  cset = contour_func(xx, yy, z, n_levels, **kwargs)\n",
      "/data/xenon/joranang/anaconda/envs/dddm/lib/python3.7/site-packages/matplotlib/scale.py:144: RuntimeWarning: divide by zero encountered in log10\n",
      "  return self._forward(values)\n",
      "/data/xenon/joranang/anaconda/envs/dddm/lib/python3.7/site-packages/matplotlib/scale.py:144: RuntimeWarning: divide by zero encountered in log10\n",
      "  return self._forward(values)\n"
     ]
    },
    {
     "data": {
      "image/png": "[encoded data removed]",
      "text/plain": [
       "<Figure size 576x432 with 2 Axes>"
      ]
     },
     "metadata": {
      "needs_background": "light"
     },
     "output_type": "display_data"
    }
   ],
   "source": [
    "for i, name in enumerate(selected_keys_names):\n",
    "    confidence_plot(selected_keys_sets[i], text_box = f'{det}-detector')\n",
    "    if \"realistic\" in name:\n",
    "        plt.ylim(-49, -45)\n",
    "    else:\n",
    "        plt.ylim(-45.7, -44.3)\n",
    "    plt.title(f'{name} \\n')\n",
    "    plt.savefig(f\"figures/{det}_{name.replace(' ', '-')}.png\", dpi =300, bbox_inches=\"tight\")\n",
    "    plt.savefig(f\"figures/{det}_{name.replace(' ', '-')}.pdf\", dpi =300, bbox_inches=\"tight\")\n",
    "    plt.show()\n",
    "                \n",
    "#     break"
   ]
  },
  {
   "cell_type": "code",
   "execution_count": 26,
   "metadata": {},
   "outputs": [
    {
     "name": "stdout",
     "output_type": "stream",
     "text": [
      "selecting Ge dataset\n",
      "0 nestle++priors_17nov 49.99999999999999 -45 233 0.55 (213818, 5)\n",
      "14 nestle++priors_17nov 25.000000000000007 -45 233 0.55 (214475, 2)\n",
      "15 nestle++priors_17nov 249.99999999999994 -45 233 0.55 (172532, 2)\n",
      "18 nestle++priors_17nov 49.99999999999999 -45 233 0.55 (214107, 2)\n",
      "24 nestle++priors_17nov 249.99999999999994 -45 233 0.55 (172076, 5)\n",
      "25 nestle++priors_17nov 25.000000000000007 -45 233 0.55 (214808, 5)\n",
      "31 nestle++priors_17nov 25.000000000000007 -45 233 0.55 (859044, 2)\n",
      "32 nestle++priors_17nov 249.99999999999994 -45 233 0.55 (689730, 2)\n",
      "35 nestle++priors_17nov 49.99999999999999 -45 233 0.55 (858662, 2)\n",
      "38 nestle++priors_17nov 249.99999999999994 -45 230 0.4 (168552, 2)\n",
      "39 nestle++priors_17nov 25.000000000000007 -45 230 0.4 (209369, 2)\n",
      "43 nestle++priors_17nov 49.99999999999999 -45 230 0.4 (209566, 2)\n",
      "48 nestle++priors_17nov 249.99999999999994 -45 230 0.4 (169039, 5)\n",
      "50 nestle++priors_17nov 25.000000000000007 -45 230 0.4 (209862, 5)\n",
      "52 nestle++priors_17nov 49.99999999999999 -45 230 0.4 (209762, 5)\n",
      "57 nestle++priors_17nov 249.99999999999994 -45 230 0.4 (676176, 2)\n",
      "58 nestle++priors_17nov 25.000000000000007 -45 230 0.4 (835995, 2)\n",
      "60 nestle++priors_17nov 249.99999999999994 -45 230 0.4 (676231, 2)\n",
      "61 nestle++priors_17nov 25.000000000000007 -45 230 0.4 (837403, 2)\n",
      "66 nestle++priors_17nov 49.99999999999999 -45 230 0.4 (838296, 2)\n",
      "68 nestle++priors_17nov 49.99999999999999 -45 230 0.4 (837420, 2)\n",
      "73 nestle++priors_21nov 249.99999999999994 -45 230 0.4 (12685, 2)\n",
      "79 nestle++priors_21nov 249.99999999999994 -45 230 0.4 (12824, 2)\n",
      "83 nestle++priors_21nov 249.99999999999994 -45 230 0.4 (12616, 5)\n",
      "85 nestle++priors_21nov 25.000000000000007 -45 230 0.4 (17515, 2)\n",
      "89 nestle++priors_21nov 249.99999999999994 -45 230 0.4 (12763, 2)\n",
      "94 nestle++priors_21nov 249.99999999999994 -45 230 0.4 (12748, 5)\n",
      "98 nestle++priors_21nov 49.99999999999999 -45 230 0.4 (17512, 2)\n",
      "100 nestle++priors_21nov 25.000000000000007 -45 230 0.4 (17770, 2)\n",
      "105 nestle++priors_21nov 25.000000000000007 -45 230 0.4 (17762, 2)\n",
      "108 nestle++priors_21nov 249.99999999999994 -45 230 0.4 (12653, 5)\n",
      "109 nestle++priors_21nov 49.99999999999999 -45 230 0.4 (17674, 2)\n",
      "111 nestle++priors_21nov 25.000000000000007 -45 230 0.4 (17595, 5)\n",
      "114 nestle++priors_21nov 49.99999999999999 -45 230 0.4 (17684, 2)\n",
      "117 nestle++priors_21nov 25.000000000000007 -45 230 0.4 (17751, 5)\n",
      "119 nestle++priors_21nov 25.000000000000007 -45 230 0.4 (17550, 5)\n",
      "121 nestle++priors_21nov 49.99999999999999 -45 230 0.4 (17527, 5)\n",
      "122 nestle++priors_21nov 49.99999999999999 -45 230 0.4 (17571, 5)\n",
      "124 nestle++priors_21nov 49.99999999999999 -45 230 0.4 (17328, 5)\n",
      "129 nestle++priors_17nov 249.99999999999994 -45 230 0.4 (677624, 5)\n",
      "134 nestle++priors_17nov 249.99999999999994 -45 230 0.4 (677367, 5)\n",
      "136 nestle++priors_17nov 25.000000000000007 -45 230 0.4 (839771, 5)\n",
      "139 nestle++priors_17nov 25.000000000000007 -45 230 0.4 (841199, 5)\n",
      "140 nestle++priors_17nov 49.99999999999999 -45 230 0.4 (837192, 5)\n",
      "141 nestle++priors_17nov 49.99999999999999 -45 230 0.4 (838763, 5)\n"
     ]
    },
    {
     "data": {
      "text/plain": [
       "array([  0,  14,  15,  18,  24,  25,  31,  32,  35,  38,  39,  43,  48,\n",
       "        50,  52,  57,  58,  60,  61,  66,  68,  73,  79,  83,  85,  89,\n",
       "        94,  98, 100, 105, 108, 109, 111, 114, 117, 119, 121, 122, 124,\n",
       "       129, 134, 136, 139, 140, 141])"
      ]
     },
     "execution_count": 26,
     "metadata": {},
     "output_type": "execute_result"
    }
   ],
   "source": [
    "det = \"Ge\"\n",
    "print(f\"selecting {det} dataset\")\n",
    "selected_keys = []\n",
    "for i in results.keys():\n",
    "    if results[i]['config']['n_energy_bins'] == 10:\n",
    "        if results[i]['config']['detector'] == det:\n",
    "            print(i,\n",
    "                  results[i]['config']['notes'], \n",
    "                  10**results[i]['config']['mw'],\n",
    "                  results[i]['config']['sigma'],\n",
    "                  results[i]['config']['prior']['v_0']['mean'],\n",
    "                  results[i]['config']['prior']['density']['mean'],\n",
    "                  np.shape(results[i]['samples']))\n",
    "            selected_keys.append(i)    \n",
    "np.array(selected_keys)"
   ]
  },
  {
   "cell_type": "code",
   "execution_count": 27,
   "metadata": {},
   "outputs": [
    {
     "data": {
      "text/plain": [
       "[[89, 98, 100], [134, 136, 140]]"
      ]
     },
     "execution_count": 27,
     "metadata": {},
     "output_type": "execute_result"
    }
   ],
   "source": [
    "selected_keys_sets = [[89, 98, 100],\n",
    "                      [134,136,140],\n",
    "#                       selected_keys[-6:-3],\n",
    "#                       selected_keys[-3:]\n",
    "                     ]\n",
    "selected_keys_names = [\"benchmark SHM constrained fit\",\n",
    "                      \"benchmark SHM astr. unconstraint fit\",\n",
    "#                       \"updated SHM constrained fit\",\n",
    "#                       \"updated SHM astr. unconstraint fit\"\n",
    "                      ]\n",
    "selected_keys_sets"
   ]
  },
  {
   "cell_type": "code",
   "execution_count": 28,
   "metadata": {},
   "outputs": [
    {
     "name": "stderr",
     "output_type": "stream",
     "text": [
      "/data/xenon/joranang/anaconda/envs/dddm/lib/python3.7/site-packages/seaborn/distributions.py:423: UserWarning: The following kwargs were not used by contour: 'normed'\n",
      "  cset = contour_func(xx, yy, z, n_levels, **kwargs)\n",
      "/data/xenon/joranang/anaconda/envs/dddm/lib/python3.7/site-packages/matplotlib/scale.py:144: RuntimeWarning: divide by zero encountered in log10\n",
      "  return self._forward(values)\n",
      "/data/xenon/joranang/anaconda/envs/dddm/lib/python3.7/site-packages/matplotlib/scale.py:144: RuntimeWarning: divide by zero encountered in log10\n",
      "  return self._forward(values)\n"
     ]
    },
    {
     "data": {
      "image/png": "[encoded data removed]",
      "text/plain": [
       "<Figure size 576x432 with 2 Axes>"
      ]
     },
     "metadata": {
      "needs_background": "light"
     },
     "output_type": "display_data"
    },
    {
     "name": "stderr",
     "output_type": "stream",
     "text": [
      "/data/xenon/joranang/anaconda/envs/dddm/lib/python3.7/site-packages/seaborn/distributions.py:423: UserWarning: The following kwargs were not used by contour: 'normed'\n",
      "  cset = contour_func(xx, yy, z, n_levels, **kwargs)\n",
      "/data/xenon/joranang/anaconda/envs/dddm/lib/python3.7/site-packages/matplotlib/scale.py:144: RuntimeWarning: divide by zero encountered in log10\n",
      "  return self._forward(values)\n",
      "/data/xenon/joranang/anaconda/envs/dddm/lib/python3.7/site-packages/matplotlib/scale.py:144: RuntimeWarning: divide by zero encountered in log10\n",
      "  return self._forward(values)\n"
     ]
    },
    {
     "data": {
      "image/png": "[encoded data removed]",
      "text/plain": [
       "<Figure size 576x432 with 2 Axes>"
      ]
     },
     "metadata": {
      "needs_background": "light"
     },
     "output_type": "display_data"
    }
   ],
   "source": [
    "for i, name in enumerate(selected_keys_names):\n",
    "    confidence_plot(selected_keys_sets[i], text_box = f'{det}-detector')\n",
    "    if \"realistic\" in name:\n",
    "        plt.ylim(-49, -45)\n",
    "    else:\n",
    "        plt.ylim(-45.7, -44.3)\n",
    "    plt.title(f'{name} \\n')\n",
    "    plt.savefig(f\"figures/{det}_{name.replace(' ', '-')}.png\", dpi =300, bbox_inches=\"tight\")\n",
    "    plt.savefig(f\"figures/{det}_{name.replace(' ', '-')}.pdf\", dpi =300, bbox_inches=\"tight\")\n",
    "    plt.show()\n",
    "                "
   ]
  },
  {
   "cell_type": "code",
   "execution_count": null,
   "metadata": {},
   "outputs": [],
   "source": []
  },
  {
   "cell_type": "code",
   "execution_count": null,
   "metadata": {},
   "outputs": [],
   "source": []
  },
  {
   "cell_type": "code",
   "execution_count": null,
   "metadata": {},
   "outputs": [],
   "source": [
    "def get_quantile(item):\n",
    "    _, xedges, _ = get_hist(item, nbins = 1000)\n",
    "    data = get_p_i(item)\n",
    "    results = np.zeros((len(xedges),3))\n",
    "#     print(results)\n",
    "    for i in range(len(xedges) - 1):\n",
    "#         print(bin_i)\n",
    "        mask = (xedges[i] < data[0]) & (data[0] < xedges[i+1])\n",
    "        if np.sum(mask)>0:\n",
    "#             print()\n",
    "            results[i] =  0.5 * (xedges[i]+ xedges[i+1]), *np.percentile(data[1][mask], [5,95])\n",
    "    return results[results[:,0] > 0]"
   ]
  },
  {
   "cell_type": "code",
   "execution_count": null,
   "metadata": {},
   "outputs": [],
   "source": [
    "quantiles = get_quantile(0)\n",
    "# quantiles = quantiles[quantiles]\n",
    "plt.plot(quantiles[:,0],quantiles[:,1])\n",
    "plt.plot(quantiles[:,0],quantiles[:,2])\n",
    "# quantiles"
   ]
  },
  {
   "cell_type": "code",
   "execution_count": null,
   "metadata": {},
   "outputs": [],
   "source": []
  },
  {
   "cell_type": "code",
   "execution_count": null,
   "metadata": {},
   "outputs": [],
   "source": [
    "counts = get_hist(0)[0]\n",
    "centers = bin_center(*get_hist(0)[1:])"
   ]
  },
  {
   "cell_type": "code",
   "execution_count": null,
   "metadata": {},
   "outputs": [],
   "source": [
    "for count in counts.T:\n",
    "    print(np.percentile(count, [5, 95]))"
   ]
  },
  {
   "cell_type": "code",
   "execution_count": null,
   "metadata": {},
   "outputs": [],
   "source": [
    "combine_normalized([0])\n",
    "quantiles = get_quantile(0)\n",
    "# quantiles = quantiles[quantiles]\n",
    "plt.plot(quantiles[:,0],quantiles[:,1])\n",
    "plt.plot(quantiles[:,0],quantiles[:,2])"
   ]
  },
  {
   "cell_type": "code",
   "execution_count": null,
   "metadata": {},
   "outputs": [],
   "source": [
    "np.shape(get_p_i(0)[:,])"
   ]
  },
  {
   "cell_type": "code",
   "execution_count": null,
   "metadata": {},
   "outputs": [],
   "source": [
    "test = get_p_i(0)\n",
    "np.array(test)[:,:100]"
   ]
  },
  {
   "cell_type": "code",
   "execution_count": null,
   "metadata": {},
   "outputs": [],
   "source": []
  },
  {
   "cell_type": "code",
   "execution_count": null,
   "metadata": {},
   "outputs": [],
   "source": [
    "confidence_plot([74, 78, 110])"
   ]
  },
  {
   "cell_type": "code",
   "execution_count": null,
   "metadata": {
    "scrolled": false
   },
   "outputs": [],
   "source": [
    "# import numpy as np\n",
    "# import scipy.optimize\n",
    "# import matplotlib.pyplot as plt\n",
    "# import seaborn as sns\n",
    "\n",
    "# # Generate some random data\n",
    "# # x,y=np.random.randn(2,100000)\n",
    "# fig,ax=plt.subplots(figsize = (8,6))\n",
    "# for k, item in enumerate([74, 78, 110]):#, 78, 110 \n",
    "#     x,y =get_p_i(item)\n",
    "#     # Make a 2d normed histogram\n",
    "#     H,xedges,yedges=np.histogram2d(x,y,bins=40,normed=True)\n",
    "\n",
    "#     norm=H.sum() # Find the norm of the sum\n",
    "#     # Set contour levels\n",
    "#     contour1=0.99\n",
    "#     contour2=0.95\n",
    "#     contour3=0.68\n",
    "#     # Take histogram bin membership as proportional to Likelihood\n",
    "#     # This is true when data comes from a Markovian process\n",
    "#     def objective(limit, target):\n",
    "#         w = np.where(H>limit)\n",
    "#         count = H[w]\n",
    "#         return count.sum() - target\n",
    "# #     contour={}\n",
    "# #     target={}\n",
    "# #     level={}\n",
    "# #     sigmas = np.flip(range(2,4))\n",
    "# #     for s in sigmas:\n",
    "# #         contour[s] = sigma_to_p(s)\n",
    "# #         print(contour[s])\n",
    "# #         target[s]=norm*contour[s]\n",
    "# #         level[s]=scipy.optimize.bisect(objective, H.min(), H.max(), args=(target[s],))\n",
    "# #     # Set target levels as percentage of norm\n",
    "#     target1 = norm*contour1\n",
    "#     target2 = norm*contour2\n",
    "#     target3 = norm*contour3\n",
    "\n",
    "\n",
    "\n",
    "#     # Find levels by summing histogram to objective\n",
    "#     level1= scipy.optimize.bisect(objective, H.min(), H.max(), args=(target1,))\n",
    "#     level2= scipy.optimize.bisect(objective, H.min(), H.max(), args=(target2,))\n",
    "#     level3= scipy.optimize.bisect(objective, H.min(), H.max(), args=(target3,))\n",
    "\n",
    "#     # For nice contour shading with seaborn, define top level\n",
    "# #     level[s+1]=H.max()\n",
    "# #     levels=[level[s] for s in sigmas]\n",
    "# #     levels.append(H.max())\n",
    "#     levels=[level1, level2, level3,H.max()]\n",
    "#     print(levels)\n",
    "#     # Pass levels to normed kde plot\n",
    "#     def av_levels(x):\n",
    "#         return [(x[i] + x[i+1])/2 for i in range(len(x)-1)]\n",
    "    \n",
    "# #     sns_ax = sns.kdeplot(x,y, shade=True,ax=ax,n_levels=levels,cmap=\"viridis\",normed=True, \n",
    "# #                 cbar = True, vmin=levels[0], vmax=levels[-1], \n",
    "# #                          cbar_kws={#\"ticklocation\":av_levels(levels),\n",
    "# #                                    \"ticks\":[],\n",
    "# #                                    #\"format\":\">%s<\"\n",
    "# # #                                    \"format\":av_levels(levels)\n",
    "# # #                                   \"ticks\":[1,3,4]\n",
    "# #                                    \"label\":\"significance\"\n",
    "# #                                   })\n",
    "    \n",
    "#     if levels[0]==levels[1]:\n",
    "#         print(\"ERRRRRRRRR\\n\\n\")\n",
    "#         levels[0] /= 1.01\n",
    "#     sns_ax = sns.kdeplot(x,y, shade=True,ax=ax,n_levels=levels,cmap=\"viridis\",normed=True, \n",
    "#                 cbar = False, vmin=levels[0], vmax=levels[-1])\n",
    "# #                          cbar_kws={#\"ticklocation\":av_levels(levels),\n",
    "# #                                    \"ticks\":[],\n",
    "# #                                    #\"format\":\">%s<\"\n",
    "# # #                                    \"format\":av_levels(levels)\n",
    "# # #                                   \"ticks\":[1,3,4]\n",
    "# #                                    \"label\":\"significance\"\n",
    "# #                                   })\n",
    "#                             #          \"labels\":levels})\n",
    "# #     fig.colorbar(cax,ticks=[-1, 0, 1])\n",
    "# #     ax.set_aspect('equal')\n",
    "#     kwargs = {}\n",
    "#     if k is 0:\n",
    "#         kwargs['label'] = 'best fit'\n",
    "#     plt.scatter(np.mean(x),np.mean(y), c='black',\n",
    "#                 marker = '+',**kwargs)\n",
    "#     if k is 0:\n",
    "#         kwargs['label'] = 'benchmark value'\n",
    "#     plt.scatter(results[item]['config']['mw'],\n",
    "#                 results[item]['config']['sigma'], c='blue',\n",
    "#                 marker = 'x',\n",
    "#                 **kwargs)\n",
    "#     if k is 0:\n",
    "#         cbar = ax.figure.colorbar(sns_ax.collections[0])\n",
    "#     #     cbar = sns_ax.figure.colorbar()#[0].colorbar\n",
    "#     #     print(av_levels(levels))\n",
    "#     #     cbar.set_ticks(av_levels(levels))\n",
    "#         cbar.set_ticks(av_levels(np.linspace(0,1,4)))\n",
    "#     #     print(level1)\n",
    "#         cbar.set_ticklabels(['$3\\sigma$', '$2\\sigma$', '$1\\sigma$'])\n",
    "#         cbar.set_label(\"Confidence interval\")\n",
    "#     #     cbar.set_nbins(4)\n",
    "# secax = ax.secondary_xaxis('top', functions=(pow10, np.log10))\n",
    "# # ax1.set_xticklabels([1])\n",
    "# # ax.set_xlim(np.log10(10),np.log10(1000))\n",
    "# x_ticks = [15, 25, 50, 100, 250, 500, 1000]\n",
    "# for x_tick in x_ticks:\n",
    "#     ax.axvline(np.log10(x_tick), alpha = 0.1)\n",
    "# secax.set_ticks(x_ticks)\n",
    "# plt.xlim(np.log10(x_ticks[0]),np.log10(x_ticks[-1]))\n",
    "# plt.xlabel(\"$\\log_{10}(M_{\\chi}$ $[GeV/c^{2}]$)\")\n",
    "# secax.set_xlabel(\"$M_{\\chi}$ $[GeV/c^{2}]$\")\n",
    "# plt.ylabel(\"$\\log_{10}(\\sigma_{S.I.}$ $[cm^{2}]$)\")\n",
    "# plt.legend()\n",
    "# plt.show()\n"
   ]
  },
  {
   "cell_type": "code",
   "execution_count": null,
   "metadata": {},
   "outputs": [],
   "source": [
    "cbar"
   ]
  },
  {
   "cell_type": "code",
   "execution_count": null,
   "metadata": {},
   "outputs": [],
   "source": [
    "def "
   ]
  },
  {
   "cell_type": "code",
   "execution_count": null,
   "metadata": {},
   "outputs": [],
   "source": [
    "sigma_to_p(2)"
   ]
  },
  {
   "cell_type": "code",
   "execution_count": null,
   "metadata": {},
   "outputs": [],
   "source": [
    "from scipy.special import erf\n",
    "def sigma_to_p(x):\n",
    "    return erf(x/np.sqrt(2))\n",
    "\n",
    "for x in range(1,5):\n",
    "    print(x, sigma_to_p(x))"
   ]
  },
  {
   "cell_type": "code",
   "execution_count": null,
   "metadata": {},
   "outputs": [],
   "source": [
    "combine_normalized(selected_keys[:3])"
   ]
  },
  {
   "cell_type": "code",
   "execution_count": null,
   "metadata": {},
   "outputs": [],
   "source": [
    "combine_normalized(selected_keys[3:6])"
   ]
  },
  {
   "cell_type": "code",
   "execution_count": null,
   "metadata": {},
   "outputs": [],
   "source": [
    "np.percentile(np.linspace(0,100,100), [5,95])"
   ]
  },
  {
   "cell_type": "code",
   "execution_count": null,
   "metadata": {},
   "outputs": [],
   "source": []
  },
  {
   "cell_type": "code",
   "execution_count": null,
   "metadata": {},
   "outputs": [],
   "source": [
    "items = selected_keys[:3]\n",
    "def get_df(items):\n",
    "#     df = pd.DataFrame()\n",
    "    for j, item in enumerate(items):\n",
    "        posteriors = get_p_i(item)\n",
    "        test_df = pd.DataFrame()\n",
    "        \n",
    "        test_df['$\\log(M_\\chi)$'] = posteriors[0]\n",
    "        test_df['$\\log(\\sigma)$'] = posteriors[1]\n",
    "        test_df['mass'] = 10**results[item]['config']['mw']\n",
    "#         sns.jointplot(x=\"x\", y=\"y\", data=test_df, kind=\"kde\",\n",
    "#                      ylim = [-46,-44],\n",
    "#                      xlim = [1,3]);\n",
    "        if j == 0:\n",
    "            df = test_df\n",
    "        else:\n",
    "            df = pd.concat([df, test_df])\n",
    "#     df = df.assign(industry='yyy')\n",
    "    return df\n",
    "data = get_df(items)\n",
    "print(np.unique(data.mass), len(data))\n",
    "data.head(3)"
   ]
  },
  {
   "cell_type": "code",
   "execution_count": null,
   "metadata": {},
   "outputs": [],
   "source": [
    "def plot_set(items, save_as):\n",
    "    # data = sns.load_dataset('iris')\n",
    "    # plt.figure(figsize=(15,10))\n",
    "    data = get_df(items)\n",
    "    print(np.unique(data.mass), len(data))\n",
    "    def make_kde(*args, **kwargs):  \n",
    "        #\"cbar\":True, \n",
    "    #     opts ={\"n_levels\":5}\n",
    "        sns.kdeplot(n_levels = 3, *args, cmap=next(make_kde.cmap_cycle), **kwargs)\n",
    "\n",
    "    def make_kde_cbar(*args, **kwargs):  \n",
    "        #\"cbar\":True, \n",
    "    #     opts ={\"n_levels\":5}\n",
    "        sns.kdeplot(n_levels = 3, cbar = True, *args, cmap=next(make_kde.cmap_cycle), **kwargs)\n",
    "    kwargs ={\"cbar\":True, \"n_levels\":5}\n",
    "    make_kde.cmap_cycle = cycle(('Blues_r', 'Oranges_r', 'Greens_r'))\n",
    "\n",
    "    pg = sns.PairGrid(data, vars=('$\\log(M_\\chi)$', '$\\log(\\sigma)$'), hue='mass')\n",
    "    pg.map_diag(sns.kdeplot)#, color = ({)'b', 'g', 'r'})\n",
    "    pg.map_lower(make_kde)\n",
    "    # pg.map_upper(make_kde_cbar)\n",
    "    pg.fig.set_size_inches(15,10)\n",
    "    pg.fig.savefig(f\"{det}_{save_as}.png\", dpi =300)\n",
    "    pg.fig.savefig(f\"{det}_{save_as}.pdf\", dpi =300)\n",
    "    plt.title(f\"{save_as}\")\n",
    "    plt.show()\n",
    "  "
   ]
  },
  {
   "cell_type": "code",
   "execution_count": null,
   "metadata": {},
   "outputs": [],
   "source": [
    "for k in range(len(selected_keys_names)):\n",
    "    plot_set(selected_keys_sets[k], selected_keys_names[k])"
   ]
  },
  {
   "cell_type": "code",
   "execution_count": null,
   "metadata": {
    "scrolled": true
   },
   "outputs": [],
   "source": [
    "# loading normal results.\n",
    "results = {}\n",
    "for i in range(200):\n",
    "    try:\n",
    "        results[i] = dddm.load_nestle_samples(\n",
    "            \"../../results/nestle_17nov\", i)\n",
    "        print()\n",
    "    except FileNotFoundError:\n",
    "        pass"
   ]
  },
  {
   "cell_type": "code",
   "execution_count": null,
   "metadata": {
    "scrolled": true
   },
   "outputs": [],
   "source": [
    "print(f\"selecting {det} dataset\")\n",
    "selected_keys = []\n",
    "for i in results.keys():\n",
    "    if results[i]['config']['n_energy_bins'] == 10:\n",
    "        if results[i]['config']['detector'] == det:\n",
    "            print(i,\n",
    "                  results[i]['config']['notes'], \n",
    "                  10**results[i]['config']['mw'],\n",
    "                  np.shape(results[i]['samples']))\n",
    "            selected_keys.append(i)    \n",
    "selected_keys"
   ]
  },
  {
   "cell_type": "code",
   "execution_count": null,
   "metadata": {
    "scrolled": true
   },
   "outputs": [],
   "source": [
    "# for key in results.keys():\n",
    "for key in selected_keys:\n",
    "    print(f\"---{key}---\")\n",
    "    result = results[key]\n",
    "    dddm.nestle_corner(result)"
   ]
  },
  {
   "cell_type": "code",
   "execution_count": null,
   "metadata": {},
   "outputs": [],
   "source": [
    "combine_normalized(selected_keys[1:4])"
   ]
  },
  {
   "cell_type": "code",
   "execution_count": null,
   "metadata": {},
   "outputs": [],
   "source": [
    "combine_normalized([selected_keys[0], *selected_keys[4:6]])"
   ]
  },
  {
   "cell_type": "code",
   "execution_count": null,
   "metadata": {},
   "outputs": [],
   "source": []
  },
  {
   "cell_type": "code",
   "execution_count": null,
   "metadata": {},
   "outputs": [],
   "source": [
    "# items = selected_keys[:3]\n",
    "def get_df(items):\n",
    "#     df = pd.DataFrame()\n",
    "    for j, item in enumerate(items):\n",
    "        posteriors = get_p_i(item)\n",
    "        test_df = pd.DataFrame()\n",
    "        \n",
    "        test_df['$\\log(M_\\chi)$'] = posteriors[0]\n",
    "        test_df['$\\log(\\sigma)$'] = posteriors[1]\n",
    "        test_df['mass'] = 10**results[item]['config']['mw']\n",
    "#         sns.jointplot(x=\"x\", y=\"y\", data=test_df, kind=\"kde\",\n",
    "#                      ylim = [-46,-44],\n",
    "#                      xlim = [1,3]);\n",
    "        if j == 0:\n",
    "            df = test_df\n",
    "        else:\n",
    "            df = pd.concat([df, test_df])\n",
    "#     df = df.assign(industry='yyy')\n",
    "    return df"
   ]
  },
  {
   "cell_type": "code",
   "execution_count": null,
   "metadata": {},
   "outputs": [],
   "source": [
    "items = [14,15,18]\n",
    "data = get_df(items)\n",
    "print(np.unique(data.mass), len(data))\n",
    "data.head(3)"
   ]
  },
  {
   "cell_type": "code",
   "execution_count": null,
   "metadata": {
    "scrolled": false
   },
   "outputs": [],
   "source": [
    "%%time\n",
    "# data = sns.load_dataset('iris')\n",
    "# plt.figure(figsize=(15,10))\n",
    "def make_kde(*args, **kwargs):  \n",
    "    #\"cbar\":True, \n",
    "#     opts ={\"n_levels\":5}\n",
    "    sns.kdeplot(n_levels = 3, *args, cmap=next(make_kde.cmap_cycle), **kwargs)\n",
    "\n",
    "def make_kde_cbar(*args, **kwargs):  \n",
    "    #\"cbar\":True, \n",
    "#     opts ={\"n_levels\":5}\n",
    "    sns.kdeplot(n_levels = 3, cbar = True, *args, cmap=next(make_kde.cmap_cycle), **kwargs)\n",
    "kwargs ={\"cbar\":True, \"n_levels\":5}\n",
    "make_kde.cmap_cycle = cycle(('Blues_r', 'Oranges_r', 'Greens_r'))\n",
    "\n",
    "pg = sns.PairGrid(data, vars=('$\\log(M_\\chi)$', '$\\log(\\sigma)$'), hue='mass')\n",
    "pg.map_diag(sns.kdeplot)#, color = ({)'b', 'g', 'r'})\n",
    "pg.map_lower(make_kde)\n",
    "# pg.map_upper(make_kde_cbar)\n",
    "pg.fig.set_size_inches(15,10)\n",
    "pg.fig.savefig(f\"{det}_fixed_astroph.png\", dpi =300)\n",
    "pg.fig.savefig(f\"{det}_fixed_astroph.pdf\", dpi =300)"
   ]
  },
  {
   "cell_type": "code",
   "execution_count": null,
   "metadata": {},
   "outputs": [],
   "source": [
    "items = [24, 25, 0]\n",
    "data = get_df(items)\n",
    "print(np.unique(data.mass), len(data))\n",
    "data.head(3)"
   ]
  },
  {
   "cell_type": "code",
   "execution_count": null,
   "metadata": {},
   "outputs": [],
   "source": [
    "%%time\n",
    "# data = sns.load_dataset('iris')\n",
    "# plt.figure(figsize=(15,10))\n",
    "def make_kde(*args, **kwargs):  \n",
    "    #\"cbar\":True, \n",
    "#     opts ={\"n_levels\":5}\n",
    "    sns.kdeplot(n_levels = 3, *args, cmap=next(make_kde.cmap_cycle), **kwargs)\n",
    "\n",
    "def make_kde_cbar(*args, **kwargs):  \n",
    "    #\"cbar\":True, \n",
    "#     opts ={\"n_levels\":5}\n",
    "    sns.kdeplot(n_levels = 3, cbar = True, *args, cmap=next(make_kde.cmap_cycle), **kwargs)\n",
    "kwargs ={\"cbar\":True, \"n_levels\":5}\n",
    "make_kde.cmap_cycle = cycle(('Blues_r', 'Oranges_r', 'Greens_r'))\n",
    "\n",
    "pg = sns.PairGrid(data, vars=('$\\log(M_\\chi)$', '$\\log(\\sigma)$'), hue='mass')\n",
    "pg.map_diag(sns.kdeplot)#, color = ({)'b', 'g', 'r'})\n",
    "pg.map_lower(make_kde)\n",
    "# pg.map_upper(make_kde_cbar)\n",
    "pg.fig.set_size_inches(15,10)\n",
    "pg.fig.savefig(f\"{det}_loose_astroph.png\", dpi =300)\n",
    "pg.fig.savefig(f\"{det}_loose_astroph.pdf\", dpi =300)"
   ]
  },
  {
   "cell_type": "code",
   "execution_count": null,
   "metadata": {},
   "outputs": [],
   "source": []
  },
  {
   "cell_type": "code",
   "execution_count": null,
   "metadata": {},
   "outputs": [],
   "source": []
  },
  {
   "cell_type": "code",
   "execution_count": null,
   "metadata": {},
   "outputs": [],
   "source": []
  },
  {
   "cell_type": "code",
   "execution_count": null,
   "metadata": {},
   "outputs": [],
   "source": []
  },
  {
   "cell_type": "code",
   "execution_count": null,
   "metadata": {},
   "outputs": [],
   "source": [
    "# np.shape(np.random.normal(1, 1, 10**6))\n"
   ]
  },
  {
   "cell_type": "code",
   "execution_count": null,
   "metadata": {},
   "outputs": [],
   "source": [
    "from scipy.stats.mstats import mquantiles"
   ]
  },
  {
   "cell_type": "code",
   "execution_count": null,
   "metadata": {},
   "outputs": [],
   "source": []
  },
  {
   "cell_type": "code",
   "execution_count": null,
   "metadata": {
    "scrolled": true
   },
   "outputs": [],
   "source": [
    "# x, y = np.random.multivariate_normal(mean, cov, 1000).T\n",
    "with sns.axes_style(\"white\"):\n",
    "    sns.jointplot(x=test[0], y=test[1], kind=\"hex\", color=\"k\");"
   ]
  },
  {
   "cell_type": "code",
   "execution_count": null,
   "metadata": {
    "scrolled": true
   },
   "outputs": [],
   "source": [
    "f, ax = plt.subplots(figsize=(6, 6))\n",
    "sns.kdeplot(test[0], test[1], ax=ax)\n",
    "sns.rugplot(test[0], color=\"g\", ax=ax)\n",
    "sns.rugplot(test[1], vertical=True, ax=ax);"
   ]
  },
  {
   "cell_type": "code",
   "execution_count": null,
   "metadata": {},
   "outputs": [],
   "source": [
    "test_df = pd.DataFrame()\n",
    "test_df['x'] = test[0]\n",
    "test_df['y'] = test[1]"
   ]
  },
  {
   "cell_type": "code",
   "execution_count": null,
   "metadata": {
    "scrolled": true
   },
   "outputs": [],
   "source": [
    "sns.jointplot(x=\"x\", y=\"y\", data=test_df, kind=\"kde\");"
   ]
  },
  {
   "cell_type": "code",
   "execution_count": null,
   "metadata": {},
   "outputs": [],
   "source": [
    "items = selected_keys\n",
    "\n",
    "def plot_posterior(items):\n",
    "    posteriors = [get_p_i(item) for item in items]\n",
    "    test_df = pd.DataFrame()\n",
    "\n",
    "    test_df['x'] = np.concatenate([p[0] for p in posteriors])\n",
    "    test_df['y'] = np.concatenate([p[1] for p in posteriors])\n",
    "    sns.jointplot(x=\"x\", y=\"y\", data=test_df, kind=\"kde\",\n",
    "                 ylim = [-46,-44],\n",
    "                 xlim = [1,3]);\n",
    "plot_posterior(items)"
   ]
  },
  {
   "cell_type": "code",
   "execution_count": null,
   "metadata": {},
   "outputs": [],
   "source": [
    "items = selected_keys[:3]\n",
    "def plot_posterior_per_item(items):\n",
    "    for item in items:\n",
    "        posteriors = get_p_i(item)\n",
    "        test_df = pd.DataFrame()\n",
    "\n",
    "        test_df['x'] = posteriors[0]\n",
    "        test_df['y'] = posteriors[1]\n",
    "        sns.jointplot(x=\"x\", y=\"y\", data=test_df, kind=\"kde\",\n",
    "                     ylim = [-46,-44],\n",
    "                     xlim = [1,3]);\n",
    "plot_posterior_per_item(items)"
   ]
  },
  {
   "cell_type": "code",
   "execution_count": null,
   "metadata": {},
   "outputs": [],
   "source": [
    "items = selected_keys[:3]\n",
    "\n",
    "# sns.jointplot(x=\"x\", y=\"y\", data=test_df, kind=\"kde\",\n",
    "#                      ylim = [-46,-44],\n",
    "#                      xlim = [1,3]);\n",
    "def plot_posterior_per_item(items):\n",
    "    for j, item in enumerate(items):\n",
    "        posteriors = get_p_i(item)\n",
    "        test_df = pd.DataFrame()\n",
    "\n",
    "        test_df[f'x'] = posteriors[0]\n",
    "        test_df[f'y'] = posteriors[1]\n",
    "        if j ==0:\n",
    "            \n",
    "            grid = sns.JointGrid(x=\"x\", y=\"y\", data=test_df)\n",
    "        grid = grid.plot_joint(\n",
    "            sns.jointplot(x=\"x\", y=\"y\", data=test_df, kind=\"kde\",\n",
    "                     ylim = [-46,-44],\n",
    "                     xlim = [1,3]));\n",
    "plot_posterior_per_item(items)"
   ]
  },
  {
   "cell_type": "code",
   "execution_count": null,
   "metadata": {},
   "outputs": [],
   "source": [
    "selected_keys"
   ]
  },
  {
   "cell_type": "code",
   "execution_count": null,
   "metadata": {},
   "outputs": [],
   "source": [
    "for key in [40,46]:\n",
    "    print(results[key]['config']['mw'])"
   ]
  },
  {
   "cell_type": "code",
   "execution_count": null,
   "metadata": {},
   "outputs": [],
   "source": [
    "X, Y = np.meshgrid(*test2[1:])\n",
    "plt.pcolormesh(X, Y, test.T/np.sum(test.T), norm = LogNorm())\n",
    "plt.colorbar()\n",
    "plt.show()"
   ]
  },
  {
   "cell_type": "code",
   "execution_count": null,
   "metadata": {},
   "outputs": [],
   "source": [
    "X, Y = np.meshgrid(*test2[1:])\n",
    "plt.pcolormesh(X, Y, test.T/np.sum(test.T), norm = LogNorm())\n",
    "plt.colorbar()\n",
    "plt.show()"
   ]
  },
  {
   "cell_type": "code",
   "execution_count": null,
   "metadata": {},
   "outputs": [],
   "source": [
    "X, Y = np.meshgrid(*test2[1:])\n",
    "plt.pcolormesh(X, Y, test2[0].T/np.sum(test2[0].T), norm = LogNorm())\n",
    "plt.colorbar()\n",
    "plt.show()"
   ]
  },
  {
   "cell_type": "code",
   "execution_count": null,
   "metadata": {},
   "outputs": [],
   "source": [
    "# %time\n",
    "# items = results.keys()\n",
    "# def get_p_i(i):\n",
    "#     return get_posterior(results[i]['samples'], results[i]['weights']).T[:2]\n",
    "# posteriors = [get_p_i(item) for item in items]\n",
    "# test_df = pd.DataFrame()\n",
    "\n",
    "# test_df['x'] = np.concatenate([p[0] for p in posteriors])\n",
    "# test_df['y'] = np.concatenate([p[1] for p in posteriors])\n",
    "# sns.jointplot(x=\"x\", y=\"y\", data=test_df, kind=\"kde\",\n",
    "#              ylim = [-46,-44],\n",
    "#              xlim = [1,3]);"
   ]
  },
  {
   "cell_type": "code",
   "execution_count": null,
   "metadata": {},
   "outputs": [],
   "source": []
  },
  {
   "cell_type": "code",
   "execution_count": null,
   "metadata": {},
   "outputs": [],
   "source": []
  },
  {
   "cell_type": "code",
   "execution_count": null,
   "metadata": {},
   "outputs": [],
   "source": []
  },
  {
   "cell_type": "code",
   "execution_count": null,
   "metadata": {},
   "outputs": [],
   "source": []
  },
  {
   "cell_type": "code",
   "execution_count": null,
   "metadata": {},
   "outputs": [],
   "source": []
  },
  {
   "cell_type": "code",
   "execution_count": null,
   "metadata": {},
   "outputs": [],
   "source": []
  },
  {
   "cell_type": "code",
   "execution_count": null,
   "metadata": {},
   "outputs": [],
   "source": []
  }
 ],
 "metadata": {
  "kernelspec": {
   "display_name": "Python 3",
   "language": "python",
   "name": "python3"
  },
  "language_info": {
   "codemirror_mode": {
    "name": "ipython",
    "version": 3
   },
   "file_extension": ".py",
   "mimetype": "text/x-python",
   "name": "python",
   "nbconvert_exporter": "python",
   "pygments_lexer": "ipython3",
   "version": "3.7.4"
  }
 },
 "nbformat": 4,
 "nbformat_minor": 2
}
