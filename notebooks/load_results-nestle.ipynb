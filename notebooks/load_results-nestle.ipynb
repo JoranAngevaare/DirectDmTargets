{
 "cells": [
  {
   "cell_type": "markdown",
   "metadata": {},
   "source": [
    "# Loading results"
   ]
  },
  {
   "cell_type": "code",
   "execution_count": 87,
   "metadata": {},
   "outputs": [],
   "source": [
    "import DirectDmTargets as dddm"
   ]
  },
  {
   "cell_type": "code",
   "execution_count": 2,
   "metadata": {},
   "outputs": [],
   "source": [
    "import corner"
   ]
  },
  {
   "cell_type": "code",
   "execution_count": 3,
   "metadata": {},
   "outputs": [],
   "source": [
    "import matplotlib.pyplot as plt"
   ]
  },
  {
   "cell_type": "code",
   "execution_count": 4,
   "metadata": {},
   "outputs": [],
   "source": [
    "import numpy as np"
   ]
  },
  {
   "cell_type": "code",
   "execution_count": 5,
   "metadata": {},
   "outputs": [],
   "source": [
    "import os"
   ]
  },
  {
   "cell_type": "code",
   "execution_count": 6,
   "metadata": {},
   "outputs": [],
   "source": [
    "import multihist as mh"
   ]
  },
  {
   "cell_type": "code",
   "execution_count": 7,
   "metadata": {},
   "outputs": [],
   "source": [
    "import seaborn as sns\n",
    "import matplotlib.pyplot as plt\n",
    "import pandas as pd\n",
    "from itertools import cycle\n",
    "# import numpy as np\n",
    "import scipy.optimize\n",
    "# import matplotlib.pyplot as plt\n",
    "# import seaborn as sns\n"
   ]
  },
  {
   "cell_type": "code",
   "execution_count": 79,
   "metadata": {},
   "outputs": [],
   "source": [
    "pd.set_option('display.width', 1000000)\n",
    "pd.set_option('display.max_columns', 700)"
   ]
  },
  {
   "cell_type": "code",
   "execution_count": 11,
   "metadata": {
    "scrolled": true
   },
   "outputs": [
    {
     "name": "stdout",
     "output_type": "stream",
     "text": [
      "load_nestle_samples::\tloading results/../../results/nestle0/\n",
      "load_nestle_samples::\tdone loading\n",
      "access result with:\n",
      "['config', 'res_dict', 'h', 'logl', 'logvol', 'logz', 'logzerr', 'ncall', 'niter', 'samples', 'weights']\n",
      "\n",
      "load_nestle_samples::\tloading results/../../results/nestle1/\n",
      "load_nestle_samples::\tdone loading\n",
      "access result with:\n",
      "['config', 'res_dict', 'h', 'logl', 'logvol', 'logz', 'logzerr', 'ncall', 'niter', 'samples', 'weights']\n",
      "\n",
      "load_nestle_samples::\tloading results/../../results/nestle2/\n",
      "load_nestle_samples::\tdone loading\n",
      "access result with:\n",
      "['config', 'res_dict', 'h', 'logl', 'logvol', 'logz', 'logzerr', 'ncall', 'niter', 'samples', 'weights']\n",
      "\n",
      "load_nestle_samples::\tloading results/../../results/nestle3/\n",
      "load_nestle_samples::\tdone loading\n",
      "access result with:\n",
      "['config', 'res_dict', 'h', 'logl', 'logvol', 'logz', 'logzerr', 'ncall', 'niter', 'samples', 'weights']\n",
      "\n",
      "load_nestle_samples::\tloading results/../../results/nestle4/\n",
      "load_nestle_samples::\tdone loading\n",
      "access result with:\n",
      "['config', 'res_dict', 'h', 'logl', 'logvol', 'logz', 'logzerr', 'ncall', 'niter', 'samples', 'weights']\n",
      "\n",
      "load_nestle_samples::\tloading results/../../results/nestle5/\n",
      "load_nestle_samples::\tdone loading\n",
      "access result with:\n",
      "['config', 'res_dict', 'h', 'logl', 'logvol', 'logz', 'logzerr', 'ncall', 'niter', 'samples', 'weights']\n",
      "\n",
      "load_nestle_samples::\tloading results/../../results/nestle6/\n",
      "load_nestle_samples::\tdone loading\n",
      "access result with:\n",
      "['config', 'res_dict', 'h', 'logl', 'logvol', 'logz', 'logzerr', 'ncall', 'niter', 'samples', 'weights']\n",
      "\n",
      "load_nestle_samples::\tloading results/../../results/nestle7/\n",
      "load_nestle_samples::\tdone loading\n",
      "access result with:\n",
      "['config', 'res_dict', 'h', 'logl', 'logvol', 'logz', 'logzerr', 'ncall', 'niter', 'samples', 'weights']\n",
      "\n",
      "load_nestle_samples::\tloading results/../../results/nestle8/\n",
      "load_nestle_samples::\tdone loading\n",
      "access result with:\n",
      "['config', 'res_dict', 'h', 'logl', 'logvol', 'logz', 'logzerr', 'ncall', 'niter', 'samples', 'weights']\n",
      "\n",
      "load_nestle_samples::\tloading results/../../results/nestle9/\n",
      "load_nestle_samples::\tdone loading\n",
      "access result with:\n",
      "['config', 'res_dict', 'h', 'logl', 'logvol', 'logz', 'logzerr', 'ncall', 'niter', 'samples', 'weights']\n",
      "\n",
      "load_nestle_samples::\tloading results/../../results/nestle10/\n",
      "load_nestle_samples::\tdone loading\n",
      "access result with:\n",
      "['config', 'res_dict', 'h', 'logl', 'logvol', 'logz', 'logzerr', 'ncall', 'niter', 'samples', 'weights']\n",
      "\n",
      "load_nestle_samples::\tloading results/../../results/nestle11/\n",
      "load_nestle_samples::\tdone loading\n",
      "access result with:\n",
      "['config', 'res_dict', 'h', 'logl', 'logvol', 'logz', 'logzerr', 'ncall', 'niter', 'samples', 'weights']\n",
      "\n",
      "load_nestle_samples::\tloading results/../../results/nestle12/\n",
      "load_nestle_samples::\tdone loading\n",
      "access result with:\n",
      "['config', 'res_dict', 'h', 'logl', 'logvol', 'logz', 'logzerr', 'ncall', 'niter', 'samples', 'weights']\n",
      "\n",
      "load_nestle_samples::\tloading results/../../results/nestle13/\n",
      "load_nestle_samples::\tdone loading\n",
      "access result with:\n",
      "['config', 'res_dict', 'h', 'logl', 'logvol', 'logz', 'logzerr', 'ncall', 'niter', 'samples', 'weights']\n",
      "\n",
      "load_nestle_samples::\tloading results/../../results/nestle14/\n",
      "load_nestle_samples::\tdone loading\n",
      "access result with:\n",
      "['config', 'res_dict', 'h', 'logl', 'logvol', 'logz', 'logzerr', 'ncall', 'niter', 'samples', 'weights']\n",
      "\n",
      "load_nestle_samples::\tloading results/../../results/nestle15/\n",
      "load_nestle_samples::\tdone loading\n",
      "access result with:\n",
      "['config', 'res_dict', 'h', 'logl', 'logvol', 'logz', 'logzerr', 'ncall', 'niter', 'samples', 'weights']\n",
      "\n",
      "load_nestle_samples::\tloading results/../../results/nestle16/\n",
      "load_nestle_samples::\tdone loading\n",
      "access result with:\n",
      "['config', 'res_dict', 'h', 'logl', 'logvol', 'logz', 'logzerr', 'ncall', 'niter', 'samples', 'weights']\n",
      "\n",
      "load_nestle_samples::\tloading results/../../results/nestle17/\n",
      "load_nestle_samples::\tdone loading\n",
      "access result with:\n",
      "['config', 'res_dict', 'h', 'logl', 'logvol', 'logz', 'logzerr', 'ncall', 'niter', 'samples', 'weights']\n",
      "\n",
      "load_nestle_samples::\tloading results/../../results/nestle18/\n",
      "load_nestle_samples::\tdone loading\n",
      "access result with:\n",
      "['config', 'res_dict', 'h', 'logl', 'logvol', 'logz', 'logzerr', 'ncall', 'niter', 'samples', 'weights']\n",
      "\n",
      "load_nestle_samples::\tloading results/../../results/nestle19/\n",
      "load_nestle_samples::\tdone loading\n",
      "access result with:\n",
      "['config', 'res_dict', 'h', 'logl', 'logvol', 'logz', 'logzerr', 'ncall', 'niter', 'samples', 'weights']\n",
      "\n",
      "load_nestle_samples::\tloading results/../../results/nestle20/\n",
      "load_nestle_samples::\tdone loading\n",
      "access result with:\n",
      "['config', 'res_dict', 'h', 'logl', 'logvol', 'logz', 'logzerr', 'ncall', 'niter', 'samples', 'weights']\n",
      "\n",
      "load_nestle_samples::\tloading results/../../results/nestle21/\n",
      "load_nestle_samples::\tdone loading\n",
      "access result with:\n",
      "['config', 'res_dict', 'h', 'logl', 'logvol', 'logz', 'logzerr', 'ncall', 'niter', 'samples', 'weights']\n",
      "\n",
      "load_nestle_samples::\tloading results/../../results/nestle22/\n",
      "load_nestle_samples::\tdone loading\n",
      "access result with:\n",
      "['config', 'res_dict', 'h', 'logl', 'logvol', 'logz', 'logzerr', 'ncall', 'niter', 'samples', 'weights']\n",
      "\n",
      "load_nestle_samples::\tloading results/../../results/nestle23/\n",
      "load_nestle_samples::\tdone loading\n",
      "access result with:\n",
      "['config', 'res_dict', 'h', 'logl', 'logvol', 'logz', 'logzerr', 'ncall', 'niter', 'samples', 'weights']\n",
      "\n",
      "load_nestle_samples::\tloading results/../../results/nestle24/\n",
      "load_nestle_samples::\tdone loading\n",
      "access result with:\n",
      "['config', 'res_dict', 'h', 'logl', 'logvol', 'logz', 'logzerr', 'ncall', 'niter', 'samples', 'weights']\n",
      "\n",
      "load_nestle_samples::\tloading results/../../results/nestle25/\n",
      "load_nestle_samples::\tdone loading\n",
      "access result with:\n",
      "['config', 'res_dict', 'h', 'logl', 'logvol', 'logz', 'logzerr', 'ncall', 'niter', 'samples', 'weights']\n",
      "\n",
      "load_nestle_samples::\tloading results/../../results/nestle26/\n",
      "load_nestle_samples::\tdone loading\n",
      "access result with:\n",
      "['config', 'res_dict', 'h', 'logl', 'logvol', 'logz', 'logzerr', 'ncall', 'niter', 'samples', 'weights']\n",
      "\n",
      "load_nestle_samples::\tloading results/../../results/nestle27/\n",
      "load_nestle_samples::\tdone loading\n",
      "access result with:\n",
      "['config', 'res_dict', 'h', 'logl', 'logvol', 'logz', 'logzerr', 'ncall', 'niter', 'samples', 'weights']\n",
      "\n",
      "load_nestle_samples::\tloading results/../../results/nestle28/\n",
      "load_nestle_samples::\tdone loading\n",
      "access result with:\n",
      "['config', 'res_dict', 'h', 'logl', 'logvol', 'logz', 'logzerr', 'ncall', 'niter', 'samples', 'weights']\n",
      "\n",
      "load_nestle_samples::\tloading results/../../results/nestle29/\n",
      "load_nestle_samples::\tdone loading\n",
      "access result with:\n",
      "['config', 'res_dict', 'h', 'logl', 'logvol', 'logz', 'logzerr', 'ncall', 'niter', 'samples', 'weights']\n",
      "\n",
      "load_nestle_samples::\tloading results/../../results/nestle30/\n",
      "load_nestle_samples::\tdone loading\n",
      "access result with:\n",
      "['config', 'res_dict', 'h', 'logl', 'logvol', 'logz', 'logzerr', 'ncall', 'niter', 'samples', 'weights']\n",
      "\n",
      "load_nestle_samples::\tloading results/../../results/nestle31/\n",
      "load_nestle_samples::\tdone loading\n",
      "access result with:\n",
      "['config', 'res_dict', 'h', 'logl', 'logvol', 'logz', 'logzerr', 'ncall', 'niter', 'samples', 'weights']\n",
      "\n",
      "load_nestle_samples::\tloading results/../../results/nestle32/\n",
      "load_nestle_samples::\tdone loading\n",
      "access result with:\n",
      "['config', 'res_dict', 'h', 'logl', 'logvol', 'logz', 'logzerr', 'ncall', 'niter', 'samples', 'weights']\n",
      "\n",
      "load_nestle_samples::\tloading results/../../results/nestle33/\n",
      "load_nestle_samples::\tdone loading\n",
      "access result with:\n",
      "['config', 'res_dict', 'h', 'logl', 'logvol', 'logz', 'logzerr', 'ncall', 'niter', 'samples', 'weights']\n",
      "\n",
      "load_nestle_samples::\tloading results/../../results/nestle34/\n",
      "load_nestle_samples::\tdone loading\n",
      "access result with:\n",
      "['config', 'res_dict', 'h', 'logl', 'logvol', 'logz', 'logzerr', 'ncall', 'niter', 'samples', 'weights']\n",
      "\n",
      "load_nestle_samples::\tloading results/../../results/nestle35/\n",
      "load_nestle_samples::\tdone loading\n",
      "access result with:\n",
      "['config', 'res_dict', 'h', 'logl', 'logvol', 'logz', 'logzerr', 'ncall', 'niter', 'samples', 'weights']\n",
      "\n",
      "load_nestle_samples::\tloading results/../../results/nestle36/\n",
      "load_nestle_samples::\tdone loading\n",
      "access result with:\n",
      "['config', 'res_dict', 'h', 'logl', 'logvol', 'logz', 'logzerr', 'ncall', 'niter', 'samples', 'weights']\n",
      "\n",
      "load_nestle_samples::\tloading results/../../results/nestle37/\n",
      "load_nestle_samples::\tdone loading\n",
      "access result with:\n",
      "['config', 'res_dict', 'h', 'logl', 'logvol', 'logz', 'logzerr', 'ncall', 'niter', 'samples', 'weights']\n",
      "\n",
      "load_nestle_samples::\tloading results/../../results/nestle38/\n"
     ]
    },
    {
     "name": "stdout",
     "output_type": "stream",
     "text": [
      "load_nestle_samples::\tdone loading\n",
      "access result with:\n",
      "['config', 'res_dict', 'h', 'logl', 'logvol', 'logz', 'logzerr', 'ncall', 'niter', 'samples', 'weights']\n",
      "\n",
      "load_nestle_samples::\tloading results/../../results/nestle39/\n",
      "load_nestle_samples::\tdone loading\n",
      "access result with:\n",
      "['config', 'res_dict', 'h', 'logl', 'logvol', 'logz', 'logzerr', 'ncall', 'niter', 'samples', 'weights']\n",
      "\n",
      "load_nestle_samples::\tloading results/../../results/nestle40/\n",
      "load_nestle_samples::\tdone loading\n",
      "access result with:\n",
      "['config', 'res_dict', 'h', 'logl', 'logvol', 'logz', 'logzerr', 'ncall', 'niter', 'samples', 'weights']\n",
      "\n",
      "load_nestle_samples::\tloading results/../../results/nestle41/\n",
      "load_nestle_samples::\tdone loading\n",
      "access result with:\n",
      "['config', 'res_dict', 'h', 'logl', 'logvol', 'logz', 'logzerr', 'ncall', 'niter', 'samples', 'weights']\n",
      "\n",
      "load_nestle_samples::\tloading results/../../results/nestle42/\n",
      "load_nestle_samples::\tdone loading\n",
      "access result with:\n",
      "['config', 'res_dict', 'h', 'logl', 'logvol', 'logz', 'logzerr', 'ncall', 'niter', 'samples', 'weights']\n",
      "\n",
      "load_nestle_samples::\tloading results/../../results/nestle43/\n",
      "load_nestle_samples::\tdone loading\n",
      "access result with:\n",
      "['config', 'res_dict', 'h', 'logl', 'logvol', 'logz', 'logzerr', 'ncall', 'niter', 'samples', 'weights']\n",
      "\n",
      "load_nestle_samples::\tloading results/../../results/nestle44/\n",
      "load_nestle_samples::\tdone loading\n",
      "access result with:\n",
      "['config', 'res_dict', 'h', 'logl', 'logvol', 'logz', 'logzerr', 'ncall', 'niter', 'samples', 'weights']\n",
      "\n",
      "load_nestle_samples::\tloading results/../../results/nestle45/\n",
      "load_nestle_samples::\tdone loading\n",
      "access result with:\n",
      "['config', 'res_dict', 'h', 'logl', 'logvol', 'logz', 'logzerr', 'ncall', 'niter', 'samples', 'weights']\n",
      "\n",
      "load_nestle_samples::\tloading results/../../results/nestle46/\n",
      "load_nestle_samples::\tdone loading\n",
      "access result with:\n",
      "['config', 'res_dict', 'h', 'logl', 'logvol', 'logz', 'logzerr', 'ncall', 'niter', 'samples', 'weights']\n",
      "\n",
      "load_nestle_samples::\tloading results/../../results/nestle47/\n",
      "load_nestle_samples::\tdone loading\n",
      "access result with:\n",
      "['config', 'res_dict', 'h', 'logl', 'logvol', 'logz', 'logzerr', 'ncall', 'niter', 'samples', 'weights']\n",
      "\n",
      "load_nestle_samples::\tloading results/../../results/nestle48/\n",
      "load_nestle_samples::\tdone loading\n",
      "access result with:\n",
      "['config', 'res_dict', 'h', 'logl', 'logvol', 'logz', 'logzerr', 'ncall', 'niter', 'samples', 'weights']\n",
      "\n",
      "load_nestle_samples::\tloading results/../../results/nestle49/\n",
      "load_nestle_samples::\tdone loading\n",
      "access result with:\n",
      "['config', 'res_dict', 'h', 'logl', 'logvol', 'logz', 'logzerr', 'ncall', 'niter', 'samples', 'weights']\n",
      "\n",
      "load_nestle_samples::\tloading results/../../results/nestle50/\n",
      "load_nestle_samples::\tdone loading\n",
      "access result with:\n",
      "['config', 'res_dict', 'h', 'logl', 'logvol', 'logz', 'logzerr', 'ncall', 'niter', 'samples', 'weights']\n",
      "\n",
      "load_nestle_samples::\tloading results/../../results/nestle51/\n",
      "load_nestle_samples::\tdone loading\n",
      "access result with:\n",
      "['config', 'res_dict', 'h', 'logl', 'logvol', 'logz', 'logzerr', 'ncall', 'niter', 'samples', 'weights']\n",
      "\n",
      "load_nestle_samples::\tloading results/../../results/nestle52/\n",
      "load_nestle_samples::\tdone loading\n",
      "access result with:\n",
      "['config', 'res_dict', 'h', 'logl', 'logvol', 'logz', 'logzerr', 'ncall', 'niter', 'samples', 'weights']\n",
      "\n",
      "load_nestle_samples::\tloading results/../../results/nestle53/\n",
      "load_nestle_samples::\tdone loading\n",
      "access result with:\n",
      "['config', 'res_dict', 'h', 'logl', 'logvol', 'logz', 'logzerr', 'ncall', 'niter', 'samples', 'weights']\n",
      "\n"
     ]
    }
   ],
   "source": [
    "# loading normal results.\n",
    "results = {}\n",
    "for i in range(200):\n",
    "    try:\n",
    "        results[i] = dddm.load_nestle_samples(\n",
    "            \"../../results/nestle\", i)\n",
    "        print()\n",
    "    except FileNotFoundError:\n",
    "        pass"
   ]
  },
  {
   "cell_type": "code",
   "execution_count": null,
   "metadata": {},
   "outputs": [],
   "source": []
  },
  {
   "cell_type": "code",
   "execution_count": 164,
   "metadata": {
    "scrolled": false
   },
   "outputs": [
    {
     "data": {
      "text/html": [
       "<div>\n",
       "<style scoped>\n",
       "    .dataframe tbody tr th:only-of-type {\n",
       "        vertical-align: middle;\n",
       "    }\n",
       "\n",
       "    .dataframe tbody tr th {\n",
       "        vertical-align: top;\n",
       "    }\n",
       "\n",
       "    .dataframe thead th {\n",
       "        text-align: right;\n",
       "    }\n",
       "</style>\n",
       "<table border=\"1\" class=\"dataframe\">\n",
       "  <thead>\n",
       "    <tr style=\"text-align: right;\">\n",
       "      <th></th>\n",
       "      <th>item</th>\n",
       "      <th>config_detector</th>\n",
       "      <th>config_poisson</th>\n",
       "      <th>config_n_energy_bins</th>\n",
       "      <th>config_prior_log_mass_range</th>\n",
       "      <th>config_prior_log_mass_prior_type</th>\n",
       "      <th>config_prior_log_mass_param</th>\n",
       "      <th>config_prior_log_mass_dist</th>\n",
       "      <th>config_prior_log_cross_section_range</th>\n",
       "      <th>config_prior_log_cross_section_prior_type</th>\n",
       "      <th>config_prior_log_cross_section_param</th>\n",
       "      <th>config_prior_log_cross_section_dist</th>\n",
       "      <th>config_prior_density_range</th>\n",
       "      <th>config_prior_density_prior_type</th>\n",
       "      <th>config_prior_density_mean</th>\n",
       "      <th>config_prior_density_std</th>\n",
       "      <th>config_prior_density_param</th>\n",
       "      <th>config_prior_density_dist</th>\n",
       "      <th>config_prior_v_0_range</th>\n",
       "      <th>config_prior_v_0_prior_type</th>\n",
       "      <th>config_prior_v_0_mean</th>\n",
       "      <th>config_prior_v_0_std</th>\n",
       "      <th>config_prior_v_0_param</th>\n",
       "      <th>config_prior_v_0_dist</th>\n",
       "      <th>config_prior_v_esc_range</th>\n",
       "      <th>config_prior_v_esc_prior_type</th>\n",
       "      <th>config_prior_v_esc_mean</th>\n",
       "      <th>config_prior_v_esc_std</th>\n",
       "      <th>config_prior_v_esc_param</th>\n",
       "      <th>config_prior_v_esc_dist</th>\n",
       "      <th>config_prior_k_range</th>\n",
       "      <th>config_prior_k_prior_type</th>\n",
       "      <th>config_prior_k_param</th>\n",
       "      <th>config_prior_k_dist</th>\n",
       "      <th>config_v_0</th>\n",
       "      <th>config_v_esc</th>\n",
       "      <th>config_density</th>\n",
       "      <th>config_mw</th>\n",
       "      <th>config_sigma</th>\n",
       "      <th>config_halo_model</th>\n",
       "      <th>config_spectrum_class</th>\n",
       "      <th>config_det_params</th>\n",
       "      <th>config_start</th>\n",
       "      <th>config_notes</th>\n",
       "      <th>config_fit_time</th>\n",
       "      <th>config_fit_parameters</th>\n",
       "      <th>res_dict_nestle_nposterior</th>\n",
       "      <th>res_dict_nestle_time</th>\n",
       "      <th>res_dict_nestle_logZ</th>\n",
       "      <th>res_dict_nestle_logZerr</th>\n",
       "      <th>res_dict_summary</th>\n",
       "      <th>res_dict_log_mass_fit_res</th>\n",
       "      <th>res_dict_mass_fit_res</th>\n",
       "      <th>res_dict_log_cross_section_fit_res</th>\n",
       "      <th>res_dict_cross_section_fit_res</th>\n",
       "      <th>h</th>\n",
       "      <th>logl</th>\n",
       "      <th>logvol</th>\n",
       "      <th>logz</th>\n",
       "      <th>logzerr</th>\n",
       "      <th>ncall</th>\n",
       "      <th>niter</th>\n",
       "      <th>mw</th>\n",
       "      <th>n_fit_parameters</th>\n",
       "    </tr>\n",
       "  </thead>\n",
       "  <tbody>\n",
       "    <tr>\n",
       "      <th>0</th>\n",
       "      <td>0</td>\n",
       "      <td>Ar</td>\n",
       "      <td>False</td>\n",
       "      <td>10</td>\n",
       "      <td>[0.01, 4]</td>\n",
       "      <td>flat</td>\n",
       "      <td>[0.01, 4]</td>\n",
       "      <td>&lt;function get_priors.&lt;locals&gt;.&lt;lambda&gt; at 0x7f...</td>\n",
       "      <td>[-49, -44]</td>\n",
       "      <td>flat</td>\n",
       "      <td>[-49, -44]</td>\n",
       "      <td>&lt;function get_priors.&lt;locals&gt;.&lt;lambda&gt; at 0x7f...</td>\n",
       "      <td>[0.001, 0.9]</td>\n",
       "      <td>gauss</td>\n",
       "      <td>0.55</td>\n",
       "      <td>0.1</td>\n",
       "      <td>(0.55, 0.1)</td>\n",
       "      <td>&lt;function get_priors.&lt;locals&gt;.&lt;lambda&gt; at 0x7f...</td>\n",
       "      <td>[80, 380]</td>\n",
       "      <td>gauss</td>\n",
       "      <td>233</td>\n",
       "      <td>3</td>\n",
       "      <td>(233, 3)</td>\n",
       "      <td>&lt;function get_priors.&lt;locals&gt;.&lt;lambda&gt; at 0x7f...</td>\n",
       "      <td>[379, 709]</td>\n",
       "      <td>gauss</td>\n",
       "      <td>528</td>\n",
       "      <td>24.5</td>\n",
       "      <td>(528, 24.5)</td>\n",
       "      <td>&lt;function get_priors.&lt;locals&gt;.&lt;lambda&gt; at 0x7f...</td>\n",
       "      <td>[0.5, 3.5]</td>\n",
       "      <td>flat</td>\n",
       "      <td>[0.5, 3.5]</td>\n",
       "      <td>&lt;function get_priors.&lt;locals&gt;.&lt;lambda&gt; at 0x7f...</td>\n",
       "      <td>233</td>\n",
       "      <td>528</td>\n",
       "      <td>0.55</td>\n",
       "      <td>1.39794</td>\n",
       "      <td>-47.0</td>\n",
       "      <td>&lt;DirectDmTargets.halo.SHM object at 0x7f76b84b...</td>\n",
       "      <td>&lt;class 'DirectDmTargets.detector.DetectorSpect...</td>\n",
       "      <td>{'exp': 10, 'cut_eff': 0.8, 'nr_eff': 0.8, 'E_...</td>\n",
       "      <td>2019-11-28 11:22:46.416072</td>\n",
       "      <td>nestle_Final_28nov13</td>\n",
       "      <td>5880</td>\n",
       "      <td>[log_mass, log_cross_section]</td>\n",
       "      <td>6276</td>\n",
       "      <td>5880</td>\n",
       "      <td>-1.414071</td>\n",
       "      <td>0.013639</td>\n",
       "      <td>niter: 23070\\nncall: 61135\\nnsamples: 27166\\nl...</td>\n",
       "      <td>2.60 +/-  0.88</td>\n",
       "      <td>400 +/- 8.1e+02</td>\n",
       "      <td>-47.31 +/-  1.01</td>\n",
       "      <td>4.95e-48 +/- 1.2e-47</td>\n",
       "      <td>0.7619408053516306</td>\n",
       "      <td>[-422.29500525174035, -406.67616660478586, -39...</td>\n",
       "      <td>[-8.317888234548317, -8.318132375173317, -8.31...</td>\n",
       "      <td>-1.414070858208646</td>\n",
       "      <td>0.013638940737152223</td>\n",
       "      <td>61135</td>\n",
       "      <td>23070</td>\n",
       "      <td>25.0</td>\n",
       "      <td>2</td>\n",
       "    </tr>\n",
       "    <tr>\n",
       "      <th>1</th>\n",
       "      <td>1</td>\n",
       "      <td>Xe</td>\n",
       "      <td>False</td>\n",
       "      <td>10</td>\n",
       "      <td>[0.01, 4]</td>\n",
       "      <td>flat</td>\n",
       "      <td>[0.01, 4]</td>\n",
       "      <td>&lt;function get_priors.&lt;locals&gt;.&lt;lambda&gt; at 0x7f...</td>\n",
       "      <td>[-49, -44]</td>\n",
       "      <td>flat</td>\n",
       "      <td>[-49, -44]</td>\n",
       "      <td>&lt;function get_priors.&lt;locals&gt;.&lt;lambda&gt; at 0x7f...</td>\n",
       "      <td>[0.001, 0.9]</td>\n",
       "      <td>gauss</td>\n",
       "      <td>0.55</td>\n",
       "      <td>0.1</td>\n",
       "      <td>(0.55, 0.1)</td>\n",
       "      <td>&lt;function get_priors.&lt;locals&gt;.&lt;lambda&gt; at 0x7f...</td>\n",
       "      <td>[80, 380]</td>\n",
       "      <td>gauss</td>\n",
       "      <td>233</td>\n",
       "      <td>3</td>\n",
       "      <td>(233, 3)</td>\n",
       "      <td>&lt;function get_priors.&lt;locals&gt;.&lt;lambda&gt; at 0x7f...</td>\n",
       "      <td>[379, 709]</td>\n",
       "      <td>gauss</td>\n",
       "      <td>528</td>\n",
       "      <td>24.5</td>\n",
       "      <td>(528, 24.5)</td>\n",
       "      <td>&lt;function get_priors.&lt;locals&gt;.&lt;lambda&gt; at 0x7f...</td>\n",
       "      <td>[0.5, 3.5]</td>\n",
       "      <td>flat</td>\n",
       "      <td>[0.5, 3.5]</td>\n",
       "      <td>&lt;function get_priors.&lt;locals&gt;.&lt;lambda&gt; at 0x7f...</td>\n",
       "      <td>233</td>\n",
       "      <td>528</td>\n",
       "      <td>0.55</td>\n",
       "      <td>1.39794</td>\n",
       "      <td>-47.0</td>\n",
       "      <td>&lt;DirectDmTargets.halo.SHM object at 0x7fc9d7ad...</td>\n",
       "      <td>&lt;class 'DirectDmTargets.detector.DetectorSpect...</td>\n",
       "      <td>{'exp': 5, 'cut_eff': 0.8, 'nr_eff': 0.5, 'E_t...</td>\n",
       "      <td>2019-11-28 11:23:12.129522</td>\n",
       "      <td>nestle_Final_28nov15</td>\n",
       "      <td>6049</td>\n",
       "      <td>[log_mass, log_cross_section]</td>\n",
       "      <td>9059</td>\n",
       "      <td>6049</td>\n",
       "      <td>-4.443679</td>\n",
       "      <td>0.019266</td>\n",
       "      <td>niter: 29242\\nncall: 78640\\nnsamples: 33338\\nl...</td>\n",
       "      <td>2.43 +/-  0.84</td>\n",
       "      <td>271 +/- 5.3e+02</td>\n",
       "      <td>-46.85 +/-  0.73</td>\n",
       "      <td>1.4e-47 +/- 2.4e-47</td>\n",
       "      <td>1.5203985608168016</td>\n",
       "      <td>[-3699.831937210356, -3510.8139806124955, -347...</td>\n",
       "      <td>[-8.317888234548317, -8.318132375173317, -8.31...</td>\n",
       "      <td>-4.4436794672702575</td>\n",
       "      <td>0.019266319183666464</td>\n",
       "      <td>78640</td>\n",
       "      <td>29242</td>\n",
       "      <td>25.0</td>\n",
       "      <td>2</td>\n",
       "    </tr>\n",
       "    <tr>\n",
       "      <th>2</th>\n",
       "      <td>2</td>\n",
       "      <td>Xe</td>\n",
       "      <td>False</td>\n",
       "      <td>10</td>\n",
       "      <td>[0.1, 3]</td>\n",
       "      <td>flat</td>\n",
       "      <td>[0.1, 3]</td>\n",
       "      <td>&lt;function get_priors.&lt;locals&gt;.&lt;lambda&gt; at 0x7f...</td>\n",
       "      <td>[-46, -42]</td>\n",
       "      <td>flat</td>\n",
       "      <td>[-46, -42]</td>\n",
       "      <td>&lt;function get_priors.&lt;locals&gt;.&lt;lambda&gt; at 0x7f...</td>\n",
       "      <td>[0.001, 0.9]</td>\n",
       "      <td>gauss</td>\n",
       "      <td>0.40</td>\n",
       "      <td>0.1</td>\n",
       "      <td>(0.4, 0.1)</td>\n",
       "      <td>&lt;function get_priors.&lt;locals&gt;.&lt;lambda&gt; at 0x7f...</td>\n",
       "      <td>[80, 380]</td>\n",
       "      <td>gauss</td>\n",
       "      <td>230</td>\n",
       "      <td>30</td>\n",
       "      <td>(230, 30)</td>\n",
       "      <td>&lt;function get_priors.&lt;locals&gt;.&lt;lambda&gt; at 0x7f...</td>\n",
       "      <td>[379, 709]</td>\n",
       "      <td>gauss</td>\n",
       "      <td>544</td>\n",
       "      <td>33.0</td>\n",
       "      <td>(544, 33)</td>\n",
       "      <td>&lt;function get_priors.&lt;locals&gt;.&lt;lambda&gt; at 0x7f...</td>\n",
       "      <td>[0.5, 3.5]</td>\n",
       "      <td>flat</td>\n",
       "      <td>[0.5, 3.5]</td>\n",
       "      <td>&lt;function get_priors.&lt;locals&gt;.&lt;lambda&gt; at 0x7f...</td>\n",
       "      <td>230</td>\n",
       "      <td>544</td>\n",
       "      <td>0.40</td>\n",
       "      <td>1.39794</td>\n",
       "      <td>-45.0</td>\n",
       "      <td>&lt;DirectDmTargets.halo.SHM object at 0x7fed571a...</td>\n",
       "      <td>&lt;class 'DirectDmTargets.detector.DetectorSpect...</td>\n",
       "      <td>{'exp': 5, 'cut_eff': 0.8, 'nr_eff': 0.5, 'E_t...</td>\n",
       "      <td>2019-11-28 11:18:02.243302</td>\n",
       "      <td>nestle_Final_28nov3</td>\n",
       "      <td>7117</td>\n",
       "      <td>[log_mass, log_cross_section]</td>\n",
       "      <td>11141</td>\n",
       "      <td>7117</td>\n",
       "      <td>-16.923608</td>\n",
       "      <td>0.039987</td>\n",
       "      <td>niter: 49840\\nncall: 104155\\nnsamples: 53936\\n...</td>\n",
       "      <td>1.40 +/-  0.03</td>\n",
       "      <td>25.2 +/- 1.7</td>\n",
       "      <td>-45.01 +/-  0.09</td>\n",
       "      <td>9.84e-46 +/- 2e-46</td>\n",
       "      <td>6.54927259498151</td>\n",
       "      <td>[-364516.6977709387, -358881.4506701846, -3523...</td>\n",
       "      <td>[-8.317888234548317, -8.318132375173317, -8.31...</td>\n",
       "      <td>-16.923607777090936</td>\n",
       "      <td>0.03998679162716306</td>\n",
       "      <td>104155</td>\n",
       "      <td>49840</td>\n",
       "      <td>25.0</td>\n",
       "      <td>2</td>\n",
       "    </tr>\n",
       "    <tr>\n",
       "      <th>3</th>\n",
       "      <td>3</td>\n",
       "      <td>Ge</td>\n",
       "      <td>False</td>\n",
       "      <td>10</td>\n",
       "      <td>[0.01, 4]</td>\n",
       "      <td>flat</td>\n",
       "      <td>[0.01, 4]</td>\n",
       "      <td>&lt;function get_priors.&lt;locals&gt;.&lt;lambda&gt; at 0x7f...</td>\n",
       "      <td>[-49, -44]</td>\n",
       "      <td>flat</td>\n",
       "      <td>[-49, -44]</td>\n",
       "      <td>&lt;function get_priors.&lt;locals&gt;.&lt;lambda&gt; at 0x7f...</td>\n",
       "      <td>[0.001, 0.9]</td>\n",
       "      <td>gauss</td>\n",
       "      <td>0.55</td>\n",
       "      <td>0.1</td>\n",
       "      <td>(0.55, 0.1)</td>\n",
       "      <td>&lt;function get_priors.&lt;locals&gt;.&lt;lambda&gt; at 0x7f...</td>\n",
       "      <td>[80, 380]</td>\n",
       "      <td>gauss</td>\n",
       "      <td>233</td>\n",
       "      <td>3</td>\n",
       "      <td>(233, 3)</td>\n",
       "      <td>&lt;function get_priors.&lt;locals&gt;.&lt;lambda&gt; at 0x7f...</td>\n",
       "      <td>[379, 709]</td>\n",
       "      <td>gauss</td>\n",
       "      <td>528</td>\n",
       "      <td>24.5</td>\n",
       "      <td>(528, 24.5)</td>\n",
       "      <td>&lt;function get_priors.&lt;locals&gt;.&lt;lambda&gt; at 0x7f...</td>\n",
       "      <td>[0.5, 3.5]</td>\n",
       "      <td>flat</td>\n",
       "      <td>[0.5, 3.5]</td>\n",
       "      <td>&lt;function get_priors.&lt;locals&gt;.&lt;lambda&gt; at 0x7f...</td>\n",
       "      <td>233</td>\n",
       "      <td>528</td>\n",
       "      <td>0.55</td>\n",
       "      <td>1.39794</td>\n",
       "      <td>-47.0</td>\n",
       "      <td>&lt;DirectDmTargets.halo.SHM object at 0x7fdc7239...</td>\n",
       "      <td>&lt;class 'DirectDmTargets.detector.DetectorSpect...</td>\n",
       "      <td>{'exp': 3, 'cut_eff': 0.8, 'nr_eff': 0.9, 'E_t...</td>\n",
       "      <td>2019-11-28 11:22:56.987352</td>\n",
       "      <td>nestle_Final_28nov14</td>\n",
       "      <td>6824</td>\n",
       "      <td>[log_mass, log_cross_section]</td>\n",
       "      <td>9224</td>\n",
       "      <td>6824</td>\n",
       "      <td>-3.863176</td>\n",
       "      <td>0.018073</td>\n",
       "      <td>niter: 28471\\nncall: 77006\\nnsamples: 32567\\nl...</td>\n",
       "      <td>2.46 +/-  0.82</td>\n",
       "      <td>289 +/- 5.5e+02</td>\n",
       "      <td>-46.88 +/-  0.77</td>\n",
       "      <td>1.32e-47 +/- 2.3e-47</td>\n",
       "      <td>1.3379510031680977</td>\n",
       "      <td>[-1739.1712090995798, -1638.879105597713, -157...</td>\n",
       "      <td>[-8.317888234548317, -8.318132375173317, -8.31...</td>\n",
       "      <td>-3.8631757782562395</td>\n",
       "      <td>0.018073411247820272</td>\n",
       "      <td>77006</td>\n",
       "      <td>28471</td>\n",
       "      <td>25.0</td>\n",
       "      <td>2</td>\n",
       "    </tr>\n",
       "    <tr>\n",
       "      <th>4</th>\n",
       "      <td>4</td>\n",
       "      <td>Ar</td>\n",
       "      <td>False</td>\n",
       "      <td>10</td>\n",
       "      <td>[0.01, 4]</td>\n",
       "      <td>flat</td>\n",
       "      <td>[0.01, 4]</td>\n",
       "      <td>&lt;function get_priors.&lt;locals&gt;.&lt;lambda&gt; at 0x7f...</td>\n",
       "      <td>[-49, -44]</td>\n",
       "      <td>flat</td>\n",
       "      <td>[-49, -44]</td>\n",
       "      <td>&lt;function get_priors.&lt;locals&gt;.&lt;lambda&gt; at 0x7f...</td>\n",
       "      <td>[0.001, 0.9]</td>\n",
       "      <td>gauss</td>\n",
       "      <td>0.55</td>\n",
       "      <td>0.1</td>\n",
       "      <td>(0.55, 0.1)</td>\n",
       "      <td>&lt;function get_priors.&lt;locals&gt;.&lt;lambda&gt; at 0x7f...</td>\n",
       "      <td>[80, 380]</td>\n",
       "      <td>gauss</td>\n",
       "      <td>233</td>\n",
       "      <td>3</td>\n",
       "      <td>(233, 3)</td>\n",
       "      <td>&lt;function get_priors.&lt;locals&gt;.&lt;lambda&gt; at 0x7f...</td>\n",
       "      <td>[379, 709]</td>\n",
       "      <td>gauss</td>\n",
       "      <td>528</td>\n",
       "      <td>24.5</td>\n",
       "      <td>(528, 24.5)</td>\n",
       "      <td>&lt;function get_priors.&lt;locals&gt;.&lt;lambda&gt; at 0x7f...</td>\n",
       "      <td>[0.5, 3.5]</td>\n",
       "      <td>flat</td>\n",
       "      <td>[0.5, 3.5]</td>\n",
       "      <td>&lt;function get_priors.&lt;locals&gt;.&lt;lambda&gt; at 0x7f...</td>\n",
       "      <td>233</td>\n",
       "      <td>528</td>\n",
       "      <td>0.55</td>\n",
       "      <td>2.39794</td>\n",
       "      <td>-47.0</td>\n",
       "      <td>&lt;DirectDmTargets.halo.SHM object at 0x7fc7f963...</td>\n",
       "      <td>&lt;class 'DirectDmTargets.detector.DetectorSpect...</td>\n",
       "      <td>{'exp': 10, 'cut_eff': 0.8, 'nr_eff': 0.8, 'E_...</td>\n",
       "      <td>2019-11-28 11:22:52.717908</td>\n",
       "      <td>nestle_Final_28nov13</td>\n",
       "      <td>6947</td>\n",
       "      <td>[log_mass, log_cross_section]</td>\n",
       "      <td>8138</td>\n",
       "      <td>6947</td>\n",
       "      <td>-2.247444</td>\n",
       "      <td>0.014247</td>\n",
       "      <td>niter: 24020\\nncall: 69499\\nnsamples: 28116\\nl...</td>\n",
       "      <td>2.72 +/-  0.78</td>\n",
       "      <td>523 +/- 9.3e+02</td>\n",
       "      <td>-47.05 +/-  0.95</td>\n",
       "      <td>8.85e-48 +/- 1.9e-47</td>\n",
       "      <td>0.8313741023066334</td>\n",
       "      <td>[-413.3781872361956, -409.0423297381411, -394....</td>\n",
       "      <td>[-8.317888234548317, -8.318132375173317, -8.31...</td>\n",
       "      <td>-2.247443834872115</td>\n",
       "      <td>0.014246830979061815</td>\n",
       "      <td>69499</td>\n",
       "      <td>24020</td>\n",
       "      <td>250.0</td>\n",
       "      <td>2</td>\n",
       "    </tr>\n",
       "  </tbody>\n",
       "</table>\n",
       "</div>"
      ],
      "text/plain": [
       "   item config_detector  config_poisson  config_n_energy_bins config_prior_log_mass_range config_prior_log_mass_prior_type config_prior_log_mass_param                         config_prior_log_mass_dist config_prior_log_cross_section_range config_prior_log_cross_section_prior_type config_prior_log_cross_section_param                config_prior_log_cross_section_dist config_prior_density_range config_prior_density_prior_type  config_prior_density_mean  config_prior_density_std config_prior_density_param                          config_prior_density_dist config_prior_v_0_range config_prior_v_0_prior_type  config_prior_v_0_mean  config_prior_v_0_std config_prior_v_0_param                              config_prior_v_0_dist config_prior_v_esc_range config_prior_v_esc_prior_type  config_prior_v_esc_mean  config_prior_v_esc_std config_prior_v_esc_param                            config_prior_v_esc_dist config_prior_k_range config_prior_k_prior_type config_prior_k_param                                config_prior_k_dist  config_v_0  config_v_esc  config_density  config_mw  config_sigma                                  config_halo_model                              config_spectrum_class                                  config_det_params                config_start          config_notes  config_fit_time          config_fit_parameters  res_dict_nestle_nposterior  res_dict_nestle_time  res_dict_nestle_logZ  res_dict_nestle_logZerr                                   res_dict_summary res_dict_log_mass_fit_res res_dict_mass_fit_res res_dict_log_cross_section_fit_res res_dict_cross_section_fit_res                   h                                               logl                                             logvol                 logz               logzerr   ncall  niter     mw  n_fit_parameters\n",
       "0     0              Ar           False                    10                   [0.01, 4]                             flat                   [0.01, 4]  <function get_priors.<locals>.<lambda> at 0x7f...                           [-49, -44]                                      flat                           [-49, -44]  <function get_priors.<locals>.<lambda> at 0x7f...               [0.001, 0.9]                           gauss                       0.55                       0.1                (0.55, 0.1)  <function get_priors.<locals>.<lambda> at 0x7f...              [80, 380]                       gauss                    233                     3               (233, 3)  <function get_priors.<locals>.<lambda> at 0x7f...               [379, 709]                         gauss                      528                    24.5              (528, 24.5)  <function get_priors.<locals>.<lambda> at 0x7f...           [0.5, 3.5]                      flat           [0.5, 3.5]  <function get_priors.<locals>.<lambda> at 0x7f...         233           528            0.55    1.39794         -47.0  <DirectDmTargets.halo.SHM object at 0x7f76b84b...  <class 'DirectDmTargets.detector.DetectorSpect...  {'exp': 10, 'cut_eff': 0.8, 'nr_eff': 0.8, 'E_...  2019-11-28 11:22:46.416072  nestle_Final_28nov13             5880  [log_mass, log_cross_section]                        6276                  5880             -1.414071                 0.013639  niter: 23070\\nncall: 61135\\nnsamples: 27166\\nl...            2.60 +/-  0.88       400 +/- 8.1e+02                   -47.31 +/-  1.01           4.95e-48 +/- 1.2e-47  0.7619408053516306  [-422.29500525174035, -406.67616660478586, -39...  [-8.317888234548317, -8.318132375173317, -8.31...   -1.414070858208646  0.013638940737152223   61135  23070   25.0                 2\n",
       "1     1              Xe           False                    10                   [0.01, 4]                             flat                   [0.01, 4]  <function get_priors.<locals>.<lambda> at 0x7f...                           [-49, -44]                                      flat                           [-49, -44]  <function get_priors.<locals>.<lambda> at 0x7f...               [0.001, 0.9]                           gauss                       0.55                       0.1                (0.55, 0.1)  <function get_priors.<locals>.<lambda> at 0x7f...              [80, 380]                       gauss                    233                     3               (233, 3)  <function get_priors.<locals>.<lambda> at 0x7f...               [379, 709]                         gauss                      528                    24.5              (528, 24.5)  <function get_priors.<locals>.<lambda> at 0x7f...           [0.5, 3.5]                      flat           [0.5, 3.5]  <function get_priors.<locals>.<lambda> at 0x7f...         233           528            0.55    1.39794         -47.0  <DirectDmTargets.halo.SHM object at 0x7fc9d7ad...  <class 'DirectDmTargets.detector.DetectorSpect...  {'exp': 5, 'cut_eff': 0.8, 'nr_eff': 0.5, 'E_t...  2019-11-28 11:23:12.129522  nestle_Final_28nov15             6049  [log_mass, log_cross_section]                        9059                  6049             -4.443679                 0.019266  niter: 29242\\nncall: 78640\\nnsamples: 33338\\nl...            2.43 +/-  0.84       271 +/- 5.3e+02                   -46.85 +/-  0.73            1.4e-47 +/- 2.4e-47  1.5203985608168016  [-3699.831937210356, -3510.8139806124955, -347...  [-8.317888234548317, -8.318132375173317, -8.31...  -4.4436794672702575  0.019266319183666464   78640  29242   25.0                 2\n",
       "2     2              Xe           False                    10                    [0.1, 3]                             flat                    [0.1, 3]  <function get_priors.<locals>.<lambda> at 0x7f...                           [-46, -42]                                      flat                           [-46, -42]  <function get_priors.<locals>.<lambda> at 0x7f...               [0.001, 0.9]                           gauss                       0.40                       0.1                 (0.4, 0.1)  <function get_priors.<locals>.<lambda> at 0x7f...              [80, 380]                       gauss                    230                    30              (230, 30)  <function get_priors.<locals>.<lambda> at 0x7f...               [379, 709]                         gauss                      544                    33.0                (544, 33)  <function get_priors.<locals>.<lambda> at 0x7f...           [0.5, 3.5]                      flat           [0.5, 3.5]  <function get_priors.<locals>.<lambda> at 0x7f...         230           544            0.40    1.39794         -45.0  <DirectDmTargets.halo.SHM object at 0x7fed571a...  <class 'DirectDmTargets.detector.DetectorSpect...  {'exp': 5, 'cut_eff': 0.8, 'nr_eff': 0.5, 'E_t...  2019-11-28 11:18:02.243302   nestle_Final_28nov3             7117  [log_mass, log_cross_section]                       11141                  7117            -16.923608                 0.039987  niter: 49840\\nncall: 104155\\nnsamples: 53936\\n...            1.40 +/-  0.03          25.2 +/- 1.7                   -45.01 +/-  0.09             9.84e-46 +/- 2e-46    6.54927259498151  [-364516.6977709387, -358881.4506701846, -3523...  [-8.317888234548317, -8.318132375173317, -8.31...  -16.923607777090936   0.03998679162716306  104155  49840   25.0                 2\n",
       "3     3              Ge           False                    10                   [0.01, 4]                             flat                   [0.01, 4]  <function get_priors.<locals>.<lambda> at 0x7f...                           [-49, -44]                                      flat                           [-49, -44]  <function get_priors.<locals>.<lambda> at 0x7f...               [0.001, 0.9]                           gauss                       0.55                       0.1                (0.55, 0.1)  <function get_priors.<locals>.<lambda> at 0x7f...              [80, 380]                       gauss                    233                     3               (233, 3)  <function get_priors.<locals>.<lambda> at 0x7f...               [379, 709]                         gauss                      528                    24.5              (528, 24.5)  <function get_priors.<locals>.<lambda> at 0x7f...           [0.5, 3.5]                      flat           [0.5, 3.5]  <function get_priors.<locals>.<lambda> at 0x7f...         233           528            0.55    1.39794         -47.0  <DirectDmTargets.halo.SHM object at 0x7fdc7239...  <class 'DirectDmTargets.detector.DetectorSpect...  {'exp': 3, 'cut_eff': 0.8, 'nr_eff': 0.9, 'E_t...  2019-11-28 11:22:56.987352  nestle_Final_28nov14             6824  [log_mass, log_cross_section]                        9224                  6824             -3.863176                 0.018073  niter: 28471\\nncall: 77006\\nnsamples: 32567\\nl...            2.46 +/-  0.82       289 +/- 5.5e+02                   -46.88 +/-  0.77           1.32e-47 +/- 2.3e-47  1.3379510031680977  [-1739.1712090995798, -1638.879105597713, -157...  [-8.317888234548317, -8.318132375173317, -8.31...  -3.8631757782562395  0.018073411247820272   77006  28471   25.0                 2\n",
       "4     4              Ar           False                    10                   [0.01, 4]                             flat                   [0.01, 4]  <function get_priors.<locals>.<lambda> at 0x7f...                           [-49, -44]                                      flat                           [-49, -44]  <function get_priors.<locals>.<lambda> at 0x7f...               [0.001, 0.9]                           gauss                       0.55                       0.1                (0.55, 0.1)  <function get_priors.<locals>.<lambda> at 0x7f...              [80, 380]                       gauss                    233                     3               (233, 3)  <function get_priors.<locals>.<lambda> at 0x7f...               [379, 709]                         gauss                      528                    24.5              (528, 24.5)  <function get_priors.<locals>.<lambda> at 0x7f...           [0.5, 3.5]                      flat           [0.5, 3.5]  <function get_priors.<locals>.<lambda> at 0x7f...         233           528            0.55    2.39794         -47.0  <DirectDmTargets.halo.SHM object at 0x7fc7f963...  <class 'DirectDmTargets.detector.DetectorSpect...  {'exp': 10, 'cut_eff': 0.8, 'nr_eff': 0.8, 'E_...  2019-11-28 11:22:52.717908  nestle_Final_28nov13             6947  [log_mass, log_cross_section]                        8138                  6947             -2.247444                 0.014247  niter: 24020\\nncall: 69499\\nnsamples: 28116\\nl...            2.72 +/-  0.78       523 +/- 9.3e+02                   -47.05 +/-  0.95           8.85e-48 +/- 1.9e-47  0.8313741023066334  [-413.3781872361956, -409.0423297381411, -394....  [-8.317888234548317, -8.318132375173317, -8.31...   -2.247443834872115  0.014246830979061815   69499  24020  250.0                 2"
      ]
     },
     "execution_count": 164,
     "metadata": {},
     "output_type": "execute_result"
    }
   ],
   "source": [
    "def results_to_df(res):\n",
    "    df = pd.DataFrame()\n",
    "    items = sorted(list(res.keys()))\n",
    "    df['item'] = items\n",
    "    for key in res[np.min(list(res.keys()))].keys():\n",
    "        if key in ['samples', 'weights']:\n",
    "            continue\n",
    "        if key == 'config' or key == 'res_dict':\n",
    "            for sub_key in res[items[0]][key].keys():\n",
    "                if sub_key == 'prior':\n",
    "                    for sub_sub_key in res[items[0]][key][sub_key].keys():\n",
    "                        if type(res[items[0]][key][sub_key][sub_sub_key]) == dict:\n",
    "                            for sub_sub_sub_key in res[items[0]][key][sub_key][sub_sub_key].keys():\n",
    "                                df[key+'_'+sub_key+'_'+sub_sub_key+'_'+sub_sub_sub_key] = [res[it][key][sub_key][sub_sub_key][sub_sub_sub_key] for it in items]\n",
    "                        else:\n",
    "                            df[key+'_'+sub_key+'_'+sub_sub_key] = [res[it][key][sub_key][sub_sub_key] for it in items]\n",
    "                else:\n",
    "                    df[key+'_'+sub_key] = [res[it][key][sub_key] for it in items]\n",
    "            \n",
    "        else:\n",
    "            df[key] = [res[it][key] for it in items]\n",
    "        \n",
    "            \n",
    "    df['mw'] = 10 ** df['config_mw']\n",
    "    df['n_fit_parameters'] = [len(pars) for pars in df['config_fit_parameters']]\n",
    "    return df\n",
    "df = results_to_df(results)\n",
    "df.head(5)"
   ]
  },
  {
   "cell_type": "code",
   "execution_count": 165,
   "metadata": {},
   "outputs": [
    {
     "data": {
      "text/plain": [
       "['item',\n",
       " 'config_detector',\n",
       " 'config_poisson',\n",
       " 'config_n_energy_bins',\n",
       " 'config_prior_log_mass_range',\n",
       " 'config_prior_log_mass_prior_type',\n",
       " 'config_prior_log_mass_param',\n",
       " 'config_prior_log_mass_dist',\n",
       " 'config_prior_log_cross_section_range',\n",
       " 'config_prior_log_cross_section_prior_type',\n",
       " 'config_prior_log_cross_section_param',\n",
       " 'config_prior_log_cross_section_dist',\n",
       " 'config_prior_density_range',\n",
       " 'config_prior_density_prior_type',\n",
       " 'config_prior_density_mean',\n",
       " 'config_prior_density_std',\n",
       " 'config_prior_density_param',\n",
       " 'config_prior_density_dist',\n",
       " 'config_prior_v_0_range',\n",
       " 'config_prior_v_0_prior_type',\n",
       " 'config_prior_v_0_mean',\n",
       " 'config_prior_v_0_std',\n",
       " 'config_prior_v_0_param',\n",
       " 'config_prior_v_0_dist',\n",
       " 'config_prior_v_esc_range',\n",
       " 'config_prior_v_esc_prior_type',\n",
       " 'config_prior_v_esc_mean',\n",
       " 'config_prior_v_esc_std',\n",
       " 'config_prior_v_esc_param',\n",
       " 'config_prior_v_esc_dist',\n",
       " 'config_prior_k_range',\n",
       " 'config_prior_k_prior_type',\n",
       " 'config_prior_k_param',\n",
       " 'config_prior_k_dist',\n",
       " 'config_v_0',\n",
       " 'config_v_esc',\n",
       " 'config_density',\n",
       " 'config_mw',\n",
       " 'config_sigma',\n",
       " 'config_halo_model',\n",
       " 'config_spectrum_class',\n",
       " 'config_det_params',\n",
       " 'config_start',\n",
       " 'config_notes',\n",
       " 'config_fit_time',\n",
       " 'config_fit_parameters',\n",
       " 'res_dict_nestle_nposterior',\n",
       " 'res_dict_nestle_time',\n",
       " 'res_dict_nestle_logZ',\n",
       " 'res_dict_nestle_logZerr',\n",
       " 'res_dict_summary',\n",
       " 'res_dict_log_mass_fit_res',\n",
       " 'res_dict_mass_fit_res',\n",
       " 'res_dict_log_cross_section_fit_res',\n",
       " 'res_dict_cross_section_fit_res',\n",
       " 'h',\n",
       " 'logl',\n",
       " 'logvol',\n",
       " 'logz',\n",
       " 'logzerr',\n",
       " 'ncall',\n",
       " 'niter',\n",
       " 'mw',\n",
       " 'n_fit_parameters']"
      ]
     },
     "execution_count": 165,
     "metadata": {},
     "output_type": "execute_result"
    }
   ],
   "source": [
    "list(df.keys().values)"
   ]
  },
  {
   "cell_type": "code",
   "execution_count": 189,
   "metadata": {},
   "outputs": [],
   "source": [
    "summary_cols = ['config_detector','mw', 'n_fit_parameters', 'res_dict_mass_fit_res', 'config_det_params']"
   ]
  },
  {
   "cell_type": "code",
   "execution_count": 190,
   "metadata": {},
   "outputs": [
    {
     "data": {
      "text/plain": [
       "array(['item', 'config_detector', 'config_poisson',\n",
       "       'config_n_energy_bins', 'config_prior_log_mass_range',\n",
       "       'config_prior_log_mass_prior_type', 'config_prior_log_mass_param',\n",
       "       'config_prior_log_mass_dist',\n",
       "       'config_prior_log_cross_section_range',\n",
       "       'config_prior_log_cross_section_prior_type',\n",
       "       'config_prior_log_cross_section_param',\n",
       "       'config_prior_log_cross_section_dist',\n",
       "       'config_prior_density_range', 'config_prior_density_prior_type',\n",
       "       'config_prior_density_mean', 'config_prior_density_std',\n",
       "       'config_prior_density_param', 'config_prior_density_dist',\n",
       "       'config_prior_v_0_range', 'config_prior_v_0_prior_type',\n",
       "       'config_prior_v_0_mean', 'config_prior_v_0_std',\n",
       "       'config_prior_v_0_param', 'config_prior_v_0_dist',\n",
       "       'config_prior_v_esc_range', 'config_prior_v_esc_prior_type',\n",
       "       'config_prior_v_esc_mean', 'config_prior_v_esc_std',\n",
       "       'config_prior_v_esc_param', 'config_prior_v_esc_dist',\n",
       "       'config_prior_k_range', 'config_prior_k_prior_type',\n",
       "       'config_prior_k_param', 'config_prior_k_dist', 'config_v_0',\n",
       "       'config_v_esc', 'config_density', 'config_mw', 'config_sigma',\n",
       "       'config_halo_model', 'config_spectrum_class', 'config_det_params',\n",
       "       'config_start', 'config_notes', 'config_fit_time',\n",
       "       'config_fit_parameters', 'res_dict_nestle_nposterior',\n",
       "       'res_dict_nestle_time', 'res_dict_nestle_logZ',\n",
       "       'res_dict_nestle_logZerr', 'res_dict_summary',\n",
       "       'res_dict_log_mass_fit_res', 'res_dict_mass_fit_res',\n",
       "       'res_dict_log_cross_section_fit_res',\n",
       "       'res_dict_cross_section_fit_res', 'h', 'logl', 'logvol', 'logz',\n",
       "       'logzerr', 'ncall', 'niter', 'mw', 'n_fit_parameters', 'dmw'],\n",
       "      dtype=object)"
      ]
     },
     "execution_count": 190,
     "metadata": {},
     "output_type": "execute_result"
    }
   ],
   "source": [
    "df_sel.keys().values"
   ]
  },
  {
   "cell_type": "code",
   "execution_count": 191,
   "metadata": {},
   "outputs": [
    {
     "data": {
      "text/plain": [
       "['config_detector',\n",
       " 'mw',\n",
       " 'n_fit_parameters',\n",
       " 'res_dict_mass_fit_res',\n",
       " 'config_det_params']"
      ]
     },
     "execution_count": 191,
     "metadata": {},
     "output_type": "execute_result"
    }
   ],
   "source": [
    "summary_cols"
   ]
  },
  {
   "cell_type": "code",
   "execution_count": 194,
   "metadata": {
    "scrolled": false
   },
   "outputs": [
    {
     "name": "stdout",
     "output_type": "stream",
     "text": [
      "nestle_Final_28nov1\n",
      "nestle_Final_28nov2\n",
      "nestle_Final_28nov3\n",
      "nestle_Final_28nov4\n",
      "nestle_Final_28nov5\n",
      "nestle_Final_28nov6\n"
     ]
    },
    {
     "name": "stderr",
     "output_type": "stream",
     "text": [
      "/data/xenon/joranang/anaconda/envs/dddm/lib/python3.7/site-packages/ipykernel_launcher.py:12: SettingWithCopyWarning: \n",
      "A value is trying to be set on a copy of a slice from a DataFrame.\n",
      "Try using .loc[row_indexer,col_indexer] = value instead\n",
      "\n",
      "See the caveats in the documentation: http://pandas.pydata.org/pandas-docs/stable/user_guide/indexing.html#returning-a-view-versus-a-copy\n",
      "  if sys.path[0] == '':\n",
      "/data/xenon/joranang/anaconda/envs/dddm/lib/python3.7/site-packages/ipykernel_launcher.py:19: UserWarning: Boolean Series key will be reindexed to match DataFrame index.\n"
     ]
    }
   ],
   "source": [
    "mask = (\n",
    "    (df['config_prior_density_mean'] == 0.40) & \n",
    "    (df['config_sigma'] == -45) &\n",
    "    (df['mw'] < 51) & (df['mw'] > 49)\n",
    "#     (df['mw'] < 26) & (df['mw'] > 24)\n",
    "#     (len(df['config_fit_parameters']) == 2)\n",
    ")\n",
    "df_sel =df[mask]\n",
    "values = np.array([np.float(val.split('+/-')[0]) for val in df_sel['res_dict_mass_fit_res']])\n",
    "errors = np.array([np.float(val.split('+/-')[1]) for val in df_sel['res_dict_mass_fit_res']])\n",
    "\n",
    "df_sel['dmw'] = errors/values\n",
    "if 'dmw' not in summary_cols:\n",
    "    summary_cols += ['dmw']\n",
    "res = {}\n",
    "for sel in np.unique(df_sel['config_notes']):\n",
    "    print(sel)\n",
    "    sub_sel = df['config_notes'] == sel\n",
    "    res[sel]=df_sel[sub_sel][summary_cols]\n"
   ]
  },
  {
   "cell_type": "code",
   "execution_count": 200,
   "metadata": {},
   "outputs": [
    {
     "name": "stdout",
     "output_type": "stream",
     "text": [
      "28    Ar\n",
      "Name: config_detector, dtype: object [{'exp': 10, 'cut_eff': 0.8, 'nr_eff': 0.8, 'E_thr': 30, 'res': '<function det_res_Ar at 0x7fa476207f80>', 'exp_eff': 6.4, 'name': 'Ar'}]\n",
      "32    Ge\n",
      "Name: config_detector, dtype: object [{'exp': 3, 'cut_eff': 0.8, 'nr_eff': 0.9, 'E_thr': 10, 'res': '<function det_res_Ge at 0x7f1c8d03c290>', 'exp_eff': 2.1600000000000006, 'name': 'Ge'}]\n",
      "38    Xe\n",
      "Name: config_detector, dtype: object [{'exp': 5, 'cut_eff': 0.8, 'nr_eff': 0.5, 'E_thr': 10, 'res': '<function det_res_Xe at 0x7f945d3aaf80>', 'exp_eff': 2.0, 'name': 'Xe'}]\n",
      "46    Ar\n",
      "Name: config_detector, dtype: object [{'exp': 10, 'cut_eff': 0.8, 'nr_eff': 0.8, 'E_thr': 30, 'res': '<function det_res_Ar at 0x7fa14dd13f80>', 'exp_eff': 6.4, 'name': 'Ar'}]\n",
      "50    Ge\n",
      "Name: config_detector, dtype: object [{'exp': 3, 'cut_eff': 0.8, 'nr_eff': 0.9, 'E_thr': 10, 'res': '<function det_res_Ge at 0x7f3c4bee1290>', 'exp_eff': 2.1600000000000006, 'name': 'Ge'}]\n",
      "53    Xe\n",
      "Name: config_detector, dtype: object [{'exp': 5, 'cut_eff': 0.8, 'nr_eff': 0.5, 'E_thr': 10, 'res': '<function det_res_Xe at 0x7f5a35468f80>', 'exp_eff': 2.0, 'name': 'Xe'}]\n"
     ]
    }
   ],
   "source": [
    "for sel in np.unique(df_sel['config_notes']):\n",
    "    print(res[sel]['config_detector'], res[sel]['config_det_params'].values)"
   ]
  },
  {
   "cell_type": "code",
   "execution_count": 175,
   "metadata": {},
   "outputs": [
    {
     "data": {
      "text/plain": [
       "dict_keys(['nestle_nposterior', 'nestle_time', 'nestle_logZ', 'nestle_logZerr', 'summary', 'log_mass_fit_res', 'mass_fit_res', 'log_cross_section_fit_res', 'cross_section_fit_res'])"
      ]
     },
     "execution_count": 175,
     "metadata": {},
     "output_type": "execute_result"
    }
   ],
   "source": [
    "results[0]['res_dict'].keys()"
   ]
  },
  {
   "cell_type": "code",
   "execution_count": 38,
   "metadata": {},
   "outputs": [],
   "source": [
    "for i in results.keys():\n",
    "    if results[i]['config']['notes'] =='nestle++priors_23nov':\n",
    "        cmd = f'rm -r ../results/nestle_17nov{i}'\n",
    "        print(cmd)\n",
    "        !$cmd"
   ]
  },
  {
   "cell_type": "code",
   "execution_count": 39,
   "metadata": {
    "scrolled": false
   },
   "outputs": [
    {
     "name": "stdout",
     "output_type": "stream",
     "text": [
      "selecting Ar dataset\n",
      "13 nestle++priors_17nov 25.000000000000007 -45 233 0.55 (182661, 2)\n",
      "17 nestle++priors_17nov 249.99999999999994 -45 233 0.55 (162723, 2)\n",
      "19 nestle++priors_17nov 49.99999999999999 -45 233 0.55 (190775, 2)\n",
      "22 nestle++priors_17nov 25.000000000000007 -45 233 0.55 (181920, 5)\n",
      "23 nestle++priors_17nov 249.99999999999994 -45 233 0.55 (162444, 5)\n",
      "27 nestle++priors_17nov 49.99999999999999 -45 233 0.55 (190104, 5)\n",
      "30 nestle++priors_17nov 25.000000000000007 -45 233 0.55 (728317, 2)\n",
      "34 nestle++priors_17nov 249.99999999999994 -45 233 0.55 (650373, 2)\n",
      "37 nestle++priors_17nov 25.000000000000007 -45 230 0.4 (175595, 2)\n",
      "40 nestle++priors_17nov 249.99999999999994 -45 230 0.4 (159406, 2)\n",
      "42 nestle++priors_17nov 49.99999999999999 -45 230 0.4 (183998, 2)\n",
      "45 nestle++priors_17nov 25.000000000000007 -45 230 0.4 (174672, 5)\n",
      "47 nestle++priors_17nov 249.99999999999994 -45 230 0.4 (159999, 5)\n",
      "51 nestle++priors_17nov 49.99999999999999 -45 230 0.4 (183259, 5)\n",
      "56 nestle++priors_17nov 25.000000000000007 -45 230 0.4 (699634, 2)\n",
      "59 nestle++priors_17nov 25.000000000000007 -45 230 0.4 (700091, 2)\n",
      "62 nestle++priors_17nov 249.99999999999994 -45 230 0.4 (638521, 2)\n",
      "65 nestle++priors_17nov 249.99999999999994 -45 230 0.4 (637593, 2)\n",
      "67 nestle++priors_17nov 49.99999999999999 -45 230 0.4 (736815, 2)\n",
      "69 nestle++priors_17nov 49.99999999999999 -45 230 0.4 (736760, 2)\n",
      "72 nestle++priors_21nov 249.99999999999994 -45 230 0.4 (11636, 2)\n",
      "75 nestle++priors_21nov 25.000000000000007 -45 230 0.4 (13375, 2)\n",
      "76 nestle++priors_21nov 249.99999999999994 -45 230 0.4 (11678, 5)\n",
      "77 nestle++priors_21nov 249.99999999999994 -45 230 0.4 (11610, 2)\n",
      "80 nestle++priors_21nov 25.000000000000007 -45 230 0.4 (13128, 5)\n",
      "81 nestle++priors_21nov 25.000000000000007 -45 230 0.4 (13172, 2)\n",
      "84 nestle++priors_21nov 249.99999999999994 -45 230 0.4 (11493, 5)\n",
      "86 nestle++priors_21nov 25.000000000000007 -45 230 0.4 (13152, 5)\n",
      "87 nestle++priors_21nov 249.99999999999994 -45 230 0.4 (11606, 2)\n",
      "91 nestle++priors_21nov 25.000000000000007 -45 230 0.4 (13202, 2)\n",
      "92 nestle++priors_21nov 49.99999999999999 -45 230 0.4 (14332, 2)\n",
      "95 nestle++priors_21nov 249.99999999999994 -45 230 0.4 (11597, 5)\n",
      "96 nestle++priors_21nov 49.99999999999999 -45 230 0.4 (14252, 5)\n",
      "97 nestle++priors_21nov 25.000000000000007 -45 230 0.4 (13240, 5)\n",
      "103 nestle++priors_21nov 49.99999999999999 -45 230 0.4 (14435, 2)\n",
      "104 nestle++priors_21nov 49.99999999999999 -45 230 0.4 (14240, 5)\n",
      "112 nestle++priors_21nov 49.99999999999999 -45 230 0.4 (14266, 2)\n",
      "115 nestle++priors_21nov 49.99999999999999 -45 230 0.4 (14115, 5)\n",
      "126 nestle++priors_17nov 25.000000000000007 -45 230 0.4 (698359, 5)\n",
      "127 nestle++priors_17nov 25.000000000000007 -45 230 0.4 (698379, 5)\n",
      "131 nestle++priors_17nov 249.99999999999994 -45 230 0.4 (639932, 5)\n",
      "132 nestle++priors_17nov 249.99999999999994 -45 230 0.4 (640319, 5)\n",
      "137 nestle++priors_17nov 49.99999999999999 -45 230 0.4 (735211, 5)\n",
      "138 nestle++priors_17nov 49.99999999999999 -45 230 0.4 (734659, 5)\n",
      "143 nestle++priors_26nov0 25.000000000000007 -47.0 233 0.55 (13588, 2)\n",
      "145 nestle++priors_26nov3 25.000000000000007 -47.0 233 0.55 (13627, 5)\n",
      "147 nestle++priors_26nov0 249.99999999999994 -47.0 233 0.55 (14150, 2)\n",
      "148 nestle++priors_26nov3 249.99999999999994 -47.0 233 0.55 (14251, 5)\n",
      "151 nestle++priors_26nov0 49.99999999999999 -47.0 233 0.55 (14429, 2)\n",
      "156 nestle++priors_26nov3 49.99999999999999 -47.0 233 0.55 (14528, 5)\n"
     ]
    },
    {
     "data": {
      "text/plain": [
       "array([ 13,  17,  19,  22,  23,  27,  30,  34,  37,  40,  42,  45,  47,\n",
       "        51,  56,  59,  62,  65,  67,  69,  72,  75,  76,  77,  80,  81,\n",
       "        84,  86,  87,  91,  92,  95,  96,  97, 103, 104, 112, 115, 126,\n",
       "       127, 131, 132, 137, 138, 143, 145, 147, 148, 151, 156])"
      ]
     },
     "execution_count": 39,
     "metadata": {},
     "output_type": "execute_result"
    }
   ],
   "source": [
    "det = \"Ar\"\n",
    "print(f\"selecting {det} dataset\")\n",
    "selected_keys = []\n",
    "for i in results.keys():\n",
    "    if results[i]['config']['n_energy_bins'] == 10:\n",
    "        if results[i]['config']['detector'] == det:\n",
    "            print(i,\n",
    "                  results[i]['config']['notes'], \n",
    "                  10**results[i]['config']['mw'],\n",
    "                  results[i]['config']['sigma'],\n",
    "                  results[i]['config']['prior']['v_0']['mean'],\n",
    "                  results[i]['config']['prior']['density']['mean'],\n",
    "                  np.shape(results[i]['samples']))\n",
    "            selected_keys.append(i)    \n",
    "np.array(selected_keys)"
   ]
  },
  {
   "cell_type": "code",
   "execution_count": 40,
   "metadata": {},
   "outputs": [
    {
     "data": {
      "text/plain": [
       "[[143, 147, 151], [145, 148, 156]]"
      ]
     },
     "execution_count": 40,
     "metadata": {},
     "output_type": "execute_result"
    }
   ],
   "source": [
    "selected_keys_sets = [[143,147,151],\n",
    "                      [145,148,156],\n",
    "#                       selected_keys[-6:-3],\n",
    "#                       selected_keys[-3:]\n",
    "                     ]\n",
    "selected_keys_names = [\"benchmark SHM constrained fit\",\n",
    "                      \"benchmark SHM astr. unconstraint fit\",\n",
    "#                       \"updated SHM constrained fit\",\n",
    "#                       \"updated SHM astr. unconstraint fit\"\n",
    "                      ]\n",
    "selected_keys_sets"
   ]
  },
  {
   "cell_type": "code",
   "execution_count": 41,
   "metadata": {
    "scrolled": false
   },
   "outputs": [],
   "source": [
    "# for key in results.keys():\n",
    "# # for key in selected_keys:\n",
    "#     print(f\"---{key}---\")\n",
    "#     result = results[key]\n",
    "#     dddm.nestle_corner(result, save = f\"../results/nestle_17nov{key}/\")"
   ]
  },
  {
   "cell_type": "code",
   "execution_count": 42,
   "metadata": {},
   "outputs": [],
   "source": [
    "def get_posterior(samples, weights):\n",
    "    # re-scale weights to have a maximum of one\n",
    "    nweights = weights/np.max(weights)\n",
    "\n",
    "    # get the probability of keeping a sample from the weights\n",
    "    keepidx = np.where(np.random.rand(len(nweights)) < nweights)[0]\n",
    "    # get the posterior samples\n",
    "    return samples[keepidx,:]\n"
   ]
  },
  {
   "cell_type": "code",
   "execution_count": 43,
   "metadata": {},
   "outputs": [],
   "source": [
    "def bin_center(xedges, yedges):\n",
    "    return 0.5 * (xedges[0:-1] + xedges[1:]), 0.5 * (yedges[0:-1] + yedges[1:])\n",
    "    "
   ]
  },
  {
   "cell_type": "code",
   "execution_count": 44,
   "metadata": {},
   "outputs": [],
   "source": [
    "def get_hist(item, nbins = 45):\n",
    "#     nbins = 45\n",
    "    bin_range = [[1, 3], [-46, -44]]\n",
    "    counts, xedges, yedges = np.histogram2d(*get_p_i(item), bins = nbins, range = bin_range)\n",
    "    return counts , xedges, yedges\n",
    "\n",
    "def get_hist_norm(item):\n",
    "    counts , xedges, yedges = get_hist(item)\n",
    "    return counts/np.sum(counts) , xedges, yedges"
   ]
  },
  {
   "cell_type": "code",
   "execution_count": 45,
   "metadata": {},
   "outputs": [],
   "source": [
    "# # fig = plt.figure(figsize=(7, 3))\n",
    "# # ax = fig.add_subplot(131, title='imshow: square bins')\n",
    "# from matplotlib.colors import LogNorm\n",
    "# plt.imshow(test.T/np.sum(test.T), interpolation='nearest', origin='low',\n",
    "#         extent=  [1, 3, -45.7, -44.3], norm=LogNorm())\n",
    "# # plt.legend()\n",
    "# plt.colorbar()"
   ]
  },
  {
   "cell_type": "code",
   "execution_count": 46,
   "metadata": {},
   "outputs": [],
   "source": [
    "def get_p_i(i):\n",
    "    m, sig = get_posterior(results[i]['samples'], results[i]['weights']).T[:2]\n",
    "    return np.array([m, sig])"
   ]
  },
  {
   "cell_type": "code",
   "execution_count": 47,
   "metadata": {},
   "outputs": [],
   "source": [
    "from matplotlib.colors import LogNorm\n",
    "def combine_normalized(items):\n",
    "    X, Y = np.meshgrid(*get_hist_norm(items[0])[1:])\n",
    "    for i in items:\n",
    "        c,_,_ = get_hist_norm(i)\n",
    "        im = plt.pcolor(X,Y,c.T, norm=LogNorm(vmin = 1e-4,vmax = 1))  \n",
    "    plt.colorbar()"
   ]
  },
  {
   "cell_type": "code",
   "execution_count": 48,
   "metadata": {},
   "outputs": [],
   "source": [
    "def pow10(x):\n",
    "    return 10 ** x"
   ]
  },
  {
   "cell_type": "code",
   "execution_count": 68,
   "metadata": {
    "scrolled": false
   },
   "outputs": [],
   "source": [
    "def confidence_plot(items, text_box = False):\n",
    "    fig,ax=plt.subplots(figsize = (8,6))\n",
    "    for k, item in enumerate(items):#, 78, 110 \n",
    "        x,y =get_p_i(item)\n",
    "        # Make a 2d normed histogram\n",
    "        bin_range = [[0.5, 3], [-49, -46]]\n",
    "        H,xedges,yedges=np.histogram2d(x,y,bins=500, range = bin_range, normed=True)\n",
    "\n",
    "        norm=H.sum() # Find the norm of the sum\n",
    "        # Set contour levels\n",
    "        contour1=0.99\n",
    "        contour2=0.95\n",
    "        contour3=0.68\n",
    "        # Take histogram bin membership as proportional to Likelihood\n",
    "        # This is true when data comes from a Markovian process\n",
    "        def objective(limit, target):\n",
    "            w = np.where(H>limit)\n",
    "            count = H[w]\n",
    "            return count.sum() - target\n",
    "        target1 = norm*contour1\n",
    "        target2 = norm*contour2\n",
    "        target3 = norm*contour3\n",
    "\n",
    "        # Find levels by summing histogram to objective\n",
    "        level1= scipy.optimize.bisect(objective, H.min(), H.max(), args=(target1,))\n",
    "        level2= scipy.optimize.bisect(objective, H.min(), H.max(), args=(target2,))\n",
    "        level3= scipy.optimize.bisect(objective, H.min(), H.max(), args=(target3,))\n",
    "\n",
    "        levels=[level1, level2, level3,H.max()]\n",
    "        # Pass levels to normed kde plot\n",
    "        def av_levels(x):\n",
    "            return [(x[i] + x[i+1])/2 for i in range(len(x)-1)]\n",
    "\n",
    "        if levels[0]==levels[1]:\n",
    "            print(\"ERRRRRRRRR\\n\\n\")\n",
    "            print(levels)\n",
    "            levels[0] /= 1.01\n",
    "            levels = np.unique(levels)\n",
    "            print(levels)\n",
    "        sns_ax = sns.kdeplot(x,y, shade=True,ax=ax,n_levels=levels,cmap=\"viridis\",normed=True, \n",
    "                    cbar = False, vmin=levels[0], vmax=levels[-1])\n",
    "        kwargs = {}\n",
    "        if k is 0:\n",
    "            kwargs['label'] = 'best fit'\n",
    "        plt.scatter(np.mean(x),np.mean(y), c='black',\n",
    "                    marker = '+',**kwargs)\n",
    "        if k is 0:\n",
    "            kwargs['label'] = 'benchmark value'\n",
    "        plt.scatter(results[item]['config']['mw'],\n",
    "                    results[item]['config']['sigma'], c='blue',\n",
    "                    marker = 'x',\n",
    "                    **kwargs)\n",
    "        if k is 0:\n",
    "            cbar = ax.figure.colorbar(sns_ax.collections[0])\n",
    "            cbar.set_ticks(av_levels(np.linspace(0,1,4)))\n",
    "            cbar.set_ticklabels(['$3\\sigma$', '$2\\sigma$', '$1\\sigma$'])\n",
    "            cbar.set_label(\"Posterior probability\")\n",
    "    secax = ax.secondary_xaxis('top', functions=(pow10, np.log10))\n",
    "    x_ticks = [15, 25, 50, 100, 250, 500, 1000]\n",
    "    for x_tick in x_ticks:\n",
    "        ax.axvline(np.log10(x_tick), alpha = 0.1)\n",
    "    secax.set_ticks(x_ticks)\n",
    "    plt.xlim(np.log10(x_ticks[0]),np.log10(x_ticks[-1]))\n",
    "    plt.xlabel(\"$\\log_{10}(M_{\\chi}$ $[GeV/c^{2}]$)\")\n",
    "    secax.set_xlabel(\"$M_{\\chi}$ $[GeV/c^{2}]$\")\n",
    "    plt.ylabel(\"$\\log_{10}(\\sigma_{S.I.}$ $[cm^{2}]$)\")\n",
    "    plt.legend()\n",
    "\n",
    "    if text_box:\n",
    "        plt.text(0.05, 0.95, text_box, \n",
    "                 bbox=dict(facecolor=\"white\",\n",
    "                           boxstyle=\"round\"), \n",
    "                 transform=ax.transAxes,\n",
    "                 alpha=0.5)\n",
    "#     plt.show()\n"
   ]
  },
  {
   "cell_type": "code",
   "execution_count": 70,
   "metadata": {
    "scrolled": false
   },
   "outputs": [
    {
     "name": "stdout",
     "output_type": "stream",
     "text": [
      "ERRRRRRRRR\n",
      "\n",
      "\n",
      "[18.335166850016993, 18.335166850016993, 18.335166850016993, 36.67033370003607]\n",
      "[18.15363054 18.33516685 36.6703337 ]\n"
     ]
    },
    {
     "name": "stderr",
     "output_type": "stream",
     "text": [
      "/data/xenon/joranang/anaconda/envs/dddm/lib/python3.7/site-packages/seaborn/distributions.py:423: UserWarning: The following kwargs were not used by contour: 'normed'\n",
      "  cset = contour_func(xx, yy, z, n_levels, **kwargs)\n"
     ]
    },
    {
     "name": "stdout",
     "output_type": "stream",
     "text": [
      "ERRRRRRRRR\n",
      "\n",
      "\n",
      "[14.076576576574743, 14.076576576574743, 14.076576576574743, 28.153153153152687]\n",
      "[13.93720453 14.07657658 28.15315315]\n",
      "ERRRRRRRRR\n",
      "\n",
      "\n",
      "[12.746972594007264, 12.746972594007264, 12.746972594007264, 25.493945188017424]\n",
      "[12.62076494 12.74697259 25.49394519]\n"
     ]
    },
    {
     "name": "stderr",
     "output_type": "stream",
     "text": [
      "/data/xenon/joranang/anaconda/envs/dddm/lib/python3.7/site-packages/matplotlib/scale.py:144: RuntimeWarning: divide by zero encountered in log10\n",
      "  return self._forward(values)\n",
      "/data/xenon/joranang/anaconda/envs/dddm/lib/python3.7/site-packages/matplotlib/scale.py:144: RuntimeWarning: divide by zero encountered in log10\n",
      "  return self._forward(values)\n"
     ]
    },
    {
     "data": {
      "image/png": "[encoded data removed]",
      "text/plain": [
       "<Figure size 576x432 with 2 Axes>"
      ]
     },
     "metadata": {
      "needs_background": "light"
     },
     "output_type": "display_data"
    },
    {
     "name": "stdout",
     "output_type": "stream",
     "text": [
      "ERRRRRRRRR\n",
      "\n",
      "\n",
      "[18.601190476189114, 18.601190476189114, 18.601190476189114, 37.20238095238034]\n",
      "[18.41702027 18.60119048 37.20238095]\n"
     ]
    },
    {
     "name": "stderr",
     "output_type": "stream",
     "text": [
      "/data/xenon/joranang/anaconda/envs/dddm/lib/python3.7/site-packages/seaborn/distributions.py:423: UserWarning: The following kwargs were not used by contour: 'normed'\n",
      "  cset = contour_func(xx, yy, z, n_levels, **kwargs)\n"
     ]
    },
    {
     "name": "stdout",
     "output_type": "stream",
     "text": [
      "ERRRRRRRRR\n",
      "\n",
      "\n",
      "[14.524328249816556, 14.524328249816556, 14.524328249816556, 29.04865649963641]\n",
      "[14.38052302 14.52432825 29.0486565 ]\n",
      "ERRRRRRRRR\n",
      "\n",
      "\n",
      "[12.77139208173585, 12.77139208173585, 12.77139208173585, 25.542784163503644]\n",
      "[12.64494266 12.77139208 25.54278416]\n"
     ]
    },
    {
     "name": "stderr",
     "output_type": "stream",
     "text": [
      "/data/xenon/joranang/anaconda/envs/dddm/lib/python3.7/site-packages/matplotlib/scale.py:144: RuntimeWarning: divide by zero encountered in log10\n",
      "  return self._forward(values)\n",
      "/data/xenon/joranang/anaconda/envs/dddm/lib/python3.7/site-packages/matplotlib/scale.py:144: RuntimeWarning: divide by zero encountered in log10\n",
      "  return self._forward(values)\n"
     ]
    },
    {
     "data": {
      "image/png": "[encoded data removed]",
      "text/plain": [
       "<Figure size 576x432 with 2 Axes>"
      ]
     },
     "metadata": {
      "needs_background": "light"
     },
     "output_type": "display_data"
    }
   ],
   "source": [
    "for i, name in enumerate(selected_keys_names):\n",
    "    confidence_plot(selected_keys_sets[i], text_box = f'{det}-detector')\n",
    "#     if \"realistic\" in name:\n",
    "    plt.ylim(-49, -45)\n",
    "#     else:\n",
    "#         plt.ylim(-45.7, -44.3)\n",
    "    plt.title(f'{name} \\n')\n",
    "    plt.savefig(f\"figures/{det}_{name.replace(' ', '-')}.png\", dpi =300, bbox_inches=\"tight\")\n",
    "    plt.savefig(f\"figures/{det}_{name.replace(' ', '-')}.pdf\", dpi =300, bbox_inches=\"tight\")\n",
    "    plt.show()\n",
    "                \n",
    "#     break"
   ]
  },
  {
   "cell_type": "code",
   "execution_count": 71,
   "metadata": {},
   "outputs": [
    {
     "name": "stdout",
     "output_type": "stream",
     "text": [
      "selecting Ge dataset\n",
      "0 nestle++priors_17nov 49.99999999999999 -45 233 0.55 (213818, 5)\n",
      "14 nestle++priors_17nov 25.000000000000007 -45 233 0.55 (214475, 2)\n",
      "15 nestle++priors_17nov 249.99999999999994 -45 233 0.55 (172532, 2)\n",
      "18 nestle++priors_17nov 49.99999999999999 -45 233 0.55 (214107, 2)\n",
      "24 nestle++priors_17nov 249.99999999999994 -45 233 0.55 (172076, 5)\n",
      "25 nestle++priors_17nov 25.000000000000007 -45 233 0.55 (214808, 5)\n",
      "31 nestle++priors_17nov 25.000000000000007 -45 233 0.55 (859044, 2)\n",
      "32 nestle++priors_17nov 249.99999999999994 -45 233 0.55 (689730, 2)\n",
      "35 nestle++priors_17nov 49.99999999999999 -45 233 0.55 (858662, 2)\n",
      "38 nestle++priors_17nov 249.99999999999994 -45 230 0.4 (168552, 2)\n",
      "39 nestle++priors_17nov 25.000000000000007 -45 230 0.4 (209369, 2)\n",
      "43 nestle++priors_17nov 49.99999999999999 -45 230 0.4 (209566, 2)\n",
      "48 nestle++priors_17nov 249.99999999999994 -45 230 0.4 (169039, 5)\n",
      "50 nestle++priors_17nov 25.000000000000007 -45 230 0.4 (209862, 5)\n",
      "52 nestle++priors_17nov 49.99999999999999 -45 230 0.4 (209762, 5)\n",
      "57 nestle++priors_17nov 249.99999999999994 -45 230 0.4 (676176, 2)\n",
      "58 nestle++priors_17nov 25.000000000000007 -45 230 0.4 (835995, 2)\n",
      "60 nestle++priors_17nov 249.99999999999994 -45 230 0.4 (676231, 2)\n",
      "61 nestle++priors_17nov 25.000000000000007 -45 230 0.4 (837403, 2)\n",
      "66 nestle++priors_17nov 49.99999999999999 -45 230 0.4 (838296, 2)\n",
      "68 nestle++priors_17nov 49.99999999999999 -45 230 0.4 (837420, 2)\n",
      "73 nestle++priors_21nov 249.99999999999994 -45 230 0.4 (12685, 2)\n",
      "79 nestle++priors_21nov 249.99999999999994 -45 230 0.4 (12824, 2)\n",
      "83 nestle++priors_21nov 249.99999999999994 -45 230 0.4 (12616, 5)\n",
      "85 nestle++priors_21nov 25.000000000000007 -45 230 0.4 (17515, 2)\n",
      "89 nestle++priors_21nov 249.99999999999994 -45 230 0.4 (12763, 2)\n",
      "94 nestle++priors_21nov 249.99999999999994 -45 230 0.4 (12748, 5)\n",
      "98 nestle++priors_21nov 49.99999999999999 -45 230 0.4 (17512, 2)\n",
      "100 nestle++priors_21nov 25.000000000000007 -45 230 0.4 (17770, 2)\n",
      "105 nestle++priors_21nov 25.000000000000007 -45 230 0.4 (17762, 2)\n",
      "108 nestle++priors_21nov 249.99999999999994 -45 230 0.4 (12653, 5)\n",
      "109 nestle++priors_21nov 49.99999999999999 -45 230 0.4 (17674, 2)\n",
      "111 nestle++priors_21nov 25.000000000000007 -45 230 0.4 (17595, 5)\n",
      "114 nestle++priors_21nov 49.99999999999999 -45 230 0.4 (17684, 2)\n",
      "117 nestle++priors_21nov 25.000000000000007 -45 230 0.4 (17751, 5)\n",
      "119 nestle++priors_21nov 25.000000000000007 -45 230 0.4 (17550, 5)\n",
      "121 nestle++priors_21nov 49.99999999999999 -45 230 0.4 (17527, 5)\n",
      "122 nestle++priors_21nov 49.99999999999999 -45 230 0.4 (17571, 5)\n",
      "124 nestle++priors_21nov 49.99999999999999 -45 230 0.4 (17328, 5)\n",
      "129 nestle++priors_17nov 249.99999999999994 -45 230 0.4 (677624, 5)\n",
      "134 nestle++priors_17nov 249.99999999999994 -45 230 0.4 (677367, 5)\n",
      "136 nestle++priors_17nov 25.000000000000007 -45 230 0.4 (839771, 5)\n",
      "139 nestle++priors_17nov 25.000000000000007 -45 230 0.4 (841199, 5)\n",
      "140 nestle++priors_17nov 49.99999999999999 -45 230 0.4 (837192, 5)\n",
      "141 nestle++priors_17nov 49.99999999999999 -45 230 0.4 (838763, 5)\n",
      "144 nestle++priors_26nov1 25.000000000000007 -47.0 233 0.55 (16139, 2)\n",
      "149 nestle++priors_26nov1 249.99999999999994 -47.0 233 0.55 (15239, 2)\n",
      "150 nestle++priors_26nov1 49.99999999999999 -47.0 233 0.55 (16579, 2)\n",
      "152 nestle++priors_26nov4 249.99999999999994 -47.0 233 0.55 (15255, 5)\n",
      "153 nestle++priors_26nov4 25.000000000000007 -47.0 233 0.55 (16316, 5)\n",
      "159 nestle++priors_26nov4 49.99999999999999 -47.0 233 0.55 (16505, 5)\n"
     ]
    },
    {
     "data": {
      "text/plain": [
       "array([  0,  14,  15,  18,  24,  25,  31,  32,  35,  38,  39,  43,  48,\n",
       "        50,  52,  57,  58,  60,  61,  66,  68,  73,  79,  83,  85,  89,\n",
       "        94,  98, 100, 105, 108, 109, 111, 114, 117, 119, 121, 122, 124,\n",
       "       129, 134, 136, 139, 140, 141, 144, 149, 150, 152, 153, 159])"
      ]
     },
     "execution_count": 71,
     "metadata": {},
     "output_type": "execute_result"
    }
   ],
   "source": [
    "det = \"Ge\"\n",
    "print(f\"selecting {det} dataset\")\n",
    "selected_keys = []\n",
    "for i in results.keys():\n",
    "    if results[i]['config']['n_energy_bins'] == 10:\n",
    "        if results[i]['config']['detector'] == det:\n",
    "            print(i,\n",
    "                  results[i]['config']['notes'], \n",
    "                  10**results[i]['config']['mw'],\n",
    "                  results[i]['config']['sigma'],\n",
    "                  results[i]['config']['prior']['v_0']['mean'],\n",
    "                  results[i]['config']['prior']['density']['mean'],\n",
    "                  np.shape(results[i]['samples']))\n",
    "            selected_keys.append(i)    \n",
    "np.array(selected_keys)"
   ]
  },
  {
   "cell_type": "code",
   "execution_count": 27,
   "metadata": {},
   "outputs": [
    {
     "data": {
      "text/plain": [
       "[[89, 98, 100], [134, 136, 140]]"
      ]
     },
     "execution_count": 27,
     "metadata": {},
     "output_type": "execute_result"
    }
   ],
   "source": [
    "selected_keys_sets = [[89, 98, 100],\n",
    "                      [134,136,140],\n",
    "#                       selected_keys[-6:-3],\n",
    "#                       selected_keys[-3:]\n",
    "                     ]\n",
    "selected_keys_names = [\"benchmark SHM constrained fit\",\n",
    "                      \"benchmark SHM astr. unconstraint fit\",\n",
    "#                       \"updated SHM constrained fit\",\n",
    "#                       \"updated SHM astr. unconstraint fit\"\n",
    "                      ]\n",
    "selected_keys_sets"
   ]
  },
  {
   "cell_type": "code",
   "execution_count": 28,
   "metadata": {},
   "outputs": [
    {
     "name": "stderr",
     "output_type": "stream",
     "text": [
      "/data/xenon/joranang/anaconda/envs/dddm/lib/python3.7/site-packages/seaborn/distributions.py:423: UserWarning: The following kwargs were not used by contour: 'normed'\n",
      "  cset = contour_func(xx, yy, z, n_levels, **kwargs)\n",
      "/data/xenon/joranang/anaconda/envs/dddm/lib/python3.7/site-packages/matplotlib/scale.py:144: RuntimeWarning: divide by zero encountered in log10\n",
      "  return self._forward(values)\n",
      "/data/xenon/joranang/anaconda/envs/dddm/lib/python3.7/site-packages/matplotlib/scale.py:144: RuntimeWarning: divide by zero encountered in log10\n",
      "  return self._forward(values)\n"
     ]
    },
    {
     "data": {
      "image/png": "[encoded data removed]",
      "text/plain": [
       "<Figure size 576x432 with 2 Axes>"
      ]
     },
     "metadata": {
      "needs_background": "light"
     },
     "output_type": "display_data"
    },
    {
     "name": "stderr",
     "output_type": "stream",
     "text": [
      "/data/xenon/joranang/anaconda/envs/dddm/lib/python3.7/site-packages/seaborn/distributions.py:423: UserWarning: The following kwargs were not used by contour: 'normed'\n",
      "  cset = contour_func(xx, yy, z, n_levels, **kwargs)\n",
      "/data/xenon/joranang/anaconda/envs/dddm/lib/python3.7/site-packages/matplotlib/scale.py:144: RuntimeWarning: divide by zero encountered in log10\n",
      "  return self._forward(values)\n",
      "/data/xenon/joranang/anaconda/envs/dddm/lib/python3.7/site-packages/matplotlib/scale.py:144: RuntimeWarning: divide by zero encountered in log10\n",
      "  return self._forward(values)\n"
     ]
    },
    {
     "data": {
      "image/png": "[encoded data removed]",
      "text/plain": [
       "<Figure size 576x432 with 2 Axes>"
      ]
     },
     "metadata": {
      "needs_background": "light"
     },
     "output_type": "display_data"
    }
   ],
   "source": [
    "for i, name in enumerate(selected_keys_names):\n",
    "    confidence_plot(selected_keys_sets[i], text_box = f'{det}-detector')\n",
    "    if \"realistic\" in name:\n",
    "        plt.ylim(-49, -45)\n",
    "    else:\n",
    "        plt.ylim(-45.7, -44.3)\n",
    "    plt.title(f'{name} \\n')\n",
    "    plt.savefig(f\"figures/{det}_{name.replace(' ', '-')}.png\", dpi =300, bbox_inches=\"tight\")\n",
    "    plt.savefig(f\"figures/{det}_{name.replace(' ', '-')}.pdf\", dpi =300, bbox_inches=\"tight\")\n",
    "    plt.show()\n",
    "                "
   ]
  },
  {
   "cell_type": "code",
   "execution_count": null,
   "metadata": {},
   "outputs": [],
   "source": []
  },
  {
   "cell_type": "code",
   "execution_count": null,
   "metadata": {},
   "outputs": [],
   "source": []
  },
  {
   "cell_type": "code",
   "execution_count": null,
   "metadata": {},
   "outputs": [],
   "source": [
    "def get_quantile(item):\n",
    "    _, xedges, _ = get_hist(item, nbins = 1000)\n",
    "    data = get_p_i(item)\n",
    "    results = np.zeros((len(xedges),3))\n",
    "#     print(results)\n",
    "    for i in range(len(xedges) - 1):\n",
    "#         print(bin_i)\n",
    "        mask = (xedges[i] < data[0]) & (data[0] < xedges[i+1])\n",
    "        if np.sum(mask)>0:\n",
    "#             print()\n",
    "            results[i] =  0.5 * (xedges[i]+ xedges[i+1]), *np.percentile(data[1][mask], [5,95])\n",
    "    return results[results[:,0] > 0]"
   ]
  },
  {
   "cell_type": "code",
   "execution_count": null,
   "metadata": {},
   "outputs": [],
   "source": [
    "quantiles = get_quantile(0)\n",
    "# quantiles = quantiles[quantiles]\n",
    "plt.plot(quantiles[:,0],quantiles[:,1])\n",
    "plt.plot(quantiles[:,0],quantiles[:,2])\n",
    "# quantiles"
   ]
  },
  {
   "cell_type": "code",
   "execution_count": null,
   "metadata": {},
   "outputs": [],
   "source": []
  },
  {
   "cell_type": "code",
   "execution_count": null,
   "metadata": {},
   "outputs": [],
   "source": [
    "counts = get_hist(0)[0]\n",
    "centers = bin_center(*get_hist(0)[1:])"
   ]
  },
  {
   "cell_type": "code",
   "execution_count": null,
   "metadata": {},
   "outputs": [],
   "source": [
    "for count in counts.T:\n",
    "    print(np.percentile(count, [5, 95]))"
   ]
  },
  {
   "cell_type": "code",
   "execution_count": null,
   "metadata": {},
   "outputs": [],
   "source": [
    "combine_normalized([0])\n",
    "quantiles = get_quantile(0)\n",
    "# quantiles = quantiles[quantiles]\n",
    "plt.plot(quantiles[:,0],quantiles[:,1])\n",
    "plt.plot(quantiles[:,0],quantiles[:,2])"
   ]
  },
  {
   "cell_type": "code",
   "execution_count": null,
   "metadata": {},
   "outputs": [],
   "source": [
    "np.shape(get_p_i(0)[:,])"
   ]
  },
  {
   "cell_type": "code",
   "execution_count": null,
   "metadata": {},
   "outputs": [],
   "source": [
    "test = get_p_i(0)\n",
    "np.array(test)[:,:100]"
   ]
  },
  {
   "cell_type": "code",
   "execution_count": null,
   "metadata": {},
   "outputs": [],
   "source": []
  },
  {
   "cell_type": "code",
   "execution_count": null,
   "metadata": {},
   "outputs": [],
   "source": [
    "confidence_plot([74, 78, 110])"
   ]
  },
  {
   "cell_type": "code",
   "execution_count": 53,
   "metadata": {
    "scrolled": false
   },
   "outputs": [],
   "source": [
    "# import numpy as np\n",
    "# import scipy.optimize\n",
    "# import matplotlib.pyplot as plt\n",
    "# import seaborn as sns\n",
    "\n",
    "# # Generate some random data\n",
    "# # x,y=np.random.randn(2,100000)\n",
    "# fig,ax=plt.subplots(figsize = (8,6))\n",
    "# for k, item in enumerate([74, 78, 110]):#, 78, 110 \n",
    "#     x,y =get_p_i(item)\n",
    "#     # Make a 2d normed histogram\n",
    "#     H,xedges,yedges=np.histogram2d(x,y,bins=40,normed=True)\n",
    "\n",
    "#     norm=H.sum() # Find the norm of the sum\n",
    "#     # Set contour levels\n",
    "#     contour1=0.99\n",
    "#     contour2=0.95\n",
    "#     contour3=0.68\n",
    "#     # Take histogram bin membership as proportional to Likelihood\n",
    "#     # This is true when data comes from a Markovian process\n",
    "#     def objective(limit, target):\n",
    "#         w = np.where(H>limit)\n",
    "#         count = H[w]\n",
    "#         return count.sum() - target\n",
    "# #     contour={}\n",
    "# #     target={}\n",
    "# #     level={}\n",
    "# #     sigmas = np.flip(range(2,4))\n",
    "# #     for s in sigmas:\n",
    "# #         contour[s] = sigma_to_p(s)\n",
    "# #         print(contour[s])\n",
    "# #         target[s]=norm*contour[s]\n",
    "# #         level[s]=scipy.optimize.bisect(objective, H.min(), H.max(), args=(target[s],))\n",
    "# #     # Set target levels as percentage of norm\n",
    "#     target1 = norm*contour1\n",
    "#     target2 = norm*contour2\n",
    "#     target3 = norm*contour3\n",
    "\n",
    "\n",
    "\n",
    "#     # Find levels by summing histogram to objective\n",
    "#     level1= scipy.optimize.bisect(objective, H.min(), H.max(), args=(target1,))\n",
    "#     level2= scipy.optimize.bisect(objective, H.min(), H.max(), args=(target2,))\n",
    "#     level3= scipy.optimize.bisect(objective, H.min(), H.max(), args=(target3,))\n",
    "\n",
    "#     # For nice contour shading with seaborn, define top level\n",
    "# #     level[s+1]=H.max()\n",
    "# #     levels=[level[s] for s in sigmas]\n",
    "# #     levels.append(H.max())\n",
    "#     levels=[level1, level2, level3,H.max()]\n",
    "#     print(levels)\n",
    "#     # Pass levels to normed kde plot\n",
    "#     def av_levels(x):\n",
    "#         return [(x[i] + x[i+1])/2 for i in range(len(x)-1)]\n",
    "    \n",
    "# #     sns_ax = sns.kdeplot(x,y, shade=True,ax=ax,n_levels=levels,cmap=\"viridis\",normed=True, \n",
    "# #                 cbar = True, vmin=levels[0], vmax=levels[-1], \n",
    "# #                          cbar_kws={#\"ticklocation\":av_levels(levels),\n",
    "# #                                    \"ticks\":[],\n",
    "# #                                    #\"format\":\">%s<\"\n",
    "# # #                                    \"format\":av_levels(levels)\n",
    "# # #                                   \"ticks\":[1,3,4]\n",
    "# #                                    \"label\":\"significance\"\n",
    "# #                                   })\n",
    "    \n",
    "#     if levels[0]==levels[1]:\n",
    "#         print(\"ERRRRRRRRR\\n\\n\")\n",
    "#         levels[0] /= 1.01\n",
    "#     sns_ax = sns.kdeplot(x,y, shade=True,ax=ax,n_levels=levels,cmap=\"viridis\",normed=True, \n",
    "#                 cbar = False, vmin=levels[0], vmax=levels[-1])\n",
    "# #                          cbar_kws={#\"ticklocation\":av_levels(levels),\n",
    "# #                                    \"ticks\":[],\n",
    "# #                                    #\"format\":\">%s<\"\n",
    "# # #                                    \"format\":av_levels(levels)\n",
    "# # #                                   \"ticks\":[1,3,4]\n",
    "# #                                    \"label\":\"significance\"\n",
    "# #                                   })\n",
    "#                             #          \"labels\":levels})\n",
    "# #     fig.colorbar(cax,ticks=[-1, 0, 1])\n",
    "# #     ax.set_aspect('equal')\n",
    "#     kwargs = {}\n",
    "#     if k is 0:\n",
    "#         kwargs['label'] = 'best fit'\n",
    "#     plt.scatter(np.mean(x),np.mean(y), c='black',\n",
    "#                 marker = '+',**kwargs)\n",
    "#     if k is 0:\n",
    "#         kwargs['label'] = 'benchmark value'\n",
    "#     plt.scatter(results[item]['config']['mw'],\n",
    "#                 results[item]['config']['sigma'], c='blue',\n",
    "#                 marker = 'x',\n",
    "#                 **kwargs)\n",
    "#     if k is 0:\n",
    "#         cbar = ax.figure.colorbar(sns_ax.collections[0])\n",
    "#     #     cbar = sns_ax.figure.colorbar()#[0].colorbar\n",
    "#     #     print(av_levels(levels))\n",
    "#     #     cbar.set_ticks(av_levels(levels))\n",
    "#         cbar.set_ticks(av_levels(np.linspace(0,1,4)))\n",
    "#     #     print(level1)\n",
    "#         cbar.set_ticklabels(['$3\\sigma$', '$2\\sigma$', '$1\\sigma$'])\n",
    "#         cbar.set_label(\"Confidence interval\")\n",
    "#     #     cbar.set_nbins(4)\n",
    "# secax = ax.secondary_xaxis('top', functions=(pow10, np.log10))\n",
    "# # ax1.set_xticklabels([1])\n",
    "# # ax.set_xlim(np.log10(10),np.log10(1000))\n",
    "# x_ticks = [15, 25, 50, 100, 250, 500, 1000]\n",
    "# for x_tick in x_ticks:\n",
    "#     ax.axvline(np.log10(x_tick), alpha = 0.1)\n",
    "# secax.set_ticks(x_ticks)\n",
    "# plt.xlim(np.log10(x_ticks[0]),np.log10(x_ticks[-1]))\n",
    "# plt.xlabel(\"$\\log_{10}(M_{\\chi}$ $[GeV/c^{2}]$)\")\n",
    "# secax.set_xlabel(\"$M_{\\chi}$ $[GeV/c^{2}]$\")\n",
    "# plt.ylabel(\"$\\log_{10}(\\sigma_{S.I.}$ $[cm^{2}]$)\")\n",
    "# plt.legend()\n",
    "# plt.show()\n"
   ]
  },
  {
   "cell_type": "code",
   "execution_count": 54,
   "metadata": {},
   "outputs": [
    {
     "ename": "NameError",
     "evalue": "name 'cbar' is not defined",
     "output_type": "error",
     "traceback": [
      "\u001b[0;31m---------------------------------------------------------------------------\u001b[0m",
      "\u001b[0;31mNameError\u001b[0m                                 Traceback (most recent call last)",
      "\u001b[0;32m<ipython-input-54-c4faffa1ffb4>\u001b[0m in \u001b[0;36m<module>\u001b[0;34m\u001b[0m\n\u001b[0;32m----> 1\u001b[0;31m \u001b[0mcbar\u001b[0m\u001b[0;34m\u001b[0m\u001b[0;34m\u001b[0m\u001b[0m\n\u001b[0m",
      "\u001b[0;31mNameError\u001b[0m: name 'cbar' is not defined"
     ]
    }
   ],
   "source": [
    "cbar"
   ]
  },
  {
   "cell_type": "code",
   "execution_count": 55,
   "metadata": {},
   "outputs": [
    {
     "ename": "SyntaxError",
     "evalue": "invalid syntax (<ipython-input-55-455680ca2399>, line 1)",
     "output_type": "error",
     "traceback": [
      "\u001b[0;36m  File \u001b[0;32m\"<ipython-input-55-455680ca2399>\"\u001b[0;36m, line \u001b[0;32m1\u001b[0m\n\u001b[0;31m    def\u001b[0m\n\u001b[0m        ^\u001b[0m\n\u001b[0;31mSyntaxError\u001b[0m\u001b[0;31m:\u001b[0m invalid syntax\n"
     ]
    }
   ],
   "source": [
    "def "
   ]
  },
  {
   "cell_type": "code",
   "execution_count": 56,
   "metadata": {},
   "outputs": [
    {
     "ename": "NameError",
     "evalue": "name 'sigma_to_p' is not defined",
     "output_type": "error",
     "traceback": [
      "\u001b[0;31m---------------------------------------------------------------------------\u001b[0m",
      "\u001b[0;31mNameError\u001b[0m                                 Traceback (most recent call last)",
      "\u001b[0;32m<ipython-input-56-25ab188971ea>\u001b[0m in \u001b[0;36m<module>\u001b[0;34m\u001b[0m\n\u001b[0;32m----> 1\u001b[0;31m \u001b[0msigma_to_p\u001b[0m\u001b[0;34m(\u001b[0m\u001b[0;36m2\u001b[0m\u001b[0;34m)\u001b[0m\u001b[0;34m\u001b[0m\u001b[0;34m\u001b[0m\u001b[0m\n\u001b[0m",
      "\u001b[0;31mNameError\u001b[0m: name 'sigma_to_p' is not defined"
     ]
    }
   ],
   "source": [
    "sigma_to_p(2)"
   ]
  },
  {
   "cell_type": "code",
   "execution_count": 57,
   "metadata": {},
   "outputs": [
    {
     "name": "stdout",
     "output_type": "stream",
     "text": [
      "1 0.6826894921370859\n",
      "2 0.9544997361036416\n",
      "3 0.9973002039367398\n",
      "4 0.9999366575163338\n"
     ]
    }
   ],
   "source": [
    "from scipy.special import erf\n",
    "def sigma_to_p(x):\n",
    "    return erf(x/np.sqrt(2))\n",
    "\n",
    "for x in range(1,5):\n",
    "    print(x, sigma_to_p(x))"
   ]
  },
  {
   "cell_type": "code",
   "execution_count": 60,
   "metadata": {},
   "outputs": [
    {
     "data": {
      "image/png": "[encoded data removed]",
      "text/plain": [
       "<Figure size 432x288 with 2 Axes>"
      ]
     },
     "metadata": {
      "needs_background": "light"
     },
     "output_type": "display_data"
    }
   ],
   "source": [
    "combine_normalized(selected_keys_sets[0])"
   ]
  },
  {
   "cell_type": "code",
   "execution_count": 59,
   "metadata": {},
   "outputs": [
    {
     "data": {
      "image/png": "[encoded data removed]",
      "text/plain": [
       "<Figure size 432x288 with 2 Axes>"
      ]
     },
     "metadata": {
      "needs_background": "light"
     },
     "output_type": "display_data"
    }
   ],
   "source": [
    "combine_normalized(selected_keys[3:6])"
   ]
  },
  {
   "cell_type": "code",
   "execution_count": null,
   "metadata": {},
   "outputs": [],
   "source": [
    "np.percentile(np.linspace(0,100,100), [5,95])"
   ]
  },
  {
   "cell_type": "code",
   "execution_count": null,
   "metadata": {},
   "outputs": [],
   "source": []
  },
  {
   "cell_type": "code",
   "execution_count": null,
   "metadata": {},
   "outputs": [],
   "source": [
    "items = selected_keys[:3]\n",
    "def get_df(items):\n",
    "#     df = pd.DataFrame()\n",
    "    for j, item in enumerate(items):\n",
    "        posteriors = get_p_i(item)\n",
    "        test_df = pd.DataFrame()\n",
    "        \n",
    "        test_df['$\\log(M_\\chi)$'] = posteriors[0]\n",
    "        test_df['$\\log(\\sigma)$'] = posteriors[1]\n",
    "        test_df['mass'] = 10**results[item]['config']['mw']\n",
    "#         sns.jointplot(x=\"x\", y=\"y\", data=test_df, kind=\"kde\",\n",
    "#                      ylim = [-46,-44],\n",
    "#                      xlim = [1,3]);\n",
    "        if j == 0:\n",
    "            df = test_df\n",
    "        else:\n",
    "            df = pd.concat([df, test_df])\n",
    "#     df = df.assign(industry='yyy')\n",
    "    return df\n",
    "data = get_df(items)\n",
    "print(np.unique(data.mass), len(data))\n",
    "data.head(3)"
   ]
  },
  {
   "cell_type": "code",
   "execution_count": null,
   "metadata": {},
   "outputs": [],
   "source": [
    "def plot_set(items, save_as):\n",
    "    # data = sns.load_dataset('iris')\n",
    "    # plt.figure(figsize=(15,10))\n",
    "    data = get_df(items)\n",
    "    print(np.unique(data.mass), len(data))\n",
    "    def make_kde(*args, **kwargs):  \n",
    "        #\"cbar\":True, \n",
    "    #     opts ={\"n_levels\":5}\n",
    "        sns.kdeplot(n_levels = 3, *args, cmap=next(make_kde.cmap_cycle), **kwargs)\n",
    "\n",
    "    def make_kde_cbar(*args, **kwargs):  \n",
    "        #\"cbar\":True, \n",
    "    #     opts ={\"n_levels\":5}\n",
    "        sns.kdeplot(n_levels = 3, cbar = True, *args, cmap=next(make_kde.cmap_cycle), **kwargs)\n",
    "    kwargs ={\"cbar\":True, \"n_levels\":5}\n",
    "    make_kde.cmap_cycle = cycle(('Blues_r', 'Oranges_r', 'Greens_r'))\n",
    "\n",
    "    pg = sns.PairGrid(data, vars=('$\\log(M_\\chi)$', '$\\log(\\sigma)$'), hue='mass')\n",
    "    pg.map_diag(sns.kdeplot)#, color = ({)'b', 'g', 'r'})\n",
    "    pg.map_lower(make_kde)\n",
    "    # pg.map_upper(make_kde_cbar)\n",
    "    pg.fig.set_size_inches(15,10)\n",
    "    pg.fig.savefig(f\"{det}_{save_as}.png\", dpi =300)\n",
    "    pg.fig.savefig(f\"{det}_{save_as}.pdf\", dpi =300)\n",
    "    plt.title(f\"{save_as}\")\n",
    "    plt.show()\n",
    "  "
   ]
  },
  {
   "cell_type": "code",
   "execution_count": null,
   "metadata": {},
   "outputs": [],
   "source": [
    "for k in range(len(selected_keys_names)):\n",
    "    plot_set(selected_keys_sets[k], selected_keys_names[k])"
   ]
  },
  {
   "cell_type": "code",
   "execution_count": null,
   "metadata": {
    "scrolled": true
   },
   "outputs": [],
   "source": [
    "# loading normal results.\n",
    "results = {}\n",
    "for i in range(200):\n",
    "    try:\n",
    "        results[i] = dddm.load_nestle_samples(\n",
    "            \"../../results/nestle_17nov\", i)\n",
    "        print()\n",
    "    except FileNotFoundError:\n",
    "        pass"
   ]
  },
  {
   "cell_type": "code",
   "execution_count": null,
   "metadata": {
    "scrolled": true
   },
   "outputs": [],
   "source": [
    "print(f\"selecting {det} dataset\")\n",
    "selected_keys = []\n",
    "for i in results.keys():\n",
    "    if results[i]['config']['n_energy_bins'] == 10:\n",
    "        if results[i]['config']['detector'] == det:\n",
    "            print(i,\n",
    "                  results[i]['config']['notes'], \n",
    "                  10**results[i]['config']['mw'],\n",
    "                  np.shape(results[i]['samples']))\n",
    "            selected_keys.append(i)    \n",
    "selected_keys"
   ]
  },
  {
   "cell_type": "code",
   "execution_count": null,
   "metadata": {
    "scrolled": true
   },
   "outputs": [],
   "source": [
    "# for key in results.keys():\n",
    "for key in selected_keys:\n",
    "    print(f\"---{key}---\")\n",
    "    result = results[key]\n",
    "    dddm.nestle_corner(result)"
   ]
  },
  {
   "cell_type": "code",
   "execution_count": null,
   "metadata": {},
   "outputs": [],
   "source": [
    "combine_normalized(selected_keys[1:4])"
   ]
  },
  {
   "cell_type": "code",
   "execution_count": null,
   "metadata": {},
   "outputs": [],
   "source": [
    "combine_normalized([selected_keys[0], *selected_keys[4:6]])"
   ]
  },
  {
   "cell_type": "code",
   "execution_count": null,
   "metadata": {},
   "outputs": [],
   "source": []
  },
  {
   "cell_type": "code",
   "execution_count": null,
   "metadata": {},
   "outputs": [],
   "source": [
    "# items = selected_keys[:3]\n",
    "def get_df(items):\n",
    "#     df = pd.DataFrame()\n",
    "    for j, item in enumerate(items):\n",
    "        posteriors = get_p_i(item)\n",
    "        test_df = pd.DataFrame()\n",
    "        \n",
    "        test_df['$\\log(M_\\chi)$'] = posteriors[0]\n",
    "        test_df['$\\log(\\sigma)$'] = posteriors[1]\n",
    "        test_df['mass'] = 10**results[item]['config']['mw']\n",
    "#         sns.jointplot(x=\"x\", y=\"y\", data=test_df, kind=\"kde\",\n",
    "#                      ylim = [-46,-44],\n",
    "#                      xlim = [1,3]);\n",
    "        if j == 0:\n",
    "            df = test_df\n",
    "        else:\n",
    "            df = pd.concat([df, test_df])\n",
    "#     df = df.assign(industry='yyy')\n",
    "    return df"
   ]
  },
  {
   "cell_type": "code",
   "execution_count": null,
   "metadata": {},
   "outputs": [],
   "source": [
    "items = [14,15,18]\n",
    "data = get_df(items)\n",
    "print(np.unique(data.mass), len(data))\n",
    "data.head(3)"
   ]
  },
  {
   "cell_type": "code",
   "execution_count": null,
   "metadata": {
    "scrolled": false
   },
   "outputs": [],
   "source": [
    "%%time\n",
    "# data = sns.load_dataset('iris')\n",
    "# plt.figure(figsize=(15,10))\n",
    "def make_kde(*args, **kwargs):  \n",
    "    #\"cbar\":True, \n",
    "#     opts ={\"n_levels\":5}\n",
    "    sns.kdeplot(n_levels = 3, *args, cmap=next(make_kde.cmap_cycle), **kwargs)\n",
    "\n",
    "def make_kde_cbar(*args, **kwargs):  \n",
    "    #\"cbar\":True, \n",
    "#     opts ={\"n_levels\":5}\n",
    "    sns.kdeplot(n_levels = 3, cbar = True, *args, cmap=next(make_kde.cmap_cycle), **kwargs)\n",
    "kwargs ={\"cbar\":True, \"n_levels\":5}\n",
    "make_kde.cmap_cycle = cycle(('Blues_r', 'Oranges_r', 'Greens_r'))\n",
    "\n",
    "pg = sns.PairGrid(data, vars=('$\\log(M_\\chi)$', '$\\log(\\sigma)$'), hue='mass')\n",
    "pg.map_diag(sns.kdeplot)#, color = ({)'b', 'g', 'r'})\n",
    "pg.map_lower(make_kde)\n",
    "# pg.map_upper(make_kde_cbar)\n",
    "pg.fig.set_size_inches(15,10)\n",
    "pg.fig.savefig(f\"{det}_fixed_astroph.png\", dpi =300)\n",
    "pg.fig.savefig(f\"{det}_fixed_astroph.pdf\", dpi =300)"
   ]
  },
  {
   "cell_type": "code",
   "execution_count": null,
   "metadata": {},
   "outputs": [],
   "source": [
    "items = [24, 25, 0]\n",
    "data = get_df(items)\n",
    "print(np.unique(data.mass), len(data))\n",
    "data.head(3)"
   ]
  },
  {
   "cell_type": "code",
   "execution_count": null,
   "metadata": {},
   "outputs": [],
   "source": [
    "%%time\n",
    "# data = sns.load_dataset('iris')\n",
    "# plt.figure(figsize=(15,10))\n",
    "def make_kde(*args, **kwargs):  \n",
    "    #\"cbar\":True, \n",
    "#     opts ={\"n_levels\":5}\n",
    "    sns.kdeplot(n_levels = 3, *args, cmap=next(make_kde.cmap_cycle), **kwargs)\n",
    "\n",
    "def make_kde_cbar(*args, **kwargs):  \n",
    "    #\"cbar\":True, \n",
    "#     opts ={\"n_levels\":5}\n",
    "    sns.kdeplot(n_levels = 3, cbar = True, *args, cmap=next(make_kde.cmap_cycle), **kwargs)\n",
    "kwargs ={\"cbar\":True, \"n_levels\":5}\n",
    "make_kde.cmap_cycle = cycle(('Blues_r', 'Oranges_r', 'Greens_r'))\n",
    "\n",
    "pg = sns.PairGrid(data, vars=('$\\log(M_\\chi)$', '$\\log(\\sigma)$'), hue='mass')\n",
    "pg.map_diag(sns.kdeplot)#, color = ({)'b', 'g', 'r'})\n",
    "pg.map_lower(make_kde)\n",
    "# pg.map_upper(make_kde_cbar)\n",
    "pg.fig.set_size_inches(15,10)\n",
    "pg.fig.savefig(f\"{det}_loose_astroph.png\", dpi =300)\n",
    "pg.fig.savefig(f\"{det}_loose_astroph.pdf\", dpi =300)"
   ]
  },
  {
   "cell_type": "code",
   "execution_count": null,
   "metadata": {},
   "outputs": [],
   "source": []
  },
  {
   "cell_type": "code",
   "execution_count": null,
   "metadata": {},
   "outputs": [],
   "source": []
  },
  {
   "cell_type": "code",
   "execution_count": null,
   "metadata": {},
   "outputs": [],
   "source": []
  },
  {
   "cell_type": "code",
   "execution_count": null,
   "metadata": {},
   "outputs": [],
   "source": []
  },
  {
   "cell_type": "code",
   "execution_count": null,
   "metadata": {},
   "outputs": [],
   "source": [
    "# np.shape(np.random.normal(1, 1, 10**6))\n"
   ]
  },
  {
   "cell_type": "code",
   "execution_count": null,
   "metadata": {},
   "outputs": [],
   "source": [
    "from scipy.stats.mstats import mquantiles"
   ]
  },
  {
   "cell_type": "code",
   "execution_count": null,
   "metadata": {},
   "outputs": [],
   "source": []
  },
  {
   "cell_type": "code",
   "execution_count": null,
   "metadata": {
    "scrolled": true
   },
   "outputs": [],
   "source": [
    "# x, y = np.random.multivariate_normal(mean, cov, 1000).T\n",
    "with sns.axes_style(\"white\"):\n",
    "    sns.jointplot(x=test[0], y=test[1], kind=\"hex\", color=\"k\");"
   ]
  },
  {
   "cell_type": "code",
   "execution_count": null,
   "metadata": {
    "scrolled": true
   },
   "outputs": [],
   "source": [
    "f, ax = plt.subplots(figsize=(6, 6))\n",
    "sns.kdeplot(test[0], test[1], ax=ax)\n",
    "sns.rugplot(test[0], color=\"g\", ax=ax)\n",
    "sns.rugplot(test[1], vertical=True, ax=ax);"
   ]
  },
  {
   "cell_type": "code",
   "execution_count": null,
   "metadata": {},
   "outputs": [],
   "source": [
    "test_df = pd.DataFrame()\n",
    "test_df['x'] = test[0]\n",
    "test_df['y'] = test[1]"
   ]
  },
  {
   "cell_type": "code",
   "execution_count": null,
   "metadata": {
    "scrolled": true
   },
   "outputs": [],
   "source": [
    "sns.jointplot(x=\"x\", y=\"y\", data=test_df, kind=\"kde\");"
   ]
  },
  {
   "cell_type": "code",
   "execution_count": null,
   "metadata": {},
   "outputs": [],
   "source": [
    "items = selected_keys\n",
    "\n",
    "def plot_posterior(items):\n",
    "    posteriors = [get_p_i(item) for item in items]\n",
    "    test_df = pd.DataFrame()\n",
    "\n",
    "    test_df['x'] = np.concatenate([p[0] for p in posteriors])\n",
    "    test_df['y'] = np.concatenate([p[1] for p in posteriors])\n",
    "    sns.jointplot(x=\"x\", y=\"y\", data=test_df, kind=\"kde\",\n",
    "                 ylim = [-46,-44],\n",
    "                 xlim = [1,3]);\n",
    "plot_posterior(items)"
   ]
  },
  {
   "cell_type": "code",
   "execution_count": null,
   "metadata": {},
   "outputs": [],
   "source": [
    "items = selected_keys[:3]\n",
    "def plot_posterior_per_item(items):\n",
    "    for item in items:\n",
    "        posteriors = get_p_i(item)\n",
    "        test_df = pd.DataFrame()\n",
    "\n",
    "        test_df['x'] = posteriors[0]\n",
    "        test_df['y'] = posteriors[1]\n",
    "        sns.jointplot(x=\"x\", y=\"y\", data=test_df, kind=\"kde\",\n",
    "                     ylim = [-46,-44],\n",
    "                     xlim = [1,3]);\n",
    "plot_posterior_per_item(items)"
   ]
  },
  {
   "cell_type": "code",
   "execution_count": null,
   "metadata": {},
   "outputs": [],
   "source": [
    "items = selected_keys[:3]\n",
    "\n",
    "# sns.jointplot(x=\"x\", y=\"y\", data=test_df, kind=\"kde\",\n",
    "#                      ylim = [-46,-44],\n",
    "#                      xlim = [1,3]);\n",
    "def plot_posterior_per_item(items):\n",
    "    for j, item in enumerate(items):\n",
    "        posteriors = get_p_i(item)\n",
    "        test_df = pd.DataFrame()\n",
    "\n",
    "        test_df[f'x'] = posteriors[0]\n",
    "        test_df[f'y'] = posteriors[1]\n",
    "        if j ==0:\n",
    "            \n",
    "            grid = sns.JointGrid(x=\"x\", y=\"y\", data=test_df)\n",
    "        grid = grid.plot_joint(\n",
    "            sns.jointplot(x=\"x\", y=\"y\", data=test_df, kind=\"kde\",\n",
    "                     ylim = [-46,-44],\n",
    "                     xlim = [1,3]));\n",
    "plot_posterior_per_item(items)"
   ]
  },
  {
   "cell_type": "code",
   "execution_count": null,
   "metadata": {},
   "outputs": [],
   "source": [
    "selected_keys"
   ]
  },
  {
   "cell_type": "code",
   "execution_count": null,
   "metadata": {},
   "outputs": [],
   "source": [
    "for key in [40,46]:\n",
    "    print(results[key]['config']['mw'])"
   ]
  },
  {
   "cell_type": "code",
   "execution_count": null,
   "metadata": {},
   "outputs": [],
   "source": [
    "X, Y = np.meshgrid(*test2[1:])\n",
    "plt.pcolormesh(X, Y, test.T/np.sum(test.T), norm = LogNorm())\n",
    "plt.colorbar()\n",
    "plt.show()"
   ]
  },
  {
   "cell_type": "code",
   "execution_count": null,
   "metadata": {},
   "outputs": [],
   "source": [
    "X, Y = np.meshgrid(*test2[1:])\n",
    "plt.pcolormesh(X, Y, test.T/np.sum(test.T), norm = LogNorm())\n",
    "plt.colorbar()\n",
    "plt.show()"
   ]
  },
  {
   "cell_type": "code",
   "execution_count": null,
   "metadata": {},
   "outputs": [],
   "source": [
    "X, Y = np.meshgrid(*test2[1:])\n",
    "plt.pcolormesh(X, Y, test2[0].T/np.sum(test2[0].T), norm = LogNorm())\n",
    "plt.colorbar()\n",
    "plt.show()"
   ]
  },
  {
   "cell_type": "code",
   "execution_count": null,
   "metadata": {},
   "outputs": [],
   "source": [
    "# %time\n",
    "# items = results.keys()\n",
    "# def get_p_i(i):\n",
    "#     return get_posterior(results[i]['samples'], results[i]['weights']).T[:2]\n",
    "# posteriors = [get_p_i(item) for item in items]\n",
    "# test_df = pd.DataFrame()\n",
    "\n",
    "# test_df['x'] = np.concatenate([p[0] for p in posteriors])\n",
    "# test_df['y'] = np.concatenate([p[1] for p in posteriors])\n",
    "# sns.jointplot(x=\"x\", y=\"y\", data=test_df, kind=\"kde\",\n",
    "#              ylim = [-46,-44],\n",
    "#              xlim = [1,3]);"
   ]
  },
  {
   "cell_type": "code",
   "execution_count": null,
   "metadata": {},
   "outputs": [],
   "source": []
  },
  {
   "cell_type": "code",
   "execution_count": null,
   "metadata": {},
   "outputs": [],
   "source": []
  },
  {
   "cell_type": "code",
   "execution_count": null,
   "metadata": {},
   "outputs": [],
   "source": []
  },
  {
   "cell_type": "code",
   "execution_count": null,
   "metadata": {},
   "outputs": [],
   "source": []
  },
  {
   "cell_type": "code",
   "execution_count": null,
   "metadata": {},
   "outputs": [],
   "source": []
  },
  {
   "cell_type": "code",
   "execution_count": null,
   "metadata": {},
   "outputs": [],
   "source": []
  },
  {
   "cell_type": "code",
   "execution_count": null,
   "metadata": {},
   "outputs": [],
   "source": []
  }
 ],
 "metadata": {
  "kernelspec": {
   "display_name": "Python 3",
   "language": "python",
   "name": "python3"
  },
  "language_info": {
   "codemirror_mode": {
    "name": "ipython",
    "version": 3
   },
   "file_extension": ".py",
   "mimetype": "text/x-python",
   "name": "python",
   "nbconvert_exporter": "python",
   "pygments_lexer": "ipython3",
   "version": "3.7.4"
  }
 },
 "nbformat": 4,
 "nbformat_minor": 2
}
