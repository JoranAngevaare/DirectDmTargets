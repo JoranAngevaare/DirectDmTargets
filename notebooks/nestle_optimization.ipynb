{
 "cells": [
  {
   "cell_type": "code",
   "execution_count": 1,
   "metadata": {},
   "outputs": [
    {
     "name": "stdout",
     "output_type": "stream",
     "text": [
      "calculating effective efficiency for Xe detector done\n",
      "calculating effective efficiency for Ar detector done\n",
      "calculating effective efficiency for Ge detector done\n"
     ]
    }
   ],
   "source": [
    "from DirectDmTargets import *"
   ]
  },
  {
   "cell_type": "code",
   "execution_count": 2,
   "metadata": {},
   "outputs": [
    {
     "data": {
      "text/plain": [
       "'0.3.0'"
      ]
     },
     "execution_count": 2,
     "metadata": {},
     "output_type": "execute_result"
    }
   ],
   "source": [
    "import wimprates as wr\n",
    "assert wr.__version__ !='0.2.2'\n",
    "wr.__version__"
   ]
  },
  {
   "cell_type": "code",
   "execution_count": 3,
   "metadata": {},
   "outputs": [],
   "source": [
    "import numpy as np\n",
    "import matplotlib.pyplot as plt"
   ]
  },
  {
   "cell_type": "code",
   "execution_count": 4,
   "metadata": {},
   "outputs": [],
   "source": [
    "import numericalunits as nu"
   ]
  },
  {
   "cell_type": "code",
   "execution_count": 5,
   "metadata": {},
   "outputs": [],
   "source": [
    "from tqdm import tqdm"
   ]
  },
  {
   "cell_type": "code",
   "execution_count": 6,
   "metadata": {},
   "outputs": [],
   "source": [
    "from scipy.integrate import quad as scipy_int"
   ]
  },
  {
   "cell_type": "code",
   "execution_count": 7,
   "metadata": {},
   "outputs": [],
   "source": [
    "import pandas as pd"
   ]
  },
  {
   "cell_type": "code",
   "execution_count": 8,
   "metadata": {},
   "outputs": [],
   "source": [
    "import scipy"
   ]
  },
  {
   "cell_type": "code",
   "execution_count": 9,
   "metadata": {},
   "outputs": [
    {
     "data": {
      "text/plain": [
       "'3.0.0'"
      ]
     },
     "execution_count": 9,
     "metadata": {},
     "output_type": "execute_result"
    }
   ],
   "source": [
    "import emcee\n",
    "emcee.__version__"
   ]
  },
  {
   "cell_type": "code",
   "execution_count": 10,
   "metadata": {},
   "outputs": [],
   "source": [
    "import corner"
   ]
  },
  {
   "cell_type": "code",
   "execution_count": 11,
   "metadata": {},
   "outputs": [],
   "source": [
    "import time"
   ]
  },
  {
   "cell_type": "code",
   "execution_count": 12,
   "metadata": {},
   "outputs": [],
   "source": [
    "import nestle"
   ]
  },
  {
   "cell_type": "markdown",
   "metadata": {},
   "source": [
    "# Direct detection of Dark matter using different target materials #\n",
    "\n",
    "Author:\n",
    "\n",
    "Joran Angevaare <j.angevaare@nikef.nl>\n",
    "\n",
    "Date:\n",
    "\n",
    "14 october 2019 \n",
    "\n",
    "## Goal ## \n",
    "\n",
    "- Roughly reproduce <https://journals.aps.org/prd/abstract/10.1103/PhysRevD.83.083505>\n",
    "- Update the results thereof with more recent knowledge of the DM-distribution\n",
    "\n",
    "### Approach ###\n",
    "To achieve these goals, we must first get a decent recoil spectrum, that is flexible enough to have different astrophysical parameters. Further, it must also be flexible enough to be able to allow for different analytic functions to be added to the model. For instance, we must be able to incorporate the $\\rm{SHM}^{++}$ as presented here <https://arxiv.org/abs/1810.11468>.\n",
    "\n",
    "When we have a sufficiently flexible model, we want to add in the detector physics, we should therein incorporate at least the following parameters:\n",
    "- target\n",
    "  - material\n",
    "  - cross-section\n",
    "- threshold\n",
    "- background\n",
    "- cut efficiency  \n",
    "- volume\n",
    "- exposure\n",
    "\n",
    "Finally we should perform the inference"
   ]
  },
  {
   "cell_type": "markdown",
   "metadata": {},
   "source": [
    "# Emcee #\n",
    "<https://emcee.readthedocs.io/en/stable/tutorials/quickstart/>"
   ]
  },
  {
   "cell_type": "code",
   "execution_count": 13,
   "metadata": {},
   "outputs": [
    {
     "data": {
      "image/png": "[encoded data removed]",
      "text/plain": [
       "<Figure size 648x432 with 1 Axes>"
      ]
     },
     "metadata": {
      "needs_background": "light"
     },
     "output_type": "display_data"
    }
   ],
   "source": [
    "from scipy.special import ndtri\n",
    "\n",
    "def prior_transform(theta):\n",
    "    \"\"\"\n",
    "    https://mattpitkin.github.io/samplers-demo/pages/samplers-samplers-everywhere/#Nested-Sampling\n",
    "    A function defining the tranform between the parameterisation in the unit hypercube\n",
    "    to the true parameters.\n",
    "\n",
    "    Args:\n",
    "        theta (tuple): a tuple containing the parameters.\n",
    "        \n",
    "    Returns:\n",
    "        tuple: a new tuple or array with the transformed parameters.\n",
    "    \"\"\"\n",
    "\n",
    "    mprime, cprime = theta # unpack the parameters (in their unit hypercube form)\n",
    "\n",
    "    cmin = -10.  # lower bound on uniform prior on c\n",
    "    cmax = 10.   # upper bound on uniform prior on c\n",
    "\n",
    "    mmu = 0.     # mean of Gaussian prior on m\n",
    "    msigma = 10. # standard deviation of Gaussian prior on m\n",
    "\n",
    "    m = mmu + msigma*ndtri(mprime) # convert back to m\n",
    "    c = cprime*(cmax-cmin) + cmin  # convert back to c\n",
    "\n",
    "    return (m, c)\n",
    "\n",
    "# set the natural logarithm of 2pi, so that it doesn't have to be recalculated\n",
    "LN2PI = np.log(2.*np.pi)\n",
    "LNSIGMA = np.log(0.5) # natural log of the data noise standard deviation\n",
    "M = 100\n",
    "\n",
    "# set the true values of the model parameters for creating the data\n",
    "m = 3.5 # gradient of the line\n",
    "c = 1.2 # y-intercept of the line\n",
    "\n",
    "# set the \"predictor variable\"/abscissa\n",
    "M = 100\n",
    "xmin = 0.\n",
    "xmax = 10.\n",
    "stepsize = (xmax-xmin)/M\n",
    "x = np.arange(xmin, xmax, stepsize)\n",
    "\n",
    "# define the model function\n",
    "def straight_line(x, m, c):\n",
    "    \"\"\"\n",
    "    A straight line model: y = m*x + c\n",
    "    \n",
    "    Args:\n",
    "        x (list): a set of abscissa points at which the model is defined\n",
    "        m (float): the gradient of the line\n",
    "        c (float): the y-intercept of the line\n",
    "    \"\"\"\n",
    "\n",
    "    return m*x + c\n",
    "\n",
    "# seed our random number generator, so we have reproducible data\n",
    "np.random.seed(sum([ord(v) for v in 'samplers']))\n",
    "\n",
    "# create the data - the model plus Gaussian noise\n",
    "sigma = 0.5 # standard deviation of the noise\n",
    "data = straight_line(x, m, c) + sigma*np.random.randn(M)\n",
    "\n",
    "# plot the data\n",
    "# mpl.rcParams.update(rcparams) # update plot parameters\n",
    "fig, ax = plt.subplots(figsize=(9,6))\n",
    "ax.plot(x, data, 'bo', alpha=0.5, label='data')\n",
    "ax.plot(x, straight_line(x, m, c), 'r-', lw=2, label='model')\n",
    "ax.legend()\n",
    "ax.set_xlim([xmin, xmax])\n",
    "ax.set_xlabel(r'$x$');\n",
    "\n",
    "def loglikelihood_nestle(theta):\n",
    "    \"\"\"\n",
    "    The log-likelihood function.\n",
    "    \"\"\"\n",
    "\n",
    "    m, c = theta # unpack the parameters\n",
    "\n",
    "    # normalisation\n",
    "    norm = -0.5*M*LN2PI - M*LNSIGMA\n",
    "\n",
    "    # chi-squared (data, sigma and x are global variables defined early on in this notebook)\n",
    "    chisq = np.sum(((data-straight_line(x, m, c))/sigma)**2)\n",
    "\n",
    "    return norm - 0.5*chisq"
   ]
  },
  {
   "cell_type": "code",
   "execution_count": 14,
   "metadata": {},
   "outputs": [
    {
     "name": "stdout",
     "output_type": "stream",
     "text": [
      "Time taken to run 'Nestle' is 2.918795585632324 seconds\n"
     ]
    }
   ],
   "source": [
    "nlive = 1024     # number of live points\n",
    "method = 'multi' # use MutliNest algorithm\n",
    "ndims = 2        # two parameters\n",
    "tol = 0.1        # the stopping criterion\n",
    "\n",
    "t0 = time.time()\n",
    "res = nestle.sample(loglikelihood_nestle, \n",
    "                    prior_transform, ndims, \n",
    "                    method=method, npoints=nlive, dlogz=tol)\n",
    "t1 = time.time()\n",
    "\n",
    "timenestle = (t1-t0)\n",
    "\n",
    "print(\"Time taken to run 'Nestle' is {} seconds\".format(timenestle))"
   ]
  },
  {
   "cell_type": "code",
   "execution_count": 15,
   "metadata": {},
   "outputs": [
    {
     "name": "stdout",
     "output_type": "stream",
     "text": [
      "log(Z) = -87.79095196446784 ± 0.10111246771070997\n",
      "niter: 14157\n",
      "ncall: 22994\n",
      "nsamples: 15181\n",
      "logz: -87.791 +/-  0.101\n",
      "h: 10.469\n",
      "Number of posterior samples is 2765\n"
     ]
    }
   ],
   "source": [
    "logZnestle = res.logz                         # value of logZ\n",
    "infogainnestle = res.h                        # value of the information gain in nats\n",
    "logZerrnestle = np.sqrt(infogainnestle/nlive) # estimate of the statistcal uncertainty on logZ\n",
    "\n",
    "print('log(Z) = {} \\u00B1 {}'.format(logZnestle, logZerrnestle))\n",
    "print(res.summary())\n",
    "\n",
    "# re-scale weights to have a maximum of one\n",
    "nweights = res.weights/np.max(res.weights)\n",
    "\n",
    "# get the probability of keeping a sample from the weights\n",
    "keepidx = np.where(np.random.rand(len(nweights)) < nweights)[0]\n",
    "\n",
    "# get the posterior samples\n",
    "samples_nestle = res.samples[keepidx,:]\n",
    "resdict ={}\n",
    "resdict['mnestle_mu'] = np.mean(samples_nestle[:,0])      # mean of m samples\n",
    "resdict['mnestle_sig'] = np.std(samples_nestle[:,0])      # standard deviation of m samples\n",
    "resdict['cnestle_mu'] = np.mean(samples_nestle[:,1])      # mean of c samples\n",
    "resdict['cnestle_sig'] = np.std(samples_nestle[:,1])      # standard deviation of c samples\n",
    "resdict['ccnestle'] = np.corrcoef(samples_nestle.T)[0,1]  # correlation coefficient between parameters\n",
    "resdict['nestle_npos'] = len(samples_nestle)              # number of posterior samples\n",
    "resdict['nestle_time'] = timenestle                       # run time\n",
    "resdict['nestle_logZ'] = logZnestle                       # log marginalised likelihood\n",
    "resdict['nestle_logZerr'] = logZerrnestle                 # uncertainty on log(Z)\n",
    "\n",
    "print('Number of posterior samples is {}'.format(len(samples_nestle)))"
   ]
  },
  {
   "cell_type": "code",
   "execution_count": 16,
   "metadata": {},
   "outputs": [
    {
     "name": "stdout",
     "output_type": "stream",
     "text": [
      "niter: 14157\n",
      "ncall: 22994\n",
      "nsamples: 15181\n",
      "logz: -87.791 +/-  0.101\n",
      "h: 10.469\n"
     ]
    }
   ],
   "source": [
    "print(res.summary())"
   ]
  },
  {
   "cell_type": "code",
   "execution_count": 17,
   "metadata": {},
   "outputs": [
    {
     "name": "stdout",
     "output_type": "stream",
     "text": [
      "Number of posterior samples is 2811\n"
     ]
    }
   ],
   "source": [
    "# re-scale weights to have a maximum of one\n",
    "nweights = res.weights/np.max(res.weights)\n",
    "\n",
    "# get the probability of keeping a sample from the weights\n",
    "keepidx = np.where(np.random.rand(len(nweights)) < nweights)[0]\n",
    "\n",
    "# get the posterior samples\n",
    "samples_nestle = res.samples[keepidx,:]\n",
    "resdict ={}\n",
    "resdict['mnestle_mu'] = np.mean(samples_nestle[:,0])      # mean of m samples\n",
    "resdict['mnestle_sig'] = np.std(samples_nestle[:,0])      # standard deviation of m samples\n",
    "resdict['cnestle_mu'] = np.mean(samples_nestle[:,1])      # mean of c samples\n",
    "resdict['cnestle_sig'] = np.std(samples_nestle[:,1])      # standard deviation of c samples\n",
    "resdict['ccnestle'] = np.corrcoef(samples_nestle.T)[0,1]  # correlation coefficient between parameters\n",
    "resdict['nestle_npos'] = len(samples_nestle)              # number of posterior samples\n",
    "resdict['nestle_time'] = timenestle                       # run time\n",
    "resdict['nestle_logZ'] = logZnestle                       # log marginalised likelihood\n",
    "resdict['nestle_logZerr'] = logZerrnestle                 # uncertainty on log(Z)\n",
    "\n",
    "print('Number of posterior samples is {}'.format(len(samples_nestle)))"
   ]
  },
  {
   "cell_type": "code",
   "execution_count": 18,
   "metadata": {},
   "outputs": [
    {
     "data": {
      "image/png": "[encoded data removed]",
      "text/plain": [
       "<Figure size 396x396 with 4 Axes>"
      ]
     },
     "metadata": {
      "needs_background": "light"
     },
     "output_type": "display_data"
    }
   ],
   "source": [
    "from scipy.stats import gaussian_kde\n",
    "def plotposts(samples, **kwargs):\n",
    "    \"\"\"\n",
    "    Function to plot posteriors using corner.py and scipy's gaussian KDE function.\n",
    "    \"\"\"\n",
    "    if \"truths\" not in kwargs:\n",
    "        kwargs[\"truths\"] = [m, c]\n",
    "    \n",
    "    fig = corner.corner(samples, labels=[r'$m$', r'$c$'], hist_kwargs={'density': True}, **kwargs)\n",
    "\n",
    "    # plot KDE smoothed version of distributions\n",
    "    for axidx, samps in zip([0, 3], samples.T):\n",
    "        kde = gaussian_kde(samps)\n",
    "        xvals = fig.axes[axidx].get_xlim()\n",
    "        xvals = np.linspace(xvals[0], xvals[1], 100)\n",
    "        fig.axes[axidx].plot(xvals, kde(xvals), color='firebrick')\n",
    "plotposts(samples_nestle)"
   ]
  },
  {
   "cell_type": "code",
   "execution_count": null,
   "metadata": {},
   "outputs": [],
   "source": []
  },
  {
   "cell_type": "code",
   "execution_count": null,
   "metadata": {},
   "outputs": [],
   "source": []
  },
  {
   "cell_type": "markdown",
   "metadata": {},
   "source": [
    "## Distribution of the DM ##\n",
    "First we need to make a DM-rate spectrum"
   ]
  },
  {
   "cell_type": "code",
   "execution_count": 108,
   "metadata": {},
   "outputs": [
    {
     "name": "stdout",
     "output_type": "stream",
     "text": [
      "StatModel::\tinitialized for Xe detector. See print(stat_model) for default settings\n"
     ]
    }
   ],
   "source": [
    "class NestleStatModel(StatModel):\n",
    "    known_parameters = ['log_mass',\n",
    "                        'log_cross_section',\n",
    "                        'v_0',\n",
    "                        'v_esc',\n",
    "                        'density']\n",
    "\n",
    "    def __init__(self, *args):\n",
    "        StatModel.__init__(self, *args)\n",
    "        self.nwalkers = 50\n",
    "        self.nsteps = 100\n",
    "        self.fit_parameters = ['log_mass', 'log_cross_section']\n",
    "        self.sampler = None\n",
    "        self.pos = None\n",
    "        self.log = {'sampler': False, 'did_run': False, 'pos': False}\n",
    "        self.remove_frac = 0.2\n",
    "        self.thin = 15\n",
    "        self.config['start'] = datetime.datetime.now()  # .date().isoformat()\n",
    "        self.config['notes'] = \"default\"\n",
    "\n",
    "    def set_fit_parameters(self, params):\n",
    "        if not type(params) == list:\n",
    "            raise TypeError(\"Set the parameter names in a list of strings\")\n",
    "        for param in params:\n",
    "            if param not in self.known_parameters:\n",
    "                raise NotImplementedError(f\"{param} does not match any of the \"\n",
    "                                          f\"known parameters try any of \"\n",
    "                                          f\"{self.known_parameters}\")\n",
    "        if not params == self.known_parameters[:len(params)]:\n",
    "            raise NameError(f\"The parameters are not input in the correct order\"\n",
    "                            f\". Please insert \"\n",
    "                            f\"{self.known_parameters[:len(params)]} rather than\"\n",
    "                            f\" {params}.\")\n",
    "        self.fit_parameters = params\n",
    "\n",
    "    def _set_pos(self, use_pos=None):\n",
    "        self.log['pos'] = True\n",
    "        if use_pos is not None:\n",
    "            self.pos = use_pos\n",
    "            return\n",
    "        pos = np.hstack([\n",
    "            [[np.clip(self.config['prior'][param]['dist'](\n",
    "                self.config['prior'][param]['param']),\n",
    "                1.25 * self.config['prior'][param]['range'][0],\n",
    "                0.75 * self.config['prior'][param]['range'][-1]\n",
    "            ) for i in range(self.nwalkers)]\n",
    "                for param in self.fit_parameters]\n",
    "        ])\n",
    "        for i, p in enumerate(self.fit_parameters):\n",
    "            if 'log' in p:\n",
    "                pos[i] = 10 ** pos[i]\n",
    "        #     # #TODO workaround\n",
    "        # if 'cross' in p:\n",
    "        #     pos[i] = 1e-45 + 1e-45 * np.random.rand(self.nwalkers)\n",
    "        # if 'mass' in p:\n",
    "        #     pos[i] = 50 + 50 * np.random.rand(self.nwalkers)\n",
    "        # self.pos = pos.T\n",
    "        return pos.T\n",
    "\n",
    "    def set_pos(self, use_pos=None):\n",
    "        self.log['pos'] = True\n",
    "        if use_pos is not None:\n",
    "            print(\"using specified start position\")\n",
    "            self.pos = use_pos\n",
    "            return\n",
    "        nparameters = len(self.fit_parameters)\n",
    "        keys = ['mw', 'sigma', 'v_0', 'v_esc', 'rho_0'][:nparameters]\n",
    "        vals = [self.config.get(key) for key in keys]\n",
    "\n",
    "        ranges = [self.config['prior'][self.fit_parameters[i]]['range']\n",
    "                  for i in range(nparameters)]\n",
    "        for i, param in enumerate(self.fit_parameters):\n",
    "            if 'log' in param:\n",
    "                ranges[i] = [10 ** this_range for this_range in ranges[i]]\n",
    "#         pos = np.hstack([\n",
    "#             np.clip(\n",
    "#                 #                 val + 0.001 * val * np.random.randn(self.nwalkers, 1),\n",
    "#                 val + 0.25 * val * np.random.randn(self.nwalkers, 1),\n",
    "#                 #                 val + 0.5 * val * np.abs(\n",
    "#                 #                     np.random.randn(self.nwalkers, 1)),\n",
    "#                 1. * ranges[i][0],\n",
    "#                 1. * ranges[i][-1])\n",
    "#             for i, val in enumerate(vals)])\n",
    "        # Change\n",
    "        pos = []\n",
    "        for i, key in enumerate(keys):\n",
    "            val = self.config.get(key)\n",
    "            a, b = ranges[i]\n",
    "            if key in ['sigma', 'v_0', 'v_esc', 'rho_0']:\n",
    "                start_at = np.random.uniform(a, b, (self.nwalkers, 1))\n",
    "            else:\n",
    "                start_at = val + 0.25 * val * np.random.randn(self.nwalkers, 1)\n",
    "            start_at = np.clip(start_at, a, b)\n",
    "            pos.append(start_at)\n",
    "        pos = np.hstack(pos)\n",
    "        self.pos = pos\n",
    "    #         self.pos = self._set_pos()\n",
    "\n",
    "    def set_sampler(self, mult=True):\n",
    "        ndim = len(self.fit_parameters)\n",
    "        kwargs = {\"threads\": multiprocessing.cpu_count()} if mult else {}\n",
    "        self.sampler = emcee.EnsembleSampler(self.nwalkers, ndim,\n",
    "                                             self.log_probability,\n",
    "                                             args=([self.fit_parameters]),\n",
    "                                             **kwargs)\n",
    "        self.log['sampler'] = True\n",
    "\n",
    "    def run_emcee(self):\n",
    "        if not self.log['sampler']:\n",
    "            self.set_sampler()\n",
    "        if not self.log['pos']:\n",
    "            self.set_pos()\n",
    "        try:\n",
    "            self.sampler.run_mcmc(self.pos, self.nsteps, progress=True)\n",
    "        except ValueError as e:\n",
    "            print(f\"MCMC did not finish due to a ValueError. Was running with\\n\"\n",
    "                  f\"pos={self.pos.shape} nsteps = {self.nsteps}, walkers = \"\n",
    "                  f\"{self.nwalkers}, ndim = \"\n",
    "                  f\"{len(self.fit_parameters)} for fit parameters \"\n",
    "                  f\"{self.fit_parameters}\")\n",
    "            raise e\n",
    "        self.log['did_run'] = True\n",
    "\n",
    "    def show_walkers(self):\n",
    "        if not self.log['did_run']:\n",
    "            self.run_emcee()\n",
    "        labels = self.fit_parameters\n",
    "        fig, axes = plt.subplots(len(labels), figsize=(10, 7), sharex=True)\n",
    "        samples = self.sampler.get_chain()\n",
    "        for i in range(len(labels)):\n",
    "            ax = axes[i]\n",
    "            ax.plot(samples[:, :, i], \"k\", alpha=0.3)\n",
    "            ax.set_xlim(0, len(samples))\n",
    "            ax.set_ylabel(labels[i])\n",
    "            ax.yaxis.set_label_coords(-0.1, 0.5)\n",
    "        axes[-1].set_xlabel(\"step number\")\n",
    "\n",
    "    def show_corner(self):\n",
    "        if not self.log['did_run']:\n",
    "            self.run_emcee()\n",
    "        print(f\"Removing a fraction of {self.remove_frac} of the samples, total\"\n",
    "              f\"number of removed samples = {self.nsteps * self.remove_frac}\")\n",
    "        flat_samples = self.sampler.get_chain(\n",
    "            discard=int(self.nsteps * self.remove_frac),\n",
    "            thin=self.thin,\n",
    "            flat=True\n",
    "        )\n",
    "        truths = [self.config['mw'],\n",
    "                  self.config['sigma'],\n",
    "                  self.config['v_0'],\n",
    "                  self.config['v_esc'],\n",
    "                  self.config['rho_0']\n",
    "                  ]\n",
    "        corner.corner(flat_samples, labels=self.fit_parameters,\n",
    "                            truths=truths[:len(self.fit_parameters)])\n",
    "\n",
    "    def save_results(self, force_index=False):\n",
    "        if not self.log['did_run']:\n",
    "            self.run_emcee()\n",
    "        base = 'results/'\n",
    "        save = '2nd_test'\n",
    "        files = os.listdir(base)\n",
    "        files = [f for f in files if save in f]\n",
    "        if not save + '0' in files:\n",
    "            os.makedirs(base + save + '0')\n",
    "        if force_index is False:\n",
    "            index = max([int(f.split(save)[-1]) for f in files]) + 1\n",
    "        else:\n",
    "            index = force_index\n",
    "\n",
    "        save_dir = base + save + str(index) + '/'\n",
    "        print('save_results::\\tusing ' + save_dir)\n",
    "        if force_index is False:\n",
    "            os.mkdir(save_dir)\n",
    "        else:\n",
    "            assert os.path.exists(save_dir), \"specify existing directory, exit\"\n",
    "            for file in os.listdir(save_dir):\n",
    "                print('save_results::\\tremoving ' + save_dir + file)\n",
    "                os.remove(save_dir + file)\n",
    "        # save the config, chain and flattened chain\n",
    "        with open(save_dir + 'config.json', 'w') as fp:\n",
    "            json.dump(convert_dic_to_savable(self.config), fp)\n",
    "        np.save(save_dir + 'config.npy',\n",
    "                convert_dic_to_savable(self.config))\n",
    "        np.save(save_dir + 'full_chain.npy', self.sampler.get_chain())\n",
    "        np.save(save_dir + 'flat_chain.npy', self.sampler.get_chain(\n",
    "            discard=int(self.nsteps * self.remove_frac), thin=self.thin,\n",
    "            flat=True))\n",
    "        print(\"save_results::\\tdone_saving\")\n",
    "        \n",
    "    def log_probability_nestle(self, parameter_vals, parameter_names):\n",
    "        \"\"\"\n",
    "\n",
    "        :param parameter_vals: the values of the model/benchmark considered as\n",
    "        the truth\n",
    "        # :param parameter_values: the values of the parameters that are being\n",
    "        varied\n",
    "        :param parameter_names: the names of the parameter_values\n",
    "        :return:\n",
    "        \"\"\"\n",
    "               \n",
    "        model = self.eval_spectrum(parameter_vals, parameter_names)\n",
    "\n",
    "        ll = log_likelihood(model, self.benchmark_values)\n",
    "        if np.isnan(ll):\n",
    "            raise ValueError(\n",
    "                f\"Returned NaN from likelihood. ll = {ll}\")\n",
    "        return ll\n",
    "    \n",
    "    def log_prior_transform_nestle(self, x, x_name):\n",
    "        if self.config['prior'][x_name]['prior_type'] == 'flat':\n",
    "            a, b = self.config['prior'][x_name]['param']\n",
    "            if 'log' in x_name:\n",
    "#                 x = np.log10(x)\n",
    "                a = 10**a\n",
    "                b = 10**b\n",
    "#             return log_flat(a, b, x)\n",
    "            return x *(b-a) + a \n",
    "        elif self.config['prior'][x_name]['prior_type'] == 'gauss':\n",
    "            a, b = self.config['prior'][x_name]['range']\n",
    "            m, s = self.config['prior'][x_name]['param']\n",
    "            aprime, bprime = spsp.ndtr((a - m) / s), spsp.ndtr((b - m) / s)\n",
    "            xprime = x *(bprime - aprime) + aprime\n",
    "            res =  m + s * spsp.ndtri(xprime)\n",
    "#             res *= x *(b-a) + a\n",
    "            return res\n",
    "#             if  a < res < b:\n",
    "#                 return res\n",
    "#             else:\n",
    "#                 return -np.inf #(1 / (a + b)) * res * (b - a) + a\n",
    "#             return log_gauss(a, b, m, s, x)\n",
    "        else:\n",
    "            raise TypeError(\n",
    "                f\"unknown prior type '\"\n",
    "                f\"{self.config['prior'][x_name]['prior_type']}', choose either \"\n",
    "                f\"gauss or flat\")\n",
    "            \n",
    "    def _log_probability_nestle(self, theta):\n",
    "        ndim = len(self.fit_parameters)\n",
    "        return self.log_probability_nestle(theta, \n",
    "            self.known_parameters[:ndim])\n",
    "#         result = [self.log_probability_nestle(val, \n",
    "#                   self.known_parameters[i])\n",
    "#                   for i, val in enumerate(theta)]\n",
    "#         return np.array(result)\n",
    "    def _log_prior_transform_nestle(self, theta):\n",
    "        ndim = len(self.fit_parameters)\n",
    "        result = [self.log_prior_transform_nestle(val, \n",
    "            self.known_parameters[i])\n",
    "            for i, val in enumerate(theta)]\n",
    "        \n",
    "        return np.array(result)\n",
    "test = NestleStatModel(\"Xe\")"
   ]
  },
  {
   "cell_type": "code",
   "execution_count": 116,
   "metadata": {},
   "outputs": [
    {
     "name": "stdout",
     "output_type": "stream",
     "text": [
      "544\n"
     ]
    },
    {
     "data": {
      "text/plain": [
       "[<matplotlib.lines.Line2D at 0x7f049c127590>]"
      ]
     },
     "execution_count": 116,
     "metadata": {},
     "output_type": "execute_result"
    },
    {
     "data": {
      "image/png": "[encoded data removed]",
      "text/plain": [
       "<Figure size 432x288 with 1 Axes>"
      ]
     },
     "metadata": {
      "needs_background": "light"
     },
     "output_type": "display_data"
    }
   ],
   "source": [
    "# xs = np.linspace(.,1,111)\n",
    "xs = np.linspace(-0.05,1.05,200)\n",
    "name = 'v_esc'\n",
    "plt.axvline(0, c= 'orange')\n",
    "plt.axvline(1, c= 'orange')\n",
    "ys = [test.log_prior_transform_nestle(x, name) for x in xs]\n",
    "mean = get_priors()[name]['mean']\n",
    "std = get_priors()[name]['std']\n",
    "print(mean)\n",
    "a,b =  get_priors()[name]['range']\n",
    "plt.axhline(mean)\n",
    "plt.axhline(mean+std, c= 'r')\n",
    "plt.axhline(mean-std, c= 'r')\n",
    "plt.axhline(a, c= 'b')\n",
    "plt.axhline(b, c= 'b')\n",
    "plt.plot(xs,ys)"
   ]
  },
  {
   "cell_type": "code",
   "execution_count": 117,
   "metadata": {},
   "outputs": [
    {
     "name": "stdout",
     "output_type": "stream",
     "text": [
      "0 379.0\n",
      "0.5 544.0\n",
      "1 708.9999999990158\n"
     ]
    }
   ],
   "source": [
    "for i in [0, 0.5, 1]:\n",
    "    print(i, test.log_prior_transform_nestle(i, name))"
   ]
  },
  {
   "cell_type": "code",
   "execution_count": 43,
   "metadata": {},
   "outputs": [],
   "source": [
    "from scipy import special as spsp"
   ]
  },
  {
   "cell_type": "code",
   "execution_count": 44,
   "metadata": {},
   "outputs": [
    {
     "data": {
      "text/plain": [
       "['log_mass', 'log_cross_section']"
      ]
     },
     "execution_count": 44,
     "metadata": {},
     "output_type": "execute_result"
    }
   ],
   "source": [
    "test.fit_parameters"
   ]
  },
  {
   "cell_type": "code",
   "execution_count": 45,
   "metadata": {},
   "outputs": [],
   "source": [
    "sh = SHM()"
   ]
  },
  {
   "cell_type": "code",
   "execution_count": 46,
   "metadata": {},
   "outputs": [],
   "source": [
    "spec = GenSpectrum(50, 1e-45, sh, detectors[\"Xe\"])"
   ]
  },
  {
   "cell_type": "code",
   "execution_count": 52,
   "metadata": {},
   "outputs": [],
   "source": [
    "# spec.get_data(poisson=False)"
   ]
  },
  {
   "cell_type": "code",
   "execution_count": 53,
   "metadata": {},
   "outputs": [],
   "source": [
    "# test.check_spectrum()"
   ]
  },
  {
   "cell_type": "code",
   "execution_count": 66,
   "metadata": {},
   "outputs": [
    {
     "data": {
      "text/plain": [
       "<matplotlib.lines.Line2D at 0x7f049c736ed0>"
      ]
     },
     "execution_count": 66,
     "metadata": {},
     "output_type": "execute_result"
    },
    {
     "data": {
      "image/png": "[encoded data removed]",
      "text/plain": [
       "<Figure size 432x288 with 1 Axes>"
      ]
     },
     "metadata": {
      "needs_background": "light"
     },
     "output_type": "display_data"
    }
   ],
   "source": [
    "xs = np.linspace(-0.05,1.05,20)\n",
    "# def prior_transform(x):\n",
    "#     return 10. * x - 5.\n",
    "def prior_transform(x):\n",
    "    return 5 + 1 * ndtri(x)\n",
    "plt.scatter(xs, prior_transform(xs))\n",
    "plt.axvline(0)\n",
    "plt.axvline(1)"
   ]
  },
  {
   "cell_type": "code",
   "execution_count": 67,
   "metadata": {},
   "outputs": [
    {
     "data": {
      "text/plain": [
       "[<matplotlib.lines.Line2D at 0x7f049c6b6b50>]"
      ]
     },
     "execution_count": 67,
     "metadata": {},
     "output_type": "execute_result"
    },
    {
     "data": {
      "image/png": "[encoded data removed]",
      "text/plain": [
       "<Figure size 432x288 with 1 Axes>"
      ]
     },
     "metadata": {
      "needs_background": "light"
     },
     "output_type": "display_data"
    }
   ],
   "source": [
    "# xs = np.linspace(.,1,111)\n",
    "xs = np.linspace(-0.05,1.05,200)\n",
    "name = 'log_mass'\n",
    "plt.axvline(0, c= 'orange')\n",
    "plt.axvline(1, c= 'orange')\n",
    "ys = [test.log_prior_transform_nestle(x, name) for x in xs]\n",
    "a,b =  get_priors()[name]['range']\n",
    "plt.axhline(10**a, c= 'b')\n",
    "plt.axhline(10**b, c= 'b')\n",
    "plt.plot(xs,ys)"
   ]
  },
  {
   "cell_type": "code",
   "execution_count": 72,
   "metadata": {},
   "outputs": [
    {
     "data": {
      "text/plain": [
       "1000.0"
      ]
     },
     "execution_count": 72,
     "metadata": {},
     "output_type": "execute_result"
    }
   ],
   "source": [
    "test.log_prior_transform_nestle(1, name)"
   ]
  },
  {
   "cell_type": "code",
   "execution_count": 31,
   "metadata": {},
   "outputs": [
    {
     "name": "stderr",
     "output_type": "stream",
     "text": [
      "/data/xenon/joranang/software/DD_DM_targets/DirectDmTargets/statistics.py:166: RuntimeWarning: overflow encountered in double_scalars\n",
      "  10 ** x0,\n"
     ]
    },
    {
     "ename": "AssertionError",
     "evalue": "err",
     "output_type": "error",
     "traceback": [
      "\u001b[0;31m---------------------------------------------------------------------------\u001b[0m",
      "\u001b[0;31mAssertionError\u001b[0m                            Traceback (most recent call last)",
      "\u001b[0;32m<ipython-input-31-aae0083b2a1c>\u001b[0m in \u001b[0;36m<module>\u001b[0;34m\u001b[0m\n\u001b[1;32m     10\u001b[0m                     \u001b[0mmethod\u001b[0m\u001b[0;34m=\u001b[0m\u001b[0mmethod\u001b[0m\u001b[0;34m,\u001b[0m\u001b[0;34m\u001b[0m\u001b[0;34m\u001b[0m\u001b[0m\n\u001b[1;32m     11\u001b[0m                     \u001b[0mnpoints\u001b[0m\u001b[0;34m=\u001b[0m\u001b[0mnlive\u001b[0m\u001b[0;34m,\u001b[0m\u001b[0;34m\u001b[0m\u001b[0;34m\u001b[0m\u001b[0m\n\u001b[0;32m---> 12\u001b[0;31m                     dlogz=tol)\n\u001b[0m\u001b[1;32m     13\u001b[0m \u001b[0mt1\u001b[0m \u001b[0;34m=\u001b[0m \u001b[0mtime\u001b[0m\u001b[0;34m.\u001b[0m\u001b[0mtime\u001b[0m\u001b[0;34m(\u001b[0m\u001b[0;34m)\u001b[0m\u001b[0;34m\u001b[0m\u001b[0;34m\u001b[0m\u001b[0m\n\u001b[1;32m     14\u001b[0m \u001b[0;34m\u001b[0m\u001b[0m\n",
      "\u001b[0;32m/data/xenon/joranang/anaconda/envs/dddm/lib/python3.7/site-packages/nestle.py\u001b[0m in \u001b[0;36msample\u001b[0;34m(loglikelihood, prior_transform, ndim, npoints, method, update_interval, npdim, maxiter, maxcall, dlogz, decline_factor, rstate, callback, **options)\u001b[0m\n\u001b[1;32m    863\u001b[0m     \u001b[0;32mfor\u001b[0m \u001b[0mi\u001b[0m \u001b[0;32min\u001b[0m \u001b[0mrange\u001b[0m\u001b[0;34m(\u001b[0m\u001b[0mnpoints\u001b[0m\u001b[0;34m)\u001b[0m\u001b[0;34m:\u001b[0m\u001b[0;34m\u001b[0m\u001b[0;34m\u001b[0m\u001b[0m\n\u001b[1;32m    864\u001b[0m         \u001b[0mactive_v\u001b[0m\u001b[0;34m[\u001b[0m\u001b[0mi\u001b[0m\u001b[0;34m,\u001b[0m \u001b[0;34m:\u001b[0m\u001b[0;34m]\u001b[0m \u001b[0;34m=\u001b[0m \u001b[0mprior_transform\u001b[0m\u001b[0;34m(\u001b[0m\u001b[0mactive_u\u001b[0m\u001b[0;34m[\u001b[0m\u001b[0mi\u001b[0m\u001b[0;34m,\u001b[0m \u001b[0;34m:\u001b[0m\u001b[0;34m]\u001b[0m\u001b[0;34m)\u001b[0m\u001b[0;34m\u001b[0m\u001b[0;34m\u001b[0m\u001b[0m\n\u001b[0;32m--> 865\u001b[0;31m         \u001b[0mactive_logl\u001b[0m\u001b[0;34m[\u001b[0m\u001b[0mi\u001b[0m\u001b[0;34m]\u001b[0m \u001b[0;34m=\u001b[0m \u001b[0mloglikelihood\u001b[0m\u001b[0;34m(\u001b[0m\u001b[0mactive_v\u001b[0m\u001b[0;34m[\u001b[0m\u001b[0mi\u001b[0m\u001b[0;34m,\u001b[0m \u001b[0;34m:\u001b[0m\u001b[0;34m]\u001b[0m\u001b[0;34m)\u001b[0m\u001b[0;34m\u001b[0m\u001b[0;34m\u001b[0m\u001b[0m\n\u001b[0m\u001b[1;32m    866\u001b[0m \u001b[0;34m\u001b[0m\u001b[0m\n\u001b[1;32m    867\u001b[0m     sampler = _SAMPLERS[method](loglikelihood, prior_transform, active_u,\n",
      "\u001b[0;32m<ipython-input-19-dff4f9298842>\u001b[0m in \u001b[0;36m_log_probability_nestle\u001b[0;34m(self, theta)\u001b[0m\n\u001b[1;32m    235\u001b[0m         \u001b[0mndim\u001b[0m \u001b[0;34m=\u001b[0m \u001b[0mlen\u001b[0m\u001b[0;34m(\u001b[0m\u001b[0mself\u001b[0m\u001b[0;34m.\u001b[0m\u001b[0mfit_parameters\u001b[0m\u001b[0;34m)\u001b[0m\u001b[0;34m\u001b[0m\u001b[0;34m\u001b[0m\u001b[0m\n\u001b[1;32m    236\u001b[0m         return self.log_probability_nestle(theta, \n\u001b[0;32m--> 237\u001b[0;31m             self.known_parameters[:ndim])\n\u001b[0m\u001b[1;32m    238\u001b[0m \u001b[0;31m#         result = [self.log_probability_nestle(val,\u001b[0m\u001b[0;34m\u001b[0m\u001b[0;34m\u001b[0m\u001b[0;34m\u001b[0m\u001b[0m\n\u001b[1;32m    239\u001b[0m \u001b[0;31m#                   self.known_parameters[i])\u001b[0m\u001b[0;34m\u001b[0m\u001b[0;34m\u001b[0m\u001b[0;34m\u001b[0m\u001b[0m\n",
      "\u001b[0;32m<ipython-input-19-dff4f9298842>\u001b[0m in \u001b[0;36mlog_probability_nestle\u001b[0;34m(self, parameter_vals, parameter_names)\u001b[0m\n\u001b[1;32m    200\u001b[0m         \"\"\"\n\u001b[1;32m    201\u001b[0m \u001b[0;34m\u001b[0m\u001b[0m\n\u001b[0;32m--> 202\u001b[0;31m         \u001b[0mmodel\u001b[0m \u001b[0;34m=\u001b[0m \u001b[0mself\u001b[0m\u001b[0;34m.\u001b[0m\u001b[0meval_spectrum\u001b[0m\u001b[0;34m(\u001b[0m\u001b[0mparameter_vals\u001b[0m\u001b[0;34m,\u001b[0m \u001b[0mparameter_names\u001b[0m\u001b[0;34m)\u001b[0m\u001b[0;34m\u001b[0m\u001b[0;34m\u001b[0m\u001b[0m\n\u001b[0m\u001b[1;32m    203\u001b[0m \u001b[0;34m\u001b[0m\u001b[0m\n\u001b[1;32m    204\u001b[0m         \u001b[0mll\u001b[0m \u001b[0;34m=\u001b[0m \u001b[0mlog_likelihood\u001b[0m\u001b[0;34m(\u001b[0m\u001b[0mmodel\u001b[0m\u001b[0;34m,\u001b[0m \u001b[0mself\u001b[0m\u001b[0;34m.\u001b[0m\u001b[0mbenchmark_values\u001b[0m\u001b[0;34m)\u001b[0m\u001b[0;34m\u001b[0m\u001b[0;34m\u001b[0m\u001b[0m\n",
      "\u001b[0;32m/data/xenon/joranang/software/DD_DM_targets/DirectDmTargets/statistics.py\u001b[0m in \u001b[0;36meval_spectrum\u001b[0;34m(self, values, x_names)\u001b[0m\n\u001b[1;32m    166\u001b[0m                 \u001b[0;36m10\u001b[0m \u001b[0;34m**\u001b[0m \u001b[0mx0\u001b[0m\u001b[0;34m,\u001b[0m\u001b[0;34m\u001b[0m\u001b[0;34m\u001b[0m\u001b[0m\n\u001b[1;32m    167\u001b[0m                 \u001b[0;36m10\u001b[0m \u001b[0;34m**\u001b[0m \u001b[0mx1\u001b[0m\u001b[0;34m,\u001b[0m\u001b[0;34m\u001b[0m\u001b[0;34m\u001b[0m\u001b[0m\n\u001b[0;32m--> 168\u001b[0;31m                 self.config['halo_model'], self.config['det_params'])\n\u001b[0m\u001b[1;32m    169\u001b[0m             \u001b[0;32mreturn\u001b[0m \u001b[0mspectrum\u001b[0m\u001b[0;34m.\u001b[0m\u001b[0mget_data\u001b[0m\u001b[0;34m(\u001b[0m\u001b[0mpoisson\u001b[0m\u001b[0;34m=\u001b[0m\u001b[0;32mFalse\u001b[0m\u001b[0;34m)\u001b[0m\u001b[0;34m\u001b[0m\u001b[0;34m\u001b[0m\u001b[0m\n\u001b[1;32m    170\u001b[0m         \u001b[0;32melif\u001b[0m \u001b[0mlen\u001b[0m\u001b[0;34m(\u001b[0m\u001b[0mx_names\u001b[0m\u001b[0;34m)\u001b[0m \u001b[0;34m==\u001b[0m \u001b[0;36m5\u001b[0m \u001b[0;32mor\u001b[0m \u001b[0mlen\u001b[0m\u001b[0;34m(\u001b[0m\u001b[0mx_names\u001b[0m\u001b[0;34m)\u001b[0m \u001b[0;34m==\u001b[0m \u001b[0;36m6\u001b[0m\u001b[0;34m:\u001b[0m\u001b[0;34m\u001b[0m\u001b[0;34m\u001b[0m\u001b[0m\n",
      "\u001b[0;32m/data/xenon/joranang/software/DD_DM_targets/DirectDmTargets/detector.py\u001b[0m in \u001b[0;36m__init__\u001b[0;34m(self, *args)\u001b[0m\n\u001b[1;32m     68\u001b[0m \u001b[0;34m\u001b[0m\u001b[0m\n\u001b[1;32m     69\u001b[0m     \u001b[0;32mdef\u001b[0m \u001b[0m__init__\u001b[0m\u001b[0;34m(\u001b[0m\u001b[0mself\u001b[0m\u001b[0;34m,\u001b[0m \u001b[0;34m*\u001b[0m\u001b[0margs\u001b[0m\u001b[0;34m)\u001b[0m\u001b[0;34m:\u001b[0m\u001b[0;34m\u001b[0m\u001b[0;34m\u001b[0m\u001b[0m\n\u001b[0;32m---> 70\u001b[0;31m         \u001b[0mGenSpectrum\u001b[0m\u001b[0;34m.\u001b[0m\u001b[0m__init__\u001b[0m\u001b[0;34m(\u001b[0m\u001b[0mself\u001b[0m\u001b[0;34m,\u001b[0m \u001b[0;34m*\u001b[0m\u001b[0margs\u001b[0m\u001b[0;34m)\u001b[0m\u001b[0;34m\u001b[0m\u001b[0;34m\u001b[0m\u001b[0m\n\u001b[0m\u001b[1;32m     71\u001b[0m         \u001b[0mself\u001b[0m\u001b[0;34m.\u001b[0m\u001b[0mrebin_factor\u001b[0m \u001b[0;34m=\u001b[0m \u001b[0;36m10\u001b[0m\u001b[0;34m\u001b[0m\u001b[0;34m\u001b[0m\u001b[0m\n\u001b[1;32m     72\u001b[0m \u001b[0;34m\u001b[0m\u001b[0m\n",
      "\u001b[0;32m/data/xenon/joranang/software/DD_DM_targets/DirectDmTargets/halo.py\u001b[0m in \u001b[0;36m__init__\u001b[0;34m(self, mw, sig, model, det)\u001b[0m\n\u001b[1;32m     45\u001b[0m         \u001b[0mself\u001b[0m\u001b[0;34m.\u001b[0m\u001b[0mE_min\u001b[0m \u001b[0;34m=\u001b[0m \u001b[0;36m0\u001b[0m\u001b[0;34m\u001b[0m\u001b[0;34m\u001b[0m\u001b[0m\n\u001b[1;32m     46\u001b[0m         \u001b[0mself\u001b[0m\u001b[0;34m.\u001b[0m\u001b[0mE_max\u001b[0m \u001b[0;34m=\u001b[0m \u001b[0;36m100\u001b[0m\u001b[0;34m\u001b[0m\u001b[0;34m\u001b[0m\u001b[0m\n\u001b[0;32m---> 47\u001b[0;31m         \u001b[0;32massert\u001b[0m \u001b[0;36m1\u001b[0m \u001b[0;34m<\u001b[0m \u001b[0mmw\u001b[0m \u001b[0;34m<\u001b[0m \u001b[0;36m1000\u001b[0m\u001b[0;34m,\u001b[0m \u001b[0;34m\"err\"\u001b[0m\u001b[0;34m\u001b[0m\u001b[0;34m\u001b[0m\u001b[0m\n\u001b[0m\u001b[1;32m     48\u001b[0m         \u001b[0;32massert\u001b[0m \u001b[0;36m1e-46\u001b[0m \u001b[0;34m<\u001b[0m \u001b[0msig\u001b[0m \u001b[0;34m<\u001b[0m \u001b[0;36m1e-42\u001b[0m\u001b[0;34m,\u001b[0m \u001b[0;34m\"err\"\u001b[0m\u001b[0;34m\u001b[0m\u001b[0;34m\u001b[0m\u001b[0m\n\u001b[1;32m     49\u001b[0m \u001b[0;34m\u001b[0m\u001b[0m\n",
      "\u001b[0;31mAssertionError\u001b[0m: err"
     ]
    }
   ],
   "source": [
    "nlive = 1024     # number of live points\n",
    "method = 'multi' # use MutliNest algorithm\n",
    "ndims = 2        # two parameters\n",
    "tol = 0.5        # the stopping criterion\n",
    "\n",
    "t0 = time.time()\n",
    "res2 = nestle.sample(test._log_probability_nestle, \n",
    "                    test._log_prior_transform_nestle, \n",
    "                    ndims, \n",
    "                    method=method, \n",
    "                    npoints=nlive, \n",
    "                    dlogz=tol)\n",
    "t1 = time.time()\n",
    "\n",
    "timenestle = (t1-t0)\n",
    "\n",
    "print(\"Time taken to run 'Nestle' is {} seconds\".format(timenestle))"
   ]
  },
  {
   "cell_type": "code",
   "execution_count": null,
   "metadata": {},
   "outputs": [],
   "source": [
    "nlive = 10       # number of live points\n",
    "method = 'multi' # use MutliNest algorithm\n",
    "ndims = 2        # two parameters\n",
    "tol = 0.1        # the stopping criterion\n",
    "\n",
    "t0 = time.time()\n",
    "res = nestle.sample(test._log_probability_nestle, \n",
    "                    test._log_prior_transform_nestle, \n",
    "                    ndims, \n",
    "                    method=method, \n",
    "                    npoints=nlive, \n",
    "                    dlogz=tol,\n",
    "                    maxiter =50)\n",
    "t1 = time.time()\n",
    "\n",
    "timenestle = (t1-t0)\n",
    "\n",
    "print(\"Time taken to run 'Nestle' is {} seconds\".format(timenestle))"
   ]
  },
  {
   "cell_type": "code",
   "execution_count": null,
   "metadata": {},
   "outputs": [],
   "source": [
    "logZnestle = res.logz                         # value of logZ\n",
    "infogainnestle = res.h                        # value of the information gain in nats\n",
    "logZerrnestle = np.sqrt(infogainnestle/nlive) # estimate of the statistcal uncertainty on logZ\n",
    "\n",
    "print('log(Z) = {} \\u00B1 {}'.format(logZnestle, logZerrnestle))\n",
    "print(res.summary())\n",
    "\n",
    "# re-scale weights to have a maximum of one\n",
    "nweights = res.weights/np.max(res.weights)\n",
    "\n",
    "# get the probability of keeping a sample from the weights\n",
    "keepidx = np.where(np.random.rand(len(nweights)) < nweights)[0]\n",
    "\n",
    "# get the posterior samples\n",
    "samples_nestle = res.samples[keepidx,:]\n",
    "resdict ={}\n",
    "resdict['mnestle_mu'] = np.mean(samples_nestle[:,0])      # mean of m samples\n",
    "resdict['mnestle_sig'] = np.std(samples_nestle[:,0])      # standard deviation of m samples\n",
    "resdict['cnestle_mu'] = np.mean(samples_nestle[:,1])      # mean of c samples\n",
    "resdict['cnestle_sig'] = np.std(samples_nestle[:,1])      # standard deviation of c samples\n",
    "resdict['ccnestle'] = np.corrcoef(samples_nestle.T)[0,1]  # correlation coefficient between parameters\n",
    "resdict['nestle_npos'] = len(samples_nestle)              # number of posterior samples\n",
    "resdict['nestle_time'] = timenestle                       # run time\n",
    "resdict['nestle_logZ'] = logZnestle                       # log marginalised likelihood\n",
    "resdict['nestle_logZerr'] = logZerrnestle                 # uncertainty on log(Z)\n",
    "\n",
    "print('Number of posterior samples is {}'.format(len(samples_nestle)))"
   ]
  },
  {
   "cell_type": "code",
   "execution_count": null,
   "metadata": {},
   "outputs": [],
   "source": [
    "p, cov = nestle.mean_and_cov(res.samples, res.weights)\n",
    "print(\"m = {0:5.2f} +/- {1:5.2f}\".format(p[0], np.sqrt(cov[0, 0])))\n",
    "print(\"b = {0:5.2f} +/- {1:5.2f}\".format(p[1], np.sqrt(cov[1, 1])))"
   ]
  },
  {
   "cell_type": "code",
   "execution_count": null,
   "metadata": {},
   "outputs": [],
   "source": [
    "fig = corner.corner(res.samples, weights=res.weights, labels=['m', 'b'],\n",
    "                    range=[0.99999, 0.99999], truths=[50, 1e-45], bins=30)\n",
    "plt.show()"
   ]
  },
  {
   "cell_type": "code",
   "execution_count": null,
   "metadata": {},
   "outputs": [],
   "source": [
    "stats.check_spectrum()"
   ]
  },
  {
   "cell_type": "code",
   "execution_count": null,
   "metadata": {},
   "outputs": [],
   "source": [
    "stats.nwalkers = 50\n",
    "stats.nsteps = 50\n",
    "stats.log"
   ]
  },
  {
   "cell_type": "code",
   "execution_count": null,
   "metadata": {},
   "outputs": [],
   "source": [
    "start = time.time()\n",
    "stats.run_emcee()\n",
    "end = time.time()"
   ]
  },
  {
   "cell_type": "code",
   "execution_count": null,
   "metadata": {},
   "outputs": [],
   "source": [
    "end-start"
   ]
  },
  {
   "cell_type": "code",
   "execution_count": null,
   "metadata": {},
   "outputs": [],
   "source": [
    "stats.save_results()"
   ]
  },
  {
   "cell_type": "code",
   "execution_count": null,
   "metadata": {},
   "outputs": [],
   "source": [
    "7028/3600"
   ]
  },
  {
   "cell_type": "code",
   "execution_count": null,
   "metadata": {},
   "outputs": [],
   "source": [
    "assert stats.log['did_run']"
   ]
  },
  {
   "cell_type": "code",
   "execution_count": null,
   "metadata": {},
   "outputs": [],
   "source": [
    "stats.show_walkers()"
   ]
  },
  {
   "cell_type": "code",
   "execution_count": null,
   "metadata": {},
   "outputs": [],
   "source": [
    "stats.show_corner()"
   ]
  },
  {
   "cell_type": "markdown",
   "metadata": {},
   "source": [
    "## Full dimensionality ##"
   ]
  },
  {
   "cell_type": "code",
   "execution_count": null,
   "metadata": {},
   "outputs": [],
   "source": [
    "stats_full = dddm.MCMCStatModel(\"Xe\")"
   ]
  },
  {
   "cell_type": "code",
   "execution_count": null,
   "metadata": {},
   "outputs": [],
   "source": [
    "stats_full.log"
   ]
  },
  {
   "cell_type": "code",
   "execution_count": null,
   "metadata": {},
   "outputs": [],
   "source": [
    "# for key in stats_full.log.keys():\n",
    "#     stats_full.log[key] = False\n"
   ]
  },
  {
   "cell_type": "code",
   "execution_count": null,
   "metadata": {},
   "outputs": [],
   "source": [
    "stats_full.nwalkers = stats.nwalkers\n",
    "stats_full.nsteps = stats.nsteps * 2\n",
    "stats_full.log"
   ]
  },
  {
   "cell_type": "code",
   "execution_count": null,
   "metadata": {},
   "outputs": [],
   "source": [
    "stats_full.fit_parameters = stats_full.known_parameters"
   ]
  },
  {
   "cell_type": "code",
   "execution_count": null,
   "metadata": {},
   "outputs": [],
   "source": [
    "stats_full.check_spectrum()"
   ]
  },
  {
   "cell_type": "code",
   "execution_count": null,
   "metadata": {},
   "outputs": [],
   "source": [
    "start = time.time()\n",
    "stats_full.run_emcee()\n",
    "end = time.time()"
   ]
  },
  {
   "cell_type": "code",
   "execution_count": null,
   "metadata": {},
   "outputs": [],
   "source": [
    "end-start"
   ]
  },
  {
   "cell_type": "code",
   "execution_count": null,
   "metadata": {},
   "outputs": [],
   "source": [
    "stats_full.save_results()"
   ]
  },
  {
   "cell_type": "code",
   "execution_count": null,
   "metadata": {},
   "outputs": [],
   "source": [
    "9170.64813709259/3600"
   ]
  },
  {
   "cell_type": "code",
   "execution_count": null,
   "metadata": {},
   "outputs": [],
   "source": [
    "assert stats_full.log['did_run']"
   ]
  },
  {
   "cell_type": "code",
   "execution_count": null,
   "metadata": {},
   "outputs": [],
   "source": [
    "stats_full.show_walkers()"
   ]
  },
  {
   "cell_type": "code",
   "execution_count": null,
   "metadata": {},
   "outputs": [],
   "source": [
    "stats_full.show_corner()"
   ]
  },
  {
   "cell_type": "code",
   "execution_count": null,
   "metadata": {},
   "outputs": [],
   "source": [
    "corner.corner(\n",
    "    stats_full.sampler.get_chain(\n",
    "        flat=True,\n",
    "        thin = 50,\n",
    "        discard=int(stats_full.nsteps * 0.2)\n",
    "    ),\n",
    "              labels=stats_full.fit_parameters);"
   ]
  }
 ],
 "metadata": {
  "kernelspec": {
   "display_name": "Python 3",
   "language": "python",
   "name": "python3"
  },
  "language_info": {
   "codemirror_mode": {
    "name": "ipython",
    "version": 3
   },
   "file_extension": ".py",
   "mimetype": "text/x-python",
   "name": "python",
   "nbconvert_exporter": "python",
   "pygments_lexer": "ipython3",
   "version": "3.7.4"
  }
 },
 "nbformat": 4,
 "nbformat_minor": 2
}
