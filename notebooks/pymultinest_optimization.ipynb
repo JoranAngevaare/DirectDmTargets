{
 "cells": [
  {
   "cell_type": "code",
   "execution_count": 1,
   "metadata": {},
   "outputs": [
    {
     "name": "stdout",
     "output_type": "stream",
     "text": [
      "Start import\n",
      "Host: DESKTOP-EC5OUSI.localdomain\n",
      "calculating effective efficiency for Xe detector done\n",
      "calculating effective efficiency for Ge detector done\n",
      "calculating effective efficiency for Ar detector done\n",
      "calculating effective efficiency for Xe_migd detector done\n",
      "calculating effective efficiency for Ge_migd detector done\n",
      "calculating effective efficiency for Ar_migd detector done\n",
      "nestle.py::\n",
      "DEPRICATED\n",
      "use NestedSamplerStatModel with self.sampler = nestle instead\n",
      "Done import\n",
      "SYSTEM\n",
      "\tRunning on linux\n",
      "\tPython version 3.7.4 (default, Aug 13 2019, 20:35:49) [GCC 7.3.0]\n",
      "\tPython installation /home/joran/.conda/envs/DD_DM/bin/python\n",
      "MODULES\n",
      "\tDirectDmTargets\n",
      "\t\tver.:\t0.2.0\n",
      "\t\tPath:\t/mnt/c/Users/Joran/Google Drive/PhD-master/ubuntu-storage/windows-anaconda/DD_DM_targets/DirectDmTargets/\n",
      "\n",
      "\twimprates\n",
      "\t\tver.:\t0.3.2\n",
      "\t\tPath:\t/mnt/c/Users/Joran/Google Drive/PhD-master/ubuntu-storage/windows-anaconda/forked_wimprates/wimprates/\n",
      "\n"
     ]
    }
   ],
   "source": [
    "%run common_init.py"
   ]
  },
  {
   "cell_type": "markdown",
   "metadata": {},
   "source": [
    "# Direct detection of Dark matter using different target materials #\n",
    "\n",
    "Author:\n",
    "\n",
    "Joran Angevaare <j.angevaare@nikef.nl>\n",
    "\n",
    "Date:\n",
    "\n",
    "14 october 2019 \n",
    "\n",
    "## Goal ## \n",
    "\n",
    "- Roughly reproduce <https://journals.aps.org/prd/abstract/10.1103/PhysRevD.83.083505>\n",
    "- Update the results thereof with more recent knowledge of the DM-distribution\n",
    "\n",
    "### Approach ###\n",
    "To achieve these goals, we must first get a decent recoil spectrum, that is flexible enough to have different astrophysical parameters. Further, it must also be flexible enough to be able to allow for different analytic functions to be added to the model. For instance, we must be able to incorporate the $\\rm{SHM}^{++}$ as presented here <https://arxiv.org/abs/1810.11468>.\n",
    "\n",
    "When we have a sufficiently flexible model, we want to add in the detector physics, we should therein incorporate at least the following parameters:\n",
    "- target\n",
    "  - material\n",
    "  - cross-section\n",
    "- threshold\n",
    "- background\n",
    "- cut efficiency  \n",
    "- volume\n",
    "- exposure\n",
    "\n",
    "Finally we should perform the inference"
   ]
  },
  {
   "cell_type": "code",
   "execution_count": 2,
   "metadata": {},
   "outputs": [],
   "source": [
    "import nestle"
   ]
  },
  {
   "cell_type": "markdown",
   "metadata": {},
   "source": [
    "# Emcee #\n",
    "<https://emcee.readthedocs.io/en/stable/tutorials/quickstart/>"
   ]
  },
  {
   "cell_type": "code",
   "execution_count": 3,
   "metadata": {},
   "outputs": [
    {
     "data": {
      "image/png": "[encoded data removed]",
      "text/plain": [
       "<Figure size 648x432 with 1 Axes>"
      ]
     },
     "metadata": {
      "needs_background": "light"
     },
     "output_type": "display_data"
    }
   ],
   "source": [
    "from scipy.special import ndtri\n",
    "\n",
    "def prior_transform(theta):\n",
    "    \"\"\"\n",
    "    https://mattpitkin.github.io/samplers-demo/pages/samplers-samplers-everywhere/#Nested-Sampling\n",
    "    A function defining the tranform between the parameterisation in the unit hypercube\n",
    "    to the true parameters.\n",
    "\n",
    "    Args:\n",
    "        theta (tuple): a tuple containing the parameters.\n",
    "        \n",
    "    Returns:\n",
    "        tuple: a new tuple or array with the transformed parameters.\n",
    "    \"\"\"\n",
    "\n",
    "    mprime, cprime = theta # unpack the parameters (in their unit hypercube form)\n",
    "\n",
    "    cmin = -10.  # lower bound on uniform prior on c\n",
    "    cmax = 10.   # upper bound on uniform prior on c\n",
    "\n",
    "    mmu = 0.     # mean of Gaussian prior on m\n",
    "    msigma = 10. # standard deviation of Gaussian prior on m\n",
    "\n",
    "    m = mmu + msigma*ndtri(mprime) # convert back to m\n",
    "    c = cprime*(cmax-cmin) + cmin  # convert back to c\n",
    "\n",
    "    return (m, c)\n",
    "\n",
    "# set the natural logarithm of 2pi, so that it doesn't have to be recalculated\n",
    "LN2PI = np.log(2.*np.pi)\n",
    "LNSIGMA = np.log(0.5) # natural log of the data noise standard deviation\n",
    "M = 100\n",
    "\n",
    "# set the true values of the model parameters for creating the data\n",
    "m = 3.5 # gradient of the line\n",
    "c = 1.2 # y-intercept of the line\n",
    "\n",
    "# set the \"predictor variable\"/abscissa\n",
    "M = 100\n",
    "xmin = 0.\n",
    "xmax = 10.\n",
    "stepsize = (xmax-xmin)/M\n",
    "x = np.arange(xmin, xmax, stepsize)\n",
    "\n",
    "# define the model function\n",
    "def straight_line(x, m, c):\n",
    "    \"\"\"\n",
    "    A straight line model: y = m*x + c\n",
    "    \n",
    "    Args:\n",
    "        x (list): a set of abscissa points at which the model is defined\n",
    "        m (float): the gradient of the line\n",
    "        c (float): the y-intercept of the line\n",
    "    \"\"\"\n",
    "\n",
    "    return m*x + c\n",
    "\n",
    "# seed our random number generator, so we have reproducible data\n",
    "np.random.seed(sum([ord(v) for v in 'samplers']))\n",
    "\n",
    "# create the data - the model plus Gaussian noise\n",
    "sigma = 0.5 # standard deviation of the noise\n",
    "data = straight_line(x, m, c) + sigma*np.random.randn(M)\n",
    "\n",
    "# plot the data\n",
    "# mpl.rcParams.update(rcparams) # update plot parameters\n",
    "fig, ax = plt.subplots(figsize=(9,6))\n",
    "ax.plot(x, data, 'bo', alpha=0.5, label='data')\n",
    "ax.plot(x, straight_line(x, m, c), 'r-', lw=2, label='model')\n",
    "ax.legend()\n",
    "ax.set_xlim([xmin, xmax])\n",
    "ax.set_xlabel(r'$x$');\n",
    "\n",
    "def loglikelihood_nestle(theta):\n",
    "    \"\"\"\n",
    "    The log-likelihood function.\n",
    "    \"\"\"\n",
    "\n",
    "    m, c = theta # unpack the parameters\n",
    "\n",
    "    # normalisation\n",
    "    norm = -0.5*M*LN2PI - M*LNSIGMA\n",
    "\n",
    "    # chi-squared (data, sigma and x are global variables defined early on in this notebook)\n",
    "    chisq = np.sum(((data-straight_line(x, m, c))/sigma)**2)\n",
    "\n",
    "    return norm - 0.5*chisq"
   ]
  },
  {
   "cell_type": "code",
   "execution_count": 4,
   "metadata": {},
   "outputs": [
    {
     "name": "stdout",
     "output_type": "stream",
     "text": [
      "Time taken to run 'Nestle' is 4.414428234100342 seconds\n"
     ]
    }
   ],
   "source": [
    "nlive = 1024     # number of live points\n",
    "method = 'multi' # use MutliNest algorithm\n",
    "ndims = 2        # two parameters\n",
    "tol = 0.1        # the stopping criterion\n",
    "\n",
    "t0 = time.time()\n",
    "res = nestle.sample(loglikelihood_nestle, \n",
    "                    prior_transform, ndims, \n",
    "                    method=method, npoints=nlive, dlogz=tol)\n",
    "t1 = time.time()\n",
    "\n",
    "timenestle = (t1-t0)\n",
    "\n",
    "print(\"Time taken to run 'Nestle' is {} seconds\".format(timenestle))"
   ]
  },
  {
   "cell_type": "code",
   "execution_count": 5,
   "metadata": {},
   "outputs": [
    {
     "name": "stdout",
     "output_type": "stream",
     "text": [
      "log(Z) = -87.7909519644676 ± 0.1011124677107491\n",
      "niter: 14157\n",
      "ncall: 22994\n",
      "nsamples: 15181\n",
      "logz: -87.791 +/-  0.101\n",
      "h: 10.469\n",
      "Number of posterior samples is 2765\n"
     ]
    }
   ],
   "source": [
    "logZnestle = res.logz                         # value of logZ\n",
    "infogainnestle = res.h                        # value of the information gain in nats\n",
    "logZerrnestle = np.sqrt(infogainnestle/nlive) # estimate of the statistcal uncertainty on logZ\n",
    "\n",
    "print('log(Z) = {} \\u00B1 {}'.format(logZnestle, logZerrnestle))\n",
    "print(res.summary())\n",
    "\n",
    "# re-scale weights to have a maximum of one\n",
    "nweights = res.weights/np.max(res.weights)\n",
    "\n",
    "# get the probability of keeping a sample from the weights\n",
    "keepidx = np.where(np.random.rand(len(nweights)) < nweights)[0]\n",
    "\n",
    "# get the posterior samples\n",
    "samples_nestle = res.samples[keepidx,:]\n",
    "resdict ={}\n",
    "resdict['mnestle_mu'] = np.mean(samples_nestle[:,0])      # mean of m samples\n",
    "resdict['mnestle_sig'] = np.std(samples_nestle[:,0])      # standard deviation of m samples\n",
    "resdict['cnestle_mu'] = np.mean(samples_nestle[:,1])      # mean of c samples\n",
    "resdict['cnestle_sig'] = np.std(samples_nestle[:,1])      # standard deviation of c samples\n",
    "resdict['ccnestle'] = np.corrcoef(samples_nestle.T)[0,1]  # correlation coefficient between parameters\n",
    "resdict['nestle_npos'] = len(samples_nestle)              # number of posterior samples\n",
    "resdict['nestle_time'] = timenestle                       # run time\n",
    "resdict['nestle_logZ'] = logZnestle                       # log marginalised likelihood\n",
    "resdict['nestle_logZerr'] = logZerrnestle                 # uncertainty on log(Z)\n",
    "\n",
    "print('Number of posterior samples is {}'.format(len(samples_nestle)))"
   ]
  },
  {
   "cell_type": "code",
   "execution_count": 6,
   "metadata": {},
   "outputs": [
    {
     "name": "stdout",
     "output_type": "stream",
     "text": [
      "niter: 14157\n",
      "ncall: 22994\n",
      "nsamples: 15181\n",
      "logz: -87.791 +/-  0.101\n",
      "h: 10.469\n"
     ]
    }
   ],
   "source": [
    "print(res.summary())"
   ]
  },
  {
   "cell_type": "code",
   "execution_count": 7,
   "metadata": {},
   "outputs": [
    {
     "name": "stdout",
     "output_type": "stream",
     "text": [
      "Number of posterior samples is 2811\n"
     ]
    }
   ],
   "source": [
    "# re-scale weights to have a maximum of one\n",
    "nweights = res.weights/np.max(res.weights)\n",
    "\n",
    "# get the probability of keeping a sample from the weights\n",
    "keepidx = np.where(np.random.rand(len(nweights)) < nweights)[0]\n",
    "\n",
    "# get the posterior samples\n",
    "samples_nestle = res.samples[keepidx,:]\n",
    "resdict ={}\n",
    "resdict['mnestle_mu'] = np.mean(samples_nestle[:,0])      # mean of m samples\n",
    "resdict['mnestle_sig'] = np.std(samples_nestle[:,0])      # standard deviation of m samples\n",
    "resdict['cnestle_mu'] = np.mean(samples_nestle[:,1])      # mean of c samples\n",
    "resdict['cnestle_sig'] = np.std(samples_nestle[:,1])      # standard deviation of c samples\n",
    "resdict['ccnestle'] = np.corrcoef(samples_nestle.T)[0,1]  # correlation coefficient between parameters\n",
    "resdict['nestle_npos'] = len(samples_nestle)              # number of posterior samples\n",
    "resdict['nestle_time'] = timenestle                       # run time\n",
    "resdict['nestle_logZ'] = logZnestle                       # log marginalised likelihood\n",
    "resdict['nestle_logZerr'] = logZerrnestle                 # uncertainty on log(Z)\n",
    "\n",
    "print('Number of posterior samples is {}'.format(len(samples_nestle)))"
   ]
  },
  {
   "cell_type": "code",
   "execution_count": 8,
   "metadata": {},
   "outputs": [
    {
     "data": {
      "image/png": "[encoded data removed]",
      "text/plain": [
       "<Figure size 396x396 with 4 Axes>"
      ]
     },
     "metadata": {
      "needs_background": "light"
     },
     "output_type": "display_data"
    }
   ],
   "source": [
    "from scipy.stats import gaussian_kde\n",
    "import corner\n",
    "def plotposts(samples, **kwargs):\n",
    "    \"\"\"\n",
    "    Function to plot posteriors using corner.py and scipy's gaussian KDE function.\n",
    "    \"\"\"\n",
    "    if \"truths\" not in kwargs:\n",
    "        kwargs[\"truths\"] = [m, c]\n",
    "    \n",
    "    fig = corner.corner(samples, labels=[r'$m$', r'$c$'], hist_kwargs={'density': True}, **kwargs)\n",
    "\n",
    "    # plot KDE smoothed version of distributions\n",
    "    for axidx, samps in zip([0, 3], samples.T):\n",
    "        kde = gaussian_kde(samps)\n",
    "        xvals = fig.axes[axidx].get_xlim()\n",
    "        xvals = np.linspace(xvals[0], xvals[1], 100)\n",
    "        fig.axes[axidx].plot(xvals, kde(xvals), color='firebrick')\n",
    "plotposts(samples_nestle)"
   ]
  },
  {
   "cell_type": "code",
   "execution_count": 9,
   "metadata": {},
   "outputs": [],
   "source": [
    "# import the Solver class\n",
    "import pymultinest\n",
    "from pymultinest.solve import Solver\n",
    "from scipy.special import ndtri\n",
    "\n",
    "LN2PI = np.log(2.*np.pi)\n",
    "\n",
    "class StraightLineModelPyMultiNest(Solver):\n",
    "    \"\"\"\n",
    "    A simple straight line model, with a Gaussian likelihood.\n",
    "\n",
    "    Args:\n",
    "        data (:class:`numpy.ndarray`): an array containing the observed data\n",
    "        abscissa (:class:`numpy.ndarray`): an array containing the points at \n",
    "        which the data were taken\n",
    "        modelfunc (function): a function defining the model\n",
    "        sigma (float): the standard deviation of the noise in the data\n",
    "        **kwargs: keyword arguments for the run method\n",
    "    \"\"\"\n",
    "\n",
    "    # define the prior parameters\n",
    "    cmin = -10.  # lower range on c (the same as the uniform c prior lower bound)\n",
    "    cmax = 10.   # upper range on c (the same as the uniform c prior upper bound)\n",
    "\n",
    "    mmu = 0.     # mean of the Gaussian prior on m\n",
    "    msigma = 10. # standard deviation of the Gaussian prior on m\n",
    "\n",
    "    def __init__(self, data, abscissa, modelfunc, sigma, **kwargs):\n",
    "        # set the data\n",
    "        self._data = data         # oberserved data\n",
    "        self._abscissa = abscissa # points at which the observed data are taken\n",
    "        self._sigma = sigma       # standard deviation(s) of the data\n",
    "        self._logsigma = np.log(sigma) # log sigma here to save computations in the likelihood\n",
    "        self._ndata = len(data)   # number of data points\n",
    "        self._model = modelfunc   # model function\n",
    "\n",
    "        Solver.__init__(self, **kwargs)\n",
    "\n",
    "    def Prior(self, cube):\n",
    "        \"\"\"\n",
    "        The prior transform going from the unit hypercube to the true parameters. This function\n",
    "        has to be called \"Prior\".\n",
    "\n",
    "        Args:\n",
    "            cube (:class:`numpy.ndarray`): an array of values drawn from the unit hypercube\n",
    "\n",
    "        Returns:\n",
    "            :class:`numpy.ndarray`: an array of the transformed parameters\n",
    "        \"\"\"\n",
    "\n",
    "        # extract values\n",
    "        mprime = cube[0]\n",
    "        cprime = cube[1]\n",
    "\n",
    "        m = self.mmu + self.msigma*ndtri(mprime)      # convert back to m\n",
    "        c = cprime*(self.cmax-self.cmin) + self.cmin  # convert back to c\n",
    "\n",
    "        return np.array([m, c])\n",
    "\n",
    "    def LogLikelihood(self, cube):\n",
    "        \"\"\"\n",
    "        The log likelihood function. This function has to be called \"LogLikelihood\".\n",
    "\n",
    "        Args:\n",
    "            cube (:class:`numpy.ndarray`): an array of parameter values.\n",
    "\n",
    "        Returns:\n",
    "            float: the log likelihood value.\n",
    "        \"\"\"\n",
    "\n",
    "        # extract parameters\n",
    "        m = cube[0]\n",
    "        c = cube[1]\n",
    "\n",
    "        # calculate the model\n",
    "        model = self._model(x, m, c)\n",
    "\n",
    "        # normalisation\n",
    "        norm = -0.5*self._ndata*LN2PI - self._ndata*self._logsigma\n",
    "\n",
    "        # chi-squared\n",
    "        chisq = np.sum(((self._data - model)/(self._sigma))**2)\n",
    "\n",
    "        return norm - 0.5*chisq"
   ]
  },
  {
   "cell_type": "code",
   "execution_count": 10,
   "metadata": {},
   "outputs": [
    {
     "name": "stdout",
     "output_type": "stream",
     "text": [
      "  analysing data from /tmp/tmpegoreegrpymultinest/.txt\n"
     ]
    }
   ],
   "source": [
    "# %%capture\n",
    "nlive = 1024 # number of live points\n",
    "ndim = 2     # number of parameters\n",
    "tol = 0.5    # stopping criterion\n",
    "\n",
    "# run the algorithm\n",
    "t0 = time.time()\n",
    "solution = StraightLineModelPyMultiNest(data, x, straight_line, sigma, n_dims=ndim,\n",
    "                                        n_live_points=nlive, evidence_tolerance=tol);\n",
    "t1 = time.time()\n",
    "\n",
    "timepymultinest = (t1-t0)\n",
    "\n"
   ]
  },
  {
   "cell_type": "code",
   "execution_count": 11,
   "metadata": {},
   "outputs": [
    {
     "data": {
      "text/plain": [
       "15.307499408721924"
      ]
     },
     "execution_count": 11,
     "metadata": {},
     "output_type": "execute_result"
    }
   ],
   "source": [
    "timepymultinest"
   ]
  },
  {
   "cell_type": "code",
   "execution_count": 12,
   "metadata": {},
   "outputs": [],
   "source": [
    "from datetime import datetime"
   ]
  },
  {
   "cell_type": "code",
   "execution_count": 13,
   "metadata": {},
   "outputs": [],
   "source": [
    "from pymultinest.solve import solve as multines_solve"
   ]
  },
  {
   "cell_type": "code",
   "execution_count": 14,
   "metadata": {},
   "outputs": [],
   "source": [
    "from DirectDmTargets import get_param_list, StatModel, log_likelihood\n",
    "class PyMultinestStatModel(StatModel):\n",
    "    known_parameters = get_param_list()\n",
    "\n",
    "    def __init__(self, *args):\n",
    "        StatModel.__init__(self, *args)\n",
    "        self.tol = 0.1\n",
    "        self.nlive = 1024\n",
    "        self.log = {'did_run': False, 'saved_in': None}\n",
    "        self.config['start'] = datetime.now()  # .date().isoformat()\n",
    "        self.config['notes'] = \"default\"\n",
    "        self.result = False\n",
    "        self.set_fit_parameters(['log_mass', 'log_cross_section'])\n",
    "        if self.verbose:\n",
    "            print(f'PyMultinestStatModel::\\t{now()}\\n\\tVERBOSE ENABLED')\n",
    "            if self.verbose > 1:\n",
    "                print(f\"PyMultinestStatModel::\\t{now()}\\n\\tSUPERVERBOSE ENABLED\\n\\tyou want to \"\n",
    "                      f\"know it all? Here we go sit back and be blown by my output!\")\n",
    "#         Solver.__init__(self, **kwargs)\n",
    "\n",
    "    def set_fit_parameters(self, params):\n",
    "        if self.verbose:\n",
    "            print(f'PyMultinestStatModel::\\t{now()}\\n\\tsetting fit parameters to {params}')\n",
    "        if not type(params) == list:\n",
    "            raise TypeError(\"Set the parameter names in a list of strings\")\n",
    "        for param in params:\n",
    "            if param not in self.known_parameters:\n",
    "                err_message = f\"{param} does not match any of the known parameters try any of {self.known_parameters}\"\n",
    "                raise NotImplementedError(err_message)\n",
    "        if not params == self.known_parameters[:len(params)]:\n",
    "            err_message = f\"The parameters are not input in the correct order. Please\" \\\n",
    "                          f\" insert {self.known_parameters[:len(params)]} rather than {params}.\"\n",
    "            raise NameError(err_message)\n",
    "        self.fit_parameters = params\n",
    "\n",
    "    def check_did_run(self):\n",
    "        if self.verbose:\n",
    "            print(f'PyMultinestStatModel::\\t{now()}\\n\\tdid not run yet, lets fire it up!')\n",
    "        if not self.log['did_run']:\n",
    "            self.run_nestle()\n",
    "\n",
    "    def check_did_save(self):\n",
    "        if self.verbose:\n",
    "            print(f'PyMultinestStatModel::\\t{now()}\\n\\tdid not save yet, we dont want to lose '\n",
    "                  f'our results so better do it now')\n",
    "        if self.log['saved_in'] is None:\n",
    "            self.save_results()\n",
    "\n",
    "    def log_probability_nestle(self, parameter_vals, parameter_names):\n",
    "        \"\"\"\n",
    "\n",
    "        :param parameter_vals: the values of the model/benchmark considered as the truth\n",
    "        # :param parameter_values: the values of the parameters that are being varied\n",
    "        :param parameter_names: the names of the parameter_values\n",
    "        :return:\n",
    "        \"\"\"\n",
    "        # if self.verbose:\n",
    "        #     print(f\"'\"PyMultinestStatModel::\\t{now()}\\n\\t\n",
    "        if self.verbose > 1:\n",
    "            print(f\"PyMultinestStatModel::\\t{now()}\\n\\tSUPERVERBOSE\\tthere we go! Find that log probability\")\n",
    "        evaluated_rate = self.eval_spectrum(parameter_vals, parameter_names)[\n",
    "            'counts']\n",
    "\n",
    "        ll = log_likelihood(self.benchmark_values, evaluated_rate)\n",
    "        if np.isnan(ll):\n",
    "            raise ValueError(\n",
    "                f\"Returned NaN from likelihood. ll = {ll}\")\n",
    "        if self.verbose > 1:\n",
    "            print(f\"PyMultinestStatModel::\\t{now()}\\n\\tSUPERVERBOSE\\tfound it! returning the log likelihood\")\n",
    "        return ll\n",
    "\n",
    "    def log_prior_transform_nestle(self, x, x_name):\n",
    "        if self.verbose > 1:\n",
    "            print(f\"PyMultinestStatModel::\\t{now()}\\n\\tSUPERVERBOSE\\tdoing some transformations for nestle \"\n",
    "                  f\"to read the priors\")\n",
    "        if self.config['prior'][x_name]['prior_type'] == 'flat':\n",
    "            a, b = self.config['prior'][x_name]['param']\n",
    "            return x * (b - a) + a\n",
    "        elif self.config['prior'][x_name]['prior_type'] == 'gauss':\n",
    "            a, b = self.config['prior'][x_name]['range']\n",
    "            m, s = self.config['prior'][x_name]['param']\n",
    "            aprime = spsp.ndtr((a - m) / s)\n",
    "            bprime = spsp.ndtr((b - m) / s)\n",
    "            xprime = x * (bprime - aprime) + aprime\n",
    "            res = m + s * spsp.ndtri(xprime)\n",
    "            return res\n",
    "        else:\n",
    "            err_message = f\"unknown prior type '{self.config['prior'][x_name]['prior_type']}', \" \\\n",
    "                          f\"choose either gauss or flat\"\n",
    "            raise TypeError(err_message)\n",
    "\n",
    "    def _log_probability_nestle(self, theta):\n",
    "        if self.verbose > 1:\n",
    "            print(f\"PyMultinestStatModel::\\t{now()}\\n\\tSUPERVERBOSE\\tdoing _log_probability_nestle\"\n",
    "                  f\"\\n\\t\\tooph, what a nasty function to do some transformations behind the scenes\")\n",
    "        ndim = len(theta)\n",
    "        return self.log_probability_nestle(theta, self.known_parameters[:ndim])\n",
    "\n",
    "    def _log_prior_transform_nestle(self, theta):\n",
    "        if self.verbose > 1:\n",
    "            print(f\"PyMultinestStatModel::\\t{now()}\\n\\tSUPERVERBOSE\\tdoing _log_prior_transform_nestle\"\n",
    "                  f\"\\n\\t\\tooph, what a nasty function to do some transformations behind the scenes\")\n",
    "        result = [self.log_prior_transform_nestle(val, self.known_parameters[i]) for i, val in enumerate(theta)]\n",
    "        return np.array(result)\n",
    "\n",
    "#     def Prior(self, cube):\n",
    "#         return self._log_prior_transform_nestle(cube)\n",
    "\n",
    "#     def LogLikelihood(self, cube):\n",
    "#         return self._log_probability_nestle(cube)"
   ]
  },
  {
   "cell_type": "code",
   "execution_count": 15,
   "metadata": {},
   "outputs": [
    {
     "name": "stdout",
     "output_type": "stream",
     "text": [
      "StatModel::\t2020-01-20T17:04\n",
      "\tinitialized for Xe detector.See print(stat_model) for default settings\n"
     ]
    }
   ],
   "source": [
    "stats = PyMultinestStatModel('Xe')"
   ]
  },
  {
   "cell_type": "code",
   "execution_count": 16,
   "metadata": {},
   "outputs": [
    {
     "data": {
      "text/plain": [
       "-253433.04904078602"
      ]
     },
     "execution_count": 16,
     "metadata": {},
     "output_type": "execute_result"
    }
   ],
   "source": [
    "stats._log_probability_nestle([0,0])"
   ]
  },
  {
   "cell_type": "code",
   "execution_count": 17,
   "metadata": {},
   "outputs": [
    {
     "data": {
      "text/plain": [
       "1579536300.2681744"
      ]
     },
     "execution_count": 17,
     "metadata": {},
     "output_type": "execute_result"
    }
   ],
   "source": [
    "time.time()"
   ]
  },
  {
   "cell_type": "code",
   "execution_count": 22,
   "metadata": {},
   "outputs": [],
   "source": [
    "from pymultinest.solve import solve"
   ]
  },
  {
   "cell_type": "code",
   "execution_count": null,
   "metadata": {},
   "outputs": [],
   "source": []
  },
  {
   "cell_type": "code",
   "execution_count": 18,
   "metadata": {},
   "outputs": [],
   "source": [
    "from __future__ import absolute_import, unicode_literals, print_function\n",
    "import numpy\n",
    "from numpy import pi, cos"
   ]
  },
  {
   "cell_type": "code",
   "execution_count": null,
   "metadata": {},
   "outputs": [],
   "source": []
  },
  {
   "cell_type": "code",
   "execution_count": null,
   "metadata": {},
   "outputs": [
    {
     "name": "stdout",
     "output_type": "stream",
     "text": [
      "CPU times: user 0 ns, sys: 0 ns, total: 0 ns\n",
      "Wall time: 13.8 µs\n"
     ]
    }
   ],
   "source": [
    "%time\n",
    "start_multi = time.time()\n",
    "\n",
    "result = solve(LogLikelihood=stats._log_probability_nestle, \n",
    "      Prior=stats._log_prior_transform_nestle,\n",
    "      n_dims = 2,\n",
    "      outputfiles_basename = 'temp_res2',\n",
    "      verbose=True,\n",
    "     )\n",
    "end_multi = time.time()"
   ]
  },
  {
   "cell_type": "code",
   "execution_count": null,
   "metadata": {},
   "outputs": [],
   "source": [
    "end_multi - start_multi"
   ]
  },
  {
   "cell_type": "code",
   "execution_count": null,
   "metadata": {},
   "outputs": [],
   "source": [
    "parameters = [\"x\", \"y\"]"
   ]
  },
  {
   "cell_type": "code",
   "execution_count": null,
   "metadata": {},
   "outputs": [],
   "source": [
    "print()\n",
    "print('evidence: %(logZ).1f +- %(logZerr).1f' % result)\n",
    "print()\n",
    "print('parameter values:')\n",
    "for name, col in zip(parameters, result['samples'].transpose()):\n",
    "\tprint('%15s : %.3f +- %.3f' % (name, col.mean(), col.std()))"
   ]
  },
  {
   "cell_type": "code",
   "execution_count": null,
   "metadata": {},
   "outputs": [],
   "source": [
    "import json\n",
    "with open('%sparams.json' % '.', 'w') as f:\n",
    "    json.dump(parameters, f, indent=2)"
   ]
  },
  {
   "cell_type": "code",
   "execution_count": null,
   "metadata": {},
   "outputs": [],
   "source": [
    "# solution = PyMultinestStatModel('Xe', \n",
    "#                                 n_dims=ndim,\n",
    "#                                 n_live_points=nlive, \n",
    "#                                 evidence_tolerance=tol)"
   ]
  },
  {
   "cell_type": "code",
   "execution_count": null,
   "metadata": {},
   "outputs": [],
   "source": [
    "# solution"
   ]
  },
  {
   "cell_type": "code",
   "execution_count": null,
   "metadata": {},
   "outputs": [],
   "source": [
    "stats2 = dddm.NestedSamplerStatModel('Xe')\n",
    "\n",
    "stats2.nlive = 200\n",
    "stats2.verbose = 0"
   ]
  },
  {
   "cell_type": "code",
   "execution_count": null,
   "metadata": {},
   "outputs": [],
   "source": [
    "start_nestle = time.time()\n",
    "stats2.run_nestle()\n",
    "end_nestle = time.time()"
   ]
  },
  {
   "cell_type": "code",
   "execution_count": null,
   "metadata": {},
   "outputs": [],
   "source": [
    "end_nestle - start_nestle"
   ]
  },
  {
   "cell_type": "code",
   "execution_count": null,
   "metadata": {},
   "outputs": [],
   "source": [
    "stats2.get_summary()"
   ]
  },
  {
   "cell_type": "code",
   "execution_count": null,
   "metadata": {},
   "outputs": [],
   "source": [
    "%run common_init.py"
   ]
  },
  {
   "cell_type": "code",
   "execution_count": null,
   "metadata": {},
   "outputs": [],
   "source": [
    "stats3 = dddm.NestedSamplerStatModel('Xe')\n",
    "\n",
    "stats3.nlive = 200\n",
    "stats3.verbose = 1\n",
    "stats3.sampler = 'multinest'"
   ]
  },
  {
   "cell_type": "code",
   "execution_count": null,
   "metadata": {},
   "outputs": [],
   "source": [
    "start_nestle = time.time()\n",
    "stats3.run_multinest()\n",
    "end_nestle = time.time()"
   ]
  },
  {
   "cell_type": "code",
   "execution_count": null,
   "metadata": {},
   "outputs": [],
   "source": [
    "end_nestle - start_nestle"
   ]
  },
  {
   "cell_type": "code",
   "execution_count": null,
   "metadata": {},
   "outputs": [],
   "source": []
  },
  {
   "cell_type": "code",
   "execution_count": null,
   "metadata": {},
   "outputs": [],
   "source": [
    "from pymultinest import Analyzer"
   ]
  },
  {
   "cell_type": "code",
   "execution_count": null,
   "metadata": {},
   "outputs": [],
   "source": [
    "# create analyzer object\n",
    "a = Analyzer(2, outputfiles_basename = \"results/nested_multinest4/multinest\")\n",
    "\n",
    "# get a dictionary containing information about\n",
    "#   the logZ and its errors\n",
    "#   the individual modes and their parameters\n",
    "#   quantiles of the parameter posteriors\n",
    "stats = a.get_stats()\n",
    "\n",
    "# get the best fit (highest likelihood) point\n",
    "bestfit_params = a.get_best_fit()\n",
    "\n",
    "# iterate through the \"posterior chain\"\n",
    "# for params in a.get_equal_weighted_posterior():\n",
    "#         print (params)"
   ]
  },
  {
   "cell_type": "code",
   "execution_count": null,
   "metadata": {},
   "outputs": [],
   "source": [
    "a.get_best_fit()"
   ]
  },
  {
   "cell_type": "code",
   "execution_count": null,
   "metadata": {},
   "outputs": [],
   "source": []
  },
  {
   "cell_type": "code",
   "execution_count": null,
   "metadata": {},
   "outputs": [],
   "source": [
    "assert False"
   ]
  },
  {
   "cell_type": "markdown",
   "metadata": {},
   "source": [
    "## Distribution of the DM ##\n",
    "First we need to make a DM-rate spectrum"
   ]
  },
  {
   "cell_type": "code",
   "execution_count": null,
   "metadata": {},
   "outputs": [],
   "source": [
    "stats_full = dddm.NestedSamplerStatModel('Xe_migd')\n",
    "\n",
    "stats_full.nlive = 200\n",
    "stats_full.verbose = 1\n",
    "stats_full.sampler = 'multinest'"
   ]
  },
  {
   "cell_type": "code",
   "execution_count": null,
   "metadata": {},
   "outputs": [],
   "source": [
    "stats_full.log\n",
    "stats_full.set_prior('migdal_lower')"
   ]
  },
  {
   "cell_type": "code",
   "execution_count": null,
   "metadata": {},
   "outputs": [],
   "source": [
    "# for key in stats_full.log.keys():\n",
    "#     stats_full.log[key] = False\n"
   ]
  },
  {
   "cell_type": "code",
   "execution_count": null,
   "metadata": {},
   "outputs": [],
   "source": [
    "stats_full.fit_parameters = stats_full.known_parameters"
   ]
  },
  {
   "cell_type": "code",
   "execution_count": null,
   "metadata": {},
   "outputs": [],
   "source": [
    "stats_full.check_spectrum()"
   ]
  },
  {
   "cell_type": "code",
   "execution_count": null,
   "metadata": {},
   "outputs": [],
   "source": [
    "start = time.time()\n",
    "stats_full.run_multinest()\n",
    "end = time.time()"
   ]
  },
  {
   "cell_type": "code",
   "execution_count": null,
   "metadata": {},
   "outputs": [],
   "source": [
    "end-start"
   ]
  },
  {
   "cell_type": "code",
   "execution_count": null,
   "metadata": {},
   "outputs": [],
   "source": [
    "stats_full.save_results()"
   ]
  },
  {
   "cell_type": "code",
   "execution_count": null,
   "metadata": {},
   "outputs": [],
   "source": [
    "9170.64813709259/3600"
   ]
  },
  {
   "cell_type": "code",
   "execution_count": null,
   "metadata": {},
   "outputs": [],
   "source": [
    "assert stats_full.log['did_run']"
   ]
  },
  {
   "cell_type": "code",
   "execution_count": null,
   "metadata": {},
   "outputs": [],
   "source": [
    "stats_full.show_walkers()"
   ]
  },
  {
   "cell_type": "code",
   "execution_count": null,
   "metadata": {},
   "outputs": [],
   "source": [
    "stats_full.show_corner()"
   ]
  },
  {
   "cell_type": "code",
   "execution_count": null,
   "metadata": {},
   "outputs": [],
   "source": [
    "corner.corner(\n",
    "    stats_full.sampler.get_chain(\n",
    "        flat=True,\n",
    "        thin = 50,\n",
    "        discard=int(stats_full.nsteps * 0.2)\n",
    "    ),\n",
    "              labels=stats_full.fit_parameters);"
   ]
  }
 ],
 "metadata": {
  "kernelspec": {
   "display_name": "Python 3",
   "language": "python",
   "name": "python3"
  },
  "language_info": {
   "codemirror_mode": {
    "name": "ipython",
    "version": 3
   },
   "file_extension": ".py",
   "mimetype": "text/x-python",
   "name": "python",
   "nbconvert_exporter": "python",
   "pygments_lexer": "ipython3",
   "version": "3.7.4"
  }
 },
 "nbformat": 4,
 "nbformat_minor": 2
}
