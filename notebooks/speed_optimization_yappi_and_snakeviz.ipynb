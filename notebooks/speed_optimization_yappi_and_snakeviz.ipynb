{
 "cells": [
  {
   "cell_type": "code",
   "execution_count": 1,
   "metadata": {},
   "outputs": [
    {
     "name": "stdout",
     "output_type": "stream",
     "text": [
      "Requirement already satisfied: yappi in /home/joran/.conda/envs/DD_DM/lib/python3.7/site-packages (1.2.3)\r\n"
     ]
    }
   ],
   "source": [
    "!pip install yappi"
   ]
  },
  {
   "cell_type": "code",
   "execution_count": 2,
   "metadata": {},
   "outputs": [
    {
     "name": "stdout",
     "output_type": "stream",
     "text": [
      "Start import\n",
      "calculating effective efficiency for Xe detector done\n",
      "calculating effective efficiency for Ge detector done\n",
      "calculating effective efficiency for Ar detector done\n",
      "calculating effective efficiency for Xe_migd detector done\n",
      "calculating effective efficiency for Ge_migd detector done\n",
      "calculating effective efficiency for Ar_migd detector done\n",
      "Done import\n",
      "SYSTEM\n",
      "\tRunning on linux\n",
      "\tPython version 3.7.4 (default, Aug 13 2019, 20:35:49) [GCC 7.3.0]\n",
      "\tPython installation /home/joran/.conda/envs/DD_DM/bin/python\n",
      "MODULES\n",
      "\tDirectDmTargets\n",
      "\t\tver.:\t0.2.0\n",
      "\t\tPath:\t/mnt/c/Users/Joran/Google Drive/PhD-master/ubuntu-storage/windows-anaconda/DD_DM_targets/DirectDmTargets/\n",
      "\n",
      "\twimprates\n",
      "\t\tver.:\t0.3.2\n",
      "\t\tPath:\t/mnt/c/Users/Joran/Google Drive/PhD-master/ubuntu-storage/windows-anaconda/forked_wimprates/wimprates/\n",
      "\n"
     ]
    }
   ],
   "source": [
    "%run common_init.py"
   ]
  },
  {
   "cell_type": "code",
   "execution_count": 3,
   "metadata": {},
   "outputs": [
    {
     "name": "stdout",
     "output_type": "stream",
     "text": [
      "StatModel::\t2020-01-07T09:54\n",
      "\tinitialized for Xe_migd detector.See print(stat_model) for default settings\n",
      "check_save_folder::\tmaking ../../verne/results/veldists/f_params\n",
      "check_save_folder::\tmaking ../../verne/results/veldists/f_params/loc_XENON\n",
      "check_save_folder::\tmaking ../../verne/results/veldists/f_params/loc_XENON/v0_230\n",
      "check_save_folder::\tmaking ../../verne/results/veldists/f_params/loc_XENON/v0_230/vesc_544\n",
      "check_save_folder::\tmaking ../../verne/results/veldists/f_params/loc_XENON/v0_230/vesc_544/rho_0.400\n",
      "No spectrum found at:\n",
      "../../verne/results/veldists/f_params/loc_XENON/v0_230/vesc_544/rho_0.400/sig_-45.0_mx_1.70_avg.csv\n",
      "Generating spectrum, this can take a minute. Execute:\n",
      "python \"../../verne/\"/src/CalcVelDist.py -m_x 49.99999999999999 -sigma_p 1e-45 -loc XENON -path \"../../verne//src/\" -v_0 230.0 -v_esc 544.0000000000001 -save_as \"../../verne/results/veldists/f_params/loc_XENON/v0_230/vesc_544/rho_0.400/sig_-45.0_mx_1.70_avg.csv\" \n"
     ]
    }
   ],
   "source": [
    "# import yappi\n",
    "# filename = 'test.prof'\n",
    "# yappi.set_clock_type('cpu')\n",
    "# yappi.start(builtins=True)\n",
    "dddm.NestleStatModel('Xe_migd')\n",
    "# stats = yappi.get_func_stats()\n",
    "# stats.save(filename, type='callgrind')"
   ]
  },
  {
   "cell_type": "code",
   "execution_count": null,
   "metadata": {},
   "outputs": [],
   "source": []
  },
  {
   "cell_type": "code",
   "execution_count": null,
   "metadata": {},
   "outputs": [],
   "source": []
  },
  {
   "cell_type": "code",
   "execution_count": null,
   "metadata": {},
   "outputs": [],
   "source": []
  },
  {
   "cell_type": "code",
   "execution_count": null,
   "metadata": {},
   "outputs": [],
   "source": []
  },
  {
   "cell_type": "code",
   "execution_count": null,
   "metadata": {},
   "outputs": [],
   "source": []
  },
  {
   "cell_type": "code",
   "execution_count": null,
   "metadata": {},
   "outputs": [],
   "source": []
  },
  {
   "cell_type": "code",
   "execution_count": null,
   "metadata": {},
   "outputs": [],
   "source": []
  },
  {
   "cell_type": "code",
   "execution_count": null,
   "metadata": {},
   "outputs": [],
   "source": [
    "fit_class = dddm.NestleStatModel('Xe_migd')\n",
    "fit_class.tol = 0.8\n",
    "# fit_class.nwalkers = 5\n",
    "# fit_class.nsteps = 10\n",
    "fit_class.nlive = 10\n",
    "fit_class.set_prior('migdal')\n",
    "print(f\"Fitting for parameters:\\n{fit_class.fit_parameters}\")"
   ]
  },
  {
   "cell_type": "code",
   "execution_count": null,
   "metadata": {},
   "outputs": [],
   "source": []
  },
  {
   "cell_type": "code",
   "execution_count": null,
   "metadata": {},
   "outputs": [],
   "source": [
    "import DirectDmTargets as dddm"
   ]
  },
  {
   "cell_type": "code",
   "execution_count": null,
   "metadata": {},
   "outputs": [],
   "source": []
  },
  {
   "cell_type": "code",
   "execution_count": null,
   "metadata": {},
   "outputs": [],
   "source": []
  },
  {
   "cell_type": "code",
   "execution_count": null,
   "metadata": {},
   "outputs": [],
   "source": [
    "import wimprates as wr"
   ]
  },
  {
   "cell_type": "code",
   "execution_count": null,
   "metadata": {},
   "outputs": [],
   "source": [
    "import numpy as np\n",
    "import matplotlib.pyplot as plt"
   ]
  },
  {
   "cell_type": "code",
   "execution_count": null,
   "metadata": {},
   "outputs": [],
   "source": [
    "import numericalunits as nu"
   ]
  },
  {
   "cell_type": "code",
   "execution_count": null,
   "metadata": {},
   "outputs": [],
   "source": [
    "from tqdm import tqdm"
   ]
  },
  {
   "cell_type": "code",
   "execution_count": null,
   "metadata": {},
   "outputs": [],
   "source": [
    "from scipy.integrate import quad as scipy_int"
   ]
  },
  {
   "cell_type": "markdown",
   "metadata": {},
   "source": [
    "# Direct detection of Dark matter using different target materials #\n",
    "\n",
    "Author:\n",
    "\n",
    "Joran Angevaare <j.angevaare@nikef.nl>\n",
    "\n",
    "Date:\n",
    "\n",
    "14 october 2019 \n",
    "\n",
    "## Goal ## \n",
    "\n",
    "- Roughly reproduce <https://journals.aps.org/prd/abstract/10.1103/PhysRevD.83.083505>\n",
    "- Update the results thereof with more recent knowledge of the DM-distribution\n",
    "\n",
    "### Approach ###\n",
    "To achieve these goals, we must first get a decent recoil spectrum, that is flexible enough to have different astrophysical parameters. Further, it must also be flexible enough to be able to allow for different analytic functions to be added to the model. For instance, we must be able to incorporate the $\\rm{SHM}^{++}$ as presented here <https://arxiv.org/abs/1810.11468>.\n",
    "\n",
    "When we have a sufficiently flexible model, we want to add in the detector physics, we should therein incorporate at least the following parameters:\n",
    "- target\n",
    "  - material\n",
    "  - cross-section\n",
    "- threshold\n",
    "- background\n",
    "- cut efficiency  \n",
    "- volume\n",
    "- exposure\n",
    "\n",
    "Finally we should perform the inference"
   ]
  },
  {
   "cell_type": "code",
   "execution_count": null,
   "metadata": {},
   "outputs": [],
   "source": [
    "dddm.experiment['Xe']['res'](1)"
   ]
  },
  {
   "cell_type": "markdown",
   "metadata": {},
   "source": [
    "## Detector smearing"
   ]
  },
  {
   "cell_type": "markdown",
   "metadata": {},
   "source": [
    "## Distribution of the DM ##\n",
    "First we need to make a DM-rate spectrum"
   ]
  },
  {
   "cell_type": "code",
   "execution_count": null,
   "metadata": {},
   "outputs": [],
   "source": [
    "use_SHM = dddm.SHM()"
   ]
  },
  {
   "cell_type": "code",
   "execution_count": null,
   "metadata": {},
   "outputs": [],
   "source": [
    "def plot_spectrum(data, color = 'blue', label = 'label'):\n",
    "    plt.errorbar(data['bin_centers'], data['counts'], \n",
    "                xerr=(data['bin_left'] - data['bin_right'])/2,\n",
    "                yerr = np.sqrt(data['counts']),\n",
    "                color = color,\n",
    "                linestyle = 'none',\n",
    "                capsize = 2,\n",
    "                marker = 'o',\n",
    "                label = label\n",
    "                )"
   ]
  },
  {
   "cell_type": "code",
   "execution_count": null,
   "metadata": {},
   "outputs": [],
   "source": [
    "%%time\n",
    "xe_events = dddm.GenSpectrum(50, 1e-45, use_SHM, dddm.experiment['Xe'])\n",
    "xe_events.n_bins = 10\n",
    "xe_galact = xe_events.get_data(poisson = False)\n",
    "xe_events.n_bins"
   ]
  },
  {
   "cell_type": "code",
   "execution_count": null,
   "metadata": {
    "scrolled": true
   },
   "outputs": [],
   "source": [
    "%%time\n",
    "xe_events = dddm.DetectorSpectrum(50, 1e-45, use_SHM, dddm.experiment['Xe'])\n",
    "xe_events.n_bins = 10\n",
    "\n",
    "xe_det = xe_events.get_data(poisson = False)"
   ]
  },
  {
   "cell_type": "code",
   "execution_count": null,
   "metadata": {},
   "outputs": [],
   "source": [
    "plot_spectrum(xe_galact, label = 'un-smeared')\n",
    "plot_spectrum(xe_det, 'red', label = 'det-resolution')\n",
    "# plt.yscale(\"log\")\n",
    "plt.legend()"
   ]
  },
  {
   "cell_type": "code",
   "execution_count": null,
   "metadata": {},
   "outputs": [],
   "source": [
    "from __future__ import print_function\n",
    "from IPython.core import page\n",
    "page.page = print"
   ]
  },
  {
   "cell_type": "code",
   "execution_count": null,
   "metadata": {},
   "outputs": [],
   "source": [
    "!pip install line_profiler --user"
   ]
  },
  {
   "cell_type": "code",
   "execution_count": null,
   "metadata": {},
   "outputs": [],
   "source": [
    "%load_ext line_profiler"
   ]
  },
  {
   "cell_type": "code",
   "execution_count": null,
   "metadata": {},
   "outputs": [],
   "source": [
    "test_class = dddm.DetectorSpectrum(50, 1e-45, use_SHM, dddm.detectors['Xe'])\n",
    "test_class.n_bins = 3\n",
    "test_class.n_bins_result = 15"
   ]
  },
  {
   "cell_type": "code",
   "execution_count": null,
   "metadata": {},
   "outputs": [],
   "source": [
    "test = test_class.get_data\n",
    "%lprun -f test test(poisson = False)"
   ]
  },
  {
   "cell_type": "code",
   "execution_count": null,
   "metadata": {},
   "outputs": [],
   "source": [
    "test = test_class.get_events\n",
    "%lprun -f test test()"
   ]
  },
  {
   "cell_type": "code",
   "execution_count": null,
   "metadata": {},
   "outputs": [],
   "source": [
    "test = test_class.compute_detected_spectrum\n",
    "test_class.n_bins = 10\n",
    "test_class.n_bins_result = 100\n",
    "%lprun -f test test()"
   ]
  },
  {
   "cell_type": "code",
   "execution_count": null,
   "metadata": {},
   "outputs": [],
   "source": [
    "test = test_class.spectrum_simple\n",
    "test_class.n_bins = 10\n",
    "test_class.n_bins_result = 100\n",
    "%lprun -f test test([50, 1e-45])"
   ]
  },
  {
   "cell_type": "code",
   "execution_count": null,
   "metadata": {},
   "outputs": [],
   "source": [
    "test_2 = wr.rate_wimp_std\n",
    "%lprun -f test_2 test_2(np.linspace(1,100,10), 50, 1e-45)"
   ]
  },
  {
   "cell_type": "code",
   "execution_count": null,
   "metadata": {},
   "outputs": [],
   "source": [
    "test_2 = wr.rate_wimp\n",
    "%lprun -f test_2 test_2(np.linspace(1,100,10), 50, 1e-45)"
   ]
  },
  {
   "cell_type": "code",
   "execution_count": null,
   "metadata": {},
   "outputs": [],
   "source": []
  }
 ],
 "metadata": {
  "kernelspec": {
   "display_name": "Python 3",
   "language": "python",
   "name": "python3"
  },
  "language_info": {
   "codemirror_mode": {
    "name": "ipython",
    "version": 3
   },
   "file_extension": ".py",
   "mimetype": "text/x-python",
   "name": "python",
   "nbconvert_exporter": "python",
   "pygments_lexer": "ipython3",
   "version": "3.7.4"
  }
 },
 "nbformat": 4,
 "nbformat_minor": 2
}
