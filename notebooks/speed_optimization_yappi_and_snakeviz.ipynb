{
 "cells": [
  {
   "cell_type": "code",
   "execution_count": 1,
   "metadata": {},
   "outputs": [
    {
     "name": "stdout",
     "output_type": "stream",
     "text": [
      "Requirement already satisfied: yappi in /home/joran/.conda/envs/DD_DM/lib/python3.7/site-packages (1.2.3)\r\n"
     ]
    }
   ],
   "source": [
    "!pip install yappi"
   ]
  },
  {
   "cell_type": "code",
   "execution_count": 2,
   "metadata": {},
   "outputs": [
    {
     "name": "stdout",
     "output_type": "stream",
     "text": [
      "Start import\n",
      "calculating effective efficiency for Xe detector done\n",
      "calculating effective efficiency for Ge detector done\n",
      "calculating effective efficiency for Ar detector done\n",
      "calculating effective efficiency for Xe_migd detector done\n",
      "calculating effective efficiency for Ge_migd detector done\n",
      "calculating effective efficiency for Ar_migd detector done\n",
      "Done import\n",
      "SYSTEM\n",
      "\tRunning on linux\n",
      "\tPython version 3.7.4 (default, Aug 13 2019, 20:35:49) [GCC 7.3.0]\n",
      "\tPython installation /home/joran/.conda/envs/DD_DM/bin/python\n",
      "MODULES\n",
      "\tDirectDmTargets\n",
      "\t\tver.:\t0.2.0\n",
      "\t\tPath:\t/mnt/c/Users/Joran/Google Drive/PhD-master/ubuntu-storage/windows-anaconda/DD_DM_targets/DirectDmTargets/\n",
      "\n",
      "\twimprates\n",
      "\t\tver.:\t0.3.2\n",
      "\t\tPath:\t/mnt/c/Users/Joran/Google Drive/PhD-master/ubuntu-storage/windows-anaconda/forked_wimprates/wimprates/\n",
      "\n"
     ]
    }
   ],
   "source": [
    "%run common_init.py"
   ]
  },
  {
   "cell_type": "code",
   "execution_count": 3,
   "metadata": {
    "scrolled": false
   },
   "outputs": [
    {
     "name": "stdout",
     "output_type": "stream",
     "text": [
      "StatModel::\t2020-01-07T10:49\n",
      "\tinitialized for Xe_migd detector.See print(stat_model) for default settings\n",
      "check_save_folder::\tmaking ../../verne/results/veldists/f_params/loc_XENON/v0_230/vesc_543\n",
      "check_save_folder::\tmaking ../../verne/results/veldists/f_params/loc_XENON/v0_230/vesc_543/rho_0.400\n",
      "No spectrum found at:\n",
      "../../verne/results/veldists/f_params/loc_XENON/v0_230/vesc_543/rho_0.400/sig_-45.0_mx_1.70_avg.csv\n",
      "Generating spectrum, this can take a minute. Execute:\n",
      "python \"../../verne/\"/src/CalcVelDist.py -m_x 49.99999999999999 -sigma_p 1e-45 -loc XENON -path \"../../verne//src/\" -v_0 230.0 -v_esc 543.9999999999999 -save_as \"../../verne/results/veldists/f_params/loc_XENON/v0_230/vesc_543/rho_0.400/sig_-45.0_mx_1.70_avg.csv\" \n"
     ]
    },
    {
     "name": "stderr",
     "output_type": "stream",
     "text": [
      "ERROR:root:Internal Python error in the inspect module.\n",
      "Below is the traceback from this internal error.\n",
      "\n"
     ]
    },
    {
     "name": "stdout",
     "output_type": "stream",
     "text": [
      "Traceback (most recent call last):\n",
      "  File \"/home/joran/.conda/envs/DD_DM/lib/python3.7/site-packages/IPython/core/interactiveshell.py\", line 3326, in run_code\n",
      "    exec(code_obj, self.user_global_ns, self.user_ns)\n",
      "  File \"<ipython-input-3-d9c314f263b9>\", line 5, in <module>\n",
      "    dddm.NestleStatModel('Xe_migd')\n",
      "  File \"/mnt/c/Users/Joran/Google Drive/PhD-master/ubuntu-storage/windows-anaconda/DD_DM_targets/DirectDmTargets/nestle.py\", line 26, in __init__\n",
      "    StatModel.__init__(self, *args)\n",
      "  File \"/mnt/c/Users/Joran/Google Drive/PhD-master/ubuntu-storage/windows-anaconda/DD_DM_targets/DirectDmTargets/statistics.py\", line 97, in __init__\n",
      "    self.set_default()\n",
      "  File \"/mnt/c/Users/Joran/Google Drive/PhD-master/ubuntu-storage/windows-anaconda/DD_DM_targets/DirectDmTargets/statistics.py\", line 197, in set_default\n",
      "    self.eval_benchmark()\n",
      "  File \"/mnt/c/Users/Joran/Google Drive/PhD-master/ubuntu-storage/windows-anaconda/DD_DM_targets/DirectDmTargets/statistics.py\", line 219, in eval_benchmark\n",
      "    self.benchmark_values = self.check_spectrum()['counts']\n",
      "  File \"/mnt/c/Users/Joran/Google Drive/PhD-master/ubuntu-storage/windows-anaconda/DD_DM_targets/DirectDmTargets/statistics.py\", line 214, in check_spectrum\n",
      "    return spectrum.get_data(poisson=self.config['poisson'])\n",
      "  File \"/mnt/c/Users/Joran/Google Drive/PhD-master/ubuntu-storage/windows-anaconda/DD_DM_targets/DirectDmTargets/detector.py\", line 295, in get_data\n",
      "    result['counts'] = self.get_events()\n",
      "  File \"/mnt/c/Users/Joran/Google Drive/PhD-master/ubuntu-storage/windows-anaconda/DD_DM_targets/DirectDmTargets/detector.py\", line 277, in get_events\n",
      "    return self.compute_detected_spectrum()\n",
      "  File \"/mnt/c/Users/Joran/Google Drive/PhD-master/ubuntu-storage/windows-anaconda/DD_DM_targets/DirectDmTargets/detector.py\", line 256, in compute_detected_spectrum\n",
      "    rates = self.spectrum_simple([self.mw, self.sigma_nucleon])\n",
      "  File \"/mnt/c/Users/Joran/Google Drive/PhD-master/ubuntu-storage/windows-anaconda/DD_DM_targets/DirectDmTargets/halo.py\", line 122, in spectrum_simple\n",
      "    **migdal_integration_kwargs\n",
      "  File \"<boltons.funcutils.FunctionBuilder-3>\", line 2, in rate_migdal\n",
      "  File \"/mnt/c/Users/Joran/Google Drive/PhD-master/ubuntu-storage/windows-anaconda/forked_wimprates/wimprates/utils.py\", line 60, in newf\n",
      "    for x in itr(xs)])\n",
      "  File \"/mnt/c/Users/Joran/Google Drive/PhD-master/ubuntu-storage/windows-anaconda/forked_wimprates/wimprates/utils.py\", line 60, in <listcomp>\n",
      "    for x in itr(xs)])\n",
      "  File \"/mnt/c/Users/Joran/Google Drive/PhD-master/ubuntu-storage/windows-anaconda/forked_wimprates/wimprates/migdal.py\", line 161, in rate_migdal\n",
      "    **kwargs)[0]\n",
      "  File \"/home/joran/.conda/envs/DD_DM/lib/python3.7/site-packages/scipy/integrate/quadpack.py\", line 581, in dblquad\n",
      "    opts={\"epsabs\": epsabs, \"epsrel\": epsrel})\n",
      "  File \"/home/joran/.conda/envs/DD_DM/lib/python3.7/site-packages/scipy/integrate/quadpack.py\", line 805, in nquad\n",
      "    return _NQuad(func, ranges, opts, full_output).integrate(*args)\n",
      "  File \"/home/joran/.conda/envs/DD_DM/lib/python3.7/site-packages/scipy/integrate/quadpack.py\", line 860, in integrate\n",
      "    **opt)\n",
      "  File \"/home/joran/.conda/envs/DD_DM/lib/python3.7/site-packages/scipy/integrate/quadpack.py\", line 341, in quad\n",
      "    points)\n",
      "  File \"/home/joran/.conda/envs/DD_DM/lib/python3.7/site-packages/scipy/integrate/quadpack.py\", line 448, in _quad\n",
      "    return _quadpack._qagse(func,a,b,args,full_output,epsabs,epsrel,limit)\n",
      "  File \"/home/joran/.conda/envs/DD_DM/lib/python3.7/site-packages/scipy/integrate/quadpack.py\", line 860, in integrate\n",
      "    **opt)\n",
      "  File \"/home/joran/.conda/envs/DD_DM/lib/python3.7/site-packages/scipy/integrate/quadpack.py\", line 341, in quad\n",
      "    points)\n",
      "  File \"/home/joran/.conda/envs/DD_DM/lib/python3.7/site-packages/scipy/integrate/quadpack.py\", line 448, in _quad\n",
      "    return _quadpack._qagse(func,a,b,args,full_output,epsabs,epsrel,limit)\n",
      "  File \"/mnt/c/Users/Joran/Google Drive/PhD-master/ubuntu-storage/windows-anaconda/forked_wimprates/wimprates/migdal.py\", line 151, in diff_rate\n",
      "    * p(eelec))\n",
      "  File \"/mnt/c/Users/Joran/Google Drive/PhD-master/ubuntu-storage/windows-anaconda/DD_DM_targets/DirectDmTargets/halo.py\", line 305, in velocity_dist\n",
      "    self.load_f()\n",
      "  File \"/mnt/c/Users/Joran/Google Drive/PhD-master/ubuntu-storage/windows-anaconda/DD_DM_targets/DirectDmTargets/halo.py\", line 295, in load_f\n",
      "    @memoize\n",
      "NameError: name 'memoize' is not defined\n",
      "\n",
      "During handling of the above exception, another exception occurred:\n",
      "\n",
      "Traceback (most recent call last):\n",
      "  File \"/home/joran/.conda/envs/DD_DM/lib/python3.7/site-packages/IPython/core/interactiveshell.py\", line 2040, in showtraceback\n",
      "    stb = value._render_traceback_()\n",
      "AttributeError: 'NameError' object has no attribute '_render_traceback_'\n",
      "\n",
      "During handling of the above exception, another exception occurred:\n",
      "\n",
      "Traceback (most recent call last):\n",
      "  File \"/home/joran/.conda/envs/DD_DM/lib/python3.7/site-packages/IPython/core/ultratb.py\", line 1101, in get_records\n",
      "    return _fixed_getinnerframes(etb, number_of_lines_of_context, tb_offset)\n",
      "  File \"/home/joran/.conda/envs/DD_DM/lib/python3.7/site-packages/IPython/core/ultratb.py\", line 319, in wrapped\n",
      "    return f(*args, **kwargs)\n",
      "  File \"/home/joran/.conda/envs/DD_DM/lib/python3.7/site-packages/IPython/core/ultratb.py\", line 353, in _fixed_getinnerframes\n",
      "    records = fix_frame_records_filenames(inspect.getinnerframes(etb, context))\n",
      "  File \"/home/joran/.conda/envs/DD_DM/lib/python3.7/inspect.py\", line 1502, in getinnerframes\n",
      "    frameinfo = (tb.tb_frame,) + getframeinfo(tb, context)\n",
      "  File \"/home/joran/.conda/envs/DD_DM/lib/python3.7/inspect.py\", line 1460, in getframeinfo\n",
      "    filename = getsourcefile(frame) or getfile(frame)\n",
      "  File \"/home/joran/.conda/envs/DD_DM/lib/python3.7/inspect.py\", line 696, in getsourcefile\n",
      "    if getattr(getmodule(object, filename), '__loader__', None) is not None:\n",
      "  File \"/home/joran/.conda/envs/DD_DM/lib/python3.7/inspect.py\", line 742, in getmodule\n",
      "    os.path.realpath(f)] = module.__name__\n",
      "AttributeError: module has no attribute '__name__'\n"
     ]
    },
    {
     "ename": "NameError",
     "evalue": "name 'memoize' is not defined",
     "output_type": "error",
     "traceback": [
      "\u001b[0;31m---------------------------------------------------------------------------\u001b[0m"
     ]
    }
   ],
   "source": [
    "# import yappi\n",
    "# filename = 'test.prof'\n",
    "# yappi.set_clock_type('cpu')\n",
    "# yappi.start(builtins=True)\n",
    "dddm.NestleStatModel('Xe_migd')\n",
    "# stats = yappi.get_func_stats()\n",
    "# stats.save(filename, type='callgrind')"
   ]
  },
  {
   "cell_type": "code",
   "execution_count": null,
   "metadata": {},
   "outputs": [],
   "source": [
    "%%time\n",
    "dddm.NestleStatModel('Xe_migd')"
   ]
  },
  {
   "cell_type": "code",
   "execution_count": null,
   "metadata": {},
   "outputs": [],
   "source": [
    "%%time\n",
    "dddm.NestleStatModel('Xe_migd')"
   ]
  },
  {
   "cell_type": "code",
   "execution_count": null,
   "metadata": {},
   "outputs": [],
   "source": [
    "%%time\n",
    "dddm.NestleStatModel('Xe_migd')\n"
   ]
  },
  {
   "cell_type": "code",
   "execution_count": null,
   "metadata": {},
   "outputs": [],
   "source": [
    "%%time\n",
    "spec = dddm.VerneSHM()\n",
    "test = dddm.DetectorSpectrum(1, 1e-40, spec, dddm.experiment['Xe_migd'])\n",
    "\n",
    "test.get_data(poisson = False)"
   ]
  },
  {
   "cell_type": "code",
   "execution_count": null,
   "metadata": {},
   "outputs": [],
   "source": [
    "%%time\n",
    "# This is with setting the dblquad to a lower precision\n",
    "spec = dddm.VerneSHM()\n",
    "test = dddm.DetectorSpectrum(1, 1e-40, spec, dddm.experiment['Xe_migd'])\n",
    "test.get_data(poisson = False)"
   ]
  },
  {
   "cell_type": "code",
   "execution_count": null,
   "metadata": {},
   "outputs": [],
   "source": []
  },
  {
   "cell_type": "code",
   "execution_count": null,
   "metadata": {},
   "outputs": [],
   "source": [
    "%%time\n",
    "# This is with setting the dblquad to a default precision\n",
    "spec = dddm.VerneSHM()\n",
    "test = dddm.DetectorSpectrum(1, 1e-40, spec, dddm.experiment['Xe_migd'])\n",
    "test.get_data(poisson = False)"
   ]
  },
  {
   "cell_type": "code",
   "execution_count": null,
   "metadata": {},
   "outputs": [],
   "source": []
  },
  {
   "cell_type": "code",
   "execution_count": null,
   "metadata": {},
   "outputs": [],
   "source": [
    "import DirectDmTargets as dddm"
   ]
  },
  {
   "cell_type": "code",
   "execution_count": null,
   "metadata": {},
   "outputs": [],
   "source": []
  },
  {
   "cell_type": "code",
   "execution_count": null,
   "metadata": {},
   "outputs": [],
   "source": []
  },
  {
   "cell_type": "code",
   "execution_count": null,
   "metadata": {},
   "outputs": [],
   "source": [
    "import wimprates as wr"
   ]
  },
  {
   "cell_type": "code",
   "execution_count": null,
   "metadata": {},
   "outputs": [],
   "source": [
    "import numpy as np\n",
    "import matplotlib.pyplot as plt"
   ]
  },
  {
   "cell_type": "code",
   "execution_count": null,
   "metadata": {},
   "outputs": [],
   "source": [
    "import numericalunits as nu"
   ]
  },
  {
   "cell_type": "code",
   "execution_count": null,
   "metadata": {},
   "outputs": [],
   "source": [
    "from tqdm import tqdm"
   ]
  },
  {
   "cell_type": "code",
   "execution_count": null,
   "metadata": {},
   "outputs": [],
   "source": [
    "from scipy.integrate import quad as scipy_int"
   ]
  },
  {
   "cell_type": "markdown",
   "metadata": {},
   "source": [
    "# Direct detection of Dark matter using different target materials #\n",
    "\n",
    "Author:\n",
    "\n",
    "Joran Angevaare <j.angevaare@nikef.nl>\n",
    "\n",
    "Date:\n",
    "\n",
    "14 october 2019 \n",
    "\n",
    "## Goal ## \n",
    "\n",
    "- Roughly reproduce <https://journals.aps.org/prd/abstract/10.1103/PhysRevD.83.083505>\n",
    "- Update the results thereof with more recent knowledge of the DM-distribution\n",
    "\n",
    "### Approach ###\n",
    "To achieve these goals, we must first get a decent recoil spectrum, that is flexible enough to have different astrophysical parameters. Further, it must also be flexible enough to be able to allow for different analytic functions to be added to the model. For instance, we must be able to incorporate the $\\rm{SHM}^{++}$ as presented here <https://arxiv.org/abs/1810.11468>.\n",
    "\n",
    "When we have a sufficiently flexible model, we want to add in the detector physics, we should therein incorporate at least the following parameters:\n",
    "- target\n",
    "  - material\n",
    "  - cross-section\n",
    "- threshold\n",
    "- background\n",
    "- cut efficiency  \n",
    "- volume\n",
    "- exposure\n",
    "\n",
    "Finally we should perform the inference"
   ]
  },
  {
   "cell_type": "code",
   "execution_count": null,
   "metadata": {},
   "outputs": [],
   "source": [
    "dddm.experiment['Xe']['res'](1)"
   ]
  },
  {
   "cell_type": "markdown",
   "metadata": {},
   "source": [
    "## Detector smearing"
   ]
  },
  {
   "cell_type": "markdown",
   "metadata": {},
   "source": [
    "## Distribution of the DM ##\n",
    "First we need to make a DM-rate spectrum"
   ]
  },
  {
   "cell_type": "code",
   "execution_count": null,
   "metadata": {},
   "outputs": [],
   "source": [
    "use_SHM = dddm.SHM()"
   ]
  },
  {
   "cell_type": "code",
   "execution_count": null,
   "metadata": {},
   "outputs": [],
   "source": [
    "def plot_spectrum(data, color = 'blue', label = 'label'):\n",
    "    plt.errorbar(data['bin_centers'], data['counts'], \n",
    "                xerr=(data['bin_left'] - data['bin_right'])/2,\n",
    "                yerr = np.sqrt(data['counts']),\n",
    "                color = color,\n",
    "                linestyle = 'none',\n",
    "                capsize = 2,\n",
    "                marker = 'o',\n",
    "                label = label\n",
    "                )"
   ]
  },
  {
   "cell_type": "code",
   "execution_count": null,
   "metadata": {},
   "outputs": [],
   "source": [
    "%%time\n",
    "xe_events = dddm.GenSpectrum(50, 1e-45, use_SHM, dddm.experiment['Xe'])\n",
    "xe_events.n_bins = 10\n",
    "xe_galact = xe_events.get_data(poisson = False)\n",
    "xe_events.n_bins"
   ]
  },
  {
   "cell_type": "code",
   "execution_count": null,
   "metadata": {
    "scrolled": true
   },
   "outputs": [],
   "source": [
    "%%time\n",
    "xe_events = dddm.DetectorSpectrum(50, 1e-45, use_SHM, dddm.experiment['Xe'])\n",
    "xe_events.n_bins = 10\n",
    "\n",
    "xe_det = xe_events.get_data(poisson = False)"
   ]
  },
  {
   "cell_type": "code",
   "execution_count": null,
   "metadata": {},
   "outputs": [],
   "source": [
    "plot_spectrum(xe_galact, label = 'un-smeared')\n",
    "plot_spectrum(xe_det, 'red', label = 'det-resolution')\n",
    "# plt.yscale(\"log\")\n",
    "plt.legend()"
   ]
  },
  {
   "cell_type": "code",
   "execution_count": null,
   "metadata": {},
   "outputs": [],
   "source": [
    "from __future__ import print_function\n",
    "from IPython.core import page\n",
    "page.page = print"
   ]
  },
  {
   "cell_type": "code",
   "execution_count": null,
   "metadata": {},
   "outputs": [],
   "source": [
    "!pip install line_profiler --user"
   ]
  },
  {
   "cell_type": "code",
   "execution_count": null,
   "metadata": {},
   "outputs": [],
   "source": [
    "%load_ext line_profiler"
   ]
  },
  {
   "cell_type": "code",
   "execution_count": null,
   "metadata": {},
   "outputs": [],
   "source": [
    "test_class = dddm.DetectorSpectrum(50, 1e-45, use_SHM, dddm.detectors['Xe'])\n",
    "test_class.n_bins = 3\n",
    "test_class.n_bins_result = 15"
   ]
  },
  {
   "cell_type": "code",
   "execution_count": null,
   "metadata": {},
   "outputs": [],
   "source": [
    "test = test_class.get_data\n",
    "%lprun -f test test(poisson = False)"
   ]
  },
  {
   "cell_type": "code",
   "execution_count": null,
   "metadata": {},
   "outputs": [],
   "source": [
    "test = test_class.get_events\n",
    "%lprun -f test test()"
   ]
  },
  {
   "cell_type": "code",
   "execution_count": null,
   "metadata": {},
   "outputs": [],
   "source": [
    "test = test_class.compute_detected_spectrum\n",
    "test_class.n_bins = 10\n",
    "test_class.n_bins_result = 100\n",
    "%lprun -f test test()"
   ]
  },
  {
   "cell_type": "code",
   "execution_count": null,
   "metadata": {},
   "outputs": [],
   "source": [
    "test = test_class.spectrum_simple\n",
    "test_class.n_bins = 10\n",
    "test_class.n_bins_result = 100\n",
    "%lprun -f test test([50, 1e-45])"
   ]
  },
  {
   "cell_type": "code",
   "execution_count": null,
   "metadata": {},
   "outputs": [],
   "source": [
    "test_2 = wr.rate_wimp_std\n",
    "%lprun -f test_2 test_2(np.linspace(1,100,10), 50, 1e-45)"
   ]
  },
  {
   "cell_type": "code",
   "execution_count": null,
   "metadata": {},
   "outputs": [],
   "source": [
    "test_2 = wr.rate_wimp\n",
    "%lprun -f test_2 test_2(np.linspace(1,100,10), 50, 1e-45)"
   ]
  },
  {
   "cell_type": "code",
   "execution_count": null,
   "metadata": {},
   "outputs": [],
   "source": []
  }
 ],
 "metadata": {
  "kernelspec": {
   "display_name": "Python 3",
   "language": "python",
   "name": "python3"
  },
  "language_info": {
   "codemirror_mode": {
    "name": "ipython",
    "version": 3
   },
   "file_extension": ".py",
   "mimetype": "text/x-python",
   "name": "python",
   "nbconvert_exporter": "python",
   "pygments_lexer": "ipython3",
   "version": "3.7.4"
  }
 },
 "nbformat": 4,
 "nbformat_minor": 2
}
