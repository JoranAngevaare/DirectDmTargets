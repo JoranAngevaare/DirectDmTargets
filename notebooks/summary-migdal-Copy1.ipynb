{
 "cells": [
  {
   "cell_type": "code",
   "execution_count": 1,
   "metadata": {},
   "outputs": [
    {
     "name": "stdout",
     "output_type": "stream",
     "text": [
      "calculating effective efficiency for Xe detector done\n",
      "calculating effective efficiency for Ge detector done\n",
      "calculating effective efficiency for Ar detector done\n",
      "calculating effective efficiency for Xe_migd detector done\n",
      "calculating effective efficiency for Ge_migd detector done\n",
      "calculating effective efficiency for Ar_migd detector done\n"
     ]
    }
   ],
   "source": [
    "import DirectDmTargets as dddm"
   ]
  },
  {
   "cell_type": "code",
   "execution_count": 2,
   "metadata": {},
   "outputs": [],
   "source": [
    "import wimprates as wr"
   ]
  },
  {
   "cell_type": "code",
   "execution_count": 3,
   "metadata": {},
   "outputs": [],
   "source": [
    "import numpy as np\n",
    "import matplotlib.pyplot as plt"
   ]
  },
  {
   "cell_type": "code",
   "execution_count": 4,
   "metadata": {},
   "outputs": [],
   "source": [
    "import numericalunits as nu"
   ]
  },
  {
   "cell_type": "code",
   "execution_count": 5,
   "metadata": {},
   "outputs": [],
   "source": [
    "from tqdm import tqdm"
   ]
  },
  {
   "cell_type": "code",
   "execution_count": 6,
   "metadata": {},
   "outputs": [],
   "source": [
    "# from scipy.integrate import quad as scipy_int"
   ]
  },
  {
   "cell_type": "code",
   "execution_count": 7,
   "metadata": {},
   "outputs": [],
   "source": [
    "import pandas as pd"
   ]
  },
  {
   "cell_type": "code",
   "execution_count": 8,
   "metadata": {},
   "outputs": [],
   "source": [
    "import scipy"
   ]
  },
  {
   "cell_type": "code",
   "execution_count": 9,
   "metadata": {},
   "outputs": [
    {
     "name": "stdout",
     "output_type": "stream",
     "text": [
      "DirectDmTargets\n",
      "Version:\t0.2.0\n",
      "Path:\t\t<module 'DirectDmTargets' from 'c:\\\\users\\\\joran\\\\google drive\\\\phd-master\\\\ubuntu-storage\\\\windows-anaconda\\\\dd_dm_targets\\\\DirectDmTargets\\\\__init__.py'>\n",
      "\n",
      "wimprates\n",
      "Version:\t0.3.2\n",
      "Path:\t\t<module 'wimprates' from 'c:\\\\users\\\\joran\\\\google drive\\\\phd-master\\\\ubuntu-storage\\\\windows-anaconda\\\\forked_wimprates\\\\wimprates\\\\__init__.py'>\n",
      "\n",
      "numpy\n",
      "Version:\t1.16.5\n",
      "Path:\t\t<module 'numpy' from 'C:\\\\Users\\\\Joran\\\\programming\\\\Anaconda3\\\\envs\\\\DD_DM\\\\lib\\\\site-packages\\\\numpy\\\\__init__.py'>\n",
      "\n",
      "numericalunits\n",
      "Version:\t1.23\n",
      "Path:\t\t<module 'numericalunits' from 'C:\\\\Users\\\\Joran\\\\programming\\\\Anaconda3\\\\envs\\\\DD_DM\\\\lib\\\\site-packages\\\\numericalunits.py'>\n",
      "\n",
      "scipy\n",
      "Version:\t1.3.1\n",
      "Path:\t\t<module 'scipy' from 'C:\\\\Users\\\\Joran\\\\programming\\\\Anaconda3\\\\envs\\\\DD_DM\\\\lib\\\\site-packages\\\\scipy\\\\__init__.py'>\n",
      "\n",
      "pandas\n",
      "Version:\t0.25.2\n",
      "Path:\t\t<module 'pandas' from 'C:\\\\Users\\\\Joran\\\\programming\\\\Anaconda3\\\\envs\\\\DD_DM\\\\lib\\\\site-packages\\\\pandas\\\\__init__.py'>\n",
      "\n"
     ]
    }
   ],
   "source": [
    "for module in [dddm, wr, np, nu, scipy, pd]:\n",
    "    print(f'''{module.__name__}\\nVersion:\\t{module.__version__}\\nPath:\\t\\t{module}\\n''')"
   ]
  },
  {
   "cell_type": "markdown",
   "metadata": {},
   "source": [
    "# Direct detection of Dark matter using different target materials #\n",
    "\n",
    "Author:\n",
    "\n",
    "Joran Angevaare <j.angevaare@nikef.nl>\n",
    "\n",
    "Date:\n",
    "\n",
    "14 october 2019 \n",
    "\n",
    "## Goal ## \n",
    "\n",
    "- Roughly reproduce <https://journals.aps.org/prd/abstract/10.1103/PhysRevD.83.083505>\n",
    "- Update the results thereof with more recent knowledge of the DM-distribution\n",
    "\n",
    "### Approach ###\n",
    "To achieve these goals, we must first get a decent recoil spectrum, that is flexible enough to have different astrophysical parameters. Further, it must also be flexible enough to be able to allow for different analytic functions to be added to the model. For instance, we must be able to incorporate the $\\rm{SHM}^{++}$ as presented here <https://arxiv.org/abs/1810.11468>.\n",
    "\n",
    "When we have a sufficiently flexible model, we want to add in the detector physics, we should therein incorporate at least the following parameters:\n",
    "- target\n",
    "  - material\n",
    "  - cross-section\n",
    "- threshold\n",
    "- background\n",
    "- cut efficiency  \n",
    "- volume\n",
    "- exposure\n",
    "\n",
    "Finally we should perform the inference"
   ]
  },
  {
   "cell_type": "markdown",
   "metadata": {},
   "source": [
    "## HALO model ##\n",
    "\n"
   ]
  },
  {
   "cell_type": "code",
   "execution_count": 39,
   "metadata": {},
   "outputs": [
    {
     "name": "stdout",
     "output_type": "stream",
     "text": [
      "StatModel::\tinitialized for Xe_migd detector. See print(stat_model) for default settings\n",
      "Fitting for parameters:\n",
      "['log_mass', 'log_cross_section']\n"
     ]
    }
   ],
   "source": [
    "fit_class = dddm.NestleStatModel('Xe_migd')\n",
    "fit_class.tol = 0.8\n",
    "# fit_class.nwalkers = 5\n",
    "# fit_class.nsteps = 10\n",
    "fit_class.nlive = 10\n",
    "fit_class.set_prior('migdal')\n",
    "print(f\"Fitting for parameters:\\n{fit_class.fit_parameters}\")"
   ]
  },
  {
   "cell_type": "code",
   "execution_count": 40,
   "metadata": {},
   "outputs": [
    {
     "name": "stdout",
     "output_type": "stream",
     "text": [
      "StatModel::\ttaking log10 of mass of 2\n",
      "StatModel::\tre-evaluate benchmark\n"
     ]
    }
   ],
   "source": [
    "fit_class.set_benchmark(mw = 2, sigma = -40)"
   ]
  },
  {
   "cell_type": "code",
   "execution_count": 43,
   "metadata": {},
   "outputs": [
    {
     "data": {
      "image/png": "[encoded data removed]",
      "text/plain": [
       "<Figure size 432x288 with 1 Axes>"
      ]
     },
     "metadata": {
      "needs_background": "light"
     },
     "output_type": "display_data"
    }
   ],
   "source": [
    "dddm.plot_spectrum(fit_class.check_spectrum())"
   ]
  },
  {
   "cell_type": "code",
   "execution_count": 44,
   "metadata": {
    "scrolled": false
   },
   "outputs": [
    {
     "name": "stdout",
     "output_type": "stream",
     "text": [
      "run_nestle::\tstart_fit for 2 parameters\n",
      "run_nestle::\tfit_done in 3260 s (0.9 h)\n",
      "\t log_mass  0.11 +/-  0.10\n",
      "\t mass 1.27 +/- 0.29\n",
      "\t log_cross_section -39.12 +/-  0.53\n",
      "\t cross_section 7.64e-40 +/- 9.4e-40\n"
     ]
    },
    {
     "data": {
      "text/plain": [
       "{'nestle_nposterior': 19,\n",
       " 'nestle_time': 3260,\n",
       " 'nestle_logZ': -26.21247932465108,\n",
       " 'nestle_logZerr': 1.2950966420990793,\n",
       " 'summary': 'niter: 182\\nncall: 223\\nnsamples: 192\\nlogz: -26.212 +/-  1.295\\nh: 16.773',\n",
       " 'log_mass_fit_res': ' 0.11 +/-  0.10',\n",
       " 'mass_fit_res': '1.27 +/- 0.29',\n",
       " 'log_cross_section_fit_res': '-39.12 +/-  0.53',\n",
       " 'cross_section_fit_res': '7.64e-40 +/- 9.4e-40'}"
      ]
     },
     "execution_count": 44,
     "metadata": {},
     "output_type": "execute_result"
    }
   ],
   "source": [
    "fit_class.run_nestle()\n",
    "fit_class.get_summary()"
   ]
  },
  {
   "cell_type": "code",
   "execution_count": 45,
   "metadata": {},
   "outputs": [
    {
     "name": "stdout",
     "output_type": "stream",
     "text": [
      "open_save_dir::\tusing results/nestle1/\n",
      "\t log_mass  0.11 +/-  0.10\n",
      "\t mass 1.27 +/- 0.29\n",
      "\t log_cross_section -39.12 +/-  0.53\n",
      "\t cross_section 7.64e-40 +/- 9.4e-40\n",
      "save_results::\tdone_saving\n",
      "load_nestle_samples::\tloading results/nestle1/\n",
      "load_nestle_samples::\tdone loading\n",
      "access result with:\n",
      "['config', 'res_dict', 'h', 'logl', 'logvol', 'logz', 'logzerr', 'ncall', 'niter', 'samples', 'weights']\n"
     ]
    },
    {
     "name": "stderr",
     "output_type": "stream",
     "text": [
      "WARNING:root:Too few points to create valid contours\n"
     ]
    },
    {
     "data": {
      "image/png": "[encoded data removed]",
      "text/plain": [
       "<Figure size 396x396 with 4 Axes>"
      ]
     },
     "metadata": {
      "needs_background": "light"
     },
     "output_type": "display_data"
    }
   ],
   "source": [
    "fit_class.show_corner()\n"
   ]
  },
  {
   "cell_type": "code",
   "execution_count": 55,
   "metadata": {},
   "outputs": [
    {
     "name": "stdout",
     "output_type": "stream",
     "text": [
      "StatModel::\tinitialized for Xe_migd detector. See print(stat_model) for default settings\n",
      "Fitting for parameters:\n",
      "['log_mass', 'log_cross_section']\n"
     ]
    }
   ],
   "source": [
    "fit_class = dddm.NestleStatModel('Xe_migd')\n",
    "fit_class.tol = 0.8\n",
    "# fit_class.nwalkers = 5\n",
    "# fit_class.nsteps = 10\n",
    "fit_class.nlive = 100\n",
    "fit_class.set_prior('migdal')\n",
    "print(f\"Fitting for parameters:\\n{fit_class.fit_parameters}\")"
   ]
  },
  {
   "cell_type": "code",
   "execution_count": 56,
   "metadata": {},
   "outputs": [
    {
     "name": "stdout",
     "output_type": "stream",
     "text": [
      "StatModel::\ttaking log10 of mass of 2\n",
      "StatModel::\tre-evaluate benchmark\n"
     ]
    }
   ],
   "source": [
    "fit_class.set_benchmark(mw = 2, sigma = -41)"
   ]
  },
  {
   "cell_type": "code",
   "execution_count": 57,
   "metadata": {},
   "outputs": [
    {
     "data": {
      "image/png": "[encoded data removed]",
      "text/plain": [
       "<Figure size 432x288 with 1 Axes>"
      ]
     },
     "metadata": {
      "needs_background": "light"
     },
     "output_type": "display_data"
    }
   ],
   "source": [
    "dddm.plot_spectrum(fit_class.check_spectrum())"
   ]
  },
  {
   "cell_type": "code",
   "execution_count": null,
   "metadata": {},
   "outputs": [],
   "source": [
    "fit_class.config"
   ]
  },
  {
   "cell_type": "code",
   "execution_count": 58,
   "metadata": {},
   "outputs": [
    {
     "name": "stdout",
     "output_type": "stream",
     "text": [
      "run_nestle::\tstart_fit for 2 parameters\n",
      "run_nestle::\tfit_done in 48362 s (13.4 h)\n",
      "\t log_mass -0.12 +/-  0.11\n",
      "\t mass 0.759 +/- 0.2\n",
      "\t log_cross_section -38.64 +/-  1.12\n",
      "\t cross_section 2.29e-39 +/- 5.9e-39\n"
     ]
    },
    {
     "data": {
      "text/plain": [
       "{'nestle_nposterior': 163,\n",
       " 'nestle_time': 48362,\n",
       " 'nestle_logZ': -21.02034253250405,\n",
       " 'nestle_logZerr': 0.40821572942844175,\n",
       " 'summary': 'niter: 1778\\nncall: 2511\\nnsamples: 1878\\nlogz: -21.020 +/-  0.408\\nh: 16.664',\n",
       " 'log_mass_fit_res': '-0.12 +/-  0.11',\n",
       " 'mass_fit_res': '0.759 +/- 0.2',\n",
       " 'log_cross_section_fit_res': '-38.64 +/-  1.12',\n",
       " 'cross_section_fit_res': '2.29e-39 +/- 5.9e-39'}"
      ]
     },
     "execution_count": 58,
     "metadata": {},
     "output_type": "execute_result"
    }
   ],
   "source": [
    "fit_class.run_nestle()\n",
    "fit_class.get_summary()"
   ]
  },
  {
   "cell_type": "code",
   "execution_count": 59,
   "metadata": {},
   "outputs": [
    {
     "name": "stdout",
     "output_type": "stream",
     "text": [
      "open_save_dir::\tusing results/nestle3/\n",
      "\t log_mass -0.12 +/-  0.11\n",
      "\t mass 0.759 +/- 0.2\n",
      "\t log_cross_section -38.64 +/-  1.12\n",
      "\t cross_section 2.29e-39 +/- 5.9e-39\n",
      "save_results::\tdone_saving\n",
      "load_nestle_samples::\tloading results/nestle3/\n",
      "load_nestle_samples::\tdone loading\n",
      "access result with:\n",
      "['config', 'res_dict', 'h', 'logl', 'logvol', 'logz', 'logzerr', 'ncall', 'niter', 'samples', 'weights']\n"
     ]
    },
    {
     "data": {
      "image/png": "[encoded data removed]",
      "text/plain": [
       "<Figure size 396x396 with 4 Axes>"
      ]
     },
     "metadata": {
      "needs_background": "light"
     },
     "output_type": "display_data"
    }
   ],
   "source": [
    "fit_class.show_corner()\n"
   ]
  },
  {
   "cell_type": "code",
   "execution_count": null,
   "metadata": {},
   "outputs": [],
   "source": []
  },
  {
   "cell_type": "code",
   "execution_count": null,
   "metadata": {},
   "outputs": [],
   "source": []
  },
  {
   "cell_type": "code",
   "execution_count": null,
   "metadata": {},
   "outputs": [],
   "source": []
  },
  {
   "cell_type": "code",
   "execution_count": null,
   "metadata": {},
   "outputs": [],
   "source": []
  },
  {
   "cell_type": "code",
   "execution_count": null,
   "metadata": {},
   "outputs": [],
   "source": []
  },
  {
   "cell_type": "code",
   "execution_count": 46,
   "metadata": {},
   "outputs": [],
   "source": [
    "# fit_class = dddm.MCMCStatModel('Xe_migd')\n",
    "# # fit_class.tol = 0.8\n",
    "# fit_class.nwalkers = 5\n",
    "# fit_class.nsteps = 10\n",
    "# # fit_class.nlive = 5\n",
    "# fit_class.set_prior('migdal')\n",
    "# print(f\"Fitting for parameters:\\n{fit_class.fit_parameters}\")"
   ]
  },
  {
   "cell_type": "code",
   "execution_count": 47,
   "metadata": {},
   "outputs": [],
   "source": [
    "# fit_class.set_benchmark(mw = 1, sigma = -35)"
   ]
  },
  {
   "cell_type": "code",
   "execution_count": 48,
   "metadata": {},
   "outputs": [],
   "source": [
    "# fit_class.config"
   ]
  },
  {
   "cell_type": "code",
   "execution_count": 49,
   "metadata": {},
   "outputs": [],
   "source": [
    "# fit_class.check_spectrum()"
   ]
  },
  {
   "cell_type": "code",
   "execution_count": null,
   "metadata": {},
   "outputs": [],
   "source": []
  },
  {
   "cell_type": "code",
   "execution_count": null,
   "metadata": {},
   "outputs": [],
   "source": [
    "# fit_class.run_emcee()"
   ]
  },
  {
   "cell_type": "code",
   "execution_count": null,
   "metadata": {},
   "outputs": [],
   "source": [
    "# fit_class.show_walkers()"
   ]
  },
  {
   "cell_type": "code",
   "execution_count": 13,
   "metadata": {},
   "outputs": [],
   "source": [
    "# import os"
   ]
  },
  {
   "cell_type": "code",
   "execution_count": null,
   "metadata": {},
   "outputs": [],
   "source": [
    "# os.system(\"cd\")"
   ]
  },
  {
   "cell_type": "code",
   "execution_count": null,
   "metadata": {},
   "outputs": [],
   "source": []
  },
  {
   "cell_type": "code",
   "execution_count": null,
   "metadata": {},
   "outputs": [],
   "source": []
  },
  {
   "cell_type": "code",
   "execution_count": null,
   "metadata": {},
   "outputs": [],
   "source": [
    "# fit_class.run_nestle()\n",
    "# fit_class.get_summary()"
   ]
  },
  {
   "cell_type": "code",
   "execution_count": null,
   "metadata": {},
   "outputs": [],
   "source": [
    "# fit_class.show_corner()"
   ]
  },
  {
   "cell_type": "code",
   "execution_count": null,
   "metadata": {},
   "outputs": [],
   "source": [
    "assert False"
   ]
  },
  {
   "cell_type": "code",
   "execution_count": 70,
   "metadata": {},
   "outputs": [
    {
     "name": "stdout",
     "output_type": "stream",
     "text": [
      "StatModel::\tinitialized for Xe_migd detector. See print(stat_model) for default settings\n",
      "Fitting for parameters:\n",
      "['log_mass', 'log_cross_section', 'v_0', 'v_esc', 'density']\n"
     ]
    }
   ],
   "source": [
    "fit_unconstrained = dddm.NestleStatModel('Xe_migd')\n",
    "fit_unconstrained.tol = 0.8\n",
    "fit_unconstrained.nlive = 200\n",
    "fit_unconstrained.set_prior('migdal')\n",
    "fit_unconstrained.set_fit_parameters(fit_unconstrained.known_parameters)\n",
    "print(f\"Fitting for parameters:\\n{fit_unconstrained.fit_parameters}\")"
   ]
  },
  {
   "cell_type": "code",
   "execution_count": 71,
   "metadata": {},
   "outputs": [
    {
     "name": "stdout",
     "output_type": "stream",
     "text": [
      "StatModel::\ttaking log10 of mass of 2\n",
      "StatModel::\tre-evaluate benchmark\n"
     ]
    }
   ],
   "source": [
    "fit_unconstrained.set_benchmark(mw = 2, sigma = -40)"
   ]
  },
  {
   "cell_type": "code",
   "execution_count": null,
   "metadata": {},
   "outputs": [
    {
     "name": "stdout",
     "output_type": "stream",
     "text": [
      "run_nestle::\tstart_fit for 5 parameters\n"
     ]
    }
   ],
   "source": [
    "fit_unconstrained.run_nestle()\n",
    "fit_unconstrained.get_summary()"
   ]
  },
  {
   "cell_type": "code",
   "execution_count": null,
   "metadata": {},
   "outputs": [],
   "source": [
    "fit_unconstrained.show_corner()"
   ]
  },
  {
   "cell_type": "code",
   "execution_count": null,
   "metadata": {},
   "outputs": [],
   "source": [
    "fit_unconstrained.get_summary()"
   ]
  },
  {
   "cell_type": "code",
   "execution_count": null,
   "metadata": {},
   "outputs": [],
   "source": []
  },
  {
   "cell_type": "code",
   "execution_count": null,
   "metadata": {},
   "outputs": [],
   "source": []
  },
  {
   "cell_type": "code",
   "execution_count": null,
   "metadata": {},
   "outputs": [],
   "source": []
  }
 ],
 "metadata": {
  "kernelspec": {
   "display_name": "Python 3",
   "language": "python",
   "name": "python3"
  },
  "language_info": {
   "codemirror_mode": {
    "name": "ipython",
    "version": 3
   },
   "file_extension": ".py",
   "mimetype": "text/x-python",
   "name": "python",
   "nbconvert_exporter": "python",
   "pygments_lexer": "ipython3",
   "version": "3.7.4"
  }
 },
 "nbformat": 4,
 "nbformat_minor": 2
}
