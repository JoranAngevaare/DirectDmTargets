{
 "cells": [
  {
   "cell_type": "code",
   "execution_count": 1,
   "metadata": {},
   "outputs": [
    {
     "name": "stdout",
     "output_type": "stream",
     "text": [
      "calculating effective efficiency for Xe detector done\n",
      "calculating effective efficiency for Ge detector done\n",
      "calculating effective efficiency for Ar detector done\n",
      "calculating effective efficiency for Xe_migd detector done\n",
      "calculating effective efficiency for Ge_migd detector done\n",
      "calculating effective efficiency for Ar_migd detector done\n"
     ]
    }
   ],
   "source": [
    "import DirectDmTargets as dddm"
   ]
  },
  {
   "cell_type": "code",
   "execution_count": 2,
   "metadata": {},
   "outputs": [],
   "source": [
    "import wimprates as wr"
   ]
  },
  {
   "cell_type": "code",
   "execution_count": 3,
   "metadata": {},
   "outputs": [],
   "source": [
    "import numpy as np\n",
    "import matplotlib.pyplot as plt"
   ]
  },
  {
   "cell_type": "code",
   "execution_count": 4,
   "metadata": {},
   "outputs": [],
   "source": [
    "import numericalunits as nu"
   ]
  },
  {
   "cell_type": "code",
   "execution_count": 5,
   "metadata": {},
   "outputs": [],
   "source": [
    "from tqdm import tqdm"
   ]
  },
  {
   "cell_type": "code",
   "execution_count": 6,
   "metadata": {},
   "outputs": [],
   "source": [
    "from scipy.integrate import quad as scipy_int"
   ]
  },
  {
   "cell_type": "code",
   "execution_count": 7,
   "metadata": {},
   "outputs": [],
   "source": [
    "import pandas as pd"
   ]
  },
  {
   "cell_type": "code",
   "execution_count": 8,
   "metadata": {},
   "outputs": [],
   "source": [
    "import scipy"
   ]
  },
  {
   "cell_type": "code",
   "execution_count": 9,
   "metadata": {},
   "outputs": [
    {
     "name": "stdout",
     "output_type": "stream",
     "text": [
      "DirectDmTargets\n",
      "Version:\t0.2.0\n",
      "Path:\t\t<module 'DirectDmTargets' from 'c:\\\\users\\\\joran\\\\google drive\\\\phd-master\\\\ubuntu-storage\\\\windows-anaconda\\\\dd_dm_targets\\\\DirectDmTargets\\\\__init__.py'>\n",
      "\n",
      "wimprates\n",
      "Version:\t0.3.2\n",
      "Path:\t\t<module 'wimprates' from 'c:\\\\users\\\\joran\\\\google drive\\\\phd-master\\\\ubuntu-storage\\\\windows-anaconda\\\\forked_wimprates\\\\wimprates\\\\__init__.py'>\n",
      "\n",
      "numpy\n",
      "Version:\t1.16.5\n",
      "Path:\t\t<module 'numpy' from 'C:\\\\Users\\\\Joran\\\\programming\\\\Anaconda3\\\\envs\\\\DD_DM\\\\lib\\\\site-packages\\\\numpy\\\\__init__.py'>\n",
      "\n",
      "numericalunits\n",
      "Version:\t1.23\n",
      "Path:\t\t<module 'numericalunits' from 'C:\\\\Users\\\\Joran\\\\programming\\\\Anaconda3\\\\envs\\\\DD_DM\\\\lib\\\\site-packages\\\\numericalunits.py'>\n",
      "\n",
      "scipy\n",
      "Version:\t1.3.1\n",
      "Path:\t\t<module 'scipy' from 'C:\\\\Users\\\\Joran\\\\programming\\\\Anaconda3\\\\envs\\\\DD_DM\\\\lib\\\\site-packages\\\\scipy\\\\__init__.py'>\n",
      "\n",
      "pandas\n",
      "Version:\t0.25.2\n",
      "Path:\t\t<module 'pandas' from 'C:\\\\Users\\\\Joran\\\\programming\\\\Anaconda3\\\\envs\\\\DD_DM\\\\lib\\\\site-packages\\\\pandas\\\\__init__.py'>\n",
      "\n"
     ]
    }
   ],
   "source": [
    "for module in [dddm, wr, np, nu, scipy, pd]:\n",
    "    print(f'''{module.__name__}\\nVersion:\\t{module.__version__}\\nPath:\\t\\t{module}\\n''')"
   ]
  },
  {
   "cell_type": "markdown",
   "metadata": {},
   "source": [
    "# Direct detection of Dark matter using different target materials #\n",
    "\n",
    "Author:\n",
    "\n",
    "Joran Angevaare <j.angevaare@nikef.nl>\n",
    "\n",
    "Date:\n",
    "\n",
    "14 october 2019 \n",
    "\n",
    "## Goal ## \n",
    "\n",
    "- Roughly reproduce <https://journals.aps.org/prd/abstract/10.1103/PhysRevD.83.083505>\n",
    "- Update the results thereof with more recent knowledge of the DM-distribution\n",
    "\n",
    "### Approach ###\n",
    "To achieve these goals, we must first get a decent recoil spectrum, that is flexible enough to have different astrophysical parameters. Further, it must also be flexible enough to be able to allow for different analytic functions to be added to the model. For instance, we must be able to incorporate the $\\rm{SHM}^{++}$ as presented here <https://arxiv.org/abs/1810.11468>.\n",
    "\n",
    "When we have a sufficiently flexible model, we want to add in the detector physics, we should therein incorporate at least the following parameters:\n",
    "- target\n",
    "  - material\n",
    "  - cross-section\n",
    "- threshold\n",
    "- background\n",
    "- cut efficiency  \n",
    "- volume\n",
    "- exposure\n",
    "\n",
    "Finally we should perform the inference"
   ]
  },
  {
   "cell_type": "markdown",
   "metadata": {},
   "source": [
    "## HALO model ##\n",
    "\n"
   ]
  },
  {
   "cell_type": "code",
   "execution_count": 28,
   "metadata": {},
   "outputs": [
    {
     "name": "stdout",
     "output_type": "stream",
     "text": [
      "StatModel::\tinitialized for Xe_migd detector. See print(stat_model) for default settings\n",
      "Fitting for parameters:\n",
      "['log_mass', 'log_cross_section']\n"
     ]
    }
   ],
   "source": [
    "fit_class = dddm.NestleStatModel('Xe_migd')\n",
    "fit_class.tol = 0.8\n",
    "# fit_class.nwalkers = 5\n",
    "# fit_class.nsteps = 10\n",
    "fit_class.nlive = 10\n",
    "fit_class.set_prior('migdal')\n",
    "print(f\"Fitting for parameters:\\n{fit_class.fit_parameters}\")"
   ]
  },
  {
   "cell_type": "code",
   "execution_count": 33,
   "metadata": {},
   "outputs": [
    {
     "name": "stdout",
     "output_type": "stream",
     "text": [
      "StatModel::\ttaking log10 of mass of 2\n",
      "StatModel::\tre-evaluate benchmark\n"
     ]
    }
   ],
   "source": [
    "fit_class.set_benchmark(mw = 2, sigma = -35)"
   ]
  },
  {
   "cell_type": "code",
   "execution_count": 34,
   "metadata": {},
   "outputs": [
    {
     "data": {
      "text/plain": [
       "{'detector': 'Xe_migd',\n",
       " 'poisson': False,\n",
       " 'n_energy_bins': 10,\n",
       " 'prior': {'log_mass': {'range': [-2, 1],\n",
       "   'prior_type': 'flat',\n",
       "   'param': [-2, 1],\n",
       "   'dist': <function DirectDmTargets.statistics.get_priors.<locals>.<lambda>(x)>},\n",
       "  'log_cross_section': {'range': [-40, -25],\n",
       "   'prior_type': 'flat',\n",
       "   'param': [-40, -25],\n",
       "   'dist': <function DirectDmTargets.statistics.get_priors.<locals>.<lambda>(x)>},\n",
       "  'density': {'range': [0.001, 0.9],\n",
       "   'prior_type': 'gauss',\n",
       "   'mean': 0.55,\n",
       "   'std': 0.1,\n",
       "   'param': (0.55, 0.1),\n",
       "   'dist': <function DirectDmTargets.statistics.get_priors.<locals>.<lambda>(x)>},\n",
       "  'v_0': {'range': [80, 380],\n",
       "   'prior_type': 'gauss',\n",
       "   'mean': 233,\n",
       "   'std': 3,\n",
       "   'param': (233, 3),\n",
       "   'dist': <function DirectDmTargets.statistics.get_priors.<locals>.<lambda>(x)>},\n",
       "  'v_esc': {'range': [379, 709],\n",
       "   'prior_type': 'gauss',\n",
       "   'mean': 528,\n",
       "   'std': 24.5,\n",
       "   'param': (528, 24.5),\n",
       "   'dist': <function DirectDmTargets.statistics.get_priors.<locals>.<lambda>(x)>},\n",
       "  'k': {'range': [0.5, 3.5],\n",
       "   'prior_type': 'flat',\n",
       "   'param': [0.5, 3.5],\n",
       "   'dist': <function DirectDmTargets.statistics.get_priors.<locals>.<lambda>(x)>}},\n",
       " 'v_0': 233,\n",
       " 'v_esc': 528,\n",
       " 'density': 0.55,\n",
       " 'mw': 0.3010299956639812,\n",
       " 'sigma': -35,\n",
       " 'halo_model': <DirectDmTargets.halo.SHM at 0x1e94b6ce288>,\n",
       " 'spectrum_class': DirectDmTargets.detector.DetectorSpectrum,\n",
       " 'det_params': {'material': 'Xe',\n",
       "  'type': 'migdal',\n",
       "  'exp': 25,\n",
       "  'cut_eff': 0.8,\n",
       "  'nr_eff': 0.5,\n",
       "  'E_thr': 1.4,\n",
       "  'location': 'XENON',\n",
       "  'res': <function DirectDmTargets.detector.det_res_XENON1T(E)>,\n",
       "  'bg_func': <function DirectDmTargets.detector.migdal_background_XENON1T(e_min, e_max, nbins)>,\n",
       "  'exp_eff': 10.0,\n",
       "  'name': 'Xe_migd'},\n",
       " 'start': datetime.datetime(2019, 12, 15, 23, 56, 4, 87187),\n",
       " 'notes': 'default'}"
      ]
     },
     "execution_count": 34,
     "metadata": {},
     "output_type": "execute_result"
    }
   ],
   "source": [
    "fit_class.config.spect"
   ]
  },
  {
   "cell_type": "code",
   "execution_count": 35,
   "metadata": {},
   "outputs": [
    {
     "data": {
      "image/png": "[encoded data removed]",
      "text/plain": [
       "<Figure size 432x288 with 1 Axes>"
      ]
     },
     "metadata": {
      "needs_background": "light"
     },
     "output_type": "display_data"
    }
   ],
   "source": [
    "dddm.plot_spectrum(fit_class.check_spectrum())"
   ]
  },
  {
   "cell_type": "code",
   "execution_count": null,
   "metadata": {
    "scrolled": false
   },
   "outputs": [
    {
     "name": "stdout",
     "output_type": "stream",
     "text": [
      "run_nestle::\tstart_fit for 2 parameters\n"
     ]
    }
   ],
   "source": [
    "fit_class.run_nestle()\n",
    "fit_class.get_summary()"
   ]
  },
  {
   "cell_type": "code",
   "execution_count": null,
   "metadata": {},
   "outputs": [],
   "source": []
  },
  {
   "cell_type": "code",
   "execution_count": null,
   "metadata": {},
   "outputs": [],
   "source": []
  },
  {
   "cell_type": "code",
   "execution_count": 15,
   "metadata": {},
   "outputs": [
    {
     "name": "stdout",
     "output_type": "stream",
     "text": [
      "StatModel::\tinitialized for Xe_migd detector. See print(stat_model) for default settings\n",
      "StatModel::\ttaking log10 of mass of 1\n",
      "StatModel::\tre-evaluate benchmark\n",
      "Fitting for parameters:\n",
      "['log_mass', 'log_cross_section']\n"
     ]
    }
   ],
   "source": [
    "fit_class = dddm.MCMCStatModel('Xe_migd')\n",
    "# fit_class.tol = 0.8\n",
    "fit_class.nwalkers = 5\n",
    "fit_class.nsteps = 10\n",
    "# fit_class.nlive = 5\n",
    "fit_class.set_prior('migdal')\n",
    "print(f\"Fitting for parameters:\\n{fit_class.fit_parameters}\")"
   ]
  },
  {
   "cell_type": "code",
   "execution_count": 18,
   "metadata": {},
   "outputs": [
    {
     "name": "stdout",
     "output_type": "stream",
     "text": [
      "StatModel::\ttaking log10 of mass of 1\n",
      "StatModel::\tre-evaluate benchmark\n"
     ]
    }
   ],
   "source": [
    "fit_class.set_benchmark(mw = 1, sigma = -35)"
   ]
  },
  {
   "cell_type": "code",
   "execution_count": 21,
   "metadata": {},
   "outputs": [
    {
     "data": {
      "text/plain": [
       "{'detector': 'Xe_migd',\n",
       " 'poisson': False,\n",
       " 'n_energy_bins': 10,\n",
       " 'prior': {'log_mass': {'range': [-2, 1],\n",
       "   'prior_type': 'flat',\n",
       "   'param': [-2, 1],\n",
       "   'dist': <function DirectDmTargets.statistics.get_priors.<locals>.<lambda>(x)>},\n",
       "  'log_cross_section': {'range': [-40, -25],\n",
       "   'prior_type': 'flat',\n",
       "   'param': [-40, -25],\n",
       "   'dist': <function DirectDmTargets.statistics.get_priors.<locals>.<lambda>(x)>},\n",
       "  'density': {'range': [0.001, 0.9],\n",
       "   'prior_type': 'gauss',\n",
       "   'mean': 0.55,\n",
       "   'std': 0.1,\n",
       "   'param': (0.55, 0.1),\n",
       "   'dist': <function DirectDmTargets.statistics.get_priors.<locals>.<lambda>(x)>},\n",
       "  'v_0': {'range': [80, 380],\n",
       "   'prior_type': 'gauss',\n",
       "   'mean': 233,\n",
       "   'std': 3,\n",
       "   'param': (233, 3),\n",
       "   'dist': <function DirectDmTargets.statistics.get_priors.<locals>.<lambda>(x)>},\n",
       "  'v_esc': {'range': [379, 709],\n",
       "   'prior_type': 'gauss',\n",
       "   'mean': 528,\n",
       "   'std': 24.5,\n",
       "   'param': (528, 24.5),\n",
       "   'dist': <function DirectDmTargets.statistics.get_priors.<locals>.<lambda>(x)>},\n",
       "  'k': {'range': [0.5, 3.5],\n",
       "   'prior_type': 'flat',\n",
       "   'param': [0.5, 3.5],\n",
       "   'dist': <function DirectDmTargets.statistics.get_priors.<locals>.<lambda>(x)>}},\n",
       " 'v_0': 233,\n",
       " 'v_esc': 528,\n",
       " 'density': 0.55,\n",
       " 'mw': 0.0,\n",
       " 'sigma': -35,\n",
       " 'halo_model': <DirectDmTargets.halo.SHM at 0x1e94a097b48>,\n",
       " 'spectrum_class': DirectDmTargets.detector.DetectorSpectrum,\n",
       " 'det_params': {'material': 'Xe',\n",
       "  'type': 'migdal',\n",
       "  'exp': 25,\n",
       "  'cut_eff': 0.8,\n",
       "  'nr_eff': 0.5,\n",
       "  'E_thr': 1.4,\n",
       "  'location': 'XENON',\n",
       "  'res': <function DirectDmTargets.detector.det_res_XENON1T(E)>,\n",
       "  'bg_func': <function DirectDmTargets.detector.migdal_background_XENON1T(e_min, e_max, nbins)>,\n",
       "  'exp_eff': 10.0,\n",
       "  'name': 'Xe_migd'},\n",
       " 'start': datetime.datetime(2019, 12, 15, 23, 48, 20, 750703),\n",
       " 'notes': 'default'}"
      ]
     },
     "execution_count": 21,
     "metadata": {},
     "output_type": "execute_result"
    }
   ],
   "source": [
    "fit_class.config"
   ]
  },
  {
   "cell_type": "code",
   "execution_count": 20,
   "metadata": {},
   "outputs": [
    {
     "data": {
      "text/html": [
       "<div>\n",
       "<style scoped>\n",
       "    .dataframe tbody tr th:only-of-type {\n",
       "        vertical-align: middle;\n",
       "    }\n",
       "\n",
       "    .dataframe tbody tr th {\n",
       "        vertical-align: top;\n",
       "    }\n",
       "\n",
       "    .dataframe thead th {\n",
       "        text-align: right;\n",
       "    }\n",
       "</style>\n",
       "<table border=\"1\" class=\"dataframe\">\n",
       "  <thead>\n",
       "    <tr style=\"text-align: right;\">\n",
       "      <th></th>\n",
       "      <th>counts</th>\n",
       "      <th>bin_centers</th>\n",
       "      <th>bin_left</th>\n",
       "      <th>bin_right</th>\n",
       "    </tr>\n",
       "  </thead>\n",
       "  <tbody>\n",
       "    <tr>\n",
       "      <th>0</th>\n",
       "      <td>2.740516e+04</td>\n",
       "      <td>0.5</td>\n",
       "      <td>0.0</td>\n",
       "      <td>1.0</td>\n",
       "    </tr>\n",
       "    <tr>\n",
       "      <th>1</th>\n",
       "      <td>6.606243e+04</td>\n",
       "      <td>1.5</td>\n",
       "      <td>1.0</td>\n",
       "      <td>2.0</td>\n",
       "    </tr>\n",
       "    <tr>\n",
       "      <th>2</th>\n",
       "      <td>3.739915e+04</td>\n",
       "      <td>2.5</td>\n",
       "      <td>2.0</td>\n",
       "      <td>3.0</td>\n",
       "    </tr>\n",
       "    <tr>\n",
       "      <th>3</th>\n",
       "      <td>5.964366e+03</td>\n",
       "      <td>3.5</td>\n",
       "      <td>3.0</td>\n",
       "      <td>4.0</td>\n",
       "    </tr>\n",
       "    <tr>\n",
       "      <th>4</th>\n",
       "      <td>3.937656e+02</td>\n",
       "      <td>4.5</td>\n",
       "      <td>4.0</td>\n",
       "      <td>5.0</td>\n",
       "    </tr>\n",
       "    <tr>\n",
       "      <th>5</th>\n",
       "      <td>1.599207e+01</td>\n",
       "      <td>5.5</td>\n",
       "      <td>5.0</td>\n",
       "      <td>6.0</td>\n",
       "    </tr>\n",
       "    <tr>\n",
       "      <th>6</th>\n",
       "      <td>4.225374e-01</td>\n",
       "      <td>6.5</td>\n",
       "      <td>6.0</td>\n",
       "      <td>7.0</td>\n",
       "    </tr>\n",
       "    <tr>\n",
       "      <th>7</th>\n",
       "      <td>6.598478e-03</td>\n",
       "      <td>7.5</td>\n",
       "      <td>7.0</td>\n",
       "      <td>8.0</td>\n",
       "    </tr>\n",
       "    <tr>\n",
       "      <th>8</th>\n",
       "      <td>5.616288e-05</td>\n",
       "      <td>8.5</td>\n",
       "      <td>8.0</td>\n",
       "      <td>9.0</td>\n",
       "    </tr>\n",
       "    <tr>\n",
       "      <th>9</th>\n",
       "      <td>2.492381e-07</td>\n",
       "      <td>9.5</td>\n",
       "      <td>9.0</td>\n",
       "      <td>10.0</td>\n",
       "    </tr>\n",
       "  </tbody>\n",
       "</table>\n",
       "</div>"
      ],
      "text/plain": [
       "         counts  bin_centers  bin_left  bin_right\n",
       "0  2.740516e+04          0.5       0.0        1.0\n",
       "1  6.606243e+04          1.5       1.0        2.0\n",
       "2  3.739915e+04          2.5       2.0        3.0\n",
       "3  5.964366e+03          3.5       3.0        4.0\n",
       "4  3.937656e+02          4.5       4.0        5.0\n",
       "5  1.599207e+01          5.5       5.0        6.0\n",
       "6  4.225374e-01          6.5       6.0        7.0\n",
       "7  6.598478e-03          7.5       7.0        8.0\n",
       "8  5.616288e-05          8.5       8.0        9.0\n",
       "9  2.492381e-07          9.5       9.0       10.0"
      ]
     },
     "execution_count": 20,
     "metadata": {},
     "output_type": "execute_result"
    }
   ],
   "source": [
    "fit_class.check_spectrum()"
   ]
  },
  {
   "cell_type": "code",
   "execution_count": null,
   "metadata": {},
   "outputs": [],
   "source": []
  },
  {
   "cell_type": "code",
   "execution_count": null,
   "metadata": {},
   "outputs": [],
   "source": [
    "fit_class.run_emcee()"
   ]
  },
  {
   "cell_type": "code",
   "execution_count": null,
   "metadata": {},
   "outputs": [],
   "source": [
    "fit_class.show_walkers()"
   ]
  },
  {
   "cell_type": "code",
   "execution_count": 13,
   "metadata": {},
   "outputs": [],
   "source": [
    "import os"
   ]
  },
  {
   "cell_type": "code",
   "execution_count": null,
   "metadata": {},
   "outputs": [],
   "source": [
    "os.system(\"cd\")"
   ]
  },
  {
   "cell_type": "code",
   "execution_count": null,
   "metadata": {},
   "outputs": [],
   "source": []
  },
  {
   "cell_type": "code",
   "execution_count": null,
   "metadata": {},
   "outputs": [],
   "source": []
  },
  {
   "cell_type": "code",
   "execution_count": null,
   "metadata": {},
   "outputs": [],
   "source": [
    "fit_class.run_nestle()\n",
    "fit_class.get_summary()"
   ]
  },
  {
   "cell_type": "code",
   "execution_count": null,
   "metadata": {},
   "outputs": [],
   "source": [
    "fit_class.show_corner()"
   ]
  },
  {
   "cell_type": "code",
   "execution_count": null,
   "metadata": {},
   "outputs": [],
   "source": [
    "assert False"
   ]
  },
  {
   "cell_type": "code",
   "execution_count": null,
   "metadata": {},
   "outputs": [],
   "source": [
    "fit_unconstrained = dddm.NestleStatModel('Xe')\n",
    "fit_unconstrained.tol = 0.8\n",
    "fit_unconstrained.nlive = 2000\n",
    "fit_unconstrained.set_fit_parameters(fit_unconstrained.known_parameters)\n",
    "print(f\"Fitting for parameters:\\n{fit_unconstrained.fit_parameters}\")"
   ]
  },
  {
   "cell_type": "code",
   "execution_count": null,
   "metadata": {},
   "outputs": [],
   "source": [
    "fit_unconstrained.run_nestle()\n",
    "fit_unconstrained.get_summary()"
   ]
  },
  {
   "cell_type": "code",
   "execution_count": null,
   "metadata": {},
   "outputs": [],
   "source": [
    "fit_unconstrained.show_corner()"
   ]
  },
  {
   "cell_type": "code",
   "execution_count": null,
   "metadata": {},
   "outputs": [],
   "source": [
    "print(1)"
   ]
  },
  {
   "cell_type": "code",
   "execution_count": null,
   "metadata": {},
   "outputs": [],
   "source": []
  },
  {
   "cell_type": "code",
   "execution_count": null,
   "metadata": {},
   "outputs": [],
   "source": []
  },
  {
   "cell_type": "code",
   "execution_count": null,
   "metadata": {},
   "outputs": [],
   "source": []
  }
 ],
 "metadata": {
  "kernelspec": {
   "display_name": "Python 3",
   "language": "python",
   "name": "python3"
  },
  "language_info": {
   "codemirror_mode": {
    "name": "ipython",
    "version": 3
   },
   "file_extension": ".py",
   "mimetype": "text/x-python",
   "name": "python",
   "nbconvert_exporter": "python",
   "pygments_lexer": "ipython3",
   "version": "3.7.4"
  }
 },
 "nbformat": 4,
 "nbformat_minor": 2
}
