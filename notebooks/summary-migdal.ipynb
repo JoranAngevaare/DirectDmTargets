{
 "cells": [
  {
   "cell_type": "code",
   "execution_count": 1,
   "metadata": {},
   "outputs": [
    {
     "name": "stdout",
     "output_type": "stream",
     "text": [
      "calculating effective efficiency for Xe detector done\n",
      "calculating effective efficiency for Ge detector done\n",
      "calculating effective efficiency for Ar detector done\n",
      "calculating effective efficiency for Xe_migd detector done\n",
      "calculating effective efficiency for Ge_migd detector done\n",
      "calculating effective efficiency for Ar_migd detector done\n"
     ]
    }
   ],
   "source": [
    "import DirectDmTargets as dddm"
   ]
  },
  {
   "cell_type": "code",
   "execution_count": 2,
   "metadata": {},
   "outputs": [],
   "source": [
    "import wimprates as wr"
   ]
  },
  {
   "cell_type": "code",
   "execution_count": 3,
   "metadata": {},
   "outputs": [],
   "source": [
    "import numpy as np\n",
    "import matplotlib.pyplot as plt"
   ]
  },
  {
   "cell_type": "code",
   "execution_count": 4,
   "metadata": {},
   "outputs": [],
   "source": [
    "import numericalunits as nu"
   ]
  },
  {
   "cell_type": "code",
   "execution_count": 5,
   "metadata": {},
   "outputs": [],
   "source": [
    "from tqdm import tqdm"
   ]
  },
  {
   "cell_type": "code",
   "execution_count": 6,
   "metadata": {},
   "outputs": [],
   "source": [
    "from scipy.integrate import quad as scipy_int"
   ]
  },
  {
   "cell_type": "code",
   "execution_count": 7,
   "metadata": {},
   "outputs": [],
   "source": [
    "import pandas as pd"
   ]
  },
  {
   "cell_type": "code",
   "execution_count": 8,
   "metadata": {},
   "outputs": [],
   "source": [
    "import scipy"
   ]
  },
  {
   "cell_type": "code",
   "execution_count": 9,
   "metadata": {},
   "outputs": [
    {
     "name": "stdout",
     "output_type": "stream",
     "text": [
      "DirectDmTargets\n",
      "Version:\t0.2.0\n",
      "Path:\t\t<module 'DirectDmTargets' from '/mnt/c/Users/Joran/Google Drive/PhD-master/ubuntu-storage/windows-anaconda/DD_DM_targets/DirectDmTargets/__init__.py'>\n",
      "\n",
      "wimprates\n",
      "Version:\t0.3.2\n",
      "Path:\t\t<module 'wimprates' from '/mnt/c/Users/Joran/Google Drive/PhD-master/ubuntu-storage/windows-anaconda/forked_wimprates/wimprates/__init__.py'>\n",
      "\n",
      "numpy\n",
      "Version:\t1.17.2\n",
      "Path:\t\t<module 'numpy' from '/home/joran/.conda/envs/DD_DM/lib/python3.7/site-packages/numpy/__init__.py'>\n",
      "\n",
      "numericalunits\n",
      "Version:\t1.23\n",
      "Path:\t\t<module 'numericalunits' from '/home/joran/.conda/envs/DD_DM/lib/python3.7/site-packages/numericalunits.py'>\n",
      "\n",
      "scipy\n",
      "Version:\t1.3.1\n",
      "Path:\t\t<module 'scipy' from '/home/joran/.conda/envs/DD_DM/lib/python3.7/site-packages/scipy/__init__.py'>\n",
      "\n",
      "pandas\n",
      "Version:\t0.25.2\n",
      "Path:\t\t<module 'pandas' from '/home/joran/.conda/envs/DD_DM/lib/python3.7/site-packages/pandas/__init__.py'>\n",
      "\n"
     ]
    }
   ],
   "source": [
    "for module in [dddm, wr, np, nu, scipy, pd]:\n",
    "    print(f'''{module.__name__}\\nVersion:\\t{module.__version__}\\nPath:\\t\\t{module}\\n''')"
   ]
  },
  {
   "cell_type": "markdown",
   "metadata": {},
   "source": [
    "# Direct detection of Dark matter using different target materials #\n",
    "\n",
    "Author:\n",
    "\n",
    "Joran Angevaare <j.angevaare@nikef.nl>\n",
    "\n",
    "Date:\n",
    "\n",
    "14 october 2019 \n",
    "\n",
    "## Goal ## \n",
    "\n",
    "- Roughly reproduce <https://journals.aps.org/prd/abstract/10.1103/PhysRevD.83.083505>\n",
    "- Update the results thereof with more recent knowledge of the DM-distribution\n",
    "\n",
    "### Approach ###\n",
    "To achieve these goals, we must first get a decent recoil spectrum, that is flexible enough to have different astrophysical parameters. Further, it must also be flexible enough to be able to allow for different analytic functions to be added to the model. For instance, we must be able to incorporate the $\\rm{SHM}^{++}$ as presented here <https://arxiv.org/abs/1810.11468>.\n",
    "\n",
    "When we have a sufficiently flexible model, we want to add in the detector physics, we should therein incorporate at least the following parameters:\n",
    "- target\n",
    "  - material\n",
    "  - cross-section\n",
    "- threshold\n",
    "- background\n",
    "- cut efficiency  \n",
    "- volume\n",
    "- exposure\n",
    "\n",
    "Finally we should perform the inference"
   ]
  },
  {
   "cell_type": "markdown",
   "metadata": {},
   "source": [
    "## HALO model ##\n",
    "\n"
   ]
  },
  {
   "cell_type": "code",
   "execution_count": 10,
   "metadata": {},
   "outputs": [
    {
     "name": "stderr",
     "output_type": "stream",
     "text": [
      "/mnt/c/Users/Joran/Google Drive/PhD-master/ubuntu-storage/windows-anaconda/forked_wimprates/wimprates/halo.py:144: RuntimeWarning: divide by zero encountered in true_divide\n",
      "  / (2 * v_earth_t * v))\n"
     ]
    },
    {
     "name": "stdout",
     "output_type": "stream",
     "text": [
      "generating spectrum, this can take a minute. Execute:\n",
      "python \"../../verne/\"/src/CalcVelDist.py -m_x 1 -sigma_p 1e-35 -loc SUF -path \"../../verne//src/\" -v_0 230 -v_esc 544 -save_as \"../../verne/results/veldists/f_params_SUF_230_544_0.30_-35.0_0.00_avg.csv\"\n"
     ]
    },
    {
     "data": {
      "text/plain": [
       "<matplotlib.legend.Legend at 0x7fa56e544650>"
      ]
     },
     "execution_count": 10,
     "metadata": {},
     "output_type": "execute_result"
    },
    {
     "data": {
      "image/png": "[encoded data removed]",
      "text/plain": [
       "<Figure size 432x288 with 1 Axes>"
      ]
     },
     "metadata": {
      "needs_background": "light"
     },
     "output_type": "display_data"
    }
   ],
   "source": [
    "x = np.linspace(0,1000,200) * nu.km / nu.s\n",
    "# y2 = wr.observed_speed_dist(x, 0)\n",
    "# plt.plot(x/(nu.km / nu.s),y2)\n",
    "# plt.axvline(310)\n",
    "plt.xlabel(\"v [km/s]\")\n",
    "# plt.ylabel(\"$f (v)$\")\n",
    "use_SHM = dddm.SHM()\n",
    "plt.plot(x/(nu.km / nu.s), use_SHM.velocity_dist(x,0), label = 'SHM')\n",
    "test = dddm.VerneSHM(location=\"SUF\")\n",
    "# test.velocity_dist(100*nu.km/nu.s,0)\n",
    "y2 = test.velocity_dist(x, 0)\n",
    "plt.plot(x/(nu.km / nu.s), y2, label = 'verne')\n",
    "plt.legend()"
   ]
  },
  {
   "cell_type": "code",
   "execution_count": 11,
   "metadata": {},
   "outputs": [
    {
     "name": "stdout",
     "output_type": "stream",
     "text": [
      "../../verne/results/veldists/f_params_SUF_230_544_0.30_-35.0_0.00_avg.csv\r\n"
     ]
    }
   ],
   "source": [
    "!ls ../../verne/results/veldists/f_params_SUF_230_544_0.30_-35.0_0.00_avg.csv"
   ]
  },
  {
   "cell_type": "code",
   "execution_count": 12,
   "metadata": {},
   "outputs": [
    {
     "data": {
      "text/html": [
       "<div>\n",
       "<style scoped>\n",
       "    .dataframe tbody tr th:only-of-type {\n",
       "        vertical-align: middle;\n",
       "    }\n",
       "\n",
       "    .dataframe tbody tr th {\n",
       "        vertical-align: top;\n",
       "    }\n",
       "\n",
       "    .dataframe thead th {\n",
       "        text-align: right;\n",
       "    }\n",
       "</style>\n",
       "<table border=\"1\" class=\"dataframe\">\n",
       "  <thead>\n",
       "    <tr style=\"text-align: right;\">\n",
       "      <th></th>\n",
       "      <th>a</th>\n",
       "      <th>aa</th>\n",
       "    </tr>\n",
       "  </thead>\n",
       "  <tbody>\n",
       "    <tr>\n",
       "      <th>10</th>\n",
       "      <td>-1000.000000</td>\n",
       "      <td>0.000000</td>\n",
       "    </tr>\n",
       "    <tr>\n",
       "      <th>0</th>\n",
       "      <td>1.000000</td>\n",
       "      <td>1.000000</td>\n",
       "    </tr>\n",
       "    <tr>\n",
       "      <th>1</th>\n",
       "      <td>1.111111</td>\n",
       "      <td>1.111111</td>\n",
       "    </tr>\n",
       "    <tr>\n",
       "      <th>2</th>\n",
       "      <td>1.222222</td>\n",
       "      <td>1.222222</td>\n",
       "    </tr>\n",
       "    <tr>\n",
       "      <th>3</th>\n",
       "      <td>1.333333</td>\n",
       "      <td>1.333333</td>\n",
       "    </tr>\n",
       "    <tr>\n",
       "      <th>4</th>\n",
       "      <td>1.444444</td>\n",
       "      <td>1.444444</td>\n",
       "    </tr>\n",
       "    <tr>\n",
       "      <th>5</th>\n",
       "      <td>1.555556</td>\n",
       "      <td>1.555556</td>\n",
       "    </tr>\n",
       "    <tr>\n",
       "      <th>6</th>\n",
       "      <td>1.666667</td>\n",
       "      <td>1.666667</td>\n",
       "    </tr>\n",
       "    <tr>\n",
       "      <th>7</th>\n",
       "      <td>1.777778</td>\n",
       "      <td>1.777778</td>\n",
       "    </tr>\n",
       "    <tr>\n",
       "      <th>8</th>\n",
       "      <td>1.888889</td>\n",
       "      <td>1.888889</td>\n",
       "    </tr>\n",
       "    <tr>\n",
       "      <th>9</th>\n",
       "      <td>2.000000</td>\n",
       "      <td>2.000000</td>\n",
       "    </tr>\n",
       "    <tr>\n",
       "      <th>12</th>\n",
       "      <td>10000.000000</td>\n",
       "      <td>0.000000</td>\n",
       "    </tr>\n",
       "  </tbody>\n",
       "</table>\n",
       "</div>"
      ],
      "text/plain": [
       "               a        aa\n",
       "10  -1000.000000  0.000000\n",
       "0       1.000000  1.000000\n",
       "1       1.111111  1.111111\n",
       "2       1.222222  1.222222\n",
       "3       1.333333  1.333333\n",
       "4       1.444444  1.444444\n",
       "5       1.555556  1.555556\n",
       "6       1.666667  1.666667\n",
       "7       1.777778  1.777778\n",
       "8       1.888889  1.888889\n",
       "9       2.000000  2.000000\n",
       "12  10000.000000  0.000000"
      ]
     },
     "execution_count": 12,
     "metadata": {},
     "output_type": "execute_result"
    }
   ],
   "source": [
    "test = pd.DataFrame()\n",
    "test['a'] = np.linspace(1,2,10)\n",
    "test['aa'] = np.linspace(1,2,10)\n",
    "# extra = {'a': np.inf, \n",
    "#          'aa':0}\n",
    "extra = [-1000, 0]\n",
    "test.loc[len(test)] = extra\n",
    "extra.reverse\n",
    "test.loc[len(test)+1] = [1e4,0]\n",
    "test.sort_values(by=['a'])"
   ]
  },
  {
   "cell_type": "code",
   "execution_count": 13,
   "metadata": {},
   "outputs": [],
   "source": [
    "from scipy.interpolate import interp1d"
   ]
  },
  {
   "cell_type": "code",
   "execution_count": 14,
   "metadata": {},
   "outputs": [],
   "source": [
    "test2 = interp1d(test['a'], test['aa'])"
   ]
  },
  {
   "cell_type": "code",
   "execution_count": 15,
   "metadata": {},
   "outputs": [
    {
     "data": {
      "text/plain": [
       "[<matplotlib.lines.Line2D at 0x7fa56e4d1b50>]"
      ]
     },
     "execution_count": 15,
     "metadata": {},
     "output_type": "execute_result"
    },
    {
     "data": {
      "image/png": "[encoded data removed]",
      "text/plain": [
       "<Figure size 432x288 with 1 Axes>"
      ]
     },
     "metadata": {
      "needs_background": "light"
     },
     "output_type": "display_data"
    }
   ],
   "source": [
    "x = np.linspace(-1,12)\n",
    "plt.plot(x, test2(x))"
   ]
  },
  {
   "cell_type": "code",
   "execution_count": 16,
   "metadata": {},
   "outputs": [
    {
     "data": {
      "text/plain": [
       "125504195.10727566"
      ]
     },
     "execution_count": 16,
     "metadata": {},
     "output_type": "execute_result"
    }
   ],
   "source": [
    "10000* (nu.km /nu.s)"
   ]
  },
  {
   "cell_type": "code",
   "execution_count": 34,
   "metadata": {},
   "outputs": [
    {
     "data": {
      "image/png": "[encoded data removed]",
      "text/plain": [
       "<Figure size 432x288 with 1 Axes>"
      ]
     },
     "metadata": {
      "needs_background": "light"
     },
     "output_type": "display_data"
    }
   ],
   "source": [
    "energies = np.linspace(0.1, 3.5, 300)\n",
    "\n",
    "# dr/dr\n",
    "dr = ((nu.keV * (1000 * nu.kg) * nu.year) * \n",
    "    wr.rate_migdal(energies * nu.keV, \n",
    "                    mw=1 * nu.GeV/nu.c0**2, \n",
    "                    sigma_nucleon=1e-35 * nu.cm**2))\n",
    "\n",
    "plt.plot(energies, dr, label=\"WIMPrates SHM\")\n",
    "\n",
    "plt.xlabel(\"Recoil energy [keV]\")\n",
    "plt.ylabel(\"Rate [events per (keV ton year)]\")\n",
    "\n",
    "plt.xlim(0, energies.max())\n",
    "plt.yscale(\"log\")\n",
    "\n",
    "plt.ylim(1e-7,1e10)\n",
    "plt.title(\"$m_\\chi = 1$ GeV, $\\sigma=10^{-35}$, no shielding\")\n",
    "plt.savefig(\"migdal_spec_2.png\", dpi=300)"
   ]
  },
  {
   "cell_type": "markdown",
   "metadata": {},
   "source": [
    "## Detector smearing"
   ]
  },
  {
   "cell_type": "markdown",
   "metadata": {},
   "source": [
    "# Inference #\n",
    "Below we setup the inference"
   ]
  },
  {
   "cell_type": "markdown",
   "metadata": {},
   "source": [
    "## Distribution of the DM ##\n",
    "First we need to make a DM-rate spectrum"
   ]
  },
  {
   "cell_type": "code",
   "execution_count": 18,
   "metadata": {},
   "outputs": [],
   "source": [
    "use_SHM = dddm.SHM()\n"
   ]
  },
  {
   "cell_type": "code",
   "execution_count": 19,
   "metadata": {},
   "outputs": [
    {
     "data": {
      "text/plain": [
       "array(6.69867759e-08)"
      ]
     },
     "execution_count": 19,
     "metadata": {},
     "output_type": "execute_result"
    }
   ],
   "source": [
    "test = dddm.VerneSHM()\n",
    "test.velocity_dist(100*nu.km/nu.s,0)\n"
   ]
  },
  {
   "cell_type": "code",
   "execution_count": 20,
   "metadata": {},
   "outputs": [
    {
     "data": {
      "text/plain": [
       "271304.4990472314"
      ]
     },
     "execution_count": 20,
     "metadata": {},
     "output_type": "execute_result"
    }
   ],
   "source": [
    "3404985278.1905413/(nu.km/nu.s)"
   ]
  },
  {
   "cell_type": "code",
   "execution_count": 21,
   "metadata": {},
   "outputs": [],
   "source": [
    "def get_gal_spec(det):\n",
    "    mw, sig = 1, 1e-35\n",
    "    experiment = dddm.experiment[det]\n",
    "    use_verne = dddm.VerneSHM(log_mass = np.log10(mw), \n",
    "                              log_cross_section = np.log10(sig),\n",
    "                              location = experiment['location'])\n",
    "    spec_class = dddm.GenSpectrum(mw, sig, use_verne, experiment)\n",
    "#     spec_class.E_max = 1\n",
    "#     spec_class.mw = 50\n",
    "    spec_class.n_bins = 20\n",
    "    return spec_class.get_data(poisson = False)"
   ]
  },
  {
   "cell_type": "code",
   "execution_count": 31,
   "metadata": {
    "scrolled": false
   },
   "outputs": [
    {
     "name": "stdout",
     "output_type": "stream",
     "text": [
      "generating spectrum, this can take a minute. Execute:\n",
      "python \"../../verne/\"/src/CalcVelDist.py -m_x 1.0 -sigma_p 1e-35 -loc SUF -path \"../../verne//src/\" -v_0 230 -v_esc 544 -save_as \"../../verne/results/veldists/f_params_SUF_230_544_0.30_-35.0_0.00_avg.csv\"\n"
     ]
    },
    {
     "name": "stderr",
     "output_type": "stream",
     "text": [
      "/home/joran/.conda/envs/DD_DM/lib/python3.7/site-packages/ipykernel_launcher.py:6: UserWarning: Data has no positive values, and therefore cannot be log-scaled.\n",
      "  \n"
     ]
    },
    {
     "data": {
      "text/plain": [
       "<matplotlib.legend.Legend at 0x7fa56cf7c690>"
      ]
     },
     "execution_count": 31,
     "metadata": {},
     "output_type": "execute_result"
    },
    {
     "data": {
      "image/png": "[encoded data removed]",
      "text/plain": [
       "<Figure size 576x432 with 1 Axes>"
      ]
     },
     "metadata": {
      "needs_background": "light"
     },
     "output_type": "display_data"
    }
   ],
   "source": [
    "# plot_spectrum(xe_galact, label = 'un-smeared', linestyle = '--')\n",
    "fig,ax=plt.subplots(figsize = (8,6))\n",
    "dddm.plot_spectrum(get_gal_spec('Xe_migd'), 'red', label = 'Xe target ', plot_error = False)\n",
    "dddm.plot_spectrum(get_gal_spec('Ge_migd'), 'green', label = 'Ge target', plot_error = False)\n",
    "dddm.plot_spectrum(get_gal_spec('Ar_migd'), 'orange', label = 'Ar target', plot_error = False)\n",
    "plt.yscale(\"log\")\n",
    "plt.xlabel(\"Recoil energy [keV]\")\n",
    "plt.ylabel(\"Rate [events per (keV ton year)]\")\n",
    "plt.legend()"
   ]
  },
  {
   "cell_type": "code",
   "execution_count": 23,
   "metadata": {},
   "outputs": [],
   "source": [
    "def get_det_spec(det, mw =50):\n",
    "    spec_class = dddm.DetectorSpectrum(1, 1e-35, use_SHM, dddm.experiment[det])\n",
    "#     spec_class.E_max = 200\n",
    "#     spec_class.mw = mw\n",
    "    spec_class.n_bins = 20\n",
    "    return spec_class.get_data(poisson = False)"
   ]
  },
  {
   "cell_type": "code",
   "execution_count": 24,
   "metadata": {},
   "outputs": [
    {
     "data": {
      "text/plain": [
       "<matplotlib.legend.Legend at 0x7fa56d441950>"
      ]
     },
     "execution_count": 24,
     "metadata": {},
     "output_type": "execute_result"
    },
    {
     "data": {
      "image/png": "[encoded data removed]",
      "text/plain": [
       "<Figure size 576x432 with 1 Axes>"
      ]
     },
     "metadata": {
      "needs_background": "light"
     },
     "output_type": "display_data"
    }
   ],
   "source": [
    "# plot_spectrum(xe_galact, label = 'un-smeared', linestyle = '--')\n",
    "# %%time\n",
    "fig,ax=plt.subplots(figsize = (8,6))\n",
    "dddm.plot_spectrum(get_det_spec('Xe_migd'), 'red', label = 'Xe det. resolution', plot_error = False)\n",
    "dddm.plot_spectrum(get_det_spec('Ge_migd'), 'green', label = 'Ge det. resolution', plot_error = False)\n",
    "dddm.plot_spectrum(get_det_spec('Ar_migd'), 'orange', label = 'Ar det. resolution', plot_error = False)\n",
    "plt.yscale(\"log\")\n",
    "plt.ylim(1e-7,1e7)\n",
    "plt.xlabel(\"Recoil energy [keV]\")\n",
    "plt.ylabel(\"Rate [events per (keV ton year)]\")\n",
    "plt.legend()"
   ]
  },
  {
   "cell_type": "markdown",
   "metadata": {},
   "source": [
    "# Likelihood profiling"
   ]
  },
  {
   "cell_type": "code",
   "execution_count": 25,
   "metadata": {
    "scrolled": false
   },
   "outputs": [],
   "source": [
    "# dddm.plt_ll_sigma_spec()"
   ]
  },
  {
   "cell_type": "code",
   "execution_count": 26,
   "metadata": {
    "scrolled": true
   },
   "outputs": [],
   "source": [
    "# dddm.plt_ll_sigma_det()"
   ]
  },
  {
   "cell_type": "code",
   "execution_count": 27,
   "metadata": {
    "scrolled": true
   },
   "outputs": [],
   "source": [
    "# dddm.plt_ll_mass_spec()\n",
    "# plt.ylim(-1000,0)"
   ]
  },
  {
   "cell_type": "code",
   "execution_count": 28,
   "metadata": {},
   "outputs": [],
   "source": [
    "# dddm.plt_ll_mass_det()\n",
    "# plt.ylim(-1000,0)"
   ]
  },
  {
   "cell_type": "markdown",
   "metadata": {},
   "source": [
    "# Nested sampling"
   ]
  },
  {
   "cell_type": "code",
   "execution_count": 29,
   "metadata": {},
   "outputs": [
    {
     "name": "stdout",
     "output_type": "stream",
     "text": [
      "StatModel::\tinitialized for Xe_migd detector. See print(stat_model) for default settings\n",
      "StatModel::\ttaking log10 of mass of 1\n",
      "StatModel::\tre-evaluate benchmark\n",
      "Fitting for parameters:\n",
      "['log_mass', 'log_cross_section']\n"
     ]
    }
   ],
   "source": [
    "fit_class = dddm.MCMCStatModel('Xe_migd')\n",
    "# fit_class.tol = 0.8\n",
    "fit_class.nwalkers = 5\n",
    "fit_class.nsteps = 10\n",
    "# fit_class.nlive = 5\n",
    "fit_class.set_prior('migdal')\n",
    "fit_class.set_benchmark(mw = 1, sigma = -35)\n",
    "print(f\"Fitting for parameters:\\n{fit_class.fit_parameters}\")"
   ]
  },
  {
   "cell_type": "code",
   "execution_count": 30,
   "metadata": {},
   "outputs": [
    {
     "name": "stderr",
     "output_type": "stream",
     "text": [
      "/home/joran/.conda/envs/DD_DM/lib/python3.7/site-packages/emcee/ensemble.py:258: RuntimeWarning: Initial state is not linearly independent and it will not allow a full exploration of parameter space\n",
      "  category=RuntimeWarning,\n",
      "/mnt/c/Users/Joran/Google Drive/PhD-master/ubuntu-storage/windows-anaconda/DD_DM_targets/DirectDmTargets/statistics.py:339: RuntimeWarning: invalid value encountered in log\n",
      "  return np.log(nr) * nb - loggamma(nb + 1) - nr\n",
      "Traceback (most recent call last):\n",
      "  File \"/home/joran/.conda/envs/DD_DM/lib/python3.7/site-packages/emcee/ensemble.py\", line 546, in __call__\n",
      "    return self.f(x, *self.args, **self.kwargs)\n",
      "  File \"/mnt/c/Users/Joran/Google Drive/PhD-master/ubuntu-storage/windows-anaconda/DD_DM_targets/DirectDmTargets/statistics.py\", line 220, in log_probability\n",
      "    ll = log_likelihood(self.benchmark_values, evaluated_rate)\n",
      "  File \"/mnt/c/Users/Joran/Google Drive/PhD-master/ubuntu-storage/windows-anaconda/DD_DM_targets/DirectDmTargets/statistics.py\", line 361, in log_likelihood\n",
      "    f\"i = {i}, Nb, Nr =\" + \" %.2g %.2g \\n\" % (Nb, Nr) + \"\")\n",
      "ValueError: Returned NaN in bin 0. Below follows data dump.\n",
      "log_likelihood: nan\n",
      "i = 0, Nb, Nr = -2.6e+25 -1.7e+25 \n",
      "\n"
     ]
    },
    {
     "name": "stdout",
     "output_type": "stream",
     "text": [
      "emcee: Exception while calling your likelihood function:\n",
      "  params: [  0.         -35.17833621]\n",
      "  args: [['log_mass', 'log_cross_section']]\n",
      "  kwargs: {}\n",
      "  exception:\n",
      "MCMC did not finish due to a ValueError. Was running with\n",
      "pos=(5, 2) nsteps = 10, walkers = 5, ndim = 2 for fit parameters ['log_mass', 'log_cross_section']\n"
     ]
    },
    {
     "ename": "ValueError",
     "evalue": "Returned NaN in bin 0. Below follows data dump.\nlog_likelihood: nan\ni = 0, Nb, Nr = -2.6e+25 -1.7e+25 \n",
     "output_type": "error",
     "traceback": [
      "\u001b[0;31m---------------------------------------------------------------------------\u001b[0m",
      "\u001b[0;31mValueError\u001b[0m                                Traceback (most recent call last)",
      "\u001b[0;32m<ipython-input-30-4ccca4f8decc>\u001b[0m in \u001b[0;36m<module>\u001b[0;34m\u001b[0m\n\u001b[0;32m----> 1\u001b[0;31m \u001b[0mfit_class\u001b[0m\u001b[0;34m.\u001b[0m\u001b[0mrun_emcee\u001b[0m\u001b[0;34m(\u001b[0m\u001b[0;34m)\u001b[0m\u001b[0;34m\u001b[0m\u001b[0;34m\u001b[0m\u001b[0m\n\u001b[0m",
      "\u001b[0;32m/mnt/c/Users/Joran/Google Drive/PhD-master/ubuntu-storage/windows-anaconda/DD_DM_targets/DirectDmTargets/emcee_applications.py\u001b[0m in \u001b[0;36mrun_emcee\u001b[0;34m(self)\u001b[0m\n\u001b[1;32m    113\u001b[0m                   \u001b[0;34mf\"{len(self.fit_parameters)} for fit parameters \"\u001b[0m\u001b[0;34m\u001b[0m\u001b[0;34m\u001b[0m\u001b[0m\n\u001b[1;32m    114\u001b[0m                   f\"{self.fit_parameters}\")\n\u001b[0;32m--> 115\u001b[0;31m             \u001b[0;32mraise\u001b[0m \u001b[0me\u001b[0m\u001b[0;34m\u001b[0m\u001b[0;34m\u001b[0m\u001b[0m\n\u001b[0m\u001b[1;32m    116\u001b[0m         \u001b[0mself\u001b[0m\u001b[0;34m.\u001b[0m\u001b[0mlog\u001b[0m\u001b[0;34m[\u001b[0m\u001b[0;34m'did_run'\u001b[0m\u001b[0;34m]\u001b[0m \u001b[0;34m=\u001b[0m \u001b[0;32mTrue\u001b[0m\u001b[0;34m\u001b[0m\u001b[0;34m\u001b[0m\u001b[0m\n\u001b[1;32m    117\u001b[0m         \u001b[0;32mtry\u001b[0m\u001b[0;34m:\u001b[0m\u001b[0;34m\u001b[0m\u001b[0;34m\u001b[0m\u001b[0m\n",
      "\u001b[0;32m/mnt/c/Users/Joran/Google Drive/PhD-master/ubuntu-storage/windows-anaconda/DD_DM_targets/DirectDmTargets/emcee_applications.py\u001b[0m in \u001b[0;36mrun_emcee\u001b[0;34m(self)\u001b[0m\n\u001b[1;32m    105\u001b[0m         \u001b[0;32mtry\u001b[0m\u001b[0;34m:\u001b[0m\u001b[0;34m\u001b[0m\u001b[0;34m\u001b[0m\u001b[0m\n\u001b[1;32m    106\u001b[0m             \u001b[0mstart\u001b[0m \u001b[0;34m=\u001b[0m \u001b[0mdatetime\u001b[0m\u001b[0;34m.\u001b[0m\u001b[0mdatetime\u001b[0m\u001b[0;34m.\u001b[0m\u001b[0mnow\u001b[0m\u001b[0;34m(\u001b[0m\u001b[0;34m)\u001b[0m\u001b[0;34m\u001b[0m\u001b[0;34m\u001b[0m\u001b[0m\n\u001b[0;32m--> 107\u001b[0;31m             \u001b[0mself\u001b[0m\u001b[0;34m.\u001b[0m\u001b[0msampler\u001b[0m\u001b[0;34m.\u001b[0m\u001b[0mrun_mcmc\u001b[0m\u001b[0;34m(\u001b[0m\u001b[0mself\u001b[0m\u001b[0;34m.\u001b[0m\u001b[0mpos\u001b[0m\u001b[0;34m,\u001b[0m \u001b[0mself\u001b[0m\u001b[0;34m.\u001b[0m\u001b[0mnsteps\u001b[0m\u001b[0;34m,\u001b[0m \u001b[0mprogress\u001b[0m\u001b[0;34m=\u001b[0m\u001b[0;32mFalse\u001b[0m\u001b[0;34m)\u001b[0m\u001b[0;34m\u001b[0m\u001b[0;34m\u001b[0m\u001b[0m\n\u001b[0m\u001b[1;32m    108\u001b[0m             \u001b[0mend\u001b[0m \u001b[0;34m=\u001b[0m \u001b[0mdatetime\u001b[0m\u001b[0;34m.\u001b[0m\u001b[0mdatetime\u001b[0m\u001b[0;34m.\u001b[0m\u001b[0mnow\u001b[0m\u001b[0;34m(\u001b[0m\u001b[0;34m)\u001b[0m\u001b[0;34m\u001b[0m\u001b[0;34m\u001b[0m\u001b[0m\n\u001b[1;32m    109\u001b[0m         \u001b[0;32mexcept\u001b[0m \u001b[0mValueError\u001b[0m \u001b[0;32mas\u001b[0m \u001b[0me\u001b[0m\u001b[0;34m:\u001b[0m\u001b[0;34m\u001b[0m\u001b[0;34m\u001b[0m\u001b[0m\n",
      "\u001b[0;32m~/.conda/envs/DD_DM/lib/python3.7/site-packages/emcee/ensemble.py\u001b[0m in \u001b[0;36mrun_mcmc\u001b[0;34m(self, initial_state, nsteps, **kwargs)\u001b[0m\n\u001b[1;32m    384\u001b[0m \u001b[0;34m\u001b[0m\u001b[0m\n\u001b[1;32m    385\u001b[0m         \u001b[0mresults\u001b[0m \u001b[0;34m=\u001b[0m \u001b[0;32mNone\u001b[0m\u001b[0;34m\u001b[0m\u001b[0;34m\u001b[0m\u001b[0m\n\u001b[0;32m--> 386\u001b[0;31m         \u001b[0;32mfor\u001b[0m \u001b[0mresults\u001b[0m \u001b[0;32min\u001b[0m \u001b[0mself\u001b[0m\u001b[0;34m.\u001b[0m\u001b[0msample\u001b[0m\u001b[0;34m(\u001b[0m\u001b[0minitial_state\u001b[0m\u001b[0;34m,\u001b[0m \u001b[0miterations\u001b[0m\u001b[0;34m=\u001b[0m\u001b[0mnsteps\u001b[0m\u001b[0;34m,\u001b[0m \u001b[0;34m**\u001b[0m\u001b[0mkwargs\u001b[0m\u001b[0;34m)\u001b[0m\u001b[0;34m:\u001b[0m\u001b[0;34m\u001b[0m\u001b[0;34m\u001b[0m\u001b[0m\n\u001b[0m\u001b[1;32m    387\u001b[0m             \u001b[0;32mpass\u001b[0m\u001b[0;34m\u001b[0m\u001b[0;34m\u001b[0m\u001b[0m\n\u001b[1;32m    388\u001b[0m \u001b[0;34m\u001b[0m\u001b[0m\n",
      "\u001b[0;32m~/.conda/envs/DD_DM/lib/python3.7/site-packages/emcee/ensemble.py\u001b[0m in \u001b[0;36msample\u001b[0;34m(self, initial_state, log_prob0, rstate0, blobs0, iterations, tune, skip_initial_state_check, thin_by, thin, store, progress)\u001b[0m\n\u001b[1;32m    285\u001b[0m             \u001b[0mstate\u001b[0m\u001b[0;34m.\u001b[0m\u001b[0mblobs\u001b[0m \u001b[0;34m=\u001b[0m \u001b[0mblobs0\u001b[0m\u001b[0;34m\u001b[0m\u001b[0;34m\u001b[0m\u001b[0m\n\u001b[1;32m    286\u001b[0m         \u001b[0;32mif\u001b[0m \u001b[0mstate\u001b[0m\u001b[0;34m.\u001b[0m\u001b[0mlog_prob\u001b[0m \u001b[0;32mis\u001b[0m \u001b[0;32mNone\u001b[0m\u001b[0;34m:\u001b[0m\u001b[0;34m\u001b[0m\u001b[0;34m\u001b[0m\u001b[0m\n\u001b[0;32m--> 287\u001b[0;31m             \u001b[0mstate\u001b[0m\u001b[0;34m.\u001b[0m\u001b[0mlog_prob\u001b[0m\u001b[0;34m,\u001b[0m \u001b[0mstate\u001b[0m\u001b[0;34m.\u001b[0m\u001b[0mblobs\u001b[0m \u001b[0;34m=\u001b[0m \u001b[0mself\u001b[0m\u001b[0;34m.\u001b[0m\u001b[0mcompute_log_prob\u001b[0m\u001b[0;34m(\u001b[0m\u001b[0mstate\u001b[0m\u001b[0;34m.\u001b[0m\u001b[0mcoords\u001b[0m\u001b[0;34m)\u001b[0m\u001b[0;34m\u001b[0m\u001b[0;34m\u001b[0m\u001b[0m\n\u001b[0m\u001b[1;32m    288\u001b[0m         \u001b[0;32mif\u001b[0m \u001b[0mnp\u001b[0m\u001b[0;34m.\u001b[0m\u001b[0mshape\u001b[0m\u001b[0;34m(\u001b[0m\u001b[0mstate\u001b[0m\u001b[0;34m.\u001b[0m\u001b[0mlog_prob\u001b[0m\u001b[0;34m)\u001b[0m \u001b[0;34m!=\u001b[0m \u001b[0;34m(\u001b[0m\u001b[0mself\u001b[0m\u001b[0;34m.\u001b[0m\u001b[0mnwalkers\u001b[0m\u001b[0;34m,\u001b[0m\u001b[0;34m)\u001b[0m\u001b[0;34m:\u001b[0m\u001b[0;34m\u001b[0m\u001b[0;34m\u001b[0m\u001b[0m\n\u001b[1;32m    289\u001b[0m             \u001b[0;32mraise\u001b[0m \u001b[0mValueError\u001b[0m\u001b[0;34m(\u001b[0m\u001b[0;34m\"incompatible input dimensions\"\u001b[0m\u001b[0;34m)\u001b[0m\u001b[0;34m\u001b[0m\u001b[0;34m\u001b[0m\u001b[0m\n",
      "\u001b[0;32m~/.conda/envs/DD_DM/lib/python3.7/site-packages/emcee/ensemble.py\u001b[0m in \u001b[0;36mcompute_log_prob\u001b[0;34m(self, coords)\u001b[0m\n\u001b[1;32m    427\u001b[0m                 \u001b[0mmap_func\u001b[0m \u001b[0;34m=\u001b[0m \u001b[0mmap\u001b[0m\u001b[0;34m\u001b[0m\u001b[0;34m\u001b[0m\u001b[0m\n\u001b[1;32m    428\u001b[0m             results = list(\n\u001b[0;32m--> 429\u001b[0;31m                 \u001b[0mmap_func\u001b[0m\u001b[0;34m(\u001b[0m\u001b[0mself\u001b[0m\u001b[0;34m.\u001b[0m\u001b[0mlog_prob_fn\u001b[0m\u001b[0;34m,\u001b[0m \u001b[0;34m(\u001b[0m\u001b[0mp\u001b[0m\u001b[0;34m[\u001b[0m\u001b[0mi\u001b[0m\u001b[0;34m]\u001b[0m \u001b[0;32mfor\u001b[0m \u001b[0mi\u001b[0m \u001b[0;32min\u001b[0m \u001b[0mrange\u001b[0m\u001b[0;34m(\u001b[0m\u001b[0mlen\u001b[0m\u001b[0;34m(\u001b[0m\u001b[0mp\u001b[0m\u001b[0;34m)\u001b[0m\u001b[0;34m)\u001b[0m\u001b[0;34m)\u001b[0m\u001b[0;34m)\u001b[0m\u001b[0;34m\u001b[0m\u001b[0;34m\u001b[0m\u001b[0m\n\u001b[0m\u001b[1;32m    430\u001b[0m             )\n\u001b[1;32m    431\u001b[0m \u001b[0;34m\u001b[0m\u001b[0m\n",
      "\u001b[0;32m~/.conda/envs/DD_DM/lib/python3.7/site-packages/emcee/ensemble.py\u001b[0m in \u001b[0;36m__call__\u001b[0;34m(self, x)\u001b[0m\n\u001b[1;32m    544\u001b[0m     \u001b[0;32mdef\u001b[0m \u001b[0m__call__\u001b[0m\u001b[0;34m(\u001b[0m\u001b[0mself\u001b[0m\u001b[0;34m,\u001b[0m \u001b[0mx\u001b[0m\u001b[0;34m)\u001b[0m\u001b[0;34m:\u001b[0m\u001b[0;34m\u001b[0m\u001b[0;34m\u001b[0m\u001b[0m\n\u001b[1;32m    545\u001b[0m         \u001b[0;32mtry\u001b[0m\u001b[0;34m:\u001b[0m\u001b[0;34m\u001b[0m\u001b[0;34m\u001b[0m\u001b[0m\n\u001b[0;32m--> 546\u001b[0;31m             \u001b[0;32mreturn\u001b[0m \u001b[0mself\u001b[0m\u001b[0;34m.\u001b[0m\u001b[0mf\u001b[0m\u001b[0;34m(\u001b[0m\u001b[0mx\u001b[0m\u001b[0;34m,\u001b[0m \u001b[0;34m*\u001b[0m\u001b[0mself\u001b[0m\u001b[0;34m.\u001b[0m\u001b[0margs\u001b[0m\u001b[0;34m,\u001b[0m \u001b[0;34m**\u001b[0m\u001b[0mself\u001b[0m\u001b[0;34m.\u001b[0m\u001b[0mkwargs\u001b[0m\u001b[0;34m)\u001b[0m\u001b[0;34m\u001b[0m\u001b[0;34m\u001b[0m\u001b[0m\n\u001b[0m\u001b[1;32m    547\u001b[0m         \u001b[0;32mexcept\u001b[0m\u001b[0;34m:\u001b[0m  \u001b[0;31m# pragma: no cover\u001b[0m\u001b[0;34m\u001b[0m\u001b[0;34m\u001b[0m\u001b[0m\n\u001b[1;32m    548\u001b[0m             \u001b[0;32mimport\u001b[0m \u001b[0mtraceback\u001b[0m\u001b[0;34m\u001b[0m\u001b[0;34m\u001b[0m\u001b[0m\n",
      "\u001b[0;32m/mnt/c/Users/Joran/Google Drive/PhD-master/ubuntu-storage/windows-anaconda/DD_DM_targets/DirectDmTargets/statistics.py\u001b[0m in \u001b[0;36mlog_probability\u001b[0;34m(self, parameter_vals, parameter_names)\u001b[0m\n\u001b[1;32m    218\u001b[0m \u001b[0;34m\u001b[0m\u001b[0m\n\u001b[1;32m    219\u001b[0m         \u001b[0;31m# Compute the likelihood\u001b[0m\u001b[0;34m\u001b[0m\u001b[0;34m\u001b[0m\u001b[0;34m\u001b[0m\u001b[0m\n\u001b[0;32m--> 220\u001b[0;31m         \u001b[0mll\u001b[0m \u001b[0;34m=\u001b[0m \u001b[0mlog_likelihood\u001b[0m\u001b[0;34m(\u001b[0m\u001b[0mself\u001b[0m\u001b[0;34m.\u001b[0m\u001b[0mbenchmark_values\u001b[0m\u001b[0;34m,\u001b[0m \u001b[0mevaluated_rate\u001b[0m\u001b[0;34m)\u001b[0m\u001b[0;34m\u001b[0m\u001b[0;34m\u001b[0m\u001b[0m\n\u001b[0m\u001b[1;32m    221\u001b[0m         \u001b[0;32mif\u001b[0m \u001b[0mnp\u001b[0m\u001b[0;34m.\u001b[0m\u001b[0misnan\u001b[0m\u001b[0;34m(\u001b[0m\u001b[0mlp\u001b[0m \u001b[0;34m+\u001b[0m \u001b[0mll\u001b[0m\u001b[0;34m)\u001b[0m\u001b[0;34m:\u001b[0m\u001b[0;34m\u001b[0m\u001b[0;34m\u001b[0m\u001b[0m\n\u001b[1;32m    222\u001b[0m             \u001b[0;32mraise\u001b[0m \u001b[0mValueError\u001b[0m\u001b[0;34m(\u001b[0m\u001b[0;34mf\"Returned NaN from likelihood. lp = {lp}, ll = {ll}\"\u001b[0m\u001b[0;34m)\u001b[0m\u001b[0;34m\u001b[0m\u001b[0;34m\u001b[0m\u001b[0m\n",
      "\u001b[0;32m/mnt/c/Users/Joran/Google Drive/PhD-master/ubuntu-storage/windows-anaconda/DD_DM_targets/DirectDmTargets/statistics.py\u001b[0m in \u001b[0;36mlog_likelihood\u001b[0;34m(model, y)\u001b[0m\n\u001b[1;32m    359\u001b[0m                 \u001b[0;34mf\"Returned NaN in bin {i}. Below follows data dump.\\n\"\u001b[0m\u001b[0;34m\u001b[0m\u001b[0;34m\u001b[0m\u001b[0m\n\u001b[1;32m    360\u001b[0m                 \u001b[0;34mf\"log_likelihood: {log_likelihood_function(Nb, Nr)}\\n\"\u001b[0m\u001b[0;34m\u001b[0m\u001b[0;34m\u001b[0m\u001b[0m\n\u001b[0;32m--> 361\u001b[0;31m                 f\"i = {i}, Nb, Nr =\" + \" %.2g %.2g \\n\" % (Nb, Nr) + \"\")\n\u001b[0m\u001b[1;32m    362\u001b[0m         \u001b[0;32mif\u001b[0m \u001b[0;32mnot\u001b[0m \u001b[0mnp\u001b[0m\u001b[0;34m.\u001b[0m\u001b[0misfinite\u001b[0m\u001b[0;34m(\u001b[0m\u001b[0mres_bin\u001b[0m\u001b[0;34m)\u001b[0m\u001b[0;34m:\u001b[0m\u001b[0;34m\u001b[0m\u001b[0;34m\u001b[0m\u001b[0m\n\u001b[1;32m    363\u001b[0m             \u001b[0;32mreturn\u001b[0m \u001b[0;34m-\u001b[0m\u001b[0mnp\u001b[0m\u001b[0;34m.\u001b[0m\u001b[0minf\u001b[0m\u001b[0;34m\u001b[0m\u001b[0;34m\u001b[0m\u001b[0m\n",
      "\u001b[0;31mValueError\u001b[0m: Returned NaN in bin 0. Below follows data dump.\nlog_likelihood: nan\ni = 0, Nb, Nr = -2.6e+25 -1.7e+25 \n"
     ]
    }
   ],
   "source": [
    "fit_class.run_emcee()"
   ]
  },
  {
   "cell_type": "code",
   "execution_count": null,
   "metadata": {},
   "outputs": [],
   "source": [
    "fit_class.show_walkers()"
   ]
  },
  {
   "cell_type": "code",
   "execution_count": null,
   "metadata": {},
   "outputs": [],
   "source": [
    "import os"
   ]
  },
  {
   "cell_type": "code",
   "execution_count": null,
   "metadata": {},
   "outputs": [],
   "source": [
    "os.system(\"cd\")"
   ]
  },
  {
   "cell_type": "code",
   "execution_count": null,
   "metadata": {},
   "outputs": [],
   "source": []
  },
  {
   "cell_type": "code",
   "execution_count": null,
   "metadata": {},
   "outputs": [],
   "source": []
  },
  {
   "cell_type": "code",
   "execution_count": null,
   "metadata": {},
   "outputs": [],
   "source": [
    "fit_class.run_nestle()\n",
    "fit_class.get_summary()"
   ]
  },
  {
   "cell_type": "code",
   "execution_count": null,
   "metadata": {},
   "outputs": [],
   "source": [
    "fit_class.show_corner()"
   ]
  },
  {
   "cell_type": "code",
   "execution_count": null,
   "metadata": {},
   "outputs": [],
   "source": [
    "assert False"
   ]
  },
  {
   "cell_type": "code",
   "execution_count": null,
   "metadata": {},
   "outputs": [],
   "source": [
    "fit_unconstrained = dddm.NestleStatModel('Xe')\n",
    "fit_unconstrained.tol = 0.8\n",
    "fit_unconstrained.nlive = 2000\n",
    "fit_unconstrained.set_fit_parameters(fit_unconstrained.known_parameters)\n",
    "print(f\"Fitting for parameters:\\n{fit_unconstrained.fit_parameters}\")"
   ]
  },
  {
   "cell_type": "code",
   "execution_count": null,
   "metadata": {},
   "outputs": [],
   "source": [
    "fit_unconstrained.run_nestle()\n",
    "fit_unconstrained.get_summary()"
   ]
  },
  {
   "cell_type": "code",
   "execution_count": null,
   "metadata": {},
   "outputs": [],
   "source": [
    "fit_unconstrained.show_corner()"
   ]
  },
  {
   "cell_type": "code",
   "execution_count": null,
   "metadata": {},
   "outputs": [],
   "source": [
    "print(1)"
   ]
  },
  {
   "cell_type": "code",
   "execution_count": null,
   "metadata": {},
   "outputs": [],
   "source": []
  },
  {
   "cell_type": "code",
   "execution_count": null,
   "metadata": {},
   "outputs": [],
   "source": []
  },
  {
   "cell_type": "code",
   "execution_count": null,
   "metadata": {},
   "outputs": [],
   "source": []
  }
 ],
 "metadata": {
  "kernelspec": {
   "display_name": "Python 3",
   "language": "python",
   "name": "python3"
  },
  "language_info": {
   "codemirror_mode": {
    "name": "ipython",
    "version": 3
   },
   "file_extension": ".py",
   "mimetype": "text/x-python",
   "name": "python",
   "nbconvert_exporter": "python",
   "pygments_lexer": "ipython3",
   "version": "3.7.4"
  }
 },
 "nbformat": 4,
 "nbformat_minor": 2
}
