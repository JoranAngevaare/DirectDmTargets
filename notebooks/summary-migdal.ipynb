{
 "cells": [
  {
   "cell_type": "code",
   "execution_count": 1,
   "metadata": {},
   "outputs": [
    {
     "name": "stdout",
     "output_type": "stream",
     "text": [
      "Start import\n",
      "calculating effective efficiency for Xe detector done\n",
      "calculating effective efficiency for Ge detector done\n",
      "calculating effective efficiency for Ar detector done\n",
      "calculating effective efficiency for Xe_migd detector done\n",
      "calculating effective efficiency for Ge_migd detector done\n",
      "calculating effective efficiency for Ar_migd detector done\n",
      "Done import\n",
      "SYSTEM\n",
      "\tRunning on linux\n",
      "\tPython version 3.7.4 (default, Aug 13 2019, 20:35:49) [GCC 7.3.0]\n",
      "\tPython installation /home/joran/.conda/envs/DD_DM/bin/python\n",
      "MODULES\n",
      "\tDirectDmTargets\n",
      "\t\tver.:\t0.2.0\n",
      "\t\tPath:\t/mnt/c/Users/Joran/Google Drive/PhD-master/ubuntu-storage/windows-anaconda/DD_DM_targets/DirectDmTargets/\n",
      "\n",
      "\twimprates\n",
      "\t\tver.:\t0.3.2\n",
      "\t\tPath:\t/mnt/c/Users/Joran/Google Drive/PhD-master/ubuntu-storage/windows-anaconda/forked_wimprates/wimprates/\n",
      "\n"
     ]
    }
   ],
   "source": [
    "%run common_init.py"
   ]
  },
  {
   "cell_type": "markdown",
   "metadata": {},
   "source": [
    "# Direct detection of Dark matter using different target materials #\n",
    "\n",
    "Author:\n",
    "\n",
    "Joran Angevaare <j.angevaare@nikef.nl>\n",
    "\n",
    "Date:\n",
    "\n",
    "14 october 2019 \n",
    "\n",
    "## Goal ## \n",
    "\n",
    "- Roughly reproduce <https://journals.aps.org/prd/abstract/10.1103/PhysRevD.83.083505>\n",
    "- Update the results thereof with more recent knowledge of the DM-distribution\n",
    "\n",
    "### Approach ###\n",
    "To achieve these goals, we must first get a decent recoil spectrum, that is flexible enough to have different astrophysical parameters. Further, it must also be flexible enough to be able to allow for different analytic functions to be added to the model. For instance, we must be able to incorporate the $\\rm{SHM}^{++}$ as presented here <https://arxiv.org/abs/1810.11468>.\n",
    "\n",
    "When we have a sufficiently flexible model, we want to add in the detector physics, we should therein incorporate at least the following parameters:\n",
    "- target\n",
    "  - material\n",
    "  - cross-section\n",
    "- threshold\n",
    "- background\n",
    "- cut efficiency  \n",
    "- volume\n",
    "- exposure\n",
    "\n",
    "Finally we should perform the inference"
   ]
  },
  {
   "cell_type": "markdown",
   "metadata": {},
   "source": [
    "## HALO model ##\n",
    "\n"
   ]
  },
  {
   "cell_type": "code",
   "execution_count": 2,
   "metadata": {},
   "outputs": [
    {
     "name": "stdout",
     "output_type": "stream",
     "text": [
      "f_params_XENON_230_544_0.30_-35.0_0.00\n",
      "../../verne/results/veldists/tmp_f_params_XENON_230_544_0.30_-35.0_0.00_avg.csv\n",
      "generating spectrum, this can take a minute. Execute:\n",
      "python \"../../verne/\"/src/CalcVelDist.py -m_x 1 -sigma_p 1e-35 -loc XENON -path \"../../verne//src/\" -v_0 230 -v_esc 544 -save_as \"../../verne/results/veldists/tmp_f_params_XENON_230_544_0.30_-35.0_0.00_avg.csv\"  -n_gamma 2\n"
     ]
    },
    {
     "name": "stderr",
     "output_type": "stream",
     "text": [
      "/mnt/c/Users/Joran/Google Drive/PhD-master/ubuntu-storage/windows-anaconda/forked_wimprates/wimprates/halo.py:144: RuntimeWarning: divide by zero encountered in true_divide\n",
      "  / (2 * v_earth_t * v))\n"
     ]
    },
    {
     "name": "stdout",
     "output_type": "stream",
     "text": [
      "../../verne/results/veldists/tmp_f_params_SUF_230_544_0.30_-35.0_0.00_avg.csv\n",
      "generating spectrum, this can take a minute. Execute:\n",
      "python \"../../verne/\"/src/CalcVelDist.py -m_x 1 -sigma_p 1e-35 -loc SUF -path \"../../verne//src/\" -v_0 230 -v_esc 544 -save_as \"../../verne/results/veldists/tmp_f_params_SUF_230_544_0.30_-35.0_0.00_avg.csv\"  -n_gamma 2\n"
     ]
    },
    {
     "data": {
      "text/plain": [
       "<matplotlib.legend.Legend at 0x7f27e0422390>"
      ]
     },
     "execution_count": 2,
     "metadata": {},
     "output_type": "execute_result"
    },
    {
     "data": {
      "image/png": "[encoded data removed]",
      "text/plain": [
       "<Figure size 432x288 with 1 Axes>"
      ]
     },
     "metadata": {
      "needs_background": "light"
     },
     "output_type": "display_data"
    }
   ],
   "source": [
    "x = np.linspace(0,1000,200) * nu.km / nu.s\n",
    "# y2 = wr.observed_speed_dist(x, 0)\n",
    "# plt.plot(x/(nu.km / nu.s),y2)\n",
    "# plt.axvline(310)\n",
    "plt.xlabel(\"v [km/s]\")\n",
    "# plt.ylabel(\"$f (v)$\")\n",
    "use_SHM = dddm.SHM()\n",
    "plt.plot(x/(nu.km / nu.s), use_SHM.velocity_dist(x,0), label = 'SHM')\n",
    "test = dddm.VerneSHM(location=\"XENON\")\n",
    "print(test.fname)\n",
    "# test.velocity_dist(100*nu.km/nu.s,0)\n",
    "y2 = test.velocity_dist(x, 0)\n",
    "plt.plot(x/(nu.km / nu.s), y2, label = 'verne')\n",
    "plt.legend()\n",
    "test = dddm.VerneSHM(location=\"SUF\")\n",
    "# test.velocity_dist(100*nu.km/nu.s,0)\n",
    "y2 = test.velocity_dist(x, 0)\n",
    "plt.plot(x/(nu.km / nu.s), y2, label = 'verne')\n",
    "plt.legend()"
   ]
  },
  {
   "cell_type": "code",
   "execution_count": 3,
   "metadata": {},
   "outputs": [
    {
     "name": "stderr",
     "output_type": "stream",
     "text": [
      "ERROR:root:Internal Python error in the inspect module.\n",
      "Below is the traceback from this internal error.\n",
      "\n"
     ]
    },
    {
     "name": "stdout",
     "output_type": "stream",
     "text": [
      "Traceback (most recent call last):\n",
      "  File \"/home/joran/.conda/envs/DD_DM/lib/python3.7/site-packages/IPython/core/interactiveshell.py\", line 3326, in run_code\n",
      "    exec(code_obj, self.user_global_ns, self.user_ns)\n",
      "  File \"<ipython-input-3-f8a87ee95a28>\", line 2, in <module>\n",
      "    dr = wr.rate_migdal(energies, halo_model = test)\n",
      "TypeError: rate_migdal() missing 2 required positional arguments: 'mw' and 'sigma_nucleon'\n",
      "\n",
      "During handling of the above exception, another exception occurred:\n",
      "\n",
      "Traceback (most recent call last):\n",
      "  File \"/home/joran/.conda/envs/DD_DM/lib/python3.7/site-packages/IPython/core/interactiveshell.py\", line 2040, in showtraceback\n",
      "    stb = value._render_traceback_()\n",
      "AttributeError: 'TypeError' object has no attribute '_render_traceback_'\n",
      "\n",
      "During handling of the above exception, another exception occurred:\n",
      "\n",
      "Traceback (most recent call last):\n",
      "  File \"/home/joran/.conda/envs/DD_DM/lib/python3.7/site-packages/IPython/core/ultratb.py\", line 1101, in get_records\n",
      "    return _fixed_getinnerframes(etb, number_of_lines_of_context, tb_offset)\n",
      "  File \"/home/joran/.conda/envs/DD_DM/lib/python3.7/site-packages/IPython/core/ultratb.py\", line 319, in wrapped\n",
      "    return f(*args, **kwargs)\n",
      "  File \"/home/joran/.conda/envs/DD_DM/lib/python3.7/site-packages/IPython/core/ultratb.py\", line 353, in _fixed_getinnerframes\n",
      "    records = fix_frame_records_filenames(inspect.getinnerframes(etb, context))\n",
      "  File \"/home/joran/.conda/envs/DD_DM/lib/python3.7/inspect.py\", line 1502, in getinnerframes\n",
      "    frameinfo = (tb.tb_frame,) + getframeinfo(tb, context)\n",
      "  File \"/home/joran/.conda/envs/DD_DM/lib/python3.7/inspect.py\", line 1460, in getframeinfo\n",
      "    filename = getsourcefile(frame) or getfile(frame)\n",
      "  File \"/home/joran/.conda/envs/DD_DM/lib/python3.7/inspect.py\", line 696, in getsourcefile\n",
      "    if getattr(getmodule(object, filename), '__loader__', None) is not None:\n",
      "  File \"/home/joran/.conda/envs/DD_DM/lib/python3.7/inspect.py\", line 742, in getmodule\n",
      "    os.path.realpath(f)] = module.__name__\n",
      "AttributeError: module has no attribute '__name__'\n"
     ]
    },
    {
     "ename": "TypeError",
     "evalue": "rate_migdal() missing 2 required positional arguments: 'mw' and 'sigma_nucleon'",
     "output_type": "error",
     "traceback": [
      "\u001b[0;31m---------------------------------------------------------------------------\u001b[0m"
     ]
    }
   ],
   "source": [
    "energies = np.linspace(0.1, 3.5, 2) *  nu.keV\n",
    "dr = wr.rate_migdal(energies, halo_model = test)\n",
    "dr"
   ]
  },
  {
   "cell_type": "code",
   "execution_count": null,
   "metadata": {},
   "outputs": [],
   "source": [
    "# !rm ../../verne/results/veldists/f_params_XENON_230_544_0.30_-35.0_0.00_avg.csv\n",
    "# !rm ../../verne/results/veldists/f_params_SUF_230_544_0.30_-35.0_0.00_avg.csv"
   ]
  },
  {
   "cell_type": "code",
   "execution_count": null,
   "metadata": {},
   "outputs": [],
   "source": [
    "assert False"
   ]
  },
  {
   "cell_type": "code",
   "execution_count": null,
   "metadata": {},
   "outputs": [],
   "source": [
    "%time\n",
    "energies = np.linspace(0.1, 3.5, 3)\n",
    "\n",
    "# dr/dr\n",
    "dr = ((nu.keV * (1000 * nu.kg) * nu.year) * \n",
    "    wr.rate_migdal(energies * nu.keV, \n",
    "                    mw=1 * nu.GeV/nu.c0**2, \n",
    "                    sigma_nucleon=1e-35 * nu.cm**2))\n",
    "\n",
    "plt.plot(energies, dr, label=\"WIMPrates SHM\")\n",
    "\n",
    "plt.xlabel(\"Recoil energy [keV]\")\n",
    "plt.ylabel(\"Rate [events per (keV ton year)]\")\n",
    "\n",
    "plt.xlim(0, energies.max())\n",
    "plt.yscale(\"log\")\n",
    "\n",
    "plt.ylim(1e-7,1e10)\n",
    "plt.title(\"$m_\\chi = 1$ GeV, $\\sigma=10^{-35}$, no shielding\")\n",
    "plt.savefig(\"migdal_spec_2.png\", dpi=300)"
   ]
  },
  {
   "cell_type": "markdown",
   "metadata": {},
   "source": [
    "## Detector smearing"
   ]
  },
  {
   "cell_type": "markdown",
   "metadata": {},
   "source": [
    "# Inference #\n",
    "Below we setup the inference"
   ]
  },
  {
   "cell_type": "markdown",
   "metadata": {},
   "source": [
    "## Distribution of the DM ##\n",
    "First we need to make a DM-rate spectrum"
   ]
  },
  {
   "cell_type": "code",
   "execution_count": null,
   "metadata": {},
   "outputs": [],
   "source": [
    "use_SHM = dddm.SHM()\n"
   ]
  },
  {
   "cell_type": "code",
   "execution_count": null,
   "metadata": {},
   "outputs": [],
   "source": [
    "test = dddm.VerneSHM()\n",
    "test.velocity_dist(100*nu.km/nu.s,1)\n"
   ]
  },
  {
   "cell_type": "code",
   "execution_count": null,
   "metadata": {},
   "outputs": [],
   "source": [
    "x = np.linspace(0,1000,200) * nu.km / nu.s\n",
    "# y2 = wr.observed_speed_dist(x, 0)\n",
    "# plt.plot(x/(nu.km / nu.s),y2)\n",
    "# plt.axvline(310)\n",
    "plt.xlabel(\"v [km/s]\")\n",
    "# plt.ylabel(\"$f (v)$\")\n",
    "plt.plot(x/(nu.km / nu.s), test.velocity_dist(x,0), label = 'SHM')\n",
    "test = dddm.VerneSHM(location=\"SUF\")\n",
    "# test.velocity_dist(100*nu.km/nu.s,0)\n",
    "y2 = test.velocity_dist(x, 0)\n",
    "plt.plot(x/(nu.km / nu.s), y2, label = 'verne')\n",
    "plt.legend()"
   ]
  },
  {
   "cell_type": "code",
   "execution_count": null,
   "metadata": {},
   "outputs": [],
   "source": []
  },
  {
   "cell_type": "code",
   "execution_count": null,
   "metadata": {},
   "outputs": [],
   "source": [
    "3404985278.1905413/(nu.km/nu.s)"
   ]
  },
  {
   "cell_type": "code",
   "execution_count": null,
   "metadata": {},
   "outputs": [],
   "source": [
    "def get_gal_spec(det):\n",
    "    mw, sig = 1, 1e-35\n",
    "    experiment = dddm.experiment[det]\n",
    "    use_verne = dddm.VerneSHM(log_mass = np.log10(mw), \n",
    "                              log_cross_section = np.log10(sig),\n",
    "                              location = experiment['location'])\n",
    "    spec_class = dddm.GenSpectrum(mw, sig, use_verne, experiment)\n",
    "#     spec_class.E_max = 1\n",
    "#     spec_class.mw = 50\n",
    "    spec_class.n_bins = 2\n",
    "    return spec_class.get_data(poisson = False)"
   ]
  },
  {
   "cell_type": "code",
   "execution_count": null,
   "metadata": {
    "scrolled": false
   },
   "outputs": [],
   "source": [
    "# plot_spectrum(xe_galact, label = 'un-smeared', linestyle = '--')\n",
    "fig,ax=plt.subplots(figsize = (8,6))\n",
    "dddm.plot_spectrum(get_gal_spec('Xe_migd'), 'red', label = 'Xe target ', plot_error = False)\n",
    "# dddm.plot_spectrum(get_gal_spec('Ge_migd'), 'green', label = 'Ge target', plot_error = False)\n",
    "# dddm.plot_spectrum(get_gal_spec('Ar_migd'), 'orange', label = 'Ar target', plot_error = False)\n",
    "plt.yscale(\"log\")\n",
    "plt.xlabel(\"Recoil energy [keV]\")\n",
    "plt.ylabel(\"Rate [events per (keV ton year)]\")\n",
    "plt.legend()"
   ]
  },
  {
   "cell_type": "code",
   "execution_count": null,
   "metadata": {},
   "outputs": [],
   "source": [
    "def get_det_spec(det, mw =50):\n",
    "    spec_class = dddm.DetectorSpectrum(1, 1e-35, use_SHM, dddm.experiment[det])\n",
    "#     spec_class.E_max = 200\n",
    "#     spec_class.mw = mw\n",
    "    spec_class.n_bins = 20\n",
    "    return spec_class.get_data(poisson = False)"
   ]
  },
  {
   "cell_type": "code",
   "execution_count": null,
   "metadata": {},
   "outputs": [],
   "source": [
    "# plot_spectrum(xe_galact, label = 'un-smeared', linestyle = '--')\n",
    "# %%time\n",
    "fig,ax=plt.subplots(figsize = (8,6))\n",
    "dddm.plot_spectrum(get_det_spec('Xe_migd'), 'red', label = 'Xe det. resolution', plot_error = False)\n",
    "dddm.plot_spectrum(get_det_spec('Ge_migd'), 'green', label = 'Ge det. resolution', plot_error = False)\n",
    "dddm.plot_spectrum(get_det_spec('Ar_migd'), 'orange', label = 'Ar det. resolution', plot_error = False)\n",
    "plt.yscale(\"log\")\n",
    "plt.ylim(1e-7,1e7)\n",
    "plt.xlabel(\"Recoil energy [keV]\")\n",
    "plt.ylabel(\"Rate [events per (keV ton year)]\")\n",
    "plt.legend()"
   ]
  },
  {
   "cell_type": "markdown",
   "metadata": {},
   "source": [
    "# Likelihood profiling"
   ]
  },
  {
   "cell_type": "code",
   "execution_count": null,
   "metadata": {
    "scrolled": false
   },
   "outputs": [],
   "source": [
    "# dddm.plt_ll_sigma_spec()"
   ]
  },
  {
   "cell_type": "code",
   "execution_count": null,
   "metadata": {
    "scrolled": true
   },
   "outputs": [],
   "source": [
    "# dddm.plt_ll_sigma_det()"
   ]
  },
  {
   "cell_type": "code",
   "execution_count": null,
   "metadata": {
    "scrolled": true
   },
   "outputs": [],
   "source": [
    "# dddm.plt_ll_mass_spec()\n",
    "# plt.ylim(-1000,0)"
   ]
  },
  {
   "cell_type": "code",
   "execution_count": null,
   "metadata": {},
   "outputs": [],
   "source": [
    "# dddm.plt_ll_mass_det()\n",
    "# plt.ylim(-1000,0)"
   ]
  },
  {
   "cell_type": "markdown",
   "metadata": {},
   "source": [
    "# Nested sampling"
   ]
  },
  {
   "cell_type": "code",
   "execution_count": null,
   "metadata": {},
   "outputs": [],
   "source": [
    "fit_class = dddm.MCMCStatModel('Xe_migd')\n",
    "# fit_class.tol = 0.8\n",
    "fit_class.nwalkers = 5\n",
    "fit_class.nsteps = 10\n",
    "# fit_class.nlive = 5\n",
    "fit_class.set_prior('migdal')\n",
    "fit_class.set_benchmark(mw = 1, sigma = -35)\n",
    "print(f\"Fitting for parameters:\\n{fit_class.fit_parameters}\")"
   ]
  },
  {
   "cell_type": "code",
   "execution_count": null,
   "metadata": {},
   "outputs": [],
   "source": [
    "fit_class.run_emcee()"
   ]
  },
  {
   "cell_type": "code",
   "execution_count": null,
   "metadata": {},
   "outputs": [],
   "source": [
    "fit_class.show_walkers()"
   ]
  },
  {
   "cell_type": "code",
   "execution_count": null,
   "metadata": {},
   "outputs": [],
   "source": [
    "import os"
   ]
  },
  {
   "cell_type": "code",
   "execution_count": null,
   "metadata": {},
   "outputs": [],
   "source": [
    "os.system(\"cd\")"
   ]
  },
  {
   "cell_type": "code",
   "execution_count": null,
   "metadata": {},
   "outputs": [],
   "source": []
  },
  {
   "cell_type": "code",
   "execution_count": null,
   "metadata": {},
   "outputs": [],
   "source": []
  },
  {
   "cell_type": "code",
   "execution_count": null,
   "metadata": {},
   "outputs": [],
   "source": [
    "fit_class.run_nestle()\n",
    "fit_class.get_summary()"
   ]
  },
  {
   "cell_type": "code",
   "execution_count": null,
   "metadata": {},
   "outputs": [],
   "source": [
    "fit_class.show_corner()"
   ]
  },
  {
   "cell_type": "code",
   "execution_count": null,
   "metadata": {},
   "outputs": [],
   "source": [
    "assert False"
   ]
  },
  {
   "cell_type": "code",
   "execution_count": null,
   "metadata": {},
   "outputs": [],
   "source": [
    "fit_unconstrained = dddm.NestleStatModel('Xe')\n",
    "fit_unconstrained.tol = 0.8\n",
    "fit_unconstrained.nlive = 2000\n",
    "fit_unconstrained.set_fit_parameters(fit_unconstrained.known_parameters)\n",
    "print(f\"Fitting for parameters:\\n{fit_unconstrained.fit_parameters}\")"
   ]
  },
  {
   "cell_type": "code",
   "execution_count": null,
   "metadata": {},
   "outputs": [],
   "source": [
    "fit_unconstrained.run_nestle()\n",
    "fit_unconstrained.get_summary()"
   ]
  },
  {
   "cell_type": "code",
   "execution_count": null,
   "metadata": {},
   "outputs": [],
   "source": [
    "fit_unconstrained.show_corner()"
   ]
  },
  {
   "cell_type": "code",
   "execution_count": null,
   "metadata": {},
   "outputs": [],
   "source": [
    "print(1)"
   ]
  },
  {
   "cell_type": "code",
   "execution_count": null,
   "metadata": {},
   "outputs": [],
   "source": []
  },
  {
   "cell_type": "code",
   "execution_count": null,
   "metadata": {},
   "outputs": [],
   "source": []
  },
  {
   "cell_type": "code",
   "execution_count": null,
   "metadata": {},
   "outputs": [],
   "source": []
  }
 ],
 "metadata": {
  "kernelspec": {
   "display_name": "Python 3",
   "language": "python",
   "name": "python3"
  },
  "language_info": {
   "codemirror_mode": {
    "name": "ipython",
    "version": 3
   },
   "file_extension": ".py",
   "mimetype": "text/x-python",
   "name": "python",
   "nbconvert_exporter": "python",
   "pygments_lexer": "ipython3",
   "version": "3.7.4"
  }
 },
 "nbformat": 4,
 "nbformat_minor": 2
}
