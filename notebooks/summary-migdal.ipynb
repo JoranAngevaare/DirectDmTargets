{
 "cells": [
  {
   "cell_type": "code",
   "execution_count": null,
   "metadata": {},
   "outputs": [],
   "source": [
    "%run common_init.py"
   ]
  },
  {
   "cell_type": "code",
   "execution_count": null,
   "metadata": {},
   "outputs": [],
   "source": [
    "save_dir = '/home/joran/google_drive/200202_results_dddm'"
   ]
  },
  {
   "cell_type": "markdown",
   "metadata": {},
   "source": [
    "# Direct detection of Dark matter using different target materials #\n",
    "\n",
    "Author:\n",
    "\n",
    "Joran Angevaare <j.angevaare@nikef.nl>\n",
    "\n",
    "Date:\n",
    "\n",
    "02 Jan. 2020\n"
   ]
  },
  {
   "cell_type": "markdown",
   "metadata": {},
   "source": [
    "## HALO model ##\n",
    "In DirectDmTargets (dddm) we have two ways of generating spectra:\n",
    " - Directly from wimprates. See: <https://github.com/jorana/wimprates> (cloned from  <https://github.com/JelleAalbers/wimprates>) \n",
    " - Loading velocity distributions from verne into wimprates to generate a spectrum of dark matter by integrating the velocity distribution with wimprates <https://github.com/jorana/verne> (cloned from <https://github.com/bradkav/verne>)\n"
   ]
  },
  {
   "cell_type": "code",
   "execution_count": null,
   "metadata": {},
   "outputs": [],
   "source": [
    "plt.rcParams['axes.grid'] = True"
   ]
  },
  {
   "cell_type": "code",
   "execution_count": null,
   "metadata": {},
   "outputs": [],
   "source": [
    "def n_int_f(f,v):\n",
    "    '''numerically calculate the integral of f*v*dv'''\n",
    "    bin_widths = v[1:]-v[:-1]\n",
    "    av_bin_width = np.mean(bin_widths)\n",
    "    assert np.all(abs(bin_widths-av_bin_width) -1 < 0.01), \"use equal bin-spacing\"\n",
    "    return np.sum(f * v * bin_widths[0])"
   ]
  },
  {
   "cell_type": "code",
   "execution_count": null,
   "metadata": {
    "scrolled": false
   },
   "outputs": [],
   "source": [
    "# Plot -options\n",
    "plt.figure(figsize = (8,6))\n",
    "nplots = 7\n",
    "cm = plt.get_cmap('gist_rainbow')\n",
    "\n",
    "# velocity\n",
    "vel = np.linspace(0,1000,200)\n",
    "\n",
    "# load standard-halo-model spectrum with given parameters\n",
    "args = dict(v_0=230* nu.km / nu.s, v_esc = 544* nu.km / nu.s, rho_dm = 0.3 * nu.GeV / nu.c0 ** 2 / nu.cm ** 3)\n",
    "shm_dist = dddm.SHM(**args)\n",
    "f = shm_dist.velocity_dist(vel*nu.km/nu.s, 0) * nu.km/nu.s\n",
    "plt.plot(vel, f, label = 'SHM', linestyle = '-.')\n",
    "int_shm = n_int_f(f,vel)\n",
    "print(f'Num. int. of {\"SHM\"}=\\t{int_shm/int_shm}')\n",
    "\n",
    "# Make the mass and the location explicit\n",
    "log_mw = 0\n",
    "loc = \"XENON\"\n",
    "s_min, s_max, d_s = -35, -29, 1 # plot: from - to - with steps\n",
    "nplots = nplots = (s_max - s_min)  // d_s\n",
    "# loop over cross-sections\n",
    "for i, sig in enumerate(np.arange(s_min, s_max, d_s)):\n",
    "    args['log_cross_section'] = sig\n",
    "    args['log_mass'] = log_mw\n",
    "    args['location'] = loc\n",
    "    verne_dist = dddm.VerneSHM(**args)\n",
    "    f = verne_dist.velocity_dist(vel*nu.km/nu.s, 0)*nu.km/nu.s\n",
    "    plt.plot(vel, f, \n",
    "             c = cm(float(i)/nplots),\n",
    "             label = f'shielded-shm, $m_w=%.1f$, $GeV/c^2$\\n$\\log(\\sigma/$cm^2$) = {sig}$'%(10**log_mw))\n",
    "    print(f'Num. int. of {sig}=\\t{n_int_f(f,vel)/int_shm}')\n",
    "plt.legend(loc=(1.01,0))\n",
    "plt.xlabel('velocity [km/s]')\n",
    "plt.ylabel('f(v)')\n",
    "plt.title('Velocity distributions with lowered accuracy')\n",
    "for f_type in ['pdf', 'png']:\n",
    "    plt.savefig(f'{save_dir}/quick_verne.{f_type}', dpi = 100, bbox_inches= 'tight')"
   ]
  },
  {
   "cell_type": "markdown",
   "metadata": {},
   "source": [
    "# Load the full verne simulation\n",
    "below we load the full verne simulation with the default options, this takes somewhat longer than the procedure as on the forked verne code as linked above."
   ]
  },
  {
   "cell_type": "code",
   "execution_count": null,
   "metadata": {
    "scrolled": true
   },
   "outputs": [],
   "source": [
    "# Command to load\n",
    "save = \"/mnt/c/Users/Joran/dddm_data/verne/full_spec.csv\" \n",
    "if not os.path.exists(save):\n",
    "    !python \"/home/joran/google_drive/windows-anaconda/verne/\"/src/CalcVelDist_full.py -m_x 1 -sigma_p 1e-34 -loc XENON -path \"/home/joran/google_drive/windows-anaconda/verne//src/\" -v_0 229.99999999999997 -v_esc 544.0 -save_as $save"
   ]
  },
  {
   "cell_type": "code",
   "execution_count": null,
   "metadata": {},
   "outputs": [],
   "source": [
    "# A copy of the full spectrum has been saved at:\n",
    "df = pd.read_csv('/home/joran/google_drive/windows-anaconda/verne/results/full_veldists/f_all_XENON_229_544_-78.3_1.00.csv')\n",
    "\n",
    "# The df contains several values of the angle gamma, disentangle those here:\n",
    "_,x,y  = df.keys()\n",
    "headers = np.unique(df['gamma/pi'].values)\n",
    "def get_average(df, headers, projection):\n",
    "    masks = np.array([df['gamma/pi'] == header for header in headers])\n",
    "    combined = np.array([df[mask][projection].values for mask in masks])\n",
    "    return np.average(combined,axis = 0)\n",
    "df_average = pd.DataFrame()\n",
    "for projection in [x,y]:\n",
    "    df_average[projection] = get_average(df, headers, projection)\n",
    "\n",
    "# The different angles\n",
    "headers = np.unique(df['gamma/pi'].values)\n",
    "n_headers = len(headers)"
   ]
  },
  {
   "cell_type": "markdown",
   "metadata": {},
   "source": [
    "### plot verne\n",
    "below we plot the full verne calculation and compare it with the calculation as performed by the forked github branch as linked above"
   ]
  },
  {
   "cell_type": "code",
   "execution_count": null,
   "metadata": {},
   "outputs": [],
   "source": [
    "# Plot options\n",
    "plt.figure(figsize = (8,6))\n",
    "plt.xlabel(\"v [km/s]\")\n",
    "\n",
    "# Plot shm\n",
    "plt.plot(vel, shm_dist.velocity_dist(vel*nu.km/nu.s, 0) * nu.km /nu.s, label = 'SHM', linestyle = '-.')\n",
    "plt.ylim()*2\n",
    "\n",
    "# Plot for the angles\n",
    "for i, header in enumerate(headers):\n",
    "    mask = df['gamma/pi'] == header\n",
    "    kwargs = {'color': cm(float(i)/n_headers),\n",
    "        'label': '$\\gamma$ = %.1f$^\\circ$'%np.rad2deg(header*np.pi)}\n",
    "    plt.plot(df[mask][x], df[mask][y], **kwargs)    \n",
    "    plt.ylabel(y.replace(\"_\",\" \"))\n",
    "    \n",
    "# Again plot the corresponding distribution as done above\n",
    "sig = -34\n",
    "args['log_cross_section'] = sig\n",
    "verne_dist = dddm.VerneSHM(**args)\n",
    "f_quick = verne_dist.velocity_dist(vel*nu.km/nu.s, 0) * nu.km /nu.s\n",
    "plt.plot(vel, f_quick, \n",
    "     label = f'shielded-shm, $m_w=%.1f$, $GeV/c^2$\\n$\\log(\\sigma/$cm^2$) = {sig}$'%(10**log_mw))\n",
    "quick_ratio = n_int_f(f_quick, vel)/int_shm\n",
    "print(f'Num. int. at average (quick)=\\t{quick_ratio}')\n",
    "\n",
    "# Also plot the average of the full simulation\n",
    "plt.plot(df_average[x],df_average[y], label = 'average', linestyle = '--')\n",
    "def f_in(x0,y0, x):\n",
    "        return scipy.interpolate.interp1d(x0,y0, bounds_error=False, fill_value=0)(x)\n",
    "full_ratio = n_int_f(f_in(df_average[x], df_average[y], vel), vel)/int_shm\n",
    "print(f'Num. int. at average (full) =\\t{full_ratio}')\n",
    "plt.legend()\n",
    "plt.title('Compare full verne vs. lower accuracy verne.')\n",
    "\n",
    "\n",
    "print(f'Quick method is off by %.1f'%(100 * (1-quick_ratio / full_ratio)) + '%')\n",
    "for f_type in ['pdf', 'png']:\n",
    "    plt.savefig(f'{save_dir}/compare_verne.{f_type}', dpi = 100, bbox_inches= 'tight')\n",
    "    \n"
   ]
  },
  {
   "cell_type": "markdown",
   "metadata": {},
   "source": [
    "# Plot migdal spectra"
   ]
  },
  {
   "cell_type": "code",
   "execution_count": null,
   "metadata": {},
   "outputs": [],
   "source": [
    "# No detector resolution\n",
    "def plot_spectrum(data, yerr = True, color = 'blue', label = 'label', linestyle = 'none'):\n",
    "    plt.errorbar(data['bin_centers'], data['counts'], \n",
    "                xerr=(data['bin_left'] - data['bin_right'])/2,\n",
    "                yerr = np.sqrt(data['counts']) if yerr else np.zeros(len(data['counts'])),\n",
    "                color = color,\n",
    "                linestyle = linestyle,\n",
    "                capsize = 2,\n",
    "                marker = 'o',\n",
    "                markersize =3,\n",
    "                label = label\n",
    "                )\n",
    "def plot_spectrum_ax(ax, data, yerr = True, color = 'blue', label = 'label', linestyle = 'none'):\n",
    "    print(np.sum(data['counts']))\n",
    "    ax.errorbar(data['bin_centers'], data['counts'], \n",
    "                xerr=(data['bin_left'] - data['bin_right'])/2,\n",
    "                yerr = np.sqrt(data['counts']) if yerr else np.zeros(len(data['counts'])),\n",
    "                color = color,\n",
    "                linestyle = linestyle,\n",
    "                capsize = 2,\n",
    "                marker = 'o',\n",
    "                markersize =3,\n",
    "                label = label\n",
    "                )\n",
    "def get_gal_spec(det, mw = 1, sigma = 1e-34, nbins = 10):\n",
    "    events = dddm.GenSpectrum(mw, sigma, use_SHM, dddm.experiment[det])\n",
    "    events.n_bins = nbins\n",
    "    return events.get_data(poisson = False)"
   ]
  },
  {
   "cell_type": "code",
   "execution_count": null,
   "metadata": {},
   "outputs": [],
   "source": [
    "use_SHM = dddm.SHM()"
   ]
  },
  {
   "cell_type": "code",
   "execution_count": null,
   "metadata": {},
   "outputs": [],
   "source": [
    "def get_det_spec(det, mw = 1, sigma = 1e-34, nbins = 10, background = True, shm = use_SHM):\n",
    "    events = dddm.DetectorSpectrum(mw, sigma, shm, dddm.experiment[det])\n",
    "    events.n_bins = nbins\n",
    "    events.add_background = background\n",
    "    return events.get_data(poisson = False)"
   ]
  },
  {
   "cell_type": "code",
   "execution_count": null,
   "metadata": {},
   "outputs": [],
   "source": [
    "def plot_spectra(det, mw = 1, sigma = 1e-34, nbins = 10):\n",
    "    fig, (ax1,ax2) = plt.subplots(2, figsize = (14,8), sharex = True)\n",
    "    \n",
    "    gal_spec = get_gal_spec(det, mw = mw, sigma = sigma, nbins = nbins)\n",
    "    bg_spec = get_det_spec(det, mw = mw, sigma = sigma, nbins = nbins, background = False)\n",
    "    \n",
    "    ax1.set_title('spectrum log. scale')\n",
    "    plot_spectrum_ax(ax1, gal_spec, color = 'red', \n",
    "                     label = f'{det} without det. parameters (gal_spec)')\n",
    "    \n",
    "    plot_spectrum_ax(ax1,bg_spec,color =  'black', \n",
    "                     label = f'{det} (bg_spec)')\n",
    "\n",
    "    ax1.set_ylim(bottom=np.max([plt.ylim()[-1], (1e-10 * 10/nbins)]))\n",
    "    ax1.set_yscale(\"log\")\n",
    "    \n",
    "    ax2.set_title('spectrum lin. scale')\n",
    "    plot_spectrum_ax(ax2, gal_spec, color = 'red', \n",
    "                     label = f'{det} without det. parameters')\n",
    "    plot_spectrum_ax(ax2,bg_spec,color =  'black', \n",
    "                     label = f'{det}')\n",
    "    ax2.set_ylim(0, 2 * bg_spec['counts'].max())\n",
    "    for ax in [ax1,ax2]:\n",
    "        ax.axvline(dddm.experiment[det]['E_thr'], label = 'energy threshold')\n",
    "        ax.grid(axis=\"both\")\n",
    "        ax.set_ylabel('counts/keV')\n",
    "        ax.legend()\n",
    "    plt.xlabel('E [keV]')"
   ]
  },
  {
   "cell_type": "code",
   "execution_count": null,
   "metadata": {},
   "outputs": [],
   "source": [
    "args = dict(v_0=230* nu.km / nu.s, v_esc = 544* nu.km / nu.s, rho_dm = 0.3 * nu.GeV / nu.c0 ** 2 / nu.cm ** 3)\n",
    "use_SHM = dddm.SHM(**args)"
   ]
  },
  {
   "cell_type": "code",
   "execution_count": null,
   "metadata": {},
   "outputs": [],
   "source": []
  },
  {
   "cell_type": "code",
   "execution_count": null,
   "metadata": {},
   "outputs": [],
   "source": [
    "%%time\n",
    "plot_spectra('Xe_migd', nbins = 1000)\n",
    "for f_type in ['pdf', 'png']:\n",
    "    plt.savefig(f'{save_dir}/shm_det.spectrum1.{f_type}', dpi = 100, bbox_inches= 'tight')"
   ]
  },
  {
   "cell_type": "code",
   "execution_count": null,
   "metadata": {},
   "outputs": [],
   "source": [
    "log_mw = 0\n",
    "loc = \"XENON\"\n",
    "sig = -34\n",
    "args['log_cross_section'] = sig\n",
    "args['log_mass'] = log_mw\n",
    "args['location'] = loc\n",
    "use_SHM = dddm.VerneSHM(**args)\n"
   ]
  },
  {
   "cell_type": "code",
   "execution_count": null,
   "metadata": {},
   "outputs": [],
   "source": [
    "%%time\n",
    "plot_spectra('Xe_migd', nbins = 1000)\n",
    "for f_type in ['pdf', 'png']:\n",
    "    plt.savefig(f'{save_dir}/verne_det.spectrum2.{f_type}', dpi = 100, bbox_inches= 'tight')"
   ]
  },
  {
   "cell_type": "markdown",
   "metadata": {},
   "source": [
    "# Using dddm to get different spectra at a given variation of v0"
   ]
  },
  {
   "cell_type": "code",
   "execution_count": null,
   "metadata": {},
   "outputs": [],
   "source": [
    "def spectra_for_shm(ax, det, shm, label =\"\", mw = 1, sigma = 1e-34, nbins = 10, c = 'red'):\n",
    "    bg_spec = get_det_spec(det, mw = mw, \n",
    "                           sigma = sigma, nbins = nbins, background = False, shm = shm)\n",
    "    plot_spectrum_ax(ax1, bg_spec, color = c,\n",
    "                     label = label)\n",
    "    plt.xlabel('E [keV]')"
   ]
  },
  {
   "cell_type": "code",
   "execution_count": null,
   "metadata": {},
   "outputs": [],
   "source": []
  },
  {
   "cell_type": "code",
   "execution_count": null,
   "metadata": {
    "scrolled": false
   },
   "outputs": [],
   "source": [
    "fig, (ax1) = plt.subplots(1, figsize = (14,8), sharex = True)\n",
    "vlist = np.arange(233-90,233+90+1, 30)\n",
    "for i, v_0 in enumerate(vlist):\n",
    "    args = dict(v_0=v_0* nu.km / nu.s, \n",
    "                v_esc = 544* nu.km / nu.s, \n",
    "                rho_dm = 0.3 * nu.GeV / nu.c0 ** 2 / nu.cm ** 3)\n",
    "    use_SHM = dddm.SHM(**args)\n",
    "    spectra_for_shm(ax1, 'Xe_migd', use_SHM, nbins = 10, \n",
    "                    label = f'v0 = {v_0} km/s', c = cm(float(i)/len(vlist)) )\n",
    "plt.legend()\n",
    "plt.yscale(\"log\")"
   ]
  },
  {
   "cell_type": "code",
   "execution_count": null,
   "metadata": {},
   "outputs": [],
   "source": [
    "fig, (ax1) = plt.subplots(1, figsize = (14,8), sharex = True)\n",
    "vlist = np.arange(528-99,528+99+1, 33)\n",
    "for i, v_esc in enumerate(vlist):\n",
    "    args = dict(v_0=233* nu.km / nu.s, \n",
    "                v_esc = v_esc* nu.km / nu.s, \n",
    "                rho_dm = 0.3 * nu.GeV / nu.c0 ** 2 / nu.cm ** 3)\n",
    "    use_SHM = dddm.SHM(**args)\n",
    "    spectra_for_shm(ax1, 'Xe_migd', use_SHM, nbins = 10, \n",
    "                    label = f'v_esc = {v_esc} km/s', c = cm(float(i)/len(vlist)) )\n",
    "plt.legend()\n",
    "plt.yscale(\"log\")"
   ]
  },
  {
   "cell_type": "code",
   "execution_count": null,
   "metadata": {},
   "outputs": [],
   "source": [
    "path = \"/mnt/c/Users/Joran/dddm_data/spectra/nbin-10/model-shm/mw-1.00/log_s--39.02/rho-0.55/v_0-233.0/v_esc-528/poisson_0/spectrum_Xe_migdal_25_0.8_0.5_1.4_XENON_10.0_Xe_migd-HDESKTOP-URE1BBI.localdomain-P10802.csv\"\n",
    "# path = \"/mnt/c/Users/Joran/dddm_data/spectra//nbin-10/model-shm/mw-1.14/log_s--35.61/rho-0.21/v_0-142.8/v_esc-503/poisson_0/spectrum_Xe_migdal_25_0.8_0.5_1.4_XENON_10.0_Xe_migd-HDESKTOP-URE1BBI.localdomain-P812.csv\"\n",
    "print(path)\n",
    "os.path.exists(path)"
   ]
  },
  {
   "cell_type": "code",
   "execution_count": null,
   "metadata": {},
   "outputs": [],
   "source": [
    "read_intermediate = pd.read_csv(path)\n",
    "read_intermediate"
   ]
  },
  {
   "cell_type": "code",
   "execution_count": null,
   "metadata": {
    "scrolled": true
   },
   "outputs": [],
   "source": [
    "read_intermediate.plot('bin_centers', 'counts')"
   ]
  },
  {
   "cell_type": "code",
   "execution_count": null,
   "metadata": {},
   "outputs": [],
   "source": [
    "args = dict(v_0=233* nu.km / nu.s, \n",
    "                v_esc = 528* nu.km / nu.s, \n",
    "                rho_dm = 0.55 * nu.GeV / nu.c0 ** 2 / nu.cm ** 3)\n",
    "compare_shm = dddm.SHM(**args)\n",
    "compare_spec = get_det_spec('Xe_migd', mw = 1, sigma = 10.**-39.02\n",
    "             , nbins = 10, background = False, shm = compare_shm)"
   ]
  },
  {
   "cell_type": "code",
   "execution_count": null,
   "metadata": {},
   "outputs": [],
   "source": [
    "args = dict(v_0=233* nu.km / nu.s, \n",
    "                v_esc = 528* nu.km / nu.s, \n",
    "                rho_dm = 0.4 * nu.GeV / nu.c0 ** 2 / nu.cm ** 3)\n",
    "compare_shm = dddm.SHM(**args)\n",
    "compare_spec2 = get_det_spec('Xe_migd', mw = 1, sigma = 10.**-39.02\n",
    "             , nbins = 10, background = False, shm = compare_shm)"
   ]
  },
  {
   "cell_type": "code",
   "execution_count": null,
   "metadata": {},
   "outputs": [],
   "source": [
    "# args = dict(v_0=233* nu.km / nu.s, \n",
    "#                 v_esc = 528* nu.km / nu.s, \n",
    "#                 rho_dm = 0.21 * nu.GeV / nu.c0 ** 2 / nu.cm ** 3)\n",
    "# compare_shm = dddm.SHM(**args)\n",
    "# compare_spec3 = get_det_spec('Xe_migd', mw = 1.14, sigma = 10.**-35.61\n",
    "#              , nbins = 10, background = False, shm = compare_shm)"
   ]
  },
  {
   "cell_type": "code",
   "execution_count": null,
   "metadata": {},
   "outputs": [],
   "source": [
    "compare_shm.v_0 / (nu.km / nu.s)"
   ]
  },
  {
   "cell_type": "code",
   "execution_count": null,
   "metadata": {},
   "outputs": [],
   "source": [
    "xs = read_intermediate['bin_centers'].values\n",
    "plt.plot(xs, read_intermediate['counts'].values, label = 'read')\n",
    "plt.plot(xs, compare_spec['counts'].values, label = 'should equal')\n",
    "plt.plot(xs, compare_spec2['counts'].values, label = 'default')\n",
    "# plt.plot(xs, compare_spec3['counts'].values, label = 'default-shm')\n",
    "plt.legend()"
   ]
  },
  {
   "cell_type": "code",
   "execution_count": null,
   "metadata": {},
   "outputs": [],
   "source": [
    "args = dict(v_0=142.3* nu.km / nu.s, \n",
    "                v_esc = 503* nu.km / nu.s, \n",
    "                rho_dm = 0.21 * nu.GeV / nu.c0 ** 2 / nu.cm ** 3)\n",
    "compare_shm = dddm.SHM(**args)\n",
    "compare_spec = get_det_spec('Xe_migd', mw = 1.14, sigma = 10.**-35.61\n",
    "             , nbins = 10, background = False, shm = compare_shm)"
   ]
  },
  {
   "cell_type": "code",
   "execution_count": null,
   "metadata": {},
   "outputs": [],
   "source": [
    "args = dict(v_0=233* nu.km / nu.s, \n",
    "                v_esc = 528* nu.km / nu.s, \n",
    "                rho_dm = 0.55 * nu.GeV / nu.c0 ** 2 / nu.cm ** 3)\n",
    "compare_shm = dddm.SHM(**args)\n",
    "compare_spec2 = get_det_spec('Xe_migd', mw = 1, sigma = 10.**-35\n",
    "             , nbins = 10, background = False, shm = compare_shm)"
   ]
  },
  {
   "cell_type": "code",
   "execution_count": null,
   "metadata": {},
   "outputs": [],
   "source": [
    "args = dict(v_0=233* nu.km / nu.s, \n",
    "                v_esc = 528* nu.km / nu.s, \n",
    "                rho_dm = 0.21 * nu.GeV / nu.c0 ** 2 / nu.cm ** 3)\n",
    "compare_shm = dddm.SHM(**args)\n",
    "compare_spec3 = get_det_spec('Xe_migd', mw = 1.14, sigma = 10.**-35.61\n",
    "             , nbins = 10, background = False, shm = compare_shm)"
   ]
  },
  {
   "cell_type": "code",
   "execution_count": null,
   "metadata": {},
   "outputs": [],
   "source": [
    "xs = read_intermediate['bin_centers'].values\n",
    "plt.plot(xs, read_intermediate['counts'].values, label = 'read')\n",
    "plt.plot(xs, compare_spec['counts'].values, label = 'should equal')\n",
    "# plt.plot(xs, compare_spec2['counts'].values, label = 'default')\n",
    "# plt.plot(xs, compare_spec3['counts'].values, label = 'default-shm')\n",
    "plt.legend()"
   ]
  },
  {
   "cell_type": "markdown",
   "metadata": {},
   "source": [
    "# Check likelihood function as function of v_0"
   ]
  },
  {
   "cell_type": "code",
   "execution_count": null,
   "metadata": {},
   "outputs": [],
   "source": [
    "from DirectDmTargets import SHM, log_likelihood, experiment, remove_nan\n",
    "def plt_ll_sigma_mass_migd(spec_clas, vary, det='Xe_migdal', bins=10, m=1, sig=1e-40):\n",
    "#     assert vary in ['mass', 'sig'], \"use sig or mass\"\n",
    "    use_SHM = SHM(v_0=233* nu.km / nu.s, \n",
    "                  v_esc = 528* nu.km / nu.s, \n",
    "                  rho_dm = 0.55 * nu.GeV / nu.c0 ** 2 / nu.cm ** 3)\n",
    "    events = spec_clas(m, sig, use_SHM, experiment[det])\n",
    "    events.n_bins = bins\n",
    "    data = events.get_data(poisson=False)\n",
    "    if vary == 'sig':\n",
    "        plt.xlabel('$\\sigma$ $[cm^2]$')\n",
    "        plt.axvline(sig, alpha=0.5, color='red', label='truth')\n",
    "#         var = np.linspace(0.1 * sig, 10 * sig, 30)\n",
    "        var = np.concatenate((np.linspace(0.1 * sig, sig, 15),\n",
    "                              np.linspace(sig, sig*3, 15)))\n",
    "\n",
    "        def model(x):\n",
    "            res = spec_clas(m, x, use_SHM, experiment[det])\n",
    "            res.n_bins = bins\n",
    "            return res.get_data(poisson=False)['counts']\n",
    "\n",
    "    elif vary == 'mass':\n",
    "        plt.xlabel('mass [GeV/$c^2$]')\n",
    "        plt.axvline(m, alpha=0.5, color='red', label='truth')\n",
    "        plt.axvline(m, alpha=0.1, color='black', label='binning boundary')\n",
    "        var = np.concatenate((np.linspace(m/50, m, 15),\n",
    "                              np.linspace(m, m*5, 15)))\n",
    "\n",
    "        def model(x):\n",
    "            res = spec_clas(x, sig, use_SHM, experiment[det])\n",
    "            res.n_bins = bins\n",
    "            return res.get_data(poisson=False)['counts']\n",
    "    elif vary == 'v_0':\n",
    "        plt.xlabel('v_0 [km/s]')\n",
    "        plt.axvline(233, alpha=0.5, color='red', label='truth')\n",
    "#         plt.axvline(233, alpha=0.1, color='black', label='binning boundary')\n",
    "#         var = np.concatenate((np.linspace(1, 33, 50),\n",
    "#                               np.linspace(33, 300, 50)))\n",
    "        var = np.linspace(233 - 5 * 30, 233 + 10 * 30, 80)\n",
    "        def model(x):\n",
    "            use_SHM = SHM(\n",
    "                  v_0=x* nu.km / nu.s, \n",
    "                  v_esc = 528* nu.km / nu.s, \n",
    "                  rho_dm = 0.55 * nu.GeV / nu.c0 ** 2 / nu.cm ** 3)\n",
    "            res = spec_clas(m, sig, use_SHM, experiment[det])\n",
    "            res.n_bins = bins\n",
    "            return res.get_data(poisson=False)['counts']\n",
    "    plr = [log_likelihood(data['counts'], model(x)) for x in\n",
    "           tqdm(var)]\n",
    "\n",
    "    plt.xlim(var[0], var[-1])\n",
    "    var, plr = remove_nan(var, plr), remove_nan(plr, var)\n",
    "    plt.plot(var, plr, linestyle='steps-mid')\n",
    "    plt.ylim(np.min(plr), np.max(plr))\n",
    "    return var, plr\n",
    "\n",
    "\n",
    "# def plt_ll_sigma_spec(det='Xe', bins=10, m=50, sig=1e-45):\n",
    "#     plt_ll_sigma_mass(GenSpectrum, 'sig', det=det, bins=bins, m=m, sig=sig)\n",
    "\n",
    "\n",
    "# def plt_ll_mass_spec(det='Xe', bins=10, m=50, sig=1e-45):\n",
    "#     plt_ll_sigma_mass(GenSpectrum, 'mass', det=det, bins=bins, m=m, sig=sig)\n",
    "\n",
    "\n",
    "def plt_ll_migd(det='Xe_migd', var = 'v_0' , bins=10, m=1, sig=1e-42):\n",
    "    return plt_ll_sigma_mass_migd(dddm.DetectorSpectrum, var, det=det, bins=bins, m=m, sig=sig)"
   ]
  },
  {
   "cell_type": "code",
   "execution_count": null,
   "metadata": {},
   "outputs": [],
   "source": [
    "res = plt_ll_migd()"
   ]
  },
  {
   "cell_type": "code",
   "execution_count": null,
   "metadata": {
    "scrolled": false
   },
   "outputs": [],
   "source": [
    "res2 = plt_ll_sigma_mass_migd(dddm.DetectorSpectrum, 'sig', det='Xe_migd', bins=10, m=1, sig=1e-42)\n",
    "plt.xscale(\"log\")"
   ]
  },
  {
   "cell_type": "code",
   "execution_count": null,
   "metadata": {},
   "outputs": [],
   "source": [
    "res3 = plt_ll_sigma_mass_migd(dddm.DetectorSpectrum, 'mass', det='Xe_migd', bins=10, m=1, sig=1e-42)\n",
    "# plt.xscale(\"log\")"
   ]
  },
  {
   "cell_type": "code",
   "execution_count": null,
   "metadata": {},
   "outputs": [],
   "source": []
  },
  {
   "cell_type": "code",
   "execution_count": null,
   "metadata": {},
   "outputs": [],
   "source": []
  },
  {
   "cell_type": "code",
   "execution_count": null,
   "metadata": {},
   "outputs": [],
   "source": [
    "res4 = plt_ll_sigma_mass_migd(dddm.DetectorSpectrum, 'v_0', det='Xe', bins=10, m=50, sig=1e-46)"
   ]
  },
  {
   "cell_type": "code",
   "execution_count": null,
   "metadata": {},
   "outputs": [],
   "source": [
    "res4 = plt_ll_sigma_mass_migd(dddm.DetectorSpectrum, 'v_0', det='Xe', bins=10, m=50, sig=1e-46)"
   ]
  },
  {
   "cell_type": "code",
   "execution_count": null,
   "metadata": {},
   "outputs": [],
   "source": [
    "res5 = plt_ll_sigma_mass_migd(dddm.DetectorSpectrum, 'v_0', det='Xe', bins=10, m=50, sig=1e-47)"
   ]
  },
  {
   "cell_type": "code",
   "execution_count": null,
   "metadata": {},
   "outputs": [],
   "source": [
    "plt.plot(res4[0],res4[1])\n",
    "plt.plot(res5[0],res5[1])"
   ]
  },
  {
   "cell_type": "markdown",
   "metadata": {},
   "source": [
    "# Plot spectra of benchmarks"
   ]
  },
  {
   "cell_type": "code",
   "execution_count": null,
   "metadata": {},
   "outputs": [],
   "source": [
    "args = dict(v_0=233* nu.km / nu.s, \n",
    "                v_esc = 528* nu.km / nu.s, \n",
    "                rho_dm = 0.55 * nu.GeV / nu.c0 ** 2 / nu.cm ** 3)\n",
    "use_SHM = dddm.SHM(**args)"
   ]
  },
  {
   "cell_type": "code",
   "execution_count": null,
   "metadata": {
    "scrolled": false
   },
   "outputs": [],
   "source": [
    "for m in [5,1,0.5,0.2]:\n",
    "    if m == 5: sigmas = [-44,-43,-42, -39]\n",
    "    if m == 1: sigmas = [-42,-41,-40, -37]\n",
    "    if m == 0.5: sigmas = [-39, -38, -37, -34]\n",
    "    if m == 0.2: sigmas = [-37,-35, -32]\n",
    "    start = time.time()\n",
    "    fig, (ax1) = plt.subplots(1, figsize = (14,8), sharex = True)\n",
    "    for i, s in enumerate(sigmas):        \n",
    "        lab =  f\"m={m} s={s}\"        \n",
    "        spectra_for_shm(ax1, 'Xe_migd', use_SHM, \n",
    "                        label = lab, mw=m, \n",
    "                        sigma = 10**s, c = cm(float(i)/len(sigmas)))\n",
    "    plt.legend()\n",
    "    plt.yscale(\"symlog\")\n",
    "    plt.show()\n",
    "    print(f'Took {time.time()-start} s')"
   ]
  },
  {
   "cell_type": "code",
   "execution_count": null,
   "metadata": {
    "scrolled": false
   },
   "outputs": [],
   "source": [
    "for m in [5,1,0.5,0.2]:\n",
    "    if m == 5: sigmas = [-44,-43,-42]\n",
    "    if m == 1: sigmas = [-42,-41,-40,-39]\n",
    "    if m == 0.5: sigmas = [-39, -38, -37, -36]\n",
    "    if m == 0.2: sigmas = [-37, -35, -33, -31, -29]\n",
    "    start = time.time()\n",
    "    fig, (ax1) = plt.subplots(1, figsize = (14,8), sharex = True)\n",
    "    for i, s in enumerate(sigmas):        \n",
    "        lab =  f\"m={m} s={s}\"        \n",
    "        spectra_for_shm(ax1, 'Xe_migd', use_SHM, \n",
    "                        label = lab, mw=m, sigma = 10**s, c = cm(float(i)/len(sigmas)))\n",
    "    plt.legend()\n",
    "    plt.yscale(\"symlog\")\n",
    "    plt.show()\n",
    "    print(f'Took {time.time()-start} s')"
   ]
  },
  {
   "cell_type": "code",
   "execution_count": null,
   "metadata": {
    "scrolled": false
   },
   "outputs": [],
   "source": [
    "for m in [5,1,0.5,0.2, 0.1, 0.3, 0.4, 0.25]:\n",
    "    if m == 5: sigmas = [-44,-43,-42]\n",
    "    if m == 1: sigmas = [-42,-41,-40,-39]\n",
    "    if m == 0.5: sigmas = [-39, -38, -37, -36]\n",
    "    if m == 0.2: sigmas = [-37, -35, -33, -31, -29]\n",
    "    if m < 0.5: \n",
    "        sigmas = [-37, -35, -33, -31, -29]\n",
    "    start = time.time()\n",
    "    fig, (ax1) = plt.subplots(1, figsize = (14,8), sharex = True)\n",
    "    for i, s in enumerate(sigmas):        \n",
    "        lab =  f\"m={m} s={s}\"        \n",
    "        spectra_for_shm(ax1, 'Xe_migd', use_SHM, \n",
    "                        label = lab, mw=m, sigma = 10**s, c = cm(float(i)/len(sigmas)))\n",
    "    plt.legend()\n",
    "    plt.yscale(\"symlog\")\n",
    "    plt.show()\n",
    "    print(f'Took {time.time()-start} s')"
   ]
  },
  {
   "cell_type": "code",
   "execution_count": null,
   "metadata": {},
   "outputs": [],
   "source": []
  },
  {
   "cell_type": "code",
   "execution_count": null,
   "metadata": {},
   "outputs": [],
   "source": []
  },
  {
   "cell_type": "code",
   "execution_count": null,
   "metadata": {
    "scrolled": false
   },
   "outputs": [],
   "source": [
    "for m in [5,1,0.5,0.2]:\n",
    "    if m == 5: sigmas = [-44,-43,-42]\n",
    "    if m == 1: sigmas = [-42,-41,-40,-39]\n",
    "    if m == 0.5: sigmas = [-39, -38, -37, -36]\n",
    "    if m == 0.2: sigmas = [-37, -35, -33, -31, -29]\n",
    "    start = time.time()\n",
    "    fig, (ax1) = plt.subplots(1, figsize = (14,8), sharex = True)\n",
    "    for i, s in enumerate(sigmas):        \n",
    "        lab =  f\"m={m} s={s}\"        \n",
    "        spectra_for_shm(ax1, 'Xe_migd', use_SHM, \n",
    "                        label = lab, mw=m, sigma = 10**s, c = cm(float(i)/len(sigmas)),\n",
    "                       nbins = 100)\n",
    "    plt.legend()\n",
    "    plt.yscale(\"symlog\")\n",
    "    plt.show()\n",
    "    print(f'Took {time.time()-start} s')"
   ]
  },
  {
   "cell_type": "code",
   "execution_count": null,
   "metadata": {},
   "outputs": [],
   "source": []
  },
  {
   "cell_type": "code",
   "execution_count": null,
   "metadata": {},
   "outputs": [],
   "source": []
  },
  {
   "cell_type": "code",
   "execution_count": null,
   "metadata": {
    "scrolled": false
   },
   "outputs": [],
   "source": [
    "for m in [0.5,0.2, 0.1, 0.3, 0.4, 0.25]:\n",
    "    if m == 5: sigmas = [-44,-43,-42]\n",
    "    if m == 1: sigmas = [-42,-41,-40,-39]\n",
    "    if m == 0.5: sigmas = [-39, -38, -37, -36]\n",
    "    if m == 0.2: sigmas = [-37, -35, -33, -31, -29]\n",
    "    if m < 0.5: \n",
    "        sigmas = [-37, -35, -33, -31, -29,-27,-25]\n",
    "    start = time.time()\n",
    "    fig, (ax1) = plt.subplots(1, figsize = (14,8), sharex = True)\n",
    "    for i, s in enumerate(sigmas):        \n",
    "        lab =  f\"m={m} s={s}\"        \n",
    "        spectra_for_shm(ax1, 'Xe_migd', use_SHM, \n",
    "                        label = lab, mw=m, sigma = 10**s, c = cm(float(i)/len(sigmas)),\n",
    "                       nbins = 100)\n",
    "    plt.legend()\n",
    "    plt.yscale(\"symlog\")\n",
    "    plt.show()\n",
    "    print(f'Took {time.time()-start} s')"
   ]
  },
  {
   "cell_type": "code",
   "execution_count": null,
   "metadata": {},
   "outputs": [],
   "source": []
  },
  {
   "cell_type": "code",
   "execution_count": null,
   "metadata": {},
   "outputs": [],
   "source": []
  },
  {
   "cell_type": "code",
   "execution_count": null,
   "metadata": {},
   "outputs": [],
   "source": []
  },
  {
   "cell_type": "code",
   "execution_count": null,
   "metadata": {},
   "outputs": [],
   "source": []
  },
  {
   "cell_type": "code",
   "execution_count": null,
   "metadata": {},
   "outputs": [],
   "source": []
  },
  {
   "cell_type": "code",
   "execution_count": null,
   "metadata": {},
   "outputs": [],
   "source": []
  }
 ],
 "metadata": {
  "kernelspec": {
   "display_name": "Python 3",
   "language": "python",
   "name": "python3"
  },
  "language_info": {
   "codemirror_mode": {
    "name": "ipython",
    "version": 3
   },
   "file_extension": ".py",
   "mimetype": "text/x-python",
   "name": "python",
   "nbconvert_exporter": "python",
   "pygments_lexer": "ipython3",
   "version": "3.8.1"
  }
 },
 "nbformat": 4,
 "nbformat_minor": 2
}
