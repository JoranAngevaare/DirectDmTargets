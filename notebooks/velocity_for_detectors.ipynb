{
 "cells": [
  {
   "cell_type": "code",
   "execution_count": null,
   "metadata": {
    "ExecuteTime": {
     "end_time": "2021-08-25T11:25:53.663482Z",
     "start_time": "2021-08-25T11:25:47.446240Z"
    }
   },
   "outputs": [],
   "source": [
    "%run common_init.py"
   ]
  },
  {
   "cell_type": "markdown",
   "metadata": {},
   "source": [
    "# Direct detection of Dark matter using different target materials #\n",
    "\n",
    "Author:\n",
    "\n",
    "Joran Angevaare <j.angevaare@nikef.nl>\n",
    "\n",
    "Date:\n",
    "\n",
    "14 october 2019 \n",
    "\n",
    "## Goal ## \n",
    "\n",
    "- Roughly reproduce <https://journals.aps.org/prd/abstract/10.1103/PhysRevD.83.083505>\n",
    "- Update the results thereof with more recent knowledge of the DM-distribution\n",
    "\n",
    "### Approach ###\n",
    "To achieve these goals, we must first get a decent recoil spectrum, that is flexible enough to have different astrophysical parameters. Further, it must also be flexible enough to be able to allow for different analytic functions to be added to the model. For instance, we must be able to incorporate the $\\rm{SHM}^{++}$ as presented here <https://arxiv.org/abs/1810.11468>.\n",
    "\n",
    "When we have a sufficiently flexible model, we want to add in the detector physics, we should therein incorporate at least the following parameters:\n",
    "- target\n",
    "  - material\n",
    "  - cross-section\n",
    "- threshold\n",
    "- background\n",
    "- cut efficiency  \n",
    "- volume\n",
    "- exposure\n",
    "\n",
    "Finally we should perform the inference"
   ]
  },
  {
   "cell_type": "markdown",
   "metadata": {},
   "source": [
    "## HALO model ##\n",
    "\n"
   ]
  },
  {
   "cell_type": "code",
   "execution_count": null,
   "metadata": {
    "ExecuteTime": {
     "end_time": "2021-08-25T11:25:53.856449Z",
     "start_time": "2021-08-25T11:25:53.666197Z"
    }
   },
   "outputs": [],
   "source": [
    "x = np.linspace(0,1000,200) * nu.km / nu.s\n",
    "y2 = wr.observed_speed_dist(x, 0)\n",
    "plt.plot(x/(nu.km / nu.s),y2)\n",
    "plt.axvline(310)"
   ]
  },
  {
   "cell_type": "code",
   "execution_count": null,
   "metadata": {
    "ExecuteTime": {
     "end_time": "2021-08-25T11:27:50.750058Z",
     "start_time": "2021-08-25T11:27:48.939137Z"
    }
   },
   "outputs": [],
   "source": [
    "# NR's\n",
    "energies = np.linspace(0.001, 40, 100)\n",
    "\n",
    "# dr/dr\n",
    "dr = wr.rate_wimp_std(energies, mw=50, sigma_nucleon=1e-45)\n",
    "\n",
    "plt.plot(energies, dr, label='default WR')\n",
    "\n",
    "plt.xlabel(\"Recoil energy [keV]\")\n",
    "plt.ylabel(\"Rate [events per (keV ton year)]\")\n",
    "plt.title(\"$m_\\chi = 50$ GeV/c${}^2$, $\\sigma_\\chi = 10^{-45}$ cm${}^2$\")\n",
    "plt.xlim(0, energies.max())\n",
    "plt.ylim(0, None);\n",
    "\n",
    "use_SHM = dddm.SHM()\n",
    "dr_shm = wr.rate_wimp_std(energies, mw=50, sigma_nucleon=1e-45, halo_model = use_SHM)\n",
    "plt.plot(energies, dr_shm, label = \"Modified SHM\")\n",
    "plt.legend()"
   ]
  },
  {
   "cell_type": "code",
   "execution_count": null,
   "metadata": {
    "ExecuteTime": {
     "end_time": "2021-08-25T11:29:17.331790Z",
     "start_time": "2021-08-25T11:29:15.144517Z"
    }
   },
   "outputs": [],
   "source": [
    "# NR's\n",
    "energies = np.linspace(0.0001, 40, 100)\n",
    "\n",
    "# dr/dr\n",
    "dr = wr.rate_wimp_std(energies, mw=50, sigma_nucleon=1e-45)\n",
    "\n",
    "plt.plot(energies, dr, label='default WR')\n",
    "\n",
    "\n",
    "plt.xlabel(\"Recoil energy [keV]\")\n",
    "plt.ylabel(\"Rate [events per (keV ton year)]\")\n",
    "plt.title(\"$m_\\chi = 50$ GeV/c${}^2$, $\\sigma_\\chi = 10^{-45}$ cm${}^2$\")\n",
    "plt.xlim(0, energies.max())\n",
    "plt.ylim(0, None);\n",
    "\n",
    "use_SHM = dddm.VerneSHM()\n",
    "dr_shm = wr.rate_wimp_std(energies,\n",
    "    mw=50, sigma_nucleon=1e-45, halo_model = use_SHM)\n",
    "plt.plot(energies, dr_shm, label = \"verne SHM\")\n",
    "plt.legend()"
   ]
  },
  {
   "cell_type": "code",
   "execution_count": null,
   "metadata": {},
   "outputs": [],
   "source": []
  }
 ],
 "metadata": {
  "kernelspec": {
   "display_name": "Python 3",
   "language": "python",
   "name": "python3"
  },
  "language_info": {
   "codemirror_mode": {
    "name": "ipython",
    "version": 3
   },
   "file_extension": ".py",
   "mimetype": "text/x-python",
   "name": "python",
   "nbconvert_exporter": "python",
   "pygments_lexer": "ipython3",
   "version": "3.8.1"
  }
 },
 "nbformat": 4,
 "nbformat_minor": 2
}
