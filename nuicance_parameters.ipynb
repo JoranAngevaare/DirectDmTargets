{
 "cells": [
  {
   "cell_type": "code",
   "execution_count": 1,
   "metadata": {},
   "outputs": [
    {
     "name": "stdout",
     "output_type": "stream",
     "text": [
      "calculating effective efficancy for Xe detector done\n",
      "calculating effective efficancy for Ar detector done\n",
      "calculating effective efficancy for Ge detector done\n",
      "todo\n"
     ]
    }
   ],
   "source": [
    "import DirectDmTargets as dddm"
   ]
  },
  {
   "cell_type": "code",
   "execution_count": 2,
   "metadata": {},
   "outputs": [],
   "source": [
    "import wimprates as wr"
   ]
  },
  {
   "cell_type": "code",
   "execution_count": 3,
   "metadata": {},
   "outputs": [],
   "source": [
    "import numpy as np\n",
    "import matplotlib.pyplot as plt"
   ]
  },
  {
   "cell_type": "code",
   "execution_count": 4,
   "metadata": {},
   "outputs": [],
   "source": [
    "import numericalunits as nu"
   ]
  },
  {
   "cell_type": "code",
   "execution_count": 5,
   "metadata": {},
   "outputs": [],
   "source": [
    "from tqdm import tqdm"
   ]
  },
  {
   "cell_type": "code",
   "execution_count": 6,
   "metadata": {},
   "outputs": [],
   "source": [
    "from scipy.integrate import quad as scipy_int"
   ]
  },
  {
   "cell_type": "code",
   "execution_count": 7,
   "metadata": {},
   "outputs": [],
   "source": [
    "import pandas as pd"
   ]
  },
  {
   "cell_type": "code",
   "execution_count": 8,
   "metadata": {},
   "outputs": [],
   "source": [
    "import scipy"
   ]
  },
  {
   "cell_type": "code",
   "execution_count": 9,
   "metadata": {},
   "outputs": [
    {
     "data": {
      "text/plain": [
       "'3.0.0'"
      ]
     },
     "execution_count": 9,
     "metadata": {},
     "output_type": "execute_result"
    }
   ],
   "source": [
    "import emcee\n",
    "emcee.__version__"
   ]
  },
  {
   "cell_type": "code",
   "execution_count": 10,
   "metadata": {},
   "outputs": [],
   "source": [
    "import corner"
   ]
  },
  {
   "cell_type": "code",
   "execution_count": 11,
   "metadata": {},
   "outputs": [],
   "source": [
    "import multiprocessing"
   ]
  },
  {
   "cell_type": "markdown",
   "metadata": {},
   "source": [
    "# Direct detection of Dark matter using different target materials #\n",
    "\n",
    "Author:\n",
    "\n",
    "Joran Angevaare <j.angevaare@nikef.nl>\n",
    "\n",
    "Date:\n",
    "\n",
    "14 october 2019 \n",
    "\n",
    "## Goal ## \n",
    "\n",
    "- Roughly reproduce <https://journals.aps.org/prd/abstract/10.1103/PhysRevD.83.083505>\n",
    "- Update the results thereof with more recent knowledge of the DM-distribution\n",
    "\n",
    "### Approach ###\n",
    "To achieve these goals, we must first get a decent recoil spectrum, that is flexible enough to have different astrophysical parameters. Further, it must also be flexible enough to be able to allow for different analytic functions to be added to the model. For instance, we must be able to incorporate the $\\rm{SHM}^{++}$ as presented here <https://arxiv.org/abs/1810.11468>.\n",
    "\n",
    "When we have a sufficiently flexible model, we want to add in the detector physics, we should therein incorporate at least the following parameters:\n",
    "- target\n",
    "  - material\n",
    "  - cross-section\n",
    "- threshold\n",
    "- background\n",
    "- cut efficiency  \n",
    "- volume\n",
    "- exposure\n",
    "\n",
    "Finally we should perform the inference"
   ]
  },
  {
   "cell_type": "markdown",
   "metadata": {},
   "source": [
    "# Emcee #\n",
    "<https://emcee.readthedocs.io/en/stable/tutorials/quickstart/>"
   ]
  },
  {
   "cell_type": "markdown",
   "metadata": {},
   "source": [
    "## Distribution of the DM ##\n",
    "First we need to make a DM-rate spectrum"
   ]
  },
  {
   "cell_type": "code",
   "execution_count": 12,
   "metadata": {},
   "outputs": [
    {
     "data": {
      "text/html": [
       "<div>\n",
       "<style scoped>\n",
       "    .dataframe tbody tr th:only-of-type {\n",
       "        vertical-align: middle;\n",
       "    }\n",
       "\n",
       "    .dataframe tbody tr th {\n",
       "        vertical-align: top;\n",
       "    }\n",
       "\n",
       "    .dataframe thead th {\n",
       "        text-align: right;\n",
       "    }\n",
       "</style>\n",
       "<table border=\"1\" class=\"dataframe\">\n",
       "  <thead>\n",
       "    <tr style=\"text-align: right;\">\n",
       "      <th></th>\n",
       "      <th>counts</th>\n",
       "      <th>bin_centers</th>\n",
       "      <th>bin_left</th>\n",
       "      <th>bin_right</th>\n",
       "    </tr>\n",
       "  </thead>\n",
       "  <tbody>\n",
       "    <tr>\n",
       "      <td>0</td>\n",
       "      <td>14.0</td>\n",
       "      <td>5.0</td>\n",
       "      <td>0.0</td>\n",
       "      <td>10.0</td>\n",
       "    </tr>\n",
       "    <tr>\n",
       "      <td>1</td>\n",
       "      <td>160.0</td>\n",
       "      <td>15.0</td>\n",
       "      <td>10.0</td>\n",
       "      <td>20.0</td>\n",
       "    </tr>\n",
       "    <tr>\n",
       "      <td>2</td>\n",
       "      <td>79.0</td>\n",
       "      <td>25.0</td>\n",
       "      <td>20.0</td>\n",
       "      <td>30.0</td>\n",
       "    </tr>\n",
       "    <tr>\n",
       "      <td>3</td>\n",
       "      <td>24.0</td>\n",
       "      <td>35.0</td>\n",
       "      <td>30.0</td>\n",
       "      <td>40.0</td>\n",
       "    </tr>\n",
       "    <tr>\n",
       "      <td>4</td>\n",
       "      <td>6.0</td>\n",
       "      <td>45.0</td>\n",
       "      <td>40.0</td>\n",
       "      <td>50.0</td>\n",
       "    </tr>\n",
       "    <tr>\n",
       "      <td>5</td>\n",
       "      <td>1.0</td>\n",
       "      <td>55.0</td>\n",
       "      <td>50.0</td>\n",
       "      <td>60.0</td>\n",
       "    </tr>\n",
       "    <tr>\n",
       "      <td>6</td>\n",
       "      <td>0.0</td>\n",
       "      <td>65.0</td>\n",
       "      <td>60.0</td>\n",
       "      <td>70.0</td>\n",
       "    </tr>\n",
       "    <tr>\n",
       "      <td>7</td>\n",
       "      <td>0.0</td>\n",
       "      <td>75.0</td>\n",
       "      <td>70.0</td>\n",
       "      <td>80.0</td>\n",
       "    </tr>\n",
       "    <tr>\n",
       "      <td>8</td>\n",
       "      <td>0.0</td>\n",
       "      <td>85.0</td>\n",
       "      <td>80.0</td>\n",
       "      <td>90.0</td>\n",
       "    </tr>\n",
       "    <tr>\n",
       "      <td>9</td>\n",
       "      <td>0.0</td>\n",
       "      <td>95.0</td>\n",
       "      <td>90.0</td>\n",
       "      <td>100.0</td>\n",
       "    </tr>\n",
       "  </tbody>\n",
       "</table>\n",
       "</div>"
      ],
      "text/plain": [
       "   counts  bin_centers  bin_left  bin_right\n",
       "0    14.0          5.0       0.0       10.0\n",
       "1   160.0         15.0      10.0       20.0\n",
       "2    79.0         25.0      20.0       30.0\n",
       "3    24.0         35.0      30.0       40.0\n",
       "4     6.0         45.0      40.0       50.0\n",
       "5     1.0         55.0      50.0       60.0\n",
       "6     0.0         65.0      60.0       70.0\n",
       "7     0.0         75.0      70.0       80.0\n",
       "8     0.0         85.0      80.0       90.0\n",
       "9     0.0         95.0      90.0      100.0"
      ]
     },
     "execution_count": 12,
     "metadata": {},
     "output_type": "execute_result"
    }
   ],
   "source": [
    "use_SHM = dddm.SHM()\n",
    "xe_events = dddm.DetectorSpectrum(50, 1e-45, use_SHM, dddm.detectors['Xe'])\n",
    "xe_data = xe_events.get_data(poisson = True)\n",
    "xe_data"
   ]
  },
  {
   "cell_type": "code",
   "execution_count": 13,
   "metadata": {},
   "outputs": [],
   "source": [
    "xe_events = dddm.DetectorSpectrum(50, 1e-45, use_SHM, dddm.detectors['Xe'])\n",
    "xe_data = xe_events.get_data(poisson = False)"
   ]
  },
  {
   "cell_type": "code",
   "execution_count": 14,
   "metadata": {},
   "outputs": [
    {
     "data": {
      "text/html": [
       "<div>\n",
       "<style scoped>\n",
       "    .dataframe tbody tr th:only-of-type {\n",
       "        vertical-align: middle;\n",
       "    }\n",
       "\n",
       "    .dataframe tbody tr th {\n",
       "        vertical-align: top;\n",
       "    }\n",
       "\n",
       "    .dataframe thead th {\n",
       "        text-align: right;\n",
       "    }\n",
       "</style>\n",
       "<table border=\"1\" class=\"dataframe\">\n",
       "  <thead>\n",
       "    <tr style=\"text-align: right;\">\n",
       "      <th></th>\n",
       "      <th>counts</th>\n",
       "      <th>bin_centers</th>\n",
       "      <th>bin_left</th>\n",
       "      <th>bin_right</th>\n",
       "    </tr>\n",
       "  </thead>\n",
       "  <tbody>\n",
       "    <tr>\n",
       "      <td>0</td>\n",
       "      <td>20.543476</td>\n",
       "      <td>5.0</td>\n",
       "      <td>0.0</td>\n",
       "      <td>10.0</td>\n",
       "    </tr>\n",
       "    <tr>\n",
       "      <td>1</td>\n",
       "      <td>156.624879</td>\n",
       "      <td>15.0</td>\n",
       "      <td>10.0</td>\n",
       "      <td>20.0</td>\n",
       "    </tr>\n",
       "    <tr>\n",
       "      <td>2</td>\n",
       "      <td>64.765430</td>\n",
       "      <td>25.0</td>\n",
       "      <td>20.0</td>\n",
       "      <td>30.0</td>\n",
       "    </tr>\n",
       "    <tr>\n",
       "      <td>3</td>\n",
       "      <td>22.123232</td>\n",
       "      <td>35.0</td>\n",
       "      <td>30.0</td>\n",
       "      <td>40.0</td>\n",
       "    </tr>\n",
       "    <tr>\n",
       "      <td>4</td>\n",
       "      <td>6.992244</td>\n",
       "      <td>45.0</td>\n",
       "      <td>40.0</td>\n",
       "      <td>50.0</td>\n",
       "    </tr>\n",
       "    <tr>\n",
       "      <td>5</td>\n",
       "      <td>2.005902</td>\n",
       "      <td>55.0</td>\n",
       "      <td>50.0</td>\n",
       "      <td>60.0</td>\n",
       "    </tr>\n",
       "    <tr>\n",
       "      <td>6</td>\n",
       "      <td>0.504013</td>\n",
       "      <td>65.0</td>\n",
       "      <td>60.0</td>\n",
       "      <td>70.0</td>\n",
       "    </tr>\n",
       "    <tr>\n",
       "      <td>7</td>\n",
       "      <td>0.103457</td>\n",
       "      <td>75.0</td>\n",
       "      <td>70.0</td>\n",
       "      <td>80.0</td>\n",
       "    </tr>\n",
       "    <tr>\n",
       "      <td>8</td>\n",
       "      <td>0.014957</td>\n",
       "      <td>85.0</td>\n",
       "      <td>80.0</td>\n",
       "      <td>90.0</td>\n",
       "    </tr>\n",
       "    <tr>\n",
       "      <td>9</td>\n",
       "      <td>0.001162</td>\n",
       "      <td>95.0</td>\n",
       "      <td>90.0</td>\n",
       "      <td>100.0</td>\n",
       "    </tr>\n",
       "  </tbody>\n",
       "</table>\n",
       "</div>"
      ],
      "text/plain": [
       "       counts  bin_centers  bin_left  bin_right\n",
       "0   20.543476          5.0       0.0       10.0\n",
       "1  156.624879         15.0      10.0       20.0\n",
       "2   64.765430         25.0      20.0       30.0\n",
       "3   22.123232         35.0      30.0       40.0\n",
       "4    6.992244         45.0      40.0       50.0\n",
       "5    2.005902         55.0      50.0       60.0\n",
       "6    0.504013         65.0      60.0       70.0\n",
       "7    0.103457         75.0      70.0       80.0\n",
       "8    0.014957         85.0      80.0       90.0\n",
       "9    0.001162         95.0      90.0      100.0"
      ]
     },
     "execution_count": 14,
     "metadata": {},
     "output_type": "execute_result"
    }
   ],
   "source": [
    "xe_data"
   ]
  },
  {
   "cell_type": "code",
   "execution_count": 38,
   "metadata": {},
   "outputs": [
    {
     "name": "stdout",
     "output_type": "stream",
     "text": [
      "stat_model::initialized for Ar detector. See print(stat_model) for default settings\n"
     ]
    }
   ],
   "source": [
    "stats = dddm.StatModel(\"Ar\")"
   ]
  },
  {
   "cell_type": "code",
   "execution_count": 39,
   "metadata": {},
   "outputs": [
    {
     "data": {
      "text/html": [
       "<div>\n",
       "<style scoped>\n",
       "    .dataframe tbody tr th:only-of-type {\n",
       "        vertical-align: middle;\n",
       "    }\n",
       "\n",
       "    .dataframe tbody tr th {\n",
       "        vertical-align: top;\n",
       "    }\n",
       "\n",
       "    .dataframe thead th {\n",
       "        text-align: right;\n",
       "    }\n",
       "</style>\n",
       "<table border=\"1\" class=\"dataframe\">\n",
       "  <thead>\n",
       "    <tr style=\"text-align: right;\">\n",
       "      <th></th>\n",
       "      <th>counts</th>\n",
       "      <th>bin_centers</th>\n",
       "      <th>bin_left</th>\n",
       "      <th>bin_right</th>\n",
       "    </tr>\n",
       "  </thead>\n",
       "  <tbody>\n",
       "    <tr>\n",
       "      <td>0</td>\n",
       "      <td>25.915450</td>\n",
       "      <td>5.0</td>\n",
       "      <td>0.0</td>\n",
       "      <td>10.0</td>\n",
       "    </tr>\n",
       "    <tr>\n",
       "      <td>1</td>\n",
       "      <td>164.684093</td>\n",
       "      <td>15.0</td>\n",
       "      <td>10.0</td>\n",
       "      <td>20.0</td>\n",
       "    </tr>\n",
       "    <tr>\n",
       "      <td>2</td>\n",
       "      <td>70.128144</td>\n",
       "      <td>25.0</td>\n",
       "      <td>20.0</td>\n",
       "      <td>30.0</td>\n",
       "    </tr>\n",
       "    <tr>\n",
       "      <td>3</td>\n",
       "      <td>24.157881</td>\n",
       "      <td>35.0</td>\n",
       "      <td>30.0</td>\n",
       "      <td>40.0</td>\n",
       "    </tr>\n",
       "    <tr>\n",
       "      <td>4</td>\n",
       "      <td>7.718787</td>\n",
       "      <td>45.0</td>\n",
       "      <td>40.0</td>\n",
       "      <td>50.0</td>\n",
       "    </tr>\n",
       "    <tr>\n",
       "      <td>5</td>\n",
       "      <td>2.247267</td>\n",
       "      <td>55.0</td>\n",
       "      <td>50.0</td>\n",
       "      <td>60.0</td>\n",
       "    </tr>\n",
       "    <tr>\n",
       "      <td>6</td>\n",
       "      <td>0.577187</td>\n",
       "      <td>65.0</td>\n",
       "      <td>60.0</td>\n",
       "      <td>70.0</td>\n",
       "    </tr>\n",
       "    <tr>\n",
       "      <td>7</td>\n",
       "      <td>0.123038</td>\n",
       "      <td>75.0</td>\n",
       "      <td>70.0</td>\n",
       "      <td>80.0</td>\n",
       "    </tr>\n",
       "    <tr>\n",
       "      <td>8</td>\n",
       "      <td>0.019288</td>\n",
       "      <td>85.0</td>\n",
       "      <td>80.0</td>\n",
       "      <td>90.0</td>\n",
       "    </tr>\n",
       "    <tr>\n",
       "      <td>9</td>\n",
       "      <td>0.001812</td>\n",
       "      <td>95.0</td>\n",
       "      <td>90.0</td>\n",
       "      <td>100.0</td>\n",
       "    </tr>\n",
       "  </tbody>\n",
       "</table>\n",
       "</div>"
      ],
      "text/plain": [
       "       counts  bin_centers  bin_left  bin_right\n",
       "0   25.915450          5.0       0.0       10.0\n",
       "1  164.684093         15.0      10.0       20.0\n",
       "2   70.128144         25.0      20.0       30.0\n",
       "3   24.157881         35.0      30.0       40.0\n",
       "4    7.718787         45.0      40.0       50.0\n",
       "5    2.247267         55.0      50.0       60.0\n",
       "6    0.577187         65.0      60.0       70.0\n",
       "7    0.123038         75.0      70.0       80.0\n",
       "8    0.019288         85.0      80.0       90.0\n",
       "9    0.001812         95.0      90.0      100.0"
      ]
     },
     "execution_count": 39,
     "metadata": {},
     "output_type": "execute_result"
    }
   ],
   "source": [
    "test = stats.check_spectrum()\n",
    "test"
   ]
  },
  {
   "cell_type": "code",
   "execution_count": 40,
   "metadata": {},
   "outputs": [
    {
     "data": {
      "image/png": "[encoded data removed]",
      "text/plain": [
       "<Figure size 432x288 with 1 Axes>"
      ]
     },
     "metadata": {
      "needs_background": "light"
     },
     "output_type": "display_data"
    }
   ],
   "source": [
    "for i in range(40,60):\n",
    "    res = stats.log_probability([i,1e-45], ['log_mass', 'log_cross_section'] )\n",
    "    plt.scatter(i,res)\n",
    "    plt.axvline(50)"
   ]
  },
  {
   "cell_type": "code",
   "execution_count": 41,
   "metadata": {},
   "outputs": [
    {
     "name": "stderr",
     "output_type": "stream",
     "text": [
      "\r",
      "  0%|                                                                                       | 0/100 [00:00<?, ?it/s]"
     ]
    },
    {
     "name": "stdout",
     "output_type": "stream",
     "text": [
      "finding a negative value for log_cross_section, returning -np.inf\n",
      "finding a negative value for log_cross_section, returning -np.inf\n",
      "finding a negative value for log_cross_section, returning -np.inf\n",
      "finding a negative value for log_cross_section, returning -np.inf\n"
     ]
    },
    {
     "name": "stderr",
     "output_type": "stream",
     "text": [
      "\r",
      "  1%|▊                                                                              | 1/100 [00:03<05:11,  3.15s/it]"
     ]
    },
    {
     "name": "stdout",
     "output_type": "stream",
     "text": [
      "finding a negative value for log_cross_section, returning -np.inf\n",
      "finding a negative value for log_cross_section, returning -np.inf\n",
      "finding a negative value for log_cross_section, returning -np.inf\n",
      "finding a negative value for log_cross_section, returning -np.inf\n"
     ]
    },
    {
     "name": "stderr",
     "output_type": "stream",
     "text": [
      "\r",
      "  2%|█▌                                                                             | 2/100 [00:06<05:03,  3.10s/it]"
     ]
    },
    {
     "name": "stdout",
     "output_type": "stream",
     "text": [
      "finding a negative value for log_cross_section, returning -np.inf\n",
      "finding a negative value for log_cross_section, returning -np.inf\n",
      "finding a negative value for log_cross_section, returning -np.inf\n"
     ]
    },
    {
     "name": "stderr",
     "output_type": "stream",
     "text": [
      "\r",
      "  3%|██▎                                                                            | 3/100 [00:09<05:09,  3.19s/it]"
     ]
    },
    {
     "name": "stdout",
     "output_type": "stream",
     "text": [
      "finding a negative value for log_cross_section, returning -np.inf\n",
      "finding a negative value for log_cross_section, returning -np.inf\n",
      "finding a negative value for log_cross_section, returning -np.inf\n",
      "finding a negative value for log_cross_section, returning -np.inf\n",
      "finding a negative value for log_cross_section, returning -np.inf\n"
     ]
    },
    {
     "name": "stderr",
     "output_type": "stream",
     "text": [
      "\r",
      "  4%|███▏                                                                           | 4/100 [00:12<05:06,  3.19s/it]"
     ]
    },
    {
     "name": "stdout",
     "output_type": "stream",
     "text": [
      "finding a negative value for log_cross_section, returning -np.inf\n",
      "finding a negative value for log_cross_section, returning -np.inf\n"
     ]
    },
    {
     "name": "stderr",
     "output_type": "stream",
     "text": [
      "\r",
      "  5%|███▉                                                                           | 5/100 [00:16<05:05,  3.22s/it]"
     ]
    },
    {
     "name": "stdout",
     "output_type": "stream",
     "text": [
      "finding a negative value for log_cross_section, returning -np.inf\n",
      "finding a negative value for log_cross_section, returning -np.inf\n",
      "finding a negative value for log_cross_section, returning -np.inf\n",
      "finding a negative value for log_cross_section, returning -np.inf\n"
     ]
    },
    {
     "name": "stderr",
     "output_type": "stream",
     "text": [
      "\r",
      "  6%|████▋                                                                          | 6/100 [00:19<05:01,  3.21s/it]"
     ]
    },
    {
     "name": "stdout",
     "output_type": "stream",
     "text": [
      "finding a negative value for log_cross_section, returning -np.inf\n"
     ]
    },
    {
     "name": "stderr",
     "output_type": "stream",
     "text": [
      "100%|█████████████████████████████████████████████████████████████████████████████| 100/100 [06:35<00:00,  3.95s/it]\n"
     ]
    },
    {
     "name": "stdout",
     "output_type": "stream",
     "text": [
      "Wall time: 6min 38s\n"
     ]
    },
    {
     "data": {
      "text/plain": [
       "State([[5.06773719e+01 1.01663664e-45]\n",
       " [4.75177804e+01 9.95521424e-46]\n",
       " [6.15786061e+01 9.70370024e-46]\n",
       " [5.10504306e+01 1.11019424e-45]\n",
       " [5.00032174e+01 9.39477025e-46]\n",
       " [5.69865714e+01 1.06274930e-45]\n",
       " [5.09093016e+01 8.55285946e-46]\n",
       " [6.11622266e+01 1.09755784e-45]\n",
       " [5.16825065e+01 9.18022861e-46]\n",
       " [4.67878325e+01 9.01504935e-46]\n",
       " [5.75368845e+01 1.06441561e-45]\n",
       " [4.74410004e+01 1.03808035e-45]\n",
       " [4.64314598e+01 9.67992987e-46]\n",
       " [4.36919041e+01 1.02598485e-45]\n",
       " [7.04387383e+01 9.77732980e-46]\n",
       " [4.67128342e+01 9.65459812e-46]\n",
       " [5.29270561e+01 9.71073138e-46]\n",
       " [4.87516081e+01 1.03229690e-45]\n",
       " [4.34365042e+01 1.01747673e-45]\n",
       " [4.88803265e+01 1.02411609e-45]\n",
       " [4.67655776e+01 1.00091626e-45]\n",
       " [7.30686138e+01 1.09877225e-45]\n",
       " [4.10298915e+01 1.08656595e-45]\n",
       " [5.60490816e+01 1.01087158e-45]\n",
       " [5.10587156e+01 9.57312671e-46]\n",
       " [4.34667677e+01 1.01159753e-45]\n",
       " [5.35232749e+01 9.94982490e-46]\n",
       " [6.40697048e+01 9.38855679e-46]\n",
       " [4.43204830e+01 9.78036838e-46]\n",
       " [4.76761058e+01 1.03378282e-45]\n",
       " [4.70728818e+01 9.55790074e-46]\n",
       " [4.98563857e+01 9.74668448e-46]\n",
       " [5.79943462e+01 1.10565051e-45]\n",
       " [4.98760488e+01 1.00367468e-45]\n",
       " [4.43747459e+01 9.87183645e-46]\n",
       " [4.62982397e+01 1.02089461e-45]\n",
       " [5.86705813e+01 1.02819675e-45]\n",
       " [5.50849009e+01 9.42829005e-46]\n",
       " [5.26947176e+01 9.96734401e-46]\n",
       " [4.88214853e+01 9.77567897e-46]\n",
       " [4.72429628e+01 1.10340387e-45]\n",
       " [4.54980267e+01 9.86285565e-46]\n",
       " [5.97677652e+01 9.91963110e-46]\n",
       " [4.45034750e+01 1.06316951e-45]\n",
       " [5.21438739e+01 9.75501057e-46]\n",
       " [5.03083725e+01 1.00939581e-45]\n",
       " [4.26540628e+01 1.10285382e-45]\n",
       " [5.19522831e+01 1.04302570e-45]\n",
       " [4.41177970e+01 1.12799952e-45]\n",
       " [4.06467357e+01 1.12623365e-45]], log_prob=[ -3.68359717  -3.44809126  -4.41857731  -5.76388557  -3.96201516\n",
       "  -4.26269185  -6.42829692  -6.88068495  -4.43114129  -5.45824869\n",
       "  -4.49853761  -3.4992404   -3.89102641  -4.12728737  -7.56623246\n",
       "  -3.86682458  -3.97799059  -3.54187432  -4.31454761  -3.49360961\n",
       "  -3.49221004 -10.46279009  -5.26266414  -4.99486148  -3.78245236\n",
       "  -4.36460906  -4.14142518  -5.39801234  -4.4574423   -3.4775724\n",
       "  -3.95244382  -3.55529753  -6.07540387  -3.50359585  -4.27690839\n",
       "  -3.49007733  -4.03197332  -4.61438931  -3.95730801  -3.50894446\n",
       "  -4.50611051  -3.88152106  -3.91528499  -3.8602185   -3.8221454\n",
       "  -3.5796253   -4.58122137  -4.29361395  -4.75265543  -5.58203564], blobs=None, random_state=('MT19937', array([3484647099, 2171133301,  365972338, 3357053068, 3834855908,\n",
       "       3699330945, 2389484005, 2652095327, 3288495609,  375671816,\n",
       "       3622758114, 2475799318, 2592439092, 2744944798, 2561924065,\n",
       "       2678180621, 2172529932, 2486607258,  152429978, 1695229452,\n",
       "       2942860783,  892924441, 2941617252, 1321001901, 1488217755,\n",
       "        754332641,  945687272, 2804757072, 3594217310, 1425407030,\n",
       "       3221814103,  366515873, 2613266669, 3798628692,  829277789,\n",
       "       2059838809, 2541584508,  391792946, 1971238323, 3393160714,\n",
       "       3258271253, 2820629179,  529315945,  834353560, 2239171116,\n",
       "       2663641731,  542269177, 4067824180, 2788479253, 3529871109,\n",
       "        359661633,  508773447, 2155602850, 1335931241, 1191649185,\n",
       "       1336725014, 2796001687, 2053772897,  736181099, 3928072568,\n",
       "       2371601635, 4094853730, 1642258302, 4088880012, 3954680255,\n",
       "       3875064284, 3033252504,  779561980, 2203969341, 2687062892,\n",
       "       2205285480, 3228534543,  547765062, 2077008898, 1728811527,\n",
       "       3724908952,  999330206, 3027372349, 2418462159,  821531963,\n",
       "         73843019, 2307792162, 2928173239, 2235261308, 2922411445,\n",
       "        780881551,  235152128, 2909438477, 1316612165, 4150710811,\n",
       "        217012292, 3114094604, 2479752006,  245001000, 3302496592,\n",
       "       1587212285, 3682899781, 3994046263, 2826194144, 2076654116,\n",
       "        133762024, 3972287397,  567077529,  787054757, 3379107479,\n",
       "        885868664,  403692586, 3701503489, 2315499557, 1694071145,\n",
       "       2810651891, 2283369256, 3944315556, 2758080481, 4292777015,\n",
       "       3332058841, 1417066256,  447237495, 4059367416,  383460617,\n",
       "       3754131653,  484667970,  898272587, 3661639507, 3155970119,\n",
       "       3806264582, 4168108221, 2885589106, 1678839298, 4131257819,\n",
       "       2124643574, 2870801893, 1378392142,   77645470, 3793348883,\n",
       "        380738544, 2485230570, 2427556880, 1775666576, 3154931236,\n",
       "        379608252, 3657831485,   52348139,  409299387, 4023532063,\n",
       "       2284563879, 2553958772,  943798169, 3214731364, 2739457816,\n",
       "       1659397622,  399507879, 3407617904, 1800613262, 2577968412,\n",
       "       3327279817, 2694814187, 2324991326,  603251457, 1603934171,\n",
       "       2855473176, 1505012068,  995909928, 3526440908, 3348031691,\n",
       "        766140255, 2069206351, 2807360456, 2835268996, 3199516869,\n",
       "        695347013, 3134281624, 3943754295, 1713190380, 2605202186,\n",
       "       3012730500,  845800603, 1844207888, 2264044260, 3449178358,\n",
       "        433000325, 1529608304, 1602959345,  993726891, 3026149386,\n",
       "       3754982149, 1886332317, 4157674229,  949654086, 1251739833,\n",
       "       3377041168, 1560149201, 4067529272,  946069247, 3706537250,\n",
       "       1730204450,  549529371, 2748157771, 3441746369, 3773654643,\n",
       "       1281486203, 1226885942, 1565914949, 1118538849, 1493511112,\n",
       "        436190569, 2652256493, 3334762641, 4232810480, 2422945842,\n",
       "       3439845117, 2727129524, 2740444861,   77068244, 3104248186,\n",
       "        181118591,  856790602, 3654295490, 2844769589, 2853101248,\n",
       "       1740729694,  359650457, 3219564059, 2797452205, 3692473853,\n",
       "       2101283251, 3154196671, 1481362859, 3234239186,  269090647,\n",
       "       1409458273,  444407013, 3381080929, 2024985957,  624578592,\n",
       "        352703787, 3052460514, 3572471759, 2042123637, 3570521903,\n",
       "        442769942, 3694844371,  922435889, 1604175633, 3981425222,\n",
       "       4167187357, 2018542020,  465467240, 3187226897, 1279911975,\n",
       "       4138200779, 1957491624, 4134821320,  105134586,  124781840,\n",
       "        845599366, 4047842871,  964452478, 2834411981, 2130749186,\n",
       "       1196995771, 1613361946, 2631507902,  844440837,  946434631,\n",
       "       1199683010, 3228342173,  944851113,  337690508, 3526959352,\n",
       "       3747471379, 2084657447, 1027216282, 1060429721, 1083335698,\n",
       "       3096943190, 3760621116, 3417119153, 3219273837, 1162335798,\n",
       "       2484578110, 3535854443,  265272306,   93915118, 1279134536,\n",
       "       4263627642, 4079060745, 2349746635, 1690484516, 1011074679,\n",
       "       3900924719, 4112061234, 1018130994, 1425190279, 2580538037,\n",
       "       1306953736, 3150210493, 2397692923, 3267393756,  474658034,\n",
       "        158447726,  762721271, 3289014726,  175756703, 1376782154,\n",
       "        334500110, 2687757235, 1548558298, 1350234405, 1461989668,\n",
       "       2402845531,  288843143,  283395857, 1621554559, 2198588294,\n",
       "         22960651, 1840027632, 4156957787, 2662808732, 1966953052,\n",
       "       4113380381, 3013377525,  715692615, 1154622984,  783070069,\n",
       "       2363639070, 3332465187,  589248119,  288462260, 4253110472,\n",
       "        471313931, 2472001172, 3213681249, 1122326789,  906010964,\n",
       "       1958706854, 2200718927,  815603336,  736361705, 1623911288,\n",
       "       1948577651, 4003275386, 3582598206, 2799836363, 1205336574,\n",
       "       4029507020, 1559086397,  785405563, 2795084781, 2514223083,\n",
       "       4165200288, 2342631754,  460904160, 1428216230, 3401972442,\n",
       "       2222983963, 1277040620, 2275347516, 4162502164,  743100097,\n",
       "       3949257159, 2669747883, 3921258341,  295564303,  964639857,\n",
       "        687588224, 3429738252, 3681962611, 2144067245, 3136832535,\n",
       "        770099799, 1723243198, 1414568114, 1584107986, 2485242198,\n",
       "       2845014489, 3399814609, 1034545175, 2340424010, 3498516587,\n",
       "       3342758480, 1020144555, 4052651453,  850260520, 2415194440,\n",
       "       1436796146, 1918863768, 3168792032, 2487310678,  860815422,\n",
       "       1811326912, 3847751235, 3318819452,   39169648, 1210343610,\n",
       "       1554086016, 3991365490, 2718186712, 2432042252, 3817307735,\n",
       "       1796193412, 3001488121, 2449453590, 2665546324, 3354160395,\n",
       "       2962616984, 2557815974, 1171927014, 1177393749, 1384253108,\n",
       "        891304039, 1993540135, 3569838255,   31240278, 2460172220,\n",
       "       4201708104, 1072974430, 2333969442, 3567754858,  176602754,\n",
       "       1935779511, 3331623846, 3465213483, 3559123577, 2732355585,\n",
       "       3686625959, 1641026721, 3794862867, 2854199377, 1719106198,\n",
       "        581379830, 3511404491, 3430318460, 3740456619, 4175972254,\n",
       "       3500841760, 3047424212,  391317076, 2522503491, 1135905492,\n",
       "       3120808080,  908306220, 4161346033, 2914230679,  526794200,\n",
       "       2489742699, 3347996704, 4262793182,  479405219, 1110652953,\n",
       "       1517597867, 3109146193, 3697561308, 2225634318, 3070690305,\n",
       "       4196567411,  961368208, 2827081329, 1904353530,  997466094,\n",
       "        891564051, 1859095672,  395004759, 3399318809, 2792609486,\n",
       "       3507119649, 2395935824, 2660247810,  940643941, 4193697825,\n",
       "       1051349472,  784788112,  538096528, 1031951740, 3825273619,\n",
       "        986045000, 2192400150, 1672553516, 2285893988, 3818762353,\n",
       "       3370673418, 2696671067,  367872950, 2183680888,  665734688,\n",
       "       1658126085, 3241667805, 3067186556, 3308902305, 2860849896,\n",
       "        236629879, 1157393669, 1897195073, 3936152585, 2472259768,\n",
       "       1678266186, 2995419188,  358203407,   55601577,   77938973,\n",
       "       3029172004, 1801940739, 1067528537, 2530796749, 2057576389,\n",
       "       4069062276, 3586180010, 3467742917, 2642778958, 2193573778,\n",
       "       3923291412, 3880209540,  656439365, 3413187838, 1202614070,\n",
       "       2742843075, 1439264133,  363789210,  832933131, 1763147358,\n",
       "       2290830190,  730296911, 1537251290,  899264281, 2723677798,\n",
       "        323578112, 2239359621, 1239295621, 2114537479,   99254004,\n",
       "       3096457691, 3814311348, 2262435955,  947583568, 1223300938,\n",
       "       1344821759, 1294614581,  373509289, 3012119126, 4171179578,\n",
       "       2194445543, 3128080544,   56107494, 1279367141,  665575990,\n",
       "       1962012095,  601805230, 3455687072,  406881936, 2578513323,\n",
       "        893984464, 2005732532,  425590707, 1933441948, 3231793891,\n",
       "       2601810184, 4078658025, 1462130884, 2568831150, 3742613676,\n",
       "        503605067, 3088099637, 3683339115, 1559217213,  513861145,\n",
       "       2328548854, 3577000083, 1917209058,  937462184, 3760961516,\n",
       "       2393274104, 1499971310, 1304136513, 1773854568, 1650902456,\n",
       "       1818221074, 1782419510,  759273104, 2399432808, 2180822659,\n",
       "       4172274398, 1339421439, 3716457354, 1953777083, 2265772390,\n",
       "       3326504385,  440683168, 2311661995, 1363949752, 1729449619,\n",
       "       1406694585, 3542639338, 1541698223, 3043485153, 3886601432,\n",
       "        141409193, 2303955535, 3112895227, 3766056926,  335366145,\n",
       "       3926455726, 2061938185, 1872263158,  564204748,  223819327,\n",
       "       2319284682, 1652605426, 3592906452, 1542465818, 2547329655,\n",
       "       2385261711,  861308324, 2118861371, 2055406481, 2290513539,\n",
       "       1572694765, 1758553179, 3045474077, 4253893399, 3681817622,\n",
       "       1309124409, 4191328298, 3819590560,  322332912], dtype=uint32), 230, 0, 0.0))"
      ]
     },
     "execution_count": 41,
     "metadata": {},
     "output_type": "execute_result"
    }
   ],
   "source": [
    "%%time\n",
    "nwalkers = 50\n",
    "steps   = 100\n",
    "pos = np.hstack(\n",
    "    [50 + np.random.randn(nwalkers, 1) ,\n",
    "    1e-45 + 1e-45 * np.random.randn(nwalkers, 1)])\n",
    "nwalkers, ndim = pos.shape\n",
    "\n",
    "sampler = emcee.EnsembleSampler(nwalkers, ndim, \n",
    "                stats.log_probability, args=([['log_mass','log_cross_section']]), \n",
    "                               threads=multiprocessing.cpu_count())\n",
    "sampler.run_mcmc(np.abs(pos), steps, progress=True);"
   ]
  },
  {
   "cell_type": "code",
   "execution_count": 42,
   "metadata": {},
   "outputs": [
    {
     "data": {
      "image/png": "[encoded data removed]",
      "text/plain": [
       "<Figure size 720x504 with 3 Axes>"
      ]
     },
     "metadata": {
      "needs_background": "light"
     },
     "output_type": "display_data"
    }
   ],
   "source": [
    "fig, axes = plt.subplots(3, figsize=(10, 7), sharex=True)\n",
    "samples = sampler.get_chain()\n",
    "labels = [\"m\", \"sigma\", \"log(f)\"]\n",
    "for i in range(ndim):\n",
    "    ax = axes[i]\n",
    "    ax.plot(samples[:, :, i], \"k\", alpha=0.3)\n",
    "    ax.set_xlim(0, len(samples))\n",
    "    ax.set_ylabel(labels[i])\n",
    "    ax.yaxis.set_label_coords(-0.1, 0.5)\n",
    "\n",
    "axes[-1].set_xlabel(\"step number\");"
   ]
  },
  {
   "cell_type": "code",
   "execution_count": 43,
   "metadata": {},
   "outputs": [],
   "source": [
    "# fig = corner.corner(flat_samples, labels=labels, truths=[50, 1e-45]);"
   ]
  },
  {
   "cell_type": "code",
   "execution_count": 44,
   "metadata": {},
   "outputs": [],
   "source": [
    "# tau = sampler.get_autocorr_time()\n",
    "# print(tau)"
   ]
  },
  {
   "cell_type": "code",
   "execution_count": 45,
   "metadata": {},
   "outputs": [
    {
     "name": "stdout",
     "output_type": "stream",
     "text": [
      "(250, 2)\n"
     ]
    }
   ],
   "source": [
    "flat_samples = sampler.get_chain(discard=int(steps*0.2), thin=15, flat=True)\n",
    "print(flat_samples.shape)"
   ]
  },
  {
   "cell_type": "code",
   "execution_count": 46,
   "metadata": {},
   "outputs": [
    {
     "data": {
      "image/png": "[encoded data removed]",
      "text/plain": [
       "<Figure size 396x396 with 4 Axes>"
      ]
     },
     "metadata": {
      "needs_background": "light"
     },
     "output_type": "display_data"
    }
   ],
   "source": [
    "fig = corner.corner(flat_samples, labels=labels, truths=[50, 1e-45]);"
   ]
  },
  {
   "cell_type": "code",
   "execution_count": null,
   "metadata": {},
   "outputs": [],
   "source": [
    "# samples[:, 2] = np.exp(samples[:, 2])\n",
    "# m_mcmc, b_mcmc, f_mcmc = map(lambda v: (v[1], v[2]-v[1], v[1]-v[0]),\n",
    "#                              zip(*np.percentile(samples, [16, 50, 84],\n",
    "#                                                 axis=0)))"
   ]
  },
  {
   "cell_type": "code",
   "execution_count": null,
   "metadata": {
    "scrolled": true
   },
   "outputs": [],
   "source": [
    "nwalkers = 500\n",
    "step = 1000\n",
    "pos = np.hstack(\n",
    "    [50   + 3*10 * np.random.rand(nwalkers, 1) ,\n",
    "    1e-45 + 1e-45 * np.random.rand(nwalkers, 1),\n",
    "    230   + 3*30 * np.random.rand(nwalkers, 1),\n",
    "    544   + 3*33 * np.random.rand(nwalkers, 1),\n",
    "    0.4   + 3*0.1 * np.random.rand(nwalkers, 1)   \n",
    "    ])\n",
    "nwalkers, ndim = pos.shape\n",
    "\n",
    "sampler = emcee.EnsembleSampler(nwalkers, ndim, \n",
    "                dddm.log_probability, args=(xe_data['bin_centers'],\n",
    "                                                            xe_data['counts'],\n",
    "                                                           ['log_mass',\n",
    "                                                            'log_cross_section', \n",
    "                                                            'v_0',\n",
    "                                                            'v_esc', \n",
    "                                                            'density']))\n",
    "sampler.run_mcmc(np.abs(pos), step, progress=True);"
   ]
  },
  {
   "cell_type": "code",
   "execution_count": null,
   "metadata": {},
   "outputs": [],
   "source": [
    "fig, axes = plt.subplots(ndim, figsize=(10, 7), sharex=True)\n",
    "samples = sampler.get_chain()\n",
    "labels = ['mass',\n",
    "                                          'cross_section', \n",
    "                                                            'v_0',\n",
    "                                                            'v_esc', \n",
    "                                                            'density']\n",
    "for i in range(ndim):\n",
    "    ax = axes[i]\n",
    "    ax.plot(samples[:, :, i], \"k\", alpha=0.3)\n",
    "    ax.set_xlim(0, len(samples))\n",
    "    ax.set_ylabel(labels[i])\n",
    "    ax.yaxis.set_label_coords(-0.1, 0.5)\n",
    "\n",
    "axes[-1].set_xlabel(\"step number\");"
   ]
  },
  {
   "cell_type": "code",
   "execution_count": null,
   "metadata": {},
   "outputs": [],
   "source": [
    "flat_samples = sampler.get_chain(discard=int(step*0.2), thin=15, flat=True)\n",
    "print(flat_samples.shape)\n",
    "fig = corner.corner(flat_samples, labels=['log_mass',\n",
    "                                          'log_cross_section', \n",
    "                                                            'v_0',\n",
    "                                                            'v_esc', \n",
    "                                                            'density'], \n",
    "                    truths=[50, 1e-45, 230, 544, 0.3]);"
   ]
  },
  {
   "cell_type": "code",
   "execution_count": null,
   "metadata": {},
   "outputs": [],
   "source": [
    "samples_emcee = sampler.chain[:, int(step*0.2):, :].reshape((-1, ndim))"
   ]
  },
  {
   "cell_type": "code",
   "execution_count": null,
   "metadata": {},
   "outputs": [],
   "source": [
    "np.shape(samples_emcee[4])"
   ]
  },
  {
   "cell_type": "code",
   "execution_count": null,
   "metadata": {},
   "outputs": [],
   "source": [
    "for i in range(ndim):\n",
    "    this_samp  = samples_emcee[:,i]\n",
    "    print(f\"{labels[i]}\\nmean {np.mean(this_samp)}\\tsig: {np.std(this_samp)}\\n\")"
   ]
  },
  {
   "cell_type": "code",
   "execution_count": null,
   "metadata": {},
   "outputs": [],
   "source": [
    "print(\"Mean acceptance fraction: {0:.3f}\"\n",
    "                .format(np.mean(sampler.acceptance_fraction)))"
   ]
  },
  {
   "cell_type": "markdown",
   "metadata": {},
   "source": [
    "### example of an errornous combination of parameters ###\n",
    "Below, we have a combination of parameters that yields a spectrum with negative number of events in a bin, which is obviously **not** good. However, I work around it now by accepting that a little negative rate (-1<rate<0) is not such a great problem, let's just set it for 0 now."
   ]
  },
  {
   "cell_type": "code",
   "execution_count": null,
   "metadata": {},
   "outputs": [],
   "source": [
    "dddm.eval_log_likelihood([7.89827908e+01, 4.55800899e-45, 3.78553277e+02, 1.56688729e+00,\n",
    " 1.08146074e+00], \n",
    "                                                           ['log_mass',\n",
    "                                                            'log_cross_section', \n",
    "                                                            'v_0',\n",
    "                                                            'v_esc', \n",
    "                                                            'density'])"
   ]
  },
  {
   "cell_type": "code",
   "execution_count": null,
   "metadata": {},
   "outputs": [],
   "source": []
  }
 ],
 "metadata": {
  "kernelspec": {
   "display_name": "Python 3",
   "language": "python",
   "name": "python3"
  },
  "language_info": {
   "codemirror_mode": {
    "name": "ipython",
    "version": 3
   },
   "file_extension": ".py",
   "mimetype": "text/x-python",
   "name": "python",
   "nbconvert_exporter": "python",
   "pygments_lexer": "ipython3",
   "version": "3.6.9"
  }
 },
 "nbformat": 4,
 "nbformat_minor": 2
}
