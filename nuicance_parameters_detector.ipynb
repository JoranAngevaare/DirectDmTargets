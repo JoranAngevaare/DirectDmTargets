{
 "cells": [
  {
   "cell_type": "code",
   "execution_count": 1,
   "metadata": {},
   "outputs": [
    {
     "name": "stdout",
     "output_type": "stream",
     "text": [
      "calculating effective efficancy for Xe detector done\n",
      "calculating effective efficancy for Ar detector done\n",
      "calculating effective efficancy for Ge detector done\n"
     ]
    }
   ],
   "source": [
    "import DirectDmTargets as dddm"
   ]
  },
  {
   "cell_type": "code",
   "execution_count": 2,
   "metadata": {},
   "outputs": [],
   "source": [
    "import wimprates as wr"
   ]
  },
  {
   "cell_type": "code",
   "execution_count": 3,
   "metadata": {},
   "outputs": [],
   "source": [
    "import numpy as np\n",
    "import matplotlib.pyplot as plt"
   ]
  },
  {
   "cell_type": "code",
   "execution_count": 4,
   "metadata": {},
   "outputs": [],
   "source": [
    "import numericalunits as nu"
   ]
  },
  {
   "cell_type": "code",
   "execution_count": 5,
   "metadata": {},
   "outputs": [],
   "source": [
    "from tqdm import tqdm"
   ]
  },
  {
   "cell_type": "code",
   "execution_count": 6,
   "metadata": {},
   "outputs": [],
   "source": [
    "from scipy.integrate import quad as scipy_int"
   ]
  },
  {
   "cell_type": "code",
   "execution_count": 7,
   "metadata": {},
   "outputs": [],
   "source": [
    "import pandas as pd"
   ]
  },
  {
   "cell_type": "code",
   "execution_count": 8,
   "metadata": {},
   "outputs": [],
   "source": [
    "import scipy"
   ]
  },
  {
   "cell_type": "code",
   "execution_count": 9,
   "metadata": {},
   "outputs": [
    {
     "data": {
      "text/plain": [
       "'3.0.0'"
      ]
     },
     "execution_count": 9,
     "metadata": {},
     "output_type": "execute_result"
    }
   ],
   "source": [
    "import emcee\n",
    "emcee.__version__"
   ]
  },
  {
   "cell_type": "code",
   "execution_count": 10,
   "metadata": {},
   "outputs": [],
   "source": [
    "import corner"
   ]
  },
  {
   "cell_type": "markdown",
   "metadata": {},
   "source": [
    "# Direct detection of Dark matter using different target materials #\n",
    "\n",
    "Author:\n",
    "\n",
    "Joran Angevaare <j.angevaare@nikef.nl>\n",
    "\n",
    "Date:\n",
    "\n",
    "14 october 2019 \n",
    "\n",
    "## Goal ## \n",
    "\n",
    "- Roughly reproduce <https://journals.aps.org/prd/abstract/10.1103/PhysRevD.83.083505>\n",
    "- Update the results thereof with more recent knowledge of the DM-distribution\n",
    "\n",
    "### Approach ###\n",
    "To achieve these goals, we must first get a decent recoil spectrum, that is flexible enough to have different astrophysical parameters. Further, it must also be flexible enough to be able to allow for different analytic functions to be added to the model. For instance, we must be able to incorporate the $\\rm{SHM}^{++}$ as presented here <https://arxiv.org/abs/1810.11468>.\n",
    "\n",
    "When we have a sufficiently flexible model, we want to add in the detector physics, we should therein incorporate at least the following parameters:\n",
    "- target\n",
    "  - material\n",
    "  - cross-section\n",
    "- threshold\n",
    "- background\n",
    "- cut efficiency  \n",
    "- volume\n",
    "- exposure\n",
    "\n",
    "Finally we should perform the inference"
   ]
  },
  {
   "cell_type": "markdown",
   "metadata": {},
   "source": [
    "# Emcee #\n",
    "<https://emcee.readthedocs.io/en/stable/tutorials/quickstart/>"
   ]
  },
  {
   "cell_type": "markdown",
   "metadata": {},
   "source": [
    "## Distribution of the DM ##\n",
    "First we need to make a DM-rate spectrum"
   ]
  },
  {
   "cell_type": "markdown",
   "metadata": {},
   "source": [
    "## Xe ##"
   ]
  },
  {
   "cell_type": "code",
   "execution_count": 11,
   "metadata": {},
   "outputs": [
    {
     "data": {
      "text/html": [
       "<div>\n",
       "<style scoped>\n",
       "    .dataframe tbody tr th:only-of-type {\n",
       "        vertical-align: middle;\n",
       "    }\n",
       "\n",
       "    .dataframe tbody tr th {\n",
       "        vertical-align: top;\n",
       "    }\n",
       "\n",
       "    .dataframe thead th {\n",
       "        text-align: right;\n",
       "    }\n",
       "</style>\n",
       "<table border=\"1\" class=\"dataframe\">\n",
       "  <thead>\n",
       "    <tr style=\"text-align: right;\">\n",
       "      <th></th>\n",
       "      <th>counts</th>\n",
       "      <th>bin_centers</th>\n",
       "      <th>bin_left</th>\n",
       "      <th>bin_right</th>\n",
       "    </tr>\n",
       "  </thead>\n",
       "  <tbody>\n",
       "    <tr>\n",
       "      <td>0</td>\n",
       "      <td>20.543476</td>\n",
       "      <td>5.0</td>\n",
       "      <td>0.0</td>\n",
       "      <td>10.0</td>\n",
       "    </tr>\n",
       "    <tr>\n",
       "      <td>1</td>\n",
       "      <td>156.624879</td>\n",
       "      <td>15.0</td>\n",
       "      <td>10.0</td>\n",
       "      <td>20.0</td>\n",
       "    </tr>\n",
       "    <tr>\n",
       "      <td>2</td>\n",
       "      <td>64.765430</td>\n",
       "      <td>25.0</td>\n",
       "      <td>20.0</td>\n",
       "      <td>30.0</td>\n",
       "    </tr>\n",
       "    <tr>\n",
       "      <td>3</td>\n",
       "      <td>22.123232</td>\n",
       "      <td>35.0</td>\n",
       "      <td>30.0</td>\n",
       "      <td>40.0</td>\n",
       "    </tr>\n",
       "    <tr>\n",
       "      <td>4</td>\n",
       "      <td>6.992244</td>\n",
       "      <td>45.0</td>\n",
       "      <td>40.0</td>\n",
       "      <td>50.0</td>\n",
       "    </tr>\n",
       "    <tr>\n",
       "      <td>5</td>\n",
       "      <td>2.005902</td>\n",
       "      <td>55.0</td>\n",
       "      <td>50.0</td>\n",
       "      <td>60.0</td>\n",
       "    </tr>\n",
       "    <tr>\n",
       "      <td>6</td>\n",
       "      <td>0.504013</td>\n",
       "      <td>65.0</td>\n",
       "      <td>60.0</td>\n",
       "      <td>70.0</td>\n",
       "    </tr>\n",
       "    <tr>\n",
       "      <td>7</td>\n",
       "      <td>0.103457</td>\n",
       "      <td>75.0</td>\n",
       "      <td>70.0</td>\n",
       "      <td>80.0</td>\n",
       "    </tr>\n",
       "    <tr>\n",
       "      <td>8</td>\n",
       "      <td>0.014957</td>\n",
       "      <td>85.0</td>\n",
       "      <td>80.0</td>\n",
       "      <td>90.0</td>\n",
       "    </tr>\n",
       "    <tr>\n",
       "      <td>9</td>\n",
       "      <td>0.001162</td>\n",
       "      <td>95.0</td>\n",
       "      <td>90.0</td>\n",
       "      <td>100.0</td>\n",
       "    </tr>\n",
       "  </tbody>\n",
       "</table>\n",
       "</div>"
      ],
      "text/plain": [
       "       counts  bin_centers  bin_left  bin_right\n",
       "0   20.543476          5.0       0.0       10.0\n",
       "1  156.624879         15.0      10.0       20.0\n",
       "2   64.765430         25.0      20.0       30.0\n",
       "3   22.123232         35.0      30.0       40.0\n",
       "4    6.992244         45.0      40.0       50.0\n",
       "5    2.005902         55.0      50.0       60.0\n",
       "6    0.504013         65.0      60.0       70.0\n",
       "7    0.103457         75.0      70.0       80.0\n",
       "8    0.014957         85.0      80.0       90.0\n",
       "9    0.001162         95.0      90.0      100.0"
      ]
     },
     "execution_count": 11,
     "metadata": {},
     "output_type": "execute_result"
    }
   ],
   "source": [
    "use_SHM = dddm.SHM()\n",
    "xe_events = dddm.DetectorSpectrum(50, 1e-45, use_SHM, dddm.detectors['Xe'])\n",
    "xe_data = xe_events.get_data(poisson = False)\n",
    "xe_data"
   ]
  },
  {
   "cell_type": "code",
   "execution_count": 14,
   "metadata": {},
   "outputs": [
    {
     "name": "stdout",
     "output_type": "stream",
     "text": [
      "stat_model::initialized for Ar detector. See print(stat_model) for default settings\n"
     ]
    }
   ],
   "source": [
    "stats = dddm.MCMCStatModel(\"Ar\")\n",
    "stats.show_walkers()\n",
    "# test = stats.check_spectrum()\n",
    "# stats.set_pos().T.shape"
   ]
  },
  {
   "cell_type": "code",
   "execution_count": 16,
   "metadata": {},
   "outputs": [
    {
     "data": {
      "image/png": "[encoded data removed]",
      "text/plain": [
       "<Figure size 720x504 with 2 Axes>"
      ]
     },
     "metadata": {
      "needs_background": "light"
     },
     "output_type": "display_data"
    }
   ],
   "source": [
    "stats.show_walkers()"
   ]
  },
  {
   "cell_type": "code",
   "execution_count": 15,
   "metadata": {},
   "outputs": [
    {
     "name": "stderr",
     "output_type": "stream",
     "text": [
      "C:\\Users\\Joran\\Anaconda3\\envs\\DD_DM\\lib\\site-packages\\emcee\\ensemble.py:258: RuntimeWarning: Initial state is not linearly independent and it will not allow a full exploration of parameter space\n",
      "  category=RuntimeWarning,\n",
      "  0%|                                                                                       | 0/100 [00:00<?, ?it/s]"
     ]
    },
    {
     "name": "stdout",
     "output_type": "stream",
     "text": [
      "finding a negative value for log_cross_section, returning -np.inf\n",
      "finding a negative value for log_mass, returning -np.inf\n",
      "finding a negative value for log_mass, returning -np.inf\n",
      "finding a negative value for log_mass, returning -np.inf\n",
      "finding a negative value for log_mass, returning -np.inf\n",
      "finding a negative value for log_mass, returning -np.inf\n",
      "finding a negative value for log_cross_section, returning -np.inf\n",
      "finding a negative value for log_mass, returning -np.inf\n",
      "finding a negative value for log_cross_section, returning -np.inf\n",
      "finding a negative value for log_mass, returning -np.inf\n",
      "finding a negative value for log_cross_section, returning -np.inf\n",
      "finding a negative value for log_mass, returning -np.inf\n",
      "finding a negative value for log_cross_section, returning -np.inf\n",
      "finding a negative value for log_cross_section, returning -np.inf\n",
      "finding a negative value for log_mass, returning -np.inf\n",
      "finding a negative value for log_mass, returning -np.inf\n",
      "finding a negative value for log_cross_section, returning -np.inf\n",
      "finding a negative value for log_mass, returning -np.inf\n",
      "finding a negative value for log_cross_section, returning -np.inf\n"
     ]
    },
    {
     "name": "stderr",
     "output_type": "stream",
     "text": [
      "\r",
      "  1%|▊                                                                              | 1/100 [00:01<02:38,  1.60s/it]"
     ]
    },
    {
     "name": "stdout",
     "output_type": "stream",
     "text": [
      "finding a negative value for log_cross_section, returning -np.inf\n",
      "finding a negative value for log_mass, returning -np.inf\n",
      "finding a negative value for log_cross_section, returning -np.inf\n",
      "finding a negative value for log_mass, returning -np.inf\n",
      "finding a negative value for log_cross_section, returning -np.inf\n",
      "finding a negative value for log_cross_section, returning -np.inf\n",
      "finding a negative value for log_cross_section, returning -np.inf\n",
      "finding a negative value for log_mass, returning -np.inf\n",
      "finding a negative value for log_cross_section, returning -np.inf\n",
      "finding a negative value for log_mass, returning -np.inf\n",
      "finding a negative value for log_cross_section, returning -np.inf\n",
      "finding a negative value for log_cross_section, returning -np.inf\n",
      "finding a negative value for log_mass, returning -np.inf\n",
      "finding a negative value for log_mass, returning -np.inf\n",
      "finding a negative value for log_cross_section, returning -np.inf\n",
      "finding a negative value for log_cross_section, returning -np.inf\n",
      "finding a negative value for log_cross_section, returning -np.inf\n",
      "finding a negative value for log_mass, returning -np.inf\n",
      "finding a negative value for log_mass, returning -np.inf\n",
      "finding a negative value for log_cross_section, returning -np.inf\n"
     ]
    },
    {
     "name": "stderr",
     "output_type": "stream",
     "text": [
      "\r",
      "  2%|█▌                                                                             | 2/100 [00:02<02:29,  1.53s/it]"
     ]
    },
    {
     "name": "stdout",
     "output_type": "stream",
     "text": [
      "finding a negative value for log_mass, returning -np.inf\n",
      "finding a negative value for log_cross_section, returning -np.inf\n",
      "finding a negative value for log_mass, returning -np.inf\n",
      "finding a negative value for log_mass, returning -np.inf\n",
      "finding a negative value for log_mass, returning -np.inf\n",
      "finding a negative value for log_cross_section, returning -np.inf\n",
      "finding a negative value for log_cross_section, returning -np.inf\n",
      "finding a negative value for log_cross_section, returning -np.inf\n",
      "finding a negative value for log_mass, returning -np.inf\n",
      "finding a negative value for log_mass, returning -np.inf\n",
      "finding a negative value for log_cross_section, returning -np.inf\n",
      "finding a negative value for log_cross_section, returning -np.inf\n",
      "finding a negative value for log_cross_section, returning -np.inf\n",
      "finding a negative value for log_mass, returning -np.inf\n",
      "finding a negative value for log_mass, returning -np.inf\n",
      "finding a negative value for log_mass, returning -np.inf\n",
      "finding a negative value for log_cross_section, returning -np.inf\n",
      "finding a negative value for log_mass, returning -np.inf\n",
      "finding a negative value for log_cross_section, returning -np.inf\n"
     ]
    },
    {
     "name": "stderr",
     "output_type": "stream",
     "text": [
      "\r",
      "  3%|██▎                                                                            | 3/100 [00:04<02:35,  1.60s/it]"
     ]
    },
    {
     "name": "stdout",
     "output_type": "stream",
     "text": [
      "finding a negative value for log_mass, returning -np.inf\n",
      "finding a negative value for log_mass, returning -np.inf\n",
      "finding a negative value for log_mass, returning -np.inf\n",
      "finding a negative value for log_cross_section, returning -np.inf\n",
      "finding a negative value for log_cross_section, returning -np.inf\n",
      "finding a negative value for log_mass, returning -np.inf\n",
      "finding a negative value for log_cross_section, returning -np.inf\n",
      "finding a negative value for log_mass, returning -np.inf\n",
      "finding a negative value for log_cross_section, returning -np.inf\n",
      "finding a negative value for log_cross_section, returning -np.inf\n",
      "finding a negative value for log_mass, returning -np.inf\n",
      "finding a negative value for log_cross_section, returning -np.inf\n",
      "finding a negative value for log_mass, returning -np.inf\n",
      "finding a negative value for log_cross_section, returning -np.inf\n",
      "finding a negative value for log_cross_section, returning -np.inf\n",
      "finding a negative value for log_cross_section, returning -np.inf\n",
      "finding a negative value for log_cross_section, returning -np.inf\n"
     ]
    },
    {
     "name": "stderr",
     "output_type": "stream",
     "text": [
      "\r",
      "  4%|███▏                                                                           | 4/100 [00:06<02:36,  1.63s/it]"
     ]
    },
    {
     "name": "stdout",
     "output_type": "stream",
     "text": [
      "finding a negative value for log_mass, returning -np.inf\n",
      "finding a negative value for log_cross_section, returning -np.inf\n",
      "finding a negative value for log_mass, returning -np.inf\n",
      "finding a negative value for log_cross_section, returning -np.inf\n",
      "finding a negative value for log_mass, returning -np.inf\n",
      "finding a negative value for log_cross_section, returning -np.inf\n",
      "finding a negative value for log_mass, returning -np.inf\n",
      "finding a negative value for log_cross_section, returning -np.inf\n",
      "finding a negative value for log_mass, returning -np.inf\n",
      "finding a negative value for log_mass, returning -np.inf\n",
      "finding a negative value for log_cross_section, returning -np.inf\n",
      "finding a negative value for log_mass, returning -np.inf\n",
      "finding a negative value for log_cross_section, returning -np.inf\n",
      "finding a negative value for log_cross_section, returning -np.inf\n",
      "finding a negative value for log_mass, returning -np.inf\n",
      "finding a negative value for log_cross_section, returning -np.inf\n",
      "finding a negative value for log_cross_section, returning -np.inf\n"
     ]
    },
    {
     "name": "stderr",
     "output_type": "stream",
     "text": [
      "\r",
      "  5%|███▉                                                                           | 5/100 [00:08<02:39,  1.68s/it]"
     ]
    },
    {
     "name": "stdout",
     "output_type": "stream",
     "text": [
      "finding a negative value for log_cross_section, returning -np.inf\n",
      "finding a negative value for log_mass, returning -np.inf\n",
      "finding a negative value for log_mass, returning -np.inf\n",
      "finding a negative value for log_mass, returning -np.inf\n",
      "finding a negative value for log_mass, returning -np.inf\n",
      "finding a negative value for log_cross_section, returning -np.inf\n",
      "finding a negative value for log_cross_section, returning -np.inf\n",
      "finding a negative value for log_cross_section, returning -np.inf\n",
      "finding a negative value for log_mass, returning -np.inf\n",
      "finding a negative value for log_cross_section, returning -np.inf\n",
      "finding a negative value for log_cross_section, returning -np.inf\n",
      "finding a negative value for log_mass, returning -np.inf\n",
      "finding a negative value for log_cross_section, returning -np.inf\n",
      "finding a negative value for log_cross_section, returning -np.inf\n",
      "finding a negative value for log_cross_section, returning -np.inf\n"
     ]
    },
    {
     "name": "stderr",
     "output_type": "stream",
     "text": [
      "\r",
      "  6%|████▋                                                                          | 6/100 [00:09<02:31,  1.61s/it]"
     ]
    },
    {
     "name": "stdout",
     "output_type": "stream",
     "text": [
      "finding a negative value for log_cross_section, returning -np.inf\n",
      "finding a negative value for log_mass, returning -np.inf\n",
      "finding a negative value for log_cross_section, returning -np.inf\n",
      "finding a negative value for log_mass, returning -np.inf\n",
      "finding a negative value for log_cross_section, returning -np.inf\n",
      "finding a negative value for log_mass, returning -np.inf\n",
      "finding a negative value for log_mass, returning -np.inf\n",
      "finding a negative value for log_cross_section, returning -np.inf\n",
      "finding a negative value for log_cross_section, returning -np.inf\n",
      "finding a negative value for log_mass, returning -np.inf\n",
      "finding a negative value for log_cross_section, returning -np.inf\n",
      "finding a negative value for log_mass, returning -np.inf\n",
      "finding a negative value for log_cross_section, returning -np.inf\n",
      "finding a negative value for log_mass, returning -np.inf\n",
      "finding a negative value for log_cross_section, returning -np.inf\n",
      "finding a negative value for log_mass, returning -np.inf\n",
      "finding a negative value for log_cross_section, returning -np.inf\n",
      "finding a negative value for log_mass, returning -np.inf\n",
      "finding a negative value for log_cross_section, returning -np.inf\n",
      "finding a negative value for log_mass, returning -np.inf\n",
      "finding a negative value for log_cross_section, returning -np.inf\n",
      "finding a negative value for log_cross_section, returning -np.inf\n",
      "finding a negative value for log_cross_section, returning -np.inf\n"
     ]
    },
    {
     "name": "stderr",
     "output_type": "stream",
     "text": [
      "\r",
      "  7%|█████▌                                                                         | 7/100 [00:11<02:26,  1.58s/it]"
     ]
    },
    {
     "name": "stdout",
     "output_type": "stream",
     "text": [
      "finding a negative value for log_mass, returning -np.inf\n",
      "finding a negative value for log_cross_section, returning -np.inf\n",
      "finding a negative value for log_mass, returning -np.inf\n",
      "finding a negative value for log_mass, returning -np.inf\n",
      "finding a negative value for log_mass, returning -np.inf\n",
      "finding a negative value for log_cross_section, returning -np.inf\n",
      "finding a negative value for log_cross_section, returning -np.inf\n",
      "finding a negative value for log_cross_section, returning -np.inf\n",
      "finding a negative value for log_cross_section, returning -np.inf\n",
      "finding a negative value for log_cross_section, returning -np.inf\n",
      "finding a negative value for log_mass, returning -np.inf\n",
      "finding a negative value for log_cross_section, returning -np.inf\n",
      "finding a negative value for log_cross_section, returning -np.inf\n",
      "finding a negative value for log_cross_section, returning -np.inf\n",
      "finding a negative value for log_mass, returning -np.inf\n",
      "finding a negative value for log_cross_section, returning -np.inf\n",
      "finding a negative value for log_cross_section, returning -np.inf\n"
     ]
    },
    {
     "name": "stderr",
     "output_type": "stream",
     "text": [
      "\r",
      "  8%|██████▎                                                                        | 8/100 [00:12<02:27,  1.60s/it]"
     ]
    },
    {
     "name": "stdout",
     "output_type": "stream",
     "text": [
      "finding a negative value for log_cross_section, returning -np.inf\n",
      "finding a negative value for log_mass, returning -np.inf\n",
      "finding a negative value for log_mass, returning -np.inf\n",
      "finding a negative value for log_cross_section, returning -np.inf\n",
      "finding a negative value for log_mass, returning -np.inf\n",
      "finding a negative value for log_mass, returning -np.inf\n",
      "finding a negative value for log_mass, returning -np.inf\n",
      "finding a negative value for log_cross_section, returning -np.inf\n",
      "finding a negative value for log_cross_section, returning -np.inf\n",
      "finding a negative value for log_mass, returning -np.inf\n",
      "finding a negative value for log_cross_section, returning -np.inf\n",
      "finding a negative value for log_cross_section, returning -np.inf\n",
      "finding a negative value for log_cross_section, returning -np.inf\n",
      "finding a negative value for log_mass, returning -np.inf\n",
      "finding a negative value for log_cross_section, returning -np.inf\n",
      "finding a negative value for log_cross_section, returning -np.inf\n"
     ]
    },
    {
     "name": "stderr",
     "output_type": "stream",
     "text": [
      "\r",
      "  9%|███████                                                                        | 9/100 [00:14<02:31,  1.66s/it]"
     ]
    },
    {
     "name": "stdout",
     "output_type": "stream",
     "text": [
      "finding a negative value for log_cross_section, returning -np.inf\n",
      "finding a negative value for log_mass, returning -np.inf\n",
      "finding a negative value for log_cross_section, returning -np.inf\n",
      "finding a negative value for log_mass, returning -np.inf\n",
      "finding a negative value for log_cross_section, returning -np.inf\n",
      "finding a negative value for log_cross_section, returning -np.inf\n",
      "finding a negative value for log_cross_section, returning -np.inf\n",
      "finding a negative value for log_cross_section, returning -np.inf\n",
      "finding a negative value for log_cross_section, returning -np.inf\n",
      "finding a negative value for log_cross_section, returning -np.inf\n",
      "finding a negative value for log_cross_section, returning -np.inf\n",
      "finding a negative value for log_cross_section, returning -np.inf\n",
      "finding a negative value for log_cross_section, returning -np.inf\n",
      "finding a negative value for log_mass, returning -np.inf\n",
      "finding a negative value for log_mass, returning -np.inf\n",
      "finding a negative value for log_mass, returning -np.inf\n",
      "finding a negative value for log_cross_section, returning -np.inf\n",
      "finding a negative value for log_cross_section, returning -np.inf\n",
      "finding a negative value for log_mass, returning -np.inf\n",
      "finding a negative value for log_cross_section, returning -np.inf\n",
      "finding a negative value for log_mass, returning -np.inf\n",
      "finding a negative value for log_cross_section, returning -np.inf\n"
     ]
    },
    {
     "name": "stderr",
     "output_type": "stream",
     "text": [
      "\r",
      " 10%|███████▊                                                                      | 10/100 [00:16<02:29,  1.66s/it]"
     ]
    },
    {
     "name": "stdout",
     "output_type": "stream",
     "text": [
      "finding a negative value for log_mass, returning -np.inf\n",
      "finding a negative value for log_mass, returning -np.inf\n",
      "finding a negative value for log_cross_section, returning -np.inf\n",
      "finding a negative value for log_cross_section, returning -np.inf\n",
      "finding a negative value for log_mass, returning -np.inf\n",
      "finding a negative value for log_mass, returning -np.inf\n",
      "finding a negative value for log_cross_section, returning -np.inf\n",
      "finding a negative value for log_cross_section, returning -np.inf\n",
      "finding a negative value for log_cross_section, returning -np.inf\n",
      "finding a negative value for log_mass, returning -np.inf\n",
      "finding a negative value for log_cross_section, returning -np.inf\n",
      "finding a negative value for log_cross_section, returning -np.inf\n",
      "finding a negative value for log_mass, returning -np.inf\n",
      "finding a negative value for log_mass, returning -np.inf\n",
      "finding a negative value for log_cross_section, returning -np.inf\n",
      "finding a negative value for log_mass, returning -np.inf\n",
      "finding a negative value for log_mass, returning -np.inf\n",
      "finding a negative value for log_mass, returning -np.inf\n",
      "finding a negative value for log_cross_section, returning -np.inf\n",
      "finding a negative value for log_cross_section, returning -np.inf\n",
      "finding a negative value for log_cross_section, returning -np.inf\n",
      "finding a negative value for log_cross_section, returning -np.inf\n",
      "finding a negative value for log_cross_section, returning -np.inf\n",
      "finding a negative value for log_mass, returning -np.inf\n",
      "finding a negative value for log_cross_section, returning -np.inf\n",
      "finding a negative value for log_cross_section, returning -np.inf\n"
     ]
    },
    {
     "name": "stderr",
     "output_type": "stream",
     "text": [
      "\r",
      " 11%|████████▌                                                                     | 11/100 [00:17<02:22,  1.60s/it]"
     ]
    },
    {
     "name": "stdout",
     "output_type": "stream",
     "text": [
      "finding a negative value for log_mass, returning -np.inf\n",
      "finding a negative value for log_mass, returning -np.inf\n",
      "finding a negative value for log_mass, returning -np.inf\n",
      "finding a negative value for log_cross_section, returning -np.inf\n",
      "finding a negative value for log_cross_section, returning -np.inf\n",
      "finding a negative value for log_cross_section, returning -np.inf\n",
      "finding a negative value for log_mass, returning -np.inf\n",
      "finding a negative value for log_mass, returning -np.inf\n",
      "finding a negative value for log_mass, returning -np.inf\n",
      "finding a negative value for log_mass, returning -np.inf\n",
      "finding a negative value for log_mass, returning -np.inf\n"
     ]
    },
    {
     "name": "stderr",
     "output_type": "stream",
     "text": [
      "\r",
      " 12%|█████████▎                                                                    | 12/100 [00:19<02:34,  1.76s/it]"
     ]
    },
    {
     "name": "stdout",
     "output_type": "stream",
     "text": [
      "finding a negative value for log_mass, returning -np.inf\n",
      "finding a negative value for log_cross_section, returning -np.inf\n",
      "finding a negative value for log_cross_section, returning -np.inf\n",
      "finding a negative value for log_mass, returning -np.inf\n",
      "finding a negative value for log_mass, returning -np.inf\n",
      "finding a negative value for log_cross_section, returning -np.inf\n",
      "finding a negative value for log_mass, returning -np.inf\n",
      "finding a negative value for log_mass, returning -np.inf\n",
      "finding a negative value for log_mass, returning -np.inf\n",
      "finding a negative value for log_cross_section, returning -np.inf\n",
      "finding a negative value for log_mass, returning -np.inf\n",
      "finding a negative value for log_cross_section, returning -np.inf\n",
      "finding a negative value for log_cross_section, returning -np.inf\n",
      "finding a negative value for log_mass, returning -np.inf\n",
      "finding a negative value for log_mass, returning -np.inf\n",
      "finding a negative value for log_cross_section, returning -np.inf\n",
      "finding a negative value for log_mass, returning -np.inf\n",
      "finding a negative value for log_cross_section, returning -np.inf\n",
      "finding a negative value for log_mass, returning -np.inf\n"
     ]
    },
    {
     "name": "stderr",
     "output_type": "stream",
     "text": [
      "\r",
      " 13%|██████████▏                                                                   | 13/100 [00:21<02:38,  1.82s/it]"
     ]
    },
    {
     "name": "stdout",
     "output_type": "stream",
     "text": [
      "finding a negative value for log_cross_section, returning -np.inf\n",
      "finding a negative value for log_cross_section, returning -np.inf\n",
      "finding a negative value for log_cross_section, returning -np.inf\n",
      "finding a negative value for log_cross_section, returning -np.inf\n",
      "finding a negative value for log_mass, returning -np.inf\n",
      "finding a negative value for log_cross_section, returning -np.inf\n",
      "finding a negative value for log_mass, returning -np.inf\n",
      "finding a negative value for log_cross_section, returning -np.inf\n",
      "finding a negative value for log_cross_section, returning -np.inf\n",
      "finding a negative value for log_mass, returning -np.inf\n",
      "finding a negative value for log_mass, returning -np.inf\n",
      "finding a negative value for log_cross_section, returning -np.inf\n",
      "finding a negative value for log_cross_section, returning -np.inf\n",
      "finding a negative value for log_mass, returning -np.inf\n",
      "finding a negative value for log_cross_section, returning -np.inf\n",
      "finding a negative value for log_cross_section, returning -np.inf\n",
      "finding a negative value for log_cross_section, returning -np.inf\n",
      "finding a negative value for log_cross_section, returning -np.inf\n",
      "finding a negative value for log_mass, returning -np.inf\n",
      "finding a negative value for log_mass, returning -np.inf\n",
      "finding a negative value for log_cross_section, returning -np.inf\n",
      "finding a negative value for log_mass, returning -np.inf\n",
      "finding a negative value for log_cross_section, returning -np.inf\n"
     ]
    },
    {
     "name": "stderr",
     "output_type": "stream",
     "text": [
      "\r",
      " 14%|██████████▉                                                                   | 14/100 [00:23<02:29,  1.74s/it]"
     ]
    },
    {
     "name": "stdout",
     "output_type": "stream",
     "text": [
      "finding a negative value for log_mass, returning -np.inf\n",
      "finding a negative value for log_mass, returning -np.inf\n",
      "finding a negative value for log_mass, returning -np.inf\n",
      "finding a negative value for log_cross_section, returning -np.inf\n",
      "finding a negative value for log_cross_section, returning -np.inf\n",
      "finding a negative value for log_mass, returning -np.inf\n",
      "finding a negative value for log_mass, returning -np.inf\n",
      "finding a negative value for log_cross_section, returning -np.inf\n",
      "finding a negative value for log_mass, returning -np.inf\n",
      "finding a negative value for log_cross_section, returning -np.inf\n",
      "finding a negative value for log_cross_section, returning -np.inf\n",
      "finding a negative value for log_mass, returning -np.inf\n",
      "finding a negative value for log_cross_section, returning -np.inf\n",
      "finding a negative value for log_mass, returning -np.inf\n"
     ]
    },
    {
     "name": "stderr",
     "output_type": "stream",
     "text": [
      "\r",
      " 15%|███████████▋                                                                  | 15/100 [00:25<02:32,  1.80s/it]"
     ]
    },
    {
     "name": "stdout",
     "output_type": "stream",
     "text": [
      "finding a negative value for log_mass, returning -np.inf\n",
      "finding a negative value for log_mass, returning -np.inf\n",
      "finding a negative value for log_cross_section, returning -np.inf\n",
      "finding a negative value for log_mass, returning -np.inf\n",
      "finding a negative value for log_cross_section, returning -np.inf\n",
      "finding a negative value for log_cross_section, returning -np.inf\n",
      "finding a negative value for log_mass, returning -np.inf\n",
      "finding a negative value for log_cross_section, returning -np.inf\n",
      "finding a negative value for log_cross_section, returning -np.inf\n",
      "finding a negative value for log_mass, returning -np.inf\n",
      "finding a negative value for log_cross_section, returning -np.inf\n",
      "finding a negative value for log_cross_section, returning -np.inf\n",
      "finding a negative value for log_cross_section, returning -np.inf\n",
      "finding a negative value for log_mass, returning -np.inf\n",
      "finding a negative value for log_cross_section, returning -np.inf\n",
      "finding a negative value for log_cross_section, returning -np.inf\n",
      "finding a negative value for log_cross_section, returning -np.inf\n"
     ]
    },
    {
     "name": "stderr",
     "output_type": "stream",
     "text": [
      "\r",
      " 16%|████████████▍                                                                 | 16/100 [00:27<02:27,  1.76s/it]"
     ]
    },
    {
     "name": "stdout",
     "output_type": "stream",
     "text": [
      "finding a negative value for log_mass, returning -np.inf\n",
      "finding a negative value for log_mass, returning -np.inf\n",
      "finding a negative value for log_mass, returning -np.inf\n",
      "finding a negative value for log_cross_section, returning -np.inf\n",
      "finding a negative value for log_cross_section, returning -np.inf\n",
      "finding a negative value for log_mass, returning -np.inf\n",
      "finding a negative value for log_mass, returning -np.inf\n",
      "finding a negative value for log_mass, returning -np.inf\n",
      "finding a negative value for log_cross_section, returning -np.inf\n",
      "finding a negative value for log_cross_section, returning -np.inf\n",
      "finding a negative value for log_cross_section, returning -np.inf\n",
      "finding a negative value for log_cross_section, returning -np.inf\n",
      "finding a negative value for log_cross_section, returning -np.inf\n",
      "finding a negative value for log_mass, returning -np.inf\n",
      "finding a negative value for log_mass, returning -np.inf\n",
      "finding a negative value for log_mass, returning -np.inf\n",
      "finding a negative value for log_cross_section, returning -np.inf\n",
      "finding a negative value for log_cross_section, returning -np.inf\n",
      "finding a negative value for log_cross_section, returning -np.inf\n",
      "finding a negative value for log_cross_section, returning -np.inf\n",
      "finding a negative value for log_cross_section, returning -np.inf\n"
     ]
    },
    {
     "name": "stderr",
     "output_type": "stream",
     "text": [
      "\r",
      " 17%|█████████████▎                                                                | 17/100 [00:28<02:25,  1.75s/it]"
     ]
    },
    {
     "name": "stdout",
     "output_type": "stream",
     "text": [
      "finding a negative value for log_mass, returning -np.inf\n",
      "finding a negative value for log_cross_section, returning -np.inf\n",
      "finding a negative value for log_mass, returning -np.inf\n",
      "finding a negative value for log_mass, returning -np.inf\n",
      "finding a negative value for log_cross_section, returning -np.inf\n",
      "finding a negative value for log_cross_section, returning -np.inf\n",
      "finding a negative value for log_mass, returning -np.inf\n",
      "finding a negative value for log_mass, returning -np.inf\n",
      "finding a negative value for log_mass, returning -np.inf\n",
      "finding a negative value for log_mass, returning -np.inf\n",
      "finding a negative value for log_cross_section, returning -np.inf\n",
      "finding a negative value for log_cross_section, returning -np.inf\n",
      "finding a negative value for log_cross_section, returning -np.inf\n",
      "finding a negative value for log_mass, returning -np.inf\n",
      "finding a negative value for log_cross_section, returning -np.inf\n"
     ]
    },
    {
     "name": "stderr",
     "output_type": "stream",
     "text": [
      "\r",
      " 18%|██████████████                                                                | 18/100 [00:30<02:29,  1.82s/it]"
     ]
    },
    {
     "name": "stdout",
     "output_type": "stream",
     "text": [
      "finding a negative value for log_mass, returning -np.inf\n",
      "finding a negative value for log_mass, returning -np.inf\n",
      "finding a negative value for log_cross_section, returning -np.inf\n",
      "finding a negative value for log_cross_section, returning -np.inf\n",
      "finding a negative value for log_mass, returning -np.inf\n",
      "finding a negative value for log_cross_section, returning -np.inf\n",
      "finding a negative value for log_cross_section, returning -np.inf\n",
      "finding a negative value for log_mass, returning -np.inf\n",
      "finding a negative value for log_cross_section, returning -np.inf\n",
      "finding a negative value for log_mass, returning -np.inf\n",
      "finding a negative value for log_cross_section, returning -np.inf\n",
      "finding a negative value for log_cross_section, returning -np.inf\n",
      "finding a negative value for log_cross_section, returning -np.inf\n",
      "finding a negative value for log_cross_section, returning -np.inf\n",
      "finding a negative value for log_cross_section, returning -np.inf\n"
     ]
    },
    {
     "name": "stderr",
     "output_type": "stream",
     "text": [
      "\r",
      " 19%|██████████████▊                                                               | 19/100 [00:32<02:30,  1.86s/it]"
     ]
    },
    {
     "name": "stdout",
     "output_type": "stream",
     "text": [
      "finding a negative value for log_cross_section, returning -np.inf\n",
      "finding a negative value for log_mass, returning -np.inf\n",
      "finding a negative value for log_mass, returning -np.inf\n",
      "finding a negative value for log_cross_section, returning -np.inf\n",
      "finding a negative value for log_cross_section, returning -np.inf\n",
      "finding a negative value for log_mass, returning -np.inf\n",
      "finding a negative value for log_mass, returning -np.inf\n",
      "finding a negative value for log_cross_section, returning -np.inf\n",
      "finding a negative value for log_cross_section, returning -np.inf\n",
      "finding a negative value for log_mass, returning -np.inf\n",
      "finding a negative value for log_mass, returning -np.inf\n",
      "finding a negative value for log_cross_section, returning -np.inf\n",
      "finding a negative value for log_cross_section, returning -np.inf\n",
      "finding a negative value for log_mass, returning -np.inf\n",
      "finding a negative value for log_cross_section, returning -np.inf\n",
      "finding a negative value for log_cross_section, returning -np.inf\n",
      "finding a negative value for log_cross_section, returning -np.inf\n",
      "finding a negative value for log_cross_section, returning -np.inf\n",
      "finding a negative value for log_mass, returning -np.inf\n"
     ]
    },
    {
     "name": "stderr",
     "output_type": "stream",
     "text": [
      "\r",
      " 20%|███████████████▌                                                              | 20/100 [00:34<02:20,  1.76s/it]"
     ]
    },
    {
     "name": "stdout",
     "output_type": "stream",
     "text": [
      "finding a negative value for log_cross_section, returning -np.inf\n",
      "finding a negative value for log_mass, returning -np.inf\n",
      "finding a negative value for log_mass, returning -np.inf\n",
      "finding a negative value for log_cross_section, returning -np.inf\n",
      "finding a negative value for log_cross_section, returning -np.inf\n",
      "finding a negative value for log_cross_section, returning -np.inf\n",
      "finding a negative value for log_mass, returning -np.inf\n",
      "finding a negative value for log_cross_section, returning -np.inf\n",
      "finding a negative value for log_mass, returning -np.inf\n",
      "finding a negative value for log_cross_section, returning -np.inf\n",
      "finding a negative value for log_cross_section, returning -np.inf\n",
      "finding a negative value for log_mass, returning -np.inf\n",
      "finding a negative value for log_cross_section, returning -np.inf\n",
      "finding a negative value for log_cross_section, returning -np.inf\n",
      "finding a negative value for log_cross_section, returning -np.inf\n"
     ]
    },
    {
     "name": "stderr",
     "output_type": "stream",
     "text": [
      "\r",
      " 21%|████████████████▍                                                             | 21/100 [00:36<02:24,  1.83s/it]"
     ]
    },
    {
     "name": "stdout",
     "output_type": "stream",
     "text": [
      "finding a negative value for log_cross_section, returning -np.inf\n",
      "finding a negative value for log_mass, returning -np.inf\n",
      "finding a negative value for log_cross_section, returning -np.inf\n",
      "finding a negative value for log_mass, returning -np.inf\n",
      "finding a negative value for log_cross_section, returning -np.inf\n",
      "finding a negative value for log_mass, returning -np.inf\n",
      "finding a negative value for log_cross_section, returning -np.inf\n",
      "finding a negative value for log_mass, returning -np.inf\n",
      "finding a negative value for log_mass, returning -np.inf\n",
      "finding a negative value for log_cross_section, returning -np.inf\n",
      "finding a negative value for log_mass, returning -np.inf\n",
      "finding a negative value for log_cross_section, returning -np.inf\n",
      "finding a negative value for log_cross_section, returning -np.inf\n",
      "finding a negative value for log_mass, returning -np.inf\n"
     ]
    },
    {
     "name": "stderr",
     "output_type": "stream",
     "text": [
      "\r",
      " 22%|█████████████████▏                                                            | 22/100 [00:38<02:28,  1.90s/it]"
     ]
    },
    {
     "name": "stdout",
     "output_type": "stream",
     "text": [
      "finding a negative value for log_mass, returning -np.inf\n",
      "finding a negative value for log_mass, returning -np.inf\n",
      "finding a negative value for log_mass, returning -np.inf\n",
      "finding a negative value for log_cross_section, returning -np.inf\n",
      "finding a negative value for log_cross_section, returning -np.inf\n",
      "finding a negative value for log_mass, returning -np.inf\n",
      "finding a negative value for log_mass, returning -np.inf\n",
      "finding a negative value for log_cross_section, returning -np.inf\n",
      "finding a negative value for log_mass, returning -np.inf\n",
      "finding a negative value for log_cross_section, returning -np.inf\n",
      "finding a negative value for log_cross_section, returning -np.inf\n"
     ]
    },
    {
     "name": "stderr",
     "output_type": "stream",
     "text": [
      "\r",
      " 23%|█████████████████▉                                                            | 23/100 [00:40<02:31,  1.97s/it]"
     ]
    },
    {
     "name": "stdout",
     "output_type": "stream",
     "text": [
      "finding a negative value for log_mass, returning -np.inf\n",
      "finding a negative value for log_cross_section, returning -np.inf\n",
      "finding a negative value for log_mass, returning -np.inf\n",
      "finding a negative value for log_cross_section, returning -np.inf\n",
      "finding a negative value for log_cross_section, returning -np.inf\n",
      "finding a negative value for log_cross_section, returning -np.inf\n",
      "finding a negative value for log_mass, returning -np.inf\n",
      "finding a negative value for log_cross_section, returning -np.inf\n"
     ]
    },
    {
     "name": "stderr",
     "output_type": "stream",
     "text": [
      "\r",
      " 24%|██████████████████▋                                                           | 24/100 [00:42<02:34,  2.04s/it]"
     ]
    },
    {
     "name": "stdout",
     "output_type": "stream",
     "text": [
      "finding a negative value for log_mass, returning -np.inf\n",
      "finding a negative value for log_mass, returning -np.inf\n",
      "finding a negative value for log_mass, returning -np.inf\n",
      "finding a negative value for log_cross_section, returning -np.inf\n",
      "finding a negative value for log_cross_section, returning -np.inf\n",
      "finding a negative value for log_cross_section, returning -np.inf\n",
      "finding a negative value for log_mass, returning -np.inf\n",
      "finding a negative value for log_cross_section, returning -np.inf\n",
      "finding a negative value for log_mass, returning -np.inf\n",
      "finding a negative value for log_mass, returning -np.inf\n",
      "finding a negative value for log_mass, returning -np.inf\n",
      "finding a negative value for log_cross_section, returning -np.inf\n",
      "finding a negative value for log_cross_section, returning -np.inf\n",
      "finding a negative value for log_mass, returning -np.inf\n"
     ]
    },
    {
     "name": "stderr",
     "output_type": "stream",
     "text": [
      "\r",
      " 25%|███████████████████▌                                                          | 25/100 [00:44<02:37,  2.10s/it]"
     ]
    },
    {
     "name": "stdout",
     "output_type": "stream",
     "text": [
      "finding a negative value for log_cross_section, returning -np.inf\n",
      "finding a negative value for log_mass, returning -np.inf\n",
      "finding a negative value for log_cross_section, returning -np.inf\n",
      "finding a negative value for log_cross_section, returning -np.inf\n",
      "finding a negative value for log_cross_section, returning -np.inf\n",
      "finding a negative value for log_cross_section, returning -np.inf\n",
      "finding a negative value for log_cross_section, returning -np.inf\n",
      "finding a negative value for log_mass, returning -np.inf\n",
      "finding a negative value for log_cross_section, returning -np.inf\n",
      "finding a negative value for log_mass, returning -np.inf\n",
      "finding a negative value for log_cross_section, returning -np.inf\n",
      "finding a negative value for log_cross_section, returning -np.inf\n",
      "finding a negative value for log_cross_section, returning -np.inf\n",
      "finding a negative value for log_mass, returning -np.inf\n",
      "finding a negative value for log_cross_section, returning -np.inf\n",
      "finding a negative value for log_mass, returning -np.inf\n",
      "finding a negative value for log_mass, returning -np.inf\n",
      "finding a negative value for log_cross_section, returning -np.inf\n",
      "finding a negative value for log_cross_section, returning -np.inf\n",
      "finding a negative value for log_cross_section, returning -np.inf\n",
      "finding a negative value for log_mass, returning -np.inf\n"
     ]
    },
    {
     "name": "stderr",
     "output_type": "stream",
     "text": [
      "\r",
      " 26%|████████████████████▎                                                         | 26/100 [00:46<02:30,  2.03s/it]"
     ]
    },
    {
     "name": "stdout",
     "output_type": "stream",
     "text": [
      "finding a negative value for log_mass, returning -np.inf\n",
      "finding a negative value for log_cross_section, returning -np.inf\n",
      "finding a negative value for log_mass, returning -np.inf\n",
      "finding a negative value for log_mass, returning -np.inf\n",
      "finding a negative value for log_mass, returning -np.inf\n",
      "finding a negative value for log_cross_section, returning -np.inf\n",
      "finding a negative value for log_cross_section, returning -np.inf\n",
      "finding a negative value for log_cross_section, returning -np.inf\n",
      "finding a negative value for log_cross_section, returning -np.inf\n",
      "finding a negative value for log_cross_section, returning -np.inf\n",
      "finding a negative value for log_cross_section, returning -np.inf\n",
      "finding a negative value for log_cross_section, returning -np.inf\n",
      "finding a negative value for log_mass, returning -np.inf\n",
      "finding a negative value for log_mass, returning -np.inf\n",
      "finding a negative value for log_mass, returning -np.inf\n",
      "finding a negative value for log_cross_section, returning -np.inf\n"
     ]
    },
    {
     "name": "stderr",
     "output_type": "stream",
     "text": [
      "\r",
      " 27%|█████████████████████                                                         | 27/100 [00:48<02:24,  1.99s/it]"
     ]
    },
    {
     "name": "stdout",
     "output_type": "stream",
     "text": [
      "finding a negative value for log_cross_section, returning -np.inf\n",
      "finding a negative value for log_mass, returning -np.inf\n",
      "finding a negative value for log_mass, returning -np.inf\n",
      "finding a negative value for log_mass, returning -np.inf\n",
      "finding a negative value for log_cross_section, returning -np.inf\n",
      "finding a negative value for log_cross_section, returning -np.inf\n",
      "finding a negative value for log_cross_section, returning -np.inf\n",
      "finding a negative value for log_cross_section, returning -np.inf\n",
      "finding a negative value for log_cross_section, returning -np.inf\n",
      "finding a negative value for log_cross_section, returning -np.inf\n",
      "finding a negative value for log_cross_section, returning -np.inf\n",
      "finding a negative value for log_cross_section, returning -np.inf\n",
      "finding a negative value for log_mass, returning -np.inf\n"
     ]
    },
    {
     "name": "stderr",
     "output_type": "stream",
     "text": [
      "\r",
      " 28%|█████████████████████▊                                                        | 28/100 [00:50<02:21,  1.96s/it]"
     ]
    },
    {
     "name": "stdout",
     "output_type": "stream",
     "text": [
      "finding a negative value for log_cross_section, returning -np.inf\n",
      "finding a negative value for log_mass, returning -np.inf\n",
      "finding a negative value for log_cross_section, returning -np.inf\n",
      "finding a negative value for log_cross_section, returning -np.inf\n",
      "finding a negative value for log_cross_section, returning -np.inf\n",
      "finding a negative value for log_cross_section, returning -np.inf\n",
      "finding a negative value for log_cross_section, returning -np.inf\n",
      "finding a negative value for log_mass, returning -np.inf\n",
      "finding a negative value for log_cross_section, returning -np.inf\n",
      "finding a negative value for log_mass, returning -np.inf\n",
      "finding a negative value for log_cross_section, returning -np.inf\n",
      "finding a negative value for log_cross_section, returning -np.inf\n",
      "finding a negative value for log_mass, returning -np.inf\n",
      "finding a negative value for log_cross_section, returning -np.inf\n",
      "finding a negative value for log_cross_section, returning -np.inf\n",
      "finding a negative value for log_cross_section, returning -np.inf\n",
      "finding a negative value for log_mass, returning -np.inf\n",
      "finding a negative value for log_cross_section, returning -np.inf\n"
     ]
    },
    {
     "name": "stderr",
     "output_type": "stream",
     "text": [
      "\r",
      " 29%|██████████████████████▌                                                       | 29/100 [00:52<02:12,  1.86s/it]"
     ]
    },
    {
     "name": "stdout",
     "output_type": "stream",
     "text": [
      "finding a negative value for log_mass, returning -np.inf\n",
      "finding a negative value for log_mass, returning -np.inf\n",
      "finding a negative value for log_mass, returning -np.inf\n",
      "finding a negative value for log_mass, returning -np.inf\n",
      "finding a negative value for log_mass, returning -np.inf\n",
      "finding a negative value for log_cross_section, returning -np.inf\n",
      "finding a negative value for log_cross_section, returning -np.inf\n",
      "finding a negative value for log_cross_section, returning -np.inf\n",
      "finding a negative value for log_mass, returning -np.inf\n",
      "finding a negative value for log_cross_section, returning -np.inf\n"
     ]
    },
    {
     "name": "stderr",
     "output_type": "stream",
     "text": [
      "\r",
      " 30%|███████████████████████▍                                                      | 30/100 [00:54<02:26,  2.09s/it]"
     ]
    },
    {
     "name": "stdout",
     "output_type": "stream",
     "text": [
      "finding a negative value for log_cross_section, returning -np.inf\n",
      "finding a negative value for log_cross_section, returning -np.inf\n",
      "finding a negative value for log_mass, returning -np.inf\n",
      "finding a negative value for log_mass, returning -np.inf\n",
      "finding a negative value for log_cross_section, returning -np.inf\n",
      "finding a negative value for log_cross_section, returning -np.inf\n",
      "finding a negative value for log_mass, returning -np.inf\n",
      "finding a negative value for log_cross_section, returning -np.inf\n",
      "finding a negative value for log_cross_section, returning -np.inf\n",
      "finding a negative value for log_cross_section, returning -np.inf\n",
      "finding a negative value for log_cross_section, returning -np.inf\n",
      "finding a negative value for log_cross_section, returning -np.inf\n",
      "finding a negative value for log_cross_section, returning -np.inf\n",
      "finding a negative value for log_cross_section, returning -np.inf\n",
      "finding a negative value for log_cross_section, returning -np.inf\n"
     ]
    },
    {
     "name": "stderr",
     "output_type": "stream",
     "text": [
      "\r",
      " 31%|████████████████████████▏                                                     | 31/100 [00:56<02:18,  2.01s/it]"
     ]
    },
    {
     "name": "stdout",
     "output_type": "stream",
     "text": [
      "finding a negative value for log_mass, returning -np.inf\n",
      "finding a negative value for log_mass, returning -np.inf\n",
      "finding a negative value for log_cross_section, returning -np.inf\n",
      "finding a negative value for log_mass, returning -np.inf\n",
      "finding a negative value for log_mass, returning -np.inf\n",
      "finding a negative value for log_cross_section, returning -np.inf\n",
      "finding a negative value for log_mass, returning -np.inf\n",
      "finding a negative value for log_cross_section, returning -np.inf\n",
      "finding a negative value for log_cross_section, returning -np.inf\n",
      "finding a negative value for log_cross_section, returning -np.inf\n",
      "finding a negative value for log_cross_section, returning -np.inf\n"
     ]
    },
    {
     "name": "stderr",
     "output_type": "stream",
     "text": [
      "\r",
      " 32%|████████████████████████▉                                                     | 32/100 [00:58<02:21,  2.08s/it]"
     ]
    },
    {
     "name": "stdout",
     "output_type": "stream",
     "text": [
      "finding a negative value for log_cross_section, returning -np.inf\n",
      "finding a negative value for log_mass, returning -np.inf\n",
      "finding a negative value for log_cross_section, returning -np.inf\n",
      "finding a negative value for log_mass, returning -np.inf\n",
      "finding a negative value for log_cross_section, returning -np.inf\n",
      "finding a negative value for log_cross_section, returning -np.inf\n",
      "finding a negative value for log_mass, returning -np.inf\n",
      "finding a negative value for log_cross_section, returning -np.inf\n",
      "finding a negative value for log_cross_section, returning -np.inf\n",
      "finding a negative value for log_mass, returning -np.inf\n",
      "finding a negative value for log_mass, returning -np.inf\n",
      "finding a negative value for log_cross_section, returning -np.inf\n",
      "finding a negative value for log_mass, returning -np.inf\n",
      "finding a negative value for log_mass, returning -np.inf\n",
      "finding a negative value for log_cross_section, returning -np.inf\n",
      "finding a negative value for log_mass, returning -np.inf\n",
      "finding a negative value for log_mass, returning -np.inf\n",
      "finding a negative value for log_mass, returning -np.inf\n",
      "finding a negative value for log_cross_section, returning -np.inf\n",
      "finding a negative value for log_cross_section, returning -np.inf\n",
      "finding a negative value for log_mass, returning -np.inf\n"
     ]
    },
    {
     "name": "stderr",
     "output_type": "stream",
     "text": [
      "\r",
      " 33%|█████████████████████████▋                                                    | 33/100 [01:00<02:14,  2.01s/it]"
     ]
    },
    {
     "name": "stdout",
     "output_type": "stream",
     "text": [
      "finding a negative value for log_cross_section, returning -np.inf\n",
      "finding a negative value for log_mass, returning -np.inf\n",
      "finding a negative value for log_cross_section, returning -np.inf\n",
      "finding a negative value for log_cross_section, returning -np.inf\n",
      "finding a negative value for log_mass, returning -np.inf\n",
      "finding a negative value for log_cross_section, returning -np.inf\n",
      "finding a negative value for log_cross_section, returning -np.inf\n",
      "finding a negative value for log_cross_section, returning -np.inf\n",
      "finding a negative value for log_mass, returning -np.inf\n",
      "finding a negative value for log_cross_section, returning -np.inf\n",
      "finding a negative value for log_cross_section, returning -np.inf\n",
      "finding a negative value for log_mass, returning -np.inf\n",
      "finding a negative value for log_cross_section, returning -np.inf\n",
      "finding a negative value for log_mass, returning -np.inf\n",
      "finding a negative value for log_mass, returning -np.inf\n",
      "finding a negative value for log_mass, returning -np.inf\n",
      "finding a negative value for log_cross_section, returning -np.inf\n"
     ]
    },
    {
     "name": "stderr",
     "output_type": "stream",
     "text": [
      "\r",
      " 34%|██████████████████████████▌                                                   | 34/100 [01:02<02:10,  1.98s/it]"
     ]
    },
    {
     "name": "stdout",
     "output_type": "stream",
     "text": [
      "finding a negative value for log_mass, returning -np.inf\n",
      "finding a negative value for log_mass, returning -np.inf\n",
      "finding a negative value for log_mass, returning -np.inf\n",
      "finding a negative value for log_mass, returning -np.inf\n",
      "finding a negative value for log_mass, returning -np.inf\n",
      "finding a negative value for log_cross_section, returning -np.inf\n",
      "finding a negative value for log_mass, returning -np.inf\n",
      "finding a negative value for log_cross_section, returning -np.inf\n",
      "finding a negative value for log_cross_section, returning -np.inf\n",
      "finding a negative value for log_cross_section, returning -np.inf\n",
      "finding a negative value for log_cross_section, returning -np.inf\n",
      "finding a negative value for log_cross_section, returning -np.inf\n",
      "finding a negative value for log_cross_section, returning -np.inf\n",
      "finding a negative value for log_mass, returning -np.inf\n",
      "finding a negative value for log_cross_section, returning -np.inf\n"
     ]
    },
    {
     "name": "stderr",
     "output_type": "stream",
     "text": [
      "\r",
      " 35%|███████████████████████████▎                                                  | 35/100 [01:04<02:04,  1.92s/it]"
     ]
    },
    {
     "name": "stdout",
     "output_type": "stream",
     "text": [
      "finding a negative value for log_cross_section, returning -np.inf\n",
      "finding a negative value for log_mass, returning -np.inf\n",
      "finding a negative value for log_cross_section, returning -np.inf\n",
      "finding a negative value for log_cross_section, returning -np.inf\n",
      "finding a negative value for log_mass, returning -np.inf\n",
      "finding a negative value for log_cross_section, returning -np.inf\n",
      "finding a negative value for log_mass, returning -np.inf\n",
      "finding a negative value for log_mass, returning -np.inf\n",
      "finding a negative value for log_cross_section, returning -np.inf\n",
      "finding a negative value for log_mass, returning -np.inf\n",
      "finding a negative value for log_cross_section, returning -np.inf\n",
      "finding a negative value for log_mass, returning -np.inf\n"
     ]
    },
    {
     "name": "stderr",
     "output_type": "stream",
     "text": [
      "\r",
      " 36%|████████████████████████████                                                  | 36/100 [01:06<02:08,  2.00s/it]"
     ]
    },
    {
     "name": "stdout",
     "output_type": "stream",
     "text": [
      "finding a negative value for log_cross_section, returning -np.inf\n",
      "finding a negative value for log_cross_section, returning -np.inf\n",
      "finding a negative value for log_mass, returning -np.inf\n",
      "finding a negative value for log_cross_section, returning -np.inf\n",
      "finding a negative value for log_mass, returning -np.inf\n",
      "finding a negative value for log_mass, returning -np.inf\n",
      "finding a negative value for log_cross_section, returning -np.inf\n",
      "finding a negative value for log_mass, returning -np.inf\n",
      "finding a negative value for log_mass, returning -np.inf\n",
      "finding a negative value for log_mass, returning -np.inf\n",
      "finding a negative value for log_mass, returning -np.inf\n",
      "finding a negative value for log_mass, returning -np.inf\n",
      "finding a negative value for log_cross_section, returning -np.inf\n",
      "finding a negative value for log_mass, returning -np.inf\n",
      "finding a negative value for log_cross_section, returning -np.inf\n",
      "finding a negative value for log_cross_section, returning -np.inf\n",
      "finding a negative value for log_mass, returning -np.inf\n",
      "finding a negative value for log_cross_section, returning -np.inf\n",
      "finding a negative value for log_mass, returning -np.inf\n",
      "finding a negative value for log_mass, returning -np.inf\n"
     ]
    },
    {
     "name": "stderr",
     "output_type": "stream",
     "text": [
      "\r",
      " 37%|████████████████████████████▊                                                 | 37/100 [01:08<02:04,  1.98s/it]"
     ]
    },
    {
     "name": "stdout",
     "output_type": "stream",
     "text": [
      "finding a negative value for log_mass, returning -np.inf\n",
      "finding a negative value for log_cross_section, returning -np.inf\n",
      "finding a negative value for log_mass, returning -np.inf\n",
      "finding a negative value for log_cross_section, returning -np.inf\n",
      "finding a negative value for log_cross_section, returning -np.inf\n",
      "finding a negative value for log_cross_section, returning -np.inf\n",
      "finding a negative value for log_cross_section, returning -np.inf\n",
      "finding a negative value for log_cross_section, returning -np.inf\n",
      "finding a negative value for log_mass, returning -np.inf\n",
      "finding a negative value for log_mass, returning -np.inf\n",
      "finding a negative value for log_cross_section, returning -np.inf\n",
      "finding a negative value for log_cross_section, returning -np.inf\n",
      "finding a negative value for log_cross_section, returning -np.inf\n",
      "finding a negative value for log_mass, returning -np.inf\n",
      "finding a negative value for log_cross_section, returning -np.inf\n",
      "finding a negative value for log_mass, returning -np.inf\n"
     ]
    },
    {
     "name": "stderr",
     "output_type": "stream",
     "text": [
      "\r",
      " 38%|█████████████████████████████▋                                                | 38/100 [01:10<02:02,  1.98s/it]"
     ]
    },
    {
     "name": "stdout",
     "output_type": "stream",
     "text": [
      "finding a negative value for log_mass, returning -np.inf\n",
      "finding a negative value for log_mass, returning -np.inf\n",
      "finding a negative value for log_mass, returning -np.inf\n",
      "finding a negative value for log_mass, returning -np.inf\n",
      "finding a negative value for log_cross_section, returning -np.inf\n",
      "finding a negative value for log_mass, returning -np.inf\n",
      "finding a negative value for log_mass, returning -np.inf\n",
      "finding a negative value for log_mass, returning -np.inf\n",
      "finding a negative value for log_cross_section, returning -np.inf\n",
      "finding a negative value for log_mass, returning -np.inf\n",
      "finding a negative value for log_cross_section, returning -np.inf\n",
      "finding a negative value for log_cross_section, returning -np.inf\n"
     ]
    },
    {
     "name": "stderr",
     "output_type": "stream",
     "text": [
      "\r",
      " 39%|██████████████████████████████▍                                               | 39/100 [01:12<02:04,  2.03s/it]"
     ]
    },
    {
     "name": "stdout",
     "output_type": "stream",
     "text": [
      "finding a negative value for log_cross_section, returning -np.inf\n",
      "finding a negative value for log_mass, returning -np.inf\n",
      "finding a negative value for log_cross_section, returning -np.inf\n",
      "finding a negative value for log_cross_section, returning -np.inf\n",
      "finding a negative value for log_cross_section, returning -np.inf\n",
      "finding a negative value for log_mass, returning -np.inf\n",
      "finding a negative value for log_mass, returning -np.inf\n",
      "finding a negative value for log_mass, returning -np.inf\n",
      "finding a negative value for log_mass, returning -np.inf\n"
     ]
    },
    {
     "name": "stderr",
     "output_type": "stream",
     "text": [
      "\r",
      " 40%|███████████████████████████████▏                                              | 40/100 [01:14<02:06,  2.11s/it]"
     ]
    },
    {
     "name": "stdout",
     "output_type": "stream",
     "text": [
      "finding a negative value for log_mass, returning -np.inf\n",
      "finding a negative value for log_cross_section, returning -np.inf\n",
      "finding a negative value for log_mass, returning -np.inf\n",
      "finding a negative value for log_mass, returning -np.inf\n",
      "finding a negative value for log_cross_section, returning -np.inf\n",
      "finding a negative value for log_cross_section, returning -np.inf\n",
      "finding a negative value for log_mass, returning -np.inf\n",
      "finding a negative value for log_mass, returning -np.inf\n",
      "finding a negative value for log_mass, returning -np.inf\n",
      "finding a negative value for log_cross_section, returning -np.inf\n",
      "finding a negative value for log_mass, returning -np.inf\n",
      "finding a negative value for log_cross_section, returning -np.inf\n",
      "finding a negative value for log_mass, returning -np.inf\n",
      "finding a negative value for log_mass, returning -np.inf\n",
      "finding a negative value for log_mass, returning -np.inf\n",
      "finding a negative value for log_cross_section, returning -np.inf\n",
      "finding a negative value for log_cross_section, returning -np.inf\n",
      "finding a negative value for log_cross_section, returning -np.inf\n",
      "finding a negative value for log_mass, returning -np.inf\n",
      "finding a negative value for log_cross_section, returning -np.inf\n"
     ]
    },
    {
     "name": "stderr",
     "output_type": "stream",
     "text": [
      "\r",
      " 41%|███████████████████████████████▉                                              | 41/100 [01:17<02:06,  2.14s/it]"
     ]
    },
    {
     "name": "stdout",
     "output_type": "stream",
     "text": [
      "finding a negative value for log_cross_section, returning -np.inf\n",
      "finding a negative value for log_mass, returning -np.inf\n",
      "finding a negative value for log_cross_section, returning -np.inf\n",
      "finding a negative value for log_mass, returning -np.inf\n",
      "finding a negative value for log_cross_section, returning -np.inf\n",
      "finding a negative value for log_cross_section, returning -np.inf\n",
      "finding a negative value for log_mass, returning -np.inf\n",
      "finding a negative value for log_mass, returning -np.inf\n",
      "finding a negative value for log_cross_section, returning -np.inf\n",
      "finding a negative value for log_cross_section, returning -np.inf\n",
      "finding a negative value for log_mass, returning -np.inf\n",
      "finding a negative value for log_cross_section, returning -np.inf\n",
      "finding a negative value for log_mass, returning -np.inf\n",
      "finding a negative value for log_mass, returning -np.inf\n",
      "finding a negative value for log_mass, returning -np.inf\n",
      "finding a negative value for log_cross_section, returning -np.inf\n",
      "finding a negative value for log_cross_section, returning -np.inf\n",
      "finding a negative value for log_cross_section, returning -np.inf\n",
      "finding a negative value for log_cross_section, returning -np.inf\n"
     ]
    },
    {
     "name": "stderr",
     "output_type": "stream",
     "text": [
      "\r",
      " 42%|████████████████████████████████▊                                             | 42/100 [01:18<01:57,  2.03s/it]"
     ]
    },
    {
     "name": "stdout",
     "output_type": "stream",
     "text": [
      "finding a negative value for log_mass, returning -np.inf\n",
      "finding a negative value for log_mass, returning -np.inf\n",
      "finding a negative value for log_cross_section, returning -np.inf\n",
      "finding a negative value for log_mass, returning -np.inf\n",
      "finding a negative value for log_cross_section, returning -np.inf\n",
      "finding a negative value for log_mass, returning -np.inf\n",
      "finding a negative value for log_mass, returning -np.inf\n",
      "finding a negative value for log_mass, returning -np.inf\n",
      "finding a negative value for log_mass, returning -np.inf\n",
      "finding a negative value for log_cross_section, returning -np.inf\n",
      "finding a negative value for log_mass, returning -np.inf\n",
      "finding a negative value for log_mass, returning -np.inf\n",
      "finding a negative value for log_cross_section, returning -np.inf\n"
     ]
    },
    {
     "name": "stderr",
     "output_type": "stream",
     "text": [
      "\r",
      " 43%|█████████████████████████████████▌                                            | 43/100 [01:21<01:59,  2.10s/it]"
     ]
    },
    {
     "name": "stdout",
     "output_type": "stream",
     "text": [
      "finding a negative value for log_mass, returning -np.inf\n",
      "finding a negative value for log_mass, returning -np.inf\n",
      "finding a negative value for log_cross_section, returning -np.inf\n",
      "finding a negative value for log_cross_section, returning -np.inf\n",
      "finding a negative value for log_cross_section, returning -np.inf\n",
      "finding a negative value for log_cross_section, returning -np.inf\n",
      "finding a negative value for log_mass, returning -np.inf\n",
      "finding a negative value for log_mass, returning -np.inf\n",
      "finding a negative value for log_cross_section, returning -np.inf\n",
      "finding a negative value for log_cross_section, returning -np.inf\n",
      "finding a negative value for log_cross_section, returning -np.inf\n",
      "finding a negative value for log_cross_section, returning -np.inf\n"
     ]
    },
    {
     "name": "stderr",
     "output_type": "stream",
     "text": [
      "\r",
      " 44%|██████████████████████████████████▎                                           | 44/100 [01:23<02:02,  2.19s/it]"
     ]
    },
    {
     "name": "stdout",
     "output_type": "stream",
     "text": [
      "finding a negative value for log_mass, returning -np.inf\n",
      "finding a negative value for log_cross_section, returning -np.inf\n",
      "finding a negative value for log_mass, returning -np.inf\n",
      "finding a negative value for log_mass, returning -np.inf\n",
      "finding a negative value for log_cross_section, returning -np.inf\n",
      "finding a negative value for log_cross_section, returning -np.inf\n",
      "finding a negative value for log_mass, returning -np.inf\n",
      "finding a negative value for log_cross_section, returning -np.inf\n",
      "finding a negative value for log_mass, returning -np.inf\n",
      "finding a negative value for log_mass, returning -np.inf\n",
      "finding a negative value for log_cross_section, returning -np.inf\n",
      "finding a negative value for log_mass, returning -np.inf\n",
      "finding a negative value for log_cross_section, returning -np.inf\n",
      "finding a negative value for log_mass, returning -np.inf\n",
      "finding a negative value for log_cross_section, returning -np.inf\n",
      "finding a negative value for log_cross_section, returning -np.inf\n"
     ]
    },
    {
     "name": "stderr",
     "output_type": "stream",
     "text": [
      "\r",
      " 45%|███████████████████████████████████                                           | 45/100 [01:26<02:07,  2.32s/it]"
     ]
    },
    {
     "name": "stdout",
     "output_type": "stream",
     "text": [
      "finding a negative value for log_cross_section, returning -np.inf\n",
      "finding a negative value for log_mass, returning -np.inf\n",
      "finding a negative value for log_mass, returning -np.inf\n",
      "finding a negative value for log_cross_section, returning -np.inf\n",
      "finding a negative value for log_mass, returning -np.inf\n",
      "finding a negative value for log_cross_section, returning -np.inf\n",
      "finding a negative value for log_cross_section, returning -np.inf\n",
      "finding a negative value for log_mass, returning -np.inf\n",
      "finding a negative value for log_cross_section, returning -np.inf\n",
      "finding a negative value for log_cross_section, returning -np.inf\n",
      "finding a negative value for log_cross_section, returning -np.inf\n"
     ]
    },
    {
     "name": "stderr",
     "output_type": "stream",
     "text": [
      "\r",
      " 46%|███████████████████████████████████▉                                          | 46/100 [01:28<02:08,  2.38s/it]"
     ]
    },
    {
     "name": "stdout",
     "output_type": "stream",
     "text": [
      "finding a negative value for log_mass, returning -np.inf\n",
      "finding a negative value for log_cross_section, returning -np.inf\n",
      "finding a negative value for log_mass, returning -np.inf\n",
      "finding a negative value for log_mass, returning -np.inf\n",
      "finding a negative value for log_mass, returning -np.inf\n",
      "finding a negative value for log_cross_section, returning -np.inf\n",
      "finding a negative value for log_cross_section, returning -np.inf\n",
      "finding a negative value for log_mass, returning -np.inf\n",
      "finding a negative value for log_cross_section, returning -np.inf\n",
      "finding a negative value for log_cross_section, returning -np.inf\n",
      "finding a negative value for log_mass, returning -np.inf\n",
      "finding a negative value for log_cross_section, returning -np.inf\n"
     ]
    },
    {
     "name": "stderr",
     "output_type": "stream",
     "text": [
      "\r",
      " 47%|████████████████████████████████████▋                                         | 47/100 [01:31<02:07,  2.40s/it]"
     ]
    },
    {
     "name": "stdout",
     "output_type": "stream",
     "text": [
      "finding a negative value for log_mass, returning -np.inf\n",
      "finding a negative value for log_mass, returning -np.inf\n",
      "finding a negative value for log_mass, returning -np.inf\n",
      "finding a negative value for log_cross_section, returning -np.inf\n",
      "finding a negative value for log_cross_section, returning -np.inf\n",
      "finding a negative value for log_cross_section, returning -np.inf\n",
      "finding a negative value for log_mass, returning -np.inf\n"
     ]
    },
    {
     "name": "stderr",
     "output_type": "stream",
     "text": [
      "\r",
      " 48%|█████████████████████████████████████▍                                        | 48/100 [01:33<02:09,  2.49s/it]"
     ]
    },
    {
     "name": "stdout",
     "output_type": "stream",
     "text": [
      "finding a negative value for log_mass, returning -np.inf\n",
      "finding a negative value for log_mass, returning -np.inf\n",
      "finding a negative value for log_mass, returning -np.inf\n",
      "finding a negative value for log_cross_section, returning -np.inf\n",
      "finding a negative value for log_cross_section, returning -np.inf\n",
      "finding a negative value for log_mass, returning -np.inf\n",
      "finding a negative value for log_cross_section, returning -np.inf\n",
      "finding a negative value for log_mass, returning -np.inf\n",
      "finding a negative value for log_cross_section, returning -np.inf\n",
      "finding a negative value for log_cross_section, returning -np.inf\n"
     ]
    },
    {
     "name": "stderr",
     "output_type": "stream",
     "text": [
      "\r",
      " 49%|██████████████████████████████████████▏                                       | 49/100 [01:36<02:10,  2.56s/it]"
     ]
    },
    {
     "name": "stdout",
     "output_type": "stream",
     "text": [
      "finding a negative value for log_cross_section, returning -np.inf\n",
      "finding a negative value for log_mass, returning -np.inf\n",
      "finding a negative value for log_mass, returning -np.inf\n",
      "finding a negative value for log_cross_section, returning -np.inf\n",
      "finding a negative value for log_mass, returning -np.inf\n",
      "finding a negative value for log_cross_section, returning -np.inf\n",
      "finding a negative value for log_cross_section, returning -np.inf\n",
      "finding a negative value for log_mass, returning -np.inf\n",
      "finding a negative value for log_cross_section, returning -np.inf\n",
      "finding a negative value for log_cross_section, returning -np.inf\n",
      "finding a negative value for log_mass, returning -np.inf\n",
      "finding a negative value for log_cross_section, returning -np.inf\n",
      "finding a negative value for log_mass, returning -np.inf\n",
      "finding a negative value for log_cross_section, returning -np.inf\n",
      "finding a negative value for log_cross_section, returning -np.inf\n",
      "finding a negative value for log_cross_section, returning -np.inf\n",
      "finding a negative value for log_mass, returning -np.inf\n",
      "finding a negative value for log_cross_section, returning -np.inf\n",
      "finding a negative value for log_cross_section, returning -np.inf\n",
      "finding a negative value for log_mass, returning -np.inf\n"
     ]
    },
    {
     "name": "stderr",
     "output_type": "stream",
     "text": [
      "\r",
      " 50%|███████████████████████████████████████                                       | 50/100 [01:38<02:00,  2.41s/it]"
     ]
    },
    {
     "name": "stdout",
     "output_type": "stream",
     "text": [
      "finding a negative value for log_mass, returning -np.inf\n",
      "finding a negative value for log_cross_section, returning -np.inf\n",
      "finding a negative value for log_cross_section, returning -np.inf\n",
      "finding a negative value for log_mass, returning -np.inf\n",
      "finding a negative value for log_cross_section, returning -np.inf\n",
      "finding a negative value for log_cross_section, returning -np.inf\n",
      "finding a negative value for log_cross_section, returning -np.inf\n",
      "finding a negative value for log_cross_section, returning -np.inf\n",
      "finding a negative value for log_cross_section, returning -np.inf\n",
      "finding a negative value for log_cross_section, returning -np.inf\n",
      "finding a negative value for log_mass, returning -np.inf\n",
      "finding a negative value for log_mass, returning -np.inf\n",
      "finding a negative value for log_mass, returning -np.inf\n",
      "finding a negative value for log_cross_section, returning -np.inf\n",
      "finding a negative value for log_cross_section, returning -np.inf\n"
     ]
    },
    {
     "name": "stderr",
     "output_type": "stream",
     "text": [
      "\r",
      " 51%|███████████████████████████████████████▊                                      | 51/100 [01:41<01:58,  2.41s/it]"
     ]
    },
    {
     "name": "stdout",
     "output_type": "stream",
     "text": [
      "finding a negative value for log_mass, returning -np.inf\n",
      "finding a negative value for log_cross_section, returning -np.inf\n",
      "finding a negative value for log_cross_section, returning -np.inf\n",
      "finding a negative value for log_cross_section, returning -np.inf\n",
      "finding a negative value for log_cross_section, returning -np.inf\n",
      "finding a negative value for log_cross_section, returning -np.inf\n",
      "finding a negative value for log_cross_section, returning -np.inf\n",
      "finding a negative value for log_cross_section, returning -np.inf\n",
      "finding a negative value for log_cross_section, returning -np.inf\n",
      "finding a negative value for log_cross_section, returning -np.inf\n",
      "finding a negative value for log_mass, returning -np.inf\n",
      "finding a negative value for log_cross_section, returning -np.inf\n",
      "finding a negative value for log_mass, returning -np.inf\n",
      "finding a negative value for log_mass, returning -np.inf\n",
      "finding a negative value for log_cross_section, returning -np.inf\n",
      "finding a negative value for log_mass, returning -np.inf\n",
      "finding a negative value for log_cross_section, returning -np.inf\n",
      "finding a negative value for log_cross_section, returning -np.inf\n",
      "finding a negative value for log_mass, returning -np.inf\n"
     ]
    },
    {
     "name": "stderr",
     "output_type": "stream",
     "text": [
      "\r",
      " 52%|████████████████████████████████████████▌                                     | 52/100 [01:42<01:46,  2.22s/it]"
     ]
    },
    {
     "name": "stdout",
     "output_type": "stream",
     "text": [
      "finding a negative value for log_cross_section, returning -np.inf\n",
      "finding a negative value for log_cross_section, returning -np.inf\n",
      "finding a negative value for log_mass, returning -np.inf\n",
      "finding a negative value for log_mass, returning -np.inf\n",
      "finding a negative value for log_mass, returning -np.inf\n",
      "finding a negative value for log_mass, returning -np.inf\n",
      "finding a negative value for log_mass, returning -np.inf\n",
      "finding a negative value for log_cross_section, returning -np.inf\n",
      "finding a negative value for log_cross_section, returning -np.inf\n",
      "finding a negative value for log_mass, returning -np.inf\n",
      "finding a negative value for log_cross_section, returning -np.inf\n",
      "finding a negative value for log_cross_section, returning -np.inf\n",
      "finding a negative value for log_mass, returning -np.inf\n",
      "finding a negative value for log_cross_section, returning -np.inf\n",
      "finding a negative value for log_cross_section, returning -np.inf\n",
      "finding a negative value for log_cross_section, returning -np.inf\n"
     ]
    },
    {
     "name": "stderr",
     "output_type": "stream",
     "text": [
      "\r",
      " 53%|█████████████████████████████████████████▎                                    | 53/100 [01:44<01:41,  2.16s/it]"
     ]
    },
    {
     "name": "stdout",
     "output_type": "stream",
     "text": [
      "finding a negative value for log_mass, returning -np.inf\n",
      "finding a negative value for log_cross_section, returning -np.inf\n",
      "finding a negative value for log_mass, returning -np.inf\n",
      "finding a negative value for log_mass, returning -np.inf\n",
      "finding a negative value for log_cross_section, returning -np.inf\n",
      "finding a negative value for log_cross_section, returning -np.inf\n",
      "finding a negative value for log_cross_section, returning -np.inf\n",
      "finding a negative value for log_cross_section, returning -np.inf\n",
      "finding a negative value for log_cross_section, returning -np.inf\n",
      "finding a negative value for log_cross_section, returning -np.inf\n",
      "finding a negative value for log_cross_section, returning -np.inf\n",
      "finding a negative value for log_mass, returning -np.inf\n",
      "finding a negative value for log_cross_section, returning -np.inf\n",
      "finding a negative value for log_mass, returning -np.inf\n"
     ]
    },
    {
     "name": "stderr",
     "output_type": "stream",
     "text": [
      "\r",
      " 54%|██████████████████████████████████████████                                    | 54/100 [01:46<01:39,  2.16s/it]"
     ]
    },
    {
     "name": "stdout",
     "output_type": "stream",
     "text": [
      "finding a negative value for log_mass, returning -np.inf\n",
      "finding a negative value for log_cross_section, returning -np.inf\n",
      "finding a negative value for log_cross_section, returning -np.inf\n",
      "finding a negative value for log_cross_section, returning -np.inf\n",
      "finding a negative value for log_cross_section, returning -np.inf\n",
      "finding a negative value for log_mass, returning -np.inf\n",
      "finding a negative value for log_mass, returning -np.inf\n",
      "finding a negative value for log_mass, returning -np.inf\n",
      "finding a negative value for log_mass, returning -np.inf\n",
      "finding a negative value for log_mass, returning -np.inf\n",
      "finding a negative value for log_cross_section, returning -np.inf\n",
      "finding a negative value for log_cross_section, returning -np.inf\n",
      "finding a negative value for log_cross_section, returning -np.inf\n",
      "finding a negative value for log_mass, returning -np.inf\n",
      "finding a negative value for log_mass, returning -np.inf\n"
     ]
    },
    {
     "name": "stderr",
     "output_type": "stream",
     "text": [
      "\r",
      " 55%|██████████████████████████████████████████▉                                   | 55/100 [01:49<01:38,  2.18s/it]"
     ]
    },
    {
     "name": "stdout",
     "output_type": "stream",
     "text": [
      "finding a negative value for log_mass, returning -np.inf\n",
      "finding a negative value for log_cross_section, returning -np.inf\n",
      "finding a negative value for log_mass, returning -np.inf\n",
      "finding a negative value for log_cross_section, returning -np.inf\n",
      "finding a negative value for log_cross_section, returning -np.inf\n",
      "finding a negative value for log_mass, returning -np.inf\n",
      "finding a negative value for log_mass, returning -np.inf\n",
      "finding a negative value for log_cross_section, returning -np.inf\n",
      "finding a negative value for log_cross_section, returning -np.inf\n",
      "finding a negative value for log_cross_section, returning -np.inf\n",
      "finding a negative value for log_cross_section, returning -np.inf\n"
     ]
    },
    {
     "name": "stderr",
     "output_type": "stream",
     "text": [
      "\r",
      " 56%|███████████████████████████████████████████▋                                  | 56/100 [01:51<01:39,  2.26s/it]"
     ]
    },
    {
     "name": "stdout",
     "output_type": "stream",
     "text": [
      "finding a negative value for log_mass, returning -np.inf\n",
      "finding a negative value for log_cross_section, returning -np.inf\n",
      "finding a negative value for log_cross_section, returning -np.inf\n",
      "finding a negative value for log_cross_section, returning -np.inf\n",
      "finding a negative value for log_mass, returning -np.inf\n",
      "finding a negative value for log_mass, returning -np.inf\n",
      "finding a negative value for log_cross_section, returning -np.inf\n",
      "finding a negative value for log_mass, returning -np.inf\n",
      "finding a negative value for log_cross_section, returning -np.inf\n",
      "finding a negative value for log_cross_section, returning -np.inf\n",
      "finding a negative value for log_cross_section, returning -np.inf\n",
      "finding a negative value for log_cross_section, returning -np.inf\n",
      "finding a negative value for log_mass, returning -np.inf\n",
      "finding a negative value for log_mass, returning -np.inf\n",
      "finding a negative value for log_cross_section, returning -np.inf\n"
     ]
    },
    {
     "name": "stderr",
     "output_type": "stream",
     "text": [
      "\r",
      " 57%|████████████████████████████████████████████▍                                 | 57/100 [01:53<01:37,  2.28s/it]"
     ]
    },
    {
     "name": "stdout",
     "output_type": "stream",
     "text": [
      "finding a negative value for log_mass, returning -np.inf\n",
      "finding a negative value for log_mass, returning -np.inf\n",
      "finding a negative value for log_cross_section, returning -np.inf\n",
      "finding a negative value for log_cross_section, returning -np.inf\n",
      "finding a negative value for log_mass, returning -np.inf\n",
      "finding a negative value for log_mass, returning -np.inf\n",
      "finding a negative value for log_mass, returning -np.inf\n",
      "finding a negative value for log_cross_section, returning -np.inf\n",
      "finding a negative value for log_cross_section, returning -np.inf\n"
     ]
    },
    {
     "name": "stderr",
     "output_type": "stream",
     "text": [
      "\r",
      " 58%|█████████████████████████████████████████████▏                                | 58/100 [01:56<01:39,  2.36s/it]"
     ]
    },
    {
     "name": "stdout",
     "output_type": "stream",
     "text": [
      "finding a negative value for log_cross_section, returning -np.inf\n",
      "finding a negative value for log_mass, returning -np.inf\n",
      "finding a negative value for log_mass, returning -np.inf\n",
      "finding a negative value for log_cross_section, returning -np.inf\n",
      "finding a negative value for log_cross_section, returning -np.inf\n",
      "finding a negative value for log_cross_section, returning -np.inf\n",
      "finding a negative value for log_mass, returning -np.inf\n",
      "finding a negative value for log_cross_section, returning -np.inf\n",
      "finding a negative value for log_cross_section, returning -np.inf\n",
      "finding a negative value for log_mass, returning -np.inf\n",
      "finding a negative value for log_cross_section, returning -np.inf\n"
     ]
    },
    {
     "name": "stderr",
     "output_type": "stream",
     "text": [
      "\r",
      " 59%|██████████████████████████████████████████████                                | 59/100 [01:59<01:38,  2.40s/it]"
     ]
    },
    {
     "name": "stdout",
     "output_type": "stream",
     "text": [
      "finding a negative value for log_cross_section, returning -np.inf\n",
      "finding a negative value for log_cross_section, returning -np.inf\n",
      "finding a negative value for log_mass, returning -np.inf\n",
      "finding a negative value for log_cross_section, returning -np.inf\n",
      "finding a negative value for log_cross_section, returning -np.inf\n",
      "finding a negative value for log_cross_section, returning -np.inf\n",
      "finding a negative value for log_mass, returning -np.inf\n",
      "finding a negative value for log_mass, returning -np.inf\n",
      "finding a negative value for log_cross_section, returning -np.inf\n",
      "finding a negative value for log_cross_section, returning -np.inf\n",
      "finding a negative value for log_mass, returning -np.inf\n",
      "finding a negative value for log_cross_section, returning -np.inf\n",
      "finding a negative value for log_mass, returning -np.inf\n",
      "finding a negative value for log_cross_section, returning -np.inf\n",
      "finding a negative value for log_cross_section, returning -np.inf\n"
     ]
    },
    {
     "name": "stderr",
     "output_type": "stream",
     "text": [
      "\r",
      " 60%|██████████████████████████████████████████████▊                               | 60/100 [02:00<01:30,  2.26s/it]"
     ]
    },
    {
     "name": "stdout",
     "output_type": "stream",
     "text": [
      "finding a negative value for log_cross_section, returning -np.inf\n",
      "finding a negative value for log_cross_section, returning -np.inf\n",
      "finding a negative value for log_cross_section, returning -np.inf\n",
      "finding a negative value for log_mass, returning -np.inf\n",
      "finding a negative value for log_mass, returning -np.inf\n",
      "finding a negative value for log_mass, returning -np.inf\n",
      "finding a negative value for log_cross_section, returning -np.inf\n",
      "finding a negative value for log_cross_section, returning -np.inf\n",
      "finding a negative value for log_mass, returning -np.inf\n",
      "finding a negative value for log_cross_section, returning -np.inf\n",
      "finding a negative value for log_cross_section, returning -np.inf\n",
      "finding a negative value for log_cross_section, returning -np.inf\n"
     ]
    },
    {
     "name": "stderr",
     "output_type": "stream",
     "text": [
      "\r",
      " 61%|███████████████████████████████████████████████▌                              | 61/100 [02:03<01:29,  2.31s/it]"
     ]
    },
    {
     "name": "stdout",
     "output_type": "stream",
     "text": [
      "finding a negative value for log_mass, returning -np.inf\n",
      "finding a negative value for log_mass, returning -np.inf\n",
      "finding a negative value for log_mass, returning -np.inf\n",
      "finding a negative value for log_mass, returning -np.inf\n",
      "finding a negative value for log_cross_section, returning -np.inf\n",
      "finding a negative value for log_cross_section, returning -np.inf\n",
      "finding a negative value for log_cross_section, returning -np.inf\n",
      "finding a negative value for log_cross_section, returning -np.inf\n",
      "finding a negative value for log_mass, returning -np.inf\n",
      "finding a negative value for log_mass, returning -np.inf\n",
      "finding a negative value for log_cross_section, returning -np.inf\n",
      "finding a negative value for log_mass, returning -np.inf\n",
      "finding a negative value for log_cross_section, returning -np.inf\n",
      "finding a negative value for log_mass, returning -np.inf\n",
      "finding a negative value for log_cross_section, returning -np.inf\n",
      "finding a negative value for log_cross_section, returning -np.inf\n"
     ]
    },
    {
     "name": "stderr",
     "output_type": "stream",
     "text": [
      "\r",
      " 62%|████████████████████████████████████████████████▎                             | 62/100 [02:05<01:29,  2.36s/it]"
     ]
    },
    {
     "name": "stdout",
     "output_type": "stream",
     "text": [
      "finding a negative value for log_cross_section, returning -np.inf\n",
      "finding a negative value for log_mass, returning -np.inf\n",
      "finding a negative value for log_cross_section, returning -np.inf\n",
      "finding a negative value for log_mass, returning -np.inf\n",
      "finding a negative value for log_cross_section, returning -np.inf\n",
      "finding a negative value for log_cross_section, returning -np.inf\n",
      "finding a negative value for log_cross_section, returning -np.inf\n",
      "finding a negative value for log_cross_section, returning -np.inf\n",
      "finding a negative value for log_cross_section, returning -np.inf\n",
      "finding a negative value for log_mass, returning -np.inf\n",
      "finding a negative value for log_cross_section, returning -np.inf\n",
      "finding a negative value for log_cross_section, returning -np.inf\n",
      "finding a negative value for log_cross_section, returning -np.inf\n"
     ]
    },
    {
     "name": "stderr",
     "output_type": "stream",
     "text": [
      "\r",
      " 63%|█████████████████████████████████████████████████▏                            | 63/100 [02:08<01:26,  2.32s/it]"
     ]
    },
    {
     "name": "stdout",
     "output_type": "stream",
     "text": [
      "finding a negative value for log_mass, returning -np.inf\n",
      "finding a negative value for log_cross_section, returning -np.inf\n",
      "finding a negative value for log_mass, returning -np.inf\n",
      "finding a negative value for log_mass, returning -np.inf\n",
      "finding a negative value for log_mass, returning -np.inf\n",
      "finding a negative value for log_mass, returning -np.inf\n",
      "finding a negative value for log_cross_section, returning -np.inf\n",
      "finding a negative value for log_cross_section, returning -np.inf\n",
      "finding a negative value for log_mass, returning -np.inf\n",
      "finding a negative value for log_cross_section, returning -np.inf\n",
      "finding a negative value for log_mass, returning -np.inf\n",
      "finding a negative value for log_mass, returning -np.inf\n",
      "finding a negative value for log_cross_section, returning -np.inf\n",
      "finding a negative value for log_mass, returning -np.inf\n"
     ]
    },
    {
     "name": "stderr",
     "output_type": "stream",
     "text": [
      "\r",
      " 64%|█████████████████████████████████████████████████▉                            | 64/100 [02:10<01:24,  2.34s/it]"
     ]
    },
    {
     "name": "stdout",
     "output_type": "stream",
     "text": [
      "finding a negative value for log_cross_section, returning -np.inf\n",
      "finding a negative value for log_mass, returning -np.inf\n",
      "finding a negative value for log_cross_section, returning -np.inf\n",
      "finding a negative value for log_cross_section, returning -np.inf\n",
      "finding a negative value for log_mass, returning -np.inf\n",
      "finding a negative value for log_cross_section, returning -np.inf\n",
      "finding a negative value for log_cross_section, returning -np.inf\n",
      "finding a negative value for log_cross_section, returning -np.inf\n",
      "finding a negative value for log_cross_section, returning -np.inf\n",
      "finding a negative value for log_cross_section, returning -np.inf\n",
      "finding a negative value for log_cross_section, returning -np.inf\n",
      "finding a negative value for log_mass, returning -np.inf\n",
      "finding a negative value for log_mass, returning -np.inf\n",
      "finding a negative value for log_mass, returning -np.inf\n",
      "finding a negative value for log_cross_section, returning -np.inf\n",
      "finding a negative value for log_mass, returning -np.inf\n"
     ]
    },
    {
     "name": "stderr",
     "output_type": "stream",
     "text": [
      "\r",
      " 65%|██████████████████████████████████████████████████▋                           | 65/100 [02:12<01:16,  2.20s/it]"
     ]
    },
    {
     "name": "stdout",
     "output_type": "stream",
     "text": [
      "finding a negative value for log_cross_section, returning -np.inf\n",
      "finding a negative value for log_mass, returning -np.inf\n",
      "finding a negative value for log_cross_section, returning -np.inf\n",
      "finding a negative value for log_mass, returning -np.inf\n",
      "finding a negative value for log_cross_section, returning -np.inf\n",
      "finding a negative value for log_cross_section, returning -np.inf\n",
      "finding a negative value for log_mass, returning -np.inf\n",
      "finding a negative value for log_cross_section, returning -np.inf\n",
      "finding a negative value for log_mass, returning -np.inf\n"
     ]
    },
    {
     "name": "stderr",
     "output_type": "stream",
     "text": [
      "\r",
      " 66%|███████████████████████████████████████████████████▍                          | 66/100 [02:15<01:20,  2.36s/it]"
     ]
    },
    {
     "name": "stdout",
     "output_type": "stream",
     "text": [
      "finding a negative value for log_mass, returning -np.inf\n",
      "finding a negative value for log_cross_section, returning -np.inf\n",
      "finding a negative value for log_cross_section, returning -np.inf\n",
      "finding a negative value for log_mass, returning -np.inf\n",
      "finding a negative value for log_cross_section, returning -np.inf\n",
      "finding a negative value for log_mass, returning -np.inf\n",
      "finding a negative value for log_cross_section, returning -np.inf\n",
      "finding a negative value for log_cross_section, returning -np.inf\n",
      "finding a negative value for log_mass, returning -np.inf\n",
      "finding a negative value for log_cross_section, returning -np.inf\n",
      "finding a negative value for log_cross_section, returning -np.inf\n",
      "finding a negative value for log_cross_section, returning -np.inf\n",
      "finding a negative value for log_cross_section, returning -np.inf\n",
      "finding a negative value for log_cross_section, returning -np.inf\n",
      "finding a negative value for log_mass, returning -np.inf\n",
      "finding a negative value for log_mass, returning -np.inf\n",
      "finding a negative value for log_mass, returning -np.inf\n",
      "finding a negative value for log_cross_section, returning -np.inf\n",
      "finding a negative value for log_cross_section, returning -np.inf\n",
      "finding a negative value for log_mass, returning -np.inf\n",
      "finding a negative value for log_mass, returning -np.inf\n",
      "finding a negative value for log_cross_section, returning -np.inf\n"
     ]
    },
    {
     "name": "stderr",
     "output_type": "stream",
     "text": [
      "\r",
      " 67%|████████████████████████████████████████████████████▎                         | 67/100 [02:17<01:15,  2.28s/it]"
     ]
    },
    {
     "name": "stdout",
     "output_type": "stream",
     "text": [
      "finding a negative value for log_cross_section, returning -np.inf\n",
      "finding a negative value for log_mass, returning -np.inf\n",
      "finding a negative value for log_mass, returning -np.inf\n",
      "finding a negative value for log_mass, returning -np.inf\n",
      "finding a negative value for log_cross_section, returning -np.inf\n",
      "finding a negative value for log_cross_section, returning -np.inf\n",
      "finding a negative value for log_cross_section, returning -np.inf\n",
      "finding a negative value for log_mass, returning -np.inf\n",
      "finding a negative value for log_mass, returning -np.inf\n",
      "finding a negative value for log_mass, returning -np.inf\n",
      "finding a negative value for log_mass, returning -np.inf\n",
      "finding a negative value for log_mass, returning -np.inf\n",
      "finding a negative value for log_cross_section, returning -np.inf\n"
     ]
    },
    {
     "name": "stderr",
     "output_type": "stream",
     "text": [
      "\r",
      " 68%|█████████████████████████████████████████████████████                         | 68/100 [02:20<01:18,  2.46s/it]"
     ]
    },
    {
     "name": "stdout",
     "output_type": "stream",
     "text": [
      "finding a negative value for log_cross_section, returning -np.inf\n",
      "finding a negative value for log_cross_section, returning -np.inf\n",
      "finding a negative value for log_mass, returning -np.inf\n",
      "finding a negative value for log_mass, returning -np.inf\n",
      "finding a negative value for log_cross_section, returning -np.inf\n",
      "finding a negative value for log_cross_section, returning -np.inf\n"
     ]
    },
    {
     "name": "stderr",
     "output_type": "stream",
     "text": [
      "\r",
      " 69%|█████████████████████████████████████████████████████▊                        | 69/100 [02:23<01:22,  2.66s/it]"
     ]
    },
    {
     "name": "stdout",
     "output_type": "stream",
     "text": [
      "finding a negative value for log_mass, returning -np.inf\n",
      "finding a negative value for log_mass, returning -np.inf\n",
      "finding a negative value for log_mass, returning -np.inf\n",
      "finding a negative value for log_cross_section, returning -np.inf\n",
      "finding a negative value for log_mass, returning -np.inf\n",
      "finding a negative value for log_mass, returning -np.inf\n",
      "finding a negative value for log_cross_section, returning -np.inf\n",
      "finding a negative value for log_mass, returning -np.inf\n",
      "finding a negative value for log_cross_section, returning -np.inf\n",
      "finding a negative value for log_cross_section, returning -np.inf\n",
      "finding a negative value for log_mass, returning -np.inf\n",
      "finding a negative value for log_cross_section, returning -np.inf\n",
      "finding a negative value for log_cross_section, returning -np.inf\n"
     ]
    },
    {
     "name": "stderr",
     "output_type": "stream",
     "text": [
      "\r",
      " 70%|██████████████████████████████████████████████████████▌                       | 70/100 [02:26<01:27,  2.92s/it]"
     ]
    },
    {
     "name": "stdout",
     "output_type": "stream",
     "text": [
      "finding a negative value for log_mass, returning -np.inf\n",
      "finding a negative value for log_mass, returning -np.inf\n",
      "finding a negative value for log_cross_section, returning -np.inf\n",
      "finding a negative value for log_cross_section, returning -np.inf\n",
      "finding a negative value for log_mass, returning -np.inf\n",
      "finding a negative value for log_cross_section, returning -np.inf\n",
      "finding a negative value for log_cross_section, returning -np.inf\n",
      "finding a negative value for log_cross_section, returning -np.inf\n",
      "finding a negative value for log_mass, returning -np.inf\n",
      "finding a negative value for log_mass, returning -np.inf\n",
      "finding a negative value for log_cross_section, returning -np.inf\n"
     ]
    },
    {
     "name": "stderr",
     "output_type": "stream",
     "text": [
      "\r",
      " 71%|███████████████████████████████████████████████████████▍                      | 71/100 [02:29<01:24,  2.93s/it]"
     ]
    },
    {
     "name": "stdout",
     "output_type": "stream",
     "text": [
      "finding a negative value for log_mass, returning -np.inf\n",
      "finding a negative value for log_mass, returning -np.inf\n",
      "finding a negative value for log_mass, returning -np.inf\n",
      "finding a negative value for log_cross_section, returning -np.inf\n",
      "finding a negative value for log_mass, returning -np.inf\n",
      "finding a negative value for log_mass, returning -np.inf\n",
      "finding a negative value for log_cross_section, returning -np.inf\n",
      "finding a negative value for log_cross_section, returning -np.inf\n",
      "finding a negative value for log_cross_section, returning -np.inf\n",
      "finding a negative value for log_cross_section, returning -np.inf\n",
      "finding a negative value for log_mass, returning -np.inf\n",
      "finding a negative value for log_mass, returning -np.inf\n",
      "finding a negative value for log_mass, returning -np.inf\n",
      "finding a negative value for log_mass, returning -np.inf\n",
      "finding a negative value for log_cross_section, returning -np.inf\n",
      "finding a negative value for log_cross_section, returning -np.inf\n",
      "finding a negative value for log_cross_section, returning -np.inf\n"
     ]
    },
    {
     "name": "stderr",
     "output_type": "stream",
     "text": [
      "\r",
      " 72%|████████████████████████████████████████████████████████▏                     | 72/100 [02:32<01:19,  2.83s/it]"
     ]
    },
    {
     "name": "stdout",
     "output_type": "stream",
     "text": [
      "finding a negative value for log_mass, returning -np.inf\n",
      "finding a negative value for log_cross_section, returning -np.inf\n",
      "finding a negative value for log_mass, returning -np.inf\n",
      "finding a negative value for log_mass, returning -np.inf\n",
      "finding a negative value for log_mass, returning -np.inf\n",
      "finding a negative value for log_cross_section, returning -np.inf\n",
      "finding a negative value for log_mass, returning -np.inf\n",
      "finding a negative value for log_cross_section, returning -np.inf\n"
     ]
    },
    {
     "name": "stderr",
     "output_type": "stream",
     "text": [
      "\r",
      " 73%|████████████████████████████████████████████████████████▉                     | 73/100 [02:34<01:15,  2.79s/it]"
     ]
    },
    {
     "name": "stdout",
     "output_type": "stream",
     "text": [
      "finding a negative value for log_cross_section, returning -np.inf\n",
      "finding a negative value for log_mass, returning -np.inf\n",
      "finding a negative value for log_cross_section, returning -np.inf\n",
      "finding a negative value for log_cross_section, returning -np.inf\n",
      "finding a negative value for log_cross_section, returning -np.inf\n",
      "finding a negative value for log_mass, returning -np.inf\n",
      "finding a negative value for log_cross_section, returning -np.inf\n",
      "finding a negative value for log_cross_section, returning -np.inf\n",
      "finding a negative value for log_cross_section, returning -np.inf\n",
      "finding a negative value for log_cross_section, returning -np.inf\n",
      "finding a negative value for log_mass, returning -np.inf\n",
      "finding a negative value for log_cross_section, returning -np.inf\n",
      "finding a negative value for log_cross_section, returning -np.inf\n"
     ]
    },
    {
     "name": "stderr",
     "output_type": "stream",
     "text": [
      "\r",
      " 74%|█████████████████████████████████████████████████████████▋                    | 74/100 [02:37<01:10,  2.71s/it]"
     ]
    },
    {
     "name": "stdout",
     "output_type": "stream",
     "text": [
      "finding a negative value for log_cross_section, returning -np.inf\n",
      "finding a negative value for log_mass, returning -np.inf\n",
      "finding a negative value for log_mass, returning -np.inf\n",
      "finding a negative value for log_cross_section, returning -np.inf\n",
      "finding a negative value for log_mass, returning -np.inf\n",
      "finding a negative value for log_cross_section, returning -np.inf\n",
      "finding a negative value for log_cross_section, returning -np.inf\n",
      "finding a negative value for log_mass, returning -np.inf\n",
      "finding a negative value for log_mass, returning -np.inf\n",
      "finding a negative value for log_mass, returning -np.inf\n",
      "finding a negative value for log_mass, returning -np.inf\n",
      "finding a negative value for log_cross_section, returning -np.inf\n"
     ]
    },
    {
     "name": "stderr",
     "output_type": "stream",
     "text": [
      "\r",
      " 75%|██████████████████████████████████████████████████████████▌                   | 75/100 [02:40<01:07,  2.69s/it]"
     ]
    },
    {
     "name": "stdout",
     "output_type": "stream",
     "text": [
      "finding a negative value for log_mass, returning -np.inf\n",
      "finding a negative value for log_mass, returning -np.inf\n",
      "finding a negative value for log_cross_section, returning -np.inf\n",
      "finding a negative value for log_cross_section, returning -np.inf\n",
      "finding a negative value for log_mass, returning -np.inf\n",
      "finding a negative value for log_mass, returning -np.inf\n",
      "finding a negative value for log_mass, returning -np.inf\n",
      "finding a negative value for log_mass, returning -np.inf\n"
     ]
    },
    {
     "name": "stderr",
     "output_type": "stream",
     "text": [
      "\r",
      " 76%|███████████████████████████████████████████████████████████▎                  | 76/100 [02:44<01:14,  3.12s/it]"
     ]
    },
    {
     "name": "stdout",
     "output_type": "stream",
     "text": [
      "finding a negative value for log_mass, returning -np.inf\n",
      "finding a negative value for log_mass, returning -np.inf\n",
      "finding a negative value for log_cross_section, returning -np.inf\n",
      "finding a negative value for log_mass, returning -np.inf\n",
      "finding a negative value for log_cross_section, returning -np.inf\n",
      "finding a negative value for log_cross_section, returning -np.inf\n",
      "finding a negative value for log_mass, returning -np.inf\n",
      "finding a negative value for log_cross_section, returning -np.inf\n",
      "finding a negative value for log_mass, returning -np.inf\n"
     ]
    },
    {
     "name": "stderr",
     "output_type": "stream",
     "text": [
      "\r",
      " 77%|████████████████████████████████████████████████████████████                  | 77/100 [02:47<01:13,  3.19s/it]"
     ]
    },
    {
     "name": "stdout",
     "output_type": "stream",
     "text": [
      "finding a negative value for log_cross_section, returning -np.inf\n",
      "finding a negative value for log_mass, returning -np.inf\n",
      "finding a negative value for log_cross_section, returning -np.inf\n",
      "finding a negative value for log_mass, returning -np.inf\n",
      "finding a negative value for log_cross_section, returning -np.inf\n",
      "finding a negative value for log_mass, returning -np.inf\n",
      "finding a negative value for log_cross_section, returning -np.inf\n",
      "finding a negative value for log_cross_section, returning -np.inf\n",
      "finding a negative value for log_cross_section, returning -np.inf\n",
      "finding a negative value for log_mass, returning -np.inf\n",
      "finding a negative value for log_cross_section, returning -np.inf\n",
      "finding a negative value for log_cross_section, returning -np.inf\n"
     ]
    },
    {
     "name": "stderr",
     "output_type": "stream",
     "text": [
      "\r",
      " 78%|████████████████████████████████████████████████████████████▊                 | 78/100 [02:50<01:09,  3.17s/it]"
     ]
    },
    {
     "name": "stdout",
     "output_type": "stream",
     "text": [
      "finding a negative value for log_mass, returning -np.inf\n",
      "finding a negative value for log_mass, returning -np.inf\n",
      "finding a negative value for log_cross_section, returning -np.inf\n",
      "finding a negative value for log_mass, returning -np.inf\n",
      "finding a negative value for log_cross_section, returning -np.inf\n",
      "finding a negative value for log_cross_section, returning -np.inf\n",
      "finding a negative value for log_cross_section, returning -np.inf\n",
      "finding a negative value for log_mass, returning -np.inf\n",
      "finding a negative value for log_cross_section, returning -np.inf\n",
      "finding a negative value for log_cross_section, returning -np.inf\n",
      "finding a negative value for log_mass, returning -np.inf\n",
      "finding a negative value for log_cross_section, returning -np.inf\n"
     ]
    },
    {
     "name": "stderr",
     "output_type": "stream",
     "text": [
      "\r",
      " 79%|█████████████████████████████████████████████████████████████▌                | 79/100 [02:53<01:06,  3.17s/it]"
     ]
    },
    {
     "name": "stdout",
     "output_type": "stream",
     "text": [
      "finding a negative value for log_cross_section, returning -np.inf\n",
      "finding a negative value for log_mass, returning -np.inf\n",
      "finding a negative value for log_mass, returning -np.inf\n",
      "finding a negative value for log_cross_section, returning -np.inf\n",
      "finding a negative value for log_mass, returning -np.inf\n",
      "finding a negative value for log_cross_section, returning -np.inf\n",
      "finding a negative value for log_mass, returning -np.inf\n",
      "finding a negative value for log_cross_section, returning -np.inf\n",
      "finding a negative value for log_cross_section, returning -np.inf\n",
      "finding a negative value for log_mass, returning -np.inf\n",
      "finding a negative value for log_cross_section, returning -np.inf\n",
      "finding a negative value for log_mass, returning -np.inf\n",
      "finding a negative value for log_mass, returning -np.inf\n",
      "finding a negative value for log_cross_section, returning -np.inf\n",
      "finding a negative value for log_cross_section, returning -np.inf\n",
      "finding a negative value for log_cross_section, returning -np.inf\n",
      "finding a negative value for log_cross_section, returning -np.inf\n"
     ]
    },
    {
     "name": "stderr",
     "output_type": "stream",
     "text": [
      "\r",
      " 80%|██████████████████████████████████████████████████████████████▍               | 80/100 [02:57<01:04,  3.21s/it]"
     ]
    },
    {
     "name": "stdout",
     "output_type": "stream",
     "text": [
      "finding a negative value for log_cross_section, returning -np.inf\n",
      "finding a negative value for log_cross_section, returning -np.inf\n",
      "finding a negative value for log_cross_section, returning -np.inf\n",
      "finding a negative value for log_cross_section, returning -np.inf\n",
      "finding a negative value for log_mass, returning -np.inf\n",
      "finding a negative value for log_mass, returning -np.inf\n",
      "finding a negative value for log_cross_section, returning -np.inf\n",
      "finding a negative value for log_cross_section, returning -np.inf\n",
      "finding a negative value for log_cross_section, returning -np.inf\n"
     ]
    },
    {
     "name": "stderr",
     "output_type": "stream",
     "text": [
      "\r",
      " 81%|███████████████████████████████████████████████████████████████▏              | 81/100 [03:00<01:01,  3.26s/it]"
     ]
    },
    {
     "name": "stdout",
     "output_type": "stream",
     "text": [
      "finding a negative value for log_cross_section, returning -np.inf\n",
      "finding a negative value for log_cross_section, returning -np.inf\n",
      "finding a negative value for log_mass, returning -np.inf\n",
      "finding a negative value for log_cross_section, returning -np.inf\n",
      "finding a negative value for log_mass, returning -np.inf\n",
      "finding a negative value for log_mass, returning -np.inf\n",
      "finding a negative value for log_mass, returning -np.inf\n",
      "finding a negative value for log_cross_section, returning -np.inf\n"
     ]
    },
    {
     "name": "stderr",
     "output_type": "stream",
     "text": [
      "\r",
      " 82%|███████████████████████████████████████████████████████████████▉              | 82/100 [03:04<00:59,  3.32s/it]"
     ]
    },
    {
     "name": "stdout",
     "output_type": "stream",
     "text": [
      "finding a negative value for log_cross_section, returning -np.inf\n",
      "finding a negative value for log_cross_section, returning -np.inf\n",
      "finding a negative value for log_cross_section, returning -np.inf\n",
      "finding a negative value for log_mass, returning -np.inf\n",
      "finding a negative value for log_cross_section, returning -np.inf\n",
      "finding a negative value for log_cross_section, returning -np.inf\n",
      "finding a negative value for log_mass, returning -np.inf\n",
      "finding a negative value for log_cross_section, returning -np.inf\n",
      "finding a negative value for log_mass, returning -np.inf\n"
     ]
    },
    {
     "name": "stderr",
     "output_type": "stream",
     "text": [
      "\r",
      " 83%|████████████████████████████████████████████████████████████████▋             | 83/100 [03:07<00:58,  3.42s/it]"
     ]
    },
    {
     "name": "stdout",
     "output_type": "stream",
     "text": [
      "finding a negative value for log_mass, returning -np.inf\n",
      "finding a negative value for log_mass, returning -np.inf\n",
      "finding a negative value for log_cross_section, returning -np.inf\n",
      "finding a negative value for log_mass, returning -np.inf\n",
      "finding a negative value for log_mass, returning -np.inf\n",
      "finding a negative value for log_cross_section, returning -np.inf\n",
      "finding a negative value for log_mass, returning -np.inf\n",
      "finding a negative value for log_cross_section, returning -np.inf\n",
      "finding a negative value for log_cross_section, returning -np.inf\n",
      "finding a negative value for log_cross_section, returning -np.inf\n",
      "finding a negative value for log_cross_section, returning -np.inf\n"
     ]
    },
    {
     "name": "stderr",
     "output_type": "stream",
     "text": [
      "\r",
      " 84%|█████████████████████████████████████████████████████████████████▌            | 84/100 [03:11<00:55,  3.46s/it]"
     ]
    },
    {
     "name": "stdout",
     "output_type": "stream",
     "text": [
      "finding a negative value for log_cross_section, returning -np.inf\n",
      "finding a negative value for log_cross_section, returning -np.inf\n",
      "finding a negative value for log_mass, returning -np.inf\n",
      "finding a negative value for log_mass, returning -np.inf\n",
      "finding a negative value for log_cross_section, returning -np.inf\n",
      "finding a negative value for log_cross_section, returning -np.inf\n",
      "finding a negative value for log_cross_section, returning -np.inf\n",
      "finding a negative value for log_cross_section, returning -np.inf\n",
      "finding a negative value for log_cross_section, returning -np.inf\n"
     ]
    },
    {
     "name": "stderr",
     "output_type": "stream",
     "text": [
      "\r",
      " 85%|██████████████████████████████████████████████████████████████████▎           | 85/100 [03:14<00:51,  3.45s/it]"
     ]
    },
    {
     "name": "stdout",
     "output_type": "stream",
     "text": [
      "finding a negative value for log_mass, returning -np.inf\n",
      "finding a negative value for log_cross_section, returning -np.inf\n",
      "finding a negative value for log_cross_section, returning -np.inf\n",
      "finding a negative value for log_cross_section, returning -np.inf\n",
      "finding a negative value for log_cross_section, returning -np.inf\n",
      "finding a negative value for log_cross_section, returning -np.inf\n",
      "finding a negative value for log_cross_section, returning -np.inf\n",
      "finding a negative value for log_cross_section, returning -np.inf\n",
      "finding a negative value for log_mass, returning -np.inf\n",
      "finding a negative value for log_mass, returning -np.inf\n",
      "finding a negative value for log_mass, returning -np.inf\n",
      "finding a negative value for log_cross_section, returning -np.inf\n",
      "finding a negative value for log_mass, returning -np.inf\n",
      "finding a negative value for log_cross_section, returning -np.inf\n",
      "finding a negative value for log_mass, returning -np.inf\n"
     ]
    },
    {
     "name": "stderr",
     "output_type": "stream",
     "text": [
      "\r",
      " 86%|███████████████████████████████████████████████████████████████████           | 86/100 [03:17<00:46,  3.34s/it]"
     ]
    },
    {
     "name": "stdout",
     "output_type": "stream",
     "text": [
      "finding a negative value for log_mass, returning -np.inf\n",
      "finding a negative value for log_cross_section, returning -np.inf\n",
      "finding a negative value for log_mass, returning -np.inf\n",
      "finding a negative value for log_mass, returning -np.inf\n",
      "finding a negative value for log_mass, returning -np.inf\n",
      "finding a negative value for log_mass, returning -np.inf\n",
      "finding a negative value for log_cross_section, returning -np.inf\n",
      "finding a negative value for log_cross_section, returning -np.inf\n",
      "finding a negative value for log_cross_section, returning -np.inf\n",
      "finding a negative value for log_cross_section, returning -np.inf\n",
      "finding a negative value for log_cross_section, returning -np.inf\n",
      "finding a negative value for log_cross_section, returning -np.inf\n",
      "finding a negative value for log_mass, returning -np.inf\n"
     ]
    },
    {
     "name": "stderr",
     "output_type": "stream",
     "text": [
      "\r",
      " 87%|███████████████████████████████████████████████████████████████████▊          | 87/100 [03:20<00:42,  3.26s/it]"
     ]
    },
    {
     "name": "stdout",
     "output_type": "stream",
     "text": [
      "finding a negative value for log_cross_section, returning -np.inf\n",
      "finding a negative value for log_cross_section, returning -np.inf\n",
      "finding a negative value for log_mass, returning -np.inf\n",
      "finding a negative value for log_mass, returning -np.inf\n",
      "finding a negative value for log_mass, returning -np.inf\n",
      "finding a negative value for log_cross_section, returning -np.inf\n",
      "finding a negative value for log_cross_section, returning -np.inf\n",
      "finding a negative value for log_mass, returning -np.inf\n",
      "finding a negative value for log_cross_section, returning -np.inf\n"
     ]
    },
    {
     "name": "stderr",
     "output_type": "stream",
     "text": [
      "\r",
      " 88%|████████████████████████████████████████████████████████████████████▋         | 88/100 [03:24<00:39,  3.32s/it]"
     ]
    },
    {
     "name": "stdout",
     "output_type": "stream",
     "text": [
      "finding a negative value for log_cross_section, returning -np.inf\n",
      "finding a negative value for log_cross_section, returning -np.inf\n",
      "finding a negative value for log_mass, returning -np.inf\n",
      "finding a negative value for log_cross_section, returning -np.inf\n",
      "finding a negative value for log_cross_section, returning -np.inf\n",
      "finding a negative value for log_cross_section, returning -np.inf\n",
      "finding a negative value for log_mass, returning -np.inf\n",
      "finding a negative value for log_mass, returning -np.inf\n",
      "finding a negative value for log_mass, returning -np.inf\n",
      "finding a negative value for log_cross_section, returning -np.inf\n",
      "finding a negative value for log_mass, returning -np.inf\n",
      "finding a negative value for log_cross_section, returning -np.inf\n",
      "finding a negative value for log_cross_section, returning -np.inf\n",
      "finding a negative value for log_cross_section, returning -np.inf\n"
     ]
    },
    {
     "name": "stderr",
     "output_type": "stream",
     "text": [
      "\r",
      " 89%|█████████████████████████████████████████████████████████████████████▍        | 89/100 [03:27<00:36,  3.28s/it]"
     ]
    },
    {
     "name": "stdout",
     "output_type": "stream",
     "text": [
      "finding a negative value for log_cross_section, returning -np.inf\n",
      "finding a negative value for log_mass, returning -np.inf\n",
      "finding a negative value for log_mass, returning -np.inf\n",
      "finding a negative value for log_cross_section, returning -np.inf\n",
      "finding a negative value for log_mass, returning -np.inf\n",
      "finding a negative value for log_mass, returning -np.inf\n",
      "finding a negative value for log_mass, returning -np.inf\n",
      "finding a negative value for log_mass, returning -np.inf\n",
      "finding a negative value for log_mass, returning -np.inf\n",
      "finding a negative value for log_cross_section, returning -np.inf\n",
      "finding a negative value for log_cross_section, returning -np.inf\n",
      "finding a negative value for log_cross_section, returning -np.inf\n",
      "finding a negative value for log_cross_section, returning -np.inf\n"
     ]
    },
    {
     "name": "stderr",
     "output_type": "stream",
     "text": [
      "\r",
      " 90%|██████████████████████████████████████████████████████████████████████▏       | 90/100 [03:30<00:32,  3.22s/it]"
     ]
    },
    {
     "name": "stdout",
     "output_type": "stream",
     "text": [
      "finding a negative value for log_mass, returning -np.inf\n",
      "finding a negative value for log_mass, returning -np.inf\n",
      "finding a negative value for log_mass, returning -np.inf\n",
      "finding a negative value for log_mass, returning -np.inf\n",
      "finding a negative value for log_mass, returning -np.inf\n",
      "finding a negative value for log_cross_section, returning -np.inf\n",
      "finding a negative value for log_cross_section, returning -np.inf\n",
      "finding a negative value for log_mass, returning -np.inf\n",
      "finding a negative value for log_mass, returning -np.inf\n",
      "finding a negative value for log_cross_section, returning -np.inf\n",
      "finding a negative value for log_cross_section, returning -np.inf\n",
      "finding a negative value for log_cross_section, returning -np.inf\n",
      "finding a negative value for log_cross_section, returning -np.inf\n"
     ]
    },
    {
     "name": "stderr",
     "output_type": "stream",
     "text": [
      "\r",
      " 91%|██████████████████████████████████████████████████████████████████████▉       | 91/100 [03:33<00:28,  3.22s/it]"
     ]
    },
    {
     "name": "stdout",
     "output_type": "stream",
     "text": [
      "finding a negative value for log_mass, returning -np.inf\n",
      "finding a negative value for log_mass, returning -np.inf\n",
      "finding a negative value for log_mass, returning -np.inf\n",
      "finding a negative value for log_mass, returning -np.inf\n",
      "finding a negative value for log_mass, returning -np.inf\n",
      "finding a negative value for log_cross_section, returning -np.inf\n",
      "finding a negative value for log_cross_section, returning -np.inf\n",
      "finding a negative value for log_mass, returning -np.inf\n",
      "finding a negative value for log_cross_section, returning -np.inf\n"
     ]
    },
    {
     "name": "stderr",
     "output_type": "stream",
     "text": [
      "\r",
      " 92%|███████████████████████████████████████████████████████████████████████▊      | 92/100 [03:37<00:26,  3.37s/it]"
     ]
    },
    {
     "name": "stdout",
     "output_type": "stream",
     "text": [
      "finding a negative value for log_cross_section, returning -np.inf\n",
      "finding a negative value for log_cross_section, returning -np.inf\n",
      "finding a negative value for log_mass, returning -np.inf\n",
      "finding a negative value for log_mass, returning -np.inf\n",
      "finding a negative value for log_cross_section, returning -np.inf\n",
      "finding a negative value for log_mass, returning -np.inf\n",
      "finding a negative value for log_cross_section, returning -np.inf\n",
      "finding a negative value for log_mass, returning -np.inf\n",
      "finding a negative value for log_mass, returning -np.inf\n",
      "finding a negative value for log_mass, returning -np.inf\n",
      "finding a negative value for log_mass, returning -np.inf\n",
      "finding a negative value for log_cross_section, returning -np.inf\n",
      "finding a negative value for log_mass, returning -np.inf\n",
      "finding a negative value for log_cross_section, returning -np.inf\n"
     ]
    },
    {
     "name": "stderr",
     "output_type": "stream",
     "text": [
      "\r",
      " 93%|████████████████████████████████████████████████████████████████████████▌     | 93/100 [03:41<00:24,  3.49s/it]"
     ]
    },
    {
     "name": "stdout",
     "output_type": "stream",
     "text": [
      "finding a negative value for log_mass, returning -np.inf\n",
      "finding a negative value for log_mass, returning -np.inf\n",
      "finding a negative value for log_cross_section, returning -np.inf\n",
      "finding a negative value for log_cross_section, returning -np.inf\n",
      "finding a negative value for log_cross_section, returning -np.inf\n",
      "finding a negative value for log_cross_section, returning -np.inf\n",
      "finding a negative value for log_cross_section, returning -np.inf\n",
      "finding a negative value for log_cross_section, returning -np.inf\n",
      "finding a negative value for log_cross_section, returning -np.inf\n",
      "finding a negative value for log_mass, returning -np.inf\n"
     ]
    },
    {
     "name": "stderr",
     "output_type": "stream",
     "text": [
      "\r",
      " 94%|█████████████████████████████████████████████████████████████████████████▎    | 94/100 [03:45<00:22,  3.78s/it]"
     ]
    },
    {
     "name": "stdout",
     "output_type": "stream",
     "text": [
      "finding a negative value for log_cross_section, returning -np.inf\n",
      "finding a negative value for log_cross_section, returning -np.inf\n",
      "finding a negative value for log_cross_section, returning -np.inf\n",
      "finding a negative value for log_mass, returning -np.inf\n",
      "finding a negative value for log_cross_section, returning -np.inf\n",
      "finding a negative value for log_cross_section, returning -np.inf\n",
      "finding a negative value for log_cross_section, returning -np.inf\n",
      "finding a negative value for log_cross_section, returning -np.inf\n",
      "finding a negative value for log_cross_section, returning -np.inf\n",
      "finding a negative value for log_cross_section, returning -np.inf\n",
      "finding a negative value for log_cross_section, returning -np.inf\n",
      "finding a negative value for log_cross_section, returning -np.inf\n",
      "finding a negative value for log_cross_section, returning -np.inf\n",
      "finding a negative value for log_cross_section, returning -np.inf\n"
     ]
    },
    {
     "name": "stderr",
     "output_type": "stream",
     "text": [
      "\r",
      " 95%|██████████████████████████████████████████████████████████████████████████    | 95/100 [03:49<00:18,  3.64s/it]"
     ]
    },
    {
     "name": "stdout",
     "output_type": "stream",
     "text": [
      "finding a negative value for log_mass, returning -np.inf\n",
      "finding a negative value for log_cross_section, returning -np.inf\n",
      "finding a negative value for log_cross_section, returning -np.inf\n",
      "finding a negative value for log_mass, returning -np.inf\n",
      "finding a negative value for log_mass, returning -np.inf\n",
      "finding a negative value for log_mass, returning -np.inf\n",
      "finding a negative value for log_cross_section, returning -np.inf\n",
      "finding a negative value for log_cross_section, returning -np.inf\n",
      "finding a negative value for log_cross_section, returning -np.inf\n",
      "finding a negative value for log_cross_section, returning -np.inf\n",
      "finding a negative value for log_cross_section, returning -np.inf\n",
      "finding a negative value for log_cross_section, returning -np.inf\n"
     ]
    },
    {
     "name": "stderr",
     "output_type": "stream",
     "text": [
      "\r",
      " 96%|██████████████████████████████████████████████████████████████████████████▉   | 96/100 [03:52<00:14,  3.63s/it]"
     ]
    },
    {
     "name": "stdout",
     "output_type": "stream",
     "text": [
      "finding a negative value for log_cross_section, returning -np.inf\n",
      "finding a negative value for log_mass, returning -np.inf\n",
      "finding a negative value for log_mass, returning -np.inf\n",
      "finding a negative value for log_cross_section, returning -np.inf\n",
      "finding a negative value for log_cross_section, returning -np.inf\n",
      "finding a negative value for log_cross_section, returning -np.inf\n",
      "finding a negative value for log_cross_section, returning -np.inf\n",
      "finding a negative value for log_mass, returning -np.inf\n",
      "finding a negative value for log_cross_section, returning -np.inf\n",
      "finding a negative value for log_cross_section, returning -np.inf\n",
      "finding a negative value for log_cross_section, returning -np.inf\n",
      "finding a negative value for log_mass, returning -np.inf\n",
      "finding a negative value for log_cross_section, returning -np.inf\n",
      "finding a negative value for log_mass, returning -np.inf\n"
     ]
    },
    {
     "name": "stderr",
     "output_type": "stream",
     "text": [
      "\r",
      " 97%|███████████████████████████████████████████████████████████████████████████▋  | 97/100 [03:56<00:10,  3.59s/it]"
     ]
    },
    {
     "name": "stdout",
     "output_type": "stream",
     "text": [
      "finding a negative value for log_cross_section, returning -np.inf\n",
      "finding a negative value for log_cross_section, returning -np.inf\n",
      "finding a negative value for log_cross_section, returning -np.inf\n",
      "finding a negative value for log_cross_section, returning -np.inf\n",
      "finding a negative value for log_mass, returning -np.inf\n",
      "finding a negative value for log_mass, returning -np.inf\n",
      "finding a negative value for log_cross_section, returning -np.inf\n",
      "finding a negative value for log_cross_section, returning -np.inf\n"
     ]
    },
    {
     "name": "stderr",
     "output_type": "stream",
     "text": [
      "\r",
      " 98%|████████████████████████████████████████████████████████████████████████████▍ | 98/100 [04:00<00:07,  3.72s/it]"
     ]
    },
    {
     "name": "stdout",
     "output_type": "stream",
     "text": [
      "finding a negative value for log_cross_section, returning -np.inf\n",
      "finding a negative value for log_cross_section, returning -np.inf\n",
      "finding a negative value for log_cross_section, returning -np.inf\n",
      "finding a negative value for log_cross_section, returning -np.inf\n",
      "finding a negative value for log_cross_section, returning -np.inf\n",
      "finding a negative value for log_cross_section, returning -np.inf\n",
      "finding a negative value for log_cross_section, returning -np.inf\n",
      "finding a negative value for log_mass, returning -np.inf\n",
      "finding a negative value for log_mass, returning -np.inf\n",
      "finding a negative value for log_mass, returning -np.inf\n",
      "finding a negative value for log_mass, returning -np.inf\n",
      "finding a negative value for log_cross_section, returning -np.inf\n",
      "finding a negative value for log_cross_section, returning -np.inf\n"
     ]
    },
    {
     "name": "stderr",
     "output_type": "stream",
     "text": [
      "\r",
      " 99%|█████████████████████████████████████████████████████████████████████████████▏| 99/100 [04:03<00:03,  3.56s/it]"
     ]
    },
    {
     "name": "stdout",
     "output_type": "stream",
     "text": [
      "finding a negative value for log_cross_section, returning -np.inf\n",
      "finding a negative value for log_cross_section, returning -np.inf\n",
      "finding a negative value for log_cross_section, returning -np.inf\n",
      "finding a negative value for log_mass, returning -np.inf\n",
      "finding a negative value for log_mass, returning -np.inf\n",
      "finding a negative value for log_mass, returning -np.inf\n",
      "finding a negative value for log_cross_section, returning -np.inf\n",
      "finding a negative value for log_cross_section, returning -np.inf\n",
      "finding a negative value for log_cross_section, returning -np.inf\n",
      "finding a negative value for log_cross_section, returning -np.inf\n",
      "finding a negative value for log_mass, returning -np.inf\n",
      "finding a negative value for log_cross_section, returning -np.inf\n",
      "finding a negative value for log_cross_section, returning -np.inf\n",
      "finding a negative value for log_mass, returning -np.inf\n",
      "finding a negative value for log_mass, returning -np.inf\n",
      "finding a negative value for log_cross_section, returning -np.inf\n",
      "finding a negative value for log_mass, returning -np.inf\n",
      "finding a negative value for log_mass, returning -np.inf\n",
      "finding a negative value for log_cross_section, returning -np.inf\n",
      "finding a negative value for log_mass, returning -np.inf\n",
      "finding a negative value for log_cross_section, returning -np.inf\n",
      "finding a negative value for log_cross_section, returning -np.inf\n"
     ]
    },
    {
     "name": "stderr",
     "output_type": "stream",
     "text": [
      "100%|█████████████████████████████████████████████████████████████████████████████| 100/100 [04:06<00:00,  2.46s/it]\n"
     ]
    },
    {
     "name": "stdout",
     "output_type": "stream",
     "text": [
      "Removing a fraction of 0.2 of the samples\n",
      "(250, 2)\n"
     ]
    },
    {
     "name": "stderr",
     "output_type": "stream",
     "text": [
      "WARNING:root:Too few points to create valid contours\n"
     ]
    },
    {
     "data": {
      "image/png": "[encoded data removed]",
      "text/plain": [
       "<Figure size 396x396 with 4 Axes>"
      ]
     },
     "metadata": {
      "needs_background": "light"
     },
     "output_type": "display_data"
    }
   ],
   "source": [
    "stats.show_corner()"
   ]
  },
  {
   "cell_type": "code",
   "execution_count": null,
   "metadata": {},
   "outputs": [],
   "source": [
    "asser False"
   ]
  },
  {
   "cell_type": "code",
   "execution_count": null,
   "metadata": {},
   "outputs": [],
   "source": [
    "nwalkers= 10\n",
    "pos = np.hstack(\n",
    "    [50   + 3*10 * np.random.rand(nwalkers, 1) ,\n",
    "    1e-45 + 1e-45 * np.random.rand(nwalkers, 1),\n",
    "    230   + 3*30 * np.random.rand(nwalkers, 1),\n",
    "    544   + 3*33 * np.random.rand(nwalkers, 1),\n",
    "    0.4   + 3*0.1 * np.random.rand(nwalkers, 1)   \n",
    "    ])\n",
    "nwalkers, ndim = pos.shape\n",
    "pos"
   ]
  },
  {
   "cell_type": "code",
   "execution_count": null,
   "metadata": {
    "scrolled": true
   },
   "outputs": [],
   "source": [
    "%%time\n",
    "# from multiprocessing import Pool\n",
    "# with Pool() as pool:\n",
    "nwalkers = 50\n",
    "step = 250\n",
    "pos = np.hstack(\n",
    "    [50   + 3*10 * np.random.rand(nwalkers, 1) ,\n",
    "    1e-45 + 1e-45 * np.random.rand(nwalkers, 1),\n",
    "    230   + 3*30 * np.random.rand(nwalkers, 1),\n",
    "    544   + 3*33 * np.random.rand(nwalkers, 1),\n",
    "    0.4   + 3*0.1 * np.random.rand(nwalkers, 1)   \n",
    "    ])\n",
    "nwalkers, ndim = pos.shape\n",
    "\n",
    "sampler = emcee.EnsembleSampler(nwalkers, ndim, \n",
    "                dddm.log_probability_detector, args=(xe_data['bin_centers'],\n",
    "                                                            xe_data['counts'],\n",
    "                                                           ['log_mass',\n",
    "                                                            'log_cross_section', \n",
    "                                                            'v_0',\n",
    "                                                            'v_esc', \n",
    "                                                            'density'])\n",
    "#                                     pool=pool\n",
    "                               )"
   ]
  },
  {
   "cell_type": "code",
   "execution_count": null,
   "metadata": {},
   "outputs": [],
   "source": [
    "sampler.run_mcmc(np.abs(pos), step, progress=False);"
   ]
  },
  {
   "cell_type": "code",
   "execution_count": null,
   "metadata": {},
   "outputs": [],
   "source": [
    "fig, axes = plt.subplots(ndim, figsize=(10, 7), sharex=True)\n",
    "samples = sampler.get_chain()\n",
    "labels = ['mass',\n",
    "                                          'cross_section', \n",
    "                                                            'v_0',\n",
    "                                                            'v_esc', \n",
    "                                                            'density']\n",
    "for i in range(ndim):\n",
    "    ax = axes[i]\n",
    "    ax.plot(samples[:, :, i], \"k\", alpha=0.3)\n",
    "    ax.set_xlim(0, len(samples))\n",
    "    ax.set_ylabel(labels[i])\n",
    "    ax.yaxis.set_label_coords(-0.1, 0.5)\n",
    "\n",
    "axes[-1].set_xlabel(\"step number\");"
   ]
  },
  {
   "cell_type": "code",
   "execution_count": null,
   "metadata": {},
   "outputs": [],
   "source": [
    "flat_samples = sampler.get_chain(discard=int(step*0.2), thin=15, flat=True)\n",
    "print(flat_samples.shape)\n",
    "fig = corner.corner(flat_samples, labels=['log_mass',\n",
    "                                          'log_cross_section', \n",
    "                                                            'v_0',\n",
    "                                                            'v_esc', \n",
    "                                                            'density'], \n",
    "                    truths=[50, 1e-45, 230, 544, 0.3]);"
   ]
  },
  {
   "cell_type": "code",
   "execution_count": null,
   "metadata": {},
   "outputs": [],
   "source": [
    "print(\"Mean acceptance fraction: {0:.3f}\"\n",
    "                .format(np.mean(sampler.acceptance_fraction)))"
   ]
  },
  {
   "cell_type": "code",
   "execution_count": null,
   "metadata": {},
   "outputs": [],
   "source": []
  },
  {
   "cell_type": "markdown",
   "metadata": {},
   "source": [
    "## Ge ##"
   ]
  },
  {
   "cell_type": "code",
   "execution_count": null,
   "metadata": {},
   "outputs": [],
   "source": [
    "ge_events = dddm.DetectorSpectrum(50, 1e-45, use_SHM, dddm.detectors['Ge'])\n",
    "ge_data = ge_events.get_data(poisson = False)\n",
    "ge_data"
   ]
  },
  {
   "cell_type": "code",
   "execution_count": null,
   "metadata": {
    "scrolled": true
   },
   "outputs": [],
   "source": [
    "%%time\n",
    "# from multiprocessing import Pool\n",
    "# with Pool() as pool:\n",
    "nwalkers = 50\n",
    "step = 250\n",
    "pos = np.hstack(\n",
    "    [50   + 3*10 * np.random.rand(nwalkers, 1) ,\n",
    "    1e-45 + 1e-45 * np.random.rand(nwalkers, 1),\n",
    "    230   + 3*30 * np.random.rand(nwalkers, 1),\n",
    "    544   + 3*33 * np.random.rand(nwalkers, 1),\n",
    "    0.4   + 3*0.1 * np.random.rand(nwalkers, 1)   \n",
    "    ])\n",
    "nwalkers, ndim = pos.shape\n",
    "\n",
    "sampler = emcee.EnsembleSampler(nwalkers, ndim, \n",
    "                dddm.log_probability_detector, args=(ge_data['bin_centers'],\n",
    "                                                            ge_data['counts'],\n",
    "                                                           ['log_mass',\n",
    "                                                            'log_cross_section', \n",
    "                                                            'v_0',\n",
    "                                                            'v_esc', \n",
    "                                                            'density'])\n",
    "#                                     pool=pool\n",
    "                               )"
   ]
  },
  {
   "cell_type": "code",
   "execution_count": null,
   "metadata": {},
   "outputs": [],
   "source": [
    "sampler.run_mcmc(np.abs(pos), step, progress=True);"
   ]
  },
  {
   "cell_type": "code",
   "execution_count": null,
   "metadata": {},
   "outputs": [],
   "source": [
    "fig, axes = plt.subplots(ndim, figsize=(10, 7), sharex=True)\n",
    "samples = sampler.get_chain()\n",
    "labels = ['mass',\n",
    "                                          'cross_section', \n",
    "                                                            'v_0',\n",
    "                                                            'v_esc', \n",
    "                                                            'density']\n",
    "for i in range(ndim):\n",
    "    ax = axes[i]\n",
    "    ax.plot(samples[:, :, i], \"k\", alpha=0.3)\n",
    "    ax.set_xlim(0, len(samples))\n",
    "    ax.set_ylabel(labels[i])\n",
    "    ax.yaxis.set_label_coords(-0.1, 0.5)\n",
    "\n",
    "axes[-1].set_xlabel(\"step number\");"
   ]
  },
  {
   "cell_type": "code",
   "execution_count": null,
   "metadata": {},
   "outputs": [],
   "source": [
    "flat_samples = sampler.get_chain(discard=int(step*0.2), thin=15, flat=True)\n",
    "print(flat_samples.shape)\n",
    "fig = corner.corner(flat_samples, labels=['log_mass',\n",
    "                                          'log_cross_section', \n",
    "                                                            'v_0',\n",
    "                                                            'v_esc', \n",
    "                                                            'density'], \n",
    "                    truths=[50, 1e-45, 230, 544, 0.3]);"
   ]
  },
  {
   "cell_type": "code",
   "execution_count": null,
   "metadata": {},
   "outputs": [],
   "source": [
    "print(\"Mean acceptance fraction: {0:.3f}\"\n",
    "                .format(np.mean(sampler.acceptance_fraction)))"
   ]
  },
  {
   "cell_type": "code",
   "execution_count": null,
   "metadata": {},
   "outputs": [],
   "source": []
  },
  {
   "cell_type": "markdown",
   "metadata": {},
   "source": [
    "## Ar ##"
   ]
  },
  {
   "cell_type": "code",
   "execution_count": null,
   "metadata": {},
   "outputs": [],
   "source": [
    "ar_events = dddm.DetectorSpectrum(50, 1e-45, use_SHM, dddm.detectors['Ar'])\n",
    "ar_data = ar_events.get_data(poisson = False)\n",
    "ar_data"
   ]
  },
  {
   "cell_type": "code",
   "execution_count": null,
   "metadata": {
    "scrolled": true
   },
   "outputs": [],
   "source": [
    "%%time\n",
    "# from multiprocessing import Pool\n",
    "# with Pool() as pool:\n",
    "nwalkers = 50\n",
    "step = 250\n",
    "pos = np.hstack(\n",
    "    [50   + 3*10 * np.random.rand(nwalkers, 1) ,\n",
    "    1e-45 + 1e-45 * np.random.rand(nwalkers, 1),\n",
    "    230   + 3*30 * np.random.rand(nwalkers, 1),\n",
    "    544   + 3*33 * np.random.rand(nwalkers, 1),\n",
    "    0.4   + 3*0.1 * np.random.rand(nwalkers, 1)   \n",
    "    ])\n",
    "nwalkers, ndim = pos.shape\n",
    "\n",
    "sampler = emcee.EnsembleSampler(nwalkers, ndim, \n",
    "                dddm.log_probability_detector, args=(ar_data['bin_centers'],\n",
    "                                                            ar_data['counts'],\n",
    "                                                           ['log_mass',\n",
    "                                                            'log_cross_section', \n",
    "                                                            'v_0',\n",
    "                                                            'v_esc', \n",
    "                                                            'density'])\n",
    "#                                     pool=pool\n",
    "                               )"
   ]
  },
  {
   "cell_type": "code",
   "execution_count": null,
   "metadata": {},
   "outputs": [],
   "source": [
    "sampler.run_mcmc(np.abs(pos), step, progress=False);"
   ]
  },
  {
   "cell_type": "code",
   "execution_count": null,
   "metadata": {},
   "outputs": [],
   "source": [
    "fig, axes = plt.subplots(ndim, figsize=(10, 7), sharex=True)\n",
    "samples = sampler.get_chain()\n",
    "labels = ['mass',\n",
    "                                          'cross_section', \n",
    "                                                            'v_0',\n",
    "                                                            'v_esc', \n",
    "                                                            'density']\n",
    "for i in range(ndim):\n",
    "    ax = axes[i]\n",
    "    ax.plot(samples[:, :, i], \"k\", alpha=0.3)\n",
    "    ax.set_xlim(0, len(samples))\n",
    "    ax.set_ylabel(labels[i])\n",
    "    ax.yaxis.set_label_coords(-0.1, 0.5)\n",
    "\n",
    "axes[-1].set_xlabel(\"step number\");"
   ]
  },
  {
   "cell_type": "code",
   "execution_count": null,
   "metadata": {},
   "outputs": [],
   "source": [
    "flat_samples = sampler.get_chain(discard=int(step*0.2), thin=15, flat=True)\n",
    "print(flat_samples.shape)\n",
    "fig = corner.corner(flat_samples, labels=['log_mass',\n",
    "                                          'log_cross_section', \n",
    "                                                            'v_0',\n",
    "                                                            'v_esc', \n",
    "                                                            'density'], \n",
    "                    truths=[50, 1e-45, 230, 544, 0.3]);"
   ]
  },
  {
   "cell_type": "code",
   "execution_count": null,
   "metadata": {},
   "outputs": [],
   "source": [
    "print(\"Mean acceptance fraction: {0:.3f}\"\n",
    "                .format(np.mean(sampler.acceptance_fraction)))"
   ]
  },
  {
   "cell_type": "code",
   "execution_count": null,
   "metadata": {},
   "outputs": [],
   "source": []
  }
 ],
 "metadata": {
  "kernelspec": {
   "display_name": "Python 3",
   "language": "python",
   "name": "python3"
  },
  "language_info": {
   "codemirror_mode": {
    "name": "ipython",
    "version": 3
   },
   "file_extension": ".py",
   "mimetype": "text/x-python",
   "name": "python",
   "nbconvert_exporter": "python",
   "pygments_lexer": "ipython3",
   "version": "3.6.9"
  }
 },
 "nbformat": 4,
 "nbformat_minor": 2
}
