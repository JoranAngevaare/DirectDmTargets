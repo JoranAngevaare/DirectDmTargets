{
 "cells": [
  {
   "cell_type": "code",
   "execution_count": 1,
   "metadata": {},
   "outputs": [
    {
     "name": "stdout",
     "output_type": "stream",
     "text": [
      "calculating effective efficancy for Xe detector done\n",
      "calculating effective efficancy for Ar detector done\n",
      "calculating effective efficancy for Ge detector done\n"
     ]
    }
   ],
   "source": [
    "import DirectDmTargets as dddm"
   ]
  },
  {
   "cell_type": "code",
   "execution_count": 2,
   "metadata": {},
   "outputs": [],
   "source": [
    "import wimprates as wr"
   ]
  },
  {
   "cell_type": "code",
   "execution_count": 3,
   "metadata": {},
   "outputs": [],
   "source": [
    "import numpy as np\n",
    "import matplotlib.pyplot as plt"
   ]
  },
  {
   "cell_type": "code",
   "execution_count": 4,
   "metadata": {},
   "outputs": [],
   "source": [
    "import numericalunits as nu"
   ]
  },
  {
   "cell_type": "code",
   "execution_count": 5,
   "metadata": {},
   "outputs": [],
   "source": [
    "from tqdm import tqdm"
   ]
  },
  {
   "cell_type": "code",
   "execution_count": 6,
   "metadata": {},
   "outputs": [],
   "source": [
    "from scipy.integrate import quad as scipy_int"
   ]
  },
  {
   "cell_type": "code",
   "execution_count": 7,
   "metadata": {},
   "outputs": [],
   "source": [
    "import pandas as pd"
   ]
  },
  {
   "cell_type": "code",
   "execution_count": 8,
   "metadata": {},
   "outputs": [],
   "source": [
    "import scipy"
   ]
  },
  {
   "cell_type": "code",
   "execution_count": 9,
   "metadata": {},
   "outputs": [
    {
     "data": {
      "text/plain": [
       "'3.0.0'"
      ]
     },
     "execution_count": 9,
     "metadata": {},
     "output_type": "execute_result"
    }
   ],
   "source": [
    "import emcee\n",
    "emcee.__version__"
   ]
  },
  {
   "cell_type": "code",
   "execution_count": 10,
   "metadata": {},
   "outputs": [],
   "source": [
    "import corner"
   ]
  },
  {
   "cell_type": "markdown",
   "metadata": {},
   "source": [
    "# Direct detection of Dark matter using different target materials #\n",
    "\n",
    "Author:\n",
    "\n",
    "Joran Angevaare <j.angevaare@nikef.nl>\n",
    "\n",
    "Date:\n",
    "\n",
    "14 october 2019 \n",
    "\n",
    "## Goal ## \n",
    "\n",
    "- Roughly reproduce <https://journals.aps.org/prd/abstract/10.1103/PhysRevD.83.083505>\n",
    "- Update the results thereof with more recent knowledge of the DM-distribution\n",
    "\n",
    "### Approach ###\n",
    "To achieve these goals, we must first get a decent recoil spectrum, that is flexible enough to have different astrophysical parameters. Further, it must also be flexible enough to be able to allow for different analytic functions to be added to the model. For instance, we must be able to incorporate the $\\rm{SHM}^{++}$ as presented here <https://arxiv.org/abs/1810.11468>.\n",
    "\n",
    "When we have a sufficiently flexible model, we want to add in the detector physics, we should therein incorporate at least the following parameters:\n",
    "- target\n",
    "  - material\n",
    "  - cross-section\n",
    "- threshold\n",
    "- background\n",
    "- cut efficiency  \n",
    "- volume\n",
    "- exposure\n",
    "\n",
    "Finally we should perform the inference"
   ]
  },
  {
   "cell_type": "markdown",
   "metadata": {},
   "source": [
    "# Emcee #\n",
    "<https://emcee.readthedocs.io/en/stable/tutorials/quickstart/>"
   ]
  },
  {
   "cell_type": "markdown",
   "metadata": {},
   "source": [
    "## Distribution of the DM ##\n",
    "First we need to make a DM-rate spectrum"
   ]
  },
  {
   "cell_type": "code",
   "execution_count": null,
   "metadata": {},
   "outputs": [
    {
     "name": "stdout",
     "output_type": "stream",
     "text": [
      "stat_model::initialized for Ge detector. See print(stat_model) for default settings\n"
     ]
    },
    {
     "name": "stderr",
     "output_type": "stream",
     "text": [
      "/home/joran/.conda/envs/DD_DM/lib/python3.7/site-packages/emcee/ensemble.py:258: RuntimeWarning: Initial state is not linearly independent and it will not allow a full exploration of parameter space\n",
      "  category=RuntimeWarning,\n",
      "  3%|▎         | 3/100 [00:30<16:36, 10.28s/it]"
     ]
    },
    {
     "name": "stdout",
     "output_type": "stream",
     "text": [
      "finding a negative value for log_mass, returning -np.inf\n"
     ]
    },
    {
     "name": "stderr",
     "output_type": "stream",
     "text": [
      "\r",
      "  4%|▍         | 4/100 [00:40<16:24, 10.26s/it]"
     ]
    },
    {
     "name": "stdout",
     "output_type": "stream",
     "text": [
      "finding a negative value for log_mass, returning -np.inf\n"
     ]
    },
    {
     "name": "stderr",
     "output_type": "stream",
     "text": [
      "\r",
      "  5%|▌         | 5/100 [00:51<16:25, 10.37s/it]"
     ]
    },
    {
     "name": "stdout",
     "output_type": "stream",
     "text": [
      "finding a negative value for log_mass, returning -np.inf\n",
      "finding a negative value for log_cross_section, returning -np.inf\n"
     ]
    },
    {
     "name": "stderr",
     "output_type": "stream",
     "text": [
      "\r",
      "  6%|▌         | 6/100 [00:59<15:10,  9.68s/it]"
     ]
    },
    {
     "name": "stdout",
     "output_type": "stream",
     "text": [
      "finding a negative value for log_mass, returning -np.inf\n"
     ]
    },
    {
     "name": "stderr",
     "output_type": "stream",
     "text": [
      "\r",
      "  7%|▋         | 7/100 [01:08<14:22,  9.27s/it]"
     ]
    },
    {
     "name": "stdout",
     "output_type": "stream",
     "text": [
      "finding a negative value for log_cross_section, returning -np.inf\n",
      "finding a negative value for log_mass, returning -np.inf\n",
      "finding a negative value for log_mass, returning -np.inf\n",
      "finding a negative value for log_mass, returning -np.inf\n"
     ]
    },
    {
     "name": "stderr",
     "output_type": "stream",
     "text": [
      "\r",
      "  8%|▊         | 8/100 [01:16<13:43,  8.95s/it]"
     ]
    },
    {
     "name": "stdout",
     "output_type": "stream",
     "text": [
      "finding a negative value for log_mass, returning -np.inf\n",
      "finding a negative value for log_cross_section, returning -np.inf\n",
      "finding a negative value for log_cross_section, returning -np.inf\n"
     ]
    },
    {
     "name": "stderr",
     "output_type": "stream",
     "text": [
      "\r",
      "  9%|▉         | 9/100 [01:24<13:04,  8.63s/it]"
     ]
    },
    {
     "name": "stdout",
     "output_type": "stream",
     "text": [
      "finding a negative value for log_mass, returning -np.inf\n",
      "finding a negative value for log_cross_section, returning -np.inf\n"
     ]
    },
    {
     "name": "stderr",
     "output_type": "stream",
     "text": [
      "\r",
      " 10%|█         | 10/100 [01:32<12:56,  8.63s/it]"
     ]
    },
    {
     "name": "stdout",
     "output_type": "stream",
     "text": [
      "finding a negative value for log_mass, returning -np.inf\n",
      "finding a negative value for log_mass, returning -np.inf\n",
      "finding a negative value for log_cross_section, returning -np.inf\n"
     ]
    },
    {
     "name": "stderr",
     "output_type": "stream",
     "text": [
      "\r",
      " 11%|█         | 11/100 [01:41<12:53,  8.69s/it]"
     ]
    },
    {
     "name": "stdout",
     "output_type": "stream",
     "text": [
      "finding a negative value for log_mass, returning -np.inf\n",
      "finding a negative value for log_mass, returning -np.inf\n",
      "finding a negative value for log_cross_section, returning -np.inf\n",
      "finding a negative value for log_cross_section, returning -np.inf\n",
      "finding a negative value for log_mass, returning -np.inf\n",
      "finding a negative value for log_cross_section, returning -np.inf\n"
     ]
    },
    {
     "name": "stderr",
     "output_type": "stream",
     "text": [
      "\r",
      " 12%|█▏        | 12/100 [01:51<13:05,  8.93s/it]"
     ]
    },
    {
     "name": "stdout",
     "output_type": "stream",
     "text": [
      "finding a negative value for log_mass, returning -np.inf\n",
      "finding a negative value for log_cross_section, returning -np.inf\n",
      "finding a negative value for log_cross_section, returning -np.inf\n"
     ]
    },
    {
     "name": "stderr",
     "output_type": "stream",
     "text": [
      "\r",
      " 13%|█▎        | 13/100 [02:00<13:00,  8.97s/it]"
     ]
    },
    {
     "name": "stdout",
     "output_type": "stream",
     "text": [
      "finding a negative value for log_mass, returning -np.inf\n",
      "finding a negative value for log_cross_section, returning -np.inf\n"
     ]
    },
    {
     "name": "stderr",
     "output_type": "stream",
     "text": [
      "\r",
      " 14%|█▍        | 14/100 [02:09<12:57,  9.04s/it]"
     ]
    },
    {
     "name": "stdout",
     "output_type": "stream",
     "text": [
      "finding a negative value for log_cross_section, returning -np.inf\n",
      "finding a negative value for log_mass, returning -np.inf\n",
      "finding a negative value for log_mass, returning -np.inf\n",
      "finding a negative value for log_mass, returning -np.inf\n",
      "finding a negative value for log_mass, returning -np.inf\n",
      "finding a negative value for log_mass, returning -np.inf\n",
      "finding a negative value for log_mass, returning -np.inf\n",
      "finding a negative value for log_cross_section, returning -np.inf\n"
     ]
    },
    {
     "name": "stderr",
     "output_type": "stream",
     "text": [
      "\r",
      " 15%|█▌        | 15/100 [02:17<12:25,  8.77s/it]"
     ]
    },
    {
     "name": "stdout",
     "output_type": "stream",
     "text": [
      "finding a negative value for log_mass, returning -np.inf\n",
      "finding a negative value for log_mass, returning -np.inf\n",
      "finding a negative value for log_mass, returning -np.inf\n",
      "finding a negative value for log_cross_section, returning -np.inf\n",
      "finding a negative value for log_cross_section, returning -np.inf\n"
     ]
    },
    {
     "name": "stderr",
     "output_type": "stream",
     "text": [
      "\r",
      " 16%|█▌        | 16/100 [02:25<12:06,  8.65s/it]"
     ]
    },
    {
     "name": "stdout",
     "output_type": "stream",
     "text": [
      "finding a negative value for log_mass, returning -np.inf\n",
      "finding a negative value for log_mass, returning -np.inf\n"
     ]
    },
    {
     "name": "stderr",
     "output_type": "stream",
     "text": [
      "\r",
      " 17%|█▋        | 17/100 [02:35<12:34,  9.09s/it]"
     ]
    },
    {
     "name": "stdout",
     "output_type": "stream",
     "text": [
      "finding a negative value for log_cross_section, returning -np.inf\n",
      "finding a negative value for log_cross_section, returning -np.inf\n"
     ]
    },
    {
     "name": "stderr",
     "output_type": "stream",
     "text": [
      "\r",
      " 18%|█▊        | 18/100 [02:44<12:05,  8.85s/it]"
     ]
    },
    {
     "name": "stdout",
     "output_type": "stream",
     "text": [
      "finding a negative value for log_mass, returning -np.inf\n",
      "finding a negative value for log_mass, returning -np.inf\n",
      "finding a negative value for log_mass, returning -np.inf\n",
      "finding a negative value for log_mass, returning -np.inf\n",
      "finding a negative value for log_cross_section, returning -np.inf\n"
     ]
    },
    {
     "name": "stderr",
     "output_type": "stream",
     "text": [
      "\r",
      " 19%|█▉        | 19/100 [02:52<11:41,  8.66s/it]"
     ]
    },
    {
     "name": "stdout",
     "output_type": "stream",
     "text": [
      "finding a negative value for log_mass, returning -np.inf\n",
      "finding a negative value for log_cross_section, returning -np.inf\n",
      "finding a negative value for log_mass, returning -np.inf\n",
      "finding a negative value for log_cross_section, returning -np.inf\n",
      "finding a negative value for log_cross_section, returning -np.inf\n",
      "finding a negative value for log_mass, returning -np.inf\n",
      "finding a negative value for log_cross_section, returning -np.inf\n"
     ]
    },
    {
     "name": "stderr",
     "output_type": "stream",
     "text": [
      "\r",
      " 20%|██        | 20/100 [03:01<11:44,  8.81s/it]"
     ]
    },
    {
     "name": "stdout",
     "output_type": "stream",
     "text": [
      "finding a negative value for log_mass, returning -np.inf\n",
      "finding a negative value for log_mass, returning -np.inf\n",
      "finding a negative value for log_mass, returning -np.inf\n",
      "finding a negative value for log_mass, returning -np.inf\n"
     ]
    },
    {
     "name": "stderr",
     "output_type": "stream",
     "text": [
      "\r",
      " 21%|██        | 21/100 [03:08<11:00,  8.37s/it]"
     ]
    },
    {
     "name": "stdout",
     "output_type": "stream",
     "text": [
      "finding a negative value for log_mass, returning -np.inf\n",
      "finding a negative value for log_mass, returning -np.inf\n",
      "finding a negative value for log_mass, returning -np.inf\n"
     ]
    },
    {
     "name": "stderr",
     "output_type": "stream",
     "text": [
      "\r",
      " 22%|██▏       | 22/100 [03:17<11:08,  8.57s/it]"
     ]
    },
    {
     "name": "stdout",
     "output_type": "stream",
     "text": [
      "finding a negative value for log_mass, returning -np.inf\n",
      "finding a negative value for log_cross_section, returning -np.inf\n",
      "finding a negative value for log_cross_section, returning -np.inf\n",
      "finding a negative value for log_mass, returning -np.inf\n",
      "finding a negative value for log_mass, returning -np.inf\n",
      "finding a negative value for log_cross_section, returning -np.inf\n",
      "finding a negative value for log_mass, returning -np.inf\n"
     ]
    },
    {
     "name": "stderr",
     "output_type": "stream",
     "text": [
      "\r",
      " 23%|██▎       | 23/100 [03:28<11:37,  9.06s/it]"
     ]
    },
    {
     "name": "stdout",
     "output_type": "stream",
     "text": [
      "finding a negative value for log_mass, returning -np.inf\n",
      "finding a negative value for log_mass, returning -np.inf\n",
      "finding a negative value for log_cross_section, returning -np.inf\n",
      "finding a negative value for log_mass, returning -np.inf\n",
      "finding a negative value for log_cross_section, returning -np.inf\n",
      "finding a negative value for log_mass, returning -np.inf\n"
     ]
    },
    {
     "name": "stderr",
     "output_type": "stream",
     "text": [
      "\r",
      " 24%|██▍       | 24/100 [03:40<12:33,  9.92s/it]"
     ]
    },
    {
     "name": "stdout",
     "output_type": "stream",
     "text": [
      "finding a negative value for log_mass, returning -np.inf\n",
      "finding a negative value for log_mass, returning -np.inf\n",
      "finding a negative value for log_cross_section, returning -np.inf\n",
      "finding a negative value for log_cross_section, returning -np.inf\n"
     ]
    },
    {
     "name": "stderr",
     "output_type": "stream",
     "text": [
      "\r",
      " 25%|██▌       | 25/100 [03:51<12:48, 10.24s/it]"
     ]
    },
    {
     "name": "stdout",
     "output_type": "stream",
     "text": [
      "finding a negative value for log_mass, returning -np.inf\n",
      "finding a negative value for log_mass, returning -np.inf\n",
      "finding a negative value for log_mass, returning -np.inf\n",
      "finding a negative value for log_cross_section, returning -np.inf\n",
      "finding a negative value for log_mass, returning -np.inf\n",
      "finding a negative value for log_cross_section, returning -np.inf\n"
     ]
    },
    {
     "name": "stderr",
     "output_type": "stream",
     "text": [
      "\r",
      " 26%|██▌       | 26/100 [03:59<11:51,  9.61s/it]"
     ]
    },
    {
     "name": "stdout",
     "output_type": "stream",
     "text": [
      "finding a negative value for log_mass, returning -np.inf\n",
      "finding a negative value for log_cross_section, returning -np.inf\n",
      "finding a negative value for log_mass, returning -np.inf\n",
      "finding a negative value for log_mass, returning -np.inf\n",
      "finding a negative value for log_mass, returning -np.inf\n",
      "finding a negative value for log_mass, returning -np.inf\n"
     ]
    },
    {
     "name": "stderr",
     "output_type": "stream",
     "text": [
      "\r",
      " 27%|██▋       | 27/100 [04:07<11:12,  9.21s/it]"
     ]
    },
    {
     "name": "stdout",
     "output_type": "stream",
     "text": [
      "finding a negative value for log_mass, returning -np.inf\n",
      "finding a negative value for log_mass, returning -np.inf\n",
      "finding a negative value for log_mass, returning -np.inf\n",
      "finding a negative value for log_mass, returning -np.inf\n",
      "finding a negative value for log_cross_section, returning -np.inf\n",
      "finding a negative value for log_mass, returning -np.inf\n"
     ]
    },
    {
     "name": "stderr",
     "output_type": "stream",
     "text": [
      "\r",
      " 28%|██▊       | 28/100 [04:15<10:34,  8.82s/it]"
     ]
    },
    {
     "name": "stdout",
     "output_type": "stream",
     "text": [
      "finding a negative value for log_cross_section, returning -np.inf\n",
      "finding a negative value for log_cross_section, returning -np.inf\n",
      "finding a negative value for log_mass, returning -np.inf\n",
      "finding a negative value for log_cross_section, returning -np.inf\n",
      "finding a negative value for log_mass, returning -np.inf\n",
      "finding a negative value for log_mass, returning -np.inf\n"
     ]
    },
    {
     "name": "stderr",
     "output_type": "stream",
     "text": [
      "\r",
      " 29%|██▉       | 29/100 [04:23<10:10,  8.60s/it]"
     ]
    },
    {
     "name": "stdout",
     "output_type": "stream",
     "text": [
      "finding a negative value for log_cross_section, returning -np.inf\n",
      "finding a negative value for log_cross_section, returning -np.inf\n",
      "finding a negative value for log_cross_section, returning -np.inf\n",
      "finding a negative value for log_mass, returning -np.inf\n",
      "finding a negative value for log_mass, returning -np.inf\n",
      "finding a negative value for log_mass, returning -np.inf\n",
      "finding a negative value for log_mass, returning -np.inf\n",
      "finding a negative value for log_mass, returning -np.inf\n"
     ]
    },
    {
     "name": "stderr",
     "output_type": "stream",
     "text": [
      "\r",
      " 30%|███       | 30/100 [04:29<09:15,  7.94s/it]"
     ]
    },
    {
     "name": "stdout",
     "output_type": "stream",
     "text": [
      "finding a negative value for log_mass, returning -np.inf\n",
      "finding a negative value for log_mass, returning -np.inf\n",
      "finding a negative value for log_mass, returning -np.inf\n",
      "finding a negative value for log_mass, returning -np.inf\n",
      "finding a negative value for log_mass, returning -np.inf\n",
      "finding a negative value for log_mass, returning -np.inf\n",
      "finding a negative value for log_cross_section, returning -np.inf\n",
      "finding a negative value for log_mass, returning -np.inf\n"
     ]
    },
    {
     "name": "stderr",
     "output_type": "stream",
     "text": [
      "\r",
      " 31%|███       | 31/100 [04:39<09:51,  8.58s/it]"
     ]
    },
    {
     "name": "stdout",
     "output_type": "stream",
     "text": [
      "finding a negative value for log_mass, returning -np.inf\n",
      "finding a negative value for log_mass, returning -np.inf\n",
      "finding a negative value for log_mass, returning -np.inf\n",
      "finding a negative value for log_cross_section, returning -np.inf\n",
      "finding a negative value for log_mass, returning -np.inf\n",
      "finding a negative value for log_mass, returning -np.inf\n"
     ]
    },
    {
     "name": "stderr",
     "output_type": "stream",
     "text": [
      "\r",
      " 32%|███▏      | 32/100 [04:48<09:49,  8.66s/it]"
     ]
    },
    {
     "name": "stdout",
     "output_type": "stream",
     "text": [
      "finding a negative value for log_cross_section, returning -np.inf\n",
      "finding a negative value for log_mass, returning -np.inf\n",
      "finding a negative value for log_cross_section, returning -np.inf\n",
      "finding a negative value for log_mass, returning -np.inf\n",
      "finding a negative value for log_mass, returning -np.inf\n"
     ]
    },
    {
     "name": "stderr",
     "output_type": "stream",
     "text": [
      " 34%|███▍      | 34/100 [05:08<10:13,  9.29s/it]"
     ]
    },
    {
     "name": "stdout",
     "output_type": "stream",
     "text": [
      "finding a negative value for log_cross_section, returning -np.inf\n",
      "finding a negative value for log_cross_section, returning -np.inf\n",
      "finding a negative value for log_cross_section, returning -np.inf\n"
     ]
    },
    {
     "name": "stderr",
     "output_type": "stream",
     "text": [
      "\r",
      " 35%|███▌      | 35/100 [05:17<09:58,  9.21s/it]"
     ]
    },
    {
     "name": "stdout",
     "output_type": "stream",
     "text": [
      "finding a negative value for log_cross_section, returning -np.inf\n",
      "finding a negative value for log_mass, returning -np.inf\n"
     ]
    },
    {
     "name": "stderr",
     "output_type": "stream",
     "text": [
      "\r",
      " 36%|███▌      | 36/100 [05:27<10:11,  9.55s/it]"
     ]
    },
    {
     "name": "stdout",
     "output_type": "stream",
     "text": [
      "finding a negative value for log_mass, returning -np.inf\n",
      "finding a negative value for log_cross_section, returning -np.inf\n",
      "finding a negative value for log_cross_section, returning -np.inf\n",
      "finding a negative value for log_cross_section, returning -np.inf\n"
     ]
    },
    {
     "name": "stderr",
     "output_type": "stream",
     "text": [
      "\r",
      " 37%|███▋      | 37/100 [05:35<09:36,  9.14s/it]"
     ]
    },
    {
     "name": "stdout",
     "output_type": "stream",
     "text": [
      "finding a negative value for log_mass, returning -np.inf\n",
      "finding a negative value for log_mass, returning -np.inf\n",
      "finding a negative value for log_mass, returning -np.inf\n",
      "finding a negative value for log_mass, returning -np.inf\n"
     ]
    },
    {
     "name": "stderr",
     "output_type": "stream",
     "text": [
      "\r",
      " 38%|███▊      | 38/100 [05:43<09:06,  8.82s/it]"
     ]
    },
    {
     "name": "stdout",
     "output_type": "stream",
     "text": [
      "finding a negative value for log_cross_section, returning -np.inf\n",
      "finding a negative value for log_mass, returning -np.inf\n",
      "finding a negative value for log_mass, returning -np.inf\n",
      "finding a negative value for log_mass, returning -np.inf\n",
      "finding a negative value for log_mass, returning -np.inf\n"
     ]
    },
    {
     "name": "stderr",
     "output_type": "stream",
     "text": [
      "\r",
      " 39%|███▉      | 39/100 [05:51<08:39,  8.51s/it]"
     ]
    },
    {
     "name": "stdout",
     "output_type": "stream",
     "text": [
      "finding a negative value for log_mass, returning -np.inf\n",
      "finding a negative value for log_mass, returning -np.inf\n"
     ]
    },
    {
     "name": "stderr",
     "output_type": "stream",
     "text": [
      "\r",
      " 40%|████      | 40/100 [06:01<08:48,  8.80s/it]"
     ]
    },
    {
     "name": "stdout",
     "output_type": "stream",
     "text": [
      "finding a negative value for log_mass, returning -np.inf\n",
      "finding a negative value for log_mass, returning -np.inf\n",
      "finding a negative value for log_mass, returning -np.inf\n"
     ]
    },
    {
     "name": "stderr",
     "output_type": "stream",
     "text": [
      "\r",
      " 41%|████      | 41/100 [06:12<09:30,  9.67s/it]"
     ]
    },
    {
     "name": "stdout",
     "output_type": "stream",
     "text": [
      "finding a negative value for log_mass, returning -np.inf\n",
      "finding a negative value for log_mass, returning -np.inf\n",
      "finding a negative value for log_mass, returning -np.inf\n",
      "finding a negative value for log_mass, returning -np.inf\n",
      "finding a negative value for log_mass, returning -np.inf\n"
     ]
    },
    {
     "name": "stderr",
     "output_type": "stream",
     "text": [
      "\r",
      " 42%|████▏     | 42/100 [06:20<08:50,  9.14s/it]"
     ]
    },
    {
     "name": "stdout",
     "output_type": "stream",
     "text": [
      "finding a negative value for log_mass, returning -np.inf\n",
      "finding a negative value for log_mass, returning -np.inf\n",
      "finding a negative value for log_mass, returning -np.inf\n",
      "finding a negative value for log_mass, returning -np.inf\n",
      "finding a negative value for log_mass, returning -np.inf\n",
      "finding a negative value for log_cross_section, returning -np.inf\n",
      "finding a negative value for log_mass, returning -np.inf\n"
     ]
    },
    {
     "name": "stderr",
     "output_type": "stream",
     "text": [
      "\r",
      " 43%|████▎     | 43/100 [06:29<08:24,  8.86s/it]"
     ]
    },
    {
     "name": "stdout",
     "output_type": "stream",
     "text": [
      "finding a negative value for log_mass, returning -np.inf\n",
      "finding a negative value for log_mass, returning -np.inf\n",
      "finding a negative value for log_mass, returning -np.inf\n",
      "finding a negative value for log_cross_section, returning -np.inf\n"
     ]
    },
    {
     "name": "stderr",
     "output_type": "stream",
     "text": [
      "\r",
      " 44%|████▍     | 44/100 [06:39<08:42,  9.33s/it]"
     ]
    },
    {
     "name": "stdout",
     "output_type": "stream",
     "text": [
      "finding a negative value for log_mass, returning -np.inf\n",
      "finding a negative value for log_mass, returning -np.inf\n",
      "finding a negative value for log_cross_section, returning -np.inf\n",
      "finding a negative value for log_mass, returning -np.inf\n",
      "finding a negative value for log_cross_section, returning -np.inf\n"
     ]
    },
    {
     "name": "stderr",
     "output_type": "stream",
     "text": [
      "\r",
      " 45%|████▌     | 45/100 [06:47<08:16,  9.03s/it]"
     ]
    },
    {
     "name": "stdout",
     "output_type": "stream",
     "text": [
      "finding a negative value for log_mass, returning -np.inf\n",
      "finding a negative value for log_mass, returning -np.inf\n",
      "finding a negative value for log_cross_section, returning -np.inf\n",
      "finding a negative value for log_cross_section, returning -np.inf\n",
      "finding a negative value for log_mass, returning -np.inf\n",
      "finding a negative value for log_mass, returning -np.inf\n"
     ]
    },
    {
     "name": "stderr",
     "output_type": "stream",
     "text": [
      "\r",
      " 46%|████▌     | 46/100 [06:56<08:06,  9.02s/it]"
     ]
    },
    {
     "name": "stdout",
     "output_type": "stream",
     "text": [
      "finding a negative value for log_mass, returning -np.inf\n",
      "finding a negative value for log_mass, returning -np.inf\n",
      "finding a negative value for log_mass, returning -np.inf\n"
     ]
    },
    {
     "name": "stderr",
     "output_type": "stream",
     "text": [
      "\r",
      " 47%|████▋     | 47/100 [07:05<07:48,  8.84s/it]"
     ]
    },
    {
     "name": "stdout",
     "output_type": "stream",
     "text": [
      "finding a negative value for log_mass, returning -np.inf\n",
      "finding a negative value for log_cross_section, returning -np.inf\n",
      "finding a negative value for log_cross_section, returning -np.inf\n",
      "finding a negative value for log_cross_section, returning -np.inf\n",
      "finding a negative value for log_mass, returning -np.inf\n"
     ]
    },
    {
     "name": "stderr",
     "output_type": "stream",
     "text": [
      "\r",
      " 48%|████▊     | 48/100 [07:13<07:28,  8.63s/it]"
     ]
    },
    {
     "name": "stdout",
     "output_type": "stream",
     "text": [
      "finding a negative value for log_mass, returning -np.inf\n",
      "finding a negative value for log_mass, returning -np.inf\n",
      "finding a negative value for log_mass, returning -np.inf\n",
      "finding a negative value for log_mass, returning -np.inf\n",
      "finding a negative value for log_mass, returning -np.inf\n",
      "finding a negative value for log_mass, returning -np.inf\n",
      "finding a negative value for log_mass, returning -np.inf\n",
      "finding a negative value for log_mass, returning -np.inf\n"
     ]
    },
    {
     "name": "stderr",
     "output_type": "stream",
     "text": [
      "\r",
      " 49%|████▉     | 49/100 [07:21<07:07,  8.39s/it]"
     ]
    },
    {
     "name": "stdout",
     "output_type": "stream",
     "text": [
      "finding a negative value for log_cross_section, returning -np.inf\n",
      "finding a negative value for log_mass, returning -np.inf\n",
      "finding a negative value for log_mass, returning -np.inf\n",
      "finding a negative value for log_mass, returning -np.inf\n",
      "finding a negative value for log_mass, returning -np.inf\n",
      "finding a negative value for log_mass, returning -np.inf\n"
     ]
    },
    {
     "name": "stderr",
     "output_type": "stream",
     "text": [
      "\r",
      " 50%|█████     | 50/100 [07:30<07:14,  8.68s/it]"
     ]
    },
    {
     "name": "stdout",
     "output_type": "stream",
     "text": [
      "finding a negative value for log_mass, returning -np.inf\n",
      "finding a negative value for log_cross_section, returning -np.inf\n",
      "finding a negative value for log_mass, returning -np.inf\n",
      "finding a negative value for log_mass, returning -np.inf\n"
     ]
    }
   ],
   "source": [
    "stats = dddm.MCMCStatModel(\"Ge\")\n",
    "stats.run_emcee()"
   ]
  },
  {
   "cell_type": "code",
   "execution_count": null,
   "metadata": {},
   "outputs": [],
   "source": [
    "stats.show_walkers()"
   ]
  },
  {
   "cell_type": "code",
   "execution_count": null,
   "metadata": {},
   "outputs": [],
   "source": [
    "stats.show_corner()"
   ]
  },
  {
   "cell_type": "code",
   "execution_count": null,
   "metadata": {},
   "outputs": [],
   "source": []
  }
 ],
 "metadata": {
  "kernelspec": {
   "display_name": "Python 3",
   "language": "python",
   "name": "python3"
  },
  "language_info": {
   "codemirror_mode": {
    "name": "ipython",
    "version": 3
   },
   "file_extension": ".py",
   "mimetype": "text/x-python",
   "name": "python",
   "nbconvert_exporter": "python",
   "pygments_lexer": "ipython3",
   "version": "3.7.4"
  }
 },
 "nbformat": 4,
 "nbformat_minor": 2
}
