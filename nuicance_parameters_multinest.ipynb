{
 "cells": [
  {
   "cell_type": "markdown",
   "metadata": {},
   "source": [
    "Using the pymultinest as introduced here:\n",
    "\n",
    "https://mattpitkin.github.io/samplers-demo/pages/samplers-samplers-everywhere/#PyMultiNest\n"
   ]
  },
  {
   "cell_type": "code",
   "execution_count": 1,
   "metadata": {},
   "outputs": [
    {
     "name": "stdout",
     "output_type": "stream",
     "text": [
      "problem: [WinError 126] The specified module could not be found\n"
     ]
    },
    {
     "ename": "SystemExit",
     "evalue": "1",
     "output_type": "error",
     "traceback": [
      "An exception has occurred, use %tb to see the full traceback.\n",
      "\u001b[1;31mSystemExit\u001b[0m\u001b[1;31m:\u001b[0m 1\n"
     ]
    },
    {
     "name": "stderr",
     "output_type": "stream",
     "text": [
      "C:\\Users\\Joran\\Anaconda3\\envs\\DD_DM\\lib\\site-packages\\IPython\\core\\interactiveshell.py:3334: UserWarning: To exit: use 'exit', 'quit', or Ctrl-D.\n",
      "  warn(\"To exit: use 'exit', 'quit', or Ctrl-D.\", stacklevel=1)\n"
     ]
    }
   ],
   "source": [
    "import pymultinest"
   ]
  },
  {
   "cell_type": "code",
   "execution_count": null,
   "metadata": {},
   "outputs": [],
   "source": [
    "import DirectDmTargets as dddm"
   ]
  },
  {
   "cell_type": "code",
   "execution_count": null,
   "metadata": {},
   "outputs": [],
   "source": []
  },
  {
   "cell_type": "code",
   "execution_count": null,
   "metadata": {},
   "outputs": [],
   "source": [
    "import wimprates as wr"
   ]
  },
  {
   "cell_type": "code",
   "execution_count": null,
   "metadata": {},
   "outputs": [],
   "source": [
    "import numpy as np\n",
    "import matplotlib.pyplot as plt"
   ]
  },
  {
   "cell_type": "code",
   "execution_count": null,
   "metadata": {},
   "outputs": [],
   "source": [
    "import numericalunits as nu"
   ]
  },
  {
   "cell_type": "code",
   "execution_count": 2,
   "metadata": {},
   "outputs": [],
   "source": [
    "from tqdm import tqdm"
   ]
  },
  {
   "cell_type": "code",
   "execution_count": 3,
   "metadata": {},
   "outputs": [],
   "source": [
    "from scipy.integrate import quad as scipy_int"
   ]
  },
  {
   "cell_type": "code",
   "execution_count": 4,
   "metadata": {},
   "outputs": [],
   "source": [
    "import pandas as pd"
   ]
  },
  {
   "cell_type": "code",
   "execution_count": 5,
   "metadata": {},
   "outputs": [],
   "source": [
    "import scipy"
   ]
  },
  {
   "cell_type": "code",
   "execution_count": 6,
   "metadata": {},
   "outputs": [],
   "source": [
    "import corner"
   ]
  },
  {
   "cell_type": "code",
   "execution_count": 7,
   "metadata": {},
   "outputs": [],
   "source": [
    "import multiprocessing"
   ]
  },
  {
   "cell_type": "markdown",
   "metadata": {},
   "source": [
    "# Direct detection of Dark matter using different target materials #\n",
    "\n",
    "Author:\n",
    "\n",
    "Joran Angevaare <j.angevaare@nikef.nl>\n",
    "\n",
    "Date:\n",
    "\n",
    "14 october 2019 \n",
    "\n",
    "## Goal ## \n",
    "\n",
    "- Roughly reproduce <https://journals.aps.org/prd/abstract/10.1103/PhysRevD.83.083505>\n",
    "- Update the results thereof with more recent knowledge of the DM-distribution\n",
    "\n",
    "### Approach ###\n",
    "To achieve these goals, we must first get a decent recoil spectrum, that is flexible enough to have different astrophysical parameters. Further, it must also be flexible enough to be able to allow for different analytic functions to be added to the model. For instance, we must be able to incorporate the $\\rm{SHM}^{++}$ as presented here <https://arxiv.org/abs/1810.11468>.\n",
    "\n",
    "When we have a sufficiently flexible model, we want to add in the detector physics, we should therein incorporate at least the following parameters:\n",
    "- target\n",
    "  - material\n",
    "  - cross-section\n",
    "- threshold\n",
    "- background\n",
    "- cut efficiency  \n",
    "- volume\n",
    "- exposure\n",
    "\n",
    "Finally we should perform the inference"
   ]
  },
  {
   "cell_type": "markdown",
   "metadata": {},
   "source": [
    "# Emcee #\n",
    "<https://emcee.readthedocs.io/en/stable/tutorials/quickstart/>"
   ]
  },
  {
   "cell_type": "markdown",
   "metadata": {},
   "source": [
    "## Distribution of the DM ##\n",
    "First we need to make a DM-rate spectrum"
   ]
  },
  {
   "cell_type": "code",
   "execution_count": 8,
   "metadata": {},
   "outputs": [
    {
     "ename": "NameError",
     "evalue": "name 'dddm' is not defined",
     "output_type": "error",
     "traceback": [
      "\u001b[1;31m---------------------------------------------------------------------------\u001b[0m",
      "\u001b[1;31mNameError\u001b[0m                                 Traceback (most recent call last)",
      "\u001b[1;32m<ipython-input-8-70db0a777a1e>\u001b[0m in \u001b[0;36m<module>\u001b[1;34m\u001b[0m\n\u001b[1;32m----> 1\u001b[1;33m \u001b[0muse_SHM\u001b[0m \u001b[1;33m=\u001b[0m \u001b[0mdddm\u001b[0m\u001b[1;33m.\u001b[0m\u001b[0mSHM\u001b[0m\u001b[1;33m(\u001b[0m\u001b[1;33m)\u001b[0m\u001b[1;33m\u001b[0m\u001b[1;33m\u001b[0m\u001b[0m\n\u001b[0m\u001b[0;32m      2\u001b[0m \u001b[0mxe_events\u001b[0m \u001b[1;33m=\u001b[0m \u001b[0mdddm\u001b[0m\u001b[1;33m.\u001b[0m\u001b[0mGenSpectrum\u001b[0m\u001b[1;33m(\u001b[0m\u001b[1;36m50\u001b[0m\u001b[1;33m,\u001b[0m \u001b[1;36m1e-45\u001b[0m\u001b[1;33m,\u001b[0m \u001b[0muse_SHM\u001b[0m\u001b[1;33m,\u001b[0m \u001b[0mdddm\u001b[0m\u001b[1;33m.\u001b[0m\u001b[0mdetectors\u001b[0m\u001b[1;33m[\u001b[0m\u001b[1;34m'Xe'\u001b[0m\u001b[1;33m]\u001b[0m\u001b[1;33m)\u001b[0m\u001b[1;33m\u001b[0m\u001b[1;33m\u001b[0m\u001b[0m\n\u001b[0;32m      3\u001b[0m \u001b[0mxe_data\u001b[0m \u001b[1;33m=\u001b[0m \u001b[0mxe_events\u001b[0m\u001b[1;33m.\u001b[0m\u001b[0mget_data\u001b[0m\u001b[1;33m(\u001b[0m\u001b[0mpoisson\u001b[0m \u001b[1;33m=\u001b[0m \u001b[1;32mTrue\u001b[0m\u001b[1;33m)\u001b[0m\u001b[1;33m\u001b[0m\u001b[1;33m\u001b[0m\u001b[0m\n\u001b[0;32m      4\u001b[0m \u001b[0mxe_data\u001b[0m\u001b[1;33m\u001b[0m\u001b[1;33m\u001b[0m\u001b[0m\n",
      "\u001b[1;31mNameError\u001b[0m: name 'dddm' is not defined"
     ]
    }
   ],
   "source": [
    "use_SHM = dddm.SHM()\n",
    "xe_events = dddm.GenSpectrum(50, 1e-45, use_SHM, dddm.detectors['Xe'])\n",
    "xe_data = xe_events.get_data(poisson = True)\n",
    "xe_data"
   ]
  },
  {
   "cell_type": "code",
   "execution_count": null,
   "metadata": {},
   "outputs": [],
   "source": [
    "# priors = {\n",
    "#     'log_mass':         {'range':[0.1,3],    'prior_type':'flat'},\n",
    "#     'log_cross_secion': {'range':[-10, -6],    'prior_type':'flat'}, \n",
    "#     'density':          {'range':[0.001, 0.9], 'prior_type':'gauss', 'mean':0.4, 'std':0.1} ,\n",
    "#     'v_0':              {'range':[80, 380],    'prior_type':'gauss', 'mean':230, 'std':30}, \n",
    "#     'v_esc':            {'range':[379, 709],   'prior_type':'gauss', 'mean':544, 'std':33}, \n",
    "#     'k':                {'range':[0.5, 3.5],   'prior_type':'flat'} \n",
    "# }\n",
    "\n",
    "# for key in priors.keys():\n",
    "#     param = priors[key]\n",
    "#     if param['prior_type'] == 'flat':\n",
    "#         param['param'] = param['range']\n",
    "#         param['dist'] = lambda x: flat_prior(x)\n",
    "#     elif param['prior_type'] == 'gauss':\n",
    "#         param['param'] = param['mean'], param['std']\n",
    "#         param['dist'] = lambda x: gaus_prior(x)\n",
    "    "
   ]
  },
  {
   "cell_type": "code",
   "execution_count": null,
   "metadata": {
    "scrolled": true
   },
   "outputs": [],
   "source": [
    "# pos = 50 + np.random.randn(32, 1)\n",
    "# nwalkers, ndim = pos.shape\n",
    "\n",
    "# sampler = emcee.EnsembleSampler(nwalkers, ndim, \n",
    "#                 dddm.log_probability, args=(xe_data['bin_centers'],\n",
    "#                                                             xe_data['counts'],\n",
    "#                                                            'log_mass'))\n",
    "# sampler.run_mcmc(pos, 50, progress=True);"
   ]
  },
  {
   "cell_type": "code",
   "execution_count": null,
   "metadata": {},
   "outputs": [],
   "source": [
    "# fig, axes = plt.subplots(3, figsize=(10, 7), sharex=True)\n",
    "# samples = sampler.get_chain()\n",
    "# labels = [\"m\", \"b\", \"log(f)\"]\n",
    "# for i in range(ndim):\n",
    "#     ax = axes[i]\n",
    "#     ax.plot(samples[:, :, i], \"k\", alpha=0.3)\n",
    "#     ax.set_xlim(0, len(samples))\n",
    "#     ax.set_ylabel(labels[i])\n",
    "#     ax.yaxis.set_label_coords(-0.1, 0.5)\n",
    "\n",
    "# axes[-1].set_xlabel(\"step number\");"
   ]
  },
  {
   "cell_type": "code",
   "execution_count": null,
   "metadata": {},
   "outputs": [],
   "source": [
    "# fig = corner.corner(flat_samples, labels=labels, truths=[50, 1e-45]);"
   ]
  },
  {
   "cell_type": "code",
   "execution_count": null,
   "metadata": {},
   "outputs": [],
   "source": [
    "# priors = {'log_cross_secion': {'range': [-46, -42], 'prior_type': 'flat'}}\n",
    "# for key in priors.keys():\n",
    "#     param = priors[key]\n",
    "#     if param['prior_type'] == 'flat':\n",
    "#         param['param'] = param['range']\n",
    "#         param['dist'] = lambda x: flat_prior(x)\n",
    "#     elif param['prior_type'] == 'gauss':\n",
    "#         param['param'] = param['mean'], param['std']\n",
    "#         param['dist'] = lambda x: gaus_prior(x)"
   ]
  },
  {
   "cell_type": "code",
   "execution_count": null,
   "metadata": {},
   "outputs": [],
   "source": [
    "# def log_flat(x, x_name):\n",
    "#     a, b = priors[x_name]['param']\n",
    "#     try:\n",
    "#         if a < x < b:\n",
    "#             return 0\n",
    "#         else:\n",
    "#             return -np.inf\n",
    "#     except ValueError:\n",
    "#         result = np.zeros(len(x))\n",
    "#         mask = (x > a) & (x < b)\n",
    "#         result[~mask] = -np.inf\n",
    "#         return result"
   ]
  },
  {
   "cell_type": "code",
   "execution_count": null,
   "metadata": {},
   "outputs": [],
   "source": [
    "# def log_prior(x, x_name):\n",
    "#     if priors[x_name]['prior_type'] == 'flat':\n",
    "#         if 'log' in x_name:\n",
    "#             return log_flat(np.log10(x), x_name)\n",
    "#         else:\n",
    "#             return log_flat(x, x_name)\n",
    "#     elif priors[x_name]['prior_type'] == 'gauss':\n",
    "#         return log_gauss(x, x_name)\n",
    "#     else:\n",
    "#         raise TypeError(f\"unknown prior type '{priors[x_name]['prior_type']}', choose either gauss or flat\")"
   ]
  },
  {
   "cell_type": "code",
   "execution_count": null,
   "metadata": {},
   "outputs": [],
   "source": [
    "emcee.PTSampler"
   ]
  },
  {
   "cell_type": "code",
   "execution_count": null,
   "metadata": {},
   "outputs": [],
   "source": [
    "!pip install emcee.PTSampler"
   ]
  },
  {
   "cell_type": "code",
   "execution_count": null,
   "metadata": {},
   "outputs": [],
   "source": [
    "xe_events = dddm.GenSpectrum(50, 1e-45, use_SHM, dddm.detectors['Xe'])\n",
    "xe_data = xe_events.get_data(poisson = False)"
   ]
  },
  {
   "cell_type": "code",
   "execution_count": null,
   "metadata": {},
   "outputs": [],
   "source": [
    "from multiprocessing import Pool"
   ]
  },
  {
   "cell_type": "code",
   "execution_count": null,
   "metadata": {},
   "outputs": [],
   "source": [
    "with Pool() as pool:\n",
    "    nwalkers = 100\n",
    "    steps   = 250\n",
    "    pos = np.hstack(\n",
    "        [50 + np.random.randn(nwalkers, 1) ,\n",
    "        1e-45 + 1e-45 * np.random.randn(nwalkers, 1)])\n",
    "    nwalkers, ndim = pos.shape\n",
    "\n",
    "    sampler = emcee.EnsembleSampler(nwalkers, ndim, \n",
    "                    dddm.log_probability, args=(xe_data['bin_centers'],\n",
    "                                                                xe_data['counts'],\n",
    "                                                               ['log_mass', \n",
    "                                                                'log_cross_section']), \n",
    "                                    pool=pool)\n",
    "    sampler.run_mcmc(np.abs(pos), steps, progress=True);"
   ]
  },
  {
   "cell_type": "code",
   "execution_count": null,
   "metadata": {
    "scrolled": true
   },
   "outputs": [],
   "source": [
    "nwalkers = 100\n",
    "steps   = 250\n",
    "pos = np.hstack(\n",
    "    [50 + np.random.randn(nwalkers, 1) ,\n",
    "    1e-45 + 1e-45 * np.random.randn(nwalkers, 1)])\n",
    "nwalkers, ndim = pos.shape\n",
    "\n",
    "sampler = emcee.EnsembleSampler(nwalkers, ndim, \n",
    "                dddm.log_probability, args=(xe_data['bin_centers'],\n",
    "                                                            xe_data['counts'],\n",
    "                                                           ['log_mass', \n",
    "                                                            'log_cross_section']))\n",
    "sampler.run_mcmc(np.abs(pos), steps, progress=True);"
   ]
  },
  {
   "cell_type": "code",
   "execution_count": null,
   "metadata": {},
   "outputs": [],
   "source": [
    "fig, axes = plt.subplots(3, figsize=(10, 7), sharex=True)\n",
    "samples = sampler.get_chain()\n",
    "labels = [\"m\", \"sigma\", \"log(f)\"]\n",
    "for i in range(ndim):\n",
    "    ax = axes[i]\n",
    "    ax.plot(samples[:, :, i], \"k\", alpha=0.3)\n",
    "    ax.set_xlim(0, len(samples))\n",
    "    ax.set_ylabel(labels[i])\n",
    "    ax.yaxis.set_label_coords(-0.1, 0.5)\n",
    "\n",
    "axes[-1].set_xlabel(\"step number\");"
   ]
  },
  {
   "cell_type": "code",
   "execution_count": null,
   "metadata": {},
   "outputs": [],
   "source": [
    "# fig = corner.corner(flat_samples, labels=labels, truths=[50, 1e-45]);"
   ]
  },
  {
   "cell_type": "code",
   "execution_count": null,
   "metadata": {},
   "outputs": [],
   "source": [
    "# tau = sampler.get_autocorr_time()\n",
    "# print(tau)"
   ]
  },
  {
   "cell_type": "code",
   "execution_count": null,
   "metadata": {},
   "outputs": [],
   "source": [
    "flat_samples = sampler.get_chain(discard=int(steps*0.2), thin=15, flat=True)\n",
    "print(flat_samples.shape)"
   ]
  },
  {
   "cell_type": "code",
   "execution_count": null,
   "metadata": {},
   "outputs": [],
   "source": [
    "fig = corner.corner(flat_samples, labels=labels, truths=[50, 1e-45]);"
   ]
  },
  {
   "cell_type": "code",
   "execution_count": null,
   "metadata": {},
   "outputs": [],
   "source": [
    "# samples[:, 2] = np.exp(samples[:, 2])\n",
    "# m_mcmc, b_mcmc, f_mcmc = map(lambda v: (v[1], v[2]-v[1], v[1]-v[0]),\n",
    "#                              zip(*np.percentile(samples, [16, 50, 84],\n",
    "#                                                 axis=0)))"
   ]
  },
  {
   "cell_type": "code",
   "execution_count": null,
   "metadata": {
    "scrolled": true
   },
   "outputs": [],
   "source": [
    "nwalkers = 500\n",
    "step = 1000\n",
    "pos = np.hstack(\n",
    "    [50   + 3*10 * np.random.rand(nwalkers, 1) ,\n",
    "    1e-45 + 1e-45 * np.random.rand(nwalkers, 1),\n",
    "    230   + 3*30 * np.random.rand(nwalkers, 1),\n",
    "    544   + 3*33 * np.random.rand(nwalkers, 1),\n",
    "    0.4   + 3*0.1 * np.random.rand(nwalkers, 1)   \n",
    "    ])\n",
    "nwalkers, ndim = pos.shape\n",
    "\n",
    "sampler = emcee.EnsembleSampler(nwalkers, ndim, \n",
    "                dddm.log_probability, args=(xe_data['bin_centers'],\n",
    "                                                            xe_data['counts'],\n",
    "                                                           ['log_mass',\n",
    "                                                            'log_cross_section', \n",
    "                                                            'v_0',\n",
    "                                                            'v_esc', \n",
    "                                                            'density']))\n",
    "sampler.run_mcmc(np.abs(pos), step, progress=True);"
   ]
  },
  {
   "cell_type": "code",
   "execution_count": null,
   "metadata": {},
   "outputs": [],
   "source": [
    "fig, axes = plt.subplots(ndim, figsize=(10, 7), sharex=True)\n",
    "samples = sampler.get_chain()\n",
    "labels = ['mass',\n",
    "                                          'cross_section', \n",
    "                                                            'v_0',\n",
    "                                                            'v_esc', \n",
    "                                                            'density']\n",
    "for i in range(ndim):\n",
    "    ax = axes[i]\n",
    "    ax.plot(samples[:, :, i], \"k\", alpha=0.3)\n",
    "    ax.set_xlim(0, len(samples))\n",
    "    ax.set_ylabel(labels[i])\n",
    "    ax.yaxis.set_label_coords(-0.1, 0.5)\n",
    "\n",
    "axes[-1].set_xlabel(\"step number\");"
   ]
  },
  {
   "cell_type": "code",
   "execution_count": null,
   "metadata": {},
   "outputs": [],
   "source": [
    "flat_samples = sampler.get_chain(discard=int(step*0.2), thin=15, flat=True)\n",
    "print(flat_samples.shape)\n",
    "fig = corner.corner(flat_samples, labels=['log_mass',\n",
    "                                          'log_cross_section', \n",
    "                                                            'v_0',\n",
    "                                                            'v_esc', \n",
    "                                                            'density'], \n",
    "                    truths=[50, 1e-45, 230, 544, 0.3]);"
   ]
  },
  {
   "cell_type": "code",
   "execution_count": null,
   "metadata": {},
   "outputs": [],
   "source": [
    "samples_emcee = sampler.chain[:, int(step*0.2):, :].reshape((-1, ndim))"
   ]
  },
  {
   "cell_type": "code",
   "execution_count": null,
   "metadata": {},
   "outputs": [],
   "source": [
    "np.shape(samples_emcee[4])"
   ]
  },
  {
   "cell_type": "code",
   "execution_count": null,
   "metadata": {},
   "outputs": [],
   "source": [
    "for i in range(ndim):\n",
    "    this_samp  = samples_emcee[:,i]\n",
    "    print(f\"{labels[i]}\\tmean {np.mean(this_samp)}\\tsig: {np.std(this_samp)}\")"
   ]
  },
  {
   "cell_type": "code",
   "execution_count": null,
   "metadata": {},
   "outputs": [],
   "source": [
    "print(\"Mean acceptance fraction: {0:.3f}\"\n",
    "                .format(np.mean(sampler.acceptance_fraction)))"
   ]
  },
  {
   "cell_type": "code",
   "execution_count": null,
   "metadata": {},
   "outputs": [],
   "source": [
    "dddm.log_probability([7.89827908e+01, 4.55800899e-45, 3.78553277e+02, 1.56688729e+00,\n",
    " 1.08146074e+00],\n",
    "                    xe_data['bin_centers'],\n",
    "                                                            xe_data['counts'],\n",
    "                                                           ['log_mass',\n",
    "                                                            'log_cross_section', \n",
    "                                                            'v_0',\n",
    "                                                            'v_esc', \n",
    "                                                            'density'])"
   ]
  },
  {
   "cell_type": "code",
   "execution_count": null,
   "metadata": {},
   "outputs": [],
   "source": [
    "dddm.log_probability([7.89827908e+01, 4.55800899e-45, 3.78553277e+02, 1.56688729e+00,\n",
    " 1.08146074e+00],\n",
    "                    xe_data['bin_centers'],\n",
    "                                                            xe_data['counts'],\n",
    "                                                           ['log_mass',\n",
    "                                                            'log_cross_section', \n",
    "                                                            'v_0',\n",
    "                                                            'v_esc', \n",
    "                                                            'density'])"
   ]
  },
  {
   "cell_type": "code",
   "execution_count": null,
   "metadata": {},
   "outputs": [],
   "source": [
    "dddm.eval_spectrum([7.89827908e+01, 4.55800899e-45, 3.78553277e+02, 1.56688729e+00,\n",
    " 1.08146074e+00], \n",
    "                                                           ['log_mass',\n",
    "                                                            'log_cross_section', \n",
    "                                                            'v_0',\n",
    "                                                            'v_esc', \n",
    "                                                            'density'])"
   ]
  },
  {
   "cell_type": "code",
   "execution_count": null,
   "metadata": {},
   "outputs": [],
   "source": [
    "1.56688729e+00"
   ]
  },
  {
   "cell_type": "code",
   "execution_count": null,
   "metadata": {},
   "outputs": [],
   "source": []
  }
 ],
 "metadata": {
  "kernelspec": {
   "display_name": "Python 3",
   "language": "python",
   "name": "python3"
  },
  "language_info": {
   "codemirror_mode": {
    "name": "ipython",
    "version": 3
   },
   "file_extension": ".py",
   "mimetype": "text/x-python",
   "name": "python",
   "nbconvert_exporter": "python",
   "pygments_lexer": "ipython3",
   "version": "3.6.9"
  }
 },
 "nbformat": 4,
 "nbformat_minor": 2
}
