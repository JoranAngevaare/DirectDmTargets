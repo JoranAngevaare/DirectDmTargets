{
 "cells": [
  {
   "cell_type": "code",
   "execution_count": 1,
   "metadata": {},
   "outputs": [
    {
     "name": "stdout",
     "output_type": "stream",
     "text": [
      "calculating effective efficiency for Xe detector done\n",
      "calculating effective efficiency for Ar detector done\n",
      "calculating effective efficiency for Ge detector done\n"
     ]
    }
   ],
   "source": [
    "import DirectDmTargets as dddm"
   ]
  },
  {
   "cell_type": "code",
   "execution_count": 2,
   "metadata": {},
   "outputs": [
    {
     "data": {
      "text/plain": [
       "'0.3.1'"
      ]
     },
     "execution_count": 2,
     "metadata": {},
     "output_type": "execute_result"
    }
   ],
   "source": [
    "import wimprates as wr\n",
    "assert wr.__version__ !='0.2.2'\n",
    "wr.__version__"
   ]
  },
  {
   "cell_type": "code",
   "execution_count": 3,
   "metadata": {},
   "outputs": [],
   "source": [
    "import numpy as np\n",
    "import matplotlib.pyplot as plt"
   ]
  },
  {
   "cell_type": "code",
   "execution_count": 4,
   "metadata": {},
   "outputs": [],
   "source": [
    "import numericalunits as nu"
   ]
  },
  {
   "cell_type": "code",
   "execution_count": 5,
   "metadata": {},
   "outputs": [],
   "source": [
    "from tqdm import tqdm"
   ]
  },
  {
   "cell_type": "code",
   "execution_count": 6,
   "metadata": {},
   "outputs": [],
   "source": [
    "from scipy.integrate import quad as scipy_int"
   ]
  },
  {
   "cell_type": "code",
   "execution_count": 7,
   "metadata": {},
   "outputs": [],
   "source": [
    "import pandas as pd"
   ]
  },
  {
   "cell_type": "code",
   "execution_count": 8,
   "metadata": {},
   "outputs": [],
   "source": [
    "import scipy"
   ]
  },
  {
   "cell_type": "code",
   "execution_count": 9,
   "metadata": {},
   "outputs": [
    {
     "data": {
      "text/plain": [
       "'3.0.0'"
      ]
     },
     "execution_count": 9,
     "metadata": {},
     "output_type": "execute_result"
    }
   ],
   "source": [
    "import emcee\n",
    "emcee.__version__"
   ]
  },
  {
   "cell_type": "code",
   "execution_count": 10,
   "metadata": {},
   "outputs": [],
   "source": [
    "import corner"
   ]
  },
  {
   "cell_type": "code",
   "execution_count": 11,
   "metadata": {},
   "outputs": [],
   "source": [
    "import time"
   ]
  },
  {
   "cell_type": "markdown",
   "metadata": {},
   "source": [
    "# Direct detection of Dark matter using different target materials #\n",
    "\n",
    "Author:\n",
    "\n",
    "Joran Angevaare <j.angevaare@nikef.nl>\n",
    "\n",
    "Date:\n",
    "\n",
    "14 october 2019 \n",
    "\n",
    "## Goal ## \n",
    "\n",
    "- Roughly reproduce <https://journals.aps.org/prd/abstract/10.1103/PhysRevD.83.083505>\n",
    "- Update the results thereof with more recent knowledge of the DM-distribution\n",
    "\n",
    "### Approach ###\n",
    "To achieve these goals, we must first get a decent recoil spectrum, that is flexible enough to have different astrophysical parameters. Further, it must also be flexible enough to be able to allow for different analytic functions to be added to the model. For instance, we must be able to incorporate the $\\rm{SHM}^{++}$ as presented here <https://arxiv.org/abs/1810.11468>.\n",
    "\n",
    "When we have a sufficiently flexible model, we want to add in the detector physics, we should therein incorporate at least the following parameters:\n",
    "- target\n",
    "  - material\n",
    "  - cross-section\n",
    "- threshold\n",
    "- background\n",
    "- cut efficiency  \n",
    "- volume\n",
    "- exposure\n",
    "\n",
    "Finally we should perform the inference"
   ]
  },
  {
   "cell_type": "markdown",
   "metadata": {},
   "source": [
    "# Emcee #\n",
    "<https://emcee.readthedocs.io/en/stable/tutorials/quickstart/>"
   ]
  },
  {
   "cell_type": "code",
   "execution_count": null,
   "metadata": {},
   "outputs": [],
   "source": []
  },
  {
   "cell_type": "markdown",
   "metadata": {},
   "source": [
    "## Distribution of the DM ##\n",
    "First we need to make a DM-rate spectrum"
   ]
  },
  {
   "cell_type": "code",
   "execution_count": 12,
   "metadata": {
    "scrolled": false
   },
   "outputs": [
    {
     "name": "stdout",
     "output_type": "stream",
     "text": [
      "stat_model::initialized for Xe detector. See print(stat_model) for default settings\n"
     ]
    }
   ],
   "source": [
    "stats = dddm.MCMCStatModel(\"Xe\")"
   ]
  },
  {
   "cell_type": "code",
   "execution_count": 13,
   "metadata": {},
   "outputs": [
    {
     "data": {
      "text/html": [
       "<div>\n",
       "<style scoped>\n",
       "    .dataframe tbody tr th:only-of-type {\n",
       "        vertical-align: middle;\n",
       "    }\n",
       "\n",
       "    .dataframe tbody tr th {\n",
       "        vertical-align: top;\n",
       "    }\n",
       "\n",
       "    .dataframe thead th {\n",
       "        text-align: right;\n",
       "    }\n",
       "</style>\n",
       "<table border=\"1\" class=\"dataframe\">\n",
       "  <thead>\n",
       "    <tr style=\"text-align: right;\">\n",
       "      <th></th>\n",
       "      <th>counts</th>\n",
       "      <th>bin_centers</th>\n",
       "      <th>bin_left</th>\n",
       "      <th>bin_right</th>\n",
       "    </tr>\n",
       "  </thead>\n",
       "  <tbody>\n",
       "    <tr>\n",
       "      <th>0</th>\n",
       "      <td>72228.280377</td>\n",
       "      <td>5.0</td>\n",
       "      <td>0.0</td>\n",
       "      <td>10.0</td>\n",
       "    </tr>\n",
       "    <tr>\n",
       "      <th>1</th>\n",
       "      <td>546457.387877</td>\n",
       "      <td>15.0</td>\n",
       "      <td>10.0</td>\n",
       "      <td>20.0</td>\n",
       "    </tr>\n",
       "    <tr>\n",
       "      <th>2</th>\n",
       "      <td>220796.506560</td>\n",
       "      <td>25.0</td>\n",
       "      <td>20.0</td>\n",
       "      <td>30.0</td>\n",
       "    </tr>\n",
       "    <tr>\n",
       "      <th>3</th>\n",
       "      <td>73247.849768</td>\n",
       "      <td>35.0</td>\n",
       "      <td>30.0</td>\n",
       "      <td>40.0</td>\n",
       "    </tr>\n",
       "    <tr>\n",
       "      <th>4</th>\n",
       "      <td>22416.372621</td>\n",
       "      <td>45.0</td>\n",
       "      <td>40.0</td>\n",
       "      <td>50.0</td>\n",
       "    </tr>\n",
       "    <tr>\n",
       "      <th>5</th>\n",
       "      <td>6217.373442</td>\n",
       "      <td>55.0</td>\n",
       "      <td>50.0</td>\n",
       "      <td>60.0</td>\n",
       "    </tr>\n",
       "    <tr>\n",
       "      <th>6</th>\n",
       "      <td>1510.135122</td>\n",
       "      <td>65.0</td>\n",
       "      <td>60.0</td>\n",
       "      <td>70.0</td>\n",
       "    </tr>\n",
       "    <tr>\n",
       "      <th>7</th>\n",
       "      <td>300.061243</td>\n",
       "      <td>75.0</td>\n",
       "      <td>70.0</td>\n",
       "      <td>80.0</td>\n",
       "    </tr>\n",
       "    <tr>\n",
       "      <th>8</th>\n",
       "      <td>42.143017</td>\n",
       "      <td>85.0</td>\n",
       "      <td>80.0</td>\n",
       "      <td>90.0</td>\n",
       "    </tr>\n",
       "    <tr>\n",
       "      <th>9</th>\n",
       "      <td>3.193865</td>\n",
       "      <td>95.0</td>\n",
       "      <td>90.0</td>\n",
       "      <td>100.0</td>\n",
       "    </tr>\n",
       "  </tbody>\n",
       "</table>\n",
       "</div>"
      ],
      "text/plain": [
       "          counts  bin_centers  bin_left  bin_right\n",
       "0   72228.280377          5.0       0.0       10.0\n",
       "1  546457.387877         15.0      10.0       20.0\n",
       "2  220796.506560         25.0      20.0       30.0\n",
       "3   73247.849768         35.0      30.0       40.0\n",
       "4   22416.372621         45.0      40.0       50.0\n",
       "5    6217.373442         55.0      50.0       60.0\n",
       "6    1510.135122         65.0      60.0       70.0\n",
       "7     300.061243         75.0      70.0       80.0\n",
       "8      42.143017         85.0      80.0       90.0\n",
       "9       3.193865         95.0      90.0      100.0"
      ]
     },
     "execution_count": 13,
     "metadata": {},
     "output_type": "execute_result"
    }
   ],
   "source": [
    "stats.check_spectrum()"
   ]
  },
  {
   "cell_type": "code",
   "execution_count": 15,
   "metadata": {},
   "outputs": [
    {
     "data": {
      "text/plain": [
       "array([[1.53570068e+02, 7.28210108e-44],\n",
       "       [5.47864504e+01, 1.01723011e-45],\n",
       "       [1.24980375e+02, 1.85669959e-46],\n",
       "       [2.51188643e+02, 1.91923785e-46],\n",
       "       [1.60380505e+00, 4.00642913e-45],\n",
       "       [7.15458079e+00, 6.30702650e-44],\n",
       "       [1.29559808e+02, 8.56594302e-44],\n",
       "       [2.51188643e+02, 6.15602713e-44],\n",
       "       [8.47224632e+01, 4.77157772e-46],\n",
       "       [2.80074448e+00, 3.78739755e-46],\n",
       "       [1.36803292e+00, 1.02556107e-46],\n",
       "       [2.51188643e+02, 1.65889973e-43],\n",
       "       [1.83179616e+00, 5.28861192e-43],\n",
       "       [2.51188643e+02, 6.25234616e-43],\n",
       "       [2.22690769e+02, 1.45622718e-45],\n",
       "       [2.51188643e+02, 3.17507199e-43],\n",
       "       [3.62076260e+00, 1.14755263e-45],\n",
       "       [2.51188643e+02, 2.47837625e-43],\n",
       "       [1.74227092e+01, 1.28539507e-46],\n",
       "       [1.45956632e+01, 8.26562689e-45],\n",
       "       [1.59460694e+02, 1.44281079e-43],\n",
       "       [6.20221053e+01, 6.70949853e-44],\n",
       "       [1.84007220e+00, 3.08476700e-46],\n",
       "       [1.46398449e+00, 2.09475686e-45],\n",
       "       [9.16418932e+01, 6.58766742e-45],\n",
       "       [2.51188643e+02, 1.86302656e-45],\n",
       "       [1.34155217e+02, 1.34664546e-45],\n",
       "       [2.51188643e+02, 5.79224353e-44],\n",
       "       [1.13864479e+02, 4.97905185e-44],\n",
       "       [2.51188643e+02, 6.11678873e-45],\n",
       "       [8.62726948e+01, 2.24669419e-44],\n",
       "       [1.06653835e+02, 1.07315316e-45],\n",
       "       [2.10701738e+00, 1.14616122e-45],\n",
       "       [2.51188643e+02, 2.22993165e-44],\n",
       "       [2.51188643e+02, 2.36758504e-43],\n",
       "       [9.75820599e+01, 2.52784435e-46],\n",
       "       [2.51188643e+02, 9.28520346e-44],\n",
       "       [1.31896627e+02, 8.47925709e-45],\n",
       "       [2.51188643e+02, 2.86607324e-46],\n",
       "       [9.68404677e+01, 5.65071919e-45],\n",
       "       [4.74974352e+01, 2.69133818e-44],\n",
       "       [4.25235317e+00, 1.29786039e-44],\n",
       "       [2.46305795e+00, 1.17347390e-46],\n",
       "       [1.34394876e+00, 2.45401524e-46],\n",
       "       [2.50171213e+01, 3.68961594e-45],\n",
       "       [2.13552401e+01, 1.71344901e-45],\n",
       "       [2.51188643e+02, 6.69891058e-45],\n",
       "       [2.19832569e+00, 7.96049371e-43],\n",
       "       [2.63726672e+01, 3.33647926e-43],\n",
       "       [3.33538727e+01, 1.67478117e-44]])"
      ]
     },
     "execution_count": 15,
     "metadata": {},
     "output_type": "execute_result"
    }
   ],
   "source": [
    "stats.set_pos()"
   ]
  },
  {
   "cell_type": "code",
   "execution_count": 16,
   "metadata": {},
   "outputs": [
    {
     "name": "stderr",
     "output_type": "stream",
     "text": [
      "C:\\Users\\Joran\\programming\\Anaconda3\\envs\\DD_DM\\lib\\site-packages\\emcee\\ensemble.py:258: RuntimeWarning: Initial state is not linearly independent and it will not allow a full exploration of parameter space\n",
      "  category=RuntimeWarning,\n",
      "  0%|                                                                   | 0/100 [00:00<?, ?it/s]C:\\Users\\Joran\\Google Drive\\PhD-master\\ubuntu-storage\\windows-anaconda\\DD_DM_targets\\DirectDmTargets\\statistics.py:150: RuntimeWarning: invalid value encountered in log10\n",
      "  x = np.log10(x)\n",
      "100%|█████████████████████████████████████████████████████████| 100/100 [13:00<00:00,  7.81s/it]\n"
     ]
    }
   ],
   "source": [
    "start = time.time()\n",
    "stats.run_emcee()\n",
    "end = time.time()"
   ]
  },
  {
   "cell_type": "code",
   "execution_count": 17,
   "metadata": {},
   "outputs": [
    {
     "data": {
      "text/plain": [
       "789.1094441413879"
      ]
     },
     "execution_count": 17,
     "metadata": {},
     "output_type": "execute_result"
    }
   ],
   "source": [
    "end-start"
   ]
  },
  {
   "cell_type": "code",
   "execution_count": 18,
   "metadata": {},
   "outputs": [
    {
     "name": "stdout",
     "output_type": "stream",
     "text": [
      "save_results::\tusing results/test0/\n",
      "save_results::\tremoving results/test0/config.json\n",
      "save_results::\tremoving results/test0/config.npy\n",
      "save_results::\tremoving results/test0/flat_chain.npy\n",
      "save_results::\tremoving results/test0/full_chain.npy\n",
      "save_results::\tdone_saving\n"
     ]
    }
   ],
   "source": [
    "stats.save_results(0)"
   ]
  },
  {
   "cell_type": "code",
   "execution_count": 19,
   "metadata": {},
   "outputs": [
    {
     "data": {
      "text/plain": [
       "1.9522222222222223"
      ]
     },
     "execution_count": 19,
     "metadata": {},
     "output_type": "execute_result"
    }
   ],
   "source": [
    "7028/3600"
   ]
  },
  {
   "cell_type": "code",
   "execution_count": 20,
   "metadata": {},
   "outputs": [],
   "source": [
    "assert stats.log['did_run']"
   ]
  },
  {
   "cell_type": "code",
   "execution_count": 21,
   "metadata": {},
   "outputs": [
    {
     "data": {
      "image/png": "[encoded data removed]",
      "text/plain": [
       "<Figure size 720x504 with 2 Axes>"
      ]
     },
     "metadata": {
      "needs_background": "light"
     },
     "output_type": "display_data"
    }
   ],
   "source": [
    "stats.show_walkers()"
   ]
  },
  {
   "cell_type": "code",
   "execution_count": 22,
   "metadata": {},
   "outputs": [
    {
     "name": "stdout",
     "output_type": "stream",
     "text": [
      "failed\n"
     ]
    }
   ],
   "source": [
    "try:\n",
    "    stats_full.show_corner()\n",
    "except:\n",
    "    print(\"failed\")"
   ]
  },
  {
   "cell_type": "markdown",
   "metadata": {},
   "source": [
    "## Full dimensionality ##"
   ]
  },
  {
   "cell_type": "code",
   "execution_count": 23,
   "metadata": {},
   "outputs": [
    {
     "name": "stdout",
     "output_type": "stream",
     "text": [
      "stat_model::initialized for Xe detector. See print(stat_model) for default settings\n"
     ]
    }
   ],
   "source": [
    "stats_full = dddm.MCMCStatModel(\"Xe\")"
   ]
  },
  {
   "cell_type": "code",
   "execution_count": 24,
   "metadata": {},
   "outputs": [
    {
     "data": {
      "text/plain": [
       "{'sampler': False, 'did_run': False, 'pos': False}"
      ]
     },
     "execution_count": 24,
     "metadata": {},
     "output_type": "execute_result"
    }
   ],
   "source": [
    "stats_full.log"
   ]
  },
  {
   "cell_type": "code",
   "execution_count": 25,
   "metadata": {},
   "outputs": [],
   "source": [
    "# for key in stats_full.log.keys():\n",
    "#     stats_full.log[key] = False\n"
   ]
  },
  {
   "cell_type": "code",
   "execution_count": 26,
   "metadata": {},
   "outputs": [
    {
     "data": {
      "text/plain": [
       "{'sampler': False, 'did_run': False, 'pos': False}"
      ]
     },
     "execution_count": 26,
     "metadata": {},
     "output_type": "execute_result"
    }
   ],
   "source": [
    "stats_full.nwalkers = stats.nwalkers * 5\n",
    "stats_full.nsteps = stats.nsteps * 2\n",
    "stats_full.log"
   ]
  },
  {
   "cell_type": "code",
   "execution_count": 27,
   "metadata": {},
   "outputs": [],
   "source": [
    "stats_full.fit_parameters = stats_full.known_parameters"
   ]
  },
  {
   "cell_type": "code",
   "execution_count": 28,
   "metadata": {},
   "outputs": [
    {
     "data": {
      "text/html": [
       "<div>\n",
       "<style scoped>\n",
       "    .dataframe tbody tr th:only-of-type {\n",
       "        vertical-align: middle;\n",
       "    }\n",
       "\n",
       "    .dataframe tbody tr th {\n",
       "        vertical-align: top;\n",
       "    }\n",
       "\n",
       "    .dataframe thead th {\n",
       "        text-align: right;\n",
       "    }\n",
       "</style>\n",
       "<table border=\"1\" class=\"dataframe\">\n",
       "  <thead>\n",
       "    <tr style=\"text-align: right;\">\n",
       "      <th></th>\n",
       "      <th>counts</th>\n",
       "      <th>bin_centers</th>\n",
       "      <th>bin_left</th>\n",
       "      <th>bin_right</th>\n",
       "    </tr>\n",
       "  </thead>\n",
       "  <tbody>\n",
       "    <tr>\n",
       "      <th>0</th>\n",
       "      <td>72228.280377</td>\n",
       "      <td>5.0</td>\n",
       "      <td>0.0</td>\n",
       "      <td>10.0</td>\n",
       "    </tr>\n",
       "    <tr>\n",
       "      <th>1</th>\n",
       "      <td>546457.387877</td>\n",
       "      <td>15.0</td>\n",
       "      <td>10.0</td>\n",
       "      <td>20.0</td>\n",
       "    </tr>\n",
       "    <tr>\n",
       "      <th>2</th>\n",
       "      <td>220796.506560</td>\n",
       "      <td>25.0</td>\n",
       "      <td>20.0</td>\n",
       "      <td>30.0</td>\n",
       "    </tr>\n",
       "    <tr>\n",
       "      <th>3</th>\n",
       "      <td>73247.849768</td>\n",
       "      <td>35.0</td>\n",
       "      <td>30.0</td>\n",
       "      <td>40.0</td>\n",
       "    </tr>\n",
       "    <tr>\n",
       "      <th>4</th>\n",
       "      <td>22416.372621</td>\n",
       "      <td>45.0</td>\n",
       "      <td>40.0</td>\n",
       "      <td>50.0</td>\n",
       "    </tr>\n",
       "    <tr>\n",
       "      <th>5</th>\n",
       "      <td>6217.373442</td>\n",
       "      <td>55.0</td>\n",
       "      <td>50.0</td>\n",
       "      <td>60.0</td>\n",
       "    </tr>\n",
       "    <tr>\n",
       "      <th>6</th>\n",
       "      <td>1510.135122</td>\n",
       "      <td>65.0</td>\n",
       "      <td>60.0</td>\n",
       "      <td>70.0</td>\n",
       "    </tr>\n",
       "    <tr>\n",
       "      <th>7</th>\n",
       "      <td>300.061243</td>\n",
       "      <td>75.0</td>\n",
       "      <td>70.0</td>\n",
       "      <td>80.0</td>\n",
       "    </tr>\n",
       "    <tr>\n",
       "      <th>8</th>\n",
       "      <td>42.143017</td>\n",
       "      <td>85.0</td>\n",
       "      <td>80.0</td>\n",
       "      <td>90.0</td>\n",
       "    </tr>\n",
       "    <tr>\n",
       "      <th>9</th>\n",
       "      <td>3.193865</td>\n",
       "      <td>95.0</td>\n",
       "      <td>90.0</td>\n",
       "      <td>100.0</td>\n",
       "    </tr>\n",
       "  </tbody>\n",
       "</table>\n",
       "</div>"
      ],
      "text/plain": [
       "          counts  bin_centers  bin_left  bin_right\n",
       "0   72228.280377          5.0       0.0       10.0\n",
       "1  546457.387877         15.0      10.0       20.0\n",
       "2  220796.506560         25.0      20.0       30.0\n",
       "3   73247.849768         35.0      30.0       40.0\n",
       "4   22416.372621         45.0      40.0       50.0\n",
       "5    6217.373442         55.0      50.0       60.0\n",
       "6    1510.135122         65.0      60.0       70.0\n",
       "7     300.061243         75.0      70.0       80.0\n",
       "8      42.143017         85.0      80.0       90.0\n",
       "9       3.193865         95.0      90.0      100.0"
      ]
     },
     "execution_count": 28,
     "metadata": {},
     "output_type": "execute_result"
    }
   ],
   "source": [
    "stats_full.check_spectrum()"
   ]
  },
  {
   "cell_type": "code",
   "execution_count": null,
   "metadata": {},
   "outputs": [
    {
     "name": "stderr",
     "output_type": "stream",
     "text": [
      "C:\\Users\\Joran\\programming\\Anaconda3\\envs\\DD_DM\\lib\\site-packages\\emcee\\ensemble.py:258: RuntimeWarning: Initial state is not linearly independent and it will not allow a full exploration of parameter space\n",
      "  category=RuntimeWarning,\n",
      " 30%|████████████████▊                                       | 60/200 [27:49<1:09:13, 29.67s/it]"
     ]
    }
   ],
   "source": [
    "start = time.time()\n",
    "stats_full.run_emcee()\n",
    "end = time.time()"
   ]
  },
  {
   "cell_type": "code",
   "execution_count": null,
   "metadata": {},
   "outputs": [],
   "source": [
    "end-start"
   ]
  },
  {
   "cell_type": "code",
   "execution_count": null,
   "metadata": {},
   "outputs": [],
   "source": [
    "9170.64813709259/3600"
   ]
  },
  {
   "cell_type": "code",
   "execution_count": null,
   "metadata": {},
   "outputs": [],
   "source": [
    "assert stats_full.log['did_run']"
   ]
  },
  {
   "cell_type": "code",
   "execution_count": null,
   "metadata": {},
   "outputs": [],
   "source": [
    "stats_full.show_walkers()"
   ]
  },
  {
   "cell_type": "code",
   "execution_count": null,
   "metadata": {},
   "outputs": [],
   "source": [
    "try:\n",
    "    stats_full.show_corner()\n",
    "except:\n",
    "    print(\"failed\")"
   ]
  },
  {
   "cell_type": "code",
   "execution_count": null,
   "metadata": {},
   "outputs": [],
   "source": [
    "corner.corner(\n",
    "    stats_full.sampler.get_chain(\n",
    "        flat=True,\n",
    "        thin = 50,\n",
    "        discard=int(stats_full.nsteps * 0.2)\n",
    "    ),\n",
    "              labels=stats_full.fit_parameters);"
   ]
  },
  {
   "cell_type": "code",
   "execution_count": null,
   "metadata": {},
   "outputs": [],
   "source": []
  }
 ],
 "metadata": {
  "kernelspec": {
   "display_name": "Python 3",
   "language": "python",
   "name": "python3"
  },
  "language_info": {
   "codemirror_mode": {
    "name": "ipython",
    "version": 3
   },
   "file_extension": ".py",
   "mimetype": "text/x-python",
   "name": "python",
   "nbconvert_exporter": "python",
   "pygments_lexer": "ipython3",
   "version": "3.7.4"
  }
 },
 "nbformat": 4,
 "nbformat_minor": 2
}
