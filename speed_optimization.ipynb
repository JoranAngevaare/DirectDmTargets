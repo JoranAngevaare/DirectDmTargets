{
 "cells": [
  {
   "cell_type": "code",
   "execution_count": 1,
   "metadata": {},
   "outputs": [
    {
     "name": "stdout",
     "output_type": "stream",
     "text": [
      "calculating effective efficancy for Xe detector done\n",
      "calculating effective efficancy for Ar detector done\n",
      "calculating effective efficancy for Ge detector done\n"
     ]
    }
   ],
   "source": [
    "import DirectDmTargets as dddm"
   ]
  },
  {
   "cell_type": "code",
   "execution_count": 2,
   "metadata": {},
   "outputs": [],
   "source": [
    "import wimprates as wr"
   ]
  },
  {
   "cell_type": "code",
   "execution_count": 3,
   "metadata": {},
   "outputs": [],
   "source": [
    "import numpy as np\n",
    "import matplotlib.pyplot as plt"
   ]
  },
  {
   "cell_type": "code",
   "execution_count": 4,
   "metadata": {},
   "outputs": [],
   "source": [
    "import numericalunits as nu"
   ]
  },
  {
   "cell_type": "code",
   "execution_count": 5,
   "metadata": {},
   "outputs": [],
   "source": [
    "from tqdm import tqdm"
   ]
  },
  {
   "cell_type": "code",
   "execution_count": 6,
   "metadata": {},
   "outputs": [],
   "source": [
    "from scipy.integrate import quad as scipy_int"
   ]
  },
  {
   "cell_type": "markdown",
   "metadata": {},
   "source": [
    "# Direct detection of Dark matter using different target materials #\n",
    "\n",
    "Author:\n",
    "\n",
    "Joran Angevaare <j.angevaare@nikef.nl>\n",
    "\n",
    "Date:\n",
    "\n",
    "14 october 2019 \n",
    "\n",
    "## Goal ## \n",
    "\n",
    "- Roughly reproduce <https://journals.aps.org/prd/abstract/10.1103/PhysRevD.83.083505>\n",
    "- Update the results thereof with more recent knowledge of the DM-distribution\n",
    "\n",
    "### Approach ###\n",
    "To achieve these goals, we must first get a decent recoil spectrum, that is flexible enough to have different astrophysical parameters. Further, it must also be flexible enough to be able to allow for different analytic functions to be added to the model. For instance, we must be able to incorporate the $\\rm{SHM}^{++}$ as presented here <https://arxiv.org/abs/1810.11468>.\n",
    "\n",
    "When we have a sufficiently flexible model, we want to add in the detector physics, we should therein incorporate at least the following parameters:\n",
    "- target\n",
    "  - material\n",
    "  - cross-section\n",
    "- threshold\n",
    "- background\n",
    "- cut efficiency  \n",
    "- volume\n",
    "- exposure\n",
    "\n",
    "Finally we should perform the inference"
   ]
  },
  {
   "cell_type": "code",
   "execution_count": 61,
   "metadata": {},
   "outputs": [
    {
     "name": "stdout",
     "output_type": "stream",
     "text": [
      "<class 'DirectDmTargets.detector.DetectorSpectrum'>\n"
     ]
    }
   ],
   "source": [
    "dddm.detectors['Xe']['res'](1)"
   ]
  },
  {
   "cell_type": "markdown",
   "metadata": {},
   "source": [
    "## Detector smearing"
   ]
  },
  {
   "cell_type": "markdown",
   "metadata": {},
   "source": [
    "## Distribution of the DM ##\n",
    "First we need to make a DM-rate spectrum"
   ]
  },
  {
   "cell_type": "code",
   "execution_count": 8,
   "metadata": {},
   "outputs": [],
   "source": [
    "use_SHM = dddm.SHM()"
   ]
  },
  {
   "cell_type": "code",
   "execution_count": 9,
   "metadata": {},
   "outputs": [],
   "source": [
    "def plot_spectrum(data, color = 'blue', label = 'label'):\n",
    "    plt.errorbar(data['bin_centers'], data['counts'], \n",
    "                xerr=(data['bin_left'] - data['bin_right'])/2,\n",
    "                yerr = np.sqrt(data['counts']),\n",
    "                color = color,\n",
    "                linestyle = 'none',\n",
    "                capsize = 2,\n",
    "                marker = 'o',\n",
    "                label = label\n",
    "                )"
   ]
  },
  {
   "cell_type": "code",
   "execution_count": 17,
   "metadata": {},
   "outputs": [
    {
     "name": "stdout",
     "output_type": "stream",
     "text": [
      "Wall time: 9.97 ms\n"
     ]
    },
    {
     "data": {
      "text/plain": [
       "10"
      ]
     },
     "execution_count": 17,
     "metadata": {},
     "output_type": "execute_result"
    }
   ],
   "source": [
    "%%time\n",
    "xe_events = dddm.GenSpectrum(50, 1e-45, use_SHM, dddm.detectors['Xe'])\n",
    "xe_events.n_bins = 10\n",
    "xe_galact = xe_events.get_data(poisson = False)\n",
    "xe_events.n_bins"
   ]
  },
  {
   "cell_type": "code",
   "execution_count": 18,
   "metadata": {
    "scrolled": true
   },
   "outputs": [
    {
     "name": "stdout",
     "output_type": "stream",
     "text": [
      "Wall time: 753 ms\n"
     ]
    }
   ],
   "source": [
    "%%time\n",
    "xe_events = dddm.DetectorSpectrum(50, 1e-45, use_SHM, dddm.detectors['Xe'])\n",
    "xe_events.n_bins = 10\n",
    "\n",
    "xe_det = xe_events.get_data(poisson = False)"
   ]
  },
  {
   "cell_type": "code",
   "execution_count": 19,
   "metadata": {},
   "outputs": [
    {
     "data": {
      "text/plain": [
       "<matplotlib.legend.Legend at 0x276f8f18400>"
      ]
     },
     "execution_count": 19,
     "metadata": {},
     "output_type": "execute_result"
    },
    {
     "data": {
      "image/png": "[encoded data removed]",
      "text/plain": [
       "<Figure size 432x288 with 1 Axes>"
      ]
     },
     "metadata": {
      "needs_background": "light"
     },
     "output_type": "display_data"
    }
   ],
   "source": [
    "plot_spectrum(xe_galact, label = 'un-smeared')\n",
    "plot_spectrum(xe_det, 'red', label = 'det-resolution')\n",
    "# plt.yscale(\"log\")\n",
    "plt.legend()"
   ]
  },
  {
   "cell_type": "code",
   "execution_count": 20,
   "metadata": {},
   "outputs": [],
   "source": [
    "from __future__ import print_function\n",
    "from IPython.core import page\n",
    "page.page = print"
   ]
  },
  {
   "cell_type": "code",
   "execution_count": 21,
   "metadata": {},
   "outputs": [],
   "source": [
    "%load_ext line_profiler"
   ]
  },
  {
   "cell_type": "code",
   "execution_count": 48,
   "metadata": {},
   "outputs": [],
   "source": [
    "test_class = dddm.DetectorSpectrum(50, 1e-45, use_SHM, dddm.detectors['Xe'])\n",
    "test_class.n_bins = 3\n",
    "test_class.n_bins_result = 15"
   ]
  },
  {
   "cell_type": "code",
   "execution_count": 49,
   "metadata": {},
   "outputs": [
    {
     "name": "stdout",
     "output_type": "stream",
     "text": [
      "Timer unit: 1e-07 s\n",
      "\n",
      "Total time: 0.369927 s\n",
      "File: D:\\Google Drive\\PhD-master\\ubuntu-storage\\windows-anaconda\\DD_DM_targets\\DirectDmTargets\\detector.py\n",
      "Function: get_data at line 218\n",
      "\n",
      "Line #      Hits         Time  Per Hit   % Time  Line Contents\n",
      "==============================================================\n",
      "   218                                               def get_data(self, poisson=True):\n",
      "   219                                                   \"\"\"\n",
      "   220                                           \n",
      "   221                                                   :param poisson: type bool, add poisson True or False\n",
      "   222                                                   :return: pd.DataFrame containing events binned in energy\n",
      "   223                                                   \"\"\"\n",
      "   224         1       7726.0   7726.0      0.2          result = pd.DataFrame()\n",
      "   225         1         11.0     11.0      0.0          if poisson:\n",
      "   226                                                       result['counts'] = self.get_poisson_events()\n",
      "   227                                                   else:\n",
      "   228         1    3666898.0 3666898.0     99.1              result['counts'] = self.get_events()\n",
      "   229         1       4359.0   4359.0      0.1          bins = get_bins(self.E_min, self.E_max, self.n_bins_result)\n",
      "   230         1       7234.0   7234.0      0.2          result['bin_centers'] = np.mean(bins, axis=1)\n",
      "   231         1       6538.0   6538.0      0.2          result['bin_left'] = bins[:, 0]\n",
      "   232         1       6498.0   6498.0      0.2          result['bin_right'] = bins[:, 1]\n",
      "   233         1          8.0      8.0      0.0          return result\n"
     ]
    }
   ],
   "source": [
    "test = test_class.get_data\n",
    "%lprun -f test test(poisson = False)"
   ]
  },
  {
   "cell_type": "code",
   "execution_count": 50,
   "metadata": {},
   "outputs": [
    {
     "name": "stdout",
     "output_type": "stream",
     "text": [
      "Timer unit: 1e-07 s\n",
      "\n",
      "Total time: 48.8824 s\n",
      "File: D:\\Google Drive\\PhD-master\\ubuntu-storage\\windows-anaconda\\DD_DM_targets\\DirectDmTargets\\detector.py\n",
      "Function: get_events at line 205\n",
      "\n",
      "Line #      Hits         Time  Per Hit   % Time  Line Contents\n",
      "==============================================================\n",
      "   205                                               def get_events(self):\n",
      "   206                                                   \"\"\"\n",
      "   207                                                   :return: Events (binned)\n",
      "   208                                                   \"\"\"\n",
      "   209         1  488823706.0 488823706.0    100.0          return self.compute_detected_spectrum()\n"
     ]
    }
   ],
   "source": [
    "test = test_class.get_events\n",
    "%lprun -f test test()"
   ]
  },
  {
   "cell_type": "code",
   "execution_count": 51,
   "metadata": {},
   "outputs": [
    {
     "name": "stdout",
     "output_type": "stream",
     "text": [
      "Timer unit: 1e-07 s\n",
      "\n",
      "Total time: 1.21853 s\n",
      "File: D:\\Google Drive\\PhD-master\\ubuntu-storage\\windows-anaconda\\DD_DM_targets\\DirectDmTargets\\detector.py\n",
      "Function: compute_detected_spectrum at line 186\n",
      "\n",
      "Line #      Hits         Time  Per Hit   % Time  Line Contents\n",
      "==============================================================\n",
      "   186                                               def compute_detected_spectrum(self):\n",
      "   187                                                   # assert self.n_bins / self.n_bins_result > 5, \"binning to course for numerical integration\"\n",
      "   188                                           \n",
      "   189         1         21.0     21.0      0.0          self.n_bins_result = self.n_bins\n",
      "   190         1         11.0     11.0      0.0          self.n_bins = self.n_bins * 100\n",
      "   191         1   12034801.0 12034801.0     98.8          rates = self.spectrum_simple([self.mw, self.sigma_nucleon])\n",
      "   192         1       8669.0   8669.0      0.1          energies = self.get_bin_centers()\n",
      "   193         1        180.0    180.0      0.0          rates = self.above_threshold(rates, energies)\n",
      "   194         1       6655.0   6655.0      0.1          result_bins = get_bins(self.E_min, self.E_max, self.n_bins_result)\n",
      "   195                                                   # events = self.chuck_integration(rates, energies, result_bins) * self.detector['exp_eff']\n",
      "   196                                                   # print(energies)\n",
      "   197                                                   # events = smear_signal(rates, energies, self.detector['res'])\n",
      "   198                                           \n",
      "   199         1        188.0    188.0      0.0          sigma = self.detector['res'](energies)\n",
      "   200         1        638.0    638.0      0.0          bin_width = np.mean(np.diff(energies))\n",
      "   201         1     127526.0 127526.0      1.0          events = np.array(smear_signal(rates, energies, sigma, bin_width))\n",
      "   202         1       6619.0   6619.0      0.1          events = self.chuck_integration(events, energies, result_bins)\n",
      "   203         1         41.0     41.0      0.0          return events * self.detector['exp_eff']\n"
     ]
    }
   ],
   "source": [
    "test = test_class.compute_detected_spectrum\n",
    "test_class.n_bins = 10\n",
    "test_class.n_bins_result = 100\n",
    "%lprun -f test test()"
   ]
  },
  {
   "cell_type": "code",
   "execution_count": 52,
   "metadata": {},
   "outputs": [
    {
     "name": "stdout",
     "output_type": "stream",
     "text": [
      "Timer unit: 1e-07 s\n",
      "\n",
      "Total time: 0.0128628 s\n",
      "File: D:\\Google Drive\\PhD-master\\ubuntu-storage\\windows-anaconda\\DD_DM_targets\\DirectDmTargets\\halo.py\n",
      "Function: spectrum_simple at line 89\n",
      "\n",
      "Line #      Hits         Time  Per Hit   % Time  Line Contents\n",
      "==============================================================\n",
      "    89                                               def spectrum_simple(self, benchmark):\n",
      "    90                                                   \"\"\"\n",
      "    91                                                   :param benchmark: insert the kind of DM to consider (should contain Mass and Crossection)\n",
      "    92                                                   :return: returns the rate\n",
      "    93                                                   \"\"\"\n",
      "    94         1         17.0     17.0      0.0          if (not type(benchmark) == dict) or (not type(benchmark) == pd.DataFrame):\n",
      "    95         1          6.0      6.0      0.0              benchmark = {'mw': benchmark[0],\n",
      "    96         1          7.0      7.0      0.0                           'sigma_nucleon': benchmark[1]}\n",
      "    97                                           \n",
      "    98                                                   # Not normalized\n",
      "    99         1       5484.0   5484.0      4.3          rate = wr.rate_wimp_std(self.get_bin_centers(),\n",
      "   100         1         10.0     10.0      0.0                                  benchmark[\"mw\"],\n",
      "   101         1          3.0      3.0      0.0                                  benchmark[\"sigma_nucleon\"],\n",
      "   102         1     123090.0 123090.0     95.7                                  halo_model=self.dm_model\n",
      "   103                                                                           )\n",
      "   104         1         11.0     11.0      0.0          return rate\n"
     ]
    }
   ],
   "source": [
    "test = test_class.spectrum_simple\n",
    "test_class.n_bins = 10\n",
    "test_class.n_bins_result = 100\n",
    "%lprun -f test test([50, 1e-45])"
   ]
  },
  {
   "cell_type": "code",
   "execution_count": 58,
   "metadata": {},
   "outputs": [
    {
     "name": "stdout",
     "output_type": "stream",
     "text": [
      "Timer unit: 1e-07 s\n",
      "\n",
      "Total time: 0.0120497 s\n",
      "File: d:\\google drive\\phd-master\\ubuntu-storage\\windows-anaconda\\wimprates\\wimprates\\summary.py\n",
      "Function: rate_wimp_std at line 58\n",
      "\n",
      "Line #      Hits         Time  Per Hit   % Time  Line Contents\n",
      "==============================================================\n",
      "    58                                           @export\n",
      "    59                                           def rate_wimp_std(es, mw, sigma_nucleon, m_med=float('inf'),\n",
      "    60                                                             t=None, halo_model=None, **kwargs):\n",
      "    61                                               \"\"\"Differential rate per (ton year keV) of WIMP-nucleus scattering.\n",
      "    62                                               :param es: Recoil energies in keV\n",
      "    63                                               :param mw: WIMP mass in GeV/c^2\n",
      "    64                                               :param sigma_nucleon: WIMP-nucleon cross-section in cm^2\n",
      "    65                                               :param m_med: Medator mass in GeV/c^2. If not given, assumed very heavy.\n",
      "    66                                               :param t: A J2000.0 timestamp. If not given,\n",
      "    67                                               conservative velocity distribution is used.\n",
      "    68                                               :function halo_model : class (similar to the standard\n",
      "    69                                               halo model) giving velocity distribution and dark matter density\n",
      "    70                                               :returns: numpy array of same length as es\n",
      "    71                                           \n",
      "    72                                               Further arguments are as for rate_wimp; see docstring of rate_wimp.\n",
      "    73                                               \"\"\"\n",
      "    74         1        102.0    102.0      0.1      halo_model = wr.StandardHaloModel() if halo_model is None else halo_model\n",
      "    75         1         44.0     44.0      0.0      return (rate_wimp(es=es * nu.keV,\n",
      "    76         1         10.0     10.0      0.0                        mw=mw * nu.GeV/nu.c0**2,\n",
      "    77         1          7.0      7.0      0.0                        sigma_nucleon=sigma_nucleon * nu.cm**2,\n",
      "    78         1          7.0      7.0      0.0                        m_med=m_med * nu.GeV/nu.c0**2,\n",
      "    79         1     120274.0 120274.0     99.8                        t=t, halo_model=halo_model, **kwargs)\n",
      "    80         1         53.0     53.0      0.0              * (nu.keV * (1000 * nu.kg) * nu.year))\n"
     ]
    }
   ],
   "source": [
    "test_2 = wr.rate_wimp_std\n",
    "%lprun -f test_2 test_2(np.linspace(1,100,10), 50, 1e-45)"
   ]
  },
  {
   "cell_type": "code",
   "execution_count": 59,
   "metadata": {},
   "outputs": [
    {
     "name": "stdout",
     "output_type": "stream",
     "text": [
      "Timer unit: 1e-07 s\n",
      "\n",
      "Total time: 0.000151 s\n",
      "File: d:\\google drive\\phd-master\\ubuntu-storage\\windows-anaconda\\wimprates\\wimprates\\summary.py\n",
      "Function: rate_wimp at line 10\n",
      "\n",
      "Line #      Hits         Time  Per Hit   % Time  Line Contents\n",
      "==============================================================\n",
      "    10                                           @export\n",
      "    11                                           def rate_wimp(es, mw, sigma_nucleon, interaction='SI',\n",
      "    12                                                         detection_mechanism='elastic_nr', m_med=float('inf'),\n",
      "    13                                                         t=None, halo_model=None,\n",
      "    14                                                         **kwargs):\n",
      "    15                                               \"\"\"Differential rate per unit time, unit detector mass\n",
      "    16                                               and unit recoil energy of WIMP-nucleus scattering.\n",
      "    17                                               Use numericalunits to get variables in/out in the right units.\n",
      "    18                                           \n",
      "    19                                               :param es: Energy of recoil (for elastic_nr)\n",
      "    20                                               or emitted photon(for bremsstrahlung and Migdal)\n",
      "    21                                               :param mw: Mass of WIMP\n",
      "    22                                               :param sigma_nucleon: WIMP-nucleon cross-section\n",
      "    23                                               :param interaction: string describing DM-nucleus interaction. Options:\n",
      "    24                                                   'SI' for spin-independent scattering;\n",
      "    25                                                       equal coupling to protons and neutrons.\n",
      "    26                                                   'SD_n_xxx' for spin-dependent scattering\n",
      "    27                                                       n can be 'n' or 'p' for neutron or proton coupling (at first order)\n",
      "    28                                                       x can be 'central', 'up' or 'down' for\n",
      "    29                                                           theoretical uncertainty on structure function.\n",
      "    30                                               :param detection_mechanism: Detection mechanism, can be\n",
      "    31                                                    'elastic_nr' for regular elastic nuclear recoils\n",
      "    32                                                    'bremsstrahlung' for Bremsstrahlung photons\n",
      "    33                                                    'migdal' for the Migdal effect\n",
      "    34                                               :param m_med: Mediator mass. If not given, assumed very heavy.\n",
      "    35                                               :param t: A J2000.0 timestamp.\n",
      "    36                                               If not given, conservative velocity distribution is used.\n",
      "    37                                               :param progress_bar: if True, show a progress bar during evaluation\n",
      "    38                                               for multiple energies (if es is an array)\n",
      "    39                                           \n",
      "    40                                               :returns: numpy array of same length as es with\n",
      "    41                                               differential WIMP-nucleus scattering rates.\n",
      "    42                                           \n",
      "    43                                               Further kwargs are passed to scipy.integrate.quad numeric integrator\n",
      "    44                                               (e.g. error tolerance).\n",
      "    45                                               \"\"\"\n",
      "    46         1        124.0    124.0      8.2      halo_model = wr.StandardHaloModel() if halo_model is None else halo_model\n",
      "    47         1         13.0     13.0      0.9      dmechs = dict(elastic_nr=wr.rate_elastic,\n",
      "    48         1         13.0     13.0      0.9                    bremsstrahlung=wr.rate_bremsstrahlung,\n",
      "    49         1         13.0     13.0      0.9                    migdal=wr.rate_migdal)\n",
      "    50         1          5.0      5.0      0.3      if detection_mechanism not in dmechs:\n",
      "    51                                                   raise NotImplementedError(\n",
      "    52                                                       \"Unsupported detection mechanism '%s'\" % detection_mechanism)\n",
      "    53         1          5.0      5.0      0.3      return dmechs[detection_mechanism](\n",
      "    54         1          6.0      6.0      0.4          es, mw=mw, sigma_nucleon=sigma_nucleon, interaction=interaction,\n",
      "    55         1       1331.0   1331.0     88.1          m_med=m_med, halo_model=halo_model, t=t, **kwargs)\n"
     ]
    }
   ],
   "source": [
    "test_2 = wr.rate_wimp\n",
    "%lprun -f test_2 test_2(np.linspace(1,100,10), 50, 1e-45)"
   ]
  },
  {
   "cell_type": "code",
   "execution_count": null,
   "metadata": {},
   "outputs": [],
   "source": []
  }
 ],
 "metadata": {
  "kernelspec": {
   "display_name": "Python 3",
   "language": "python",
   "name": "python3"
  },
  "language_info": {
   "codemirror_mode": {
    "name": "ipython",
    "version": 3
   },
   "file_extension": ".py",
   "mimetype": "text/x-python",
   "name": "python",
   "nbconvert_exporter": "python",
   "pygments_lexer": "ipython3",
   "version": "3.7.4"
  }
 },
 "nbformat": 4,
 "nbformat_minor": 2
}
