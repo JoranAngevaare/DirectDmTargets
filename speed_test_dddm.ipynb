{
 "cells": [
  {
   "cell_type": "markdown",
   "metadata": {},
   "source": [
    "# speed testing dddm\n",
    "below we test multicore preformance of dddm\n"
   ]
  },
  {
   "cell_type": "code",
   "execution_count": 8,
   "metadata": {},
   "outputs": [],
   "source": [
    "import time\n",
    "import pandas as pd\n",
    "import socket\n",
    "import matplotlib.pyplot as plt\n",
    "host = socket.getfqdn()"
   ]
  },
  {
   "cell_type": "code",
   "execution_count": 9,
   "metadata": {},
   "outputs": [],
   "source": [
    "def check_output(output):\n",
    "    '''takes output of %%capture and returns if there is any error messages\n",
    "    returns bool if there were any errors or failures'''\n",
    "    lines = output.stdout.split('\\n')\n",
    "    finished = True\n",
    "    for i, line in enumerate(lines):\n",
    "        if \"fail\" in line.lower() or 'error' in line.lower():\n",
    "            print('\\n'.join(lines[max(0,i-3):min(len(lines), i+3)]))\n",
    "            finished = False\n",
    "    print(output.stdout.split('\\n')[-2])\n",
    "    return finished"
   ]
  },
  {
   "cell_type": "code",
   "execution_count": 15,
   "metadata": {},
   "outputs": [
    {
     "data": {
      "text/plain": [
       "'04b1cfa1ecb54960ab1e542e0163d522'"
      ]
     },
     "execution_count": 15,
     "metadata": {},
     "output_type": "execute_result"
    }
   ],
   "source": [
    "import uuid\n",
    "def get_hash():\n",
    "    return uuid.uuid4().hex\n",
    "get_hash()"
   ]
  },
  {
   "cell_type": "code",
   "execution_count": 16,
   "metadata": {},
   "outputs": [],
   "source": [
    "columns = ['hash','n_cores', 'n_live', 'time', 'finished', 'output']\n",
    "df_result = pd.DataFrame(columns=(columns))"
   ]
  },
  {
   "cell_type": "code",
   "execution_count": 17,
   "metadata": {},
   "outputs": [],
   "source": [
    "common_opt = '-shielding no -mw 5 -target Xe_migd -tol 0.8 -nparam 2 -bins 10 -notes ncoretest '\n",
    "common_opt+= '-cross_section -44 -priors_from migdal_wide -verbose 1 -save_intermediate yes'"
   ]
  },
  {
   "cell_type": "markdown",
   "metadata": {},
   "source": [
    "## Test 0"
   ]
  },
  {
   "cell_type": "code",
   "execution_count": 89,
   "metadata": {},
   "outputs": [],
   "source": [
    "n_live = 10\n",
    "n_cores = 10"
   ]
  },
  {
   "cell_type": "code",
   "execution_count": 90,
   "metadata": {},
   "outputs": [],
   "source": [
    "%%capture cap\n",
    "start = time.time()\n",
    "_hash = get_hash()\n",
    "!mpiexec -n $ncore python run_dddm_multinest.py -multicore_hash $_hash -nlive $n_live $common_opt\n",
    "end = time.time()"
   ]
  },
  {
   "cell_type": "code",
   "execution_count": 91,
   "metadata": {},
   "outputs": [
    {
     "name": "stdout",
     "output_type": "stream",
     "text": [
      "633.5687546730042\n"
     ]
    }
   ],
   "source": [
    "print(end-start)"
   ]
  },
  {
   "cell_type": "code",
   "execution_count": 92,
   "metadata": {},
   "outputs": [
    {
     "name": "stdout",
     "output_type": "stream",
     "text": [
      "finished, bye bye\r\n"
     ]
    }
   ],
   "source": [
    "result = dict(hash = _hash, n_live = n_live, n_cores = n_cores, time = end - start, finished =  check_output(cap), output = cap.stdout)"
   ]
  },
  {
   "cell_type": "code",
   "execution_count": 93,
   "metadata": {},
   "outputs": [],
   "source": [
    "df_result = df_result.append(result,ignore_index=True)"
   ]
  },
  {
   "cell_type": "code",
   "execution_count": 94,
   "metadata": {},
   "outputs": [
    {
     "data": {
      "text/html": [
       "<div>\n",
       "<style scoped>\n",
       "    .dataframe tbody tr th:only-of-type {\n",
       "        vertical-align: middle;\n",
       "    }\n",
       "\n",
       "    .dataframe tbody tr th {\n",
       "        vertical-align: top;\n",
       "    }\n",
       "\n",
       "    .dataframe thead th {\n",
       "        text-align: right;\n",
       "    }\n",
       "</style>\n",
       "<table border=\"1\" class=\"dataframe\">\n",
       "  <thead>\n",
       "    <tr style=\"text-align: right;\">\n",
       "      <th></th>\n",
       "      <th>hash</th>\n",
       "      <th>n_cores</th>\n",
       "      <th>n_live</th>\n",
       "      <th>time</th>\n",
       "      <th>finished</th>\n",
       "    </tr>\n",
       "  </thead>\n",
       "  <tbody>\n",
       "    <tr>\n",
       "      <th>0</th>\n",
       "      <td>87a42749ae364b0289ecf345055313b5</td>\n",
       "      <td>10</td>\n",
       "      <td>10</td>\n",
       "      <td>1008.033547</td>\n",
       "      <td>True</td>\n",
       "    </tr>\n",
       "    <tr>\n",
       "      <th>1</th>\n",
       "      <td>a8691f0f85d14f91b4a4c6b7a6623b0c</td>\n",
       "      <td>2</td>\n",
       "      <td>10</td>\n",
       "      <td>808.244464</td>\n",
       "      <td>True</td>\n",
       "    </tr>\n",
       "    <tr>\n",
       "      <th>2</th>\n",
       "      <td>1f474a07ca504c8bb68ab7ed9fbcac40</td>\n",
       "      <td>10</td>\n",
       "      <td>10</td>\n",
       "      <td>994.904756</td>\n",
       "      <td>True</td>\n",
       "    </tr>\n",
       "    <tr>\n",
       "      <th>3</th>\n",
       "      <td>eaa65d78cfe840a1b80d78a8719743a0</td>\n",
       "      <td>2</td>\n",
       "      <td>10</td>\n",
       "      <td>676.653270</td>\n",
       "      <td>True</td>\n",
       "    </tr>\n",
       "    <tr>\n",
       "      <th>4</th>\n",
       "      <td>17efb1719164499ab2d52e425e2d1420</td>\n",
       "      <td>10</td>\n",
       "      <td>10</td>\n",
       "      <td>732.815588</td>\n",
       "      <td>True</td>\n",
       "    </tr>\n",
       "    <tr>\n",
       "      <th>5</th>\n",
       "      <td>ff29b725524a4630aef2748cf78f630c</td>\n",
       "      <td>2</td>\n",
       "      <td>10</td>\n",
       "      <td>861.004138</td>\n",
       "      <td>True</td>\n",
       "    </tr>\n",
       "    <tr>\n",
       "      <th>6</th>\n",
       "      <td>9b1085492fc44cc7a699c514fbe121c1</td>\n",
       "      <td>2</td>\n",
       "      <td>50</td>\n",
       "      <td>1054.126191</td>\n",
       "      <td>True</td>\n",
       "    </tr>\n",
       "    <tr>\n",
       "      <th>7</th>\n",
       "      <td>982b74d8829444ec8b844fa72f4d714d</td>\n",
       "      <td>10</td>\n",
       "      <td>50</td>\n",
       "      <td>1114.016210</td>\n",
       "      <td>True</td>\n",
       "    </tr>\n",
       "    <tr>\n",
       "      <th>8</th>\n",
       "      <td>70b71966be664f05b2f2f0ec5b45b37a</td>\n",
       "      <td>2</td>\n",
       "      <td>50</td>\n",
       "      <td>1060.242525</td>\n",
       "      <td>True</td>\n",
       "    </tr>\n",
       "    <tr>\n",
       "      <th>9</th>\n",
       "      <td>56b86644950f4aa0a747df10870934a5</td>\n",
       "      <td>1</td>\n",
       "      <td>10</td>\n",
       "      <td>1161.071688</td>\n",
       "      <td>True</td>\n",
       "    </tr>\n",
       "    <tr>\n",
       "      <th>10</th>\n",
       "      <td>174d004392574cbe9d94b6a2f73ea5f3</td>\n",
       "      <td>1</td>\n",
       "      <td>50</td>\n",
       "      <td>3080.356570</td>\n",
       "      <td>True</td>\n",
       "    </tr>\n",
       "    <tr>\n",
       "      <th>11</th>\n",
       "      <td>f0c814b878d74b53b8836220143a08f9</td>\n",
       "      <td>10</td>\n",
       "      <td>10</td>\n",
       "      <td>633.568755</td>\n",
       "      <td>True</td>\n",
       "    </tr>\n",
       "  </tbody>\n",
       "</table>\n",
       "</div>"
      ],
      "text/plain": [
       "                                hash n_cores n_live         time finished\n",
       "0   87a42749ae364b0289ecf345055313b5      10     10  1008.033547     True\n",
       "1   a8691f0f85d14f91b4a4c6b7a6623b0c       2     10   808.244464     True\n",
       "2   1f474a07ca504c8bb68ab7ed9fbcac40      10     10   994.904756     True\n",
       "3   eaa65d78cfe840a1b80d78a8719743a0       2     10   676.653270     True\n",
       "4   17efb1719164499ab2d52e425e2d1420      10     10   732.815588     True\n",
       "5   ff29b725524a4630aef2748cf78f630c       2     10   861.004138     True\n",
       "6   9b1085492fc44cc7a699c514fbe121c1       2     50  1054.126191     True\n",
       "7   982b74d8829444ec8b844fa72f4d714d      10     50  1114.016210     True\n",
       "8   70b71966be664f05b2f2f0ec5b45b37a       2     50  1060.242525     True\n",
       "9   56b86644950f4aa0a747df10870934a5       1     10  1161.071688     True\n",
       "10  174d004392574cbe9d94b6a2f73ea5f3       1     50  3080.356570     True\n",
       "11  f0c814b878d74b53b8836220143a08f9      10     10   633.568755     True"
      ]
     },
     "execution_count": 94,
     "metadata": {},
     "output_type": "execute_result"
    }
   ],
   "source": [
    "df_result[columns[:-1]]"
   ]
  },
  {
   "cell_type": "code",
   "execution_count": null,
   "metadata": {},
   "outputs": [],
   "source": []
  },
  {
   "cell_type": "markdown",
   "metadata": {},
   "source": [
    "## Test 1"
   ]
  },
  {
   "cell_type": "code",
   "execution_count": 95,
   "metadata": {},
   "outputs": [],
   "source": [
    "n_live = 50\n",
    "n_cores = 2"
   ]
  },
  {
   "cell_type": "code",
   "execution_count": 96,
   "metadata": {},
   "outputs": [],
   "source": [
    "%%capture cap\n",
    "start = time.time()\n",
    "_hash = get_hash()\n",
    "!mpiexec -n $ncore python run_dddm_multinest.py -multicore_hash $_hash -nlive $n_live $common_opt\n",
    "end = time.time()"
   ]
  },
  {
   "cell_type": "code",
   "execution_count": 97,
   "metadata": {},
   "outputs": [
    {
     "name": "stdout",
     "output_type": "stream",
     "text": [
      "1196.2186377048492\n"
     ]
    }
   ],
   "source": [
    "print(end-start)"
   ]
  },
  {
   "cell_type": "code",
   "execution_count": 98,
   "metadata": {},
   "outputs": [
    {
     "name": "stdout",
     "output_type": "stream",
     "text": [
      "finished, bye bye\r\n"
     ]
    }
   ],
   "source": [
    "result = dict(hash = _hash, n_live = n_live, n_cores = n_cores, time = end - start, finished =  check_output(cap), output = cap.stdout)"
   ]
  },
  {
   "cell_type": "code",
   "execution_count": 99,
   "metadata": {},
   "outputs": [],
   "source": [
    "df_result = df_result.append(result,ignore_index=True)"
   ]
  },
  {
   "cell_type": "code",
   "execution_count": 100,
   "metadata": {},
   "outputs": [
    {
     "data": {
      "text/html": [
       "<div>\n",
       "<style scoped>\n",
       "    .dataframe tbody tr th:only-of-type {\n",
       "        vertical-align: middle;\n",
       "    }\n",
       "\n",
       "    .dataframe tbody tr th {\n",
       "        vertical-align: top;\n",
       "    }\n",
       "\n",
       "    .dataframe thead th {\n",
       "        text-align: right;\n",
       "    }\n",
       "</style>\n",
       "<table border=\"1\" class=\"dataframe\">\n",
       "  <thead>\n",
       "    <tr style=\"text-align: right;\">\n",
       "      <th></th>\n",
       "      <th>hash</th>\n",
       "      <th>n_cores</th>\n",
       "      <th>n_live</th>\n",
       "      <th>time</th>\n",
       "      <th>finished</th>\n",
       "    </tr>\n",
       "  </thead>\n",
       "  <tbody>\n",
       "    <tr>\n",
       "      <th>0</th>\n",
       "      <td>87a42749ae364b0289ecf345055313b5</td>\n",
       "      <td>10</td>\n",
       "      <td>10</td>\n",
       "      <td>1008.033547</td>\n",
       "      <td>True</td>\n",
       "    </tr>\n",
       "    <tr>\n",
       "      <th>1</th>\n",
       "      <td>a8691f0f85d14f91b4a4c6b7a6623b0c</td>\n",
       "      <td>2</td>\n",
       "      <td>10</td>\n",
       "      <td>808.244464</td>\n",
       "      <td>True</td>\n",
       "    </tr>\n",
       "    <tr>\n",
       "      <th>2</th>\n",
       "      <td>1f474a07ca504c8bb68ab7ed9fbcac40</td>\n",
       "      <td>10</td>\n",
       "      <td>10</td>\n",
       "      <td>994.904756</td>\n",
       "      <td>True</td>\n",
       "    </tr>\n",
       "    <tr>\n",
       "      <th>3</th>\n",
       "      <td>eaa65d78cfe840a1b80d78a8719743a0</td>\n",
       "      <td>2</td>\n",
       "      <td>10</td>\n",
       "      <td>676.653270</td>\n",
       "      <td>True</td>\n",
       "    </tr>\n",
       "    <tr>\n",
       "      <th>4</th>\n",
       "      <td>17efb1719164499ab2d52e425e2d1420</td>\n",
       "      <td>10</td>\n",
       "      <td>10</td>\n",
       "      <td>732.815588</td>\n",
       "      <td>True</td>\n",
       "    </tr>\n",
       "    <tr>\n",
       "      <th>5</th>\n",
       "      <td>ff29b725524a4630aef2748cf78f630c</td>\n",
       "      <td>2</td>\n",
       "      <td>10</td>\n",
       "      <td>861.004138</td>\n",
       "      <td>True</td>\n",
       "    </tr>\n",
       "    <tr>\n",
       "      <th>6</th>\n",
       "      <td>9b1085492fc44cc7a699c514fbe121c1</td>\n",
       "      <td>2</td>\n",
       "      <td>50</td>\n",
       "      <td>1054.126191</td>\n",
       "      <td>True</td>\n",
       "    </tr>\n",
       "    <tr>\n",
       "      <th>7</th>\n",
       "      <td>982b74d8829444ec8b844fa72f4d714d</td>\n",
       "      <td>10</td>\n",
       "      <td>50</td>\n",
       "      <td>1114.016210</td>\n",
       "      <td>True</td>\n",
       "    </tr>\n",
       "    <tr>\n",
       "      <th>8</th>\n",
       "      <td>70b71966be664f05b2f2f0ec5b45b37a</td>\n",
       "      <td>2</td>\n",
       "      <td>50</td>\n",
       "      <td>1060.242525</td>\n",
       "      <td>True</td>\n",
       "    </tr>\n",
       "    <tr>\n",
       "      <th>9</th>\n",
       "      <td>56b86644950f4aa0a747df10870934a5</td>\n",
       "      <td>1</td>\n",
       "      <td>10</td>\n",
       "      <td>1161.071688</td>\n",
       "      <td>True</td>\n",
       "    </tr>\n",
       "    <tr>\n",
       "      <th>10</th>\n",
       "      <td>174d004392574cbe9d94b6a2f73ea5f3</td>\n",
       "      <td>1</td>\n",
       "      <td>50</td>\n",
       "      <td>3080.356570</td>\n",
       "      <td>True</td>\n",
       "    </tr>\n",
       "    <tr>\n",
       "      <th>11</th>\n",
       "      <td>f0c814b878d74b53b8836220143a08f9</td>\n",
       "      <td>10</td>\n",
       "      <td>10</td>\n",
       "      <td>633.568755</td>\n",
       "      <td>True</td>\n",
       "    </tr>\n",
       "    <tr>\n",
       "      <th>12</th>\n",
       "      <td>cad2c40b3eb342c686f0afe59d7d94b1</td>\n",
       "      <td>2</td>\n",
       "      <td>50</td>\n",
       "      <td>1196.218638</td>\n",
       "      <td>True</td>\n",
       "    </tr>\n",
       "  </tbody>\n",
       "</table>\n",
       "</div>"
      ],
      "text/plain": [
       "                                hash n_cores n_live         time finished\n",
       "0   87a42749ae364b0289ecf345055313b5      10     10  1008.033547     True\n",
       "1   a8691f0f85d14f91b4a4c6b7a6623b0c       2     10   808.244464     True\n",
       "2   1f474a07ca504c8bb68ab7ed9fbcac40      10     10   994.904756     True\n",
       "3   eaa65d78cfe840a1b80d78a8719743a0       2     10   676.653270     True\n",
       "4   17efb1719164499ab2d52e425e2d1420      10     10   732.815588     True\n",
       "5   ff29b725524a4630aef2748cf78f630c       2     10   861.004138     True\n",
       "6   9b1085492fc44cc7a699c514fbe121c1       2     50  1054.126191     True\n",
       "7   982b74d8829444ec8b844fa72f4d714d      10     50  1114.016210     True\n",
       "8   70b71966be664f05b2f2f0ec5b45b37a       2     50  1060.242525     True\n",
       "9   56b86644950f4aa0a747df10870934a5       1     10  1161.071688     True\n",
       "10  174d004392574cbe9d94b6a2f73ea5f3       1     50  3080.356570     True\n",
       "11  f0c814b878d74b53b8836220143a08f9      10     10   633.568755     True\n",
       "12  cad2c40b3eb342c686f0afe59d7d94b1       2     50  1196.218638     True"
      ]
     },
     "execution_count": 100,
     "metadata": {},
     "output_type": "execute_result"
    }
   ],
   "source": [
    "df_result[columns[:-1]]"
   ]
  },
  {
   "cell_type": "code",
   "execution_count": null,
   "metadata": {},
   "outputs": [],
   "source": []
  },
  {
   "cell_type": "code",
   "execution_count": null,
   "metadata": {},
   "outputs": [],
   "source": []
  },
  {
   "cell_type": "markdown",
   "metadata": {},
   "source": [
    "## Test A"
   ]
  },
  {
   "cell_type": "code",
   "execution_count": 101,
   "metadata": {},
   "outputs": [],
   "source": [
    "n_live = 10\n",
    "n_cores = 1"
   ]
  },
  {
   "cell_type": "code",
   "execution_count": 102,
   "metadata": {},
   "outputs": [],
   "source": [
    "%%capture cap\n",
    "start = time.time()\n",
    "_hash = get_hash()\n",
    "!python run_dddm_multinest.py -multicore_hash $_hash -nlive $n_live $common_opt\n",
    "end = time.time()"
   ]
  },
  {
   "cell_type": "code",
   "execution_count": 103,
   "metadata": {},
   "outputs": [
    {
     "name": "stdout",
     "output_type": "stream",
     "text": [
      "1501.2707877159119\n"
     ]
    }
   ],
   "source": [
    "print(end-start)"
   ]
  },
  {
   "cell_type": "code",
   "execution_count": 104,
   "metadata": {},
   "outputs": [
    {
     "name": "stdout",
     "output_type": "stream",
     "text": [
      "finished, bye bye\r\n"
     ]
    }
   ],
   "source": [
    "result = dict(hash = _hash, n_live = n_live, n_cores = n_cores, time = end - start, finished =  check_output(cap), output = cap.stdout)"
   ]
  },
  {
   "cell_type": "code",
   "execution_count": 105,
   "metadata": {},
   "outputs": [],
   "source": [
    "df_result = df_result.append(result,ignore_index=True)"
   ]
  },
  {
   "cell_type": "code",
   "execution_count": 106,
   "metadata": {},
   "outputs": [
    {
     "data": {
      "text/html": [
       "<div>\n",
       "<style scoped>\n",
       "    .dataframe tbody tr th:only-of-type {\n",
       "        vertical-align: middle;\n",
       "    }\n",
       "\n",
       "    .dataframe tbody tr th {\n",
       "        vertical-align: top;\n",
       "    }\n",
       "\n",
       "    .dataframe thead th {\n",
       "        text-align: right;\n",
       "    }\n",
       "</style>\n",
       "<table border=\"1\" class=\"dataframe\">\n",
       "  <thead>\n",
       "    <tr style=\"text-align: right;\">\n",
       "      <th></th>\n",
       "      <th>hash</th>\n",
       "      <th>n_cores</th>\n",
       "      <th>n_live</th>\n",
       "      <th>time</th>\n",
       "      <th>finished</th>\n",
       "    </tr>\n",
       "  </thead>\n",
       "  <tbody>\n",
       "    <tr>\n",
       "      <th>0</th>\n",
       "      <td>87a42749ae364b0289ecf345055313b5</td>\n",
       "      <td>10</td>\n",
       "      <td>10</td>\n",
       "      <td>1008.033547</td>\n",
       "      <td>True</td>\n",
       "    </tr>\n",
       "    <tr>\n",
       "      <th>1</th>\n",
       "      <td>a8691f0f85d14f91b4a4c6b7a6623b0c</td>\n",
       "      <td>2</td>\n",
       "      <td>10</td>\n",
       "      <td>808.244464</td>\n",
       "      <td>True</td>\n",
       "    </tr>\n",
       "    <tr>\n",
       "      <th>2</th>\n",
       "      <td>1f474a07ca504c8bb68ab7ed9fbcac40</td>\n",
       "      <td>10</td>\n",
       "      <td>10</td>\n",
       "      <td>994.904756</td>\n",
       "      <td>True</td>\n",
       "    </tr>\n",
       "    <tr>\n",
       "      <th>3</th>\n",
       "      <td>eaa65d78cfe840a1b80d78a8719743a0</td>\n",
       "      <td>2</td>\n",
       "      <td>10</td>\n",
       "      <td>676.653270</td>\n",
       "      <td>True</td>\n",
       "    </tr>\n",
       "    <tr>\n",
       "      <th>4</th>\n",
       "      <td>17efb1719164499ab2d52e425e2d1420</td>\n",
       "      <td>10</td>\n",
       "      <td>10</td>\n",
       "      <td>732.815588</td>\n",
       "      <td>True</td>\n",
       "    </tr>\n",
       "    <tr>\n",
       "      <th>5</th>\n",
       "      <td>ff29b725524a4630aef2748cf78f630c</td>\n",
       "      <td>2</td>\n",
       "      <td>10</td>\n",
       "      <td>861.004138</td>\n",
       "      <td>True</td>\n",
       "    </tr>\n",
       "    <tr>\n",
       "      <th>6</th>\n",
       "      <td>9b1085492fc44cc7a699c514fbe121c1</td>\n",
       "      <td>2</td>\n",
       "      <td>50</td>\n",
       "      <td>1054.126191</td>\n",
       "      <td>True</td>\n",
       "    </tr>\n",
       "    <tr>\n",
       "      <th>7</th>\n",
       "      <td>982b74d8829444ec8b844fa72f4d714d</td>\n",
       "      <td>10</td>\n",
       "      <td>50</td>\n",
       "      <td>1114.016210</td>\n",
       "      <td>True</td>\n",
       "    </tr>\n",
       "    <tr>\n",
       "      <th>8</th>\n",
       "      <td>70b71966be664f05b2f2f0ec5b45b37a</td>\n",
       "      <td>2</td>\n",
       "      <td>50</td>\n",
       "      <td>1060.242525</td>\n",
       "      <td>True</td>\n",
       "    </tr>\n",
       "    <tr>\n",
       "      <th>9</th>\n",
       "      <td>56b86644950f4aa0a747df10870934a5</td>\n",
       "      <td>1</td>\n",
       "      <td>10</td>\n",
       "      <td>1161.071688</td>\n",
       "      <td>True</td>\n",
       "    </tr>\n",
       "    <tr>\n",
       "      <th>10</th>\n",
       "      <td>174d004392574cbe9d94b6a2f73ea5f3</td>\n",
       "      <td>1</td>\n",
       "      <td>50</td>\n",
       "      <td>3080.356570</td>\n",
       "      <td>True</td>\n",
       "    </tr>\n",
       "    <tr>\n",
       "      <th>11</th>\n",
       "      <td>f0c814b878d74b53b8836220143a08f9</td>\n",
       "      <td>10</td>\n",
       "      <td>10</td>\n",
       "      <td>633.568755</td>\n",
       "      <td>True</td>\n",
       "    </tr>\n",
       "    <tr>\n",
       "      <th>12</th>\n",
       "      <td>cad2c40b3eb342c686f0afe59d7d94b1</td>\n",
       "      <td>2</td>\n",
       "      <td>50</td>\n",
       "      <td>1196.218638</td>\n",
       "      <td>True</td>\n",
       "    </tr>\n",
       "    <tr>\n",
       "      <th>13</th>\n",
       "      <td>d5aa5a882a7b407ab6223ce5de25c5ca</td>\n",
       "      <td>1</td>\n",
       "      <td>10</td>\n",
       "      <td>1501.270788</td>\n",
       "      <td>True</td>\n",
       "    </tr>\n",
       "  </tbody>\n",
       "</table>\n",
       "</div>"
      ],
      "text/plain": [
       "                                hash n_cores n_live         time finished\n",
       "0   87a42749ae364b0289ecf345055313b5      10     10  1008.033547     True\n",
       "1   a8691f0f85d14f91b4a4c6b7a6623b0c       2     10   808.244464     True\n",
       "2   1f474a07ca504c8bb68ab7ed9fbcac40      10     10   994.904756     True\n",
       "3   eaa65d78cfe840a1b80d78a8719743a0       2     10   676.653270     True\n",
       "4   17efb1719164499ab2d52e425e2d1420      10     10   732.815588     True\n",
       "5   ff29b725524a4630aef2748cf78f630c       2     10   861.004138     True\n",
       "6   9b1085492fc44cc7a699c514fbe121c1       2     50  1054.126191     True\n",
       "7   982b74d8829444ec8b844fa72f4d714d      10     50  1114.016210     True\n",
       "8   70b71966be664f05b2f2f0ec5b45b37a       2     50  1060.242525     True\n",
       "9   56b86644950f4aa0a747df10870934a5       1     10  1161.071688     True\n",
       "10  174d004392574cbe9d94b6a2f73ea5f3       1     50  3080.356570     True\n",
       "11  f0c814b878d74b53b8836220143a08f9      10     10   633.568755     True\n",
       "12  cad2c40b3eb342c686f0afe59d7d94b1       2     50  1196.218638     True\n",
       "13  d5aa5a882a7b407ab6223ce5de25c5ca       1     10  1501.270788     True"
      ]
     },
     "execution_count": 106,
     "metadata": {},
     "output_type": "execute_result"
    }
   ],
   "source": [
    "df_result[columns[:-1]]"
   ]
  },
  {
   "cell_type": "code",
   "execution_count": null,
   "metadata": {},
   "outputs": [],
   "source": []
  },
  {
   "cell_type": "markdown",
   "metadata": {},
   "source": [
    "## Test B"
   ]
  },
  {
   "cell_type": "code",
   "execution_count": 107,
   "metadata": {},
   "outputs": [],
   "source": [
    "n_live = 50\n",
    "n_cores = 1"
   ]
  },
  {
   "cell_type": "code",
   "execution_count": 108,
   "metadata": {},
   "outputs": [],
   "source": [
    "%%capture cap\n",
    "start = time.time()\n",
    "_hash = get_hash()\n",
    "!python run_dddm_multinest.py -multicore_hash $_hash -nlive $n_live $common_opt\n",
    "end = time.time()"
   ]
  },
  {
   "cell_type": "code",
   "execution_count": 109,
   "metadata": {},
   "outputs": [
    {
     "name": "stdout",
     "output_type": "stream",
     "text": [
      "2546.540193080902\n"
     ]
    }
   ],
   "source": [
    "print(end-start)"
   ]
  },
  {
   "cell_type": "code",
   "execution_count": 110,
   "metadata": {},
   "outputs": [
    {
     "name": "stdout",
     "output_type": "stream",
     "text": [
      "finished, bye bye\r\n"
     ]
    }
   ],
   "source": [
    "result = dict(hash = _hash, n_live = n_live, n_cores = n_cores, time = end - start, finished =  check_output(cap), output = cap.stdout)"
   ]
  },
  {
   "cell_type": "code",
   "execution_count": 111,
   "metadata": {},
   "outputs": [],
   "source": [
    "df_result = df_result.append(result,ignore_index=True)"
   ]
  },
  {
   "cell_type": "code",
   "execution_count": 112,
   "metadata": {},
   "outputs": [
    {
     "data": {
      "text/html": [
       "<div>\n",
       "<style scoped>\n",
       "    .dataframe tbody tr th:only-of-type {\n",
       "        vertical-align: middle;\n",
       "    }\n",
       "\n",
       "    .dataframe tbody tr th {\n",
       "        vertical-align: top;\n",
       "    }\n",
       "\n",
       "    .dataframe thead th {\n",
       "        text-align: right;\n",
       "    }\n",
       "</style>\n",
       "<table border=\"1\" class=\"dataframe\">\n",
       "  <thead>\n",
       "    <tr style=\"text-align: right;\">\n",
       "      <th></th>\n",
       "      <th>hash</th>\n",
       "      <th>n_cores</th>\n",
       "      <th>n_live</th>\n",
       "      <th>time</th>\n",
       "      <th>finished</th>\n",
       "    </tr>\n",
       "  </thead>\n",
       "  <tbody>\n",
       "    <tr>\n",
       "      <th>0</th>\n",
       "      <td>87a42749ae364b0289ecf345055313b5</td>\n",
       "      <td>10</td>\n",
       "      <td>10</td>\n",
       "      <td>1008.033547</td>\n",
       "      <td>True</td>\n",
       "    </tr>\n",
       "    <tr>\n",
       "      <th>1</th>\n",
       "      <td>a8691f0f85d14f91b4a4c6b7a6623b0c</td>\n",
       "      <td>2</td>\n",
       "      <td>10</td>\n",
       "      <td>808.244464</td>\n",
       "      <td>True</td>\n",
       "    </tr>\n",
       "    <tr>\n",
       "      <th>2</th>\n",
       "      <td>1f474a07ca504c8bb68ab7ed9fbcac40</td>\n",
       "      <td>10</td>\n",
       "      <td>10</td>\n",
       "      <td>994.904756</td>\n",
       "      <td>True</td>\n",
       "    </tr>\n",
       "    <tr>\n",
       "      <th>3</th>\n",
       "      <td>eaa65d78cfe840a1b80d78a8719743a0</td>\n",
       "      <td>2</td>\n",
       "      <td>10</td>\n",
       "      <td>676.653270</td>\n",
       "      <td>True</td>\n",
       "    </tr>\n",
       "    <tr>\n",
       "      <th>4</th>\n",
       "      <td>17efb1719164499ab2d52e425e2d1420</td>\n",
       "      <td>10</td>\n",
       "      <td>10</td>\n",
       "      <td>732.815588</td>\n",
       "      <td>True</td>\n",
       "    </tr>\n",
       "    <tr>\n",
       "      <th>5</th>\n",
       "      <td>ff29b725524a4630aef2748cf78f630c</td>\n",
       "      <td>2</td>\n",
       "      <td>10</td>\n",
       "      <td>861.004138</td>\n",
       "      <td>True</td>\n",
       "    </tr>\n",
       "    <tr>\n",
       "      <th>6</th>\n",
       "      <td>9b1085492fc44cc7a699c514fbe121c1</td>\n",
       "      <td>2</td>\n",
       "      <td>50</td>\n",
       "      <td>1054.126191</td>\n",
       "      <td>True</td>\n",
       "    </tr>\n",
       "    <tr>\n",
       "      <th>7</th>\n",
       "      <td>982b74d8829444ec8b844fa72f4d714d</td>\n",
       "      <td>10</td>\n",
       "      <td>50</td>\n",
       "      <td>1114.016210</td>\n",
       "      <td>True</td>\n",
       "    </tr>\n",
       "    <tr>\n",
       "      <th>8</th>\n",
       "      <td>70b71966be664f05b2f2f0ec5b45b37a</td>\n",
       "      <td>2</td>\n",
       "      <td>50</td>\n",
       "      <td>1060.242525</td>\n",
       "      <td>True</td>\n",
       "    </tr>\n",
       "    <tr>\n",
       "      <th>9</th>\n",
       "      <td>56b86644950f4aa0a747df10870934a5</td>\n",
       "      <td>1</td>\n",
       "      <td>10</td>\n",
       "      <td>1161.071688</td>\n",
       "      <td>True</td>\n",
       "    </tr>\n",
       "    <tr>\n",
       "      <th>10</th>\n",
       "      <td>174d004392574cbe9d94b6a2f73ea5f3</td>\n",
       "      <td>1</td>\n",
       "      <td>50</td>\n",
       "      <td>3080.356570</td>\n",
       "      <td>True</td>\n",
       "    </tr>\n",
       "    <tr>\n",
       "      <th>11</th>\n",
       "      <td>f0c814b878d74b53b8836220143a08f9</td>\n",
       "      <td>10</td>\n",
       "      <td>10</td>\n",
       "      <td>633.568755</td>\n",
       "      <td>True</td>\n",
       "    </tr>\n",
       "    <tr>\n",
       "      <th>12</th>\n",
       "      <td>cad2c40b3eb342c686f0afe59d7d94b1</td>\n",
       "      <td>2</td>\n",
       "      <td>50</td>\n",
       "      <td>1196.218638</td>\n",
       "      <td>True</td>\n",
       "    </tr>\n",
       "    <tr>\n",
       "      <th>13</th>\n",
       "      <td>d5aa5a882a7b407ab6223ce5de25c5ca</td>\n",
       "      <td>1</td>\n",
       "      <td>10</td>\n",
       "      <td>1501.270788</td>\n",
       "      <td>True</td>\n",
       "    </tr>\n",
       "    <tr>\n",
       "      <th>14</th>\n",
       "      <td>fa129c55d5174d3d9dba6b8899e37bce</td>\n",
       "      <td>1</td>\n",
       "      <td>50</td>\n",
       "      <td>2546.540193</td>\n",
       "      <td>True</td>\n",
       "    </tr>\n",
       "  </tbody>\n",
       "</table>\n",
       "</div>"
      ],
      "text/plain": [
       "                                hash n_cores n_live         time finished\n",
       "0   87a42749ae364b0289ecf345055313b5      10     10  1008.033547     True\n",
       "1   a8691f0f85d14f91b4a4c6b7a6623b0c       2     10   808.244464     True\n",
       "2   1f474a07ca504c8bb68ab7ed9fbcac40      10     10   994.904756     True\n",
       "3   eaa65d78cfe840a1b80d78a8719743a0       2     10   676.653270     True\n",
       "4   17efb1719164499ab2d52e425e2d1420      10     10   732.815588     True\n",
       "5   ff29b725524a4630aef2748cf78f630c       2     10   861.004138     True\n",
       "6   9b1085492fc44cc7a699c514fbe121c1       2     50  1054.126191     True\n",
       "7   982b74d8829444ec8b844fa72f4d714d      10     50  1114.016210     True\n",
       "8   70b71966be664f05b2f2f0ec5b45b37a       2     50  1060.242525     True\n",
       "9   56b86644950f4aa0a747df10870934a5       1     10  1161.071688     True\n",
       "10  174d004392574cbe9d94b6a2f73ea5f3       1     50  3080.356570     True\n",
       "11  f0c814b878d74b53b8836220143a08f9      10     10   633.568755     True\n",
       "12  cad2c40b3eb342c686f0afe59d7d94b1       2     50  1196.218638     True\n",
       "13  d5aa5a882a7b407ab6223ce5de25c5ca       1     10  1501.270788     True\n",
       "14  fa129c55d5174d3d9dba6b8899e37bce       1     50  2546.540193     True"
      ]
     },
     "execution_count": 112,
     "metadata": {},
     "output_type": "execute_result"
    }
   ],
   "source": [
    "df_result[columns[:-1]]"
   ]
  },
  {
   "cell_type": "code",
   "execution_count": null,
   "metadata": {},
   "outputs": [],
   "source": []
  },
  {
   "cell_type": "code",
   "execution_count": null,
   "metadata": {},
   "outputs": [],
   "source": []
  },
  {
   "cell_type": "code",
   "execution_count": null,
   "metadata": {},
   "outputs": [],
   "source": []
  },
  {
   "cell_type": "markdown",
   "metadata": {},
   "source": [
    "## Test 2"
   ]
  },
  {
   "cell_type": "code",
   "execution_count": 113,
   "metadata": {},
   "outputs": [],
   "source": [
    "n_live = 50\n",
    "n_cores = 10"
   ]
  },
  {
   "cell_type": "code",
   "execution_count": 114,
   "metadata": {},
   "outputs": [],
   "source": [
    "%%capture cap\n",
    "start = time.time()\n",
    "_hash = get_hash()\n",
    "!mpiexec -n $ncore python run_dddm_multinest.py -multicore_hash $_hash -nlive $n_live $common_opt\n",
    "end = time.time()"
   ]
  },
  {
   "cell_type": "code",
   "execution_count": 115,
   "metadata": {},
   "outputs": [
    {
     "name": "stdout",
     "output_type": "stream",
     "text": [
      "1129.8468136787415\n"
     ]
    }
   ],
   "source": [
    "print(end-start)"
   ]
  },
  {
   "cell_type": "code",
   "execution_count": 116,
   "metadata": {},
   "outputs": [
    {
     "name": "stdout",
     "output_type": "stream",
     "text": [
      "finished, bye bye\r\n"
     ]
    }
   ],
   "source": [
    "result = dict(hash = _hash, n_live = n_live, n_cores = n_cores, time = end - start, finished =  check_output(cap), output = cap.stdout)"
   ]
  },
  {
   "cell_type": "code",
   "execution_count": 117,
   "metadata": {},
   "outputs": [],
   "source": [
    "df_result = df_result.append(result,ignore_index=True)"
   ]
  },
  {
   "cell_type": "code",
   "execution_count": 118,
   "metadata": {},
   "outputs": [
    {
     "data": {
      "text/html": [
       "<div>\n",
       "<style scoped>\n",
       "    .dataframe tbody tr th:only-of-type {\n",
       "        vertical-align: middle;\n",
       "    }\n",
       "\n",
       "    .dataframe tbody tr th {\n",
       "        vertical-align: top;\n",
       "    }\n",
       "\n",
       "    .dataframe thead th {\n",
       "        text-align: right;\n",
       "    }\n",
       "</style>\n",
       "<table border=\"1\" class=\"dataframe\">\n",
       "  <thead>\n",
       "    <tr style=\"text-align: right;\">\n",
       "      <th></th>\n",
       "      <th>hash</th>\n",
       "      <th>n_cores</th>\n",
       "      <th>n_live</th>\n",
       "      <th>time</th>\n",
       "      <th>finished</th>\n",
       "    </tr>\n",
       "  </thead>\n",
       "  <tbody>\n",
       "    <tr>\n",
       "      <th>0</th>\n",
       "      <td>87a42749ae364b0289ecf345055313b5</td>\n",
       "      <td>10</td>\n",
       "      <td>10</td>\n",
       "      <td>1008.033547</td>\n",
       "      <td>True</td>\n",
       "    </tr>\n",
       "    <tr>\n",
       "      <th>1</th>\n",
       "      <td>a8691f0f85d14f91b4a4c6b7a6623b0c</td>\n",
       "      <td>2</td>\n",
       "      <td>10</td>\n",
       "      <td>808.244464</td>\n",
       "      <td>True</td>\n",
       "    </tr>\n",
       "    <tr>\n",
       "      <th>2</th>\n",
       "      <td>1f474a07ca504c8bb68ab7ed9fbcac40</td>\n",
       "      <td>10</td>\n",
       "      <td>10</td>\n",
       "      <td>994.904756</td>\n",
       "      <td>True</td>\n",
       "    </tr>\n",
       "    <tr>\n",
       "      <th>3</th>\n",
       "      <td>eaa65d78cfe840a1b80d78a8719743a0</td>\n",
       "      <td>2</td>\n",
       "      <td>10</td>\n",
       "      <td>676.653270</td>\n",
       "      <td>True</td>\n",
       "    </tr>\n",
       "    <tr>\n",
       "      <th>4</th>\n",
       "      <td>17efb1719164499ab2d52e425e2d1420</td>\n",
       "      <td>10</td>\n",
       "      <td>10</td>\n",
       "      <td>732.815588</td>\n",
       "      <td>True</td>\n",
       "    </tr>\n",
       "    <tr>\n",
       "      <th>5</th>\n",
       "      <td>ff29b725524a4630aef2748cf78f630c</td>\n",
       "      <td>2</td>\n",
       "      <td>10</td>\n",
       "      <td>861.004138</td>\n",
       "      <td>True</td>\n",
       "    </tr>\n",
       "    <tr>\n",
       "      <th>6</th>\n",
       "      <td>9b1085492fc44cc7a699c514fbe121c1</td>\n",
       "      <td>2</td>\n",
       "      <td>50</td>\n",
       "      <td>1054.126191</td>\n",
       "      <td>True</td>\n",
       "    </tr>\n",
       "    <tr>\n",
       "      <th>7</th>\n",
       "      <td>982b74d8829444ec8b844fa72f4d714d</td>\n",
       "      <td>10</td>\n",
       "      <td>50</td>\n",
       "      <td>1114.016210</td>\n",
       "      <td>True</td>\n",
       "    </tr>\n",
       "    <tr>\n",
       "      <th>8</th>\n",
       "      <td>70b71966be664f05b2f2f0ec5b45b37a</td>\n",
       "      <td>2</td>\n",
       "      <td>50</td>\n",
       "      <td>1060.242525</td>\n",
       "      <td>True</td>\n",
       "    </tr>\n",
       "    <tr>\n",
       "      <th>9</th>\n",
       "      <td>56b86644950f4aa0a747df10870934a5</td>\n",
       "      <td>1</td>\n",
       "      <td>10</td>\n",
       "      <td>1161.071688</td>\n",
       "      <td>True</td>\n",
       "    </tr>\n",
       "    <tr>\n",
       "      <th>10</th>\n",
       "      <td>174d004392574cbe9d94b6a2f73ea5f3</td>\n",
       "      <td>1</td>\n",
       "      <td>50</td>\n",
       "      <td>3080.356570</td>\n",
       "      <td>True</td>\n",
       "    </tr>\n",
       "    <tr>\n",
       "      <th>11</th>\n",
       "      <td>f0c814b878d74b53b8836220143a08f9</td>\n",
       "      <td>10</td>\n",
       "      <td>10</td>\n",
       "      <td>633.568755</td>\n",
       "      <td>True</td>\n",
       "    </tr>\n",
       "    <tr>\n",
       "      <th>12</th>\n",
       "      <td>cad2c40b3eb342c686f0afe59d7d94b1</td>\n",
       "      <td>2</td>\n",
       "      <td>50</td>\n",
       "      <td>1196.218638</td>\n",
       "      <td>True</td>\n",
       "    </tr>\n",
       "    <tr>\n",
       "      <th>13</th>\n",
       "      <td>d5aa5a882a7b407ab6223ce5de25c5ca</td>\n",
       "      <td>1</td>\n",
       "      <td>10</td>\n",
       "      <td>1501.270788</td>\n",
       "      <td>True</td>\n",
       "    </tr>\n",
       "    <tr>\n",
       "      <th>14</th>\n",
       "      <td>fa129c55d5174d3d9dba6b8899e37bce</td>\n",
       "      <td>1</td>\n",
       "      <td>50</td>\n",
       "      <td>2546.540193</td>\n",
       "      <td>True</td>\n",
       "    </tr>\n",
       "    <tr>\n",
       "      <th>15</th>\n",
       "      <td>cacd4b8c555f40c8bce539b044b59817</td>\n",
       "      <td>10</td>\n",
       "      <td>50</td>\n",
       "      <td>1129.846814</td>\n",
       "      <td>True</td>\n",
       "    </tr>\n",
       "  </tbody>\n",
       "</table>\n",
       "</div>"
      ],
      "text/plain": [
       "                                hash n_cores n_live         time finished\n",
       "0   87a42749ae364b0289ecf345055313b5      10     10  1008.033547     True\n",
       "1   a8691f0f85d14f91b4a4c6b7a6623b0c       2     10   808.244464     True\n",
       "2   1f474a07ca504c8bb68ab7ed9fbcac40      10     10   994.904756     True\n",
       "3   eaa65d78cfe840a1b80d78a8719743a0       2     10   676.653270     True\n",
       "4   17efb1719164499ab2d52e425e2d1420      10     10   732.815588     True\n",
       "5   ff29b725524a4630aef2748cf78f630c       2     10   861.004138     True\n",
       "6   9b1085492fc44cc7a699c514fbe121c1       2     50  1054.126191     True\n",
       "7   982b74d8829444ec8b844fa72f4d714d      10     50  1114.016210     True\n",
       "8   70b71966be664f05b2f2f0ec5b45b37a       2     50  1060.242525     True\n",
       "9   56b86644950f4aa0a747df10870934a5       1     10  1161.071688     True\n",
       "10  174d004392574cbe9d94b6a2f73ea5f3       1     50  3080.356570     True\n",
       "11  f0c814b878d74b53b8836220143a08f9      10     10   633.568755     True\n",
       "12  cad2c40b3eb342c686f0afe59d7d94b1       2     50  1196.218638     True\n",
       "13  d5aa5a882a7b407ab6223ce5de25c5ca       1     10  1501.270788     True\n",
       "14  fa129c55d5174d3d9dba6b8899e37bce       1     50  2546.540193     True\n",
       "15  cacd4b8c555f40c8bce539b044b59817      10     50  1129.846814     True"
      ]
     },
     "execution_count": 118,
     "metadata": {},
     "output_type": "execute_result"
    }
   ],
   "source": [
    "df_result[columns[:-1]]"
   ]
  },
  {
   "cell_type": "code",
   "execution_count": null,
   "metadata": {},
   "outputs": [],
   "source": []
  },
  {
   "cell_type": "markdown",
   "metadata": {},
   "source": [
    "## Test 3"
   ]
  },
  {
   "cell_type": "code",
   "execution_count": 119,
   "metadata": {},
   "outputs": [],
   "source": [
    "n_live = 50\n",
    "n_cores = 2"
   ]
  },
  {
   "cell_type": "code",
   "execution_count": null,
   "metadata": {},
   "outputs": [],
   "source": [
    "%%capture cap\n",
    "start = time.time()\n",
    "_hash = get_hash()\n",
    "!mpiexec -n $ncore python run_dddm_multinest.py -multicore_hash $_hash -nlive $n_live $common_opt\n",
    "end = time.time()"
   ]
  },
  {
   "cell_type": "code",
   "execution_count": null,
   "metadata": {},
   "outputs": [],
   "source": [
    "print(end-start)"
   ]
  },
  {
   "cell_type": "code",
   "execution_count": null,
   "metadata": {},
   "outputs": [],
   "source": [
    "result = dict(hash = _hash, n_live = n_live, n_cores = n_cores, time = end - start, finished =  check_output(cap), output = cap.stdout)"
   ]
  },
  {
   "cell_type": "code",
   "execution_count": null,
   "metadata": {},
   "outputs": [],
   "source": [
    "df_result = df_result.append(result,ignore_index=True)"
   ]
  },
  {
   "cell_type": "code",
   "execution_count": null,
   "metadata": {},
   "outputs": [],
   "source": [
    "df_result[columns[:-1]]"
   ]
  },
  {
   "cell_type": "code",
   "execution_count": null,
   "metadata": {},
   "outputs": [],
   "source": []
  },
  {
   "cell_type": "code",
   "execution_count": null,
   "metadata": {},
   "outputs": [],
   "source": []
  },
  {
   "cell_type": "code",
   "execution_count": null,
   "metadata": {},
   "outputs": [],
   "source": []
  },
  {
   "cell_type": "markdown",
   "metadata": {},
   "source": [
    "## Test 4"
   ]
  },
  {
   "cell_type": "code",
   "execution_count": null,
   "metadata": {},
   "outputs": [],
   "source": [
    "n_live = 100\n",
    "n_cores = 10"
   ]
  },
  {
   "cell_type": "code",
   "execution_count": null,
   "metadata": {},
   "outputs": [],
   "source": [
    "%%capture cap\n",
    "start = time.time()\n",
    "_hash = get_hash()\n",
    "!mpiexec -n $ncore python run_dddm_multinest.py -multicore_hash $_hash -nlive $n_live $common_opt\n",
    "end = time.time()"
   ]
  },
  {
   "cell_type": "code",
   "execution_count": null,
   "metadata": {},
   "outputs": [],
   "source": [
    "print(end-start)"
   ]
  },
  {
   "cell_type": "code",
   "execution_count": null,
   "metadata": {},
   "outputs": [],
   "source": [
    "result = dict(hash = _hash, n_live = n_live, n_cores = n_cores, time = end - start, finished =  check_output(cap), output = cap.stdout)"
   ]
  },
  {
   "cell_type": "code",
   "execution_count": null,
   "metadata": {},
   "outputs": [],
   "source": [
    "df_result = df_result.append(result,ignore_index=True)"
   ]
  },
  {
   "cell_type": "code",
   "execution_count": null,
   "metadata": {},
   "outputs": [],
   "source": [
    "df_result[columns[:-1]]"
   ]
  },
  {
   "cell_type": "code",
   "execution_count": null,
   "metadata": {},
   "outputs": [],
   "source": []
  },
  {
   "cell_type": "markdown",
   "metadata": {},
   "source": [
    "## Test 5"
   ]
  },
  {
   "cell_type": "code",
   "execution_count": null,
   "metadata": {},
   "outputs": [],
   "source": [
    "n_live = 100\n",
    "n_cores = 2"
   ]
  },
  {
   "cell_type": "code",
   "execution_count": null,
   "metadata": {},
   "outputs": [],
   "source": [
    "%%capture cap\n",
    "start = time.time()\n",
    "_hash = get_hash()\n",
    "!mpiexec -n $ncore python run_dddm_multinest.py -multicore_hash $_hash -nlive $n_live $common_opt\n",
    "end = time.time()"
   ]
  },
  {
   "cell_type": "code",
   "execution_count": null,
   "metadata": {},
   "outputs": [],
   "source": [
    "print(end-start)"
   ]
  },
  {
   "cell_type": "code",
   "execution_count": null,
   "metadata": {},
   "outputs": [],
   "source": [
    "result = dict(hash = _hash, n_live = n_live, n_cores = n_cores, time = end - start, finished =  check_output(cap), output = cap.stdout)"
   ]
  },
  {
   "cell_type": "code",
   "execution_count": null,
   "metadata": {},
   "outputs": [],
   "source": [
    "df_result = df_result.append(result,ignore_index=True)"
   ]
  },
  {
   "cell_type": "code",
   "execution_count": null,
   "metadata": {},
   "outputs": [],
   "source": [
    "df_result[columns[:-1]]"
   ]
  },
  {
   "cell_type": "code",
   "execution_count": null,
   "metadata": {},
   "outputs": [],
   "source": []
  },
  {
   "cell_type": "code",
   "execution_count": null,
   "metadata": {},
   "outputs": [],
   "source": []
  },
  {
   "cell_type": "code",
   "execution_count": null,
   "metadata": {},
   "outputs": [],
   "source": []
  },
  {
   "cell_type": "code",
   "execution_count": null,
   "metadata": {},
   "outputs": [],
   "source": []
  },
  {
   "cell_type": "code",
   "execution_count": null,
   "metadata": {},
   "outputs": [],
   "source": []
  }
 ],
 "metadata": {
  "kernelspec": {
   "display_name": "Python 3",
   "language": "python",
   "name": "python3"
  },
  "language_info": {
   "codemirror_mode": {
    "name": "ipython",
    "version": 3
   },
   "file_extension": ".py",
   "mimetype": "text/x-python",
   "name": "python",
   "nbconvert_exporter": "python",
   "pygments_lexer": "ipython3",
   "version": "3.8.0"
  }
 },
 "nbformat": 4,
 "nbformat_minor": 4
}
