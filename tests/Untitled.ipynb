{
 "cells": [
  {
   "cell_type": "code",
   "execution_count": 5,
   "id": "reflected-composite",
   "metadata": {},
   "outputs": [],
   "source": [
    "import DirectDmTargets as dddm"
   ]
  },
  {
   "cell_type": "code",
   "execution_count": 2,
   "id": "acoustic-halloween",
   "metadata": {},
   "outputs": [],
   "source": [
    "import test_nestle_shielded as n"
   ]
  },
  {
   "cell_type": "code",
   "execution_count": 7,
   "id": "preceding-watts",
   "metadata": {},
   "outputs": [
    {
     "name": "stderr",
     "output_type": "stream",
     "text": [
      "run_nestle::\tstart_fit for 2 parameters\n"
     ]
    },
    {
     "name": "stdout",
     "output_type": "stream",
     "text": [
      "Fitting for parameters:\n",
      "['log_mass', 'log_cross_section']\n",
      "   \n",
      "    Calculating for...\n",
      "        m_x/GeV: 52.40717461868008\n",
      "        sigma_p/cm^2: 4.450415449785874e-44\n",
      "        detector at : XENON\n",
      "        considering 4 angles\n",
      " \n",
      "    Loading isotope data and density profiles...\n",
      "    Calculating Form Factor corrections for m_x =  52.40717461868008  GeV...\n"
     ]
    },
    {
     "name": "stderr",
     "output_type": "stream",
     "text": [
      "C:\\Users\\joran\\Anaconda3\\envs\\dddm\\lib\\site-packages\\nestle.py:840: UserWarning: You really want to make npoints >= 2 * ndim!\n",
      "  warnings.warn(\"You really want to make npoints >= 2 * ndim!\")\n"
     ]
    },
    {
     "name": "stdout",
     "output_type": "stream",
     "text": [
      "    Calculating for gamma/pi =  0.0 ...\n",
      "        Calculating maximum final speed...\n",
      "        Calculating final speed distribution...\n",
      "    Calculating for gamma/pi =  0.3333333333333333 ...\n",
      "        Calculating maximum final speed...\n",
      "        Calculating final speed distribution...\n",
      "    Calculating for gamma/pi =  0.6666666666666666 ...\n",
      "        Calculating maximum final speed...\n",
      "        Calculating final speed distribution...\n",
      "    Calculating for gamma/pi =  1.0 ...\n",
      "        Calculating maximum final speed...\n",
      "        Calculating final speed distribution...\n",
      "saving at d:\\google_drive\\phd-master\\ubuntu-storage\\ubuntu-windows\\software\\verne\\results\\f_params\\loc_XENON\\v0_230\\vesc_544\\rho_0.400\\sig_-43.4_mx_1.72_avg-HDESKTOP-F4PI41P-P3000.csv\n",
      "Dataframe written successfully\n"
     ]
    },
    {
     "name": "stderr",
     "output_type": "stream",
     "text": [
      "d:\\google_drive\\phd-master\\ubuntu-storage\\ubuntu-windows\\software\\directdmtargets\\DirectDmTargets\\halo.py:283: UserWarning: load_f:\twhile writing d:\\google_drive\\phd-master\\ubuntu-storage\\ubuntu-windows\\software\\verne\\results\\f_params\\loc_XENON\\v0_230\\vesc_544\\rho_0.400\\sig_-43.4_mx_1.72_avg.csv, d:\\google_drive\\phd-master\\ubuntu-storage\\ubuntu-windows\\software\\verne\\results\\f_params\\loc_XENON\\v0_230\\vesc_544\\rho_0.400\\sig_-43.4_mx_1.72_avg-HDESKTOP-F4PI41P-P3000.csv was created\n",
      "  warn(f'load_f:\\twhile writing {file_name}, '\n"
     ]
    },
    {
     "name": "stdout",
     "output_type": "stream",
     "text": [
      "   \n",
      "    Calculating for...\n",
      "        m_x/GeV: 286.50480558889114\n",
      "        sigma_p/cm^2: 1.4549670654602044e-46\n",
      "        detector at : XENON\n",
      "        considering 4 angles\n",
      " \n",
      "    Loading isotope data and density profiles...\n",
      "    Calculating Form Factor corrections for m_x =  286.50480558889114  GeV...\n",
      "    Calculating for gamma/pi =  0.0 ...\n",
      "        Calculating maximum final speed...\n",
      "        Calculating final speed distribution...\n",
      "    Calculating for gamma/pi =  0.3333333333333333 ...\n",
      "        Calculating maximum final speed...\n",
      "        Calculating final speed distribution...\n",
      "    Calculating for gamma/pi =  0.6666666666666666 ...\n",
      "        Calculating maximum final speed...\n",
      "        Calculating final speed distribution...\n",
      "    Calculating for gamma/pi =  1.0 ...\n",
      "        Calculating maximum final speed...\n",
      "        Calculating final speed distribution...\n",
      "saving at d:\\google_drive\\phd-master\\ubuntu-storage\\ubuntu-windows\\software\\verne\\results\\f_params\\loc_XENON\\v0_230\\vesc_544\\rho_0.400\\sig_-45.8_mx_2.46_avg-HDESKTOP-F4PI41P-P3000.csv\n",
      "Dataframe written successfully\n"
     ]
    },
    {
     "name": "stderr",
     "output_type": "stream",
     "text": [
      "d:\\google_drive\\phd-master\\ubuntu-storage\\ubuntu-windows\\software\\directdmtargets\\DirectDmTargets\\halo.py:283: UserWarning: load_f:\twhile writing d:\\google_drive\\phd-master\\ubuntu-storage\\ubuntu-windows\\software\\verne\\results\\f_params\\loc_XENON\\v0_230\\vesc_544\\rho_0.400\\sig_-45.8_mx_2.46_avg.csv, d:\\google_drive\\phd-master\\ubuntu-storage\\ubuntu-windows\\software\\verne\\results\\f_params\\loc_XENON\\v0_230\\vesc_544\\rho_0.400\\sig_-45.8_mx_2.46_avg-HDESKTOP-F4PI41P-P3000.csv was created\n",
      "  warn(f'load_f:\\twhile writing {file_name}, '\n"
     ]
    },
    {
     "name": "stdout",
     "output_type": "stream",
     "text": [
      "   \n",
      "    Calculating for...\n",
      "        m_x/GeV: 50.349229034827744\n",
      "        sigma_p/cm^2: 4.1100083645768155e-45\n",
      "        detector at : XENON\n",
      "        considering 4 angles\n",
      " \n",
      "    Loading isotope data and density profiles...\n",
      "    Calculating Form Factor corrections for m_x =  50.349229034827744  GeV...\n",
      "    Calculating for gamma/pi =  0.0 ...\n",
      "        Calculating maximum final speed...\n",
      "        Calculating final speed distribution...\n",
      "    Calculating for gamma/pi =  0.3333333333333333 ...\n",
      "        Calculating maximum final speed...\n",
      "        Calculating final speed distribution...\n",
      "    Calculating for gamma/pi =  0.6666666666666666 ...\n",
      "        Calculating maximum final speed...\n",
      "        Calculating final speed distribution...\n",
      "    Calculating for gamma/pi =  1.0 ...\n",
      "        Calculating maximum final speed...\n",
      "        Calculating final speed distribution...\n",
      "saving at d:\\google_drive\\phd-master\\ubuntu-storage\\ubuntu-windows\\software\\verne\\results\\f_params\\loc_XENON\\v0_230\\vesc_544\\rho_0.400\\sig_-44.4_mx_1.70_avg-HDESKTOP-F4PI41P-P3000.csv\n",
      "Dataframe written successfully\n",
      "   \n",
      "    Calculating for...\n",
      "        m_x/GeV: 54.52874587324461\n",
      "        sigma_p/cm^2: 2.275603417011833e-44\n",
      "        detector at : XENON"
     ]
    },
    {
     "name": "stderr",
     "output_type": "stream",
     "text": [
      "d:\\google_drive\\phd-master\\ubuntu-storage\\ubuntu-windows\\software\\directdmtargets\\DirectDmTargets\\halo.py:283: UserWarning: load_f:\twhile writing d:\\google_drive\\phd-master\\ubuntu-storage\\ubuntu-windows\\software\\verne\\results\\f_params\\loc_XENON\\v0_230\\vesc_544\\rho_0.400\\sig_-44.4_mx_1.70_avg.csv, d:\\google_drive\\phd-master\\ubuntu-storage\\ubuntu-windows\\software\\verne\\results\\f_params\\loc_XENON\\v0_230\\vesc_544\\rho_0.400\\sig_-44.4_mx_1.70_avg-HDESKTOP-F4PI41P-P3000.csv was created\n",
      "  warn(f'load_f:\\twhile writing {file_name}, '\n"
     ]
    },
    {
     "name": "stdout",
     "output_type": "stream",
     "text": [
      "\n",
      "        considering 4 angles\n",
      " \n",
      "    Loading isotope data and density profiles...\n",
      "    Calculating Form Factor corrections for m_x =  54.52874587324461  GeV...\n",
      "    Calculating for gamma/pi =  0.0 ...\n",
      "        Calculating maximum final speed...\n",
      "        Calculating final speed distribution...\n",
      "    Calculating for gamma/pi =  0.3333333333333333 ...\n",
      "        Calculating maximum final speed...\n",
      "        Calculating final speed distribution...\n",
      "    Calculating for gamma/pi =  0.6666666666666666 ...\n",
      "        Calculating maximum final speed...\n",
      "        Calculating final speed distribution...\n",
      "    Calculating for gamma/pi =  1.0 ...\n",
      "        Calculating maximum final speed...\n",
      "        Calculating final speed distribution...\n",
      "saving at d:\\google_drive\\phd-master\\ubuntu-storage\\ubuntu-windows\\software\\verne\\results\\f_params\\loc_XENON\\v0_230\\vesc_544\\rho_0.400\\sig_-43.6_mx_1.74_avg-HDESKTOP-F4PI41P-P3000.csv\n",
      "Dataframe written successfully\n",
      "   \n",
      "    Calculating for...\n",
      "        m_x/GeV: 157.54482533965228\n",
      "        sigma_p/cm^2: 2.64491696789928e-46\n",
      "        detector at : XENON\n",
      "        considering 4 angles\n",
      " \n",
      "    Loading isotope data and density profiles...\n"
     ]
    },
    {
     "name": "stderr",
     "output_type": "stream",
     "text": [
      "d:\\google_drive\\phd-master\\ubuntu-storage\\ubuntu-windows\\software\\directdmtargets\\DirectDmTargets\\halo.py:283: UserWarning: load_f:\twhile writing d:\\google_drive\\phd-master\\ubuntu-storage\\ubuntu-windows\\software\\verne\\results\\f_params\\loc_XENON\\v0_230\\vesc_544\\rho_0.400\\sig_-43.6_mx_1.74_avg.csv, d:\\google_drive\\phd-master\\ubuntu-storage\\ubuntu-windows\\software\\verne\\results\\f_params\\loc_XENON\\v0_230\\vesc_544\\rho_0.400\\sig_-43.6_mx_1.74_avg-HDESKTOP-F4PI41P-P3000.csv was created\n",
      "  warn(f'load_f:\\twhile writing {file_name}, '\n"
     ]
    },
    {
     "name": "stdout",
     "output_type": "stream",
     "text": [
      "    Calculating Form Factor corrections for m_x =  157.54482533965228  GeV...\n",
      "    Calculating for gamma/pi =  0.0 ...\n",
      "        Calculating maximum final speed...\n",
      "        Calculating final speed distribution...\n",
      "    Calculating for gamma/pi =  0.3333333333333333 ...\n",
      "        Calculating maximum final speed...\n",
      "        Calculating final speed distribution...\n",
      "    Calculating for gamma/pi =  0.6666666666666666 ...\n",
      "        Calculating maximum final speed...\n",
      "        Calculating final speed distribution...\n",
      "    Calculating for gamma/pi =  1.0 ...\n",
      "        Calculating maximum final speed...\n",
      "        Calculating final speed distribution...\n",
      "saving at d:\\google_drive\\phd-master\\ubuntu-storage\\ubuntu-windows\\software\\verne\\results\\f_params\\loc_XENON\\v0_230\\vesc_544\\rho_0.400\\sig_-45.6_mx_2.20_avg-HDESKTOP-F4PI41P-P3000.csv\n",
      "Dataframe written successfully\n"
     ]
    },
    {
     "name": "stderr",
     "output_type": "stream",
     "text": [
      "d:\\google_drive\\phd-master\\ubuntu-storage\\ubuntu-windows\\software\\directdmtargets\\DirectDmTargets\\halo.py:283: UserWarning: load_f:\twhile writing d:\\google_drive\\phd-master\\ubuntu-storage\\ubuntu-windows\\software\\verne\\results\\f_params\\loc_XENON\\v0_230\\vesc_544\\rho_0.400\\sig_-45.6_mx_2.20_avg.csv, d:\\google_drive\\phd-master\\ubuntu-storage\\ubuntu-windows\\software\\verne\\results\\f_params\\loc_XENON\\v0_230\\vesc_544\\rho_0.400\\sig_-45.6_mx_2.20_avg-HDESKTOP-F4PI41P-P3000.csv was created\n",
      "  warn(f'load_f:\\twhile writing {file_name}, '\n"
     ]
    },
    {
     "name": "stdout",
     "output_type": "stream",
     "text": [
      "   \n",
      "    Calculating for...\n",
      "        m_x/GeV: 25.006615797818448\n",
      "        sigma_p/cm^2: 3.781882813592244e-44\n",
      "        detector at : XENON\n",
      "        considering 4 angles\n",
      " \n",
      "    Loading isotope data and density profiles...\n",
      "    Calculating Form Factor corrections for m_x =  25.006615797818448  GeV...\n",
      "    Calculating for gamma/pi =  0.0 ...\n",
      "        Calculating maximum final speed...\n",
      "        Calculating final speed distribution...\n",
      "    Calculating for gamma/pi =  0.3333333333333333 ...\n",
      "        Calculating maximum final speed...\n",
      "        Calculating final speed distribution...\n",
      "    Calculating for gamma/pi =  0.6666666666666666 ...\n",
      "        Calculating maximum final speed...\n",
      "        Calculating final speed distribution...\n",
      "    Calculating for gamma/pi =  1.0 ...\n",
      "        Calculating maximum final speed...\n",
      "        Calculating final speed distribution...\n",
      "saving at d:\\google_drive\\phd-master\\ubuntu-storage\\ubuntu-windows\\software\\verne\\results\\f_params\\loc_XENON\\v0_230\\vesc_544\\rho_0.400\\sig_-43.4_mx_1.40_avg-HDESKTOP-F4PI41P-P3000.csv\n",
      "Dataframe written successfully\n",
      "   \n",
      "    Calculating for...\n",
      "        m_x/GeV: 358.4125132552367\n",
      "        sigma_p/cm^2: 6.398582484802735e-46\n",
      "        detector at : XENON\n",
      "        considering 4 angles\n",
      " \n",
      "    Loading isotope data and density profiles...\n",
      "    Calculating Form Factor corrections for m_x =  358.4125132552367  GeV...\n"
     ]
    },
    {
     "name": "stderr",
     "output_type": "stream",
     "text": [
      "d:\\google_drive\\phd-master\\ubuntu-storage\\ubuntu-windows\\software\\directdmtargets\\DirectDmTargets\\halo.py:283: UserWarning: load_f:\twhile writing d:\\google_drive\\phd-master\\ubuntu-storage\\ubuntu-windows\\software\\verne\\results\\f_params\\loc_XENON\\v0_230\\vesc_544\\rho_0.400\\sig_-43.4_mx_1.40_avg.csv, d:\\google_drive\\phd-master\\ubuntu-storage\\ubuntu-windows\\software\\verne\\results\\f_params\\loc_XENON\\v0_230\\vesc_544\\rho_0.400\\sig_-43.4_mx_1.40_avg-HDESKTOP-F4PI41P-P3000.csv was created\n",
      "  warn(f'load_f:\\twhile writing {file_name}, '\n"
     ]
    },
    {
     "name": "stdout",
     "output_type": "stream",
     "text": [
      "    Calculating for gamma/pi =  0.0 ...\n",
      "        Calculating maximum final speed...\n",
      "        Calculating final speed distribution...\n",
      "    Calculating for gamma/pi =  0.3333333333333333 ...\n",
      "        Calculating maximum final speed...\n",
      "        Calculating final speed distribution...\n",
      "    Calculating for gamma/pi =  0.6666666666666666 ...\n",
      "        Calculating maximum final speed...\n",
      "        Calculating final speed distribution...\n",
      "    Calculating for gamma/pi =  1.0 ...\n",
      "        Calculating maximum final speed...\n",
      "        Calculating final speed distribution...\n",
      "saving at d:\\google_drive\\phd-master\\ubuntu-storage\\ubuntu-windows\\software\\verne\\results\\f_params\\loc_XENON\\v0_230\\vesc_544\\rho_0.400\\sig_-45.2_mx_2.55_avg-HDESKTOP-F4PI41P-P3000.csv\n",
      "Dataframe written successfully\n",
      "   \n",
      "    Calculating for...\n",
      "        m_x/GeV: 27.28870209279722\n",
      "        sigma_p/cm^2: 2.5039097834497378e-45\n",
      "        detector at : XENON\n",
      "        considering 4 angles\n",
      " \n",
      "    Loading isotope data and density profiles...\n"
     ]
    },
    {
     "name": "stderr",
     "output_type": "stream",
     "text": [
      "d:\\google_drive\\phd-master\\ubuntu-storage\\ubuntu-windows\\software\\directdmtargets\\DirectDmTargets\\halo.py:283: UserWarning: load_f:\twhile writing d:\\google_drive\\phd-master\\ubuntu-storage\\ubuntu-windows\\software\\verne\\results\\f_params\\loc_XENON\\v0_230\\vesc_544\\rho_0.400\\sig_-45.2_mx_2.55_avg.csv, d:\\google_drive\\phd-master\\ubuntu-storage\\ubuntu-windows\\software\\verne\\results\\f_params\\loc_XENON\\v0_230\\vesc_544\\rho_0.400\\sig_-45.2_mx_2.55_avg-HDESKTOP-F4PI41P-P3000.csv was created\n",
      "  warn(f'load_f:\\twhile writing {file_name}, '\n"
     ]
    },
    {
     "name": "stdout",
     "output_type": "stream",
     "text": [
      "    Calculating Form Factor corrections for m_x =  27.28870209279722  GeV...\n",
      "    Calculating for gamma/pi =  0.0 ...\n",
      "        Calculating maximum final speed...\n"
     ]
    },
    {
     "ename": "KeyboardInterrupt",
     "evalue": "",
     "output_type": "error",
     "traceback": [
      "\u001b[1;31m---------------------------------------------------------------------------\u001b[0m",
      "\u001b[1;31mKeyboardInterrupt\u001b[0m                         Traceback (most recent call last)",
      "\u001b[1;32m<timed eval>\u001b[0m in \u001b[0;36m<module>\u001b[1;34m\u001b[0m\n",
      "\u001b[1;32mD:\\Google_Drive\\PhD-master\\ubuntu-storage\\ubuntu-windows\\software\\DirectDmTargets\\tests\\test_nestle_shielded.py\u001b[0m in \u001b[0;36mtest_nested_simple_nestle_earth_shielding\u001b[1;34m()\u001b[0m\n\u001b[0;32m      9\u001b[0m     \u001b[0mfit_class\u001b[0m\u001b[1;33m.\u001b[0m\u001b[0mconfig\u001b[0m\u001b[1;33m[\u001b[0m\u001b[1;34m'maxiter'\u001b[0m\u001b[1;33m]\u001b[0m \u001b[1;33m=\u001b[0m \u001b[1;36m2\u001b[0m\u001b[1;33m\u001b[0m\u001b[1;33m\u001b[0m\u001b[0m\n\u001b[0;32m     10\u001b[0m     \u001b[0mfit_class\u001b[0m\u001b[1;33m.\u001b[0m\u001b[0mconfig\u001b[0m\u001b[1;33m[\u001b[0m\u001b[1;34m'earth_shielding'\u001b[0m\u001b[1;33m]\u001b[0m \u001b[1;33m=\u001b[0m \u001b[1;32mTrue\u001b[0m\u001b[1;33m\u001b[0m\u001b[1;33m\u001b[0m\u001b[0m\n\u001b[1;32m---> 11\u001b[1;33m     \u001b[0mprint\u001b[0m\u001b[1;33m(\u001b[0m\u001b[1;34mf\"Fitting for parameters:\\n{fit_class.config['fit_parameters']}\"\u001b[0m\u001b[1;33m)\u001b[0m\u001b[1;33m\u001b[0m\u001b[1;33m\u001b[0m\u001b[0m\n\u001b[0m\u001b[0;32m     12\u001b[0m     \u001b[0mfit_class\u001b[0m\u001b[1;33m.\u001b[0m\u001b[0mrun_nestle\u001b[0m\u001b[1;33m(\u001b[0m\u001b[1;33m)\u001b[0m\u001b[1;33m\u001b[0m\u001b[1;33m\u001b[0m\u001b[0m\n\u001b[0;32m     13\u001b[0m     \u001b[0mfit_class\u001b[0m\u001b[1;33m.\u001b[0m\u001b[0mget_summary\u001b[0m\u001b[1;33m(\u001b[0m\u001b[1;33m)\u001b[0m\u001b[1;33m\u001b[0m\u001b[1;33m\u001b[0m\u001b[0m\n",
      "\u001b[1;32md:\\google_drive\\phd-master\\ubuntu-storage\\ubuntu-windows\\software\\directdmtargets\\DirectDmTargets\\nested_sampling.py\u001b[0m in \u001b[0;36mrun_nestle\u001b[1;34m(self)\u001b[0m\n\u001b[0;32m    186\u001b[0m                 f'algorithms to give you info, see you soon!')\n\u001b[0;32m    187\u001b[0m             \u001b[0mstart\u001b[0m \u001b[1;33m=\u001b[0m \u001b[0mdatetime\u001b[0m\u001b[1;33m.\u001b[0m\u001b[0mdatetime\u001b[0m\u001b[1;33m.\u001b[0m\u001b[0mnow\u001b[0m\u001b[1;33m(\u001b[0m\u001b[1;33m)\u001b[0m\u001b[1;33m\u001b[0m\u001b[1;33m\u001b[0m\u001b[0m\n\u001b[1;32m--> 188\u001b[1;33m             self.result = nestle.sample(self._log_probability_nested,\n\u001b[0m\u001b[0;32m    189\u001b[0m                                         \u001b[0mself\u001b[0m\u001b[1;33m.\u001b[0m\u001b[0m_log_prior_transform_nested\u001b[0m\u001b[1;33m,\u001b[0m\u001b[1;33m\u001b[0m\u001b[1;33m\u001b[0m\u001b[0m\n\u001b[0;32m    190\u001b[0m                                         \u001b[0mndim\u001b[0m\u001b[1;33m,\u001b[0m\u001b[1;33m\u001b[0m\u001b[1;33m\u001b[0m\u001b[0m\n",
      "\u001b[1;32m~\\Anaconda3\\envs\\dddm\\lib\\site-packages\\nestle.py\u001b[0m in \u001b[0;36msample\u001b[1;34m(loglikelihood, prior_transform, ndim, npoints, method, update_interval, npdim, maxiter, maxcall, dlogz, decline_factor, rstate, callback, **options)\u001b[0m\n\u001b[0;32m    927\u001b[0m         \u001b[1;31m# Choose a new point from within the likelihood constraint\u001b[0m\u001b[1;33m\u001b[0m\u001b[1;33m\u001b[0m\u001b[1;33m\u001b[0m\u001b[0m\n\u001b[0;32m    928\u001b[0m         \u001b[1;31m# (having logl > loglstar).\u001b[0m\u001b[1;33m\u001b[0m\u001b[1;33m\u001b[0m\u001b[1;33m\u001b[0m\u001b[0m\n\u001b[1;32m--> 929\u001b[1;33m         \u001b[0mu\u001b[0m\u001b[1;33m,\u001b[0m \u001b[0mv\u001b[0m\u001b[1;33m,\u001b[0m \u001b[0mlogl\u001b[0m\u001b[1;33m,\u001b[0m \u001b[0mnc\u001b[0m \u001b[1;33m=\u001b[0m \u001b[0msampler\u001b[0m\u001b[1;33m.\u001b[0m\u001b[0mnew_point\u001b[0m\u001b[1;33m(\u001b[0m\u001b[0mloglstar\u001b[0m\u001b[1;33m)\u001b[0m\u001b[1;33m\u001b[0m\u001b[1;33m\u001b[0m\u001b[0m\n\u001b[0m\u001b[0;32m    930\u001b[0m \u001b[1;33m\u001b[0m\u001b[0m\n\u001b[0;32m    931\u001b[0m         \u001b[1;31m# replace worst point with new point\u001b[0m\u001b[1;33m\u001b[0m\u001b[1;33m\u001b[0m\u001b[1;33m\u001b[0m\u001b[0m\n",
      "\u001b[1;32m~\\Anaconda3\\envs\\dddm\\lib\\site-packages\\nestle.py\u001b[0m in \u001b[0;36mnew_point\u001b[1;34m(self, loglstar)\u001b[0m\n\u001b[0;32m    668\u001b[0m                     \u001b[1;32mbreak\u001b[0m\u001b[1;33m\u001b[0m\u001b[1;33m\u001b[0m\u001b[0m\n\u001b[0;32m    669\u001b[0m             \u001b[0mv\u001b[0m \u001b[1;33m=\u001b[0m \u001b[0mself\u001b[0m\u001b[1;33m.\u001b[0m\u001b[0mprior_transform\u001b[0m\u001b[1;33m(\u001b[0m\u001b[0mu\u001b[0m\u001b[1;33m)\u001b[0m\u001b[1;33m\u001b[0m\u001b[1;33m\u001b[0m\u001b[0m\n\u001b[1;32m--> 670\u001b[1;33m             \u001b[0mlogl\u001b[0m \u001b[1;33m=\u001b[0m \u001b[0mself\u001b[0m\u001b[1;33m.\u001b[0m\u001b[0mloglikelihood\u001b[0m\u001b[1;33m(\u001b[0m\u001b[0mv\u001b[0m\u001b[1;33m)\u001b[0m\u001b[1;33m\u001b[0m\u001b[1;33m\u001b[0m\u001b[0m\n\u001b[0m\u001b[0;32m    671\u001b[0m             \u001b[0mncall\u001b[0m \u001b[1;33m+=\u001b[0m \u001b[1;36m1\u001b[0m\u001b[1;33m\u001b[0m\u001b[1;33m\u001b[0m\u001b[0m\n\u001b[0;32m    672\u001b[0m             \u001b[1;32mif\u001b[0m \u001b[0mlogl\u001b[0m \u001b[1;33m>=\u001b[0m \u001b[0mloglstar\u001b[0m\u001b[1;33m:\u001b[0m\u001b[1;33m\u001b[0m\u001b[1;33m\u001b[0m\u001b[0m\n",
      "\u001b[1;32md:\\google_drive\\phd-master\\ubuntu-storage\\ubuntu-windows\\software\\directdmtargets\\DirectDmTargets\\nested_sampling.py\u001b[0m in \u001b[0;36m_log_probability_nested\u001b[1;34m(self, theta)\u001b[0m\n\u001b[0;32m    139\u001b[0m                 \u001b[1;34mf'_log_probability_nested for {ndim} parameters'\u001b[0m\u001b[1;33m\u001b[0m\u001b[1;33m\u001b[0m\u001b[0m\n\u001b[0;32m    140\u001b[0m                 f'\\n\\t\\tooph, what a nasty function to do some transformations behind the scenes')\n\u001b[1;32m--> 141\u001b[1;33m         result = self.log_probability_nested(\n\u001b[0m\u001b[0;32m    142\u001b[0m             theta, self.known_parameters[:ndim])\n\u001b[0;32m    143\u001b[0m         \u001b[1;32mreturn\u001b[0m \u001b[0mresult\u001b[0m\u001b[1;33m\u001b[0m\u001b[1;33m\u001b[0m\u001b[0m\n",
      "\u001b[1;32md:\\google_drive\\phd-master\\ubuntu-storage\\ubuntu-windows\\software\\directdmtargets\\DirectDmTargets\\nested_sampling.py\u001b[0m in \u001b[0;36mlog_probability_nested\u001b[1;34m(self, parameter_vals, parameter_names)\u001b[0m\n\u001b[0;32m     95\u001b[0m             print(\n\u001b[0;32m     96\u001b[0m                 f'NestedSamplerStatModel::\\tSUPERVERBOSE\\tthere we go! Find that log probability')\n\u001b[1;32m---> 97\u001b[1;33m         evaluated_rate = self.eval_spectrum(parameter_vals, parameter_names)[\n\u001b[0m\u001b[0;32m     98\u001b[0m             'counts']\n\u001b[0;32m     99\u001b[0m \u001b[1;33m\u001b[0m\u001b[0m\n",
      "\u001b[1;32md:\\google_drive\\phd-master\\ubuntu-storage\\ubuntu-windows\\software\\directdmtargets\\DirectDmTargets\\statistics.py\u001b[0m in \u001b[0;36meval_spectrum\u001b[1;34m(self, values, parameter_names)\u001b[0m\n\u001b[0;32m    574\u001b[0m             self.log.debug(\n\u001b[0;32m    575\u001b[0m                 f\"StatModel::\\tSUPERVERBOSE\\tAlright spectrum set. Evaluate now!\")\n\u001b[1;32m--> 576\u001b[1;33m             \u001b[0mbinned_spectrum\u001b[0m \u001b[1;33m=\u001b[0m \u001b[0mspectrum\u001b[0m\u001b[1;33m.\u001b[0m\u001b[0mget_data\u001b[0m\u001b[1;33m(\u001b[0m\u001b[0mpoisson\u001b[0m\u001b[1;33m=\u001b[0m\u001b[1;32mFalse\u001b[0m\u001b[1;33m)\u001b[0m\u001b[1;33m\u001b[0m\u001b[1;33m\u001b[0m\u001b[0m\n\u001b[0m\u001b[0;32m    577\u001b[0m             \u001b[1;32mif\u001b[0m \u001b[0mself\u001b[0m\u001b[1;33m.\u001b[0m\u001b[0mconfig\u001b[0m\u001b[1;33m[\u001b[0m\u001b[1;34m'save_intermediate'\u001b[0m\u001b[1;33m]\u001b[0m\u001b[1;33m:\u001b[0m\u001b[1;33m\u001b[0m\u001b[1;33m\u001b[0m\u001b[0m\n\u001b[0;32m    578\u001b[0m                 \u001b[0mself\u001b[0m\u001b[1;33m.\u001b[0m\u001b[0msave_intermediate_result\u001b[0m\u001b[1;33m(\u001b[0m\u001b[0mbinned_spectrum\u001b[0m\u001b[1;33m,\u001b[0m \u001b[0minterm_file\u001b[0m\u001b[1;33m)\u001b[0m\u001b[1;33m\u001b[0m\u001b[1;33m\u001b[0m\u001b[0m\n",
      "\u001b[1;32md:\\google_drive\\phd-master\\ubuntu-storage\\ubuntu-windows\\software\\directdmtargets\\DirectDmTargets\\detector.py\u001b[0m in \u001b[0;36mget_data\u001b[1;34m(self, poisson)\u001b[0m\n\u001b[0;32m    527\u001b[0m             \u001b[0mresult\u001b[0m\u001b[1;33m[\u001b[0m\u001b[1;34m'counts'\u001b[0m\u001b[1;33m]\u001b[0m \u001b[1;33m=\u001b[0m \u001b[0mself\u001b[0m\u001b[1;33m.\u001b[0m\u001b[0mget_poisson_events\u001b[0m\u001b[1;33m(\u001b[0m\u001b[1;33m)\u001b[0m\u001b[1;33m\u001b[0m\u001b[1;33m\u001b[0m\u001b[0m\n\u001b[0;32m    528\u001b[0m         \u001b[1;32melse\u001b[0m\u001b[1;33m:\u001b[0m\u001b[1;33m\u001b[0m\u001b[1;33m\u001b[0m\u001b[0m\n\u001b[1;32m--> 529\u001b[1;33m             \u001b[0mresult\u001b[0m\u001b[1;33m[\u001b[0m\u001b[1;34m'counts'\u001b[0m\u001b[1;33m]\u001b[0m \u001b[1;33m=\u001b[0m \u001b[0mself\u001b[0m\u001b[1;33m.\u001b[0m\u001b[0mget_events\u001b[0m\u001b[1;33m(\u001b[0m\u001b[1;33m)\u001b[0m\u001b[1;33m\u001b[0m\u001b[1;33m\u001b[0m\u001b[0m\n\u001b[0m\u001b[0;32m    530\u001b[0m         \u001b[0mbins\u001b[0m \u001b[1;33m=\u001b[0m \u001b[0mget_bins\u001b[0m\u001b[1;33m(\u001b[0m\u001b[0mself\u001b[0m\u001b[1;33m.\u001b[0m\u001b[0mE_min\u001b[0m\u001b[1;33m,\u001b[0m \u001b[0mself\u001b[0m\u001b[1;33m.\u001b[0m\u001b[0mE_max\u001b[0m\u001b[1;33m,\u001b[0m \u001b[0mself\u001b[0m\u001b[1;33m.\u001b[0m\u001b[0mn_bins_result\u001b[0m\u001b[1;33m)\u001b[0m\u001b[1;33m\u001b[0m\u001b[1;33m\u001b[0m\u001b[0m\n\u001b[0;32m    531\u001b[0m         \u001b[0mresult\u001b[0m\u001b[1;33m[\u001b[0m\u001b[1;34m'bin_centers'\u001b[0m\u001b[1;33m]\u001b[0m \u001b[1;33m=\u001b[0m \u001b[0mnp\u001b[0m\u001b[1;33m.\u001b[0m\u001b[0mmean\u001b[0m\u001b[1;33m(\u001b[0m\u001b[0mbins\u001b[0m\u001b[1;33m,\u001b[0m \u001b[0maxis\u001b[0m\u001b[1;33m=\u001b[0m\u001b[1;36m1\u001b[0m\u001b[1;33m)\u001b[0m\u001b[1;33m\u001b[0m\u001b[1;33m\u001b[0m\u001b[0m\n",
      "\u001b[1;32md:\\google_drive\\phd-master\\ubuntu-storage\\ubuntu-windows\\software\\directdmtargets\\DirectDmTargets\\detector.py\u001b[0m in \u001b[0;36mget_events\u001b[1;34m(self)\u001b[0m\n\u001b[0;32m    515\u001b[0m         \u001b[1;33m:\u001b[0m\u001b[1;32mreturn\u001b[0m\u001b[1;33m:\u001b[0m \u001b[0mEvents\u001b[0m \u001b[1;33m(\u001b[0m\u001b[0mbinned\u001b[0m\u001b[1;33m)\u001b[0m\u001b[1;33m\u001b[0m\u001b[1;33m\u001b[0m\u001b[0m\n\u001b[0;32m    516\u001b[0m         \"\"\"\n\u001b[1;32m--> 517\u001b[1;33m         \u001b[1;32mreturn\u001b[0m \u001b[0mself\u001b[0m\u001b[1;33m.\u001b[0m\u001b[0mcompute_detected_spectrum\u001b[0m\u001b[1;33m(\u001b[0m\u001b[1;33m)\u001b[0m\u001b[1;33m\u001b[0m\u001b[1;33m\u001b[0m\u001b[0m\n\u001b[0m\u001b[0;32m    518\u001b[0m \u001b[1;33m\u001b[0m\u001b[0m\n\u001b[0;32m    519\u001b[0m     \u001b[1;32mdef\u001b[0m \u001b[0mget_data\u001b[0m\u001b[1;33m(\u001b[0m\u001b[0mself\u001b[0m\u001b[1;33m,\u001b[0m \u001b[0mpoisson\u001b[0m\u001b[1;33m=\u001b[0m\u001b[1;32mTrue\u001b[0m\u001b[1;33m)\u001b[0m\u001b[1;33m:\u001b[0m\u001b[1;33m\u001b[0m\u001b[1;33m\u001b[0m\u001b[0m\n",
      "\u001b[1;32md:\\google_drive\\phd-master\\ubuntu-storage\\ubuntu-windows\\software\\directdmtargets\\DirectDmTargets\\detector.py\u001b[0m in \u001b[0;36mcompute_detected_spectrum\u001b[1;34m(self)\u001b[0m\n\u001b[0;32m    485\u001b[0m         \u001b[0mself\u001b[0m\u001b[1;33m.\u001b[0m\u001b[0mn_bins\u001b[0m \u001b[1;33m=\u001b[0m \u001b[0mself\u001b[0m\u001b[1;33m.\u001b[0m\u001b[0mn_bins\u001b[0m \u001b[1;33m*\u001b[0m \u001b[0mself\u001b[0m\u001b[1;33m.\u001b[0m\u001b[0mrebin_factor\u001b[0m\u001b[1;33m\u001b[0m\u001b[1;33m\u001b[0m\u001b[0m\n\u001b[0;32m    486\u001b[0m         \u001b[1;31m# get the spectrum\u001b[0m\u001b[1;33m\u001b[0m\u001b[1;33m\u001b[0m\u001b[1;33m\u001b[0m\u001b[0m\n\u001b[1;32m--> 487\u001b[1;33m         \u001b[0mrates\u001b[0m \u001b[1;33m=\u001b[0m \u001b[0mself\u001b[0m\u001b[1;33m.\u001b[0m\u001b[0mspectrum_simple\u001b[0m\u001b[1;33m(\u001b[0m\u001b[1;33m[\u001b[0m\u001b[0mself\u001b[0m\u001b[1;33m.\u001b[0m\u001b[0mmw\u001b[0m\u001b[1;33m,\u001b[0m \u001b[0mself\u001b[0m\u001b[1;33m.\u001b[0m\u001b[0msigma_nucleon\u001b[0m\u001b[1;33m]\u001b[0m\u001b[1;33m)\u001b[0m\u001b[1;33m\u001b[0m\u001b[1;33m\u001b[0m\u001b[0m\n\u001b[0m\u001b[0;32m    488\u001b[0m         \u001b[1;31m# if this option is set to true, add a background component\u001b[0m\u001b[1;33m\u001b[0m\u001b[1;33m\u001b[0m\u001b[1;33m\u001b[0m\u001b[0m\n\u001b[0;32m    489\u001b[0m         \u001b[1;32mif\u001b[0m \u001b[0mself\u001b[0m\u001b[1;33m.\u001b[0m\u001b[0madd_background\u001b[0m\u001b[1;33m:\u001b[0m\u001b[1;33m\u001b[0m\u001b[1;33m\u001b[0m\u001b[0m\n",
      "\u001b[1;32md:\\google_drive\\phd-master\\ubuntu-storage\\ubuntu-windows\\software\\directdmtargets\\DirectDmTargets\\halo.py\u001b[0m in \u001b[0;36mspectrum_simple\u001b[1;34m(self, benchmark)\u001b[0m\n\u001b[0;32m     79\u001b[0m             \u001b[1;32mraise\u001b[0m \u001b[0me\u001b[0m\u001b[1;33m\u001b[0m\u001b[1;33m\u001b[0m\u001b[0m\n\u001b[0;32m     80\u001b[0m         \u001b[1;32mif\u001b[0m \u001b[0mself\u001b[0m\u001b[1;33m.\u001b[0m\u001b[0mexperiment\u001b[0m\u001b[1;33m[\u001b[0m\u001b[1;34m'type'\u001b[0m\u001b[1;33m]\u001b[0m \u001b[1;32min\u001b[0m \u001b[1;33m[\u001b[0m\u001b[1;34m'SI'\u001b[0m\u001b[1;33m,\u001b[0m \u001b[1;34m'SI_bg'\u001b[0m\u001b[1;33m]\u001b[0m\u001b[1;33m:\u001b[0m\u001b[1;33m\u001b[0m\u001b[1;33m\u001b[0m\u001b[0m\n\u001b[1;32m---> 81\u001b[1;33m             rate = wr.rate_wimp_std(self.get_bin_centers(),\n\u001b[0m\u001b[0;32m     82\u001b[0m                                     \u001b[0mbenchmark\u001b[0m\u001b[1;33m[\u001b[0m\u001b[1;34m\"mw\"\u001b[0m\u001b[1;33m]\u001b[0m\u001b[1;33m,\u001b[0m\u001b[1;33m\u001b[0m\u001b[1;33m\u001b[0m\u001b[0m\n\u001b[0;32m     83\u001b[0m                                     \u001b[0mbenchmark\u001b[0m\u001b[1;33m[\u001b[0m\u001b[1;34m\"sigma_nucleon\"\u001b[0m\u001b[1;33m]\u001b[0m\u001b[1;33m,\u001b[0m\u001b[1;33m\u001b[0m\u001b[1;33m\u001b[0m\u001b[0m\n",
      "\u001b[1;32m~\\Anaconda3\\envs\\dddm\\lib\\site-packages\\wimprates\\summary.py\u001b[0m in \u001b[0;36mrate_wimp_std\u001b[1;34m(es, mw, sigma_nucleon, m_med, t, halo_model, **kwargs)\u001b[0m\n\u001b[0;32m     73\u001b[0m     \"\"\"\n\u001b[0;32m     74\u001b[0m     \u001b[0mhalo_model\u001b[0m \u001b[1;33m=\u001b[0m \u001b[0mwr\u001b[0m\u001b[1;33m.\u001b[0m\u001b[0mStandardHaloModel\u001b[0m\u001b[1;33m(\u001b[0m\u001b[1;33m)\u001b[0m \u001b[1;32mif\u001b[0m \u001b[0mhalo_model\u001b[0m \u001b[1;32mis\u001b[0m \u001b[1;32mNone\u001b[0m \u001b[1;32melse\u001b[0m \u001b[0mhalo_model\u001b[0m\u001b[1;33m\u001b[0m\u001b[1;33m\u001b[0m\u001b[0m\n\u001b[1;32m---> 75\u001b[1;33m     return (rate_wimp(es=es * nu.keV,\n\u001b[0m\u001b[0;32m     76\u001b[0m                       \u001b[0mmw\u001b[0m\u001b[1;33m=\u001b[0m\u001b[0mmw\u001b[0m \u001b[1;33m*\u001b[0m \u001b[0mnu\u001b[0m\u001b[1;33m.\u001b[0m\u001b[0mGeV\u001b[0m\u001b[1;33m/\u001b[0m\u001b[0mnu\u001b[0m\u001b[1;33m.\u001b[0m\u001b[0mc0\u001b[0m\u001b[1;33m**\u001b[0m\u001b[1;36m2\u001b[0m\u001b[1;33m,\u001b[0m\u001b[1;33m\u001b[0m\u001b[1;33m\u001b[0m\u001b[0m\n\u001b[0;32m     77\u001b[0m                       \u001b[0msigma_nucleon\u001b[0m\u001b[1;33m=\u001b[0m\u001b[0msigma_nucleon\u001b[0m \u001b[1;33m*\u001b[0m \u001b[0mnu\u001b[0m\u001b[1;33m.\u001b[0m\u001b[0mcm\u001b[0m\u001b[1;33m**\u001b[0m\u001b[1;36m2\u001b[0m\u001b[1;33m,\u001b[0m\u001b[1;33m\u001b[0m\u001b[1;33m\u001b[0m\u001b[0m\n",
      "\u001b[1;32m~\\Anaconda3\\envs\\dddm\\lib\\site-packages\\wimprates\\summary.py\u001b[0m in \u001b[0;36mrate_wimp\u001b[1;34m(es, mw, sigma_nucleon, interaction, detection_mechanism, m_med, t, halo_model, **kwargs)\u001b[0m\n\u001b[0;32m     51\u001b[0m         raise NotImplementedError(\n\u001b[0;32m     52\u001b[0m             \"Unsupported detection mechanism '%s'\" % detection_mechanism)\n\u001b[1;32m---> 53\u001b[1;33m     return dmechs[detection_mechanism](\n\u001b[0m\u001b[0;32m     54\u001b[0m         \u001b[0mes\u001b[0m\u001b[1;33m,\u001b[0m \u001b[0mmw\u001b[0m\u001b[1;33m=\u001b[0m\u001b[0mmw\u001b[0m\u001b[1;33m,\u001b[0m \u001b[0msigma_nucleon\u001b[0m\u001b[1;33m=\u001b[0m\u001b[0msigma_nucleon\u001b[0m\u001b[1;33m,\u001b[0m \u001b[0minteraction\u001b[0m\u001b[1;33m=\u001b[0m\u001b[0minteraction\u001b[0m\u001b[1;33m,\u001b[0m\u001b[1;33m\u001b[0m\u001b[1;33m\u001b[0m\u001b[0m\n\u001b[0;32m     55\u001b[0m         m_med=m_med, halo_model=halo_model, t=t, **kwargs)\n",
      "\u001b[1;32m<boltons.funcutils.FunctionBuilder-1>\u001b[0m in \u001b[0;36mrate_elastic\u001b[1;34m(erec, mw, sigma_nucleon, interaction, m_med, t, material, halo_model, **kwargs)\u001b[0m\n",
      "\u001b[1;32m~\\Anaconda3\\envs\\dddm\\lib\\site-packages\\wimprates\\utils.py\u001b[0m in \u001b[0;36mnewf\u001b[1;34m(xs, *args, **kwargs)\u001b[0m\n\u001b[0;32m     57\u001b[0m         \u001b[1;32mif\u001b[0m \u001b[0misinstance\u001b[0m\u001b[1;33m(\u001b[0m\u001b[0mxs\u001b[0m\u001b[1;33m,\u001b[0m \u001b[1;33m(\u001b[0m\u001b[0mlist\u001b[0m\u001b[1;33m,\u001b[0m \u001b[0mnp\u001b[0m\u001b[1;33m.\u001b[0m\u001b[0mndarray\u001b[0m\u001b[1;33m)\u001b[0m\u001b[1;33m)\u001b[0m \u001b[1;32mand\u001b[0m \u001b[0mlen\u001b[0m\u001b[1;33m(\u001b[0m\u001b[0mxs\u001b[0m\u001b[1;33m)\u001b[0m\u001b[1;33m:\u001b[0m\u001b[1;33m\u001b[0m\u001b[1;33m\u001b[0m\u001b[0m\n\u001b[0;32m     58\u001b[0m             return np.array(\n\u001b[1;32m---> 59\u001b[1;33m                 [f(x, *args, **kwargs)\n\u001b[0m\u001b[0;32m     60\u001b[0m                  for x in itr(xs)])\n\u001b[0;32m     61\u001b[0m         \u001b[1;32mreturn\u001b[0m \u001b[0mf\u001b[0m\u001b[1;33m(\u001b[0m\u001b[0mxs\u001b[0m\u001b[1;33m,\u001b[0m \u001b[1;33m*\u001b[0m\u001b[0margs\u001b[0m\u001b[1;33m,\u001b[0m \u001b[1;33m**\u001b[0m\u001b[0mkwargs\u001b[0m\u001b[1;33m)\u001b[0m\u001b[1;33m\u001b[0m\u001b[1;33m\u001b[0m\u001b[0m\n",
      "\u001b[1;32m~\\Anaconda3\\envs\\dddm\\lib\\site-packages\\wimprates\\utils.py\u001b[0m in \u001b[0;36m<listcomp>\u001b[1;34m(.0)\u001b[0m\n\u001b[0;32m     57\u001b[0m         \u001b[1;32mif\u001b[0m \u001b[0misinstance\u001b[0m\u001b[1;33m(\u001b[0m\u001b[0mxs\u001b[0m\u001b[1;33m,\u001b[0m \u001b[1;33m(\u001b[0m\u001b[0mlist\u001b[0m\u001b[1;33m,\u001b[0m \u001b[0mnp\u001b[0m\u001b[1;33m.\u001b[0m\u001b[0mndarray\u001b[0m\u001b[1;33m)\u001b[0m\u001b[1;33m)\u001b[0m \u001b[1;32mand\u001b[0m \u001b[0mlen\u001b[0m\u001b[1;33m(\u001b[0m\u001b[0mxs\u001b[0m\u001b[1;33m)\u001b[0m\u001b[1;33m:\u001b[0m\u001b[1;33m\u001b[0m\u001b[1;33m\u001b[0m\u001b[0m\n\u001b[0;32m     58\u001b[0m             return np.array(\n\u001b[1;32m---> 59\u001b[1;33m                 [f(x, *args, **kwargs)\n\u001b[0m\u001b[0;32m     60\u001b[0m                  for x in itr(xs)])\n\u001b[0;32m     61\u001b[0m         \u001b[1;32mreturn\u001b[0m \u001b[0mf\u001b[0m\u001b[1;33m(\u001b[0m\u001b[0mxs\u001b[0m\u001b[1;33m,\u001b[0m \u001b[1;33m*\u001b[0m\u001b[0margs\u001b[0m\u001b[1;33m,\u001b[0m \u001b[1;33m**\u001b[0m\u001b[0mkwargs\u001b[0m\u001b[1;33m)\u001b[0m\u001b[1;33m\u001b[0m\u001b[1;33m\u001b[0m\u001b[0m\n",
      "\u001b[1;32m~\\Anaconda3\\envs\\dddm\\lib\\site-packages\\wimprates\\elastic_nr.py\u001b[0m in \u001b[0;36mrate_elastic\u001b[1;34m(erec, mw, sigma_nucleon, interaction, m_med, t, material, halo_model, **kwargs)\u001b[0m\n\u001b[0;32m    224\u001b[0m                 * halo_model.velocity_dist(v, t))\n\u001b[0;32m    225\u001b[0m \u001b[1;33m\u001b[0m\u001b[0m\n\u001b[1;32m--> 226\u001b[1;33m     return halo_model.rho_dm / mw * (1 / mn(material)) * quad(\n\u001b[0m\u001b[0;32m    227\u001b[0m         \u001b[0mintegrand\u001b[0m\u001b[1;33m,\u001b[0m\u001b[1;33m\u001b[0m\u001b[1;33m\u001b[0m\u001b[0m\n\u001b[0;32m    228\u001b[0m         \u001b[0mv_min\u001b[0m\u001b[1;33m,\u001b[0m \u001b[0mwr\u001b[0m\u001b[1;33m.\u001b[0m\u001b[0mv_max\u001b[0m\u001b[1;33m(\u001b[0m\u001b[0mt\u001b[0m\u001b[1;33m,\u001b[0m \u001b[0mhalo_model\u001b[0m\u001b[1;33m.\u001b[0m\u001b[0mv_esc\u001b[0m\u001b[1;33m)\u001b[0m\u001b[1;33m,\u001b[0m\u001b[1;33m\u001b[0m\u001b[1;33m\u001b[0m\u001b[0m\n",
      "\u001b[1;32m~\\Anaconda3\\envs\\dddm\\lib\\site-packages\\scipy\\integrate\\quadpack.py\u001b[0m in \u001b[0;36mquad\u001b[1;34m(func, a, b, args, full_output, epsabs, epsrel, limit, points, weight, wvar, wopts, maxp1, limlst)\u001b[0m\n\u001b[0;32m    349\u001b[0m \u001b[1;33m\u001b[0m\u001b[0m\n\u001b[0;32m    350\u001b[0m     \u001b[1;32mif\u001b[0m \u001b[0mweight\u001b[0m \u001b[1;32mis\u001b[0m \u001b[1;32mNone\u001b[0m\u001b[1;33m:\u001b[0m\u001b[1;33m\u001b[0m\u001b[1;33m\u001b[0m\u001b[0m\n\u001b[1;32m--> 351\u001b[1;33m         retval = _quad(func, a, b, args, full_output, epsabs, epsrel, limit,\n\u001b[0m\u001b[0;32m    352\u001b[0m                        points)\n\u001b[0;32m    353\u001b[0m     \u001b[1;32melse\u001b[0m\u001b[1;33m:\u001b[0m\u001b[1;33m\u001b[0m\u001b[1;33m\u001b[0m\u001b[0m\n",
      "\u001b[1;32m~\\Anaconda3\\envs\\dddm\\lib\\site-packages\\scipy\\integrate\\quadpack.py\u001b[0m in \u001b[0;36m_quad\u001b[1;34m(func, a, b, args, full_output, epsabs, epsrel, limit, points)\u001b[0m\n\u001b[0;32m    461\u001b[0m     \u001b[1;32mif\u001b[0m \u001b[0mpoints\u001b[0m \u001b[1;32mis\u001b[0m \u001b[1;32mNone\u001b[0m\u001b[1;33m:\u001b[0m\u001b[1;33m\u001b[0m\u001b[1;33m\u001b[0m\u001b[0m\n\u001b[0;32m    462\u001b[0m         \u001b[1;32mif\u001b[0m \u001b[0minfbounds\u001b[0m \u001b[1;33m==\u001b[0m \u001b[1;36m0\u001b[0m\u001b[1;33m:\u001b[0m\u001b[1;33m\u001b[0m\u001b[1;33m\u001b[0m\u001b[0m\n\u001b[1;32m--> 463\u001b[1;33m             \u001b[1;32mreturn\u001b[0m \u001b[0m_quadpack\u001b[0m\u001b[1;33m.\u001b[0m\u001b[0m_qagse\u001b[0m\u001b[1;33m(\u001b[0m\u001b[0mfunc\u001b[0m\u001b[1;33m,\u001b[0m\u001b[0ma\u001b[0m\u001b[1;33m,\u001b[0m\u001b[0mb\u001b[0m\u001b[1;33m,\u001b[0m\u001b[0margs\u001b[0m\u001b[1;33m,\u001b[0m\u001b[0mfull_output\u001b[0m\u001b[1;33m,\u001b[0m\u001b[0mepsabs\u001b[0m\u001b[1;33m,\u001b[0m\u001b[0mepsrel\u001b[0m\u001b[1;33m,\u001b[0m\u001b[0mlimit\u001b[0m\u001b[1;33m)\u001b[0m\u001b[1;33m\u001b[0m\u001b[1;33m\u001b[0m\u001b[0m\n\u001b[0m\u001b[0;32m    464\u001b[0m         \u001b[1;32melse\u001b[0m\u001b[1;33m:\u001b[0m\u001b[1;33m\u001b[0m\u001b[1;33m\u001b[0m\u001b[0m\n\u001b[0;32m    465\u001b[0m             \u001b[1;32mreturn\u001b[0m \u001b[0m_quadpack\u001b[0m\u001b[1;33m.\u001b[0m\u001b[0m_qagie\u001b[0m\u001b[1;33m(\u001b[0m\u001b[0mfunc\u001b[0m\u001b[1;33m,\u001b[0m\u001b[0mbound\u001b[0m\u001b[1;33m,\u001b[0m\u001b[0minfbounds\u001b[0m\u001b[1;33m,\u001b[0m\u001b[0margs\u001b[0m\u001b[1;33m,\u001b[0m\u001b[0mfull_output\u001b[0m\u001b[1;33m,\u001b[0m\u001b[0mepsabs\u001b[0m\u001b[1;33m,\u001b[0m\u001b[0mepsrel\u001b[0m\u001b[1;33m,\u001b[0m\u001b[0mlimit\u001b[0m\u001b[1;33m)\u001b[0m\u001b[1;33m\u001b[0m\u001b[1;33m\u001b[0m\u001b[0m\n",
      "\u001b[1;32m~\\Anaconda3\\envs\\dddm\\lib\\site-packages\\wimprates\\elastic_nr.py\u001b[0m in \u001b[0;36mintegrand\u001b[1;34m(v)\u001b[0m\n\u001b[0;32m    222\u001b[0m         return (sigma_erec(erec, v, mw, sigma_nucleon,\n\u001b[0;32m    223\u001b[0m                            interaction, m_med, material=material) * v\n\u001b[1;32m--> 224\u001b[1;33m                 * halo_model.velocity_dist(v, t))\n\u001b[0m\u001b[0;32m    225\u001b[0m \u001b[1;33m\u001b[0m\u001b[0m\n\u001b[0;32m    226\u001b[0m     return halo_model.rho_dm / mw * (1 / mn(material)) * quad(\n",
      "\u001b[1;32md:\\google_drive\\phd-master\\ubuntu-storage\\ubuntu-windows\\software\\directdmtargets\\DirectDmTargets\\halo.py\u001b[0m in \u001b[0;36mvelocity_dist\u001b[1;34m(self, v, t)\u001b[0m\n\u001b[0;32m    321\u001b[0m         \"\"\"\n\u001b[0;32m    322\u001b[0m         \u001b[1;32mif\u001b[0m \u001b[0mself\u001b[0m\u001b[1;33m.\u001b[0m\u001b[0mitp_func\u001b[0m \u001b[1;32mis\u001b[0m \u001b[1;32mNone\u001b[0m\u001b[1;33m:\u001b[0m\u001b[1;33m\u001b[0m\u001b[1;33m\u001b[0m\u001b[0m\n\u001b[1;32m--> 323\u001b[1;33m             \u001b[0mself\u001b[0m\u001b[1;33m.\u001b[0m\u001b[0mload_f\u001b[0m\u001b[1;33m(\u001b[0m\u001b[1;33m)\u001b[0m\u001b[1;33m\u001b[0m\u001b[1;33m\u001b[0m\u001b[0m\n\u001b[0m\u001b[0;32m    324\u001b[0m         \u001b[1;32mreturn\u001b[0m \u001b[0mself\u001b[0m\u001b[1;33m.\u001b[0m\u001b[0mitp_func\u001b[0m\u001b[1;33m(\u001b[0m\u001b[0mv\u001b[0m\u001b[1;33m,\u001b[0m \u001b[0mt\u001b[0m\u001b[1;33m)\u001b[0m\u001b[1;33m\u001b[0m\u001b[1;33m\u001b[0m\u001b[0m\n",
      "\u001b[1;32md:\\google_drive\\phd-master\\ubuntu-storage\\ubuntu-windows\\software\\directdmtargets\\DirectDmTargets\\halo.py\u001b[0m in \u001b[0;36mload_f\u001b[1;34m(self)\u001b[0m\n\u001b[0;32m    265\u001b[0m             exist_csv, bool), assertion_string\n\u001b[0;32m    266\u001b[0m         \u001b[1;32mif\u001b[0m \u001b[1;32mnot\u001b[0m \u001b[0mexist_csv\u001b[0m\u001b[1;33m:\u001b[0m\u001b[1;33m\u001b[0m\u001b[1;33m\u001b[0m\u001b[0m\n\u001b[1;32m--> 267\u001b[1;33m             verne.CalcVelDist.write_calcveldist(\n\u001b[0m\u001b[0;32m    268\u001b[0m                 \u001b[0mm_x\u001b[0m\u001b[1;33m=\u001b[0m\u001b[1;36m10.\u001b[0m \u001b[1;33m**\u001b[0m \u001b[0mself\u001b[0m\u001b[1;33m.\u001b[0m\u001b[0mlog_mass\u001b[0m\u001b[1;33m,\u001b[0m\u001b[1;33m\u001b[0m\u001b[1;33m\u001b[0m\u001b[0m\n\u001b[0;32m    269\u001b[0m                 \u001b[0msigma_p\u001b[0m\u001b[1;33m=\u001b[0m\u001b[1;36m10.\u001b[0m \u001b[1;33m**\u001b[0m \u001b[0mself\u001b[0m\u001b[1;33m.\u001b[0m\u001b[0mlog_cross_section\u001b[0m\u001b[1;33m,\u001b[0m\u001b[1;33m\u001b[0m\u001b[1;33m\u001b[0m\u001b[0m\n",
      "\u001b[1;32md:\\google_drive\\phd-master\\ubuntu-storage\\ubuntu-windows\\software\\verne\\verne\\CalcVelDist.py\u001b[0m in \u001b[0;36mwrite_calcveldist\u001b[1;34m(m_x, sigma_p, loc, N_gamma, v_esc, v_0, save_as)\u001b[0m\n\u001b[0;32m    112\u001b[0m     \u001b[1;32mfor\u001b[0m \u001b[0mj\u001b[0m \u001b[1;32min\u001b[0m \u001b[0mrange\u001b[0m\u001b[1;33m(\u001b[0m\u001b[0mN_gamma\u001b[0m\u001b[1;33m)\u001b[0m\u001b[1;33m:\u001b[0m\u001b[1;33m\u001b[0m\u001b[1;33m\u001b[0m\u001b[0m\n\u001b[0;32m    113\u001b[0m         \u001b[0mprint\u001b[0m\u001b[1;33m(\u001b[0m\u001b[1;34m\"    Calculating for gamma/pi = \"\u001b[0m\u001b[1;33m,\u001b[0m \u001b[0mgamma_list\u001b[0m\u001b[1;33m[\u001b[0m\u001b[0mj\u001b[0m\u001b[1;33m]\u001b[0m\u001b[1;33m,\u001b[0m \u001b[1;34m\"...\"\u001b[0m\u001b[1;33m)\u001b[0m\u001b[1;33m\u001b[0m\u001b[1;33m\u001b[0m\u001b[0m\n\u001b[1;32m--> 114\u001b[1;33m         \u001b[0mres\u001b[0m \u001b[1;33m=\u001b[0m \u001b[0mgetVelDist\u001b[0m\u001b[1;33m(\u001b[0m\u001b[0mgamma_list\u001b[0m\u001b[1;33m[\u001b[0m\u001b[0mj\u001b[0m\u001b[1;33m]\u001b[0m \u001b[1;33m*\u001b[0m \u001b[0mnp\u001b[0m\u001b[1;33m.\u001b[0m\u001b[0mpi\u001b[0m\u001b[1;33m)\u001b[0m\u001b[1;33m\u001b[0m\u001b[1;33m\u001b[0m\u001b[0m\n\u001b[0m\u001b[0;32m    115\u001b[0m         \u001b[0mvgrid\u001b[0m\u001b[1;33m[\u001b[0m\u001b[0mj\u001b[0m\u001b[1;33m,\u001b[0m \u001b[1;33m:\u001b[0m\u001b[1;33m]\u001b[0m\u001b[1;33m,\u001b[0m \u001b[0mfgrid\u001b[0m\u001b[1;33m[\u001b[0m\u001b[0mj\u001b[0m\u001b[1;33m,\u001b[0m \u001b[1;33m:\u001b[0m\u001b[1;33m]\u001b[0m \u001b[1;33m=\u001b[0m \u001b[0mres\u001b[0m\u001b[1;33m\u001b[0m\u001b[1;33m\u001b[0m\u001b[0m\n\u001b[0;32m    116\u001b[0m         \u001b[0mvgrid_average\u001b[0m \u001b[1;33m+=\u001b[0m \u001b[0mnp\u001b[0m\u001b[1;33m.\u001b[0m\u001b[0marray\u001b[0m\u001b[1;33m(\u001b[0m\u001b[0mres\u001b[0m\u001b[1;33m[\u001b[0m\u001b[1;36m0\u001b[0m\u001b[1;33m]\u001b[0m\u001b[1;33m)\u001b[0m\u001b[1;33m\u001b[0m\u001b[1;33m\u001b[0m\u001b[0m\n",
      "\u001b[1;32md:\\google_drive\\phd-master\\ubuntu-storage\\ubuntu-windows\\software\\verne\\verne\\CalcVelDist.py\u001b[0m in \u001b[0;36mgetVelDist\u001b[1;34m(gamma)\u001b[0m\n\u001b[0;32m     83\u001b[0m         \u001b[0mv_final_max\u001b[0m \u001b[1;33m=\u001b[0m \u001b[1;36m0.0\u001b[0m \u001b[1;33m*\u001b[0m \u001b[0mv_initial_max\u001b[0m\u001b[1;33m\u001b[0m\u001b[1;33m\u001b[0m\u001b[0m\n\u001b[0;32m     84\u001b[0m         \u001b[1;32mfor\u001b[0m \u001b[0mi\u001b[0m \u001b[1;32min\u001b[0m \u001b[0mrange\u001b[0m\u001b[1;33m(\u001b[0m\u001b[0mNvals\u001b[0m\u001b[1;33m)\u001b[0m\u001b[1;33m:\u001b[0m\u001b[1;33m\u001b[0m\u001b[1;33m\u001b[0m\u001b[0m\n\u001b[1;32m---> 85\u001b[1;33m             v_final_max[i] = verne.core.calcVfinal_full(v_initial_max[i], thetavals[i], depth, sigma_p,\n\u001b[0m\u001b[0;32m     86\u001b[0m                                                    \u001b[0mm_x\u001b[0m\u001b[1;33m,\u001b[0m\u001b[1;33m\u001b[0m\u001b[1;33m\u001b[0m\u001b[0m\n\u001b[0;32m     87\u001b[0m                                                    target)\n",
      "\u001b[1;32md:\\google_drive\\phd-master\\ubuntu-storage\\ubuntu-windows\\software\\verne\\verne\\core.py\u001b[0m in \u001b[0;36mcalcVfinal_full\u001b[1;34m(vi, theta, depth, sigma_p, m_x, target)\u001b[0m\n\u001b[0;32m    377\u001b[0m     \u001b[1;32mif\u001b[0m \u001b[1;33m(\u001b[0m\u001b[0mtarget\u001b[0m \u001b[1;33m==\u001b[0m \u001b[1;34m\"XENON\"\u001b[0m \u001b[1;32mor\u001b[0m \u001b[0mtarget\u001b[0m \u001b[1;33m==\u001b[0m \u001b[1;34m\"SNOLAB\"\u001b[0m\u001b[1;33m)\u001b[0m\u001b[1;33m:\u001b[0m\u001b[1;33m\u001b[0m\u001b[1;33m\u001b[0m\u001b[0m\n\u001b[0;32m    378\u001b[0m         \u001b[1;31m# No need to calculate any other contribution that the earth shielding effect at 1400m depth\u001b[0m\u001b[1;33m\u001b[0m\u001b[1;33m\u001b[0m\u001b[1;33m\u001b[0m\u001b[0m\n\u001b[1;32m--> 379\u001b[1;33m         \u001b[1;32mreturn\u001b[0m \u001b[0mcalcVfinal\u001b[0m\u001b[1;33m(\u001b[0m\u001b[0mvf\u001b[0m\u001b[1;33m,\u001b[0m \u001b[0mtheta\u001b[0m\u001b[1;33m,\u001b[0m \u001b[0mdepth\u001b[0m\u001b[1;33m,\u001b[0m \u001b[0msigma_p\u001b[0m\u001b[1;33m,\u001b[0m \u001b[0mm_x\u001b[0m\u001b[1;33m,\u001b[0m \u001b[0mtarget\u001b[0m\u001b[1;33m=\u001b[0m\u001b[1;34m\"earth\"\u001b[0m\u001b[1;33m)\u001b[0m\u001b[1;33m\u001b[0m\u001b[1;33m\u001b[0m\u001b[0m\n\u001b[0m\u001b[0;32m    380\u001b[0m     \u001b[1;32mif\u001b[0m \u001b[1;33m(\u001b[0m\u001b[0mtarget\u001b[0m \u001b[1;32min\u001b[0m \u001b[1;33m[\u001b[0m\u001b[1;34m\"atmos\"\u001b[0m\u001b[1;33m,\u001b[0m \u001b[1;34m\"full\"\u001b[0m\u001b[1;33m,\u001b[0m \u001b[1;34m\"no_shield\"\u001b[0m\u001b[1;33m,\u001b[0m \u001b[1;34m\"SUF\"\u001b[0m\u001b[1;33m,\u001b[0m \u001b[1;34m\"MPI\"\u001b[0m\u001b[1;33m,\u001b[0m \u001b[1;34m\"EDE\"\u001b[0m\u001b[1;33m]\u001b[0m\u001b[1;33m)\u001b[0m\u001b[1;33m:\u001b[0m\u001b[1;33m\u001b[0m\u001b[1;33m\u001b[0m\u001b[0m\n\u001b[0;32m    381\u001b[0m         \u001b[0mvf\u001b[0m \u001b[1;33m=\u001b[0m \u001b[0mcalcVfinal\u001b[0m\u001b[1;33m(\u001b[0m\u001b[0mvf\u001b[0m\u001b[1;33m,\u001b[0m \u001b[0mtheta\u001b[0m\u001b[1;33m,\u001b[0m \u001b[0mdepth\u001b[0m\u001b[1;33m,\u001b[0m \u001b[0msigma_p\u001b[0m\u001b[1;33m,\u001b[0m \u001b[0mm_x\u001b[0m\u001b[1;33m,\u001b[0m \u001b[0mtarget\u001b[0m\u001b[1;33m=\u001b[0m\u001b[1;34m\"atmos\"\u001b[0m\u001b[1;33m)\u001b[0m\u001b[1;33m\u001b[0m\u001b[1;33m\u001b[0m\u001b[0m\n",
      "\u001b[1;32md:\\google_drive\\phd-master\\ubuntu-storage\\ubuntu-windows\\software\\verne\\verne\\core.py\u001b[0m in \u001b[0;36mcalcVfinal\u001b[1;34m(vi, theta, depth, sigma_p, m_x, target)\u001b[0m\n\u001b[0;32m    365\u001b[0m         \u001b[0md2\u001b[0m \u001b[1;33m=\u001b[0m \u001b[0mpathLength\u001b[0m\u001b[1;33m(\u001b[0m\u001b[0mdepth\u001b[0m\u001b[1;33m,\u001b[0m \u001b[0mtheta\u001b[0m\u001b[1;33m)\u001b[0m\u001b[1;33m\u001b[0m\u001b[1;33m\u001b[0m\u001b[0m\n\u001b[0;32m    366\u001b[0m \u001b[1;33m\u001b[0m\u001b[0m\n\u001b[1;32m--> 367\u001b[1;33m     \u001b[0mpsoln\u001b[0m \u001b[1;33m=\u001b[0m \u001b[0modeint\u001b[0m\u001b[1;33m(\u001b[0m\u001b[0mdv_by_dD\u001b[0m\u001b[1;33m,\u001b[0m \u001b[0mvi\u001b[0m\u001b[1;33m,\u001b[0m \u001b[1;33m[\u001b[0m\u001b[0md1\u001b[0m\u001b[1;33m,\u001b[0m \u001b[0md2\u001b[0m\u001b[1;33m]\u001b[0m\u001b[1;33m,\u001b[0m \u001b[0margs\u001b[0m\u001b[1;33m=\u001b[0m\u001b[1;33m(\u001b[0m\u001b[0mparams\u001b[0m\u001b[1;33m,\u001b[0m\u001b[1;33m)\u001b[0m\u001b[1;33m,\u001b[0m \u001b[0mmxstep\u001b[0m\u001b[1;33m=\u001b[0m\u001b[0mMXSTEPS\u001b[0m\u001b[1;33m,\u001b[0m \u001b[0mrtol\u001b[0m\u001b[1;33m=\u001b[0m\u001b[0mRTOL\u001b[0m\u001b[1;33m)\u001b[0m\u001b[1;33m\u001b[0m\u001b[1;33m\u001b[0m\u001b[0m\n\u001b[0m\u001b[0;32m    368\u001b[0m     \u001b[0mvf\u001b[0m \u001b[1;33m=\u001b[0m \u001b[0mpsoln\u001b[0m\u001b[1;33m[\u001b[0m\u001b[1;36m1\u001b[0m\u001b[1;33m]\u001b[0m\u001b[1;33m\u001b[0m\u001b[1;33m\u001b[0m\u001b[0m\n\u001b[0;32m    369\u001b[0m     \u001b[1;32mreturn\u001b[0m \u001b[0mvf\u001b[0m\u001b[1;33m\u001b[0m\u001b[1;33m\u001b[0m\u001b[0m\n",
      "\u001b[1;32m~\\Anaconda3\\envs\\dddm\\lib\\site-packages\\scipy\\integrate\\odepack.py\u001b[0m in \u001b[0;36modeint\u001b[1;34m(func, y0, t, args, Dfun, col_deriv, full_output, ml, mu, rtol, atol, tcrit, h0, hmax, hmin, ixpr, mxstep, mxhnil, mxordn, mxords, printmessg, tfirst)\u001b[0m\n\u001b[0;32m    239\u001b[0m     \u001b[0mt\u001b[0m \u001b[1;33m=\u001b[0m \u001b[0mcopy\u001b[0m\u001b[1;33m(\u001b[0m\u001b[0mt\u001b[0m\u001b[1;33m)\u001b[0m\u001b[1;33m\u001b[0m\u001b[1;33m\u001b[0m\u001b[0m\n\u001b[0;32m    240\u001b[0m     \u001b[0my0\u001b[0m \u001b[1;33m=\u001b[0m \u001b[0mcopy\u001b[0m\u001b[1;33m(\u001b[0m\u001b[0my0\u001b[0m\u001b[1;33m)\u001b[0m\u001b[1;33m\u001b[0m\u001b[1;33m\u001b[0m\u001b[0m\n\u001b[1;32m--> 241\u001b[1;33m     output = _odepack.odeint(func, y0, t, args, Dfun, col_deriv, ml, mu,\n\u001b[0m\u001b[0;32m    242\u001b[0m                              \u001b[0mfull_output\u001b[0m\u001b[1;33m,\u001b[0m \u001b[0mrtol\u001b[0m\u001b[1;33m,\u001b[0m \u001b[0matol\u001b[0m\u001b[1;33m,\u001b[0m \u001b[0mtcrit\u001b[0m\u001b[1;33m,\u001b[0m \u001b[0mh0\u001b[0m\u001b[1;33m,\u001b[0m \u001b[0mhmax\u001b[0m\u001b[1;33m,\u001b[0m \u001b[0mhmin\u001b[0m\u001b[1;33m,\u001b[0m\u001b[1;33m\u001b[0m\u001b[1;33m\u001b[0m\u001b[0m\n\u001b[0;32m    243\u001b[0m                              \u001b[0mixpr\u001b[0m\u001b[1;33m,\u001b[0m \u001b[0mmxstep\u001b[0m\u001b[1;33m,\u001b[0m \u001b[0mmxhnil\u001b[0m\u001b[1;33m,\u001b[0m \u001b[0mmxordn\u001b[0m\u001b[1;33m,\u001b[0m \u001b[0mmxords\u001b[0m\u001b[1;33m,\u001b[0m\u001b[1;33m\u001b[0m\u001b[1;33m\u001b[0m\u001b[0m\n",
      "\u001b[1;32md:\\google_drive\\phd-master\\ubuntu-storage\\ubuntu-windows\\software\\verne\\verne\\core.py\u001b[0m in \u001b[0;36mdv_by_dD\u001b[1;34m(v, D, params)\u001b[0m\n\u001b[0;32m    324\u001b[0m     \u001b[1;31m# BJK!\u001b[0m\u001b[1;33m\u001b[0m\u001b[1;33m\u001b[0m\u001b[1;33m\u001b[0m\u001b[0m\n\u001b[0;32m    325\u001b[0m     \u001b[1;32mfor\u001b[0m \u001b[0mi\u001b[0m \u001b[1;32min\u001b[0m \u001b[0misovals\u001b[0m\u001b[1;33m:\u001b[0m\u001b[1;33m\u001b[0m\u001b[1;33m\u001b[0m\u001b[0m\n\u001b[1;32m--> 326\u001b[1;33m         \u001b[0mres\u001b[0m \u001b[1;33m+=\u001b[0m \u001b[0mdens_interp\u001b[0m\u001b[1;33m[\u001b[0m\u001b[0mi\u001b[0m\u001b[1;33m]\u001b[0m\u001b[1;33m(\u001b[0m\u001b[0mr\u001b[0m\u001b[1;33m)\u001b[0m \u001b[1;33m*\u001b[0m \u001b[0meffectiveXS\u001b[0m\u001b[1;33m(\u001b[0m\u001b[0msigma_p\u001b[0m\u001b[1;33m,\u001b[0m \u001b[0mm_x\u001b[0m\u001b[1;33m,\u001b[0m \u001b[0mAvals\u001b[0m\u001b[1;33m[\u001b[0m\u001b[0mi\u001b[0m\u001b[1;33m]\u001b[0m\u001b[1;33m,\u001b[0m \u001b[0mv\u001b[0m\u001b[1;33m=\u001b[0m\u001b[0mv\u001b[0m\u001b[1;33m)\u001b[0m \u001b[1;33m*\u001b[0m \u001b[0mcorr_interp\u001b[0m\u001b[1;33m[\u001b[0m\u001b[0mi\u001b[0m\u001b[1;33m]\u001b[0m\u001b[1;33m(\u001b[0m\u001b[0mv\u001b[0m\u001b[1;33m)\u001b[0m\u001b[1;33m\u001b[0m\u001b[1;33m\u001b[0m\u001b[0m\n\u001b[0m\u001b[0;32m    327\u001b[0m     \u001b[1;32mreturn\u001b[0m \u001b[1;33m-\u001b[0m\u001b[1;36m1e2\u001b[0m \u001b[1;33m*\u001b[0m \u001b[0mv\u001b[0m \u001b[1;33m*\u001b[0m \u001b[0mres\u001b[0m  \u001b[1;31m# (km/s)/m\u001b[0m\u001b[1;33m\u001b[0m\u001b[1;33m\u001b[0m\u001b[0m\n\u001b[0;32m    328\u001b[0m \u001b[1;33m\u001b[0m\u001b[0m\n",
      "\u001b[1;32m~\\Anaconda3\\envs\\dddm\\lib\\site-packages\\scipy\\interpolate\\polyint.py\u001b[0m in \u001b[0;36m__call__\u001b[1;34m(self, x)\u001b[0m\n\u001b[0;32m     76\u001b[0m         \"\"\"\n\u001b[0;32m     77\u001b[0m         \u001b[0mx\u001b[0m\u001b[1;33m,\u001b[0m \u001b[0mx_shape\u001b[0m \u001b[1;33m=\u001b[0m \u001b[0mself\u001b[0m\u001b[1;33m.\u001b[0m\u001b[0m_prepare_x\u001b[0m\u001b[1;33m(\u001b[0m\u001b[0mx\u001b[0m\u001b[1;33m)\u001b[0m\u001b[1;33m\u001b[0m\u001b[1;33m\u001b[0m\u001b[0m\n\u001b[1;32m---> 78\u001b[1;33m         \u001b[0my\u001b[0m \u001b[1;33m=\u001b[0m \u001b[0mself\u001b[0m\u001b[1;33m.\u001b[0m\u001b[0m_evaluate\u001b[0m\u001b[1;33m(\u001b[0m\u001b[0mx\u001b[0m\u001b[1;33m)\u001b[0m\u001b[1;33m\u001b[0m\u001b[1;33m\u001b[0m\u001b[0m\n\u001b[0m\u001b[0;32m     79\u001b[0m         \u001b[1;32mreturn\u001b[0m \u001b[0mself\u001b[0m\u001b[1;33m.\u001b[0m\u001b[0m_finish_y\u001b[0m\u001b[1;33m(\u001b[0m\u001b[0my\u001b[0m\u001b[1;33m,\u001b[0m \u001b[0mx_shape\u001b[0m\u001b[1;33m)\u001b[0m\u001b[1;33m\u001b[0m\u001b[1;33m\u001b[0m\u001b[0m\n\u001b[0;32m     80\u001b[0m \u001b[1;33m\u001b[0m\u001b[0m\n",
      "\u001b[1;32m~\\Anaconda3\\envs\\dddm\\lib\\site-packages\\scipy\\interpolate\\interpolate.py\u001b[0m in \u001b[0;36m_evaluate\u001b[1;34m(self, x_new)\u001b[0m\n\u001b[0;32m    673\u001b[0m         \u001b[1;31m#    The behavior is set by the bounds_error variable.\u001b[0m\u001b[1;33m\u001b[0m\u001b[1;33m\u001b[0m\u001b[1;33m\u001b[0m\u001b[0m\n\u001b[0;32m    674\u001b[0m         \u001b[0mx_new\u001b[0m \u001b[1;33m=\u001b[0m \u001b[0masarray\u001b[0m\u001b[1;33m(\u001b[0m\u001b[0mx_new\u001b[0m\u001b[1;33m)\u001b[0m\u001b[1;33m\u001b[0m\u001b[1;33m\u001b[0m\u001b[0m\n\u001b[1;32m--> 675\u001b[1;33m         \u001b[0my_new\u001b[0m \u001b[1;33m=\u001b[0m \u001b[0mself\u001b[0m\u001b[1;33m.\u001b[0m\u001b[0m_call\u001b[0m\u001b[1;33m(\u001b[0m\u001b[0mself\u001b[0m\u001b[1;33m,\u001b[0m \u001b[0mx_new\u001b[0m\u001b[1;33m)\u001b[0m\u001b[1;33m\u001b[0m\u001b[1;33m\u001b[0m\u001b[0m\n\u001b[0m\u001b[0;32m    676\u001b[0m         \u001b[1;32mif\u001b[0m \u001b[1;32mnot\u001b[0m \u001b[0mself\u001b[0m\u001b[1;33m.\u001b[0m\u001b[0m_extrapolate\u001b[0m\u001b[1;33m:\u001b[0m\u001b[1;33m\u001b[0m\u001b[1;33m\u001b[0m\u001b[0m\n\u001b[0;32m    677\u001b[0m             \u001b[0mbelow_bounds\u001b[0m\u001b[1;33m,\u001b[0m \u001b[0mabove_bounds\u001b[0m \u001b[1;33m=\u001b[0m \u001b[0mself\u001b[0m\u001b[1;33m.\u001b[0m\u001b[0m_check_bounds\u001b[0m\u001b[1;33m(\u001b[0m\u001b[0mx_new\u001b[0m\u001b[1;33m)\u001b[0m\u001b[1;33m\u001b[0m\u001b[1;33m\u001b[0m\u001b[0m\n",
      "\u001b[1;32m~\\Anaconda3\\envs\\dddm\\lib\\site-packages\\scipy\\interpolate\\interpolate.py\u001b[0m in \u001b[0;36m_call_linear_np\u001b[1;34m(self, x_new)\u001b[0m\n\u001b[0;32m    597\u001b[0m     \u001b[1;32mdef\u001b[0m \u001b[0m_call_linear_np\u001b[0m\u001b[1;33m(\u001b[0m\u001b[0mself\u001b[0m\u001b[1;33m,\u001b[0m \u001b[0mx_new\u001b[0m\u001b[1;33m)\u001b[0m\u001b[1;33m:\u001b[0m\u001b[1;33m\u001b[0m\u001b[1;33m\u001b[0m\u001b[0m\n\u001b[0;32m    598\u001b[0m         \u001b[1;31m# Note that out-of-bounds values are taken care of in self._evaluate\u001b[0m\u001b[1;33m\u001b[0m\u001b[1;33m\u001b[0m\u001b[1;33m\u001b[0m\u001b[0m\n\u001b[1;32m--> 599\u001b[1;33m         \u001b[1;32mreturn\u001b[0m \u001b[0mnp\u001b[0m\u001b[1;33m.\u001b[0m\u001b[0minterp\u001b[0m\u001b[1;33m(\u001b[0m\u001b[0mx_new\u001b[0m\u001b[1;33m,\u001b[0m \u001b[0mself\u001b[0m\u001b[1;33m.\u001b[0m\u001b[0mx\u001b[0m\u001b[1;33m,\u001b[0m \u001b[0mself\u001b[0m\u001b[1;33m.\u001b[0m\u001b[0my\u001b[0m\u001b[1;33m)\u001b[0m\u001b[1;33m\u001b[0m\u001b[1;33m\u001b[0m\u001b[0m\n\u001b[0m\u001b[0;32m    600\u001b[0m \u001b[1;33m\u001b[0m\u001b[0m\n\u001b[0;32m    601\u001b[0m     \u001b[1;32mdef\u001b[0m \u001b[0m_call_linear\u001b[0m\u001b[1;33m(\u001b[0m\u001b[0mself\u001b[0m\u001b[1;33m,\u001b[0m \u001b[0mx_new\u001b[0m\u001b[1;33m)\u001b[0m\u001b[1;33m:\u001b[0m\u001b[1;33m\u001b[0m\u001b[1;33m\u001b[0m\u001b[0m\n",
      "\u001b[1;32m<__array_function__ internals>\u001b[0m in \u001b[0;36minterp\u001b[1;34m(*args, **kwargs)\u001b[0m\n",
      "\u001b[1;32m~\\Anaconda3\\envs\\dddm\\lib\\site-packages\\numpy\\lib\\function_base.py\u001b[0m in \u001b[0;36minterp\u001b[1;34m(x, xp, fp, left, right, period)\u001b[0m\n\u001b[0;32m   1421\u001b[0m         \u001b[0mfp\u001b[0m \u001b[1;33m=\u001b[0m \u001b[0mnp\u001b[0m\u001b[1;33m.\u001b[0m\u001b[0mconcatenate\u001b[0m\u001b[1;33m(\u001b[0m\u001b[1;33m(\u001b[0m\u001b[0mfp\u001b[0m\u001b[1;33m[\u001b[0m\u001b[1;33m-\u001b[0m\u001b[1;36m1\u001b[0m\u001b[1;33m:\u001b[0m\u001b[1;33m]\u001b[0m\u001b[1;33m,\u001b[0m \u001b[0mfp\u001b[0m\u001b[1;33m,\u001b[0m \u001b[0mfp\u001b[0m\u001b[1;33m[\u001b[0m\u001b[1;36m0\u001b[0m\u001b[1;33m:\u001b[0m\u001b[1;36m1\u001b[0m\u001b[1;33m]\u001b[0m\u001b[1;33m)\u001b[0m\u001b[1;33m)\u001b[0m\u001b[1;33m\u001b[0m\u001b[1;33m\u001b[0m\u001b[0m\n\u001b[0;32m   1422\u001b[0m \u001b[1;33m\u001b[0m\u001b[0m\n\u001b[1;32m-> 1423\u001b[1;33m     \u001b[1;32mreturn\u001b[0m \u001b[0minterp_func\u001b[0m\u001b[1;33m(\u001b[0m\u001b[0mx\u001b[0m\u001b[1;33m,\u001b[0m \u001b[0mxp\u001b[0m\u001b[1;33m,\u001b[0m \u001b[0mfp\u001b[0m\u001b[1;33m,\u001b[0m \u001b[0mleft\u001b[0m\u001b[1;33m,\u001b[0m \u001b[0mright\u001b[0m\u001b[1;33m)\u001b[0m\u001b[1;33m\u001b[0m\u001b[1;33m\u001b[0m\u001b[0m\n\u001b[0m\u001b[0;32m   1424\u001b[0m \u001b[1;33m\u001b[0m\u001b[0m\n\u001b[0;32m   1425\u001b[0m \u001b[1;33m\u001b[0m\u001b[0m\n",
      "\u001b[1;31mKeyboardInterrupt\u001b[0m: "
     ]
    }
   ],
   "source": [
    "%%time\n",
    "n.test_nested_simple_nestle_earth_shielding()"
   ]
  },
  {
   "cell_type": "code",
   "execution_count": 7,
   "id": "patent-salmon",
   "metadata": {},
   "outputs": [],
   "source": [
    "def test_nested_simple_nestle_earth_shielding(tol):\n",
    "    fit_class = dddm.NestedSamplerStatModel('Xe')\n",
    "    fit_class.config['sampler'] = 'nestle'\n",
    "    fit_class.config['tol'] = tol\n",
    "    fit_class.config['nlive'] = 3\n",
    "    fit_class.config['maxiter'] = 2\n",
    "    fit_class.config['earth_shielding'] = True\n",
    "    print(f\"Fitting for parameters:\\n{fit_class.config['fit_parameters']}\")\n",
    "    fit_class.run_nestle()\n",
    "    fit_class.get_summary()"
   ]
  },
  {
   "cell_type": "code",
   "execution_count": 6,
   "id": "possible-group",
   "metadata": {},
   "outputs": [
    {
     "name": "stderr",
     "output_type": "stream",
     "text": [
      "run_nestle::\tstart_fit for 2 parameters\n"
     ]
    },
    {
     "name": "stdout",
     "output_type": "stream",
     "text": [
      "Fitting for parameters:\n",
      "['log_mass', 'log_cross_section']\n",
      "   \n",
      "    Calculating for...\n",
      "        m_x/GeV: 194.77363030240667\n",
      "        sigma_p/cm^2: 8.202034761112906e-46\n",
      "        detector at : XENON\n",
      "        considering 4 angles\n",
      " \n",
      "    Loading isotope data and density profiles...\n",
      "    Calculating Form Factor corrections for m_x =  194.77363030240667  GeV...\n"
     ]
    },
    {
     "name": "stderr",
     "output_type": "stream",
     "text": [
      "C:\\Users\\joran\\Anaconda3\\envs\\dddm\\lib\\site-packages\\nestle.py:840: UserWarning: You really want to make npoints >= 2 * ndim!\n",
      "  warnings.warn(\"You really want to make npoints >= 2 * ndim!\")\n"
     ]
    },
    {
     "name": "stdout",
     "output_type": "stream",
     "text": [
      "    Calculating for gamma/pi =  0.0 ...\n",
      "        Calculating maximum final speed...\n",
      "        Calculating final speed distribution...\n",
      "    Calculating for gamma/pi =  0.3333333333333333 ...\n",
      "        Calculating maximum final speed...\n",
      "        Calculating final speed distribution...\n",
      "    Calculating for gamma/pi =  0.6666666666666666 ...\n",
      "        Calculating maximum final speed...\n",
      "        Calculating final speed distribution...\n",
      "    Calculating for gamma/pi =  1.0 ...\n",
      "        Calculating maximum final speed...\n",
      "        Calculating final speed distribution...\n",
      "saving at d:\\google_drive\\phd-master\\ubuntu-storage\\ubuntu-windows\\software\\verne\\results\\f_params\\loc_XENON\\v0_230\\vesc_544\\rho_0.400\\sig_-45.1_mx_2.29_avg-HDESKTOP-F4PI41P-P4336.csv\n",
      "Dataframe written successfully\n",
      "   \n",
      "    Calculating for...\n",
      "        m_x/GeV: 22.81733652796329\n",
      "        sigma_p/cm^2: 3.948178746488803e-46\n",
      "        detector at : XENON\n",
      "        considering 4 angles\n",
      " \n",
      "    Loading isotope data and density profiles...\n"
     ]
    },
    {
     "name": "stderr",
     "output_type": "stream",
     "text": [
      "d:\\google_drive\\phd-master\\ubuntu-storage\\ubuntu-windows\\software\\directdmtargets\\DirectDmTargets\\halo.py:283: UserWarning: load_f:\twhile writing d:\\google_drive\\phd-master\\ubuntu-storage\\ubuntu-windows\\software\\verne\\results\\f_params\\loc_XENON\\v0_230\\vesc_544\\rho_0.400\\sig_-45.1_mx_2.29_avg.csv, d:\\google_drive\\phd-master\\ubuntu-storage\\ubuntu-windows\\software\\verne\\results\\f_params\\loc_XENON\\v0_230\\vesc_544\\rho_0.400\\sig_-45.1_mx_2.29_avg-HDESKTOP-F4PI41P-P4336.csv was created\n",
      "  warn(f'load_f:\\twhile writing {file_name}, '\n"
     ]
    },
    {
     "name": "stdout",
     "output_type": "stream",
     "text": [
      "    Calculating Form Factor corrections for m_x =  22.81733652796329  GeV...\n",
      "    Calculating for gamma/pi =  0.0 ...\n",
      "        Calculating maximum final speed...\n",
      "        Calculating final speed distribution...\n",
      "    Calculating for gamma/pi =  0.3333333333333333 ...\n",
      "        Calculating maximum final speed...\n",
      "        Calculating final speed distribution...\n",
      "    Calculating for gamma/pi =  0.6666666666666666 ...\n",
      "        Calculating maximum final speed...\n",
      "        Calculating final speed distribution...\n",
      "    Calculating for gamma/pi =  1.0 ...\n",
      "        Calculating maximum final speed...\n",
      "        Calculating final speed distribution...\n",
      "saving at d:\\google_drive\\phd-master\\ubuntu-storage\\ubuntu-windows\\software\\verne\\results\\f_params\\loc_XENON\\v0_230\\vesc_544\\rho_0.400\\sig_-45.4_mx_1.36_avg-HDESKTOP-F4PI41P-P4336.csv\n",
      "Dataframe written successfully\n",
      "   \n",
      "    Calculating for...\n",
      "        m_x/GeV: 6.792816053942699\n",
      "        sigma_p/cm^2: 1.6012759702359643e-43\n",
      "        detector at : XENON\n",
      "        considering 4 angles\n",
      " \n",
      "    Loading isotope data and density profiles...\n",
      "    Calculating Form Factor corrections for m_x =  6.792816053942699  GeV...\n"
     ]
    },
    {
     "name": "stderr",
     "output_type": "stream",
     "text": [
      "d:\\google_drive\\phd-master\\ubuntu-storage\\ubuntu-windows\\software\\directdmtargets\\DirectDmTargets\\halo.py:283: UserWarning: load_f:\twhile writing d:\\google_drive\\phd-master\\ubuntu-storage\\ubuntu-windows\\software\\verne\\results\\f_params\\loc_XENON\\v0_230\\vesc_544\\rho_0.400\\sig_-45.4_mx_1.36_avg.csv, d:\\google_drive\\phd-master\\ubuntu-storage\\ubuntu-windows\\software\\verne\\results\\f_params\\loc_XENON\\v0_230\\vesc_544\\rho_0.400\\sig_-45.4_mx_1.36_avg-HDESKTOP-F4PI41P-P4336.csv was created\n",
      "  warn(f'load_f:\\twhile writing {file_name}, '\n"
     ]
    },
    {
     "name": "stdout",
     "output_type": "stream",
     "text": [
      "    Calculating for gamma/pi =  0.0 ...\n",
      "        Calculating maximum final speed...\n",
      "        Calculating final speed distribution...\n",
      "    Calculating for gamma/pi =  0.3333333333333333 ...\n",
      "        Calculating maximum final speed...\n",
      "        Calculating final speed distribution...\n",
      "    Calculating for gamma/pi =  0.6666666666666666 ...\n",
      "        Calculating maximum final speed...\n",
      "        Calculating final speed distribution...\n",
      "    Calculating for gamma/pi =  1.0 ...\n",
      "        Calculating maximum final speed...\n",
      "        Calculating final speed distribution...\n",
      "saving at d:\\google_drive\\phd-master\\ubuntu-storage\\ubuntu-windows\\software\\verne\\results\\f_params\\loc_XENON\\v0_230\\vesc_544\\rho_0.400\\sig_-42.8_mx_0.83_avg-HDESKTOP-F4PI41P-P4336.csv\n",
      "Dataframe written successfully\n",
      "   \n",
      "    Calculating for...\n",
      "        m_x/GeV: 616.5286375013793\n",
      "        sigma_p/cm^2: 1.0097211423550744e-45\n",
      "        detector at : XENON\n",
      "        considering 4 angles\n",
      " \n",
      "    Loading isotope data and density profiles...\n",
      "    Calculating Form Factor corrections for m_x =  616.5286375013793  GeV...\n"
     ]
    },
    {
     "name": "stderr",
     "output_type": "stream",
     "text": [
      "d:\\google_drive\\phd-master\\ubuntu-storage\\ubuntu-windows\\software\\directdmtargets\\DirectDmTargets\\halo.py:283: UserWarning: load_f:\twhile writing d:\\google_drive\\phd-master\\ubuntu-storage\\ubuntu-windows\\software\\verne\\results\\f_params\\loc_XENON\\v0_230\\vesc_544\\rho_0.400\\sig_-42.8_mx_0.83_avg.csv, d:\\google_drive\\phd-master\\ubuntu-storage\\ubuntu-windows\\software\\verne\\results\\f_params\\loc_XENON\\v0_230\\vesc_544\\rho_0.400\\sig_-42.8_mx_0.83_avg-HDESKTOP-F4PI41P-P4336.csv was created\n",
      "  warn(f'load_f:\\twhile writing {file_name}, '\n"
     ]
    },
    {
     "name": "stdout",
     "output_type": "stream",
     "text": [
      "    Calculating for gamma/pi =  0.0 ...\n",
      "        Calculating maximum final speed...\n",
      "        Calculating final speed distribution...\n",
      "    Calculating for gamma/pi =  0.3333333333333333 ...\n",
      "        Calculating maximum final speed...\n",
      "        Calculating final speed distribution...\n",
      "    Calculating for gamma/pi =  0.6666666666666666 ...\n",
      "        Calculating maximum final speed...\n",
      "        Calculating final speed distribution...\n",
      "    Calculating for gamma/pi =  1.0 ...\n",
      "        Calculating maximum final speed...\n",
      "        Calculating final speed distribution...\n",
      "saving at d:\\google_drive\\phd-master\\ubuntu-storage\\ubuntu-windows\\software\\verne\\results\\f_params\\loc_XENON\\v0_230\\vesc_544\\rho_0.400\\sig_-45.0_mx_2.79_avg-HDESKTOP-F4PI41P-P4336.csv\n",
      "Dataframe written successfully\n",
      "   \n",
      "    Calculating for...\n",
      "        m_x/GeV: 64.88932963063448\n",
      "        sigma_p/cm^2: 1.0063274278584242e-46\n",
      "        detector at : XENON\n",
      "        considering 4 angles\n",
      " \n",
      "    Loading isotope data and density profiles...\n"
     ]
    },
    {
     "name": "stderr",
     "output_type": "stream",
     "text": [
      "d:\\google_drive\\phd-master\\ubuntu-storage\\ubuntu-windows\\software\\directdmtargets\\DirectDmTargets\\halo.py:283: UserWarning: load_f:\twhile writing d:\\google_drive\\phd-master\\ubuntu-storage\\ubuntu-windows\\software\\verne\\results\\f_params\\loc_XENON\\v0_230\\vesc_544\\rho_0.400\\sig_-45.0_mx_2.79_avg.csv, d:\\google_drive\\phd-master\\ubuntu-storage\\ubuntu-windows\\software\\verne\\results\\f_params\\loc_XENON\\v0_230\\vesc_544\\rho_0.400\\sig_-45.0_mx_2.79_avg-HDESKTOP-F4PI41P-P4336.csv was created\n",
      "  warn(f'load_f:\\twhile writing {file_name}, '\n"
     ]
    },
    {
     "name": "stdout",
     "output_type": "stream",
     "text": [
      "    Calculating Form Factor corrections for m_x =  64.88932963063448  GeV...\n",
      "    Calculating for gamma/pi =  0.0 ...\n",
      "        Calculating maximum final speed...\n",
      "        Calculating final speed distribution...\n",
      "    Calculating for gamma/pi =  0.3333333333333333 ...\n",
      "        Calculating maximum final speed...\n",
      "        Calculating final speed distribution...\n",
      "    Calculating for gamma/pi =  0.6666666666666666 ...\n",
      "        Calculating maximum final speed...\n",
      "        Calculating final speed distribution...\n",
      "    Calculating for gamma/pi =  1.0 ...\n",
      "        Calculating maximum final speed...\n",
      "        Calculating final speed distribution...\n",
      "saving at d:\\google_drive\\phd-master\\ubuntu-storage\\ubuntu-windows\\software\\verne\\results\\f_params\\loc_XENON\\v0_230\\vesc_544\\rho_0.400\\sig_-46.0_mx_1.81_avg-HDESKTOP-F4PI41P-P4336.csv\n",
      "Dataframe written successfully\n",
      "Wall time: 2min 49s\n"
     ]
    },
    {
     "name": "stderr",
     "output_type": "stream",
     "text": [
      "d:\\google_drive\\phd-master\\ubuntu-storage\\ubuntu-windows\\software\\directdmtargets\\DirectDmTargets\\halo.py:283: UserWarning: load_f:\twhile writing d:\\google_drive\\phd-master\\ubuntu-storage\\ubuntu-windows\\software\\verne\\results\\f_params\\loc_XENON\\v0_230\\vesc_544\\rho_0.400\\sig_-46.0_mx_1.81_avg.csv, d:\\google_drive\\phd-master\\ubuntu-storage\\ubuntu-windows\\software\\verne\\results\\f_params\\loc_XENON\\v0_230\\vesc_544\\rho_0.400\\sig_-46.0_mx_1.81_avg-HDESKTOP-F4PI41P-P4336.csv was created\n",
      "  warn(f'load_f:\\twhile writing {file_name}, '\n",
      "C:\\Users\\joran\\Anaconda3\\envs\\dddm\\lib\\site-packages\\nestle.py:206: RuntimeWarning: divide by zero encountered in double_scalars\n",
      "  cov = wsum / (wsum**2 - w2sum) * np.einsum('i,ij,ik', weights, dx, dx)\n"
     ]
    }
   ],
   "source": [
    "%%time\n",
    "test_nested_simple_nestle_earth_shielding()"
   ]
  },
  {
   "cell_type": "code",
   "execution_count": 8,
   "id": "second-climb",
   "metadata": {},
   "outputs": [
    {
     "name": "stderr",
     "output_type": "stream",
     "text": [
      "run_nestle::\tstart_fit for 2 parameters\n"
     ]
    },
    {
     "name": "stdout",
     "output_type": "stream",
     "text": [
      "Fitting for parameters:\n",
      "['log_mass', 'log_cross_section']\n",
      "   \n",
      "    Calculating for...\n",
      "        m_x/GeV: 117.39736900755987\n",
      "        sigma_p/cm^2: 4.8375927567679885e-46\n",
      "        detector at : XENON\n",
      "        considering 4 angles\n",
      " \n",
      "    Loading isotope data and density profiles...\n",
      "    Calculating Form Factor corrections for m_x =  117.39736900755987  GeV...\n"
     ]
    },
    {
     "name": "stderr",
     "output_type": "stream",
     "text": [
      "C:\\Users\\joran\\Anaconda3\\envs\\dddm\\lib\\site-packages\\nestle.py:840: UserWarning: You really want to make npoints >= 2 * ndim!\n",
      "  warnings.warn(\"You really want to make npoints >= 2 * ndim!\")\n"
     ]
    },
    {
     "name": "stdout",
     "output_type": "stream",
     "text": [
      "    Calculating for gamma/pi =  0.0 ...\n",
      "        Calculating maximum final speed...\n",
      "        Calculating final speed distribution...\n",
      "    Calculating for gamma/pi =  0.3333333333333333 ...\n",
      "        Calculating maximum final speed...\n",
      "        Calculating final speed distribution...\n",
      "    Calculating for gamma/pi =  0.6666666666666666 ...\n",
      "        Calculating maximum final speed...\n",
      "        Calculating final speed distribution...\n",
      "    Calculating for gamma/pi =  1.0 ...\n",
      "        Calculating maximum final speed...\n",
      "        Calculating final speed distribution...\n",
      "saving at d:\\google_drive\\phd-master\\ubuntu-storage\\ubuntu-windows\\software\\verne\\results\\f_params\\loc_XENON\\v0_230\\vesc_544\\rho_0.400\\sig_-45.3_mx_2.07_avg-HDESKTOP-F4PI41P-P4336.csv\n",
      "Dataframe written successfully\n",
      "   \n",
      "    Calculating for...\n",
      "        m_x/GeV: 15.585184468658726\n",
      "        sigma_p/cm^2:"
     ]
    },
    {
     "name": "stderr",
     "output_type": "stream",
     "text": [
      "d:\\google_drive\\phd-master\\ubuntu-storage\\ubuntu-windows\\software\\directdmtargets\\DirectDmTargets\\halo.py:283: UserWarning: load_f:\twhile writing d:\\google_drive\\phd-master\\ubuntu-storage\\ubuntu-windows\\software\\verne\\results\\f_params\\loc_XENON\\v0_230\\vesc_544\\rho_0.400\\sig_-45.3_mx_2.07_avg.csv, d:\\google_drive\\phd-master\\ubuntu-storage\\ubuntu-windows\\software\\verne\\results\\f_params\\loc_XENON\\v0_230\\vesc_544\\rho_0.400\\sig_-45.3_mx_2.07_avg-HDESKTOP-F4PI41P-P4336.csv was created\n",
      "  warn(f'load_f:\\twhile writing {file_name}, '\n"
     ]
    },
    {
     "name": "stdout",
     "output_type": "stream",
     "text": [
      " 1.193378260623714e-43\n",
      "        detector at : XENON\n",
      "        considering 4 angles\n",
      " \n",
      "    Loading isotope data and density profiles...\n",
      "    Calculating Form Factor corrections for m_x =  15.585184468658726  GeV...\n",
      "    Calculating for gamma/pi =  0.0 ...\n",
      "        Calculating maximum final speed...\n",
      "        Calculating final speed distribution...\n",
      "    Calculating for gamma/pi =  0.3333333333333333 ...\n",
      "        Calculating maximum final speed...\n",
      "        Calculating final speed distribution...\n",
      "    Calculating for gamma/pi =  0.6666666666666666 ...\n",
      "        Calculating maximum final speed...\n",
      "        Calculating final speed distribution...\n",
      "    Calculating for gamma/pi =  1.0 ...\n",
      "        Calculating maximum final speed...\n",
      "        Calculating final speed distribution...\n",
      "saving at d:\\google_drive\\phd-master\\ubuntu-storage\\ubuntu-windows\\software\\verne\\results\\f_params\\loc_XENON\\v0_230\\vesc_544\\rho_0.400\\sig_-42.9_mx_1.19_avg-HDESKTOP-F4PI41P-P4336.csv\n",
      "Dataframe written successfully\n",
      "   \n",
      "    Calculating for...\n",
      "        m_x/GeV: 272.4783818681877\n",
      "        sigma_p/cm^2: 6.345314296634124e-45\n",
      "        detector at : XENON\n",
      "        considering 4 angles\n",
      " \n",
      "    Loading isotope data and density profiles...\n",
      "    Calculating Form Factor corrections for m_x =  272.4783818681877  GeV...\n"
     ]
    },
    {
     "name": "stderr",
     "output_type": "stream",
     "text": [
      "d:\\google_drive\\phd-master\\ubuntu-storage\\ubuntu-windows\\software\\directdmtargets\\DirectDmTargets\\halo.py:283: UserWarning: load_f:\twhile writing d:\\google_drive\\phd-master\\ubuntu-storage\\ubuntu-windows\\software\\verne\\results\\f_params\\loc_XENON\\v0_230\\vesc_544\\rho_0.400\\sig_-42.9_mx_1.19_avg.csv, d:\\google_drive\\phd-master\\ubuntu-storage\\ubuntu-windows\\software\\verne\\results\\f_params\\loc_XENON\\v0_230\\vesc_544\\rho_0.400\\sig_-42.9_mx_1.19_avg-HDESKTOP-F4PI41P-P4336.csv was created\n",
      "  warn(f'load_f:\\twhile writing {file_name}, '\n"
     ]
    },
    {
     "name": "stdout",
     "output_type": "stream",
     "text": [
      "    Calculating for gamma/pi =  0.0 ...\n",
      "        Calculating maximum final speed...\n",
      "        Calculating final speed distribution...\n",
      "    Calculating for gamma/pi =  0.3333333333333333 ...\n",
      "        Calculating maximum final speed...\n",
      "        Calculating final speed distribution...\n",
      "    Calculating for gamma/pi =  0.6666666666666666 ...\n",
      "        Calculating maximum final speed...\n",
      "        Calculating final speed distribution...\n",
      "    Calculating for gamma/pi =  1.0 ...\n",
      "        Calculating maximum final speed...\n",
      "        Calculating final speed distribution...\n",
      "saving at d:\\google_drive\\phd-master\\ubuntu-storage\\ubuntu-windows\\software\\verne\\results\\f_params\\loc_XENON\\v0_230\\vesc_544\\rho_0.400\\sig_-44.2_mx_2.44_avg-HDESKTOP-F4PI41P-P4336.csv\n",
      "Dataframe written successfully\n",
      "   \n",
      "    Calculating for...\n",
      "        m_x/GeV: 10.360885363769206\n",
      "        sigma_p/cm^2: 8.568786961437231e-46\n",
      "        detector at : "
     ]
    },
    {
     "name": "stderr",
     "output_type": "stream",
     "text": [
      "d:\\google_drive\\phd-master\\ubuntu-storage\\ubuntu-windows\\software\\directdmtargets\\DirectDmTargets\\halo.py:283: UserWarning: load_f:\twhile writing d:\\google_drive\\phd-master\\ubuntu-storage\\ubuntu-windows\\software\\verne\\results\\f_params\\loc_XENON\\v0_230\\vesc_544\\rho_0.400\\sig_-44.2_mx_2.44_avg.csv, d:\\google_drive\\phd-master\\ubuntu-storage\\ubuntu-windows\\software\\verne\\results\\f_params\\loc_XENON\\v0_230\\vesc_544\\rho_0.400\\sig_-44.2_mx_2.44_avg-HDESKTOP-F4PI41P-P4336.csv was created\n",
      "  warn(f'load_f:\\twhile writing {file_name}, '\n"
     ]
    },
    {
     "name": "stdout",
     "output_type": "stream",
     "text": [
      "XENON\n",
      "        considering 4 angles\n",
      " \n",
      "    Loading isotope data and density profiles...\n",
      "    Calculating Form Factor corrections for m_x =  10.360885363769206  GeV...\n",
      "    Calculating for gamma/pi =  0.0 ...\n",
      "        Calculating maximum final speed...\n",
      "        Calculating final speed distribution...\n",
      "    Calculating for gamma/pi =  0.3333333333333333 ...\n",
      "        Calculating maximum final speed...\n",
      "        Calculating final speed distribution...\n",
      "    Calculating for gamma/pi =  0.6666666666666666 ...\n",
      "        Calculating maximum final speed...\n",
      "        Calculating final speed distribution...\n",
      "    Calculating for gamma/pi =  1.0 ...\n",
      "        Calculating maximum final speed...\n",
      "        Calculating final speed distribution...\n",
      "saving at d:\\google_drive\\phd-master\\ubuntu-storage\\ubuntu-windows\\software\\verne\\results\\f_params\\loc_XENON\\v0_230\\vesc_544\\rho_0.400\\sig_-45.1_mx_1.02_avg-HDESKTOP-F4PI41P-P4336.csv\n",
      "Dataframe written successfully\n",
      "   \n",
      "    Calculating for...\n",
      "        m_x/GeV: 30.066750008358103\n",
      "        sigma_p/cm^2: 2.6255280852458713e-44\n",
      "        detector at : XENON\n",
      "        considering 4 angles\n",
      " \n",
      "    Loading isotope data and density profiles...\n",
      "    Calculating Form Factor corrections for m_x =  30.066750008358103  GeV...\n"
     ]
    },
    {
     "name": "stderr",
     "output_type": "stream",
     "text": [
      "d:\\google_drive\\phd-master\\ubuntu-storage\\ubuntu-windows\\software\\directdmtargets\\DirectDmTargets\\halo.py:283: UserWarning: load_f:\twhile writing d:\\google_drive\\phd-master\\ubuntu-storage\\ubuntu-windows\\software\\verne\\results\\f_params\\loc_XENON\\v0_230\\vesc_544\\rho_0.400\\sig_-45.1_mx_1.02_avg.csv, d:\\google_drive\\phd-master\\ubuntu-storage\\ubuntu-windows\\software\\verne\\results\\f_params\\loc_XENON\\v0_230\\vesc_544\\rho_0.400\\sig_-45.1_mx_1.02_avg-HDESKTOP-F4PI41P-P4336.csv was created\n",
      "  warn(f'load_f:\\twhile writing {file_name}, '\n"
     ]
    },
    {
     "name": "stdout",
     "output_type": "stream",
     "text": [
      "    Calculating for gamma/pi =  0.0 ...\n",
      "        Calculating maximum final speed...\n",
      "        Calculating final speed distribution...\n",
      "    Calculating for gamma/pi =  0.3333333333333333 ...\n",
      "        Calculating maximum final speed...\n",
      "        Calculating final speed distribution...\n",
      "    Calculating for gamma/pi =  0.6666666666666666 ...\n",
      "        Calculating maximum final speed...\n",
      "        Calculating final speed distribution...\n",
      "    Calculating for gamma/pi =  1.0 ...\n",
      "        Calculating maximum final speed...\n",
      "        Calculating final speed distribution...\n",
      "saving at d:\\google_drive\\phd-master\\ubuntu-storage\\ubuntu-windows\\software\\verne\\results\\f_params\\loc_XENON\\v0_230\\vesc_544\\rho_0.400\\sig_-43.6_mx_1.48_avg-HDESKTOP-F4PI41P-P4336.csv\n",
      "Dataframe written successfully\n",
      "   \n",
      "    Calculating for...\n",
      "        m_x/GeV: 60.95094354634032\n",
      "        sigma_p/cm^2: 1.0086348370509818e-43\n",
      "        detector at : XENON\n",
      "        considering 4 angles\n",
      " \n",
      "    Loading isotope data and density profiles...\n",
      "    Calculating Form Factor corrections for m_x =  60.95094354634032  GeV...\n"
     ]
    },
    {
     "name": "stderr",
     "output_type": "stream",
     "text": [
      "d:\\google_drive\\phd-master\\ubuntu-storage\\ubuntu-windows\\software\\directdmtargets\\DirectDmTargets\\halo.py:283: UserWarning: load_f:\twhile writing d:\\google_drive\\phd-master\\ubuntu-storage\\ubuntu-windows\\software\\verne\\results\\f_params\\loc_XENON\\v0_230\\vesc_544\\rho_0.400\\sig_-43.6_mx_1.48_avg.csv, d:\\google_drive\\phd-master\\ubuntu-storage\\ubuntu-windows\\software\\verne\\results\\f_params\\loc_XENON\\v0_230\\vesc_544\\rho_0.400\\sig_-43.6_mx_1.48_avg-HDESKTOP-F4PI41P-P4336.csv was created\n",
      "  warn(f'load_f:\\twhile writing {file_name}, '\n"
     ]
    },
    {
     "name": "stdout",
     "output_type": "stream",
     "text": [
      "    Calculating for gamma/pi =  0.0 ...\n",
      "        Calculating maximum final speed...\n",
      "        Calculating final speed distribution...\n",
      "    Calculating for gamma/pi =  0.3333333333333333 ...\n",
      "        Calculating maximum final speed...\n",
      "        Calculating final speed distribution...\n",
      "    Calculating for gamma/pi =  0.6666666666666666 ...\n",
      "        Calculating maximum final speed...\n",
      "        Calculating final speed distribution...\n",
      "    Calculating for gamma/pi =  1.0 ...\n",
      "        Calculating maximum final speed...\n",
      "        Calculating final speed distribution...\n",
      "saving at d:\\google_drive\\phd-master\\ubuntu-storage\\ubuntu-windows\\software\\verne\\results\\f_params\\loc_XENON\\v0_230\\vesc_544\\rho_0.400\\sig_-43.0_mx_1.78_avg-HDESKTOP-F4PI41P-P4336.csv\n",
      "Dataframe written successfully\n",
      "   \n",
      "    Calculating for...\n",
      "        m_x/GeV: 106.22682330974955\n",
      "        sigma_p/cm^2: 3.7036142177403776e-46\n",
      "        detector at : XENON\n",
      "        considering 4 angles\n",
      " \n",
      "    Loading isotope data and density profiles...\n"
     ]
    },
    {
     "name": "stderr",
     "output_type": "stream",
     "text": [
      "d:\\google_drive\\phd-master\\ubuntu-storage\\ubuntu-windows\\software\\directdmtargets\\DirectDmTargets\\halo.py:283: UserWarning: load_f:\twhile writing d:\\google_drive\\phd-master\\ubuntu-storage\\ubuntu-windows\\software\\verne\\results\\f_params\\loc_XENON\\v0_230\\vesc_544\\rho_0.400\\sig_-43.0_mx_1.78_avg.csv, d:\\google_drive\\phd-master\\ubuntu-storage\\ubuntu-windows\\software\\verne\\results\\f_params\\loc_XENON\\v0_230\\vesc_544\\rho_0.400\\sig_-43.0_mx_1.78_avg-HDESKTOP-F4PI41P-P4336.csv was created\n",
      "  warn(f'load_f:\\twhile writing {file_name}, '\n"
     ]
    },
    {
     "name": "stdout",
     "output_type": "stream",
     "text": [
      "    Calculating Form Factor corrections for m_x =  106.22682330974955  GeV...\n",
      "    Calculating for gamma/pi =  0.0 ...\n",
      "        Calculating maximum final speed...\n",
      "        Calculating final speed distribution...\n",
      "    Calculating for gamma/pi =  0.3333333333333333 ...\n",
      "        Calculating maximum final speed...\n",
      "        Calculating final speed distribution...\n",
      "    Calculating for gamma/pi =  0.6666666666666666 ...\n",
      "        Calculating maximum final speed...\n",
      "        Calculating final speed distribution...\n",
      "    Calculating for gamma/pi =  1.0 ...\n",
      "        Calculating maximum final speed...\n",
      "        Calculating final speed distribution...\n",
      "saving at d:\\google_drive\\phd-master\\ubuntu-storage\\ubuntu-windows\\software\\verne\\results\\f_params\\loc_XENON\\v0_230\\vesc_544\\rho_0.400\\sig_-45.4_mx_2.03_avg-HDESKTOP-F4PI41P-P4336.csv\n",
      "Dataframe written successfully\n",
      "   \n",
      "    Calculating for...\n",
      "        m_x/GeV: 628.958471705092\n",
      "        sigma_p/cm^2: 1.6270858471223196e-43\n",
      "        detector at : XENON\n",
      "        considering 4 angles\n"
     ]
    },
    {
     "name": "stderr",
     "output_type": "stream",
     "text": [
      "d:\\google_drive\\phd-master\\ubuntu-storage\\ubuntu-windows\\software\\directdmtargets\\DirectDmTargets\\halo.py:283: UserWarning: load_f:\twhile writing d:\\google_drive\\phd-master\\ubuntu-storage\\ubuntu-windows\\software\\verne\\results\\f_params\\loc_XENON\\v0_230\\vesc_544\\rho_0.400\\sig_-45.4_mx_2.03_avg.csv, d:\\google_drive\\phd-master\\ubuntu-storage\\ubuntu-windows\\software\\verne\\results\\f_params\\loc_XENON\\v0_230\\vesc_544\\rho_0.400\\sig_-45.4_mx_2.03_avg-HDESKTOP-F4PI41P-P4336.csv was created\n",
      "  warn(f'load_f:\\twhile writing {file_name}, '\n"
     ]
    },
    {
     "name": "stdout",
     "output_type": "stream",
     "text": [
      " \n",
      "    Loading isotope data and density profiles...\n",
      "    Calculating Form Factor corrections for m_x =  628.958471705092  GeV...\n",
      "    Calculating for gamma/pi =  0.0 ...\n",
      "        Calculating maximum final speed...\n",
      "        Calculating final speed distribution...\n",
      "    Calculating for gamma/pi =  0.3333333333333333 ...\n",
      "        Calculating maximum final speed...\n",
      "        Calculating final speed distribution...\n",
      "    Calculating for gamma/pi =  0.6666666666666666 ...\n",
      "        Calculating maximum final speed...\n",
      "        Calculating final speed distribution...\n",
      "    Calculating for gamma/pi =  1.0 ...\n",
      "        Calculating maximum final speed...\n",
      "        Calculating final speed distribution...\n",
      "saving at d:\\google_drive\\phd-master\\ubuntu-storage\\ubuntu-windows\\software\\verne\\results\\f_params\\loc_XENON\\v0_230\\vesc_544\\rho_0.400\\sig_-42.8_mx_2.80_avg-HDESKTOP-F4PI41P-P4336.csv\n",
      "Dataframe written successfully\n",
      "   \n",
      "    Calculating for...\n",
      "        m_x/GeV: 354.97865402737364\n",
      "        sigma_p/cm^2: 1.282676599948766e-44\n",
      "        detector at : XENON\n",
      "        considering 4 angles\n",
      " \n",
      "    Loading isotope data and density profiles...\n"
     ]
    },
    {
     "name": "stderr",
     "output_type": "stream",
     "text": [
      "d:\\google_drive\\phd-master\\ubuntu-storage\\ubuntu-windows\\software\\directdmtargets\\DirectDmTargets\\halo.py:283: UserWarning: load_f:\twhile writing d:\\google_drive\\phd-master\\ubuntu-storage\\ubuntu-windows\\software\\verne\\results\\f_params\\loc_XENON\\v0_230\\vesc_544\\rho_0.400\\sig_-42.8_mx_2.80_avg.csv, d:\\google_drive\\phd-master\\ubuntu-storage\\ubuntu-windows\\software\\verne\\results\\f_params\\loc_XENON\\v0_230\\vesc_544\\rho_0.400\\sig_-42.8_mx_2.80_avg-HDESKTOP-F4PI41P-P4336.csv was created\n",
      "  warn(f'load_f:\\twhile writing {file_name}, '\n"
     ]
    },
    {
     "name": "stdout",
     "output_type": "stream",
     "text": [
      "    Calculating Form Factor corrections for m_x =  354.97865402737364  GeV...\n",
      "    Calculating for gamma/pi =  0.0 ...\n",
      "        Calculating maximum final speed...\n",
      "        Calculating final speed distribution...\n",
      "    Calculating for gamma/pi =  0.3333333333333333 ...\n",
      "        Calculating maximum final speed...\n",
      "        Calculating final speed distribution...\n",
      "    Calculating for gamma/pi =  0.6666666666666666 ...\n",
      "        Calculating maximum final speed...\n",
      "        Calculating final speed distribution...\n",
      "    Calculating for gamma/pi =  1.0 ...\n",
      "        Calculating maximum final speed...\n",
      "        Calculating final speed distribution...\n",
      "saving at d:\\google_drive\\phd-master\\ubuntu-storage\\ubuntu-windows\\software\\verne\\results\\f_params\\loc_XENON\\v0_230\\vesc_544\\rho_0.400\\sig_-43.9_mx_2.55_avg-HDESKTOP-F4PI41P-P4336.csv\n",
      "Dataframe written successfully\n",
      "   \n",
      "    Calculating for...\n",
      "        m_x/GeV: 209.57298350579705\n",
      "        sigma_p/cm^2: 5.7785253595277e-45\n",
      "        detector at : XENON\n",
      "        considering 4 angles\n",
      " \n",
      "    Loading isotope data and density profiles...\n",
      "    Calculating Form Factor corrections for m_x =  209.57298350579705  GeV...\n"
     ]
    },
    {
     "name": "stderr",
     "output_type": "stream",
     "text": [
      "d:\\google_drive\\phd-master\\ubuntu-storage\\ubuntu-windows\\software\\directdmtargets\\DirectDmTargets\\halo.py:283: UserWarning: load_f:\twhile writing d:\\google_drive\\phd-master\\ubuntu-storage\\ubuntu-windows\\software\\verne\\results\\f_params\\loc_XENON\\v0_230\\vesc_544\\rho_0.400\\sig_-43.9_mx_2.55_avg.csv, d:\\google_drive\\phd-master\\ubuntu-storage\\ubuntu-windows\\software\\verne\\results\\f_params\\loc_XENON\\v0_230\\vesc_544\\rho_0.400\\sig_-43.9_mx_2.55_avg-HDESKTOP-F4PI41P-P4336.csv was created\n",
      "  warn(f'load_f:\\twhile writing {file_name}, '\n"
     ]
    },
    {
     "name": "stdout",
     "output_type": "stream",
     "text": [
      "    Calculating for gamma/pi =  0.0 ...\n",
      "        Calculating maximum final speed...\n",
      "        Calculating final speed distribution...\n",
      "    Calculating for gamma/pi =  0.3333333333333333 ...\n",
      "        Calculating maximum final speed...\n",
      "        Calculating final speed distribution...\n",
      "    Calculating for gamma/pi =  0.6666666666666666 ...\n",
      "        Calculating maximum final speed...\n",
      "        Calculating final speed distribution...\n",
      "    Calculating for gamma/pi =  1.0 ...\n",
      "        Calculating maximum final speed...\n",
      "        Calculating final speed distribution...\n",
      "saving at d:\\google_drive\\phd-master\\ubuntu-storage\\ubuntu-windows\\software\\verne\\results\\f_params\\loc_XENON\\v0_230\\vesc_544\\rho_0.400\\sig_-44.2_mx_2.32_avg-HDESKTOP-F4PI41P-P4336.csv\n",
      "Dataframe written successfully\n",
      "   \n",
      "    Calculating for...\n",
      "        m_x/GeV: 154.8281438953905\n",
      "        sigma_p/cm^2: 7.546655400335948e-46\n",
      "        detector at : XENON\n",
      "        considering 4 angles\n",
      " \n",
      "    Loading isotope data and density profiles...\n"
     ]
    },
    {
     "name": "stderr",
     "output_type": "stream",
     "text": [
      "d:\\google_drive\\phd-master\\ubuntu-storage\\ubuntu-windows\\software\\directdmtargets\\DirectDmTargets\\halo.py:283: UserWarning: load_f:\twhile writing d:\\google_drive\\phd-master\\ubuntu-storage\\ubuntu-windows\\software\\verne\\results\\f_params\\loc_XENON\\v0_230\\vesc_544\\rho_0.400\\sig_-44.2_mx_2.32_avg.csv, d:\\google_drive\\phd-master\\ubuntu-storage\\ubuntu-windows\\software\\verne\\results\\f_params\\loc_XENON\\v0_230\\vesc_544\\rho_0.400\\sig_-44.2_mx_2.32_avg-HDESKTOP-F4PI41P-P4336.csv was created\n",
      "  warn(f'load_f:\\twhile writing {file_name}, '\n"
     ]
    },
    {
     "name": "stdout",
     "output_type": "stream",
     "text": [
      "    Calculating Form Factor corrections for m_x =  154.8281438953905  GeV...\n",
      "    Calculating for gamma/pi =  0.0 ...\n",
      "        Calculating maximum final speed...\n",
      "        Calculating final speed distribution...\n",
      "    Calculating for gamma/pi =  0.3333333333333333 ...\n",
      "        Calculating maximum final speed...\n",
      "        Calculating final speed distribution...\n",
      "    Calculating for gamma/pi =  0.6666666666666666 ...\n",
      "        Calculating maximum final speed...\n",
      "        Calculating final speed distribution...\n",
      "    Calculating for gamma/pi =  1.0 ...\n",
      "        Calculating maximum final speed...\n",
      "        Calculating final speed distribution...\n",
      "saving at d:\\google_drive\\phd-master\\ubuntu-storage\\ubuntu-windows\\software\\verne\\results\\f_params\\loc_XENON\\v0_230\\vesc_544\\rho_0.400\\sig_-45.1_mx_2.19_avg-HDESKTOP-F4PI41P-P4336.csv\n",
      "Dataframe written successfully\n",
      "Wall time: 6min 9s\n"
     ]
    },
    {
     "name": "stderr",
     "output_type": "stream",
     "text": [
      "d:\\google_drive\\phd-master\\ubuntu-storage\\ubuntu-windows\\software\\directdmtargets\\DirectDmTargets\\halo.py:283: UserWarning: load_f:\twhile writing d:\\google_drive\\phd-master\\ubuntu-storage\\ubuntu-windows\\software\\verne\\results\\f_params\\loc_XENON\\v0_230\\vesc_544\\rho_0.400\\sig_-45.1_mx_2.19_avg.csv, d:\\google_drive\\phd-master\\ubuntu-storage\\ubuntu-windows\\software\\verne\\results\\f_params\\loc_XENON\\v0_230\\vesc_544\\rho_0.400\\sig_-45.1_mx_2.19_avg-HDESKTOP-F4PI41P-P4336.csv was created\n",
      "  warn(f'load_f:\\twhile writing {file_name}, '\n",
      "C:\\Users\\joran\\Anaconda3\\envs\\dddm\\lib\\site-packages\\nestle.py:206: RuntimeWarning: divide by zero encountered in double_scalars\n",
      "  cov = wsum / (wsum**2 - w2sum) * np.einsum('i,ij,ik', weights, dx, dx)\n"
     ]
    }
   ],
   "source": [
    "%%time\n",
    "test_nested_simple_nestle_earth_shielding(0.9)"
   ]
  },
  {
   "cell_type": "code",
   "execution_count": 9,
   "id": "mathematical-failing",
   "metadata": {},
   "outputs": [
    {
     "name": "stderr",
     "output_type": "stream",
     "text": [
      "run_nestle::\tstart_fit for 2 parameters\n"
     ]
    },
    {
     "name": "stdout",
     "output_type": "stream",
     "text": [
      "Fitting for parameters:\n",
      "['log_mass', 'log_cross_section']\n"
     ]
    },
    {
     "name": "stderr",
     "output_type": "stream",
     "text": [
      "C:\\Users\\joran\\Anaconda3\\envs\\dddm\\lib\\site-packages\\nestle.py:840: UserWarning: You really want to make npoints >= 2 * ndim!\n",
      "  warnings.warn(\"You really want to make npoints >= 2 * ndim!\")\n"
     ]
    },
    {
     "name": "stdout",
     "output_type": "stream",
     "text": [
      "   \n",
      "    Calculating for...\n",
      "        m_x/GeV: 35.57669629553764\n",
      "        sigma_p/cm^2: 1.0488472247932777e-45\n",
      "        detector at : XENON\n",
      "        considering 4 angles\n",
      " \n",
      "    Loading isotope data and density profiles...\n",
      "    Calculating Form Factor corrections for m_x =  35.57669629553764  GeV...\n",
      "    Calculating for gamma/pi =  0.0 ...\n",
      "        Calculating maximum final speed...\n",
      "        Calculating final speed distribution...\n",
      "    Calculating for gamma/pi =  0.3333333333333333 ...\n",
      "        Calculating maximum final speed...\n",
      "        Calculating final speed distribution...\n",
      "    Calculating for gamma/pi =  0.6666666666666666 ...\n",
      "        Calculating maximum final speed...\n",
      "        Calculating final speed distribution...\n",
      "    Calculating for gamma/pi =  1.0 ...\n",
      "        Calculating maximum final speed...\n",
      "        Calculating final speed distribution...\n",
      "saving at d:\\google_drive\\phd-master\\ubuntu-storage\\ubuntu-windows\\software\\verne\\results\\f_params\\loc_XENON\\v0_230\\vesc_544\\rho_0.400\\sig_-45.0_mx_1.55_avg-HDESKTOP-F4PI41P-P4336.csv\n",
      "Dataframe written successfully\n",
      "   \n",
      "    Calculating for...\n",
      "        m_x/GeV: 8.82919193766297\n",
      "        sigma_p/cm^2: 7.78526574142985e-44\n",
      "        detector at : XENON\n",
      "        considering 4 angles\n",
      " \n",
      "    Loading isotope data and density profiles...\n",
      "    Calculating Form Factor corrections for m_x =  8.82919193766297  GeV...\n"
     ]
    },
    {
     "name": "stderr",
     "output_type": "stream",
     "text": [
      "d:\\google_drive\\phd-master\\ubuntu-storage\\ubuntu-windows\\software\\directdmtargets\\DirectDmTargets\\halo.py:283: UserWarning: load_f:\twhile writing d:\\google_drive\\phd-master\\ubuntu-storage\\ubuntu-windows\\software\\verne\\results\\f_params\\loc_XENON\\v0_230\\vesc_544\\rho_0.400\\sig_-45.0_mx_1.55_avg.csv, d:\\google_drive\\phd-master\\ubuntu-storage\\ubuntu-windows\\software\\verne\\results\\f_params\\loc_XENON\\v0_230\\vesc_544\\rho_0.400\\sig_-45.0_mx_1.55_avg-HDESKTOP-F4PI41P-P4336.csv was created\n",
      "  warn(f'load_f:\\twhile writing {file_name}, '\n"
     ]
    },
    {
     "name": "stdout",
     "output_type": "stream",
     "text": [
      "    Calculating for gamma/pi =  0.0 ...\n",
      "        Calculating maximum final speed...\n",
      "        Calculating final speed distribution...\n",
      "    Calculating for gamma/pi =  0.3333333333333333 ...\n",
      "        Calculating maximum final speed...\n",
      "        Calculating final speed distribution...\n",
      "    Calculating for gamma/pi =  0.6666666666666666 ...\n",
      "        Calculating maximum final speed...\n",
      "        Calculating final speed distribution...\n",
      "    Calculating for gamma/pi =  1.0 ...\n",
      "        Calculating maximum final speed...\n",
      "        Calculating final speed distribution...\n",
      "saving at d:\\google_drive\\phd-master\\ubuntu-storage\\ubuntu-windows\\software\\verne\\results\\f_params\\loc_XENON\\v0_230\\vesc_544\\rho_0.400\\sig_-43.1_mx_0.95_avg-HDESKTOP-F4PI41P-P4336.csv\n",
      "Dataframe written successfully\n",
      "   \n",
      "    Calculating for...\n",
      "        m_x/GeV: 3.4818722644107982\n",
      "        sigma_p/cm^2: 5.877085603289447e-45\n",
      "        detector at : XENON\n",
      "        considering 4 angles\n",
      " \n",
      "    Loading isotope data and density profiles...\n",
      "    Calculating Form Factor corrections for m_x =  3.4818722644107982  GeV...\n"
     ]
    },
    {
     "name": "stderr",
     "output_type": "stream",
     "text": [
      "d:\\google_drive\\phd-master\\ubuntu-storage\\ubuntu-windows\\software\\directdmtargets\\DirectDmTargets\\halo.py:283: UserWarning: load_f:\twhile writing d:\\google_drive\\phd-master\\ubuntu-storage\\ubuntu-windows\\software\\verne\\results\\f_params\\loc_XENON\\v0_230\\vesc_544\\rho_0.400\\sig_-43.1_mx_0.95_avg.csv, d:\\google_drive\\phd-master\\ubuntu-storage\\ubuntu-windows\\software\\verne\\results\\f_params\\loc_XENON\\v0_230\\vesc_544\\rho_0.400\\sig_-43.1_mx_0.95_avg-HDESKTOP-F4PI41P-P4336.csv was created\n",
      "  warn(f'load_f:\\twhile writing {file_name}, '\n"
     ]
    },
    {
     "name": "stdout",
     "output_type": "stream",
     "text": [
      "    Calculating for gamma/pi =  0.0 ...\n",
      "        Calculating maximum final speed...\n",
      "        Calculating final speed distribution...\n",
      "    Calculating for gamma/pi =  0.3333333333333333 ...\n",
      "        Calculating maximum final speed...\n",
      "        Calculating final speed distribution...\n",
      "    Calculating for gamma/pi =  0.6666666666666666 ...\n",
      "        Calculating maximum final speed...\n",
      "        Calculating final speed distribution...\n",
      "    Calculating for gamma/pi =  1.0 ...\n",
      "        Calculating maximum final speed...\n",
      "        Calculating final speed distribution...\n",
      "saving at d:\\google_drive\\phd-master\\ubuntu-storage\\ubuntu-windows\\software\\verne\\results\\f_params\\loc_XENON\\v0_230\\vesc_544\\rho_0.400\\sig_-44.2_mx_0.54_avg-HDESKTOP-F4PI41P-P4336.csv\n",
      "Dataframe written successfully\n",
      "Wall time: 1min 38s\n"
     ]
    },
    {
     "name": "stderr",
     "output_type": "stream",
     "text": [
      "d:\\google_drive\\phd-master\\ubuntu-storage\\ubuntu-windows\\software\\directdmtargets\\DirectDmTargets\\halo.py:283: UserWarning: load_f:\twhile writing d:\\google_drive\\phd-master\\ubuntu-storage\\ubuntu-windows\\software\\verne\\results\\f_params\\loc_XENON\\v0_230\\vesc_544\\rho_0.400\\sig_-44.2_mx_0.54_avg.csv, d:\\google_drive\\phd-master\\ubuntu-storage\\ubuntu-windows\\software\\verne\\results\\f_params\\loc_XENON\\v0_230\\vesc_544\\rho_0.400\\sig_-44.2_mx_0.54_avg-HDESKTOP-F4PI41P-P4336.csv was created\n",
      "  warn(f'load_f:\\twhile writing {file_name}, '\n",
      "C:\\Users\\joran\\Anaconda3\\envs\\dddm\\lib\\site-packages\\nestle.py:206: RuntimeWarning: divide by zero encountered in double_scalars\n",
      "  cov = wsum / (wsum**2 - w2sum) * np.einsum('i,ij,ik', weights, dx, dx)\n",
      "C:\\Users\\joran\\Anaconda3\\envs\\dddm\\lib\\site-packages\\nestle.py:206: RuntimeWarning: invalid value encountered in multiply\n",
      "  cov = wsum / (wsum**2 - w2sum) * np.einsum('i,ij,ik', weights, dx, dx)\n"
     ]
    }
   ],
   "source": [
    "%%time\n",
    "test_nested_simple_nestle_earth_shielding(0.1)"
   ]
  },
  {
   "cell_type": "code",
   "execution_count": 10,
   "id": "bulgarian-stuart",
   "metadata": {},
   "outputs": [
    {
     "name": "stderr",
     "output_type": "stream",
     "text": [
      "run_nestle::\tstart_fit for 2 parameters\n"
     ]
    },
    {
     "name": "stdout",
     "output_type": "stream",
     "text": [
      "Fitting for parameters:\n",
      "['log_mass', 'log_cross_section']\n"
     ]
    },
    {
     "name": "stderr",
     "output_type": "stream",
     "text": [
      "C:\\Users\\joran\\Anaconda3\\envs\\dddm\\lib\\site-packages\\nestle.py:840: UserWarning: You really want to make npoints >= 2 * ndim!\n",
      "  warnings.warn(\"You really want to make npoints >= 2 * ndim!\")\n"
     ]
    },
    {
     "name": "stdout",
     "output_type": "stream",
     "text": [
      "   \n",
      "    Calculating for...\n",
      "        m_x/GeV: 173.85973432014768\n",
      "        sigma_p/cm^2: 3.0894539965256095e-43\n",
      "        detector at : XENON\n",
      "        considering 4 angles\n",
      " \n",
      "    Loading isotope data and density profiles...\n",
      "    Calculating Form Factor corrections for m_x =  173.85973432014768  GeV...\n",
      "    Calculating for gamma/pi =  0.0 ...\n",
      "        Calculating maximum final speed...\n",
      "        Calculating final speed distribution...\n",
      "    Calculating for gamma/pi =  0.3333333333333333 ...\n",
      "        Calculating maximum final speed...\n",
      "        Calculating final speed distribution...\n",
      "    Calculating for gamma/pi =  0.6666666666666666 ...\n",
      "        Calculating maximum final speed...\n",
      "        Calculating final speed distribution...\n",
      "    Calculating for gamma/pi =  1.0 ...\n",
      "        Calculating maximum final speed...\n",
      "        Calculating final speed distribution...\n",
      "saving at d:\\google_drive\\phd-master\\ubuntu-storage\\ubuntu-windows\\software\\verne\\results\\f_params\\loc_XENON\\v0_230\\vesc_544\\rho_0.400\\sig_-42.5_mx_2.24_avg-HDESKTOP-F4PI41P-P4336.csv\n",
      "Dataframe written successfully\n",
      "   \n",
      "    Calculating for...\n",
      "        m_x/GeV: 26.185549358528032\n",
      "        sigma_p/cm^2: 1.588251103043882e-44\n",
      "        detector at : XENON\n",
      "        considering 4 angles\n"
     ]
    },
    {
     "name": "stderr",
     "output_type": "stream",
     "text": [
      "d:\\google_drive\\phd-master\\ubuntu-storage\\ubuntu-windows\\software\\directdmtargets\\DirectDmTargets\\halo.py:283: UserWarning: load_f:\twhile writing d:\\google_drive\\phd-master\\ubuntu-storage\\ubuntu-windows\\software\\verne\\results\\f_params\\loc_XENON\\v0_230\\vesc_544\\rho_0.400\\sig_-42.5_mx_2.24_avg.csv, d:\\google_drive\\phd-master\\ubuntu-storage\\ubuntu-windows\\software\\verne\\results\\f_params\\loc_XENON\\v0_230\\vesc_544\\rho_0.400\\sig_-42.5_mx_2.24_avg-HDESKTOP-F4PI41P-P4336.csv was created\n",
      "  warn(f'load_f:\\twhile writing {file_name}, '\n"
     ]
    },
    {
     "name": "stdout",
     "output_type": "stream",
     "text": [
      " \n",
      "    Loading isotope data and density profiles...\n",
      "    Calculating Form Factor corrections for m_x =  26.185549358528032  GeV...\n",
      "    Calculating for gamma/pi =  0.0 ...\n",
      "        Calculating maximum final speed...\n",
      "        Calculating final speed distribution...\n",
      "    Calculating for gamma/pi =  0.3333333333333333 ...\n",
      "        Calculating maximum final speed...\n",
      "        Calculating final speed distribution...\n",
      "    Calculating for gamma/pi =  0.6666666666666666 ...\n",
      "        Calculating maximum final speed...\n",
      "        Calculating final speed distribution...\n",
      "    Calculating for gamma/pi =  1.0 ...\n",
      "        Calculating maximum final speed...\n",
      "        Calculating final speed distribution...\n",
      "saving at d:\\google_drive\\phd-master\\ubuntu-storage\\ubuntu-windows\\software\\verne\\results\\f_params\\loc_XENON\\v0_230\\vesc_544\\rho_0.400\\sig_-43.8_mx_1.42_avg-HDESKTOP-F4PI41P-P4336.csv\n",
      "Dataframe written successfully\n",
      "   \n",
      "    Calculating for...\n",
      "        m_x/GeV: 829.2475774979167\n",
      "        sigma_p/cm^2: 3.1543776551588157e-46\n",
      "        detector at : XENON\n",
      "        considering 4 angles\n",
      " "
     ]
    },
    {
     "name": "stderr",
     "output_type": "stream",
     "text": [
      "d:\\google_drive\\phd-master\\ubuntu-storage\\ubuntu-windows\\software\\directdmtargets\\DirectDmTargets\\halo.py:283: UserWarning: load_f:\twhile writing d:\\google_drive\\phd-master\\ubuntu-storage\\ubuntu-windows\\software\\verne\\results\\f_params\\loc_XENON\\v0_230\\vesc_544\\rho_0.400\\sig_-43.8_mx_1.42_avg.csv, d:\\google_drive\\phd-master\\ubuntu-storage\\ubuntu-windows\\software\\verne\\results\\f_params\\loc_XENON\\v0_230\\vesc_544\\rho_0.400\\sig_-43.8_mx_1.42_avg-HDESKTOP-F4PI41P-P4336.csv was created\n",
      "  warn(f'load_f:\\twhile writing {file_name}, '\n"
     ]
    },
    {
     "name": "stdout",
     "output_type": "stream",
     "text": [
      "\n",
      "    Loading isotope data and density profiles...\n",
      "    Calculating Form Factor corrections for m_x =  829.2475774979167  GeV...\n",
      "    Calculating for gamma/pi =  0.0 ...\n",
      "        Calculating maximum final speed...\n",
      "        Calculating final speed distribution...\n",
      "    Calculating for gamma/pi =  0.3333333333333333 ...\n",
      "        Calculating maximum final speed...\n",
      "        Calculating final speed distribution...\n",
      "    Calculating for gamma/pi =  0.6666666666666666 ...\n",
      "        Calculating maximum final speed...\n",
      "        Calculating final speed distribution...\n",
      "    Calculating for gamma/pi =  1.0 ...\n",
      "        Calculating maximum final speed...\n",
      "        Calculating final speed distribution...\n",
      "saving at d:\\google_drive\\phd-master\\ubuntu-storage\\ubuntu-windows\\software\\verne\\results\\f_params\\loc_XENON\\v0_230\\vesc_544\\rho_0.400\\sig_-45.5_mx_2.92_avg-HDESKTOP-F4PI41P-P4336.csv\n",
      "Dataframe written successfully\n",
      "   \n",
      "    Calculating for...\n",
      "        m_x/GeV: 4.008666401375712\n",
      "        sigma_p/cm^2: 1.143011439172823e-43\n",
      "        detector at :"
     ]
    },
    {
     "name": "stderr",
     "output_type": "stream",
     "text": [
      "d:\\google_drive\\phd-master\\ubuntu-storage\\ubuntu-windows\\software\\directdmtargets\\DirectDmTargets\\halo.py:283: UserWarning: load_f:\twhile writing d:\\google_drive\\phd-master\\ubuntu-storage\\ubuntu-windows\\software\\verne\\results\\f_params\\loc_XENON\\v0_230\\vesc_544\\rho_0.400\\sig_-45.5_mx_2.92_avg.csv, d:\\google_drive\\phd-master\\ubuntu-storage\\ubuntu-windows\\software\\verne\\results\\f_params\\loc_XENON\\v0_230\\vesc_544\\rho_0.400\\sig_-45.5_mx_2.92_avg-HDESKTOP-F4PI41P-P4336.csv was created\n",
      "  warn(f'load_f:\\twhile writing {file_name}, '\n"
     ]
    },
    {
     "name": "stdout",
     "output_type": "stream",
     "text": [
      " XENON\n",
      "        considering 4 angles\n",
      " \n",
      "    Loading isotope data and density profiles...\n",
      "    Calculating Form Factor corrections for m_x =  4.008666401375712  GeV...\n",
      "    Calculating for gamma/pi =  0.0 ...\n",
      "        Calculating maximum final speed...\n",
      "        Calculating final speed distribution...\n",
      "    Calculating for gamma/pi =  0.3333333333333333 ...\n",
      "        Calculating maximum final speed...\n",
      "        Calculating final speed distribution...\n",
      "    Calculating for gamma/pi =  0.6666666666666666 ...\n",
      "        Calculating maximum final speed...\n",
      "        Calculating final speed distribution...\n",
      "    Calculating for gamma/pi =  1.0 ...\n",
      "        Calculating maximum final speed...\n",
      "        Calculating final speed distribution...\n",
      "saving at d:\\google_drive\\phd-master\\ubuntu-storage\\ubuntu-windows\\software\\verne\\results\\f_params\\loc_XENON\\v0_230\\vesc_544\\rho_0.400\\sig_-42.9_mx_0.60_avg-HDESKTOP-F4PI41P-P4336.csv\n",
      "Dataframe written successfully\n",
      "   \n",
      "    Calculating for...\n",
      "        m_x/GeV: 98.2039675189224\n",
      "        sigma_p/cm^2: 1.770601957442064e-45\n",
      "        detector at : XENON\n",
      "        considering 4 angles\n",
      " \n",
      "    Loading isotope data and density profiles...\n",
      "    Calculating Form Factor corrections for m_x =  98.2039675189224  GeV...\n"
     ]
    },
    {
     "name": "stderr",
     "output_type": "stream",
     "text": [
      "d:\\google_drive\\phd-master\\ubuntu-storage\\ubuntu-windows\\software\\directdmtargets\\DirectDmTargets\\halo.py:283: UserWarning: load_f:\twhile writing d:\\google_drive\\phd-master\\ubuntu-storage\\ubuntu-windows\\software\\verne\\results\\f_params\\loc_XENON\\v0_230\\vesc_544\\rho_0.400\\sig_-42.9_mx_0.60_avg.csv, d:\\google_drive\\phd-master\\ubuntu-storage\\ubuntu-windows\\software\\verne\\results\\f_params\\loc_XENON\\v0_230\\vesc_544\\rho_0.400\\sig_-42.9_mx_0.60_avg-HDESKTOP-F4PI41P-P4336.csv was created\n",
      "  warn(f'load_f:\\twhile writing {file_name}, '\n"
     ]
    },
    {
     "name": "stdout",
     "output_type": "stream",
     "text": [
      "    Calculating for gamma/pi =  0.0 ...\n",
      "        Calculating maximum final speed...\n",
      "        Calculating final speed distribution...\n",
      "    Calculating for gamma/pi =  0.3333333333333333 ...\n",
      "        Calculating maximum final speed...\n",
      "        Calculating final speed distribution...\n",
      "    Calculating for gamma/pi =  0.6666666666666666 ...\n",
      "        Calculating maximum final speed...\n",
      "        Calculating final speed distribution...\n",
      "    Calculating for gamma/pi =  1.0 ...\n",
      "        Calculating maximum final speed...\n",
      "        Calculating final speed distribution...\n",
      "saving at d:\\google_drive\\phd-master\\ubuntu-storage\\ubuntu-windows\\software\\verne\\results\\f_params\\loc_XENON\\v0_230\\vesc_544\\rho_0.400\\sig_-44.8_mx_1.99_avg-HDESKTOP-F4PI41P-P4336.csv\n",
      "Dataframe written successfully\n",
      "   \n",
      "    Calculating for...\n",
      "        m_x/GeV: 275.4595699669324\n",
      "        sigma_p/cm^2: 2.3097337758842654e-46\n",
      "        detector at : XENON\n",
      "        considering 4 angles\n",
      " \n",
      "    Loading isotope data and density profiles...\n",
      "    Calculating Form Factor corrections for m_x =  275.4595699669324  GeV...\n"
     ]
    },
    {
     "name": "stderr",
     "output_type": "stream",
     "text": [
      "d:\\google_drive\\phd-master\\ubuntu-storage\\ubuntu-windows\\software\\directdmtargets\\DirectDmTargets\\halo.py:283: UserWarning: load_f:\twhile writing d:\\google_drive\\phd-master\\ubuntu-storage\\ubuntu-windows\\software\\verne\\results\\f_params\\loc_XENON\\v0_230\\vesc_544\\rho_0.400\\sig_-44.8_mx_1.99_avg.csv, d:\\google_drive\\phd-master\\ubuntu-storage\\ubuntu-windows\\software\\verne\\results\\f_params\\loc_XENON\\v0_230\\vesc_544\\rho_0.400\\sig_-44.8_mx_1.99_avg-HDESKTOP-F4PI41P-P4336.csv was created\n",
      "  warn(f'load_f:\\twhile writing {file_name}, '\n"
     ]
    },
    {
     "name": "stdout",
     "output_type": "stream",
     "text": [
      "    Calculating for gamma/pi =  0.0 ...\n",
      "        Calculating maximum final speed...\n",
      "        Calculating final speed distribution...\n",
      "    Calculating for gamma/pi =  0.3333333333333333 ...\n",
      "        Calculating maximum final speed...\n",
      "        Calculating final speed distribution...\n",
      "    Calculating for gamma/pi =  0.6666666666666666 ...\n",
      "        Calculating maximum final speed...\n",
      "        Calculating final speed distribution...\n",
      "    Calculating for gamma/pi =  1.0 ...\n",
      "        Calculating maximum final speed...\n",
      "        Calculating final speed distribution...\n",
      "saving at d:\\google_drive\\phd-master\\ubuntu-storage\\ubuntu-windows\\software\\verne\\results\\f_params\\loc_XENON\\v0_230\\vesc_544\\rho_0.400\\sig_-45.6_mx_2.44_avg-HDESKTOP-F4PI41P-P4336.csv\n",
      "Dataframe written successfully\n",
      "Wall time: 3min 40s\n"
     ]
    },
    {
     "name": "stderr",
     "output_type": "stream",
     "text": [
      "d:\\google_drive\\phd-master\\ubuntu-storage\\ubuntu-windows\\software\\directdmtargets\\DirectDmTargets\\halo.py:283: UserWarning: load_f:\twhile writing d:\\google_drive\\phd-master\\ubuntu-storage\\ubuntu-windows\\software\\verne\\results\\f_params\\loc_XENON\\v0_230\\vesc_544\\rho_0.400\\sig_-45.6_mx_2.44_avg.csv, d:\\google_drive\\phd-master\\ubuntu-storage\\ubuntu-windows\\software\\verne\\results\\f_params\\loc_XENON\\v0_230\\vesc_544\\rho_0.400\\sig_-45.6_mx_2.44_avg-HDESKTOP-F4PI41P-P4336.csv was created\n",
      "  warn(f'load_f:\\twhile writing {file_name}, '\n",
      "C:\\Users\\joran\\Anaconda3\\envs\\dddm\\lib\\site-packages\\nestle.py:206: RuntimeWarning: divide by zero encountered in double_scalars\n",
      "  cov = wsum / (wsum**2 - w2sum) * np.einsum('i,ij,ik', weights, dx, dx)\n"
     ]
    }
   ],
   "source": [
    "%%time\n",
    "test_nested_simple_nestle_earth_shielding(0.99999)"
   ]
  },
  {
   "cell_type": "code",
   "execution_count": 11,
   "id": "expected-flooring",
   "metadata": {},
   "outputs": [],
   "source": [
    "import test_multinest_shielded as n2"
   ]
  },
  {
   "cell_type": "code",
   "execution_count": 12,
   "id": "young-accommodation",
   "metadata": {},
   "outputs": [
    {
     "name": "stdout",
     "output_type": "stream",
     "text": [
      "Wall time: 0 ns\n"
     ]
    }
   ],
   "source": [
    "%%time\n",
    "n2.test_nested_simple_multinest_earth_shielding()"
   ]
  },
  {
   "cell_type": "code",
   "execution_count": 13,
   "id": "twelve-raising",
   "metadata": {},
   "outputs": [
    {
     "ename": "ValueError",
     "evalue": "invalid literal for int() with base 10: 'a'",
     "output_type": "error",
     "traceback": [
      "\u001b[1;31m---------------------------------------------------------------------------\u001b[0m",
      "\u001b[1;31mValueError\u001b[0m                                Traceback (most recent call last)",
      "\u001b[1;32m<ipython-input-13-233884bacd4e>\u001b[0m in \u001b[0;36m<module>\u001b[1;34m\u001b[0m\n\u001b[1;32m----> 1\u001b[1;33m \u001b[0mint\u001b[0m\u001b[1;33m(\u001b[0m\u001b[1;34m'a'\u001b[0m\u001b[1;33m)\u001b[0m\u001b[1;33m\u001b[0m\u001b[1;33m\u001b[0m\u001b[0m\n\u001b[0m",
      "\u001b[1;31mValueError\u001b[0m: invalid literal for int() with base 10: 'a'"
     ]
    }
   ],
   "source": [
    "int('a')"
   ]
  },
  {
   "cell_type": "code",
   "execution_count": 14,
   "id": "actual-rochester",
   "metadata": {},
   "outputs": [
    {
     "ename": "ValueError",
     "evalue": "max() arg is an empty sequence",
     "output_type": "error",
     "traceback": [
      "\u001b[1;31m---------------------------------------------------------------------------\u001b[0m",
      "\u001b[1;31mValueError\u001b[0m                                Traceback (most recent call last)",
      "\u001b[1;32m<ipython-input-14-a48d8f8c12de>\u001b[0m in \u001b[0;36m<module>\u001b[1;34m\u001b[0m\n\u001b[1;32m----> 1\u001b[1;33m \u001b[0mmax\u001b[0m\u001b[1;33m(\u001b[0m\u001b[1;33m[\u001b[0m\u001b[1;33m]\u001b[0m\u001b[1;33m)\u001b[0m\u001b[1;33m\u001b[0m\u001b[1;33m\u001b[0m\u001b[0m\n\u001b[0m",
      "\u001b[1;31mValueError\u001b[0m: max() arg is an empty sequence"
     ]
    }
   ],
   "source": [
    "max([])"
   ]
  },
  {
   "cell_type": "code",
   "execution_count": null,
   "id": "vocal-bidder",
   "metadata": {},
   "outputs": [],
   "source": []
  }
 ],
 "metadata": {
  "kernelspec": {
   "display_name": "Python 3",
   "language": "python",
   "name": "python3"
  },
  "language_info": {
   "codemirror_mode": {
    "name": "ipython",
    "version": 3
   },
   "file_extension": ".py",
   "mimetype": "text/x-python",
   "name": "python",
   "nbconvert_exporter": "python",
   "pygments_lexer": "ipython3",
   "version": "3.8.5"
  }
 },
 "nbformat": 4,
 "nbformat_minor": 5
}
